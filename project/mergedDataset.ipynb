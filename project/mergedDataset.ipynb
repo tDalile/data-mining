{
 "cells": [
  {
   "source": [
    "# Data Preparation\n",
    "## Merge Datasets"
   ],
   "cell_type": "markdown",
   "metadata": {
    "collapsed": true
   }
  },
  {
   "cell_type": "code",
   "execution_count": 384,
   "metadata": {},
   "outputs": [],
   "source": [
    "# import libraries and adjust settings\n",
    "from datetime import date\n",
    "import pandas as pd\n",
    "import matplotlib.pyplot as plt\n",
    "import numpy as np\n",
    "\n",
    "# set pyplot style\n",
    "plt.style.use('fivethirtyeight') \n",
    "\n",
    "# Render our plots inline\n",
    "%matplotlib inline\n",
    "\n",
    "# set figure size\n",
    "plt.rcParams['figure.figsize'] = (15, 8)\n",
    "\n",
    "# load datasets\n",
    "inPath = r'data/'\n",
    "df_CPI = pd.read_csv(inPath+'preprocessed/exp_CountriesCPI.csv')\n",
    "df_COVID = pd.read_csv(inPath+'preprocessed/exp_keyCountriesCovid.csv')\n",
    "df_UNEMPLOYMENT = pd.read_csv(inPath+'preprocessed/exp_keyCountriesUnemployment.csv')\n",
    "df_GDP = pd.read_csv(inPath+'preprocessed/exp_worldGDP.csv')\n",
    "df_REF = pd.read_csv(inPath+'covid/reference.csv')\n"
   ]
  },
  {
   "source": [
    "### Previewing imported datasets"
   ],
   "cell_type": "markdown",
   "metadata": {}
  },
  {
   "cell_type": "code",
   "execution_count": 385,
   "metadata": {},
   "outputs": [
    {
     "output_type": "execute_result",
     "data": {
      "text/plain": [
       "   Year    Months import_prices_index Change on previous month in(%)  \\\n",
       "0  2019   January               102.2                           -0.2   \n",
       "1  2019  February               102.5                            0.3   \n",
       "2  2019     March               102.5                              -   \n",
       "3  2019     April               102.8                            0.3   \n",
       "4  2019       May               102.7                           -0.1   \n",
       "\n",
       "  Change on previous year's month in(%) export_prices_index  \\\n",
       "0                                   0.8               102.2   \n",
       "1                                   1.6               102.3   \n",
       "2                                   1.7               102.4   \n",
       "3                                   1.4               102.6   \n",
       "4                                  -0.2               102.5   \n",
       "\n",
       "  Change on previous month in(%).1 Change on previous year's month in(%).1  \\\n",
       "0                              0.1                                     1.1   \n",
       "1                              0.1                                     1.3   \n",
       "2                              0.1                                     1.3   \n",
       "3                              0.2                                     1.3   \n",
       "4                             -0.1                                     0.7   \n",
       "\n",
       "   Consumer price index Change on previous year's month in(%).2  \\\n",
       "0                 103.4                                     1.4   \n",
       "1                 103.8                                     1.5   \n",
       "2                 104.2                                     1.3   \n",
       "3                 105.2                                       2   \n",
       "4                 105.4                                     1.4   \n",
       "\n",
       "  Change on previous month in(%).2  \n",
       "0                             -0.8  \n",
       "1                              0.4  \n",
       "2                              0.4  \n",
       "3                                1  \n",
       "4                              0.2  "
      ],
      "text/html": "<div>\n<style scoped>\n    .dataframe tbody tr th:only-of-type {\n        vertical-align: middle;\n    }\n\n    .dataframe tbody tr th {\n        vertical-align: top;\n    }\n\n    .dataframe thead th {\n        text-align: right;\n    }\n</style>\n<table border=\"1\" class=\"dataframe\">\n  <thead>\n    <tr style=\"text-align: right;\">\n      <th></th>\n      <th>Year</th>\n      <th>Months</th>\n      <th>import_prices_index</th>\n      <th>Change on previous month in(%)</th>\n      <th>Change on previous year's month in(%)</th>\n      <th>export_prices_index</th>\n      <th>Change on previous month in(%).1</th>\n      <th>Change on previous year's month in(%).1</th>\n      <th>Consumer price index</th>\n      <th>Change on previous year's month in(%).2</th>\n      <th>Change on previous month in(%).2</th>\n    </tr>\n  </thead>\n  <tbody>\n    <tr>\n      <th>0</th>\n      <td>2019</td>\n      <td>January</td>\n      <td>102.2</td>\n      <td>-0.2</td>\n      <td>0.8</td>\n      <td>102.2</td>\n      <td>0.1</td>\n      <td>1.1</td>\n      <td>103.4</td>\n      <td>1.4</td>\n      <td>-0.8</td>\n    </tr>\n    <tr>\n      <th>1</th>\n      <td>2019</td>\n      <td>February</td>\n      <td>102.5</td>\n      <td>0.3</td>\n      <td>1.6</td>\n      <td>102.3</td>\n      <td>0.1</td>\n      <td>1.3</td>\n      <td>103.8</td>\n      <td>1.5</td>\n      <td>0.4</td>\n    </tr>\n    <tr>\n      <th>2</th>\n      <td>2019</td>\n      <td>March</td>\n      <td>102.5</td>\n      <td>-</td>\n      <td>1.7</td>\n      <td>102.4</td>\n      <td>0.1</td>\n      <td>1.3</td>\n      <td>104.2</td>\n      <td>1.3</td>\n      <td>0.4</td>\n    </tr>\n    <tr>\n      <th>3</th>\n      <td>2019</td>\n      <td>April</td>\n      <td>102.8</td>\n      <td>0.3</td>\n      <td>1.4</td>\n      <td>102.6</td>\n      <td>0.2</td>\n      <td>1.3</td>\n      <td>105.2</td>\n      <td>2</td>\n      <td>1</td>\n    </tr>\n    <tr>\n      <th>4</th>\n      <td>2019</td>\n      <td>May</td>\n      <td>102.7</td>\n      <td>-0.1</td>\n      <td>-0.2</td>\n      <td>102.5</td>\n      <td>-0.1</td>\n      <td>0.7</td>\n      <td>105.4</td>\n      <td>1.4</td>\n      <td>0.2</td>\n    </tr>\n  </tbody>\n</table>\n</div>"
     },
     "metadata": {},
     "execution_count": 385
    }
   ],
   "source": [
    "# Note: Just Germany\n",
    "df_CPI.head()"
   ]
  },
  {
   "cell_type": "code",
   "execution_count": 386,
   "metadata": {},
   "outputs": [
    {
     "output_type": "stream",
     "name": "stdout",
     "text": [
      "<class 'pandas.core.frame.DataFrame'>\nRangeIndex: 72 entries, 0 to 71\nData columns (total 6 columns):\n #   Column                  Non-Null Count  Dtype  \n---  ------                  --------------  -----  \n 0   year                    72 non-null     int64  \n 1   location                72 non-null     object \n 2   month                   72 non-null     int64  \n 3   Monthly_new_cases       72 non-null     float64\n 4   Percentage Growth Rate  71 non-null     float64\n 5   PG_Rate                 71 non-null     float64\ndtypes: float64(3), int64(2), object(1)\nmemory usage: 3.5+ KB\n"
     ]
    }
   ],
   "source": [
    "df_COVID.info()"
   ]
  },
  {
   "cell_type": "code",
   "execution_count": 387,
   "metadata": {},
   "outputs": [
    {
     "output_type": "stream",
     "name": "stdout",
     "text": [
      "<class 'pandas.core.frame.DataFrame'>\nRangeIndex: 72 entries, 0 to 71\nData columns (total 3 columns):\n #   Column                     Non-Null Count  Dtype  \n---  ------                     --------------  -----  \n 0   Month                      72 non-null     int64  \n 1   Country                    72 non-null     object \n 2   Unemployment_Rate_Percent  67 non-null     float64\ndtypes: float64(1), int64(1), object(1)\nmemory usage: 1.8+ KB\n"
     ]
    }
   ],
   "source": [
    "df_UNEMPLOYMENT.info()"
   ]
  },
  {
   "cell_type": "code",
   "execution_count": 388,
   "metadata": {},
   "outputs": [
    {
     "output_type": "execute_result",
     "data": {
      "text/plain": [
       "     TIME                                        GEO        GDP\n",
       "0  2010Q3  European Union - 27 countries (from 2020)  2737806.5\n",
       "1  2010Q3  European Union - 28 countries (2013-2020)  3219688.1\n",
       "2  2010Q3      Euro area - 19 countries  (from 2015)  2372179.6\n",
       "3  2010Q3                                    Belgium    88635.0\n",
       "4  2010Q3                                   Bulgaria    10342.2"
      ],
      "text/html": "<div>\n<style scoped>\n    .dataframe tbody tr th:only-of-type {\n        vertical-align: middle;\n    }\n\n    .dataframe tbody tr th {\n        vertical-align: top;\n    }\n\n    .dataframe thead th {\n        text-align: right;\n    }\n</style>\n<table border=\"1\" class=\"dataframe\">\n  <thead>\n    <tr style=\"text-align: right;\">\n      <th></th>\n      <th>TIME</th>\n      <th>GEO</th>\n      <th>GDP</th>\n    </tr>\n  </thead>\n  <tbody>\n    <tr>\n      <th>0</th>\n      <td>2010Q3</td>\n      <td>European Union - 27 countries (from 2020)</td>\n      <td>2737806.5</td>\n    </tr>\n    <tr>\n      <th>1</th>\n      <td>2010Q3</td>\n      <td>European Union - 28 countries (2013-2020)</td>\n      <td>3219688.1</td>\n    </tr>\n    <tr>\n      <th>2</th>\n      <td>2010Q3</td>\n      <td>Euro area - 19 countries  (from 2015)</td>\n      <td>2372179.6</td>\n    </tr>\n    <tr>\n      <th>3</th>\n      <td>2010Q3</td>\n      <td>Belgium</td>\n      <td>88635.0</td>\n    </tr>\n    <tr>\n      <th>4</th>\n      <td>2010Q3</td>\n      <td>Bulgaria</td>\n      <td>10342.2</td>\n    </tr>\n  </tbody>\n</table>\n</div>"
     },
     "metadata": {},
     "execution_count": 388
    }
   ],
   "source": [
    "df_GDP.head()"
   ]
  },
  {
   "source": [
    "### Merge: covid <--> unemployment"
   ],
   "cell_type": "markdown",
   "metadata": {}
  },
  {
   "cell_type": "code",
   "execution_count": 389,
   "metadata": {},
   "outputs": [
    {
     "output_type": "stream",
     "name": "stdout",
     "text": [
      "['China' 'Germany' 'India' 'Italy' 'United Kingdom' 'United States']\n",
      "['Germany' 'India' 'China' 'Italy' 'USA' 'UK']\n"
     ]
    },
    {
     "output_type": "execute_result",
     "data": {
      "text/plain": [
       "    year       location  month  Monthly_new_cases  Percentage Growth Rate  \\\n",
       "0   2020          China      1             9254.0                     NaN   \n",
       "1   2020          China      2            69554.0              651.610115   \n",
       "2   2020          China      3             2923.0              -95.797510   \n",
       "3   2020          China      4             1677.0              -42.627438   \n",
       "4   2020          China      5              190.0              -88.670244   \n",
       "..   ...            ...    ...                ...                     ...   \n",
       "67  2020  United States      8          1458899.0              -24.200596   \n",
       "68  2020  United States      9          1206247.0              -17.317991   \n",
       "69  2020  United States     10          1926777.0               59.733206   \n",
       "70  2020  United States     11          4496140.0              133.350305   \n",
       "71  2020  United States     12          6406076.0               42.479460   \n",
       "\n",
       "       PG_Rate  Unemployment_Rate_Percent  \n",
       "0          NaN                        5.3  \n",
       "1   651.610115                        6.2  \n",
       "2   -95.797510                        5.9  \n",
       "3   -42.627438                        6.0  \n",
       "4   -88.670244                        5.9  \n",
       "..         ...                        ...  \n",
       "67  -24.200596                        7.8  \n",
       "68  -17.317991                        6.9  \n",
       "69   59.733206                        6.7  \n",
       "70  133.350305                        6.7  \n",
       "71   42.479460                        NaN  \n",
       "\n",
       "[72 rows x 7 columns]"
      ],
      "text/html": "<div>\n<style scoped>\n    .dataframe tbody tr th:only-of-type {\n        vertical-align: middle;\n    }\n\n    .dataframe tbody tr th {\n        vertical-align: top;\n    }\n\n    .dataframe thead th {\n        text-align: right;\n    }\n</style>\n<table border=\"1\" class=\"dataframe\">\n  <thead>\n    <tr style=\"text-align: right;\">\n      <th></th>\n      <th>year</th>\n      <th>location</th>\n      <th>month</th>\n      <th>Monthly_new_cases</th>\n      <th>Percentage Growth Rate</th>\n      <th>PG_Rate</th>\n      <th>Unemployment_Rate_Percent</th>\n    </tr>\n  </thead>\n  <tbody>\n    <tr>\n      <th>0</th>\n      <td>2020</td>\n      <td>China</td>\n      <td>1</td>\n      <td>9254.0</td>\n      <td>NaN</td>\n      <td>NaN</td>\n      <td>5.3</td>\n    </tr>\n    <tr>\n      <th>1</th>\n      <td>2020</td>\n      <td>China</td>\n      <td>2</td>\n      <td>69554.0</td>\n      <td>651.610115</td>\n      <td>651.610115</td>\n      <td>6.2</td>\n    </tr>\n    <tr>\n      <th>2</th>\n      <td>2020</td>\n      <td>China</td>\n      <td>3</td>\n      <td>2923.0</td>\n      <td>-95.797510</td>\n      <td>-95.797510</td>\n      <td>5.9</td>\n    </tr>\n    <tr>\n      <th>3</th>\n      <td>2020</td>\n      <td>China</td>\n      <td>4</td>\n      <td>1677.0</td>\n      <td>-42.627438</td>\n      <td>-42.627438</td>\n      <td>6.0</td>\n    </tr>\n    <tr>\n      <th>4</th>\n      <td>2020</td>\n      <td>China</td>\n      <td>5</td>\n      <td>190.0</td>\n      <td>-88.670244</td>\n      <td>-88.670244</td>\n      <td>5.9</td>\n    </tr>\n    <tr>\n      <th>...</th>\n      <td>...</td>\n      <td>...</td>\n      <td>...</td>\n      <td>...</td>\n      <td>...</td>\n      <td>...</td>\n      <td>...</td>\n    </tr>\n    <tr>\n      <th>67</th>\n      <td>2020</td>\n      <td>United States</td>\n      <td>8</td>\n      <td>1458899.0</td>\n      <td>-24.200596</td>\n      <td>-24.200596</td>\n      <td>7.8</td>\n    </tr>\n    <tr>\n      <th>68</th>\n      <td>2020</td>\n      <td>United States</td>\n      <td>9</td>\n      <td>1206247.0</td>\n      <td>-17.317991</td>\n      <td>-17.317991</td>\n      <td>6.9</td>\n    </tr>\n    <tr>\n      <th>69</th>\n      <td>2020</td>\n      <td>United States</td>\n      <td>10</td>\n      <td>1926777.0</td>\n      <td>59.733206</td>\n      <td>59.733206</td>\n      <td>6.7</td>\n    </tr>\n    <tr>\n      <th>70</th>\n      <td>2020</td>\n      <td>United States</td>\n      <td>11</td>\n      <td>4496140.0</td>\n      <td>133.350305</td>\n      <td>133.350305</td>\n      <td>6.7</td>\n    </tr>\n    <tr>\n      <th>71</th>\n      <td>2020</td>\n      <td>United States</td>\n      <td>12</td>\n      <td>6406076.0</td>\n      <td>42.479460</td>\n      <td>42.479460</td>\n      <td>NaN</td>\n    </tr>\n  </tbody>\n</table>\n<p>72 rows × 7 columns</p>\n</div>"
     },
     "metadata": {},
     "execution_count": 389
    }
   ],
   "source": [
    "# tables are joined on date and location, therefore check location description first\n",
    "print (df_COVID.location.unique())\n",
    "print (df_UNEMPLOYMENT.Country.unique())\n",
    "\n",
    "# write out abbreviations UK and US in their full length within df_UNEMPLOYMENT\n",
    "df_UNEMPLOYMENT['Country'] = df_UNEMPLOYMENT['Country'].replace({'USA':'United States'})\n",
    "df_UNEMPLOYMENT['Country'] = df_UNEMPLOYMENT['Country'].replace({'UK':'United Kingdom'})\n",
    "\n",
    "# create new dataframe which is supposed to hold merged data\n",
    "df_MERGED = df_COVID\n",
    "df_MERGED['Unemployment_Rate_Percent'] = np.NaN\n",
    "\n",
    "# set values of new dataframes's column Unemployment_Rate_Percent \n",
    "# joining where year, location and month match\n",
    "for srcIndex, srcRow in df_MERGED.iterrows():\n",
    "    srcLocation = srcRow['location']\n",
    "    srcMonth = srcRow['month']\n",
    "    for tgIndex, tgRow in df_UNEMPLOYMENT.iterrows():\n",
    "        if (srcLocation == tgRow['Country'] and srcMonth == tgRow['Month']):\n",
    "           df_MERGED.loc[srcIndex,'Unemployment_Rate_Percent'] = tgRow['Unemployment_Rate_Percent']\n",
    "df_MERGED\n",
    "\n"
   ]
  },
  {
   "source": [
    "### Merge: covid, umemployment <--> GDP"
   ],
   "cell_type": "markdown",
   "metadata": {}
  },
  {
   "cell_type": "code",
   "execution_count": 390,
   "metadata": {},
   "outputs": [
    {
     "output_type": "stream",
     "name": "stdout",
     "text": [
      "['China' 'Germany' 'India' 'Italy' 'United Kingdom' 'United States']\n['European Union - 27 countries (from 2020)'\n 'European Union - 28 countries (2013-2020)'\n 'Euro area - 19 countries  (from 2015)' 'Belgium' 'Bulgaria' 'Czechia'\n 'Denmark' 'Germany (until 1990 former territory of the FRG)' 'Estonia'\n 'Ireland' 'Greece' 'Spain' 'France' 'Croatia' 'Italy' 'Cyprus' 'Latvia'\n 'Lithuania' 'Luxembourg' 'Hungary' 'Malta' 'Netherlands' 'Austria'\n 'Poland' 'Portugal' 'Romania' 'Slovenia' 'Slovakia' 'Finland' 'Sweden'\n 'United Kingdom' 'Iceland' 'Norway' 'Switzerland' 'Montenegro'\n 'North Macedonia' 'Albania' 'Serbia' 'Turkey' 'Belarus'\n 'Bosnia and Herzegovina'\n 'Kosovo (under United Nations Security Council Resolution 1244/99)'\n 'Moldova' 'Russia' 'Ukraine' 'Mauritius' 'Rwanda' 'Seychelles' 'Egypt'\n 'Morocco' 'Botswana' 'Namibia' 'South Africa' 'Cabo Verde' 'Nigeria'\n 'Canada' 'United States' 'Dominican Republic' 'Jamaica' 'Costa Rica'\n 'El Salvador' 'Guatemala' 'Honduras' 'Mexico' 'Nicaragua' 'Argentina'\n 'Bolivia' 'Brazil' 'Chile' 'Colombia' 'Ecuador' 'Paraguay' 'Peru'\n 'Uruguay' 'Kazakhstan' 'Kyrgyzstan' 'China including Hong Kong'\n 'Hong Kong' 'Macao' 'Japan' 'Mongolia' 'South Korea' 'India' 'Iran'\n 'Sri Lanka' 'Brunei Darussalam' 'Cambodia' 'Indonesia' 'Malaysia'\n 'Philippines' 'Singapore' 'Thailand' 'Armenia' 'Azerbaijan' 'Bahrain'\n 'Georgia' 'Iraq' 'Israel' 'Palestine' 'Qatar' 'Saudi Arabia' 'Australia'\n 'New Zealand' 'Samoa']\n"
     ]
    },
    {
     "output_type": "execute_result",
     "data": {
      "text/plain": [
       "    year       location  month  Monthly_new_cases  Percentage Growth Rate  \\\n",
       "0   2020          China      1             9254.0                     NaN   \n",
       "1   2020          China      2            69554.0              651.610115   \n",
       "2   2020          China      3             2923.0              -95.797510   \n",
       "3   2020          China      4             1677.0              -42.627438   \n",
       "4   2020          China      5              190.0              -88.670244   \n",
       "..   ...            ...    ...                ...                     ...   \n",
       "67  2020  United States      8          1458899.0              -24.200596   \n",
       "68  2020  United States      9          1206247.0              -17.317991   \n",
       "69  2020  United States     10          1926777.0               59.733206   \n",
       "70  2020  United States     11          4496140.0              133.350305   \n",
       "71  2020  United States     12          6406076.0               42.479460   \n",
       "\n",
       "       PG_Rate  Unemployment_Rate_Percent        GDP  GDP per capita  \n",
       "0          NaN                        5.3  2683407.4        0.001910  \n",
       "1   651.610115                        6.2  2683407.4        0.001910  \n",
       "2   -95.797510                        5.9  2683407.4        0.001910  \n",
       "3   -42.627438                        6.0  3203254.4        0.002280  \n",
       "4   -88.670244                        5.9  3203254.4        0.002280  \n",
       "..         ...                        ...        ...             ...  \n",
       "67  -24.200596                        7.8  4554429.8        0.013824  \n",
       "68  -17.317991                        6.9  4554429.8        0.013824  \n",
       "69   59.733206                        6.7        NaN             NaN  \n",
       "70  133.350305                        6.7        NaN             NaN  \n",
       "71   42.479460                        NaN        NaN             NaN  \n",
       "\n",
       "[72 rows x 9 columns]"
      ],
      "text/html": "<div>\n<style scoped>\n    .dataframe tbody tr th:only-of-type {\n        vertical-align: middle;\n    }\n\n    .dataframe tbody tr th {\n        vertical-align: top;\n    }\n\n    .dataframe thead th {\n        text-align: right;\n    }\n</style>\n<table border=\"1\" class=\"dataframe\">\n  <thead>\n    <tr style=\"text-align: right;\">\n      <th></th>\n      <th>year</th>\n      <th>location</th>\n      <th>month</th>\n      <th>Monthly_new_cases</th>\n      <th>Percentage Growth Rate</th>\n      <th>PG_Rate</th>\n      <th>Unemployment_Rate_Percent</th>\n      <th>GDP</th>\n      <th>GDP per capita</th>\n    </tr>\n  </thead>\n  <tbody>\n    <tr>\n      <th>0</th>\n      <td>2020</td>\n      <td>China</td>\n      <td>1</td>\n      <td>9254.0</td>\n      <td>NaN</td>\n      <td>NaN</td>\n      <td>5.3</td>\n      <td>2683407.4</td>\n      <td>0.001910</td>\n    </tr>\n    <tr>\n      <th>1</th>\n      <td>2020</td>\n      <td>China</td>\n      <td>2</td>\n      <td>69554.0</td>\n      <td>651.610115</td>\n      <td>651.610115</td>\n      <td>6.2</td>\n      <td>2683407.4</td>\n      <td>0.001910</td>\n    </tr>\n    <tr>\n      <th>2</th>\n      <td>2020</td>\n      <td>China</td>\n      <td>3</td>\n      <td>2923.0</td>\n      <td>-95.797510</td>\n      <td>-95.797510</td>\n      <td>5.9</td>\n      <td>2683407.4</td>\n      <td>0.001910</td>\n    </tr>\n    <tr>\n      <th>3</th>\n      <td>2020</td>\n      <td>China</td>\n      <td>4</td>\n      <td>1677.0</td>\n      <td>-42.627438</td>\n      <td>-42.627438</td>\n      <td>6.0</td>\n      <td>3203254.4</td>\n      <td>0.002280</td>\n    </tr>\n    <tr>\n      <th>4</th>\n      <td>2020</td>\n      <td>China</td>\n      <td>5</td>\n      <td>190.0</td>\n      <td>-88.670244</td>\n      <td>-88.670244</td>\n      <td>5.9</td>\n      <td>3203254.4</td>\n      <td>0.002280</td>\n    </tr>\n    <tr>\n      <th>...</th>\n      <td>...</td>\n      <td>...</td>\n      <td>...</td>\n      <td>...</td>\n      <td>...</td>\n      <td>...</td>\n      <td>...</td>\n      <td>...</td>\n      <td>...</td>\n    </tr>\n    <tr>\n      <th>67</th>\n      <td>2020</td>\n      <td>United States</td>\n      <td>8</td>\n      <td>1458899.0</td>\n      <td>-24.200596</td>\n      <td>-24.200596</td>\n      <td>7.8</td>\n      <td>4554429.8</td>\n      <td>0.013824</td>\n    </tr>\n    <tr>\n      <th>68</th>\n      <td>2020</td>\n      <td>United States</td>\n      <td>9</td>\n      <td>1206247.0</td>\n      <td>-17.317991</td>\n      <td>-17.317991</td>\n      <td>6.9</td>\n      <td>4554429.8</td>\n      <td>0.013824</td>\n    </tr>\n    <tr>\n      <th>69</th>\n      <td>2020</td>\n      <td>United States</td>\n      <td>10</td>\n      <td>1926777.0</td>\n      <td>59.733206</td>\n      <td>59.733206</td>\n      <td>6.7</td>\n      <td>NaN</td>\n      <td>NaN</td>\n    </tr>\n    <tr>\n      <th>70</th>\n      <td>2020</td>\n      <td>United States</td>\n      <td>11</td>\n      <td>4496140.0</td>\n      <td>133.350305</td>\n      <td>133.350305</td>\n      <td>6.7</td>\n      <td>NaN</td>\n      <td>NaN</td>\n    </tr>\n    <tr>\n      <th>71</th>\n      <td>2020</td>\n      <td>United States</td>\n      <td>12</td>\n      <td>6406076.0</td>\n      <td>42.479460</td>\n      <td>42.479460</td>\n      <td>NaN</td>\n      <td>NaN</td>\n      <td>NaN</td>\n    </tr>\n  </tbody>\n</table>\n<p>72 rows × 9 columns</p>\n</div>"
     },
     "metadata": {},
     "execution_count": 390
    }
   ],
   "source": [
    "# tables are joined on location and time\n",
    "print (df_MERGED.location.unique())\n",
    "print (df_GDP.GEO.unique())\n",
    "\n",
    "# 1st step: remove everything in brackets in column GEO and strip whitespaces\n",
    "df_GDP.GEO = df_GDP.GEO.replace(to_replace=r'\\((.*?)\\)',value='',regex=True)\n",
    "\n",
    "# 2nd step: reduce df_GDP to year 2020\n",
    "df_GDP = df_GDP[df_GDP.TIME.str.contains(r'(2020)')]\n",
    "\n",
    "# 3rd step: create subselection with key-countries\n",
    "df_GDP = df_GDP[df_GDP.GEO.str.contains(r'(China|Germany|India|Italy|United Kingdom|United States)')]\n",
    "df_GDP.GEO = df_GDP.GEO.str.rstrip() # remove whitesoace after Germany\n",
    "df_GDP.GEO = df_GDP.GEO.replace(to_replace='China including Hong Kong',value='China')\n",
    "\n",
    "# 4th step: add new column which is supposed to hold GDP value\n",
    "df_MERGED['GDP'] = ''\n",
    "\n",
    "# 5th step: set values of new column GDP\n",
    "# Problem: GDP Value exists only quarterly -> Solution: fill every month with corresponding value of quarter\n",
    "Q1 = [1,2,3]\n",
    "Q2 = [4,5,6]\n",
    "Q3 = [7,8,9] # remark: no Data for 2020Q4\n",
    "\n",
    "for srcIndex, srcRow in df_MERGED.iterrows():\n",
    "    srcLocation = srcRow['location']\n",
    "    srcMonth = srcRow['month']\n",
    "    for tgIndex, tgRow in df_GDP.iterrows():\n",
    "        if (srcLocation == tgRow['GEO'] and srcMonth in Q1 and tgRow['TIME']=='2020Q1'):\n",
    "           df_MERGED.loc[srcIndex,'GDP'] = tgRow.GDP\n",
    "        elif (srcLocation == tgRow['GEO'] and srcMonth in Q2 and tgRow['TIME']=='2020Q2'):\n",
    "           df_MERGED.loc[srcIndex,'GDP'] = tgRow.GDP\n",
    "        elif (srcLocation == tgRow['GEO'] and srcMonth in Q3 and tgRow['TIME']=='2020Q3'):\n",
    "           df_MERGED.loc[srcIndex,'GDP'] = tgRow.GDP\n",
    "\n",
    "# 6th step: convert GDP to numeric\n",
    "df_MERGED.GDP = df_MERGED.GDP.apply(pd.to_numeric)\n",
    "\n",
    "# add GDP per capita for easier comparison \n",
    "# GDP / Population\n",
    "df_MERGED['GDP per capita'] = np.NaN\n",
    "\n",
    "for srcIndex, srcRow in df_MERGED.iterrows():\n",
    "    if (srcRow['location'] == 'United States'):\n",
    "        pop = df_REF.loc[df_REF['Combined_Key']=='US'].Population.values[0]\n",
    "        gdp = srcRow.GDP\n",
    "        df_MERGED.loc[srcIndex,'GDP per capita'] = gdp / pop\n",
    "    else:\n",
    "        pop = df_REF.loc[df_REF['Combined_Key']==srcRow['location']].Population.values[0]\n",
    "        gdp = srcRow.GDP \n",
    "        df_MERGED.loc[srcIndex,'GDP per capita'] = gdp / pop\n",
    "\n",
    "df_MERGED\n",
    "\n"
   ]
  },
  {
   "source": [
    "## Visualization"
   ],
   "cell_type": "markdown",
   "metadata": {}
  },
  {
   "cell_type": "code",
   "execution_count": 391,
   "metadata": {},
   "outputs": [
    {
     "output_type": "stream",
     "name": "stdout",
     "text": [
      "<class 'pandas.core.frame.DataFrame'>\nRangeIndex: 72 entries, 0 to 71\nData columns (total 9 columns):\n #   Column                     Non-Null Count  Dtype  \n---  ------                     --------------  -----  \n 0   year                       72 non-null     int64  \n 1   location                   72 non-null     object \n 2   month                      72 non-null     int64  \n 3   Monthly_new_cases          72 non-null     float64\n 4   Percentage Growth Rate     71 non-null     float64\n 5   PG_Rate                    71 non-null     float64\n 6   Unemployment_Rate_Percent  67 non-null     float64\n 7   GDP                        54 non-null     float64\n 8   GDP per capita             54 non-null     float64\ndtypes: float64(6), int64(2), object(1)\nmemory usage: 5.2+ KB\n"
     ]
    },
    {
     "output_type": "display_data",
     "data": {
      "text/plain": "<Figure size 1080x576 with 1 Axes>",
      "image/png": "[encoded data removed]"
     },
     "metadata": {
      "needs_background": "light"
     }
    },
    {
     "output_type": "execute_result",
     "data": {
      "text/plain": [
       "location  China  Germany  India  Italy  United Kingdom  United States\n",
       "month                                                                \n",
       "1           5.3      3.4   7.22    9.6             3.9            3.5\n",
       "2           6.2      3.6   7.76    9.4             3.9            4.4\n",
       "3           5.9      3.8   8.75    8.5             3.9           14.8\n",
       "4           6.0      4.0  23.52    7.4             3.9           13.3\n",
       "5           5.9      4.2  21.73    8.7             3.8           11.1\n",
       "6           5.7      4.3  10.18    9.3             4.0           10.2\n",
       "7           5.7      4.4   7.40    9.8             4.4            8.4\n",
       "8           5.6      4.5   8.35    9.7             4.7            7.8\n",
       "9           5.4      4.5   6.67    9.5             4.9            6.9\n",
       "10          5.3      4.5   7.00    9.5             4.9            6.7\n",
       "11          5.2      4.5   6.50    8.9             NaN            6.7\n",
       "12          5.2      NaN    NaN    3.5             NaN            NaN"
      ],
      "text/html": "<div>\n<style scoped>\n    .dataframe tbody tr th:only-of-type {\n        vertical-align: middle;\n    }\n\n    .dataframe tbody tr th {\n        vertical-align: top;\n    }\n\n    .dataframe thead th {\n        text-align: right;\n    }\n</style>\n<table border=\"1\" class=\"dataframe\">\n  <thead>\n    <tr style=\"text-align: right;\">\n      <th>location</th>\n      <th>China</th>\n      <th>Germany</th>\n      <th>India</th>\n      <th>Italy</th>\n      <th>United Kingdom</th>\n      <th>United States</th>\n    </tr>\n    <tr>\n      <th>month</th>\n      <th></th>\n      <th></th>\n      <th></th>\n      <th></th>\n      <th></th>\n      <th></th>\n    </tr>\n  </thead>\n  <tbody>\n    <tr>\n      <th>1</th>\n      <td>5.3</td>\n      <td>3.4</td>\n      <td>7.22</td>\n      <td>9.6</td>\n      <td>3.9</td>\n      <td>3.5</td>\n    </tr>\n    <tr>\n      <th>2</th>\n      <td>6.2</td>\n      <td>3.6</td>\n      <td>7.76</td>\n      <td>9.4</td>\n      <td>3.9</td>\n      <td>4.4</td>\n    </tr>\n    <tr>\n      <th>3</th>\n      <td>5.9</td>\n      <td>3.8</td>\n      <td>8.75</td>\n      <td>8.5</td>\n      <td>3.9</td>\n      <td>14.8</td>\n    </tr>\n    <tr>\n      <th>4</th>\n      <td>6.0</td>\n      <td>4.0</td>\n      <td>23.52</td>\n      <td>7.4</td>\n      <td>3.9</td>\n      <td>13.3</td>\n    </tr>\n    <tr>\n      <th>5</th>\n      <td>5.9</td>\n      <td>4.2</td>\n      <td>21.73</td>\n      <td>8.7</td>\n      <td>3.8</td>\n      <td>11.1</td>\n    </tr>\n    <tr>\n      <th>6</th>\n      <td>5.7</td>\n      <td>4.3</td>\n      <td>10.18</td>\n      <td>9.3</td>\n      <td>4.0</td>\n      <td>10.2</td>\n    </tr>\n    <tr>\n      <th>7</th>\n      <td>5.7</td>\n      <td>4.4</td>\n      <td>7.40</td>\n      <td>9.8</td>\n      <td>4.4</td>\n      <td>8.4</td>\n    </tr>\n    <tr>\n      <th>8</th>\n      <td>5.6</td>\n      <td>4.5</td>\n      <td>8.35</td>\n      <td>9.7</td>\n      <td>4.7</td>\n      <td>7.8</td>\n    </tr>\n    <tr>\n      <th>9</th>\n      <td>5.4</td>\n      <td>4.5</td>\n      <td>6.67</td>\n      <td>9.5</td>\n      <td>4.9</td>\n      <td>6.9</td>\n    </tr>\n    <tr>\n      <th>10</th>\n      <td>5.3</td>\n      <td>4.5</td>\n      <td>7.00</td>\n      <td>9.5</td>\n      <td>4.9</td>\n      <td>6.7</td>\n    </tr>\n    <tr>\n      <th>11</th>\n      <td>5.2</td>\n      <td>4.5</td>\n      <td>6.50</td>\n      <td>8.9</td>\n      <td>NaN</td>\n      <td>6.7</td>\n    </tr>\n    <tr>\n      <th>12</th>\n      <td>5.2</td>\n      <td>NaN</td>\n      <td>NaN</td>\n      <td>3.5</td>\n      <td>NaN</td>\n      <td>NaN</td>\n    </tr>\n  </tbody>\n</table>\n</div>"
     },
     "metadata": {},
     "execution_count": 391
    }
   ],
   "source": [
    "# 1. get data\n",
    "# 2. plt.plot(x,y, color='', linestyle='', marker='',label='label)\n",
    "# 3. set labels: plt.xlabel('') and plt.ylabel('')\n",
    "# 4. set title: plt.title('')\n",
    "# 5. set legend: plt.legend() -> uses labels\n",
    "# 6. plt.grid(True)\n",
    "# 7. plt.savefig('filename.png')\n",
    "# 8. plt.show()\n",
    "df_MERGED.info()\n",
    "axis_x = (df_MERGED.month.unique())\n",
    "pivGDP = df_MERGED.pivot(index='month',columns='location',values='GDP')\n",
    "pivGDPpCap = df_MERGED.pivot(index='month',columns='location',values='GDP per capita')\n",
    "pivUnemployment = df_MERGED.pivot(index='month',columns='location',values='Unemployment_Rate_Percent')\n",
    "pivCovid = df_MERGED.pivot(index='month',columns='location',values='Monthly_new_cases')\n",
    "\n",
    "pivGDPpCap.plot()\n",
    "plt.show()\n",
    "pivUnemployment\n"
   ]
  },
  {
   "source": [
    "# Export as csv"
   ],
   "cell_type": "markdown",
   "metadata": {}
  },
  {
   "cell_type": "code",
   "execution_count": 392,
   "metadata": {},
   "outputs": [],
   "source": [
    "outPath = r'../project/data/preprocessed/'\n",
    "df_MERGED.to_csv(path+'exp_mergedData.csv', sep=',', index=False)"
   ]
  }
 ],
 "metadata": {
  "kernelspec": {
   "name": "python3",
   "language": "python",
   "display_name": "Python 3"
  },
  "language_info": {
   "codemirror_mode": {
    "name": "ipython",
    "version": 2
   },
   "file_extension": ".py",
   "mimetype": "text/x-python",
   "name": "python",
   "nbconvert_exporter": "python",
   "pygments_lexer": "ipython2",
   "version": "3.9.1-final"
  }
 },
 "nbformat": 4,
 "nbformat_minor": 0
}