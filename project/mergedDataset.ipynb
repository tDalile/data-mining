{
 "cells": [
  {
   "source": [
    "# Data Preparation\n",
    "## Merge Datasets"
   ],
   "cell_type": "markdown",
   "metadata": {
    "collapsed": true
   }
  },
  {
   "cell_type": "code",
   "execution_count": 7,
   "metadata": {},
   "outputs": [],
   "source": [
    "# import libraries and adjust settings\n",
    "from datetime import date\n",
    "import pandas as pd\n",
    "import matplotlib.pyplot as plt\n",
    "import numpy as np\n",
    "\n",
    "# Render our plots inline\n",
    "%matplotlib inline\n",
    "\n",
    "# set figure size\n",
    "plt.rcParams['figure.figsize'] = (15, 8)\n",
    "\n",
    "# load datasets\n",
    "df_CPI = pd.read_csv('data/preprocessed/exp_CountriesCPI.csv')\n",
    "df_COVID = pd.read_csv('data/preprocessed/exp_keyCountriesCovid.csv')\n",
    "df_UNEMPLOYMENT = pd.read_csv('data/preprocessed/exp_keyCountriesUnemployment.csv')\n",
    "df_GDP = pd.read_csv('data/preprocessed/exp_worldGDP.csv')\n"
   ]
  },
  {
   "source": [
    "### Previewing imported datasets"
   ],
   "cell_type": "markdown",
   "metadata": {}
  },
  {
   "cell_type": "code",
   "execution_count": 8,
   "metadata": {},
   "outputs": [
    {
     "output_type": "execute_result",
     "data": {
      "text/plain": [
       "   Year    Months import_prices_index Change on previous month in(%)  \\\n",
       "0  2019   January               102.2                           -0.2   \n",
       "1  2019  February               102.5                            0.3   \n",
       "2  2019     March               102.5                              -   \n",
       "3  2019     April               102.8                            0.3   \n",
       "4  2019       May               102.7                           -0.1   \n",
       "\n",
       "  Change on previous year's month in(%) export_prices_index  \\\n",
       "0                                   0.8               102.2   \n",
       "1                                   1.6               102.3   \n",
       "2                                   1.7               102.4   \n",
       "3                                   1.4               102.6   \n",
       "4                                  -0.2               102.5   \n",
       "\n",
       "  Change on previous month in(%).1 Change on previous year's month in(%).1  \\\n",
       "0                              0.1                                     1.1   \n",
       "1                              0.1                                     1.3   \n",
       "2                              0.1                                     1.3   \n",
       "3                              0.2                                     1.3   \n",
       "4                             -0.1                                     0.7   \n",
       "\n",
       "   Consumer price index Change on previous year's month in(%).2  \\\n",
       "0                 103.4                                     1.4   \n",
       "1                 103.8                                     1.5   \n",
       "2                 104.2                                     1.3   \n",
       "3                 105.2                                       2   \n",
       "4                 105.4                                     1.4   \n",
       "\n",
       "  Change on previous month in(%).2  \n",
       "0                             -0.8  \n",
       "1                              0.4  \n",
       "2                              0.4  \n",
       "3                                1  \n",
       "4                              0.2  "
      ],
      "text/html": "<div>\n<style scoped>\n    .dataframe tbody tr th:only-of-type {\n        vertical-align: middle;\n    }\n\n    .dataframe tbody tr th {\n        vertical-align: top;\n    }\n\n    .dataframe thead th {\n        text-align: right;\n    }\n</style>\n<table border=\"1\" class=\"dataframe\">\n  <thead>\n    <tr style=\"text-align: right;\">\n      <th></th>\n      <th>Year</th>\n      <th>Months</th>\n      <th>import_prices_index</th>\n      <th>Change on previous month in(%)</th>\n      <th>Change on previous year's month in(%)</th>\n      <th>export_prices_index</th>\n      <th>Change on previous month in(%).1</th>\n      <th>Change on previous year's month in(%).1</th>\n      <th>Consumer price index</th>\n      <th>Change on previous year's month in(%).2</th>\n      <th>Change on previous month in(%).2</th>\n    </tr>\n  </thead>\n  <tbody>\n    <tr>\n      <th>0</th>\n      <td>2019</td>\n      <td>January</td>\n      <td>102.2</td>\n      <td>-0.2</td>\n      <td>0.8</td>\n      <td>102.2</td>\n      <td>0.1</td>\n      <td>1.1</td>\n      <td>103.4</td>\n      <td>1.4</td>\n      <td>-0.8</td>\n    </tr>\n    <tr>\n      <th>1</th>\n      <td>2019</td>\n      <td>February</td>\n      <td>102.5</td>\n      <td>0.3</td>\n      <td>1.6</td>\n      <td>102.3</td>\n      <td>0.1</td>\n      <td>1.3</td>\n      <td>103.8</td>\n      <td>1.5</td>\n      <td>0.4</td>\n    </tr>\n    <tr>\n      <th>2</th>\n      <td>2019</td>\n      <td>March</td>\n      <td>102.5</td>\n      <td>-</td>\n      <td>1.7</td>\n      <td>102.4</td>\n      <td>0.1</td>\n      <td>1.3</td>\n      <td>104.2</td>\n      <td>1.3</td>\n      <td>0.4</td>\n    </tr>\n    <tr>\n      <th>3</th>\n      <td>2019</td>\n      <td>April</td>\n      <td>102.8</td>\n      <td>0.3</td>\n      <td>1.4</td>\n      <td>102.6</td>\n      <td>0.2</td>\n      <td>1.3</td>\n      <td>105.2</td>\n      <td>2</td>\n      <td>1</td>\n    </tr>\n    <tr>\n      <th>4</th>\n      <td>2019</td>\n      <td>May</td>\n      <td>102.7</td>\n      <td>-0.1</td>\n      <td>-0.2</td>\n      <td>102.5</td>\n      <td>-0.1</td>\n      <td>0.7</td>\n      <td>105.4</td>\n      <td>1.4</td>\n      <td>0.2</td>\n    </tr>\n  </tbody>\n</table>\n</div>"
     },
     "metadata": {},
     "execution_count": 8
    }
   ],
   "source": [
    "# Note: Just Germany\n",
    "df_CPI.head()"
   ]
  },
  {
   "cell_type": "code",
   "execution_count": 60,
   "metadata": {},
   "outputs": [
    {
     "output_type": "stream",
     "name": "stdout",
     "text": [
      "<class 'pandas.core.frame.DataFrame'>\nRangeIndex: 72 entries, 0 to 71\nData columns (total 7 columns):\n #   Column                     Non-Null Count  Dtype  \n---  ------                     --------------  -----  \n 0   year                       72 non-null     int64  \n 1   location                   72 non-null     object \n 2   month                      72 non-null     int64  \n 3   Monthly_new_cases          72 non-null     float64\n 4   Percentage Growth Rate     71 non-null     float64\n 5   PG_Rate                    71 non-null     float64\n 6   Unemployment_Rate_Percent  0 non-null      float64\ndtypes: float64(4), int64(2), object(1)\nmemory usage: 4.1+ KB\n"
     ]
    }
   ],
   "source": [
    "df_COVID.info()"
   ]
  },
  {
   "cell_type": "code",
   "execution_count": 61,
   "metadata": {},
   "outputs": [
    {
     "output_type": "stream",
     "name": "stdout",
     "text": [
      "<class 'pandas.core.frame.DataFrame'>\nRangeIndex: 72 entries, 0 to 71\nData columns (total 3 columns):\n #   Column                     Non-Null Count  Dtype  \n---  ------                     --------------  -----  \n 0   Month                      72 non-null     int64  \n 1   Country                    72 non-null     object \n 2   Unemployment_Rate_Percent  67 non-null     float64\ndtypes: float64(1), int64(1), object(1)\nmemory usage: 1.8+ KB\n"
     ]
    }
   ],
   "source": [
    "df_UNEMPLOYMENT.info()"
   ]
  },
  {
   "cell_type": "code",
   "execution_count": 13,
   "metadata": {},
   "outputs": [
    {
     "output_type": "execute_result",
     "data": {
      "text/plain": [
       "     TIME                                        GEO        GDP\n",
       "0  2010Q3  European Union - 27 countries (from 2020)  2737806.5\n",
       "1  2010Q3  European Union - 28 countries (2013-2020)  3219688.1\n",
       "2  2010Q3      Euro area - 19 countries  (from 2015)  2372179.6\n",
       "3  2010Q3                                    Belgium    88635.0\n",
       "4  2010Q3                                   Bulgaria    10342.2"
      ],
      "text/html": "<div>\n<style scoped>\n    .dataframe tbody tr th:only-of-type {\n        vertical-align: middle;\n    }\n\n    .dataframe tbody tr th {\n        vertical-align: top;\n    }\n\n    .dataframe thead th {\n        text-align: right;\n    }\n</style>\n<table border=\"1\" class=\"dataframe\">\n  <thead>\n    <tr style=\"text-align: right;\">\n      <th></th>\n      <th>TIME</th>\n      <th>GEO</th>\n      <th>GDP</th>\n    </tr>\n  </thead>\n  <tbody>\n    <tr>\n      <th>0</th>\n      <td>2010Q3</td>\n      <td>European Union - 27 countries (from 2020)</td>\n      <td>2737806.5</td>\n    </tr>\n    <tr>\n      <th>1</th>\n      <td>2010Q3</td>\n      <td>European Union - 28 countries (2013-2020)</td>\n      <td>3219688.1</td>\n    </tr>\n    <tr>\n      <th>2</th>\n      <td>2010Q3</td>\n      <td>Euro area - 19 countries  (from 2015)</td>\n      <td>2372179.6</td>\n    </tr>\n    <tr>\n      <th>3</th>\n      <td>2010Q3</td>\n      <td>Belgium</td>\n      <td>88635.0</td>\n    </tr>\n    <tr>\n      <th>4</th>\n      <td>2010Q3</td>\n      <td>Bulgaria</td>\n      <td>10342.2</td>\n    </tr>\n  </tbody>\n</table>\n</div>"
     },
     "metadata": {},
     "execution_count": 13
    }
   ],
   "source": [
    "df_GDP.head()"
   ]
  },
  {
   "source": [
    "### Merge: covid <--> unemployment"
   ],
   "cell_type": "markdown",
   "metadata": {}
  },
  {
   "cell_type": "code",
   "execution_count": 70,
   "metadata": {},
   "outputs": [
    {
     "output_type": "stream",
     "name": "stdout",
     "text": [
      "['China' 'Germany' 'India' 'Italy' 'United Kingdom' 'United States']\n['Germany' 'India' 'China' 'Italy' 'United States' 'United Kingdom']\n"
     ]
    },
    {
     "output_type": "execute_result",
     "data": {
      "text/plain": [
       "    year       location  month  Monthly_new_cases  Percentage Growth Rate  \\\n",
       "0   2020          China      1             9254.0                     NaN   \n",
       "1   2020          China      2            69554.0              651.610115   \n",
       "2   2020          China      3             2923.0              -95.797510   \n",
       "3   2020          China      4             1677.0              -42.627438   \n",
       "4   2020          China      5              190.0              -88.670244   \n",
       "..   ...            ...    ...                ...                     ...   \n",
       "67  2020  United States      8          1458899.0              -24.200596   \n",
       "68  2020  United States      9          1206247.0              -17.317991   \n",
       "69  2020  United States     10          1926777.0               59.733206   \n",
       "70  2020  United States     11          4496140.0              133.350305   \n",
       "71  2020  United States     12          6406076.0               42.479460   \n",
       "\n",
       "       PG_Rate  Unemployment_Rate_Percent  \n",
       "0          NaN                        5.3  \n",
       "1   651.610115                        6.2  \n",
       "2   -95.797510                        5.9  \n",
       "3   -42.627438                        6.0  \n",
       "4   -88.670244                        5.9  \n",
       "..         ...                        ...  \n",
       "67  -24.200596                        7.8  \n",
       "68  -17.317991                        6.9  \n",
       "69   59.733206                        6.7  \n",
       "70  133.350305                        6.7  \n",
       "71   42.479460                        NaN  \n",
       "\n",
       "[72 rows x 7 columns]"
      ],
      "text/html": "<div>\n<style scoped>\n    .dataframe tbody tr th:only-of-type {\n        vertical-align: middle;\n    }\n\n    .dataframe tbody tr th {\n        vertical-align: top;\n    }\n\n    .dataframe thead th {\n        text-align: right;\n    }\n</style>\n<table border=\"1\" class=\"dataframe\">\n  <thead>\n    <tr style=\"text-align: right;\">\n      <th></th>\n      <th>year</th>\n      <th>location</th>\n      <th>month</th>\n      <th>Monthly_new_cases</th>\n      <th>Percentage Growth Rate</th>\n      <th>PG_Rate</th>\n      <th>Unemployment_Rate_Percent</th>\n    </tr>\n  </thead>\n  <tbody>\n    <tr>\n      <th>0</th>\n      <td>2020</td>\n      <td>China</td>\n      <td>1</td>\n      <td>9254.0</td>\n      <td>NaN</td>\n      <td>NaN</td>\n      <td>5.3</td>\n    </tr>\n    <tr>\n      <th>1</th>\n      <td>2020</td>\n      <td>China</td>\n      <td>2</td>\n      <td>69554.0</td>\n      <td>651.610115</td>\n      <td>651.610115</td>\n      <td>6.2</td>\n    </tr>\n    <tr>\n      <th>2</th>\n      <td>2020</td>\n      <td>China</td>\n      <td>3</td>\n      <td>2923.0</td>\n      <td>-95.797510</td>\n      <td>-95.797510</td>\n      <td>5.9</td>\n    </tr>\n    <tr>\n      <th>3</th>\n      <td>2020</td>\n      <td>China</td>\n      <td>4</td>\n      <td>1677.0</td>\n      <td>-42.627438</td>\n      <td>-42.627438</td>\n      <td>6.0</td>\n    </tr>\n    <tr>\n      <th>4</th>\n      <td>2020</td>\n      <td>China</td>\n      <td>5</td>\n      <td>190.0</td>\n      <td>-88.670244</td>\n      <td>-88.670244</td>\n      <td>5.9</td>\n    </tr>\n    <tr>\n      <th>...</th>\n      <td>...</td>\n      <td>...</td>\n      <td>...</td>\n      <td>...</td>\n      <td>...</td>\n      <td>...</td>\n      <td>...</td>\n    </tr>\n    <tr>\n      <th>67</th>\n      <td>2020</td>\n      <td>United States</td>\n      <td>8</td>\n      <td>1458899.0</td>\n      <td>-24.200596</td>\n      <td>-24.200596</td>\n      <td>7.8</td>\n    </tr>\n    <tr>\n      <th>68</th>\n      <td>2020</td>\n      <td>United States</td>\n      <td>9</td>\n      <td>1206247.0</td>\n      <td>-17.317991</td>\n      <td>-17.317991</td>\n      <td>6.9</td>\n    </tr>\n    <tr>\n      <th>69</th>\n      <td>2020</td>\n      <td>United States</td>\n      <td>10</td>\n      <td>1926777.0</td>\n      <td>59.733206</td>\n      <td>59.733206</td>\n      <td>6.7</td>\n    </tr>\n    <tr>\n      <th>70</th>\n      <td>2020</td>\n      <td>United States</td>\n      <td>11</td>\n      <td>4496140.0</td>\n      <td>133.350305</td>\n      <td>133.350305</td>\n      <td>6.7</td>\n    </tr>\n    <tr>\n      <th>71</th>\n      <td>2020</td>\n      <td>United States</td>\n      <td>12</td>\n      <td>6406076.0</td>\n      <td>42.479460</td>\n      <td>42.479460</td>\n      <td>NaN</td>\n    </tr>\n  </tbody>\n</table>\n<p>72 rows × 7 columns</p>\n</div>"
     },
     "metadata": {},
     "execution_count": 70
    }
   ],
   "source": [
    "# tables are joined on date and location, therefore check location description first\n",
    "print (df_COVID.location.unique())\n",
    "print (df_UNEMPLOYMENT.Country.unique())\n",
    "\n",
    "# write out abbreviations UK and US in their full length within df_UNEMPLOYMENT\n",
    "df_UNEMPLOYMENT['Country'] = df_UNEMPLOYMENT['Country'].replace({'USA':'United States'})\n",
    "df_UNEMPLOYMENT['Country'] = df_UNEMPLOYMENT['Country'].replace({'UK':'United Kingdom'})\n",
    "\n",
    "# create new dataframe which is supposed to hold merged data\n",
    "df_MERGED = df_COVID\n",
    "df_MERGED['Unemployment_Rate_Percent'] = np.NaN\n",
    "\n",
    "# set values of new dataframes's column Unemployment_Rate_Percent \n",
    "# joining where year, location and month match\n",
    "for srcIndex, srcRow in df_MERGED.iterrows():\n",
    "    srcLocation = srcRow['location']\n",
    "    srcMonth = srcRow['month']\n",
    "    for tgIndex, tgRow in df_UNEMPLOYMENT.iterrows():\n",
    "        if (srcLocation == tgRow['Country'] and srcMonth == tgRow['Month']):\n",
    "           df_MERGED.loc[srcIndex,'Unemployment_Rate_Percent'] = tgRow['Unemployment_Rate_Percent']\n",
    "df_MERGED\n",
    "\n"
   ]
  },
  {
   "cell_type": "code",
   "execution_count": null,
   "metadata": {},
   "outputs": [],
   "source": []
  }
 ],
 "metadata": {
  "kernelspec": {
   "name": "python3",
   "language": "python",
   "display_name": "Python 3"
  },
  "language_info": {
   "codemirror_mode": {
    "name": "ipython",
    "version": 2
   },
   "file_extension": ".py",
   "mimetype": "text/x-python",
   "name": "python",
   "nbconvert_exporter": "python",
   "pygments_lexer": "ipython2",
   "version": "3.9.1-final"
  }
 },
 "nbformat": 4,
 "nbformat_minor": 0
}