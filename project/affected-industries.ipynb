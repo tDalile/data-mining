{
 "cells": [
  {
   "cell_type": "markdown",
   "metadata": {},
   "source": [
    "# Data Preparation\n",
    "## import Datasets (csv)"
   ]
  },
  {
   "cell_type": "code",
   "execution_count": 93,
   "metadata": {
    "pycharm": {
     "name": "#%%\n"
    }
   },
   "outputs": [],
   "source": [
    "## import libraries and adjust settings\n",
    "from datetime import date\n",
    "import pandas as pd\n",
    "import matplotlib.pyplot as plt\n",
    "import seaborn as sb\n",
    "\n",
    "# Render our plots inline\n",
    "%matplotlib inline\n",
    "\n",
    "# set figure size\n",
    "plt.rcParams['figure.figsize'] = (15, 8)\n",
    "\n",
    "# load datasets\n",
    "\n",
    "# | Confirmed | Recovered | Deaths | per Day for each country\n",
    "## Covid\n",
    "df_covCountries = pd.read_csv('data/covid/countries-aggregated.csv', parse_dates=['Date'], index_col='Date')\n",
    "df_keyCountries = pd.read_csv('data/covid/key-countries-pivoted.csv')\n",
    "df_references = pd.read_csv('data/covid/reference.csv')\n",
    "df_timeSeries = pd.read_csv('data/covid/time-series-19-covid-combined.csv')\n",
    "df_wwAggr = pd.read_csv('data/covid/worldwide-aggregate.csv')\n",
    "\n",
    "## Industry\n",
    "## us-data\n",
    "df_usGDP3 = pd.read_excel('data/gdp/us-gdp.xlsx', sheet_name='Table 3')\n",
    "df_usGDP12 = pd.read_excel('data/gdp/us-gdp.xlsx', sheet_name='Table 12')\n",
    "df_usGDP14 = pd.read_excel('data/gdp/us-gdp.xlsx', sheet_name='Table 14')\n",
    "\n",
    "## GDP\n",
    "## Europe\n",
    "df_allEuropeGDP = pd.read_csv('data/gdp/all_eu_countries.tsv', sep=\",|\\t\", engine='python')\n",
    "\n",
    "\n",
    "\n",
    "\n"
   ]
  },
  {
   "cell_type": "markdown",
   "metadata": {},
   "source": [
    "# COVID-Data\n",
    "## Countries data set\n",
    "The countries-aggregated.csv provides information about the **confirmed, recovered and deaths** cases per day for each country."
   ]
  },
  {
   "cell_type": "code",
   "execution_count": 94,
   "metadata": {},
   "outputs": [
    {
     "data": {
      "text/plain": "                Country  Confirmed  Recovered  Deaths\nDate                                                 \n2020-01-22  Afghanistan          0          0       0\n2020-01-23  Afghanistan          0          0       0\n2020-01-24  Afghanistan          0          0       0\n2020-01-25  Afghanistan          0          0       0\n2020-01-26  Afghanistan          0          0       0",
      "text/html": "<div>\n<style scoped>\n    .dataframe tbody tr th:only-of-type {\n        vertical-align: middle;\n    }\n\n    .dataframe tbody tr th {\n        vertical-align: top;\n    }\n\n    .dataframe thead th {\n        text-align: right;\n    }\n</style>\n<table border=\"1\" class=\"dataframe\">\n  <thead>\n    <tr style=\"text-align: right;\">\n      <th></th>\n      <th>Country</th>\n      <th>Confirmed</th>\n      <th>Recovered</th>\n      <th>Deaths</th>\n    </tr>\n    <tr>\n      <th>Date</th>\n      <th></th>\n      <th></th>\n      <th></th>\n      <th></th>\n    </tr>\n  </thead>\n  <tbody>\n    <tr>\n      <th>2020-01-22</th>\n      <td>Afghanistan</td>\n      <td>0</td>\n      <td>0</td>\n      <td>0</td>\n    </tr>\n    <tr>\n      <th>2020-01-23</th>\n      <td>Afghanistan</td>\n      <td>0</td>\n      <td>0</td>\n      <td>0</td>\n    </tr>\n    <tr>\n      <th>2020-01-24</th>\n      <td>Afghanistan</td>\n      <td>0</td>\n      <td>0</td>\n      <td>0</td>\n    </tr>\n    <tr>\n      <th>2020-01-25</th>\n      <td>Afghanistan</td>\n      <td>0</td>\n      <td>0</td>\n      <td>0</td>\n    </tr>\n    <tr>\n      <th>2020-01-26</th>\n      <td>Afghanistan</td>\n      <td>0</td>\n      <td>0</td>\n      <td>0</td>\n    </tr>\n  </tbody>\n</table>\n</div>"
     },
     "execution_count": 94,
     "metadata": {},
     "output_type": "execute_result"
    }
   ],
   "source": [
    "\n",
    "# .head shows first x rows\n",
    "df_covCountries.head()"
   ]
  },
  {
   "cell_type": "markdown",
   "metadata": {},
   "source": [
    "## Key-Countries data set\n",
    "The key-countries-pivoted.csv provides information about the confirmed cases within the key countries China, US, UK, Italy, France, Germany, Spain and Iran."
   ]
  },
  {
   "cell_type": "code",
   "execution_count": 95,
   "metadata": {},
   "outputs": [
    {
     "data": {
      "text/plain": "         Date  China  US  United_Kingdom  Italy  France  Germany  Spain  Iran\n0  2020-01-22    548   1               0      0       0        0      0     0\n1  2020-01-23    643   1               0      0       0        0      0     0\n2  2020-01-24    920   2               0      0       2        0      0     0\n3  2020-01-25   1406   2               0      0       3        0      0     0\n4  2020-01-26   2075   5               0      0       3        0      0     0",
      "text/html": "<div>\n<style scoped>\n    .dataframe tbody tr th:only-of-type {\n        vertical-align: middle;\n    }\n\n    .dataframe tbody tr th {\n        vertical-align: top;\n    }\n\n    .dataframe thead th {\n        text-align: right;\n    }\n</style>\n<table border=\"1\" class=\"dataframe\">\n  <thead>\n    <tr style=\"text-align: right;\">\n      <th></th>\n      <th>Date</th>\n      <th>China</th>\n      <th>US</th>\n      <th>United_Kingdom</th>\n      <th>Italy</th>\n      <th>France</th>\n      <th>Germany</th>\n      <th>Spain</th>\n      <th>Iran</th>\n    </tr>\n  </thead>\n  <tbody>\n    <tr>\n      <th>0</th>\n      <td>2020-01-22</td>\n      <td>548</td>\n      <td>1</td>\n      <td>0</td>\n      <td>0</td>\n      <td>0</td>\n      <td>0</td>\n      <td>0</td>\n      <td>0</td>\n    </tr>\n    <tr>\n      <th>1</th>\n      <td>2020-01-23</td>\n      <td>643</td>\n      <td>1</td>\n      <td>0</td>\n      <td>0</td>\n      <td>0</td>\n      <td>0</td>\n      <td>0</td>\n      <td>0</td>\n    </tr>\n    <tr>\n      <th>2</th>\n      <td>2020-01-24</td>\n      <td>920</td>\n      <td>2</td>\n      <td>0</td>\n      <td>0</td>\n      <td>2</td>\n      <td>0</td>\n      <td>0</td>\n      <td>0</td>\n    </tr>\n    <tr>\n      <th>3</th>\n      <td>2020-01-25</td>\n      <td>1406</td>\n      <td>2</td>\n      <td>0</td>\n      <td>0</td>\n      <td>3</td>\n      <td>0</td>\n      <td>0</td>\n      <td>0</td>\n    </tr>\n    <tr>\n      <th>4</th>\n      <td>2020-01-26</td>\n      <td>2075</td>\n      <td>5</td>\n      <td>0</td>\n      <td>0</td>\n      <td>3</td>\n      <td>0</td>\n      <td>0</td>\n      <td>0</td>\n    </tr>\n  </tbody>\n</table>\n</div>"
     },
     "execution_count": 95,
     "metadata": {},
     "output_type": "execute_result"
    }
   ],
   "source": [
    "df_keyCountries.head()"
   ]
  },
  {
   "cell_type": "markdown",
   "metadata": {},
   "source": [
    "## References data set\n",
    "The references.csv provides general information about the collected data in regard to their UID, Abbreviation (in iso2, iso3, code3), Province state, country region, geographical location (longitude and latitude), combined Key and the population."
   ]
  },
  {
   "cell_type": "code",
   "execution_count": 96,
   "metadata": {},
   "outputs": [
    {
     "data": {
      "text/plain": "   UID iso2 iso3  code3  FIPS Admin2 Province_State Country_Region       Lat  \\\n0    4   AF  AFG    4.0   NaN    NaN            NaN    Afghanistan  33.93911   \n1    8   AL  ALB    8.0   NaN    NaN            NaN        Albania  41.15330   \n2   12   DZ  DZA   12.0   NaN    NaN            NaN        Algeria  28.03390   \n3   20   AD  AND   20.0   NaN    NaN            NaN        Andorra  42.50630   \n4   24   AO  AGO   24.0   NaN    NaN            NaN         Angola -11.20270   \n\n       Long_ Combined_Key  Population  \n0  67.709953  Afghanistan  38928341.0  \n1  20.168300      Albania   2877800.0  \n2   1.659600      Algeria  43851043.0  \n3   1.521800      Andorra     77265.0  \n4  17.873900       Angola  32866268.0  ",
      "text/html": "<div>\n<style scoped>\n    .dataframe tbody tr th:only-of-type {\n        vertical-align: middle;\n    }\n\n    .dataframe tbody tr th {\n        vertical-align: top;\n    }\n\n    .dataframe thead th {\n        text-align: right;\n    }\n</style>\n<table border=\"1\" class=\"dataframe\">\n  <thead>\n    <tr style=\"text-align: right;\">\n      <th></th>\n      <th>UID</th>\n      <th>iso2</th>\n      <th>iso3</th>\n      <th>code3</th>\n      <th>FIPS</th>\n      <th>Admin2</th>\n      <th>Province_State</th>\n      <th>Country_Region</th>\n      <th>Lat</th>\n      <th>Long_</th>\n      <th>Combined_Key</th>\n      <th>Population</th>\n    </tr>\n  </thead>\n  <tbody>\n    <tr>\n      <th>0</th>\n      <td>4</td>\n      <td>AF</td>\n      <td>AFG</td>\n      <td>4.0</td>\n      <td>NaN</td>\n      <td>NaN</td>\n      <td>NaN</td>\n      <td>Afghanistan</td>\n      <td>33.93911</td>\n      <td>67.709953</td>\n      <td>Afghanistan</td>\n      <td>38928341.0</td>\n    </tr>\n    <tr>\n      <th>1</th>\n      <td>8</td>\n      <td>AL</td>\n      <td>ALB</td>\n      <td>8.0</td>\n      <td>NaN</td>\n      <td>NaN</td>\n      <td>NaN</td>\n      <td>Albania</td>\n      <td>41.15330</td>\n      <td>20.168300</td>\n      <td>Albania</td>\n      <td>2877800.0</td>\n    </tr>\n    <tr>\n      <th>2</th>\n      <td>12</td>\n      <td>DZ</td>\n      <td>DZA</td>\n      <td>12.0</td>\n      <td>NaN</td>\n      <td>NaN</td>\n      <td>NaN</td>\n      <td>Algeria</td>\n      <td>28.03390</td>\n      <td>1.659600</td>\n      <td>Algeria</td>\n      <td>43851043.0</td>\n    </tr>\n    <tr>\n      <th>3</th>\n      <td>20</td>\n      <td>AD</td>\n      <td>AND</td>\n      <td>20.0</td>\n      <td>NaN</td>\n      <td>NaN</td>\n      <td>NaN</td>\n      <td>Andorra</td>\n      <td>42.50630</td>\n      <td>1.521800</td>\n      <td>Andorra</td>\n      <td>77265.0</td>\n    </tr>\n    <tr>\n      <th>4</th>\n      <td>24</td>\n      <td>AO</td>\n      <td>AGO</td>\n      <td>24.0</td>\n      <td>NaN</td>\n      <td>NaN</td>\n      <td>NaN</td>\n      <td>Angola</td>\n      <td>-11.20270</td>\n      <td>17.873900</td>\n      <td>Angola</td>\n      <td>32866268.0</td>\n    </tr>\n  </tbody>\n</table>\n</div>"
     },
     "execution_count": 96,
     "metadata": {},
     "output_type": "execute_result"
    }
   ],
   "source": [
    "df_references.head()"
   ]
  },
  {
   "cell_type": "markdown",
   "metadata": {},
   "source": [
    "## Time-Series-19-COVID-Combined data set\n",
    "The time-series-19-covid-combined.csv provides information about the\n",
    "TODO: Difference countries?"
   ]
  },
  {
   "cell_type": "code",
   "execution_count": 97,
   "metadata": {
    "pycharm": {
     "name": "#%%\n"
    }
   },
   "outputs": [
    {
     "data": {
      "text/plain": "         Date Country/Region Province/State  Confirmed  Recovered  Deaths\n0  2020-01-22    Afghanistan            NaN          0        0.0       0\n1  2020-01-23    Afghanistan            NaN          0        0.0       0\n2  2020-01-24    Afghanistan            NaN          0        0.0       0\n3  2020-01-25    Afghanistan            NaN          0        0.0       0\n4  2020-01-26    Afghanistan            NaN          0        0.0       0",
      "text/html": "<div>\n<style scoped>\n    .dataframe tbody tr th:only-of-type {\n        vertical-align: middle;\n    }\n\n    .dataframe tbody tr th {\n        vertical-align: top;\n    }\n\n    .dataframe thead th {\n        text-align: right;\n    }\n</style>\n<table border=\"1\" class=\"dataframe\">\n  <thead>\n    <tr style=\"text-align: right;\">\n      <th></th>\n      <th>Date</th>\n      <th>Country/Region</th>\n      <th>Province/State</th>\n      <th>Confirmed</th>\n      <th>Recovered</th>\n      <th>Deaths</th>\n    </tr>\n  </thead>\n  <tbody>\n    <tr>\n      <th>0</th>\n      <td>2020-01-22</td>\n      <td>Afghanistan</td>\n      <td>NaN</td>\n      <td>0</td>\n      <td>0.0</td>\n      <td>0</td>\n    </tr>\n    <tr>\n      <th>1</th>\n      <td>2020-01-23</td>\n      <td>Afghanistan</td>\n      <td>NaN</td>\n      <td>0</td>\n      <td>0.0</td>\n      <td>0</td>\n    </tr>\n    <tr>\n      <th>2</th>\n      <td>2020-01-24</td>\n      <td>Afghanistan</td>\n      <td>NaN</td>\n      <td>0</td>\n      <td>0.0</td>\n      <td>0</td>\n    </tr>\n    <tr>\n      <th>3</th>\n      <td>2020-01-25</td>\n      <td>Afghanistan</td>\n      <td>NaN</td>\n      <td>0</td>\n      <td>0.0</td>\n      <td>0</td>\n    </tr>\n    <tr>\n      <th>4</th>\n      <td>2020-01-26</td>\n      <td>Afghanistan</td>\n      <td>NaN</td>\n      <td>0</td>\n      <td>0.0</td>\n      <td>0</td>\n    </tr>\n  </tbody>\n</table>\n</div>"
     },
     "execution_count": 97,
     "metadata": {},
     "output_type": "execute_result"
    }
   ],
   "source": [
    "df_timeSeries.head()"
   ]
  },
  {
   "cell_type": "markdown",
   "metadata": {},
   "source": [
    "## Worldwide-Aggregated data set\n",
    "The worldwide-aggregated.csv provides information about the aggregated confirmed, recovered and deaths cases worldwide."
   ]
  },
  {
   "cell_type": "code",
   "execution_count": 98,
   "metadata": {
    "pycharm": {
     "name": "#%%\n"
    }
   },
   "outputs": [
    {
     "data": {
      "text/plain": "         Date  Confirmed  Recovered  Deaths  Increase rate\n0  2020-01-22        557         30      17            NaN\n1  2020-01-23        655         32      18      17.594255\n2  2020-01-24        941         39      26      43.664122\n3  2020-01-25       1433         42      42      52.284803\n4  2020-01-26       2118         56      56      47.801814",
      "text/html": "<div>\n<style scoped>\n    .dataframe tbody tr th:only-of-type {\n        vertical-align: middle;\n    }\n\n    .dataframe tbody tr th {\n        vertical-align: top;\n    }\n\n    .dataframe thead th {\n        text-align: right;\n    }\n</style>\n<table border=\"1\" class=\"dataframe\">\n  <thead>\n    <tr style=\"text-align: right;\">\n      <th></th>\n      <th>Date</th>\n      <th>Confirmed</th>\n      <th>Recovered</th>\n      <th>Deaths</th>\n      <th>Increase rate</th>\n    </tr>\n  </thead>\n  <tbody>\n    <tr>\n      <th>0</th>\n      <td>2020-01-22</td>\n      <td>557</td>\n      <td>30</td>\n      <td>17</td>\n      <td>NaN</td>\n    </tr>\n    <tr>\n      <th>1</th>\n      <td>2020-01-23</td>\n      <td>655</td>\n      <td>32</td>\n      <td>18</td>\n      <td>17.594255</td>\n    </tr>\n    <tr>\n      <th>2</th>\n      <td>2020-01-24</td>\n      <td>941</td>\n      <td>39</td>\n      <td>26</td>\n      <td>43.664122</td>\n    </tr>\n    <tr>\n      <th>3</th>\n      <td>2020-01-25</td>\n      <td>1433</td>\n      <td>42</td>\n      <td>42</td>\n      <td>52.284803</td>\n    </tr>\n    <tr>\n      <th>4</th>\n      <td>2020-01-26</td>\n      <td>2118</td>\n      <td>56</td>\n      <td>56</td>\n      <td>47.801814</td>\n    </tr>\n  </tbody>\n</table>\n</div>"
     },
     "execution_count": 98,
     "metadata": {},
     "output_type": "execute_result"
    }
   ],
   "source": [
    "df_wwAggr.head()"
   ]
  },
  {
   "cell_type": "markdown",
   "metadata": {
    "pycharm": {
     "name": "#%% md\n"
    }
   },
   "source": [
    "# Industry Data\n",
    "## US GDP Data"
   ]
  },
  {
   "cell_type": "code",
   "execution_count": 99,
   "metadata": {
    "pycharm": {
     "name": "#%%\n"
    }
   },
   "outputs": [
    {
     "data": {
      "text/plain": "  Table 3. Gross Domestic Product: Level and Change from Preceding Period  \\\n0                                               Line                        \n1                                               Line                        \n2                                               Line                        \n3                                               Line                        \n4                                                  1                        \n\n                     Unnamed: 1           Unnamed: 2  \\\n0                           NaN  Billions of dollars   \n1                           NaN                 2019   \n2                           NaN                 2019   \n3                           NaN                 2019   \n4  Gross domestic product (GDP)              21433.2   \n\n                            Unnamed: 3                           Unnamed: 4  \\\n0                  Billions of dollars                  Billions of dollars   \n1  Seasonally adjusted at annual rates  Seasonally adjusted at annual rates   \n2                                 2019                                 2019   \n3                                   Q3                                   Q4   \n4                              21540.3                              21747.4   \n\n                            Unnamed: 5                           Unnamed: 6  \\\n0                  Billions of dollars                  Billions of dollars   \n1  Seasonally adjusted at annual rates  Seasonally adjusted at annual rates   \n2                                 2020                                 2020   \n3                                   Q1                                   Q2   \n4                              21561.1                              19520.1   \n\n                            Unnamed: 7                          Unnamed: 8  \\\n0                  Billions of dollars  Billions of chained (2012) dollars   \n1  Seasonally adjusted at annual rates                                2019   \n2                                 2020                                2019   \n3                                 Q3 r                                2019   \n4                              21170.3                             19091.7   \n\n                            Unnamed: 9                          Unnamed: 10  \\\n0   Billions of chained (2012) dollars   Billions of chained (2012) dollars   \n1  Seasonally adjusted at annual rates  Seasonally adjusted at annual rates   \n2                                 2019                                 2019   \n3                                   Q3                                   Q4   \n4                              19141.7                                19254   \n\n                           Unnamed: 11                          Unnamed: 12  \\\n0   Billions of chained (2012) dollars   Billions of chained (2012) dollars   \n1  Seasonally adjusted at annual rates  Seasonally adjusted at annual rates   \n2                                 2020                                 2020   \n3                                   Q1                                   Q2   \n4                              19010.8                              17302.5   \n\n                           Unnamed: 13                         Unnamed: 14  \\\n0   Billions of chained (2012) dollars  Billions of chained (2012) dollars   \n1  Seasonally adjusted at annual rates        Change from preceding period   \n2                                 2020                                2019   \n3                                 Q3 r                                2019   \n4                              18596.5                               403.9   \n\n                          Unnamed: 15                         Unnamed: 16  \n0  Billions of chained (2012) dollars  Billions of chained (2012) dollars  \n1        Change from preceding period        Change from preceding period  \n2                                2020                                2020  \n3                                  Q2                                Q3 r  \n4                             -1708.3                                1294  ",
      "text/html": "<div>\n<style scoped>\n    .dataframe tbody tr th:only-of-type {\n        vertical-align: middle;\n    }\n\n    .dataframe tbody tr th {\n        vertical-align: top;\n    }\n\n    .dataframe thead th {\n        text-align: right;\n    }\n</style>\n<table border=\"1\" class=\"dataframe\">\n  <thead>\n    <tr style=\"text-align: right;\">\n      <th></th>\n      <th>Table 3. Gross Domestic Product: Level and Change from Preceding Period</th>\n      <th>Unnamed: 1</th>\n      <th>Unnamed: 2</th>\n      <th>Unnamed: 3</th>\n      <th>Unnamed: 4</th>\n      <th>Unnamed: 5</th>\n      <th>Unnamed: 6</th>\n      <th>Unnamed: 7</th>\n      <th>Unnamed: 8</th>\n      <th>Unnamed: 9</th>\n      <th>Unnamed: 10</th>\n      <th>Unnamed: 11</th>\n      <th>Unnamed: 12</th>\n      <th>Unnamed: 13</th>\n      <th>Unnamed: 14</th>\n      <th>Unnamed: 15</th>\n      <th>Unnamed: 16</th>\n    </tr>\n  </thead>\n  <tbody>\n    <tr>\n      <th>0</th>\n      <td>Line</td>\n      <td>NaN</td>\n      <td>Billions of dollars</td>\n      <td>Billions of dollars</td>\n      <td>Billions of dollars</td>\n      <td>Billions of dollars</td>\n      <td>Billions of dollars</td>\n      <td>Billions of dollars</td>\n      <td>Billions of chained (2012) dollars</td>\n      <td>Billions of chained (2012) dollars</td>\n      <td>Billions of chained (2012) dollars</td>\n      <td>Billions of chained (2012) dollars</td>\n      <td>Billions of chained (2012) dollars</td>\n      <td>Billions of chained (2012) dollars</td>\n      <td>Billions of chained (2012) dollars</td>\n      <td>Billions of chained (2012) dollars</td>\n      <td>Billions of chained (2012) dollars</td>\n    </tr>\n    <tr>\n      <th>1</th>\n      <td>Line</td>\n      <td>NaN</td>\n      <td>2019</td>\n      <td>Seasonally adjusted at annual rates</td>\n      <td>Seasonally adjusted at annual rates</td>\n      <td>Seasonally adjusted at annual rates</td>\n      <td>Seasonally adjusted at annual rates</td>\n      <td>Seasonally adjusted at annual rates</td>\n      <td>2019</td>\n      <td>Seasonally adjusted at annual rates</td>\n      <td>Seasonally adjusted at annual rates</td>\n      <td>Seasonally adjusted at annual rates</td>\n      <td>Seasonally adjusted at annual rates</td>\n      <td>Seasonally adjusted at annual rates</td>\n      <td>Change from preceding period</td>\n      <td>Change from preceding period</td>\n      <td>Change from preceding period</td>\n    </tr>\n    <tr>\n      <th>2</th>\n      <td>Line</td>\n      <td>NaN</td>\n      <td>2019</td>\n      <td>2019</td>\n      <td>2019</td>\n      <td>2020</td>\n      <td>2020</td>\n      <td>2020</td>\n      <td>2019</td>\n      <td>2019</td>\n      <td>2019</td>\n      <td>2020</td>\n      <td>2020</td>\n      <td>2020</td>\n      <td>2019</td>\n      <td>2020</td>\n      <td>2020</td>\n    </tr>\n    <tr>\n      <th>3</th>\n      <td>Line</td>\n      <td>NaN</td>\n      <td>2019</td>\n      <td>Q3</td>\n      <td>Q4</td>\n      <td>Q1</td>\n      <td>Q2</td>\n      <td>Q3 r</td>\n      <td>2019</td>\n      <td>Q3</td>\n      <td>Q4</td>\n      <td>Q1</td>\n      <td>Q2</td>\n      <td>Q3 r</td>\n      <td>2019</td>\n      <td>Q2</td>\n      <td>Q3 r</td>\n    </tr>\n    <tr>\n      <th>4</th>\n      <td>1</td>\n      <td>Gross domestic product (GDP)</td>\n      <td>21433.2</td>\n      <td>21540.3</td>\n      <td>21747.4</td>\n      <td>21561.1</td>\n      <td>19520.1</td>\n      <td>21170.3</td>\n      <td>19091.7</td>\n      <td>19141.7</td>\n      <td>19254</td>\n      <td>19010.8</td>\n      <td>17302.5</td>\n      <td>18596.5</td>\n      <td>403.9</td>\n      <td>-1708.3</td>\n      <td>1294</td>\n    </tr>\n  </tbody>\n</table>\n</div>"
     },
     "execution_count": 99,
     "metadata": {},
     "output_type": "execute_result"
    }
   ],
   "source": [
    "# needs preprocessing!\n",
    "df_usGDP3.head()"
   ]
  },
  {
   "cell_type": "markdown",
   "source": [
    "## US GDP by Industry Group: Percent Change from Preceding Period"
   ],
   "metadata": {
    "collapsed": false,
    "pycharm": {
     "name": "#%% md\n"
    }
   }
  },
  {
   "cell_type": "code",
   "execution_count": 100,
   "outputs": [
    {
     "data": {
      "text/plain": "  Table 12. Real Gross Domestic Product by Industry Group: Percent Change from Preceding Period  \\\n0                                               Line                                              \n1                                               Line                                              \n2                                               Line                                              \n3                                                  1                                              \n4                                                  2                                              \n\n               Unnamed: 1  Unnamed: 2  Unnamed: 3  Unnamed: 4  \\\n0                     NaN      2017.0      2018.0      2019.0   \n1                     NaN      2017.0      2018.0      2019.0   \n2                     NaN      2017.0      2018.0      2019.0   \n3  Gross domestic product         2.3         3.0         2.2   \n4      Private industries         2.5         3.2         2.4   \n\n                            Unnamed: 5                           Unnamed: 6  \\\n0  Seasonally adjusted at annual rates  Seasonally adjusted at annual rates   \n1                                 2016                                 2017   \n2                                   Q4                                   Q1   \n3                                  2.5                                  2.3   \n4                                  2.8                                  2.5   \n\n                            Unnamed: 7                           Unnamed: 8  \\\n0  Seasonally adjusted at annual rates  Seasonally adjusted at annual rates   \n1                                 2017                                 2017   \n2                                   Q2                                   Q3   \n3                                  1.7                                  2.9   \n4                                  1.9                                  3.1   \n\n                            Unnamed: 9  ... Unnamed: 33 Unnamed: 34  \\\n0  Seasonally adjusted at annual rates  ...         NaN         NaN   \n1                                 2017  ...         NaN         NaN   \n2                                   Q4  ...         NaN         NaN   \n3                                  3.9  ...         NaN         NaN   \n4                                  4.2  ...         NaN         NaN   \n\n  Unnamed: 35 Unnamed: 36 Unnamed: 37 Unnamed: 38 Unnamed: 39 Unnamed: 40  \\\n0         NaN         NaN         NaN         NaN         NaN         NaN   \n1         NaN         NaN         NaN         NaN         NaN         NaN   \n2         NaN         NaN         NaN         NaN         NaN         NaN   \n3         NaN         NaN         NaN         NaN         NaN         NaN   \n4         NaN         NaN         NaN         NaN         NaN         NaN   \n\n  Unnamed: 41 Unnamed: 42  \n0         NaN         NaN  \n1         NaN         NaN  \n2         NaN         NaN  \n3         NaN         NaN  \n4         NaN         NaN  \n\n[5 rows x 43 columns]",
      "text/html": "<div>\n<style scoped>\n    .dataframe tbody tr th:only-of-type {\n        vertical-align: middle;\n    }\n\n    .dataframe tbody tr th {\n        vertical-align: top;\n    }\n\n    .dataframe thead th {\n        text-align: right;\n    }\n</style>\n<table border=\"1\" class=\"dataframe\">\n  <thead>\n    <tr style=\"text-align: right;\">\n      <th></th>\n      <th>Table 12. Real Gross Domestic Product by Industry Group: Percent Change from Preceding Period</th>\n      <th>Unnamed: 1</th>\n      <th>Unnamed: 2</th>\n      <th>Unnamed: 3</th>\n      <th>Unnamed: 4</th>\n      <th>Unnamed: 5</th>\n      <th>Unnamed: 6</th>\n      <th>Unnamed: 7</th>\n      <th>Unnamed: 8</th>\n      <th>Unnamed: 9</th>\n      <th>...</th>\n      <th>Unnamed: 33</th>\n      <th>Unnamed: 34</th>\n      <th>Unnamed: 35</th>\n      <th>Unnamed: 36</th>\n      <th>Unnamed: 37</th>\n      <th>Unnamed: 38</th>\n      <th>Unnamed: 39</th>\n      <th>Unnamed: 40</th>\n      <th>Unnamed: 41</th>\n      <th>Unnamed: 42</th>\n    </tr>\n  </thead>\n  <tbody>\n    <tr>\n      <th>0</th>\n      <td>Line</td>\n      <td>NaN</td>\n      <td>2017.0</td>\n      <td>2018.0</td>\n      <td>2019.0</td>\n      <td>Seasonally adjusted at annual rates</td>\n      <td>Seasonally adjusted at annual rates</td>\n      <td>Seasonally adjusted at annual rates</td>\n      <td>Seasonally adjusted at annual rates</td>\n      <td>Seasonally adjusted at annual rates</td>\n      <td>...</td>\n      <td>NaN</td>\n      <td>NaN</td>\n      <td>NaN</td>\n      <td>NaN</td>\n      <td>NaN</td>\n      <td>NaN</td>\n      <td>NaN</td>\n      <td>NaN</td>\n      <td>NaN</td>\n      <td>NaN</td>\n    </tr>\n    <tr>\n      <th>1</th>\n      <td>Line</td>\n      <td>NaN</td>\n      <td>2017.0</td>\n      <td>2018.0</td>\n      <td>2019.0</td>\n      <td>2016</td>\n      <td>2017</td>\n      <td>2017</td>\n      <td>2017</td>\n      <td>2017</td>\n      <td>...</td>\n      <td>NaN</td>\n      <td>NaN</td>\n      <td>NaN</td>\n      <td>NaN</td>\n      <td>NaN</td>\n      <td>NaN</td>\n      <td>NaN</td>\n      <td>NaN</td>\n      <td>NaN</td>\n      <td>NaN</td>\n    </tr>\n    <tr>\n      <th>2</th>\n      <td>Line</td>\n      <td>NaN</td>\n      <td>2017.0</td>\n      <td>2018.0</td>\n      <td>2019.0</td>\n      <td>Q4</td>\n      <td>Q1</td>\n      <td>Q2</td>\n      <td>Q3</td>\n      <td>Q4</td>\n      <td>...</td>\n      <td>NaN</td>\n      <td>NaN</td>\n      <td>NaN</td>\n      <td>NaN</td>\n      <td>NaN</td>\n      <td>NaN</td>\n      <td>NaN</td>\n      <td>NaN</td>\n      <td>NaN</td>\n      <td>NaN</td>\n    </tr>\n    <tr>\n      <th>3</th>\n      <td>1</td>\n      <td>Gross domestic product</td>\n      <td>2.3</td>\n      <td>3.0</td>\n      <td>2.2</td>\n      <td>2.5</td>\n      <td>2.3</td>\n      <td>1.7</td>\n      <td>2.9</td>\n      <td>3.9</td>\n      <td>...</td>\n      <td>NaN</td>\n      <td>NaN</td>\n      <td>NaN</td>\n      <td>NaN</td>\n      <td>NaN</td>\n      <td>NaN</td>\n      <td>NaN</td>\n      <td>NaN</td>\n      <td>NaN</td>\n      <td>NaN</td>\n    </tr>\n    <tr>\n      <th>4</th>\n      <td>2</td>\n      <td>Private industries</td>\n      <td>2.5</td>\n      <td>3.2</td>\n      <td>2.4</td>\n      <td>2.8</td>\n      <td>2.5</td>\n      <td>1.9</td>\n      <td>3.1</td>\n      <td>4.2</td>\n      <td>...</td>\n      <td>NaN</td>\n      <td>NaN</td>\n      <td>NaN</td>\n      <td>NaN</td>\n      <td>NaN</td>\n      <td>NaN</td>\n      <td>NaN</td>\n      <td>NaN</td>\n      <td>NaN</td>\n      <td>NaN</td>\n    </tr>\n  </tbody>\n</table>\n<p>5 rows × 43 columns</p>\n</div>"
     },
     "execution_count": 100,
     "metadata": {},
     "output_type": "execute_result"
    }
   ],
   "source": [
    "df_usGDP12.head()"
   ],
   "metadata": {
    "collapsed": false,
    "pycharm": {
     "name": "#%%\n"
    }
   }
  },
  {
   "cell_type": "markdown",
   "source": [
    "## US GDP by Industry Group: Level abd Change from Preceding Period"
   ],
   "metadata": {
    "collapsed": false
   }
  },
  {
   "cell_type": "code",
   "execution_count": 101,
   "outputs": [
    {
     "data": {
      "text/plain": "  Table 14. Gross Domestic Product by Industry Group: Level and Change from Preceding Period  \\\n0                                               Line                                           \n1                                               Line                                           \n2                                               Line                                           \n3                                               Line                                           \n4                                                  1                                           \n\n               Unnamed: 1           Unnamed: 2  \\\n0                     NaN  Billions of dollars   \n1                     NaN                 2019   \n2                     NaN                 2019   \n3                     NaN                 2019   \n4  Gross domestic product              21433.2   \n\n                            Unnamed: 3                           Unnamed: 4  \\\n0                  Billions of dollars                  Billions of dollars   \n1  Seasonally adjusted at annual rates  Seasonally adjusted at annual rates   \n2                                 2019                                 2019   \n3                                   Q3                                   Q4   \n4                              21540.3                              21747.4   \n\n                            Unnamed: 5                           Unnamed: 6  \\\n0                  Billions of dollars                  Billions of dollars   \n1  Seasonally adjusted at annual rates  Seasonally adjusted at annual rates   \n2                                 2020                                 2020   \n3                                   Q1                                   Q2   \n4                              21561.1                              19520.1   \n\n                            Unnamed: 7                          Unnamed: 8  \\\n0                  Billions of dollars  Billions of chained (2012) dollars   \n1  Seasonally adjusted at annual rates                                2019   \n2                                 2020                                2019   \n3                                   Q3                                2019   \n4                              21170.3                             19091.7   \n\n                            Unnamed: 9  ...  \\\n0   Billions of chained (2012) dollars  ...   \n1  Seasonally adjusted at annual rates  ...   \n2                                 2019  ...   \n3                                   Q3  ...   \n4                              19141.7  ...   \n\n                          Unnamed: 14                         Unnamed: 15  \\\n0  Billions of chained (2012) dollars  Billions of chained (2012) dollars   \n1        Change from preceding period        Change from preceding period   \n2                                2019                                2020   \n3                                2019                                  Q2   \n4                               403.9                             -1708.3   \n\n                          Unnamed: 16 Unnamed: 17 Unnamed: 18 Unnamed: 19  \\\n0  Billions of chained (2012) dollars         NaN         NaN         NaN   \n1        Change from preceding period         NaN         NaN         NaN   \n2                                2020         NaN         NaN         NaN   \n3                                  Q3         NaN         NaN         NaN   \n4                                1294         NaN         NaN         NaN   \n\n  Unnamed: 20  Unnamed: 21  Unnamed: 22  Unnamed: 23  \n0         NaN          NaN          NaN          NaN  \n1         NaN          NaN          NaN          NaN  \n2         NaN          NaN          NaN          NaN  \n3         NaN          NaN          NaN          NaN  \n4         NaN          NaN          NaN          NaN  \n\n[5 rows x 24 columns]",
      "text/html": "<div>\n<style scoped>\n    .dataframe tbody tr th:only-of-type {\n        vertical-align: middle;\n    }\n\n    .dataframe tbody tr th {\n        vertical-align: top;\n    }\n\n    .dataframe thead th {\n        text-align: right;\n    }\n</style>\n<table border=\"1\" class=\"dataframe\">\n  <thead>\n    <tr style=\"text-align: right;\">\n      <th></th>\n      <th>Table 14. Gross Domestic Product by Industry Group: Level and Change from Preceding Period</th>\n      <th>Unnamed: 1</th>\n      <th>Unnamed: 2</th>\n      <th>Unnamed: 3</th>\n      <th>Unnamed: 4</th>\n      <th>Unnamed: 5</th>\n      <th>Unnamed: 6</th>\n      <th>Unnamed: 7</th>\n      <th>Unnamed: 8</th>\n      <th>Unnamed: 9</th>\n      <th>...</th>\n      <th>Unnamed: 14</th>\n      <th>Unnamed: 15</th>\n      <th>Unnamed: 16</th>\n      <th>Unnamed: 17</th>\n      <th>Unnamed: 18</th>\n      <th>Unnamed: 19</th>\n      <th>Unnamed: 20</th>\n      <th>Unnamed: 21</th>\n      <th>Unnamed: 22</th>\n      <th>Unnamed: 23</th>\n    </tr>\n  </thead>\n  <tbody>\n    <tr>\n      <th>0</th>\n      <td>Line</td>\n      <td>NaN</td>\n      <td>Billions of dollars</td>\n      <td>Billions of dollars</td>\n      <td>Billions of dollars</td>\n      <td>Billions of dollars</td>\n      <td>Billions of dollars</td>\n      <td>Billions of dollars</td>\n      <td>Billions of chained (2012) dollars</td>\n      <td>Billions of chained (2012) dollars</td>\n      <td>...</td>\n      <td>Billions of chained (2012) dollars</td>\n      <td>Billions of chained (2012) dollars</td>\n      <td>Billions of chained (2012) dollars</td>\n      <td>NaN</td>\n      <td>NaN</td>\n      <td>NaN</td>\n      <td>NaN</td>\n      <td>NaN</td>\n      <td>NaN</td>\n      <td>NaN</td>\n    </tr>\n    <tr>\n      <th>1</th>\n      <td>Line</td>\n      <td>NaN</td>\n      <td>2019</td>\n      <td>Seasonally adjusted at annual rates</td>\n      <td>Seasonally adjusted at annual rates</td>\n      <td>Seasonally adjusted at annual rates</td>\n      <td>Seasonally adjusted at annual rates</td>\n      <td>Seasonally adjusted at annual rates</td>\n      <td>2019</td>\n      <td>Seasonally adjusted at annual rates</td>\n      <td>...</td>\n      <td>Change from preceding period</td>\n      <td>Change from preceding period</td>\n      <td>Change from preceding period</td>\n      <td>NaN</td>\n      <td>NaN</td>\n      <td>NaN</td>\n      <td>NaN</td>\n      <td>NaN</td>\n      <td>NaN</td>\n      <td>NaN</td>\n    </tr>\n    <tr>\n      <th>2</th>\n      <td>Line</td>\n      <td>NaN</td>\n      <td>2019</td>\n      <td>2019</td>\n      <td>2019</td>\n      <td>2020</td>\n      <td>2020</td>\n      <td>2020</td>\n      <td>2019</td>\n      <td>2019</td>\n      <td>...</td>\n      <td>2019</td>\n      <td>2020</td>\n      <td>2020</td>\n      <td>NaN</td>\n      <td>NaN</td>\n      <td>NaN</td>\n      <td>NaN</td>\n      <td>NaN</td>\n      <td>NaN</td>\n      <td>NaN</td>\n    </tr>\n    <tr>\n      <th>3</th>\n      <td>Line</td>\n      <td>NaN</td>\n      <td>2019</td>\n      <td>Q3</td>\n      <td>Q4</td>\n      <td>Q1</td>\n      <td>Q2</td>\n      <td>Q3</td>\n      <td>2019</td>\n      <td>Q3</td>\n      <td>...</td>\n      <td>2019</td>\n      <td>Q2</td>\n      <td>Q3</td>\n      <td>NaN</td>\n      <td>NaN</td>\n      <td>NaN</td>\n      <td>NaN</td>\n      <td>NaN</td>\n      <td>NaN</td>\n      <td>NaN</td>\n    </tr>\n    <tr>\n      <th>4</th>\n      <td>1</td>\n      <td>Gross domestic product</td>\n      <td>21433.2</td>\n      <td>21540.3</td>\n      <td>21747.4</td>\n      <td>21561.1</td>\n      <td>19520.1</td>\n      <td>21170.3</td>\n      <td>19091.7</td>\n      <td>19141.7</td>\n      <td>...</td>\n      <td>403.9</td>\n      <td>-1708.3</td>\n      <td>1294</td>\n      <td>NaN</td>\n      <td>NaN</td>\n      <td>NaN</td>\n      <td>NaN</td>\n      <td>NaN</td>\n      <td>NaN</td>\n      <td>NaN</td>\n    </tr>\n  </tbody>\n</table>\n<p>5 rows × 24 columns</p>\n</div>"
     },
     "execution_count": 101,
     "metadata": {},
     "output_type": "execute_result"
    }
   ],
   "source": [
    "df_usGDP14.head()"
   ],
   "metadata": {
    "collapsed": false,
    "pycharm": {
     "name": "#%%\n"
    }
   }
  },
  {
   "cell_type": "markdown",
   "source": [
    "# European countries GDP"
   ],
   "metadata": {
    "collapsed": false,
    "pycharm": {
     "name": "#%% md\n"
    }
   }
  },
  {
   "cell_type": "code",
   "execution_count": 102,
   "outputs": [
    {
     "data": {
      "text/plain": "  s_adj     unit na_item geo\\time  2020Q3   2020Q2   2020Q1   2019Q4   \\\n0   NSA  CLV_I10     B11       AU  -340.6   -668.8   -571.8   -438.6    \n1   NSA  CLV_I10     B11       BR  -102.5   -105.8     49.8     19.0    \n2   NSA  CLV_I10     B11       CL     5.4    191.3     95.2     -8.9    \n3   NSA  CLV_I10     B11       CO   346.4    242.8    332.5    365.5    \n4   NSA  CLV_I10     B11       CR   215.7    205.6   -162.0    254.5    \n\n   2019Q3   2019Q2   ...  1977Q2   1977Q1   1976Q4   1976Q3   1976Q2   \\\n0  -406.1   -432.1   ...  -127.4   -104.1   -137.6   -144.7   -135.5    \n1    54.7    -18.5   ...       :        :        :        :        :    \n2   -94.2    -65.5   ...       :        :        :        :        :    \n3   412.6    375.9   ...       :        :        :        :        :    \n4   114.6     79.3   ...       :        :        :        :        :    \n\n   1976Q1   1975Q4   1975Q3   1975Q2   1975Q1  \n0  -114.9   -125.3   -126.8   -150.1   -118.2  \n1       :        :        :        :        :  \n2       :        :        :        :        :  \n3       :        :        :        :        :  \n4       :        :        :        :        :  \n\n[5 rows x 187 columns]",
      "text/html": "<div>\n<style scoped>\n    .dataframe tbody tr th:only-of-type {\n        vertical-align: middle;\n    }\n\n    .dataframe tbody tr th {\n        vertical-align: top;\n    }\n\n    .dataframe thead th {\n        text-align: right;\n    }\n</style>\n<table border=\"1\" class=\"dataframe\">\n  <thead>\n    <tr style=\"text-align: right;\">\n      <th></th>\n      <th>s_adj</th>\n      <th>unit</th>\n      <th>na_item</th>\n      <th>geo\\time</th>\n      <th>2020Q3</th>\n      <th>2020Q2</th>\n      <th>2020Q1</th>\n      <th>2019Q4</th>\n      <th>2019Q3</th>\n      <th>2019Q2</th>\n      <th>...</th>\n      <th>1977Q2</th>\n      <th>1977Q1</th>\n      <th>1976Q4</th>\n      <th>1976Q3</th>\n      <th>1976Q2</th>\n      <th>1976Q1</th>\n      <th>1975Q4</th>\n      <th>1975Q3</th>\n      <th>1975Q2</th>\n      <th>1975Q1</th>\n    </tr>\n  </thead>\n  <tbody>\n    <tr>\n      <th>0</th>\n      <td>NSA</td>\n      <td>CLV_I10</td>\n      <td>B11</td>\n      <td>AU</td>\n      <td>-340.6</td>\n      <td>-668.8</td>\n      <td>-571.8</td>\n      <td>-438.6</td>\n      <td>-406.1</td>\n      <td>-432.1</td>\n      <td>...</td>\n      <td>-127.4</td>\n      <td>-104.1</td>\n      <td>-137.6</td>\n      <td>-144.7</td>\n      <td>-135.5</td>\n      <td>-114.9</td>\n      <td>-125.3</td>\n      <td>-126.8</td>\n      <td>-150.1</td>\n      <td>-118.2</td>\n    </tr>\n    <tr>\n      <th>1</th>\n      <td>NSA</td>\n      <td>CLV_I10</td>\n      <td>B11</td>\n      <td>BR</td>\n      <td>-102.5</td>\n      <td>-105.8</td>\n      <td>49.8</td>\n      <td>19.0</td>\n      <td>54.7</td>\n      <td>-18.5</td>\n      <td>...</td>\n      <td>:</td>\n      <td>:</td>\n      <td>:</td>\n      <td>:</td>\n      <td>:</td>\n      <td>:</td>\n      <td>:</td>\n      <td>:</td>\n      <td>:</td>\n      <td>:</td>\n    </tr>\n    <tr>\n      <th>2</th>\n      <td>NSA</td>\n      <td>CLV_I10</td>\n      <td>B11</td>\n      <td>CL</td>\n      <td>5.4</td>\n      <td>191.3</td>\n      <td>95.2</td>\n      <td>-8.9</td>\n      <td>-94.2</td>\n      <td>-65.5</td>\n      <td>...</td>\n      <td>:</td>\n      <td>:</td>\n      <td>:</td>\n      <td>:</td>\n      <td>:</td>\n      <td>:</td>\n      <td>:</td>\n      <td>:</td>\n      <td>:</td>\n      <td>:</td>\n    </tr>\n    <tr>\n      <th>3</th>\n      <td>NSA</td>\n      <td>CLV_I10</td>\n      <td>B11</td>\n      <td>CO</td>\n      <td>346.4</td>\n      <td>242.8</td>\n      <td>332.5</td>\n      <td>365.5</td>\n      <td>412.6</td>\n      <td>375.9</td>\n      <td>...</td>\n      <td>:</td>\n      <td>:</td>\n      <td>:</td>\n      <td>:</td>\n      <td>:</td>\n      <td>:</td>\n      <td>:</td>\n      <td>:</td>\n      <td>:</td>\n      <td>:</td>\n    </tr>\n    <tr>\n      <th>4</th>\n      <td>NSA</td>\n      <td>CLV_I10</td>\n      <td>B11</td>\n      <td>CR</td>\n      <td>215.7</td>\n      <td>205.6</td>\n      <td>-162.0</td>\n      <td>254.5</td>\n      <td>114.6</td>\n      <td>79.3</td>\n      <td>...</td>\n      <td>:</td>\n      <td>:</td>\n      <td>:</td>\n      <td>:</td>\n      <td>:</td>\n      <td>:</td>\n      <td>:</td>\n      <td>:</td>\n      <td>:</td>\n      <td>:</td>\n    </tr>\n  </tbody>\n</table>\n<p>5 rows × 187 columns</p>\n</div>"
     },
     "execution_count": 102,
     "metadata": {},
     "output_type": "execute_result"
    }
   ],
   "source": [
    "df_allEuropeGDP.head()"
   ],
   "metadata": {
    "collapsed": false,
    "pycharm": {
     "name": "#%%\n"
    }
   }
  },
  {
   "cell_type": "markdown",
   "source": [
    "---\n",
    "# Step 1: Data Cleaning\n",
    "* Remove \"empty\" cells\n",
    "* Subset selection\n",
    "## Cleaning COVID Dataset"
   ],
   "metadata": {
    "collapsed": false,
    "pycharm": {
     "name": "#%% md\n"
    }
   }
  },
  {
   "cell_type": "code",
   "execution_count": 166,
   "outputs": [
    {
     "name": "stdout",
     "output_type": "stream",
     "text": [
      "<class 'pandas.core.frame.DataFrame'>\n",
      "DatetimeIndex: 68569 entries, 2020-01-22 to 2021-01-14\n",
      "Data columns (total 4 columns):\n",
      " #   Column     Non-Null Count  Dtype \n",
      "---  ------     --------------  ----- \n",
      " 0   Country    68569 non-null  object\n",
      " 1   Confirmed  68569 non-null  int64 \n",
      " 2   Recovered  68569 non-null  int64 \n",
      " 3   Deaths     68569 non-null  int64 \n",
      "dtypes: int64(3), object(1)\n",
      "memory usage: 4.6+ MB\n",
      "<class 'pandas.core.frame.DataFrame'>\n",
      "DatetimeIndex: 65895 entries, 2020-01-22 to 2020-12-31\n",
      "Data columns (total 4 columns):\n",
      " #   Column     Non-Null Count  Dtype \n",
      "---  ------     --------------  ----- \n",
      " 0   Country    65895 non-null  object\n",
      " 1   Confirmed  65895 non-null  int64 \n",
      " 2   Recovered  65895 non-null  int64 \n",
      " 3   Deaths     65895 non-null  int64 \n",
      "dtypes: int64(3), object(1)\n",
      "memory usage: 2.5+ MB\n",
      "<class 'pandas.core.frame.DataFrame'>\n",
      "DatetimeIndex: 345 entries, 2020-01-22 to 2020-12-31\n",
      "Data columns (total 4 columns):\n",
      " #   Column     Non-Null Count  Dtype \n",
      "---  ------     --------------  ----- \n",
      " 0   Country    345 non-null    object\n",
      " 1   Confirmed  345 non-null    int64 \n",
      " 2   Recovered  345 non-null    int64 \n",
      " 3   Deaths     345 non-null    int64 \n",
      "dtypes: int64(3), object(1)\n",
      "memory usage: 13.5+ KB\n"
     ]
    },
    {
     "data": {
      "text/plain": "  s_adj     unit na_item geo\\time  2020Q3   2020Q2   2020Q1   2019Q4   \\\n0   NSA  CLV_I10     B11       AU  -340.6   -668.8   -571.8   -438.6    \n1   NSA  CLV_I10     B11       BR  -102.5   -105.8     49.8     19.0    \n2   NSA  CLV_I10     B11       CL     5.4    191.3     95.2     -8.9    \n3   NSA  CLV_I10     B11       CO   346.4    242.8    332.5    365.5    \n4   NSA  CLV_I10     B11       CR   215.7    205.6   -162.0    254.5    \n\n   2019Q3   2019Q2   ...  1977Q2   1977Q1   1976Q4   1976Q3   1976Q2   \\\n0  -406.1   -432.1   ...  -127.4   -104.1   -137.6   -144.7   -135.5    \n1    54.7    -18.5   ...       :        :        :        :        :    \n2   -94.2    -65.5   ...       :        :        :        :        :    \n3   412.6    375.9   ...       :        :        :        :        :    \n4   114.6     79.3   ...       :        :        :        :        :    \n\n   1976Q1   1975Q4   1975Q3   1975Q2   1975Q1  \n0  -114.9   -125.3   -126.8   -150.1   -118.2  \n1       :        :        :        :        :  \n2       :        :        :        :        :  \n3       :        :        :        :        :  \n4       :        :        :        :        :  \n\n[5 rows x 187 columns]",
      "text/html": "<div>\n<style scoped>\n    .dataframe tbody tr th:only-of-type {\n        vertical-align: middle;\n    }\n\n    .dataframe tbody tr th {\n        vertical-align: top;\n    }\n\n    .dataframe thead th {\n        text-align: right;\n    }\n</style>\n<table border=\"1\" class=\"dataframe\">\n  <thead>\n    <tr style=\"text-align: right;\">\n      <th></th>\n      <th>s_adj</th>\n      <th>unit</th>\n      <th>na_item</th>\n      <th>geo\\time</th>\n      <th>2020Q3</th>\n      <th>2020Q2</th>\n      <th>2020Q1</th>\n      <th>2019Q4</th>\n      <th>2019Q3</th>\n      <th>2019Q2</th>\n      <th>...</th>\n      <th>1977Q2</th>\n      <th>1977Q1</th>\n      <th>1976Q4</th>\n      <th>1976Q3</th>\n      <th>1976Q2</th>\n      <th>1976Q1</th>\n      <th>1975Q4</th>\n      <th>1975Q3</th>\n      <th>1975Q2</th>\n      <th>1975Q1</th>\n    </tr>\n  </thead>\n  <tbody>\n    <tr>\n      <th>0</th>\n      <td>NSA</td>\n      <td>CLV_I10</td>\n      <td>B11</td>\n      <td>AU</td>\n      <td>-340.6</td>\n      <td>-668.8</td>\n      <td>-571.8</td>\n      <td>-438.6</td>\n      <td>-406.1</td>\n      <td>-432.1</td>\n      <td>...</td>\n      <td>-127.4</td>\n      <td>-104.1</td>\n      <td>-137.6</td>\n      <td>-144.7</td>\n      <td>-135.5</td>\n      <td>-114.9</td>\n      <td>-125.3</td>\n      <td>-126.8</td>\n      <td>-150.1</td>\n      <td>-118.2</td>\n    </tr>\n    <tr>\n      <th>1</th>\n      <td>NSA</td>\n      <td>CLV_I10</td>\n      <td>B11</td>\n      <td>BR</td>\n      <td>-102.5</td>\n      <td>-105.8</td>\n      <td>49.8</td>\n      <td>19.0</td>\n      <td>54.7</td>\n      <td>-18.5</td>\n      <td>...</td>\n      <td>:</td>\n      <td>:</td>\n      <td>:</td>\n      <td>:</td>\n      <td>:</td>\n      <td>:</td>\n      <td>:</td>\n      <td>:</td>\n      <td>:</td>\n      <td>:</td>\n    </tr>\n    <tr>\n      <th>2</th>\n      <td>NSA</td>\n      <td>CLV_I10</td>\n      <td>B11</td>\n      <td>CL</td>\n      <td>5.4</td>\n      <td>191.3</td>\n      <td>95.2</td>\n      <td>-8.9</td>\n      <td>-94.2</td>\n      <td>-65.5</td>\n      <td>...</td>\n      <td>:</td>\n      <td>:</td>\n      <td>:</td>\n      <td>:</td>\n      <td>:</td>\n      <td>:</td>\n      <td>:</td>\n      <td>:</td>\n      <td>:</td>\n      <td>:</td>\n    </tr>\n    <tr>\n      <th>3</th>\n      <td>NSA</td>\n      <td>CLV_I10</td>\n      <td>B11</td>\n      <td>CO</td>\n      <td>346.4</td>\n      <td>242.8</td>\n      <td>332.5</td>\n      <td>365.5</td>\n      <td>412.6</td>\n      <td>375.9</td>\n      <td>...</td>\n      <td>:</td>\n      <td>:</td>\n      <td>:</td>\n      <td>:</td>\n      <td>:</td>\n      <td>:</td>\n      <td>:</td>\n      <td>:</td>\n      <td>:</td>\n      <td>:</td>\n    </tr>\n    <tr>\n      <th>4</th>\n      <td>NSA</td>\n      <td>CLV_I10</td>\n      <td>B11</td>\n      <td>CR</td>\n      <td>215.7</td>\n      <td>205.6</td>\n      <td>-162.0</td>\n      <td>254.5</td>\n      <td>114.6</td>\n      <td>79.3</td>\n      <td>...</td>\n      <td>:</td>\n      <td>:</td>\n      <td>:</td>\n      <td>:</td>\n      <td>:</td>\n      <td>:</td>\n      <td>:</td>\n      <td>:</td>\n      <td>:</td>\n      <td>:</td>\n    </tr>\n  </tbody>\n</table>\n<p>5 rows × 187 columns</p>\n</div>"
     },
     "execution_count": 166,
     "metadata": {},
     "output_type": "execute_result"
    },
    {
     "data": {
      "text/plain": "<Figure size 1080x576 with 1 Axes>",
      "image/png": "[encoded data removed]"
     },
     "metadata": {
      "needs_background": "light"
     },
     "output_type": "display_data"
    }
   ],
   "source": [
    "#countries = ['Germany', 'Italy', 'France']\n",
    "df_covCountries.info()\n",
    "\n",
    "covData2020 = df_covCountries[df_covCountries.index.year == 2020]\n",
    "covData2020.info()\n",
    "\n",
    "covData2020Germany = covData2020[covData2020['Country'] == \"Germany\"]\n",
    "covData2020Germany.info()\n",
    "\n",
    "#covData2020Germany.plot(figsize=(15,10))\n",
    "covData2020Germany['Deaths'].plot()\n",
    "\n",
    "\n",
    "df_allEuropeGDP.head()"
   ],
   "metadata": {
    "collapsed": false,
    "pycharm": {
     "name": "#%%\n"
    }
   }
  },
  {
   "cell_type": "markdown",
   "source": [
    "# Step 2: Data Preparation\n",
    "* chose Countries:\n",
    "    * Upper and lower end of GDP (Note: Probably not representative, Perhaps further calculations necessary?)\n",
    "\n"
   ],
   "metadata": {
    "collapsed": false,
    "pycharm": {
     "name": "#%% md\n"
    }
   }
  },
  {
   "cell_type": "code",
   "execution_count": 307,
   "outputs": [
    {
     "name": "stdout",
     "output_type": "stream",
     "text": [
      "<class 'pandas.core.frame.DataFrame'>\n",
      "RangeIndex: 2149 entries, 0 to 2148\n",
      "Columns: 187 entries, s_adj to 1975Q1\n",
      "dtypes: object(187)\n",
      "memory usage: 3.1+ MB\n"
     ]
    },
    {
     "ename": "ValueError",
     "evalue": "could not convert string to float: ': '",
     "output_type": "error",
     "traceback": [
      "\u001B[0;31m---------------------------------------------------------------------------\u001B[0m",
      "\u001B[0;31mValueError\u001B[0m                                Traceback (most recent call last)",
      "\u001B[0;32m<ipython-input-307-c01c8dd98bb5>\u001B[0m in \u001B[0;36m<module>\u001B[0;34m\u001B[0m\n\u001B[1;32m      6\u001B[0m \u001B[0mtest\u001B[0m \u001B[0;34m=\u001B[0m \u001B[0mlast10years\u001B[0m\u001B[0;34m.\u001B[0m\u001B[0miloc\u001B[0m\u001B[0;34m[\u001B[0m\u001B[0;34m:\u001B[0m\u001B[0;34m,\u001B[0m\u001B[0;36m1\u001B[0m\u001B[0;34m:\u001B[0m\u001B[0;36m3\u001B[0m\u001B[0;34m]\u001B[0m\u001B[0;34m\u001B[0m\u001B[0;34m\u001B[0m\u001B[0m\n\u001B[1;32m      7\u001B[0m \u001B[0mlast10years\u001B[0m \u001B[0;34m=\u001B[0m \u001B[0mlast10years\u001B[0m\u001B[0;34m.\u001B[0m\u001B[0mreplace\u001B[0m\u001B[0;34m(\u001B[0m\u001B[0mto_replace\u001B[0m\u001B[0;34m=\u001B[0m\u001B[0;34mr'p'\u001B[0m\u001B[0;34m,\u001B[0m\u001B[0mvalue\u001B[0m\u001B[0;34m=\u001B[0m\u001B[0;34m''\u001B[0m\u001B[0;34m,\u001B[0m\u001B[0mregex\u001B[0m\u001B[0;34m=\u001B[0m\u001B[0;32mTrue\u001B[0m\u001B[0;34m)\u001B[0m\u001B[0;34m\u001B[0m\u001B[0;34m\u001B[0m\u001B[0m\n\u001B[0;32m----> 8\u001B[0;31m \u001B[0mlast10years\u001B[0m\u001B[0;34m.\u001B[0m\u001B[0miloc\u001B[0m\u001B[0;34m[\u001B[0m\u001B[0;34m:\u001B[0m\u001B[0;34m,\u001B[0m\u001B[0;36m1\u001B[0m\u001B[0;34m:\u001B[0m\u001B[0;34m]\u001B[0m\u001B[0;34m.\u001B[0m\u001B[0mastype\u001B[0m\u001B[0;34m(\u001B[0m\u001B[0mfloat\u001B[0m\u001B[0;34m)\u001B[0m\u001B[0;34m\u001B[0m\u001B[0;34m\u001B[0m\u001B[0m\n\u001B[0m\u001B[1;32m      9\u001B[0m \u001B[0mlast10years\u001B[0m\u001B[0;34m\u001B[0m\u001B[0;34m\u001B[0m\u001B[0m\n\u001B[1;32m     10\u001B[0m \u001B[0;31m#last10years.info()\u001B[0m\u001B[0;34m\u001B[0m\u001B[0;34m\u001B[0m\u001B[0;34m\u001B[0m\u001B[0m\n",
      "\u001B[0;32m/usr/lib/python3.9/site-packages/pandas/core/generic.py\u001B[0m in \u001B[0;36mastype\u001B[0;34m(self, dtype, copy, errors)\u001B[0m\n\u001B[1;32m   5870\u001B[0m         \u001B[0;32melse\u001B[0m\u001B[0;34m:\u001B[0m\u001B[0;34m\u001B[0m\u001B[0;34m\u001B[0m\u001B[0m\n\u001B[1;32m   5871\u001B[0m             \u001B[0;31m# else, only a single dtype is given\u001B[0m\u001B[0;34m\u001B[0m\u001B[0;34m\u001B[0m\u001B[0;34m\u001B[0m\u001B[0m\n\u001B[0;32m-> 5872\u001B[0;31m             \u001B[0mnew_data\u001B[0m \u001B[0;34m=\u001B[0m \u001B[0mself\u001B[0m\u001B[0;34m.\u001B[0m\u001B[0m_mgr\u001B[0m\u001B[0;34m.\u001B[0m\u001B[0mastype\u001B[0m\u001B[0;34m(\u001B[0m\u001B[0mdtype\u001B[0m\u001B[0;34m=\u001B[0m\u001B[0mdtype\u001B[0m\u001B[0;34m,\u001B[0m \u001B[0mcopy\u001B[0m\u001B[0;34m=\u001B[0m\u001B[0mcopy\u001B[0m\u001B[0;34m,\u001B[0m \u001B[0merrors\u001B[0m\u001B[0;34m=\u001B[0m\u001B[0merrors\u001B[0m\u001B[0;34m)\u001B[0m\u001B[0;34m\u001B[0m\u001B[0;34m\u001B[0m\u001B[0m\n\u001B[0m\u001B[1;32m   5873\u001B[0m             \u001B[0;32mreturn\u001B[0m \u001B[0mself\u001B[0m\u001B[0;34m.\u001B[0m\u001B[0m_constructor\u001B[0m\u001B[0;34m(\u001B[0m\u001B[0mnew_data\u001B[0m\u001B[0;34m)\u001B[0m\u001B[0;34m.\u001B[0m\u001B[0m__finalize__\u001B[0m\u001B[0;34m(\u001B[0m\u001B[0mself\u001B[0m\u001B[0;34m,\u001B[0m \u001B[0mmethod\u001B[0m\u001B[0;34m=\u001B[0m\u001B[0;34m\"astype\"\u001B[0m\u001B[0;34m)\u001B[0m\u001B[0;34m\u001B[0m\u001B[0;34m\u001B[0m\u001B[0m\n\u001B[1;32m   5874\u001B[0m \u001B[0;34m\u001B[0m\u001B[0m\n",
      "\u001B[0;32m/usr/lib/python3.9/site-packages/pandas/core/internals/managers.py\u001B[0m in \u001B[0;36mastype\u001B[0;34m(self, dtype, copy, errors)\u001B[0m\n\u001B[1;32m    629\u001B[0m         \u001B[0mself\u001B[0m\u001B[0;34m,\u001B[0m \u001B[0mdtype\u001B[0m\u001B[0;34m,\u001B[0m \u001B[0mcopy\u001B[0m\u001B[0;34m:\u001B[0m \u001B[0mbool\u001B[0m \u001B[0;34m=\u001B[0m \u001B[0;32mFalse\u001B[0m\u001B[0;34m,\u001B[0m \u001B[0merrors\u001B[0m\u001B[0;34m:\u001B[0m \u001B[0mstr\u001B[0m \u001B[0;34m=\u001B[0m \u001B[0;34m\"raise\"\u001B[0m\u001B[0;34m\u001B[0m\u001B[0;34m\u001B[0m\u001B[0m\n\u001B[1;32m    630\u001B[0m     ) -> \"BlockManager\":\n\u001B[0;32m--> 631\u001B[0;31m         \u001B[0;32mreturn\u001B[0m \u001B[0mself\u001B[0m\u001B[0;34m.\u001B[0m\u001B[0mapply\u001B[0m\u001B[0;34m(\u001B[0m\u001B[0;34m\"astype\"\u001B[0m\u001B[0;34m,\u001B[0m \u001B[0mdtype\u001B[0m\u001B[0;34m=\u001B[0m\u001B[0mdtype\u001B[0m\u001B[0;34m,\u001B[0m \u001B[0mcopy\u001B[0m\u001B[0;34m=\u001B[0m\u001B[0mcopy\u001B[0m\u001B[0;34m,\u001B[0m \u001B[0merrors\u001B[0m\u001B[0;34m=\u001B[0m\u001B[0merrors\u001B[0m\u001B[0;34m)\u001B[0m\u001B[0;34m\u001B[0m\u001B[0;34m\u001B[0m\u001B[0m\n\u001B[0m\u001B[1;32m    632\u001B[0m \u001B[0;34m\u001B[0m\u001B[0m\n\u001B[1;32m    633\u001B[0m     def convert(\n",
      "\u001B[0;32m/usr/lib/python3.9/site-packages/pandas/core/internals/managers.py\u001B[0m in \u001B[0;36mapply\u001B[0;34m(self, f, align_keys, ignore_failures, **kwargs)\u001B[0m\n\u001B[1;32m    425\u001B[0m                     \u001B[0mapplied\u001B[0m \u001B[0;34m=\u001B[0m \u001B[0mb\u001B[0m\u001B[0;34m.\u001B[0m\u001B[0mapply\u001B[0m\u001B[0;34m(\u001B[0m\u001B[0mf\u001B[0m\u001B[0;34m,\u001B[0m \u001B[0;34m**\u001B[0m\u001B[0mkwargs\u001B[0m\u001B[0;34m)\u001B[0m\u001B[0;34m\u001B[0m\u001B[0;34m\u001B[0m\u001B[0m\n\u001B[1;32m    426\u001B[0m                 \u001B[0;32melse\u001B[0m\u001B[0;34m:\u001B[0m\u001B[0;34m\u001B[0m\u001B[0;34m\u001B[0m\u001B[0m\n\u001B[0;32m--> 427\u001B[0;31m                     \u001B[0mapplied\u001B[0m \u001B[0;34m=\u001B[0m \u001B[0mgetattr\u001B[0m\u001B[0;34m(\u001B[0m\u001B[0mb\u001B[0m\u001B[0;34m,\u001B[0m \u001B[0mf\u001B[0m\u001B[0;34m)\u001B[0m\u001B[0;34m(\u001B[0m\u001B[0;34m**\u001B[0m\u001B[0mkwargs\u001B[0m\u001B[0;34m)\u001B[0m\u001B[0;34m\u001B[0m\u001B[0;34m\u001B[0m\u001B[0m\n\u001B[0m\u001B[1;32m    428\u001B[0m             \u001B[0;32mexcept\u001B[0m \u001B[0;34m(\u001B[0m\u001B[0mTypeError\u001B[0m\u001B[0;34m,\u001B[0m \u001B[0mNotImplementedError\u001B[0m\u001B[0;34m)\u001B[0m\u001B[0;34m:\u001B[0m\u001B[0;34m\u001B[0m\u001B[0;34m\u001B[0m\u001B[0m\n\u001B[1;32m    429\u001B[0m                 \u001B[0;32mif\u001B[0m \u001B[0;32mnot\u001B[0m \u001B[0mignore_failures\u001B[0m\u001B[0;34m:\u001B[0m\u001B[0;34m\u001B[0m\u001B[0;34m\u001B[0m\u001B[0m\n",
      "\u001B[0;32m/usr/lib/python3.9/site-packages/pandas/core/internals/blocks.py\u001B[0m in \u001B[0;36mastype\u001B[0;34m(self, dtype, copy, errors)\u001B[0m\n\u001B[1;32m    671\u001B[0m             \u001B[0mvals1d\u001B[0m \u001B[0;34m=\u001B[0m \u001B[0mvalues\u001B[0m\u001B[0;34m.\u001B[0m\u001B[0mravel\u001B[0m\u001B[0;34m(\u001B[0m\u001B[0;34m)\u001B[0m\u001B[0;34m\u001B[0m\u001B[0;34m\u001B[0m\u001B[0m\n\u001B[1;32m    672\u001B[0m             \u001B[0;32mtry\u001B[0m\u001B[0;34m:\u001B[0m\u001B[0;34m\u001B[0m\u001B[0;34m\u001B[0m\u001B[0m\n\u001B[0;32m--> 673\u001B[0;31m                 \u001B[0mvalues\u001B[0m \u001B[0;34m=\u001B[0m \u001B[0mastype_nansafe\u001B[0m\u001B[0;34m(\u001B[0m\u001B[0mvals1d\u001B[0m\u001B[0;34m,\u001B[0m \u001B[0mdtype\u001B[0m\u001B[0;34m,\u001B[0m \u001B[0mcopy\u001B[0m\u001B[0;34m=\u001B[0m\u001B[0;32mTrue\u001B[0m\u001B[0;34m)\u001B[0m\u001B[0;34m\u001B[0m\u001B[0;34m\u001B[0m\u001B[0m\n\u001B[0m\u001B[1;32m    674\u001B[0m             \u001B[0;32mexcept\u001B[0m \u001B[0;34m(\u001B[0m\u001B[0mValueError\u001B[0m\u001B[0;34m,\u001B[0m \u001B[0mTypeError\u001B[0m\u001B[0;34m)\u001B[0m\u001B[0;34m:\u001B[0m\u001B[0;34m\u001B[0m\u001B[0;34m\u001B[0m\u001B[0m\n\u001B[1;32m    675\u001B[0m                 \u001B[0;31m# e.g. astype_nansafe can fail on object-dtype of strings\u001B[0m\u001B[0;34m\u001B[0m\u001B[0;34m\u001B[0m\u001B[0;34m\u001B[0m\u001B[0m\n",
      "\u001B[0;32m/usr/lib/python3.9/site-packages/pandas/core/dtypes/cast.py\u001B[0m in \u001B[0;36mastype_nansafe\u001B[0;34m(arr, dtype, copy, skipna)\u001B[0m\n\u001B[1;32m   1095\u001B[0m     \u001B[0;32mif\u001B[0m \u001B[0mcopy\u001B[0m \u001B[0;32mor\u001B[0m \u001B[0mis_object_dtype\u001B[0m\u001B[0;34m(\u001B[0m\u001B[0marr\u001B[0m\u001B[0;34m)\u001B[0m \u001B[0;32mor\u001B[0m \u001B[0mis_object_dtype\u001B[0m\u001B[0;34m(\u001B[0m\u001B[0mdtype\u001B[0m\u001B[0;34m)\u001B[0m\u001B[0;34m:\u001B[0m\u001B[0;34m\u001B[0m\u001B[0;34m\u001B[0m\u001B[0m\n\u001B[1;32m   1096\u001B[0m         \u001B[0;31m# Explicit copy, or required since NumPy can't view from / to object.\u001B[0m\u001B[0;34m\u001B[0m\u001B[0;34m\u001B[0m\u001B[0;34m\u001B[0m\u001B[0m\n\u001B[0;32m-> 1097\u001B[0;31m         \u001B[0;32mreturn\u001B[0m \u001B[0marr\u001B[0m\u001B[0;34m.\u001B[0m\u001B[0mastype\u001B[0m\u001B[0;34m(\u001B[0m\u001B[0mdtype\u001B[0m\u001B[0;34m,\u001B[0m \u001B[0mcopy\u001B[0m\u001B[0;34m=\u001B[0m\u001B[0;32mTrue\u001B[0m\u001B[0;34m)\u001B[0m\u001B[0;34m\u001B[0m\u001B[0;34m\u001B[0m\u001B[0m\n\u001B[0m\u001B[1;32m   1098\u001B[0m \u001B[0;34m\u001B[0m\u001B[0m\n\u001B[1;32m   1099\u001B[0m     \u001B[0;32mreturn\u001B[0m \u001B[0marr\u001B[0m\u001B[0;34m.\u001B[0m\u001B[0mview\u001B[0m\u001B[0;34m(\u001B[0m\u001B[0mdtype\u001B[0m\u001B[0;34m)\u001B[0m\u001B[0;34m\u001B[0m\u001B[0;34m\u001B[0m\u001B[0m\n",
      "\u001B[0;31mValueError\u001B[0m: could not convert string to float: ': '"
     ]
    }
   ],
   "source": [
    "df_allEuropeGDP.info()\n",
    "df_allEuropeGDP.head()\n",
    "\n",
    "last10years = df_allEuropeGDP.filter(regex=\"(201[0-9]|202[0])|geo\")\n",
    "avgGDP = last10years.filter(regex=\"geo\")\n",
    "test = last10years.iloc[:,1:3]\n",
    "last10years = last10years.replace(to_replace=r'p',value='',regex=True)\n",
    "#last10years.iloc[:,1:].astype(float)\n",
    "last10years\n",
    "#last10years.info()\n",
    "\n",
    "\n",
    "#test['mean'] = test.mean(axis=1)\n",
    "#test['1']=1\n",
    "#test['2']=12\n",
    "#test['mean2']=test.iloc[:,3:5].mean(axis=1)\n",
    "#test.info()\n",
    "\n",
    "#test\n",
    "\n",
    "\n",
    "\n",
    "#avgGDP['avg'] = (last10years.filter(regex=\"(201[0-9]|202[0])\")).mean(axis=1)\n",
    "#avgGDP\n",
    "\n",
    "\n",
    "\n"
   ],
   "metadata": {
    "collapsed": false,
    "pycharm": {
     "name": "#%%\n"
    }
   }
  }
 ],
 "metadata": {
  "kernelspec": {
   "display_name": "PyCharm (data-mining)",
   "language": "python",
   "name": "pycharm-5f424342"
  },
  "language_info": {
   "codemirror_mode": {
    "name": "ipython",
    "version": 3
   },
   "file_extension": ".py",
   "mimetype": "text/x-python",
   "name": "python",
   "nbconvert_exporter": "python",
   "pygments_lexer": "ipython3",
   "version": "3.9.1"
  }
 },
 "nbformat": 4,
 "nbformat_minor": 1
}