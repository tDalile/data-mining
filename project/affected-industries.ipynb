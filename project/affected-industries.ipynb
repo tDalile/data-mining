{
 "cells": [
  {
   "cell_type": "markdown",
   "metadata": {},
   "source": [
    "# Data Preparation\n",
    "## import Datasets (csv)"
   ]
  },
  {
   "cell_type": "code",
   "execution_count": 11,
   "metadata": {
    "pycharm": {
     "name": "#%%\n"
    }
   },
   "outputs": [],
   "source": [
    "## import libraries and adjust settings\n",
    "import pandas as pd\n",
    "import matplotlib.pyplot as plt\n",
    "\n",
    "# Render our plots inline\n",
    "%matplotlib inline\n",
    "\n",
    "# set figure size\n",
    "plt.rcParams['figure.figsize'] = (15, 8)\n",
    "\n",
    "# load datasets\n",
    "\n",
    "# | Confirmed | Recovered | Deaths | per Day for each country\n",
    "## Covid\n",
    "df_countries = pd.read_csv('data/covid/countries-aggregated.csv')\n",
    "df_keyCountries = pd.read_csv('data/covid/key-countries-pivoted.csv')\n",
    "df_references = pd.read_csv('data/covid/reference.csv')\n",
    "df_timeSeries = pd.read_csv('data/covid/time-series-19-covid-combined.csv')\n",
    "df_wwAggr = pd.read_csv('data/covid/worldwide-aggregate.csv')\n",
    "\n",
    "## Industry\n",
    "## us-data\n",
    "df_usGDP3 = pd.read_excel('data/industry/us-gdp.xlsx', sheet_name='Table 3')\n",
    "df_usGDP12 = pd.read_excel('data/industry/us-gdp.xlsx', sheet_name='Table 12')\n",
    "df_usGDP14 = pd.read_excel('data/industry/us-gdp.xlsx', sheet_name='Table 14')\n",
    "\n",
    "\n"
   ]
  },
  {
   "cell_type": "markdown",
   "metadata": {},
   "source": [
    "# COVID-Data\n",
    "## Countries data set\n",
    "The countries-aggregated.csv provides information about the **confirmed, recovered and deaths** cases per day for each country."
   ]
  },
  {
   "cell_type": "code",
   "execution_count": 12,
   "metadata": {},
   "outputs": [
    {
     "data": {
      "text/plain": "         Date      Country  Confirmed  Recovered  Deaths\n0  2020-01-22  Afghanistan          0          0       0\n1  2020-01-23  Afghanistan          0          0       0\n2  2020-01-24  Afghanistan          0          0       0\n3  2020-01-25  Afghanistan          0          0       0\n4  2020-01-26  Afghanistan          0          0       0",
      "text/html": "<div>\n<style scoped>\n    .dataframe tbody tr th:only-of-type {\n        vertical-align: middle;\n    }\n\n    .dataframe tbody tr th {\n        vertical-align: top;\n    }\n\n    .dataframe thead th {\n        text-align: right;\n    }\n</style>\n<table border=\"1\" class=\"dataframe\">\n  <thead>\n    <tr style=\"text-align: right;\">\n      <th></th>\n      <th>Date</th>\n      <th>Country</th>\n      <th>Confirmed</th>\n      <th>Recovered</th>\n      <th>Deaths</th>\n    </tr>\n  </thead>\n  <tbody>\n    <tr>\n      <th>0</th>\n      <td>2020-01-22</td>\n      <td>Afghanistan</td>\n      <td>0</td>\n      <td>0</td>\n      <td>0</td>\n    </tr>\n    <tr>\n      <th>1</th>\n      <td>2020-01-23</td>\n      <td>Afghanistan</td>\n      <td>0</td>\n      <td>0</td>\n      <td>0</td>\n    </tr>\n    <tr>\n      <th>2</th>\n      <td>2020-01-24</td>\n      <td>Afghanistan</td>\n      <td>0</td>\n      <td>0</td>\n      <td>0</td>\n    </tr>\n    <tr>\n      <th>3</th>\n      <td>2020-01-25</td>\n      <td>Afghanistan</td>\n      <td>0</td>\n      <td>0</td>\n      <td>0</td>\n    </tr>\n    <tr>\n      <th>4</th>\n      <td>2020-01-26</td>\n      <td>Afghanistan</td>\n      <td>0</td>\n      <td>0</td>\n      <td>0</td>\n    </tr>\n  </tbody>\n</table>\n</div>"
     },
     "execution_count": 12,
     "metadata": {},
     "output_type": "execute_result"
    }
   ],
   "source": [
    "\n",
    "# .head shows first x rows\n",
    "df_countries.head()"
   ]
  },
  {
   "cell_type": "markdown",
   "metadata": {},
   "source": [
    "## Key-Countries data set\n",
    "The key-countries-pivoted.csv provides information about the confirmed cases within the key countries China, US, UK, Italy, France, Germany, Spain and Iran."
   ]
  },
  {
   "cell_type": "code",
   "execution_count": 13,
   "metadata": {},
   "outputs": [
    {
     "data": {
      "text/plain": "         Date  China  US  United_Kingdom  Italy  France  Germany  Spain  Iran\n0  2020-01-22    548   1               0      0       0        0      0     0\n1  2020-01-23    643   1               0      0       0        0      0     0\n2  2020-01-24    920   2               0      0       2        0      0     0\n3  2020-01-25   1406   2               0      0       3        0      0     0\n4  2020-01-26   2075   5               0      0       3        0      0     0",
      "text/html": "<div>\n<style scoped>\n    .dataframe tbody tr th:only-of-type {\n        vertical-align: middle;\n    }\n\n    .dataframe tbody tr th {\n        vertical-align: top;\n    }\n\n    .dataframe thead th {\n        text-align: right;\n    }\n</style>\n<table border=\"1\" class=\"dataframe\">\n  <thead>\n    <tr style=\"text-align: right;\">\n      <th></th>\n      <th>Date</th>\n      <th>China</th>\n      <th>US</th>\n      <th>United_Kingdom</th>\n      <th>Italy</th>\n      <th>France</th>\n      <th>Germany</th>\n      <th>Spain</th>\n      <th>Iran</th>\n    </tr>\n  </thead>\n  <tbody>\n    <tr>\n      <th>0</th>\n      <td>2020-01-22</td>\n      <td>548</td>\n      <td>1</td>\n      <td>0</td>\n      <td>0</td>\n      <td>0</td>\n      <td>0</td>\n      <td>0</td>\n      <td>0</td>\n    </tr>\n    <tr>\n      <th>1</th>\n      <td>2020-01-23</td>\n      <td>643</td>\n      <td>1</td>\n      <td>0</td>\n      <td>0</td>\n      <td>0</td>\n      <td>0</td>\n      <td>0</td>\n      <td>0</td>\n    </tr>\n    <tr>\n      <th>2</th>\n      <td>2020-01-24</td>\n      <td>920</td>\n      <td>2</td>\n      <td>0</td>\n      <td>0</td>\n      <td>2</td>\n      <td>0</td>\n      <td>0</td>\n      <td>0</td>\n    </tr>\n    <tr>\n      <th>3</th>\n      <td>2020-01-25</td>\n      <td>1406</td>\n      <td>2</td>\n      <td>0</td>\n      <td>0</td>\n      <td>3</td>\n      <td>0</td>\n      <td>0</td>\n      <td>0</td>\n    </tr>\n    <tr>\n      <th>4</th>\n      <td>2020-01-26</td>\n      <td>2075</td>\n      <td>5</td>\n      <td>0</td>\n      <td>0</td>\n      <td>3</td>\n      <td>0</td>\n      <td>0</td>\n      <td>0</td>\n    </tr>\n  </tbody>\n</table>\n</div>"
     },
     "execution_count": 13,
     "metadata": {},
     "output_type": "execute_result"
    }
   ],
   "source": [
    "df_keyCountries.head()"
   ]
  },
  {
   "cell_type": "markdown",
   "metadata": {},
   "source": [
    "## References data set\n",
    "The references.csv provides general information about the collected data in regard to their UID, Abbreviation (in iso2, iso3, code3), Province state, country region, geographical location (longitude and latitude), combined Key and the population."
   ]
  },
  {
   "cell_type": "code",
   "execution_count": 14,
   "metadata": {},
   "outputs": [
    {
     "data": {
      "text/plain": "   UID iso2 iso3  code3  FIPS Admin2 Province_State Country_Region       Lat  \\\n0    4   AF  AFG    4.0   NaN    NaN            NaN    Afghanistan  33.93911   \n1    8   AL  ALB    8.0   NaN    NaN            NaN        Albania  41.15330   \n2   12   DZ  DZA   12.0   NaN    NaN            NaN        Algeria  28.03390   \n3   20   AD  AND   20.0   NaN    NaN            NaN        Andorra  42.50630   \n4   24   AO  AGO   24.0   NaN    NaN            NaN         Angola -11.20270   \n\n       Long_ Combined_Key  Population  \n0  67.709953  Afghanistan  38928341.0  \n1  20.168300      Albania   2877800.0  \n2   1.659600      Algeria  43851043.0  \n3   1.521800      Andorra     77265.0  \n4  17.873900       Angola  32866268.0  ",
      "text/html": "<div>\n<style scoped>\n    .dataframe tbody tr th:only-of-type {\n        vertical-align: middle;\n    }\n\n    .dataframe tbody tr th {\n        vertical-align: top;\n    }\n\n    .dataframe thead th {\n        text-align: right;\n    }\n</style>\n<table border=\"1\" class=\"dataframe\">\n  <thead>\n    <tr style=\"text-align: right;\">\n      <th></th>\n      <th>UID</th>\n      <th>iso2</th>\n      <th>iso3</th>\n      <th>code3</th>\n      <th>FIPS</th>\n      <th>Admin2</th>\n      <th>Province_State</th>\n      <th>Country_Region</th>\n      <th>Lat</th>\n      <th>Long_</th>\n      <th>Combined_Key</th>\n      <th>Population</th>\n    </tr>\n  </thead>\n  <tbody>\n    <tr>\n      <th>0</th>\n      <td>4</td>\n      <td>AF</td>\n      <td>AFG</td>\n      <td>4.0</td>\n      <td>NaN</td>\n      <td>NaN</td>\n      <td>NaN</td>\n      <td>Afghanistan</td>\n      <td>33.93911</td>\n      <td>67.709953</td>\n      <td>Afghanistan</td>\n      <td>38928341.0</td>\n    </tr>\n    <tr>\n      <th>1</th>\n      <td>8</td>\n      <td>AL</td>\n      <td>ALB</td>\n      <td>8.0</td>\n      <td>NaN</td>\n      <td>NaN</td>\n      <td>NaN</td>\n      <td>Albania</td>\n      <td>41.15330</td>\n      <td>20.168300</td>\n      <td>Albania</td>\n      <td>2877800.0</td>\n    </tr>\n    <tr>\n      <th>2</th>\n      <td>12</td>\n      <td>DZ</td>\n      <td>DZA</td>\n      <td>12.0</td>\n      <td>NaN</td>\n      <td>NaN</td>\n      <td>NaN</td>\n      <td>Algeria</td>\n      <td>28.03390</td>\n      <td>1.659600</td>\n      <td>Algeria</td>\n      <td>43851043.0</td>\n    </tr>\n    <tr>\n      <th>3</th>\n      <td>20</td>\n      <td>AD</td>\n      <td>AND</td>\n      <td>20.0</td>\n      <td>NaN</td>\n      <td>NaN</td>\n      <td>NaN</td>\n      <td>Andorra</td>\n      <td>42.50630</td>\n      <td>1.521800</td>\n      <td>Andorra</td>\n      <td>77265.0</td>\n    </tr>\n    <tr>\n      <th>4</th>\n      <td>24</td>\n      <td>AO</td>\n      <td>AGO</td>\n      <td>24.0</td>\n      <td>NaN</td>\n      <td>NaN</td>\n      <td>NaN</td>\n      <td>Angola</td>\n      <td>-11.20270</td>\n      <td>17.873900</td>\n      <td>Angola</td>\n      <td>32866268.0</td>\n    </tr>\n  </tbody>\n</table>\n</div>"
     },
     "execution_count": 14,
     "metadata": {},
     "output_type": "execute_result"
    }
   ],
   "source": [
    "df_references.head()"
   ]
  },
  {
   "cell_type": "markdown",
   "metadata": {},
   "source": [
    "## Time-Series-19-COVID-Combined data set\n",
    "The time-series-19-covid-combined.csv provides information about the\n",
    "TODO: Difference countries?"
   ]
  },
  {
   "cell_type": "code",
   "execution_count": 15,
   "metadata": {
    "pycharm": {
     "name": "#%%\n"
    }
   },
   "outputs": [
    {
     "data": {
      "text/plain": "         Date Country/Region Province/State  Confirmed  Recovered  Deaths\n0  2020-01-22    Afghanistan            NaN          0        0.0       0\n1  2020-01-23    Afghanistan            NaN          0        0.0       0\n2  2020-01-24    Afghanistan            NaN          0        0.0       0\n3  2020-01-25    Afghanistan            NaN          0        0.0       0\n4  2020-01-26    Afghanistan            NaN          0        0.0       0",
      "text/html": "<div>\n<style scoped>\n    .dataframe tbody tr th:only-of-type {\n        vertical-align: middle;\n    }\n\n    .dataframe tbody tr th {\n        vertical-align: top;\n    }\n\n    .dataframe thead th {\n        text-align: right;\n    }\n</style>\n<table border=\"1\" class=\"dataframe\">\n  <thead>\n    <tr style=\"text-align: right;\">\n      <th></th>\n      <th>Date</th>\n      <th>Country/Region</th>\n      <th>Province/State</th>\n      <th>Confirmed</th>\n      <th>Recovered</th>\n      <th>Deaths</th>\n    </tr>\n  </thead>\n  <tbody>\n    <tr>\n      <th>0</th>\n      <td>2020-01-22</td>\n      <td>Afghanistan</td>\n      <td>NaN</td>\n      <td>0</td>\n      <td>0.0</td>\n      <td>0</td>\n    </tr>\n    <tr>\n      <th>1</th>\n      <td>2020-01-23</td>\n      <td>Afghanistan</td>\n      <td>NaN</td>\n      <td>0</td>\n      <td>0.0</td>\n      <td>0</td>\n    </tr>\n    <tr>\n      <th>2</th>\n      <td>2020-01-24</td>\n      <td>Afghanistan</td>\n      <td>NaN</td>\n      <td>0</td>\n      <td>0.0</td>\n      <td>0</td>\n    </tr>\n    <tr>\n      <th>3</th>\n      <td>2020-01-25</td>\n      <td>Afghanistan</td>\n      <td>NaN</td>\n      <td>0</td>\n      <td>0.0</td>\n      <td>0</td>\n    </tr>\n    <tr>\n      <th>4</th>\n      <td>2020-01-26</td>\n      <td>Afghanistan</td>\n      <td>NaN</td>\n      <td>0</td>\n      <td>0.0</td>\n      <td>0</td>\n    </tr>\n  </tbody>\n</table>\n</div>"
     },
     "execution_count": 15,
     "metadata": {},
     "output_type": "execute_result"
    }
   ],
   "source": [
    "df_timeSeries.head()"
   ]
  },
  {
   "cell_type": "markdown",
   "metadata": {},
   "source": [
    "## Worldwide-Aggregated data set\n",
    "The worldwide-aggregated.csv provides information about the aggregated confirmed, recovered and deaths cases worldwide."
   ]
  },
  {
   "cell_type": "code",
   "execution_count": 16,
   "metadata": {
    "pycharm": {
     "name": "#%%\n"
    }
   },
   "outputs": [
    {
     "data": {
      "text/plain": "         Date  Confirmed  Recovered  Deaths  Increase rate\n0  2020-01-22        557         30      17            NaN\n1  2020-01-23        655         32      18      17.594255\n2  2020-01-24        941         39      26      43.664122\n3  2020-01-25       1433         42      42      52.284803\n4  2020-01-26       2118         56      56      47.801814",
      "text/html": "<div>\n<style scoped>\n    .dataframe tbody tr th:only-of-type {\n        vertical-align: middle;\n    }\n\n    .dataframe tbody tr th {\n        vertical-align: top;\n    }\n\n    .dataframe thead th {\n        text-align: right;\n    }\n</style>\n<table border=\"1\" class=\"dataframe\">\n  <thead>\n    <tr style=\"text-align: right;\">\n      <th></th>\n      <th>Date</th>\n      <th>Confirmed</th>\n      <th>Recovered</th>\n      <th>Deaths</th>\n      <th>Increase rate</th>\n    </tr>\n  </thead>\n  <tbody>\n    <tr>\n      <th>0</th>\n      <td>2020-01-22</td>\n      <td>557</td>\n      <td>30</td>\n      <td>17</td>\n      <td>NaN</td>\n    </tr>\n    <tr>\n      <th>1</th>\n      <td>2020-01-23</td>\n      <td>655</td>\n      <td>32</td>\n      <td>18</td>\n      <td>17.594255</td>\n    </tr>\n    <tr>\n      <th>2</th>\n      <td>2020-01-24</td>\n      <td>941</td>\n      <td>39</td>\n      <td>26</td>\n      <td>43.664122</td>\n    </tr>\n    <tr>\n      <th>3</th>\n      <td>2020-01-25</td>\n      <td>1433</td>\n      <td>42</td>\n      <td>42</td>\n      <td>52.284803</td>\n    </tr>\n    <tr>\n      <th>4</th>\n      <td>2020-01-26</td>\n      <td>2118</td>\n      <td>56</td>\n      <td>56</td>\n      <td>47.801814</td>\n    </tr>\n  </tbody>\n</table>\n</div>"
     },
     "execution_count": 16,
     "metadata": {},
     "output_type": "execute_result"
    }
   ],
   "source": [
    "df_wwAggr.head()"
   ]
  },
  {
   "cell_type": "markdown",
   "metadata": {
    "pycharm": {
     "name": "#%% md\n"
    }
   },
   "source": [
    "# Industry Data\n",
    "## US GDP Data"
   ]
  },
  {
   "cell_type": "code",
   "execution_count": 17,
   "metadata": {
    "pycharm": {
     "name": "#%%\n"
    }
   },
   "outputs": [
    {
     "data": {
      "text/plain": "  Table 1. Real Gross Domestic Product and Related Measures: Percent Change from Preceding Period  \\\n0                                               Line                                                \n1                                               Line                                                \n2                                               Line                                                \n3                                                  1                                                \n4                                                  2                                                \n\n                          Unnamed: 1 Unnamed: 2 Unnamed: 3 Unnamed: 4  \\\n0                                NaN       2017       2018       2019   \n1                                NaN       2017       2018       2019   \n2                                NaN       2017       2018       2019   \n3       Gross domestic product (GDP)        2.3          3        2.2   \n4  Personal consumption expenditures        2.6        2.7        2.4   \n\n                            Unnamed: 5                           Unnamed: 6  \\\n0  Seasonally adjusted at annual rates  Seasonally adjusted at annual rates   \n1                                 2016                                 2017   \n2                                   Q4                                   Q1   \n3                                  2.5                                  2.3   \n4                                  2.5                                  3.2   \n\n                            Unnamed: 7                           Unnamed: 8  \\\n0  Seasonally adjusted at annual rates  Seasonally adjusted at annual rates   \n1                                 2017                                 2017   \n2                                   Q2                                   Q3   \n3                                  1.7                                  2.9   \n4                                  1.8                                  2.3   \n\n                            Unnamed: 9  ...  \\\n0  Seasonally adjusted at annual rates  ...   \n1                                 2017  ...   \n2                                   Q4  ...   \n3                                  3.9  ...   \n4                                  4.2  ...   \n\n                           Unnamed: 12                          Unnamed: 13  \\\n0  Seasonally adjusted at annual rates  Seasonally adjusted at annual rates   \n1                                 2018                                 2018   \n2                                   Q3                                   Q4   \n3                                  2.1                                  1.3   \n4                                  2.7                                  1.6   \n\n                           Unnamed: 14                          Unnamed: 15  \\\n0  Seasonally adjusted at annual rates  Seasonally adjusted at annual rates   \n1                                 2019                                 2019   \n2                                   Q1                                   Q2   \n3                                  2.9                                  1.5   \n4                                  1.8                                  3.7   \n\n                           Unnamed: 16                          Unnamed: 17  \\\n0  Seasonally adjusted at annual rates  Seasonally adjusted at annual rates   \n1                                 2019                                 2019   \n2                                   Q3                                   Q4   \n3                                  2.6                                  2.4   \n4                                  2.7                                  1.6   \n\n                           Unnamed: 18                          Unnamed: 19  \\\n0  Seasonally adjusted at annual rates  Seasonally adjusted at annual rates   \n1                                 2020                                 2020   \n2                                   Q1                                   Q2   \n3                                   -5                                -31.4   \n4                                 -6.9                                -33.2   \n\n                           Unnamed: 20 Unnamed: 21  \n0  Seasonally adjusted at annual rates         NaN  \n1                                 2020         NaN  \n2                                 Q3 r         NaN  \n3                                 33.4         NaN  \n4                                   41         NaN  \n\n[5 rows x 22 columns]",
      "text/html": "<div>\n<style scoped>\n    .dataframe tbody tr th:only-of-type {\n        vertical-align: middle;\n    }\n\n    .dataframe tbody tr th {\n        vertical-align: top;\n    }\n\n    .dataframe thead th {\n        text-align: right;\n    }\n</style>\n<table border=\"1\" class=\"dataframe\">\n  <thead>\n    <tr style=\"text-align: right;\">\n      <th></th>\n      <th>Table 1. Real Gross Domestic Product and Related Measures: Percent Change from Preceding Period</th>\n      <th>Unnamed: 1</th>\n      <th>Unnamed: 2</th>\n      <th>Unnamed: 3</th>\n      <th>Unnamed: 4</th>\n      <th>Unnamed: 5</th>\n      <th>Unnamed: 6</th>\n      <th>Unnamed: 7</th>\n      <th>Unnamed: 8</th>\n      <th>Unnamed: 9</th>\n      <th>...</th>\n      <th>Unnamed: 12</th>\n      <th>Unnamed: 13</th>\n      <th>Unnamed: 14</th>\n      <th>Unnamed: 15</th>\n      <th>Unnamed: 16</th>\n      <th>Unnamed: 17</th>\n      <th>Unnamed: 18</th>\n      <th>Unnamed: 19</th>\n      <th>Unnamed: 20</th>\n      <th>Unnamed: 21</th>\n    </tr>\n  </thead>\n  <tbody>\n    <tr>\n      <th>0</th>\n      <td>Line</td>\n      <td>NaN</td>\n      <td>2017</td>\n      <td>2018</td>\n      <td>2019</td>\n      <td>Seasonally adjusted at annual rates</td>\n      <td>Seasonally adjusted at annual rates</td>\n      <td>Seasonally adjusted at annual rates</td>\n      <td>Seasonally adjusted at annual rates</td>\n      <td>Seasonally adjusted at annual rates</td>\n      <td>...</td>\n      <td>Seasonally adjusted at annual rates</td>\n      <td>Seasonally adjusted at annual rates</td>\n      <td>Seasonally adjusted at annual rates</td>\n      <td>Seasonally adjusted at annual rates</td>\n      <td>Seasonally adjusted at annual rates</td>\n      <td>Seasonally adjusted at annual rates</td>\n      <td>Seasonally adjusted at annual rates</td>\n      <td>Seasonally adjusted at annual rates</td>\n      <td>Seasonally adjusted at annual rates</td>\n      <td>NaN</td>\n    </tr>\n    <tr>\n      <th>1</th>\n      <td>Line</td>\n      <td>NaN</td>\n      <td>2017</td>\n      <td>2018</td>\n      <td>2019</td>\n      <td>2016</td>\n      <td>2017</td>\n      <td>2017</td>\n      <td>2017</td>\n      <td>2017</td>\n      <td>...</td>\n      <td>2018</td>\n      <td>2018</td>\n      <td>2019</td>\n      <td>2019</td>\n      <td>2019</td>\n      <td>2019</td>\n      <td>2020</td>\n      <td>2020</td>\n      <td>2020</td>\n      <td>NaN</td>\n    </tr>\n    <tr>\n      <th>2</th>\n      <td>Line</td>\n      <td>NaN</td>\n      <td>2017</td>\n      <td>2018</td>\n      <td>2019</td>\n      <td>Q4</td>\n      <td>Q1</td>\n      <td>Q2</td>\n      <td>Q3</td>\n      <td>Q4</td>\n      <td>...</td>\n      <td>Q3</td>\n      <td>Q4</td>\n      <td>Q1</td>\n      <td>Q2</td>\n      <td>Q3</td>\n      <td>Q4</td>\n      <td>Q1</td>\n      <td>Q2</td>\n      <td>Q3 r</td>\n      <td>NaN</td>\n    </tr>\n    <tr>\n      <th>3</th>\n      <td>1</td>\n      <td>Gross domestic product (GDP)</td>\n      <td>2.3</td>\n      <td>3</td>\n      <td>2.2</td>\n      <td>2.5</td>\n      <td>2.3</td>\n      <td>1.7</td>\n      <td>2.9</td>\n      <td>3.9</td>\n      <td>...</td>\n      <td>2.1</td>\n      <td>1.3</td>\n      <td>2.9</td>\n      <td>1.5</td>\n      <td>2.6</td>\n      <td>2.4</td>\n      <td>-5</td>\n      <td>-31.4</td>\n      <td>33.4</td>\n      <td>NaN</td>\n    </tr>\n    <tr>\n      <th>4</th>\n      <td>2</td>\n      <td>Personal consumption expenditures</td>\n      <td>2.6</td>\n      <td>2.7</td>\n      <td>2.4</td>\n      <td>2.5</td>\n      <td>3.2</td>\n      <td>1.8</td>\n      <td>2.3</td>\n      <td>4.2</td>\n      <td>...</td>\n      <td>2.7</td>\n      <td>1.6</td>\n      <td>1.8</td>\n      <td>3.7</td>\n      <td>2.7</td>\n      <td>1.6</td>\n      <td>-6.9</td>\n      <td>-33.2</td>\n      <td>41</td>\n      <td>NaN</td>\n    </tr>\n  </tbody>\n</table>\n<p>5 rows × 22 columns</p>\n</div>"
     },
     "execution_count": 17,
     "metadata": {},
     "output_type": "execute_result"
    }
   ],
   "source": [
    "# needs preprocessing!\n",
    "df_usGDP3.head()"
   ]
  }
 ],
 "metadata": {
  "kernelspec": {
   "display_name": "PyCharm (data-mining)",
   "language": "python",
   "name": "pycharm-5f424342"
  },
  "language_info": {
   "codemirror_mode": {
    "name": "ipython",
    "version": 3
   },
   "file_extension": ".py",
   "mimetype": "text/x-python",
   "name": "python",
   "nbconvert_exporter": "python",
   "pygments_lexer": "ipython3",
   "version": "3.9.1"
  }
 },
 "nbformat": 4,
 "nbformat_minor": 1
}