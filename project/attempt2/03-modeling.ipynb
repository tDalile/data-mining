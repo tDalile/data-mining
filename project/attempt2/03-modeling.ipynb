{
 "metadata": {
  "language_info": {
   "codemirror_mode": {
    "name": "ipython",
    "version": 3
   },
   "file_extension": ".py",
   "mimetype": "text/x-python",
   "name": "python",
   "nbconvert_exporter": "python",
   "pygments_lexer": "ipython3",
   "version": 3
  },
  "orig_nbformat": 2
 },
 "nbformat": 4,
 "nbformat_minor": 2,
 "cells": [
  {
   "source": [
    "# Modeling\n",
    "\n",
    "- Which model type(s) should be used?\n",
    "- Is the scale applicable to the modeling approach chosen?\n",
    "- Should the previous steps be adapted?"
   ],
   "cell_type": "markdown",
   "metadata": {}
  }
 ]
}