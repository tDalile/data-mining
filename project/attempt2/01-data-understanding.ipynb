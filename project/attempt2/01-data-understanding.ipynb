{
 "metadata": {
  "language_info": {
   "codemirror_mode": {
    "name": "ipython",
    "version": 3
   },
   "file_extension": ".py",
   "mimetype": "text/x-python",
   "name": "python",
   "nbconvert_exporter": "python",
   "pygments_lexer": "ipython3",
   "version": "3.9.1-final"
  },
  "orig_nbformat": 2,
  "kernelspec": {
   "name": "python3",
   "display_name": "Python 3.9.1 64-bit",
   "metadata": {
    "interpreter": {
     "hash": "4e1d9a8909477db77738c33245c29c7265277ef753467dede8cf3f814cde494e"
    }
   }
  }
 },
 "nbformat": 4,
 "nbformat_minor": 2,
 "cells": [
  {
   "source": [
    "# Data Understanding\n",
    "\n",
    "- What kind of data is available?\n",
    "- What is the quality of the available data\n",
    "- Is a restructuring of the data necessary?\n",
    "\n",
    "## Get the data"
   ],
   "cell_type": "markdown",
   "metadata": {}
  },
  {
   "cell_type": "code",
   "execution_count": 16,
   "metadata": {},
   "outputs": [],
   "source": [
    "##\n",
    "# IMPORTS\n",
    "#\n",
    "import os\n",
    "import urllib.request\n",
    "import pandas as pd\n",
    "import matplotlib.pyplot as plt\n",
    "import numpy as np\n",
    "\n",
    "##\n",
    "# SETTINGS\n",
    "#\n",
    "# Render all plots inline (instead of popup)\n",
    "%matplotlib inline\n",
    "\n",
    "# create data folder if not existing already\n",
    "os.makedirs('./data/00-raw', exist_ok=True)\n",
    "\n",
    "##\n",
    "# DOWNLOADS\n",
    "#\n",
    "# download covid dataset\n",
    "\n",
    "link = 'https://raw.githubusercontent.com/owid/covid-19-data/master/public/data/owid-covid-data.csv'\n",
    "path = './data/00-raw/'\n",
    "filename = 'owid-covid-data.csv'\n",
    "urllib.request.urlretrieve(link, path+filename)\n",
    "\n",
    "# load dataframe\n",
    "df_covid = pd.read_csv(path+filename, parse_dates=['date'], index_col=['date','location']) #creating a multindex with columns date and location"
   ]
  },
  {
   "source": [
    "## What kind of data is available?\n",
    "\n",
    "- already restructuring while loading!"
   ],
   "cell_type": "markdown",
   "metadata": {}
  },
  {
   "cell_type": "code",
   "execution_count": 60,
   "metadata": {},
   "outputs": [
    {
     "output_type": "stream",
     "name": "stdout",
     "text": [
      "The dataset contains 70425 rows and 57 columns.\n\n===============================================================================\n\nThe columns contain data about: \n\nIndex(['iso_code', 'continent', 'total_cases', 'new_cases',\n       'new_cases_smoothed', 'total_deaths', 'new_deaths',\n       'new_deaths_smoothed', 'total_cases_per_million',\n       'new_cases_per_million', 'new_cases_smoothed_per_million',\n       'total_deaths_per_million', 'new_deaths_per_million',\n       'new_deaths_smoothed_per_million', 'reproduction_rate', 'icu_patients',\n       'icu_patients_per_million', 'hosp_patients',\n       'hosp_patients_per_million', 'weekly_icu_admissions',\n       'weekly_icu_admissions_per_million', 'weekly_hosp_admissions',\n       'weekly_hosp_admissions_per_million', 'new_tests', 'total_tests',\n       'total_tests_per_thousand', 'new_tests_per_thousand',\n       'new_tests_smoothed', 'new_tests_smoothed_per_thousand',\n       'positive_rate', 'tests_per_case', 'tests_units', 'total_vaccinations',\n       'people_vaccinated', 'people_fully_vaccinated', 'new_vaccinations',\n       'new_vaccinations_smoothed', 'total_vaccinations_per_hundred',\n       'people_vaccinated_per_hundred', 'people_fully_vaccinated_per_hundred',\n       'new_vaccinations_smoothed_per_million', 'stringency_index',\n       'population', 'population_density', 'median_age', 'aged_65_older',\n       'aged_70_older', 'gdp_per_capita', 'extreme_poverty',\n       'cardiovasc_death_rate', 'diabetes_prevalence', 'female_smokers',\n       'male_smokers', 'handwashing_facilities', 'hospital_beds_per_thousand',\n       'life_expectancy', 'human_development_index'],\n      dtype='object')\n===============================================================================\n\nThe aritmethic description: \n\n        total_cases      new_cases  new_cases_smoothed  total_deaths  \\\ncount  6.954000e+04   69538.000000        68537.000000  6.053800e+04   \nmean   5.826623e+05    5080.475165         5104.161713  1.778153e+04   \nstd    4.122716e+06   32187.223516        31972.233483  1.032529e+05   \nmin    1.000000e+00  -46076.000000        -1121.714000  1.000000e+00   \n25%    6.780000e+02       1.000000            5.571000  3.500000e+01   \n50%    7.234500e+03      56.000000           67.286000  2.300000e+02   \n75%    7.912325e+04     643.000000          671.143000  2.140000e+03   \nmax    1.113659e+08  879905.000000       738686.000000  2.466255e+06   \n\n         new_deaths  new_deaths_smoothed  total_cases_per_million  \\\ncount  60696.000000         68537.000000             69159.000000   \nmean     130.622216           114.437522              6825.094053   \nstd      718.741819           655.070747             13584.621689   \nmin    -1918.000000          -232.143000                 0.001000   \n25%        0.000000             0.000000               130.675000   \n50%        2.000000             1.000000               986.202000   \n75%       16.000000            11.857000              6164.639000   \nmax    17841.000000         14378.000000            138471.494000   \n\n       new_cases_per_million  new_cases_smoothed_per_million  \\\ncount           69157.000000                    68161.000000   \nmean               63.914467                       63.955640   \nstd               165.772777                      139.023092   \nmin             -2153.437000                     -276.825000   \n25%                 0.122000                        0.952000   \n50%                 5.945000                        7.938000   \n75%                52.673000                       59.710000   \nmax              8652.658000                     2648.773000   \n\n       total_deaths_per_million  ...  gdp_per_capita  extreme_poverty  \\\ncount              60170.000000  ...    64285.000000     43924.000000   \nmean                 164.605309  ...    19145.299490        13.239011   \nstd                  295.416981  ...    19684.137906        19.906381   \nmin                    0.001000  ...      661.240000         0.100000   \n25%                    5.274000  ...     4541.795000         0.500000   \n50%                   28.850000  ...    12951.839000         2.000000   \n75%                  173.827750  ...    27216.445000        21.200000   \nmax                 2121.516000  ...   116935.600000        77.600000   \n\n       cardiovasc_death_rate  diabetes_prevalence  female_smokers  \\\ncount           64891.000000         65691.000000    51095.000000   \nmean              256.942221             7.789306       10.563354   \nstd               118.316818             3.924072       10.413808   \nmin                79.370000             0.990000        0.100000   \n25%               167.295000             5.290000        1.900000   \n50%               242.648000             7.110000        6.300000   \n75%               325.721000            10.080000       19.300000   \nmax               724.417000            30.530000       44.000000   \n\n       male_smokers  handwashing_facilities  hospital_beds_per_thousand  \\\ncount  50394.000000            32547.000000                59482.000000   \nmean      32.649672               51.044318                    3.038618   \nstd       13.461166               31.769976                    2.468640   \nmin        7.700000                1.188000                    0.100000   \n25%       21.600000               20.859000                    1.300000   \n50%       31.400000               49.839000                    2.400000   \n75%       41.100000               83.241000                    4.000000   \nmax       78.100000               98.999000                   13.800000   \n\n       life_expectancy  human_development_index  \ncount     66921.000000             64870.000000  \nmean         73.138079                 0.728211  \nstd           7.549987                 0.150144  \nmin          53.280000                 0.394000  \n25%          67.440000                 0.602000  \n50%          74.530000                 0.748000  \n75%          78.730000                 0.848000  \nmax          86.750000                 0.957000  \n\n[8 rows x 54 columns]\n===============================================================================\n\nWhat datatypes are available?\n\n<class 'pandas.core.frame.DataFrame'>\nMultiIndex: 70425 entries, (Timestamp('2020-02-24 00:00:00'), 'Afghanistan') to (Timestamp('2021-02-21 00:00:00'), 'Zimbabwe')\nData columns (total 57 columns):\n #   Column                                 Non-Null Count  Dtype  \n---  ------                                 --------------  -----  \n 0   iso_code                               70425 non-null  object \n 1   continent                              66917 non-null  object \n 2   total_cases                            69540 non-null  float64\n 3   new_cases                              69538 non-null  float64\n 4   new_cases_smoothed                     68537 non-null  float64\n 5   total_deaths                           60538 non-null  float64\n 6   new_deaths                             60696 non-null  float64\n 7   new_deaths_smoothed                    68537 non-null  float64\n 8   total_cases_per_million                69159 non-null  float64\n 9   new_cases_per_million                  69157 non-null  float64\n 10  new_cases_smoothed_per_million         68161 non-null  float64\n 11  total_deaths_per_million               60170 non-null  float64\n 12  new_deaths_per_million                 60328 non-null  float64\n 13  new_deaths_smoothed_per_million        68161 non-null  float64\n 14  reproduction_rate                      56376 non-null  float64\n 15  icu_patients                           7473 non-null   float64\n 16  icu_patients_per_million               7473 non-null   float64\n 17  hosp_patients                          8882 non-null   float64\n 18  hosp_patients_per_million              8882 non-null   float64\n 19  weekly_icu_admissions                  702 non-null    float64\n 20  weekly_icu_admissions_per_million      702 non-null    float64\n 21  weekly_hosp_admissions                 1155 non-null   float64\n 22  weekly_hosp_admissions_per_million     1155 non-null   float64\n 23  new_tests                              31713 non-null  float64\n 24  total_tests                            31504 non-null  float64\n 25  total_tests_per_thousand               31504 non-null  float64\n 26  new_tests_per_thousand                 31713 non-null  float64\n 27  new_tests_smoothed                     35866 non-null  float64\n 28  new_tests_smoothed_per_thousand        35866 non-null  float64\n 29  positive_rate                          34443 non-null  float64\n 30  tests_per_case                         33924 non-null  float64\n 31  tests_units                            37138 non-null  object \n 32  total_vaccinations                     2337 non-null   float64\n 33  people_vaccinated                      1925 non-null   float64\n 34  people_fully_vaccinated                1254 non-null   float64\n 35  new_vaccinations                       1980 non-null   float64\n 36  new_vaccinations_smoothed              3335 non-null   float64\n 37  total_vaccinations_per_hundred         2337 non-null   float64\n 38  people_vaccinated_per_hundred          1925 non-null   float64\n 39  people_fully_vaccinated_per_hundred    1254 non-null   float64\n 40  new_vaccinations_smoothed_per_million  3335 non-null   float64\n 41  stringency_index                       59989 non-null  float64\n 42  population                             70035 non-null  float64\n 43  population_density                     65839 non-null  float64\n 44  median_age                             64127 non-null  float64\n 45  aged_65_older                          63387 non-null  float64\n 46  aged_70_older                          63765 non-null  float64\n 47  gdp_per_capita                         64285 non-null  float64\n 48  extreme_poverty                        43924 non-null  float64\n 49  cardiovasc_death_rate                  64891 non-null  float64\n 50  diabetes_prevalence                    65691 non-null  float64\n 51  female_smokers                         51095 non-null  float64\n 52  male_smokers                           50394 non-null  float64\n 53  handwashing_facilities                 32547 non-null  float64\n 54  hospital_beds_per_thousand             59482 non-null  float64\n 55  life_expectancy                        66921 non-null  float64\n 56  human_development_index                64870 non-null  float64\ndtypes: float64(54), object(3)\nmemory usage: 32.9+ MB\nNone\n===============================================================================\n\n"
     ]
    }
   ],
   "source": [
    "print ('The dataset contains {} rows and {} columns.\\n'.format(df_covid.shape[0], df_covid.shape[1]))\n",
    "print ('===============================================================================\\n')\n",
    "print ('The columns contain data about: \\n')\n",
    "\n",
    "print(df_covid.columns)\n",
    "\n",
    "print ('===============================================================================\\n')\n",
    "print ('The aritmethic description: \\n')\n",
    "\n",
    "print(df_covid.describe())\n",
    "\n",
    "print ('===============================================================================\\n')\n",
    "print ('What datatypes are available?\\n')\n",
    "print(df_covid.info())\n",
    "\n",
    "print ('===============================================================================\\n')\n"
   ]
  },
  {
   "cell_type": "code",
   "execution_count": null,
   "metadata": {},
   "outputs": [],
   "source": []
  }
 ]
}