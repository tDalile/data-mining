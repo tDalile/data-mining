{
 "cells": [
  {
   "cell_type": "markdown",
   "metadata": {},
   "source": [
    "# Data Preparation\n",
    "## import Datasets (csv)"
   ]
  },
  {
   "cell_type": "code",
   "execution_count": 209,
   "metadata": {
    "pycharm": {
     "name": "#%%\n"
    }
   },
   "outputs": [],
   "source": [
    "## import libraries and adjust settings\n",
    "from datetime import date\n",
    "import pandas as pd\n",
    "import matplotlib.pyplot as plt\n",
    "import numpy as np\n",
    "\n",
    "# Render our plots inline\n",
    "%matplotlib inline\n",
    "\n",
    "# set figure size\n",
    "plt.rcParams['figure.figsize'] = (15, 8)\n",
    "\n",
    "# load datasets\n",
    "\n",
    "# | Confirmed | Recovered | Deaths | per Day for each country\n",
    "## Covid\n",
    "df_covCountries = pd.read_csv('data/covid/countries-aggregated.csv', parse_dates=['Date'], index_col='Date')\n",
    "df_keyCountries = pd.read_csv('data/covid/key-countries-pivoted.csv')\n",
    "df_references = pd.read_csv('data/covid/reference.csv')\n",
    "df_timeSeries = pd.read_csv('data/covid/time-series-19-covid-combined.csv')\n",
    "df_wwAggr = pd.read_csv('data/covid/worldwide-aggregate.csv')\n",
    "\n",
    "## Industry\n",
    "## us-data\n",
    "df_usGDP3 = pd.read_excel('data/gdp/us-gdp.xlsx', sheet_name='Table 3')\n",
    "df_usGDP12 = pd.read_excel('data/gdp/us-gdp.xlsx', sheet_name='Table 12')\n",
    "df_usGDP14 = pd.read_excel('data/gdp/us-gdp.xlsx', sheet_name='Table 14')\n",
    "\n",
    "## GDP\n",
    "## Europe\n",
    "#df_allWorldGDP = pd.read_csv('data/gdp/all_eu_countries.tsv', sep=\",|\\t\", engine='python')\n",
    "df_allWorldGDP = pd.read_csv('data/gdp/naidq_10_gdp.csv', sep=\",\", engine='python')\n",
    "\n",
    "# settings\n",
    "\n"
   ]
  },
  {
   "cell_type": "markdown",
   "metadata": {},
   "source": [
    "# COVID-Data\n",
    "## Countries data set\n",
    "The countries-aggregated.csv provides information about the **confirmed, recovered and deaths** cases per day for each country."
   ]
  },
  {
   "cell_type": "code",
   "execution_count": 210,
   "metadata": {},
   "outputs": [
    {
     "data": {
      "text/plain": "                Country  Confirmed  Recovered  Deaths\nDate                                                 \n2020-01-22  Afghanistan          0          0       0\n2020-01-23  Afghanistan          0          0       0\n2020-01-24  Afghanistan          0          0       0\n2020-01-25  Afghanistan          0          0       0\n2020-01-26  Afghanistan          0          0       0",
      "text/html": "<div>\n<style scoped>\n    .dataframe tbody tr th:only-of-type {\n        vertical-align: middle;\n    }\n\n    .dataframe tbody tr th {\n        vertical-align: top;\n    }\n\n    .dataframe thead th {\n        text-align: right;\n    }\n</style>\n<table border=\"1\" class=\"dataframe\">\n  <thead>\n    <tr style=\"text-align: right;\">\n      <th></th>\n      <th>Country</th>\n      <th>Confirmed</th>\n      <th>Recovered</th>\n      <th>Deaths</th>\n    </tr>\n    <tr>\n      <th>Date</th>\n      <th></th>\n      <th></th>\n      <th></th>\n      <th></th>\n    </tr>\n  </thead>\n  <tbody>\n    <tr>\n      <th>2020-01-22</th>\n      <td>Afghanistan</td>\n      <td>0</td>\n      <td>0</td>\n      <td>0</td>\n    </tr>\n    <tr>\n      <th>2020-01-23</th>\n      <td>Afghanistan</td>\n      <td>0</td>\n      <td>0</td>\n      <td>0</td>\n    </tr>\n    <tr>\n      <th>2020-01-24</th>\n      <td>Afghanistan</td>\n      <td>0</td>\n      <td>0</td>\n      <td>0</td>\n    </tr>\n    <tr>\n      <th>2020-01-25</th>\n      <td>Afghanistan</td>\n      <td>0</td>\n      <td>0</td>\n      <td>0</td>\n    </tr>\n    <tr>\n      <th>2020-01-26</th>\n      <td>Afghanistan</td>\n      <td>0</td>\n      <td>0</td>\n      <td>0</td>\n    </tr>\n  </tbody>\n</table>\n</div>"
     },
     "execution_count": 210,
     "metadata": {},
     "output_type": "execute_result"
    }
   ],
   "source": [
    "\n",
    "# .head shows first x rows\n",
    "df_covCountries.head()"
   ]
  },
  {
   "cell_type": "markdown",
   "metadata": {},
   "source": [
    "## Key-Countries data set\n",
    "The key-countries-pivoted.csv provides information about the confirmed cases within the key countries China, US, UK, Italy, France, Germany, Spain and Iran."
   ]
  },
  {
   "cell_type": "code",
   "execution_count": 211,
   "metadata": {},
   "outputs": [
    {
     "data": {
      "text/plain": "         Date  China  US  United_Kingdom  Italy  France  Germany  Spain  Iran\n0  2020-01-22    548   1               0      0       0        0      0     0\n1  2020-01-23    643   1               0      0       0        0      0     0\n2  2020-01-24    920   2               0      0       2        0      0     0\n3  2020-01-25   1406   2               0      0       3        0      0     0\n4  2020-01-26   2075   5               0      0       3        0      0     0",
      "text/html": "<div>\n<style scoped>\n    .dataframe tbody tr th:only-of-type {\n        vertical-align: middle;\n    }\n\n    .dataframe tbody tr th {\n        vertical-align: top;\n    }\n\n    .dataframe thead th {\n        text-align: right;\n    }\n</style>\n<table border=\"1\" class=\"dataframe\">\n  <thead>\n    <tr style=\"text-align: right;\">\n      <th></th>\n      <th>Date</th>\n      <th>China</th>\n      <th>US</th>\n      <th>United_Kingdom</th>\n      <th>Italy</th>\n      <th>France</th>\n      <th>Germany</th>\n      <th>Spain</th>\n      <th>Iran</th>\n    </tr>\n  </thead>\n  <tbody>\n    <tr>\n      <th>0</th>\n      <td>2020-01-22</td>\n      <td>548</td>\n      <td>1</td>\n      <td>0</td>\n      <td>0</td>\n      <td>0</td>\n      <td>0</td>\n      <td>0</td>\n      <td>0</td>\n    </tr>\n    <tr>\n      <th>1</th>\n      <td>2020-01-23</td>\n      <td>643</td>\n      <td>1</td>\n      <td>0</td>\n      <td>0</td>\n      <td>0</td>\n      <td>0</td>\n      <td>0</td>\n      <td>0</td>\n    </tr>\n    <tr>\n      <th>2</th>\n      <td>2020-01-24</td>\n      <td>920</td>\n      <td>2</td>\n      <td>0</td>\n      <td>0</td>\n      <td>2</td>\n      <td>0</td>\n      <td>0</td>\n      <td>0</td>\n    </tr>\n    <tr>\n      <th>3</th>\n      <td>2020-01-25</td>\n      <td>1406</td>\n      <td>2</td>\n      <td>0</td>\n      <td>0</td>\n      <td>3</td>\n      <td>0</td>\n      <td>0</td>\n      <td>0</td>\n    </tr>\n    <tr>\n      <th>4</th>\n      <td>2020-01-26</td>\n      <td>2075</td>\n      <td>5</td>\n      <td>0</td>\n      <td>0</td>\n      <td>3</td>\n      <td>0</td>\n      <td>0</td>\n      <td>0</td>\n    </tr>\n  </tbody>\n</table>\n</div>"
     },
     "execution_count": 211,
     "metadata": {},
     "output_type": "execute_result"
    }
   ],
   "source": [
    "df_keyCountries.head()"
   ]
  },
  {
   "cell_type": "markdown",
   "metadata": {},
   "source": [
    "## References data set\n",
    "The references.csv provides general information about the collected data in regard to their UID, Abbreviation (in iso2, iso3, code3), Province state, country region, geographical location (longitude and latitude), combined Key and the population."
   ]
  },
  {
   "cell_type": "code",
   "execution_count": 212,
   "metadata": {},
   "outputs": [
    {
     "data": {
      "text/plain": "   UID iso2 iso3  code3  FIPS Admin2 Province_State Country_Region       Lat  \\\n0    4   AF  AFG    4.0   NaN    NaN            NaN    Afghanistan  33.93911   \n1    8   AL  ALB    8.0   NaN    NaN            NaN        Albania  41.15330   \n2   12   DZ  DZA   12.0   NaN    NaN            NaN        Algeria  28.03390   \n3   20   AD  AND   20.0   NaN    NaN            NaN        Andorra  42.50630   \n4   24   AO  AGO   24.0   NaN    NaN            NaN         Angola -11.20270   \n\n       Long_ Combined_Key  Population  \n0  67.709953  Afghanistan  38928341.0  \n1  20.168300      Albania   2877800.0  \n2   1.659600      Algeria  43851043.0  \n3   1.521800      Andorra     77265.0  \n4  17.873900       Angola  32866268.0  ",
      "text/html": "<div>\n<style scoped>\n    .dataframe tbody tr th:only-of-type {\n        vertical-align: middle;\n    }\n\n    .dataframe tbody tr th {\n        vertical-align: top;\n    }\n\n    .dataframe thead th {\n        text-align: right;\n    }\n</style>\n<table border=\"1\" class=\"dataframe\">\n  <thead>\n    <tr style=\"text-align: right;\">\n      <th></th>\n      <th>UID</th>\n      <th>iso2</th>\n      <th>iso3</th>\n      <th>code3</th>\n      <th>FIPS</th>\n      <th>Admin2</th>\n      <th>Province_State</th>\n      <th>Country_Region</th>\n      <th>Lat</th>\n      <th>Long_</th>\n      <th>Combined_Key</th>\n      <th>Population</th>\n    </tr>\n  </thead>\n  <tbody>\n    <tr>\n      <th>0</th>\n      <td>4</td>\n      <td>AF</td>\n      <td>AFG</td>\n      <td>4.0</td>\n      <td>NaN</td>\n      <td>NaN</td>\n      <td>NaN</td>\n      <td>Afghanistan</td>\n      <td>33.93911</td>\n      <td>67.709953</td>\n      <td>Afghanistan</td>\n      <td>38928341.0</td>\n    </tr>\n    <tr>\n      <th>1</th>\n      <td>8</td>\n      <td>AL</td>\n      <td>ALB</td>\n      <td>8.0</td>\n      <td>NaN</td>\n      <td>NaN</td>\n      <td>NaN</td>\n      <td>Albania</td>\n      <td>41.15330</td>\n      <td>20.168300</td>\n      <td>Albania</td>\n      <td>2877800.0</td>\n    </tr>\n    <tr>\n      <th>2</th>\n      <td>12</td>\n      <td>DZ</td>\n      <td>DZA</td>\n      <td>12.0</td>\n      <td>NaN</td>\n      <td>NaN</td>\n      <td>NaN</td>\n      <td>Algeria</td>\n      <td>28.03390</td>\n      <td>1.659600</td>\n      <td>Algeria</td>\n      <td>43851043.0</td>\n    </tr>\n    <tr>\n      <th>3</th>\n      <td>20</td>\n      <td>AD</td>\n      <td>AND</td>\n      <td>20.0</td>\n      <td>NaN</td>\n      <td>NaN</td>\n      <td>NaN</td>\n      <td>Andorra</td>\n      <td>42.50630</td>\n      <td>1.521800</td>\n      <td>Andorra</td>\n      <td>77265.0</td>\n    </tr>\n    <tr>\n      <th>4</th>\n      <td>24</td>\n      <td>AO</td>\n      <td>AGO</td>\n      <td>24.0</td>\n      <td>NaN</td>\n      <td>NaN</td>\n      <td>NaN</td>\n      <td>Angola</td>\n      <td>-11.20270</td>\n      <td>17.873900</td>\n      <td>Angola</td>\n      <td>32866268.0</td>\n    </tr>\n  </tbody>\n</table>\n</div>"
     },
     "execution_count": 212,
     "metadata": {},
     "output_type": "execute_result"
    }
   ],
   "source": [
    "df_references.head()"
   ]
  },
  {
   "cell_type": "markdown",
   "metadata": {},
   "source": [
    "## Time-Series-19-COVID-Combined data set\n",
    "The time-series-19-covid-combined.csv provides information about the\n",
    "TODO: Difference countries?"
   ]
  },
  {
   "cell_type": "code",
   "execution_count": 213,
   "metadata": {
    "pycharm": {
     "name": "#%%\n"
    }
   },
   "outputs": [
    {
     "data": {
      "text/plain": "         Date Country/Region Province/State  Confirmed  Recovered  Deaths\n0  2020-01-22    Afghanistan            NaN          0        0.0       0\n1  2020-01-23    Afghanistan            NaN          0        0.0       0\n2  2020-01-24    Afghanistan            NaN          0        0.0       0\n3  2020-01-25    Afghanistan            NaN          0        0.0       0\n4  2020-01-26    Afghanistan            NaN          0        0.0       0",
      "text/html": "<div>\n<style scoped>\n    .dataframe tbody tr th:only-of-type {\n        vertical-align: middle;\n    }\n\n    .dataframe tbody tr th {\n        vertical-align: top;\n    }\n\n    .dataframe thead th {\n        text-align: right;\n    }\n</style>\n<table border=\"1\" class=\"dataframe\">\n  <thead>\n    <tr style=\"text-align: right;\">\n      <th></th>\n      <th>Date</th>\n      <th>Country/Region</th>\n      <th>Province/State</th>\n      <th>Confirmed</th>\n      <th>Recovered</th>\n      <th>Deaths</th>\n    </tr>\n  </thead>\n  <tbody>\n    <tr>\n      <th>0</th>\n      <td>2020-01-22</td>\n      <td>Afghanistan</td>\n      <td>NaN</td>\n      <td>0</td>\n      <td>0.0</td>\n      <td>0</td>\n    </tr>\n    <tr>\n      <th>1</th>\n      <td>2020-01-23</td>\n      <td>Afghanistan</td>\n      <td>NaN</td>\n      <td>0</td>\n      <td>0.0</td>\n      <td>0</td>\n    </tr>\n    <tr>\n      <th>2</th>\n      <td>2020-01-24</td>\n      <td>Afghanistan</td>\n      <td>NaN</td>\n      <td>0</td>\n      <td>0.0</td>\n      <td>0</td>\n    </tr>\n    <tr>\n      <th>3</th>\n      <td>2020-01-25</td>\n      <td>Afghanistan</td>\n      <td>NaN</td>\n      <td>0</td>\n      <td>0.0</td>\n      <td>0</td>\n    </tr>\n    <tr>\n      <th>4</th>\n      <td>2020-01-26</td>\n      <td>Afghanistan</td>\n      <td>NaN</td>\n      <td>0</td>\n      <td>0.0</td>\n      <td>0</td>\n    </tr>\n  </tbody>\n</table>\n</div>"
     },
     "execution_count": 213,
     "metadata": {},
     "output_type": "execute_result"
    }
   ],
   "source": [
    "df_timeSeries.head()"
   ]
  },
  {
   "cell_type": "markdown",
   "metadata": {},
   "source": [
    "## Worldwide-Aggregated data set\n",
    "The worldwide-aggregated.csv provides information about the aggregated confirmed, recovered and deaths cases worldwide."
   ]
  },
  {
   "cell_type": "code",
   "execution_count": 214,
   "metadata": {
    "pycharm": {
     "name": "#%%\n"
    }
   },
   "outputs": [
    {
     "data": {
      "text/plain": "         Date  Confirmed  Recovered  Deaths  Increase rate\n0  2020-01-22        557         30      17            NaN\n1  2020-01-23        655         32      18      17.594255\n2  2020-01-24        941         39      26      43.664122\n3  2020-01-25       1433         42      42      52.284803\n4  2020-01-26       2118         56      56      47.801814",
      "text/html": "<div>\n<style scoped>\n    .dataframe tbody tr th:only-of-type {\n        vertical-align: middle;\n    }\n\n    .dataframe tbody tr th {\n        vertical-align: top;\n    }\n\n    .dataframe thead th {\n        text-align: right;\n    }\n</style>\n<table border=\"1\" class=\"dataframe\">\n  <thead>\n    <tr style=\"text-align: right;\">\n      <th></th>\n      <th>Date</th>\n      <th>Confirmed</th>\n      <th>Recovered</th>\n      <th>Deaths</th>\n      <th>Increase rate</th>\n    </tr>\n  </thead>\n  <tbody>\n    <tr>\n      <th>0</th>\n      <td>2020-01-22</td>\n      <td>557</td>\n      <td>30</td>\n      <td>17</td>\n      <td>NaN</td>\n    </tr>\n    <tr>\n      <th>1</th>\n      <td>2020-01-23</td>\n      <td>655</td>\n      <td>32</td>\n      <td>18</td>\n      <td>17.594255</td>\n    </tr>\n    <tr>\n      <th>2</th>\n      <td>2020-01-24</td>\n      <td>941</td>\n      <td>39</td>\n      <td>26</td>\n      <td>43.664122</td>\n    </tr>\n    <tr>\n      <th>3</th>\n      <td>2020-01-25</td>\n      <td>1433</td>\n      <td>42</td>\n      <td>42</td>\n      <td>52.284803</td>\n    </tr>\n    <tr>\n      <th>4</th>\n      <td>2020-01-26</td>\n      <td>2118</td>\n      <td>56</td>\n      <td>56</td>\n      <td>47.801814</td>\n    </tr>\n  </tbody>\n</table>\n</div>"
     },
     "execution_count": 214,
     "metadata": {},
     "output_type": "execute_result"
    }
   ],
   "source": [
    "df_wwAggr.head()"
   ]
  },
  {
   "cell_type": "markdown",
   "metadata": {
    "pycharm": {
     "name": "#%% md\n"
    }
   },
   "source": [
    "# Industry Data\n",
    "## US GDP Data"
   ]
  },
  {
   "cell_type": "code",
   "execution_count": 215,
   "metadata": {
    "pycharm": {
     "name": "#%%\n"
    }
   },
   "outputs": [
    {
     "data": {
      "text/plain": "  Table 3. Gross Domestic Product: Level and Change from Preceding Period  \\\n0                                               Line                        \n1                                               Line                        \n2                                               Line                        \n3                                               Line                        \n4                                                  1                        \n\n                     Unnamed: 1           Unnamed: 2  \\\n0                           NaN  Billions of dollars   \n1                           NaN                 2019   \n2                           NaN                 2019   \n3                           NaN                 2019   \n4  Gross domestic product (GDP)              21433.2   \n\n                            Unnamed: 3                           Unnamed: 4  \\\n0                  Billions of dollars                  Billions of dollars   \n1  Seasonally adjusted at annual rates  Seasonally adjusted at annual rates   \n2                                 2019                                 2019   \n3                                   Q3                                   Q4   \n4                              21540.3                              21747.4   \n\n                            Unnamed: 5                           Unnamed: 6  \\\n0                  Billions of dollars                  Billions of dollars   \n1  Seasonally adjusted at annual rates  Seasonally adjusted at annual rates   \n2                                 2020                                 2020   \n3                                   Q1                                   Q2   \n4                              21561.1                              19520.1   \n\n                            Unnamed: 7                          Unnamed: 8  \\\n0                  Billions of dollars  Billions of chained (2012) dollars   \n1  Seasonally adjusted at annual rates                                2019   \n2                                 2020                                2019   \n3                                 Q3 r                                2019   \n4                              21170.3                             19091.7   \n\n                            Unnamed: 9                          Unnamed: 10  \\\n0   Billions of chained (2012) dollars   Billions of chained (2012) dollars   \n1  Seasonally adjusted at annual rates  Seasonally adjusted at annual rates   \n2                                 2019                                 2019   \n3                                   Q3                                   Q4   \n4                              19141.7                                19254   \n\n                           Unnamed: 11                          Unnamed: 12  \\\n0   Billions of chained (2012) dollars   Billions of chained (2012) dollars   \n1  Seasonally adjusted at annual rates  Seasonally adjusted at annual rates   \n2                                 2020                                 2020   \n3                                   Q1                                   Q2   \n4                              19010.8                              17302.5   \n\n                           Unnamed: 13                         Unnamed: 14  \\\n0   Billions of chained (2012) dollars  Billions of chained (2012) dollars   \n1  Seasonally adjusted at annual rates        Change from preceding period   \n2                                 2020                                2019   \n3                                 Q3 r                                2019   \n4                              18596.5                               403.9   \n\n                          Unnamed: 15                         Unnamed: 16  \n0  Billions of chained (2012) dollars  Billions of chained (2012) dollars  \n1        Change from preceding period        Change from preceding period  \n2                                2020                                2020  \n3                                  Q2                                Q3 r  \n4                             -1708.3                                1294  ",
      "text/html": "<div>\n<style scoped>\n    .dataframe tbody tr th:only-of-type {\n        vertical-align: middle;\n    }\n\n    .dataframe tbody tr th {\n        vertical-align: top;\n    }\n\n    .dataframe thead th {\n        text-align: right;\n    }\n</style>\n<table border=\"1\" class=\"dataframe\">\n  <thead>\n    <tr style=\"text-align: right;\">\n      <th></th>\n      <th>Table 3. Gross Domestic Product: Level and Change from Preceding Period</th>\n      <th>Unnamed: 1</th>\n      <th>Unnamed: 2</th>\n      <th>Unnamed: 3</th>\n      <th>Unnamed: 4</th>\n      <th>Unnamed: 5</th>\n      <th>Unnamed: 6</th>\n      <th>Unnamed: 7</th>\n      <th>Unnamed: 8</th>\n      <th>Unnamed: 9</th>\n      <th>Unnamed: 10</th>\n      <th>Unnamed: 11</th>\n      <th>Unnamed: 12</th>\n      <th>Unnamed: 13</th>\n      <th>Unnamed: 14</th>\n      <th>Unnamed: 15</th>\n      <th>Unnamed: 16</th>\n    </tr>\n  </thead>\n  <tbody>\n    <tr>\n      <th>0</th>\n      <td>Line</td>\n      <td>NaN</td>\n      <td>Billions of dollars</td>\n      <td>Billions of dollars</td>\n      <td>Billions of dollars</td>\n      <td>Billions of dollars</td>\n      <td>Billions of dollars</td>\n      <td>Billions of dollars</td>\n      <td>Billions of chained (2012) dollars</td>\n      <td>Billions of chained (2012) dollars</td>\n      <td>Billions of chained (2012) dollars</td>\n      <td>Billions of chained (2012) dollars</td>\n      <td>Billions of chained (2012) dollars</td>\n      <td>Billions of chained (2012) dollars</td>\n      <td>Billions of chained (2012) dollars</td>\n      <td>Billions of chained (2012) dollars</td>\n      <td>Billions of chained (2012) dollars</td>\n    </tr>\n    <tr>\n      <th>1</th>\n      <td>Line</td>\n      <td>NaN</td>\n      <td>2019</td>\n      <td>Seasonally adjusted at annual rates</td>\n      <td>Seasonally adjusted at annual rates</td>\n      <td>Seasonally adjusted at annual rates</td>\n      <td>Seasonally adjusted at annual rates</td>\n      <td>Seasonally adjusted at annual rates</td>\n      <td>2019</td>\n      <td>Seasonally adjusted at annual rates</td>\n      <td>Seasonally adjusted at annual rates</td>\n      <td>Seasonally adjusted at annual rates</td>\n      <td>Seasonally adjusted at annual rates</td>\n      <td>Seasonally adjusted at annual rates</td>\n      <td>Change from preceding period</td>\n      <td>Change from preceding period</td>\n      <td>Change from preceding period</td>\n    </tr>\n    <tr>\n      <th>2</th>\n      <td>Line</td>\n      <td>NaN</td>\n      <td>2019</td>\n      <td>2019</td>\n      <td>2019</td>\n      <td>2020</td>\n      <td>2020</td>\n      <td>2020</td>\n      <td>2019</td>\n      <td>2019</td>\n      <td>2019</td>\n      <td>2020</td>\n      <td>2020</td>\n      <td>2020</td>\n      <td>2019</td>\n      <td>2020</td>\n      <td>2020</td>\n    </tr>\n    <tr>\n      <th>3</th>\n      <td>Line</td>\n      <td>NaN</td>\n      <td>2019</td>\n      <td>Q3</td>\n      <td>Q4</td>\n      <td>Q1</td>\n      <td>Q2</td>\n      <td>Q3 r</td>\n      <td>2019</td>\n      <td>Q3</td>\n      <td>Q4</td>\n      <td>Q1</td>\n      <td>Q2</td>\n      <td>Q3 r</td>\n      <td>2019</td>\n      <td>Q2</td>\n      <td>Q3 r</td>\n    </tr>\n    <tr>\n      <th>4</th>\n      <td>1</td>\n      <td>Gross domestic product (GDP)</td>\n      <td>21433.2</td>\n      <td>21540.3</td>\n      <td>21747.4</td>\n      <td>21561.1</td>\n      <td>19520.1</td>\n      <td>21170.3</td>\n      <td>19091.7</td>\n      <td>19141.7</td>\n      <td>19254</td>\n      <td>19010.8</td>\n      <td>17302.5</td>\n      <td>18596.5</td>\n      <td>403.9</td>\n      <td>-1708.3</td>\n      <td>1294</td>\n    </tr>\n  </tbody>\n</table>\n</div>"
     },
     "execution_count": 215,
     "metadata": {},
     "output_type": "execute_result"
    }
   ],
   "source": [
    "# needs preprocessing!\n",
    "df_usGDP3.head()"
   ]
  },
  {
   "cell_type": "markdown",
   "source": [
    "## US GDP by Industry Group: Percent Change from Preceding Period"
   ],
   "metadata": {
    "collapsed": false,
    "pycharm": {
     "name": "#%% md\n"
    }
   }
  },
  {
   "cell_type": "code",
   "execution_count": 216,
   "outputs": [
    {
     "data": {
      "text/plain": "  Table 12. Real Gross Domestic Product by Industry Group: Percent Change from Preceding Period  \\\n0                                               Line                                              \n1                                               Line                                              \n2                                               Line                                              \n3                                                  1                                              \n4                                                  2                                              \n\n               Unnamed: 1  Unnamed: 2  Unnamed: 3  Unnamed: 4  \\\n0                     NaN      2017.0      2018.0      2019.0   \n1                     NaN      2017.0      2018.0      2019.0   \n2                     NaN      2017.0      2018.0      2019.0   \n3  Gross domestic product         2.3         3.0         2.2   \n4      Private industries         2.5         3.2         2.4   \n\n                            Unnamed: 5                           Unnamed: 6  \\\n0  Seasonally adjusted at annual rates  Seasonally adjusted at annual rates   \n1                                 2016                                 2017   \n2                                   Q4                                   Q1   \n3                                  2.5                                  2.3   \n4                                  2.8                                  2.5   \n\n                            Unnamed: 7                           Unnamed: 8  \\\n0  Seasonally adjusted at annual rates  Seasonally adjusted at annual rates   \n1                                 2017                                 2017   \n2                                   Q2                                   Q3   \n3                                  1.7                                  2.9   \n4                                  1.9                                  3.1   \n\n                            Unnamed: 9  ... Unnamed: 33 Unnamed: 34  \\\n0  Seasonally adjusted at annual rates  ...         NaN         NaN   \n1                                 2017  ...         NaN         NaN   \n2                                   Q4  ...         NaN         NaN   \n3                                  3.9  ...         NaN         NaN   \n4                                  4.2  ...         NaN         NaN   \n\n  Unnamed: 35 Unnamed: 36 Unnamed: 37 Unnamed: 38 Unnamed: 39 Unnamed: 40  \\\n0         NaN         NaN         NaN         NaN         NaN         NaN   \n1         NaN         NaN         NaN         NaN         NaN         NaN   \n2         NaN         NaN         NaN         NaN         NaN         NaN   \n3         NaN         NaN         NaN         NaN         NaN         NaN   \n4         NaN         NaN         NaN         NaN         NaN         NaN   \n\n  Unnamed: 41 Unnamed: 42  \n0         NaN         NaN  \n1         NaN         NaN  \n2         NaN         NaN  \n3         NaN         NaN  \n4         NaN         NaN  \n\n[5 rows x 43 columns]",
      "text/html": "<div>\n<style scoped>\n    .dataframe tbody tr th:only-of-type {\n        vertical-align: middle;\n    }\n\n    .dataframe tbody tr th {\n        vertical-align: top;\n    }\n\n    .dataframe thead th {\n        text-align: right;\n    }\n</style>\n<table border=\"1\" class=\"dataframe\">\n  <thead>\n    <tr style=\"text-align: right;\">\n      <th></th>\n      <th>Table 12. Real Gross Domestic Product by Industry Group: Percent Change from Preceding Period</th>\n      <th>Unnamed: 1</th>\n      <th>Unnamed: 2</th>\n      <th>Unnamed: 3</th>\n      <th>Unnamed: 4</th>\n      <th>Unnamed: 5</th>\n      <th>Unnamed: 6</th>\n      <th>Unnamed: 7</th>\n      <th>Unnamed: 8</th>\n      <th>Unnamed: 9</th>\n      <th>...</th>\n      <th>Unnamed: 33</th>\n      <th>Unnamed: 34</th>\n      <th>Unnamed: 35</th>\n      <th>Unnamed: 36</th>\n      <th>Unnamed: 37</th>\n      <th>Unnamed: 38</th>\n      <th>Unnamed: 39</th>\n      <th>Unnamed: 40</th>\n      <th>Unnamed: 41</th>\n      <th>Unnamed: 42</th>\n    </tr>\n  </thead>\n  <tbody>\n    <tr>\n      <th>0</th>\n      <td>Line</td>\n      <td>NaN</td>\n      <td>2017.0</td>\n      <td>2018.0</td>\n      <td>2019.0</td>\n      <td>Seasonally adjusted at annual rates</td>\n      <td>Seasonally adjusted at annual rates</td>\n      <td>Seasonally adjusted at annual rates</td>\n      <td>Seasonally adjusted at annual rates</td>\n      <td>Seasonally adjusted at annual rates</td>\n      <td>...</td>\n      <td>NaN</td>\n      <td>NaN</td>\n      <td>NaN</td>\n      <td>NaN</td>\n      <td>NaN</td>\n      <td>NaN</td>\n      <td>NaN</td>\n      <td>NaN</td>\n      <td>NaN</td>\n      <td>NaN</td>\n    </tr>\n    <tr>\n      <th>1</th>\n      <td>Line</td>\n      <td>NaN</td>\n      <td>2017.0</td>\n      <td>2018.0</td>\n      <td>2019.0</td>\n      <td>2016</td>\n      <td>2017</td>\n      <td>2017</td>\n      <td>2017</td>\n      <td>2017</td>\n      <td>...</td>\n      <td>NaN</td>\n      <td>NaN</td>\n      <td>NaN</td>\n      <td>NaN</td>\n      <td>NaN</td>\n      <td>NaN</td>\n      <td>NaN</td>\n      <td>NaN</td>\n      <td>NaN</td>\n      <td>NaN</td>\n    </tr>\n    <tr>\n      <th>2</th>\n      <td>Line</td>\n      <td>NaN</td>\n      <td>2017.0</td>\n      <td>2018.0</td>\n      <td>2019.0</td>\n      <td>Q4</td>\n      <td>Q1</td>\n      <td>Q2</td>\n      <td>Q3</td>\n      <td>Q4</td>\n      <td>...</td>\n      <td>NaN</td>\n      <td>NaN</td>\n      <td>NaN</td>\n      <td>NaN</td>\n      <td>NaN</td>\n      <td>NaN</td>\n      <td>NaN</td>\n      <td>NaN</td>\n      <td>NaN</td>\n      <td>NaN</td>\n    </tr>\n    <tr>\n      <th>3</th>\n      <td>1</td>\n      <td>Gross domestic product</td>\n      <td>2.3</td>\n      <td>3.0</td>\n      <td>2.2</td>\n      <td>2.5</td>\n      <td>2.3</td>\n      <td>1.7</td>\n      <td>2.9</td>\n      <td>3.9</td>\n      <td>...</td>\n      <td>NaN</td>\n      <td>NaN</td>\n      <td>NaN</td>\n      <td>NaN</td>\n      <td>NaN</td>\n      <td>NaN</td>\n      <td>NaN</td>\n      <td>NaN</td>\n      <td>NaN</td>\n      <td>NaN</td>\n    </tr>\n    <tr>\n      <th>4</th>\n      <td>2</td>\n      <td>Private industries</td>\n      <td>2.5</td>\n      <td>3.2</td>\n      <td>2.4</td>\n      <td>2.8</td>\n      <td>2.5</td>\n      <td>1.9</td>\n      <td>3.1</td>\n      <td>4.2</td>\n      <td>...</td>\n      <td>NaN</td>\n      <td>NaN</td>\n      <td>NaN</td>\n      <td>NaN</td>\n      <td>NaN</td>\n      <td>NaN</td>\n      <td>NaN</td>\n      <td>NaN</td>\n      <td>NaN</td>\n      <td>NaN</td>\n    </tr>\n  </tbody>\n</table>\n<p>5 rows × 43 columns</p>\n</div>"
     },
     "execution_count": 216,
     "metadata": {},
     "output_type": "execute_result"
    }
   ],
   "source": [
    "df_usGDP12.head()"
   ],
   "metadata": {
    "collapsed": false,
    "pycharm": {
     "name": "#%%\n"
    }
   }
  },
  {
   "cell_type": "markdown",
   "source": [
    "## US GDP by Industry Group: Level abd Change from Preceding Period"
   ],
   "metadata": {
    "collapsed": false
   }
  },
  {
   "cell_type": "code",
   "execution_count": 217,
   "outputs": [
    {
     "data": {
      "text/plain": "  Table 14. Gross Domestic Product by Industry Group: Level and Change from Preceding Period  \\\n0                                               Line                                           \n1                                               Line                                           \n2                                               Line                                           \n3                                               Line                                           \n4                                                  1                                           \n\n               Unnamed: 1           Unnamed: 2  \\\n0                     NaN  Billions of dollars   \n1                     NaN                 2019   \n2                     NaN                 2019   \n3                     NaN                 2019   \n4  Gross domestic product              21433.2   \n\n                            Unnamed: 3                           Unnamed: 4  \\\n0                  Billions of dollars                  Billions of dollars   \n1  Seasonally adjusted at annual rates  Seasonally adjusted at annual rates   \n2                                 2019                                 2019   \n3                                   Q3                                   Q4   \n4                              21540.3                              21747.4   \n\n                            Unnamed: 5                           Unnamed: 6  \\\n0                  Billions of dollars                  Billions of dollars   \n1  Seasonally adjusted at annual rates  Seasonally adjusted at annual rates   \n2                                 2020                                 2020   \n3                                   Q1                                   Q2   \n4                              21561.1                              19520.1   \n\n                            Unnamed: 7                          Unnamed: 8  \\\n0                  Billions of dollars  Billions of chained (2012) dollars   \n1  Seasonally adjusted at annual rates                                2019   \n2                                 2020                                2019   \n3                                   Q3                                2019   \n4                              21170.3                             19091.7   \n\n                            Unnamed: 9  ...  \\\n0   Billions of chained (2012) dollars  ...   \n1  Seasonally adjusted at annual rates  ...   \n2                                 2019  ...   \n3                                   Q3  ...   \n4                              19141.7  ...   \n\n                          Unnamed: 14                         Unnamed: 15  \\\n0  Billions of chained (2012) dollars  Billions of chained (2012) dollars   \n1        Change from preceding period        Change from preceding period   \n2                                2019                                2020   \n3                                2019                                  Q2   \n4                               403.9                             -1708.3   \n\n                          Unnamed: 16 Unnamed: 17 Unnamed: 18 Unnamed: 19  \\\n0  Billions of chained (2012) dollars         NaN         NaN         NaN   \n1        Change from preceding period         NaN         NaN         NaN   \n2                                2020         NaN         NaN         NaN   \n3                                  Q3         NaN         NaN         NaN   \n4                                1294         NaN         NaN         NaN   \n\n  Unnamed: 20  Unnamed: 21  Unnamed: 22  Unnamed: 23  \n0         NaN          NaN          NaN          NaN  \n1         NaN          NaN          NaN          NaN  \n2         NaN          NaN          NaN          NaN  \n3         NaN          NaN          NaN          NaN  \n4         NaN          NaN          NaN          NaN  \n\n[5 rows x 24 columns]",
      "text/html": "<div>\n<style scoped>\n    .dataframe tbody tr th:only-of-type {\n        vertical-align: middle;\n    }\n\n    .dataframe tbody tr th {\n        vertical-align: top;\n    }\n\n    .dataframe thead th {\n        text-align: right;\n    }\n</style>\n<table border=\"1\" class=\"dataframe\">\n  <thead>\n    <tr style=\"text-align: right;\">\n      <th></th>\n      <th>Table 14. Gross Domestic Product by Industry Group: Level and Change from Preceding Period</th>\n      <th>Unnamed: 1</th>\n      <th>Unnamed: 2</th>\n      <th>Unnamed: 3</th>\n      <th>Unnamed: 4</th>\n      <th>Unnamed: 5</th>\n      <th>Unnamed: 6</th>\n      <th>Unnamed: 7</th>\n      <th>Unnamed: 8</th>\n      <th>Unnamed: 9</th>\n      <th>...</th>\n      <th>Unnamed: 14</th>\n      <th>Unnamed: 15</th>\n      <th>Unnamed: 16</th>\n      <th>Unnamed: 17</th>\n      <th>Unnamed: 18</th>\n      <th>Unnamed: 19</th>\n      <th>Unnamed: 20</th>\n      <th>Unnamed: 21</th>\n      <th>Unnamed: 22</th>\n      <th>Unnamed: 23</th>\n    </tr>\n  </thead>\n  <tbody>\n    <tr>\n      <th>0</th>\n      <td>Line</td>\n      <td>NaN</td>\n      <td>Billions of dollars</td>\n      <td>Billions of dollars</td>\n      <td>Billions of dollars</td>\n      <td>Billions of dollars</td>\n      <td>Billions of dollars</td>\n      <td>Billions of dollars</td>\n      <td>Billions of chained (2012) dollars</td>\n      <td>Billions of chained (2012) dollars</td>\n      <td>...</td>\n      <td>Billions of chained (2012) dollars</td>\n      <td>Billions of chained (2012) dollars</td>\n      <td>Billions of chained (2012) dollars</td>\n      <td>NaN</td>\n      <td>NaN</td>\n      <td>NaN</td>\n      <td>NaN</td>\n      <td>NaN</td>\n      <td>NaN</td>\n      <td>NaN</td>\n    </tr>\n    <tr>\n      <th>1</th>\n      <td>Line</td>\n      <td>NaN</td>\n      <td>2019</td>\n      <td>Seasonally adjusted at annual rates</td>\n      <td>Seasonally adjusted at annual rates</td>\n      <td>Seasonally adjusted at annual rates</td>\n      <td>Seasonally adjusted at annual rates</td>\n      <td>Seasonally adjusted at annual rates</td>\n      <td>2019</td>\n      <td>Seasonally adjusted at annual rates</td>\n      <td>...</td>\n      <td>Change from preceding period</td>\n      <td>Change from preceding period</td>\n      <td>Change from preceding period</td>\n      <td>NaN</td>\n      <td>NaN</td>\n      <td>NaN</td>\n      <td>NaN</td>\n      <td>NaN</td>\n      <td>NaN</td>\n      <td>NaN</td>\n    </tr>\n    <tr>\n      <th>2</th>\n      <td>Line</td>\n      <td>NaN</td>\n      <td>2019</td>\n      <td>2019</td>\n      <td>2019</td>\n      <td>2020</td>\n      <td>2020</td>\n      <td>2020</td>\n      <td>2019</td>\n      <td>2019</td>\n      <td>...</td>\n      <td>2019</td>\n      <td>2020</td>\n      <td>2020</td>\n      <td>NaN</td>\n      <td>NaN</td>\n      <td>NaN</td>\n      <td>NaN</td>\n      <td>NaN</td>\n      <td>NaN</td>\n      <td>NaN</td>\n    </tr>\n    <tr>\n      <th>3</th>\n      <td>Line</td>\n      <td>NaN</td>\n      <td>2019</td>\n      <td>Q3</td>\n      <td>Q4</td>\n      <td>Q1</td>\n      <td>Q2</td>\n      <td>Q3</td>\n      <td>2019</td>\n      <td>Q3</td>\n      <td>...</td>\n      <td>2019</td>\n      <td>Q2</td>\n      <td>Q3</td>\n      <td>NaN</td>\n      <td>NaN</td>\n      <td>NaN</td>\n      <td>NaN</td>\n      <td>NaN</td>\n      <td>NaN</td>\n      <td>NaN</td>\n    </tr>\n    <tr>\n      <th>4</th>\n      <td>1</td>\n      <td>Gross domestic product</td>\n      <td>21433.2</td>\n      <td>21540.3</td>\n      <td>21747.4</td>\n      <td>21561.1</td>\n      <td>19520.1</td>\n      <td>21170.3</td>\n      <td>19091.7</td>\n      <td>19141.7</td>\n      <td>...</td>\n      <td>403.9</td>\n      <td>-1708.3</td>\n      <td>1294</td>\n      <td>NaN</td>\n      <td>NaN</td>\n      <td>NaN</td>\n      <td>NaN</td>\n      <td>NaN</td>\n      <td>NaN</td>\n      <td>NaN</td>\n    </tr>\n  </tbody>\n</table>\n<p>5 rows × 24 columns</p>\n</div>"
     },
     "execution_count": 217,
     "metadata": {},
     "output_type": "execute_result"
    }
   ],
   "source": [
    "df_usGDP14.head()"
   ],
   "metadata": {
    "collapsed": false,
    "pycharm": {
     "name": "#%%\n"
    }
   }
  },
  {
   "cell_type": "markdown",
   "source": [
    "# European countries GDP"
   ],
   "metadata": {
    "collapsed": false,
    "pycharm": {
     "name": "#%% md\n"
    }
   }
  },
  {
   "cell_type": "code",
   "execution_count": 218,
   "outputs": [
    {
     "data": {
      "text/plain": "     TIME                                        GEO  \\\n0  2010Q3  European Union - 28 countries (2013-2020)   \n1  2010Q3                                    Belgium   \n2  2010Q3                                   Bulgaria   \n3  2010Q3                                    Czechia   \n4  2010Q3                                    Denmark   \n\n                                               S_ADJ  \\\n0  Unadjusted data (i.e. neither seasonally adjus...   \n1  Unadjusted data (i.e. neither seasonally adjus...   \n2  Unadjusted data (i.e. neither seasonally adjus...   \n3  Unadjusted data (i.e. neither seasonally adjus...   \n4  Unadjusted data (i.e. neither seasonally adjus...   \n\n                           UNIT                                  NA_ITEM  \\\n0  Current prices, million euro  Gross domestic product at market prices   \n1  Current prices, million euro  Gross domestic product at market prices   \n2  Current prices, million euro  Gross domestic product at market prices   \n3  Current prices, million euro  Gross domestic product at market prices   \n4  Current prices, million euro  Gross domestic product at market prices   \n\n         Value Flag and Footnotes  \n0  3 219 688.1                NaN  \n1     88 635.0                NaN  \n2     10 342.2                NaN  \n3     40 716.5                NaN  \n4     61 176.9                NaN  ",
      "text/html": "<div>\n<style scoped>\n    .dataframe tbody tr th:only-of-type {\n        vertical-align: middle;\n    }\n\n    .dataframe tbody tr th {\n        vertical-align: top;\n    }\n\n    .dataframe thead th {\n        text-align: right;\n    }\n</style>\n<table border=\"1\" class=\"dataframe\">\n  <thead>\n    <tr style=\"text-align: right;\">\n      <th></th>\n      <th>TIME</th>\n      <th>GEO</th>\n      <th>S_ADJ</th>\n      <th>UNIT</th>\n      <th>NA_ITEM</th>\n      <th>Value</th>\n      <th>Flag and Footnotes</th>\n    </tr>\n  </thead>\n  <tbody>\n    <tr>\n      <th>0</th>\n      <td>2010Q3</td>\n      <td>European Union - 28 countries (2013-2020)</td>\n      <td>Unadjusted data (i.e. neither seasonally adjus...</td>\n      <td>Current prices, million euro</td>\n      <td>Gross domestic product at market prices</td>\n      <td>3 219 688.1</td>\n      <td>NaN</td>\n    </tr>\n    <tr>\n      <th>1</th>\n      <td>2010Q3</td>\n      <td>Belgium</td>\n      <td>Unadjusted data (i.e. neither seasonally adjus...</td>\n      <td>Current prices, million euro</td>\n      <td>Gross domestic product at market prices</td>\n      <td>88 635.0</td>\n      <td>NaN</td>\n    </tr>\n    <tr>\n      <th>2</th>\n      <td>2010Q3</td>\n      <td>Bulgaria</td>\n      <td>Unadjusted data (i.e. neither seasonally adjus...</td>\n      <td>Current prices, million euro</td>\n      <td>Gross domestic product at market prices</td>\n      <td>10 342.2</td>\n      <td>NaN</td>\n    </tr>\n    <tr>\n      <th>3</th>\n      <td>2010Q3</td>\n      <td>Czechia</td>\n      <td>Unadjusted data (i.e. neither seasonally adjus...</td>\n      <td>Current prices, million euro</td>\n      <td>Gross domestic product at market prices</td>\n      <td>40 716.5</td>\n      <td>NaN</td>\n    </tr>\n    <tr>\n      <th>4</th>\n      <td>2010Q3</td>\n      <td>Denmark</td>\n      <td>Unadjusted data (i.e. neither seasonally adjus...</td>\n      <td>Current prices, million euro</td>\n      <td>Gross domestic product at market prices</td>\n      <td>61 176.9</td>\n      <td>NaN</td>\n    </tr>\n  </tbody>\n</table>\n</div>"
     },
     "execution_count": 218,
     "metadata": {},
     "output_type": "execute_result"
    }
   ],
   "source": [
    "df_allWorldGDP.head()"
   ],
   "metadata": {
    "collapsed": false,
    "pycharm": {
     "name": "#%%\n"
    }
   }
  },
  {
   "cell_type": "markdown",
   "source": [
    "---\n",
    "# Step 1: Data Cleaning\n",
    "* Remove \"empty\" cells\n",
    "* Subset selection\n",
    "## Cleaning COVID Dataset"
   ],
   "metadata": {
    "collapsed": false,
    "pycharm": {
     "name": "#%% md\n"
    }
   }
  },
  {
   "cell_type": "code",
   "execution_count": 219,
   "outputs": [
    {
     "name": "stdout",
     "output_type": "stream",
     "text": [
      "<class 'pandas.core.frame.DataFrame'>\n",
      "DatetimeIndex: 68569 entries, 2020-01-22 to 2021-01-14\n",
      "Data columns (total 4 columns):\n",
      " #   Column     Non-Null Count  Dtype \n",
      "---  ------     --------------  ----- \n",
      " 0   Country    68569 non-null  object\n",
      " 1   Confirmed  68569 non-null  int64 \n",
      " 2   Recovered  68569 non-null  int64 \n",
      " 3   Deaths     68569 non-null  int64 \n",
      "dtypes: int64(3), object(1)\n",
      "memory usage: 2.6+ MB\n",
      "<class 'pandas.core.frame.DataFrame'>\n",
      "DatetimeIndex: 65895 entries, 2020-01-22 to 2020-12-31\n",
      "Data columns (total 4 columns):\n",
      " #   Column     Non-Null Count  Dtype \n",
      "---  ------     --------------  ----- \n",
      " 0   Country    65895 non-null  object\n",
      " 1   Confirmed  65895 non-null  int64 \n",
      " 2   Recovered  65895 non-null  int64 \n",
      " 3   Deaths     65895 non-null  int64 \n",
      "dtypes: int64(3), object(1)\n",
      "memory usage: 2.5+ MB\n",
      "<class 'pandas.core.frame.DataFrame'>\n",
      "DatetimeIndex: 345 entries, 2020-01-22 to 2020-12-31\n",
      "Data columns (total 4 columns):\n",
      " #   Column     Non-Null Count  Dtype \n",
      "---  ------     --------------  ----- \n",
      " 0   Country    345 non-null    object\n",
      " 1   Confirmed  345 non-null    int64 \n",
      " 2   Recovered  345 non-null    int64 \n",
      " 3   Deaths     345 non-null    int64 \n",
      "dtypes: int64(3), object(1)\n",
      "memory usage: 13.5+ KB\n"
     ]
    },
    {
     "data": {
      "text/plain": "     TIME                                        GEO  \\\n0  2010Q3  European Union - 28 countries (2013-2020)   \n1  2010Q3                                    Belgium   \n2  2010Q3                                   Bulgaria   \n3  2010Q3                                    Czechia   \n4  2010Q3                                    Denmark   \n\n                                               S_ADJ  \\\n0  Unadjusted data (i.e. neither seasonally adjus...   \n1  Unadjusted data (i.e. neither seasonally adjus...   \n2  Unadjusted data (i.e. neither seasonally adjus...   \n3  Unadjusted data (i.e. neither seasonally adjus...   \n4  Unadjusted data (i.e. neither seasonally adjus...   \n\n                           UNIT                                  NA_ITEM  \\\n0  Current prices, million euro  Gross domestic product at market prices   \n1  Current prices, million euro  Gross domestic product at market prices   \n2  Current prices, million euro  Gross domestic product at market prices   \n3  Current prices, million euro  Gross domestic product at market prices   \n4  Current prices, million euro  Gross domestic product at market prices   \n\n         Value Flag and Footnotes  \n0  3 219 688.1                NaN  \n1     88 635.0                NaN  \n2     10 342.2                NaN  \n3     40 716.5                NaN  \n4     61 176.9                NaN  ",
      "text/html": "<div>\n<style scoped>\n    .dataframe tbody tr th:only-of-type {\n        vertical-align: middle;\n    }\n\n    .dataframe tbody tr th {\n        vertical-align: top;\n    }\n\n    .dataframe thead th {\n        text-align: right;\n    }\n</style>\n<table border=\"1\" class=\"dataframe\">\n  <thead>\n    <tr style=\"text-align: right;\">\n      <th></th>\n      <th>TIME</th>\n      <th>GEO</th>\n      <th>S_ADJ</th>\n      <th>UNIT</th>\n      <th>NA_ITEM</th>\n      <th>Value</th>\n      <th>Flag and Footnotes</th>\n    </tr>\n  </thead>\n  <tbody>\n    <tr>\n      <th>0</th>\n      <td>2010Q3</td>\n      <td>European Union - 28 countries (2013-2020)</td>\n      <td>Unadjusted data (i.e. neither seasonally adjus...</td>\n      <td>Current prices, million euro</td>\n      <td>Gross domestic product at market prices</td>\n      <td>3 219 688.1</td>\n      <td>NaN</td>\n    </tr>\n    <tr>\n      <th>1</th>\n      <td>2010Q3</td>\n      <td>Belgium</td>\n      <td>Unadjusted data (i.e. neither seasonally adjus...</td>\n      <td>Current prices, million euro</td>\n      <td>Gross domestic product at market prices</td>\n      <td>88 635.0</td>\n      <td>NaN</td>\n    </tr>\n    <tr>\n      <th>2</th>\n      <td>2010Q3</td>\n      <td>Bulgaria</td>\n      <td>Unadjusted data (i.e. neither seasonally adjus...</td>\n      <td>Current prices, million euro</td>\n      <td>Gross domestic product at market prices</td>\n      <td>10 342.2</td>\n      <td>NaN</td>\n    </tr>\n    <tr>\n      <th>3</th>\n      <td>2010Q3</td>\n      <td>Czechia</td>\n      <td>Unadjusted data (i.e. neither seasonally adjus...</td>\n      <td>Current prices, million euro</td>\n      <td>Gross domestic product at market prices</td>\n      <td>40 716.5</td>\n      <td>NaN</td>\n    </tr>\n    <tr>\n      <th>4</th>\n      <td>2010Q3</td>\n      <td>Denmark</td>\n      <td>Unadjusted data (i.e. neither seasonally adjus...</td>\n      <td>Current prices, million euro</td>\n      <td>Gross domestic product at market prices</td>\n      <td>61 176.9</td>\n      <td>NaN</td>\n    </tr>\n  </tbody>\n</table>\n</div>"
     },
     "execution_count": 219,
     "metadata": {},
     "output_type": "execute_result"
    },
    {
     "data": {
      "text/plain": "<Figure size 1080x576 with 1 Axes>",
      "image/png": "[encoded data removed]"
     },
     "metadata": {
      "needs_background": "light"
     },
     "output_type": "display_data"
    },
    {
     "data": {
      "text/plain": "<Figure size 1080x576 with 1 Axes>",
      "image/png": "[encoded data removed]"
     },
     "metadata": {
      "needs_background": "light"
     },
     "output_type": "display_data"
    }
   ],
   "source": [
    "#countries = ['Germany', 'Italy', 'France']\n",
    "df_covCountries.info()\n",
    "\n",
    "covData2020 = df_covCountries[df_covCountries.index.year == 2020]\n",
    "covData2020.info()\n",
    "\n",
    "covData2020Germany = covData2020[covData2020['Country'] == \"Germany\"]\n",
    "covData2020Germany.info()\n",
    "\n",
    "#covData2020Germany.plot(figsize=(15,10))\n",
    "covData2020Germany['Deaths'].plot()\n",
    "covData2020.plot()\n",
    "\n",
    "\n",
    "df_allWorldGDP.head()"
   ],
   "metadata": {
    "collapsed": false,
    "pycharm": {
     "name": "#%%\n"
    }
   }
  },
  {
   "cell_type": "markdown",
   "source": [
    "# Step 2: Data Preparation\n",
    "* chose Countries:\n",
    "    * Upper and lower end of GDP (Note: Probably not representative, Perhaps further calculations necessary?)\n",
    "    * Footnotes (removed with regular expression):\n",
    "\n",
    "| Footnote | Description                       |\n",
    "| :------- | :-------------------------------- |\n",
    "| b        | break in time series              |\n",
    "| c        | confidential                      |\n",
    "| d        | definition differs, see metadata  |\n",
    "| e        | estimated                         |\n",
    "| f        | forecast                          |\n",
    "| n        | not significant                   |\n",
    "| p        | provisional                       |\n",
    "| r        | revised                           |\n",
    "| s        | Eurostat estimate                 |\n",
    "| u        | low reliability                   |\n",
    "| z        | not applicable                    |\n",
    "\n",
    "\n",
    "\n",
    "* Source Table:\n",
    "    \n",
    "| Index  | TIME             | GEO                       | Value                                              |\n",
    "| :----- | :--------------- | :------------------------ | :------------------------------------------------- |\n",
    "| 0-1039 | 2018Q2 - 2020Q3  | e.g. Germany, Qatar, etc. | Current prices, million euro                       |\n",
    "\n",
    " * Problem: Resulting Table:\n",
    "\n",
    "| Index | GEO                       | 2018Q2 (= TIME value from source table) | 2018Q3                  | ... |\n",
    "| :---- | :------------------------ | :-------------------------------------- | :-----------------------| :-: |\n",
    "| 0-103 | e.g. Germany, Qatar, etc. | e.g. Germany, Qatar, etc.               | Corresponding GDP Value | ... |\n",
    "\n",
    "## Rearranging the Dataset"
   ],
   "metadata": {
    "collapsed": false,
    "pycharm": {
     "name": "#%% md\n"
    }
   }
  },
  {
   "cell_type": "code",
   "execution_count": null,
   "outputs": [],
   "source": [
    "worldGDP_reduced = df_allWorldGDP[['TIME', 'GEO', 'Value']].copy()\n",
    "worldGDP_reduced.Value = worldGDP_reduced.Value.replace(to_replace=r'[^\\d.-]',value='',regex=True)\n",
    "worldGDP_reduced['Value'] = worldGDP_reduced['Value'].apply(pd.to_numeric)\n",
    "\n",
    "\n",
    "\n",
    "test = pd.DataFrame()\n",
    "test['GEO'] = ''\n",
    "\n",
    "for n in worldGDP_reduced['TIME']:\n",
    "    test[n] = n\n",
    "\n",
    "test['GEO'] = test['GEO'].append(worldGDP_reduced.drop_duplicates(subset=['GEO'])['GEO'], ignore_index=True)\n",
    "\n",
    "for srcIndex, srcRow in worldGDP_reduced.iterrows():\n",
    "\n",
    "    for tgIndex, tgRow in test.iterrows():\n",
    "\n",
    "        if srcRow['GEO'] == tgRow['GEO']:\n",
    "            for tgCol in range(len(test.columns)):\n",
    "                if srcRow['TIME'] == test.columns[tgCol]:\n",
    "                    test.iloc[tgIndex,tgCol] = srcRow['Value']"
   ],
   "metadata": {
    "collapsed": false,
    "pycharm": {
     "name": "#%%\n",
     "is_executing": true
    }
   }
  },
  {
   "cell_type": "markdown",
   "source": [
    "## Create new Dataframe with avgValues (Further Selection: Top10, Last5)"
   ],
   "metadata": {
    "collapsed": false,
    "pycharm": {
     "name": "#%% md\n"
    }
   }
  },
  {
   "cell_type": "code",
   "execution_count": null,
   "outputs": [],
   "source": [
    "test.iloc[:,1:] = test.iloc[:,1:].apply(pd.to_numeric)\n",
    "avgGDP = test.filter(regex='GEO').copy()\n",
    "#avg['mean'] = test.iloc[:,1:].mean(axis=1)\n",
    "avgGDP['MEAN'] = test.iloc[:,1:].mean(axis=1)\n",
    "\n",
    "# NA -> Not Available\n",
    "# NaN -> Not a Number\n",
    "avgGDP = avgGDP.dropna(axis=0, how='any')\n",
    "\n",
    "avgGDP.sort_values(by=['MEAN'], ascending=False, inplace=True)\n",
    "\n",
    "avgGDP.head(15)\n",
    "#avgGDP.tail(10)\n",
    "\n",
    "\n",
    "top5 = avgGDP.head(10)['GEO']\n",
    "\n",
    "avgGDP.sort_values(by=['MEAN'], ascending=True, inplace=True)\n",
    "last5 = avgGDP.head(5)['GEO']"
   ],
   "metadata": {
    "collapsed": false,
    "pycharm": {
     "name": "#%%\n",
     "is_executing": true
    }
   }
  },
  {
   "cell_type": "markdown",
   "source": [
    "## First Plotting (For testing purposes)"
   ],
   "metadata": {
    "collapsed": false,
    "pycharm": {
     "name": "#%% md\n"
    }
   }
  },
  {
   "cell_type": "code",
   "execution_count": null,
   "outputs": [],
   "source": [
    "#a=test.to_string(index=False)\n",
    "#print (a)\n",
    "top5_merged = test.merge(top5, how='inner', on='GEO').head()\n",
    "\n",
    "\n",
    "columns = list(top5_merged.iloc[:1,1:])\n",
    "\n",
    "rows = list(top5_merged['GEO'])\n",
    "\n",
    "data = top5_merged.iloc[:,1:].to_numpy()\n"
   ],
   "metadata": {
    "collapsed": false,
    "pycharm": {
     "name": "#%%\n",
     "is_executing": true
    }
   }
  },
  {
   "cell_type": "code",
   "execution_count": null,
   "outputs": [],
   "source": [
    "######## TESTING AREA ##########################\n",
    "#data = [[ 100, 100,  99, 95],\n",
    "#        [ 66, 71,  76,  82],\n",
    "#        [ 73,  75, 79, 81],\n",
    "#        [ 17,  23, 42, 55],\n",
    "#        [ 12, 18, 26, 20]]\n",
    "#columns = ('2010', '2012', '2014', '2016')\n",
    "#rows = (\"Make Calls\", \"Take Photos\", \"Texting\", \"Internet\", \"Playing games\")[::-1]\n",
    "\n",
    "values = np.arange(200000, 700000, 100000)\n",
    "value_increment = 10\n",
    "\n",
    "# Get some pastel shades for the colors\n",
    "colors = plt.cm.BuPu(np.linspace(0, 0.5, len(rows)))\n",
    "colors = colors[::-1]\n",
    "index = np.arange(len(columns)) + 0.3\n",
    "bar_width = 0.4\n",
    "n_rows = len(data)\n",
    "\n",
    "for row in range(n_rows):\n",
    "    plt.plot(index, data[row], bar_width)\n",
    "\n",
    "#plt.table(cellText=data, rowLabels=rows, rowColours=colors, colLabels=columns, loc='bottom')\n",
    "\n",
    "plt.subplots_adjust(left=0.25, bottom=0.25)\n",
    "plt.ylabel(\"GDP in million €\")\n",
    "plt.yticks(values * value_increment, ['%d' % val for val in values])\n",
    "plt.xticks([])\n",
    "plt.title(\"Top 5 Regions' GDP Development of the last Decade\")\n",
    "\n",
    "plt.show()\n",
    "\n",
    "################################################"
   ],
   "metadata": {
    "collapsed": false,
    "pycharm": {
     "name": "#%%\n",
     "is_executing": true
    }
   }
  },
  {
   "cell_type": "code",
   "execution_count": null,
   "outputs": [],
   "source": [],
   "metadata": {
    "collapsed": false,
    "pycharm": {
     "name": "#%%\n",
     "is_executing": true
    }
   }
  }
 ],
 "metadata": {
  "kernelspec": {
   "display_name": "PyCharm (data-mining)",
   "language": "python",
   "name": "pycharm-5f424342"
  },
  "language_info": {
   "codemirror_mode": {
    "name": "ipython",
    "version": 3
   },
   "file_extension": ".py",
   "mimetype": "text/x-python",
   "name": "python",
   "nbconvert_exporter": "python",
   "pygments_lexer": "ipython3",
   "version": "3.9.1"
  }
 },
 "nbformat": 4,
 "nbformat_minor": 1
}