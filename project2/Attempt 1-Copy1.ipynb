{
 "cells": [
  {
   "cell_type": "markdown",
   "id": "present-fields",
   "metadata": {},
   "source": [
    "# Data Preparation"
   ]
  },
  {
   "cell_type": "raw",
   "id": "swedish-bible",
   "metadata": {},
   "source": [
    "I) Importing Datasets"
   ]
  },
  {
   "cell_type": "code",
   "execution_count": 105,
   "id": "italic-french",
   "metadata": {},
   "outputs": [],
   "source": [
    "import pandas as pd\n",
    "df_covid19_data=pd.read_csv(\"data/covid-19.csv\")\n",
    "df_aggr_covid19_data=pd.read_csv(\"data/aggr_covid_data.csv\")\n",
    "df_unemployment=pd.read_csv(\"data/Unemploy2.csv\")\n"
   ]
  },
  {
   "cell_type": "code",
   "execution_count": 106,
   "id": "mysterious-laugh",
   "metadata": {},
   "outputs": [],
   "source": [
    "df_CPI_Import_Export_Aggr=pd.read_csv(\"data/CPI_Export_Import_Aggr.csv\")"
   ]
  },
  {
   "cell_type": "raw",
   "id": "funded-mounting",
   "metadata": {},
   "source": [
    "2) Displaying Datasets"
   ]
  },
  {
   "cell_type": "raw",
   "id": "sunset-auckland",
   "metadata": {},
   "source": [
    "A. COVID-19 Dataset"
   ]
  },
  {
   "cell_type": "code",
   "execution_count": 107,
   "id": "recognized-battery",
   "metadata": {
    "scrolled": true
   },
   "outputs": [
    {
     "data": {
      "text/plain": "         Date Country/Region Province/State  Confirmed  Recovered  Deaths\n0  22-01-2020    Afghanistan            NaN          0        0.0       0\n1  23-01-2020    Afghanistan            NaN          0        0.0       0\n2  24-01-2020    Afghanistan            NaN          0        0.0       0\n3  25-01-2020    Afghanistan            NaN          0        0.0       0\n4  26-01-2020    Afghanistan            NaN          0        0.0       0",
      "text/html": "<div>\n<style scoped>\n    .dataframe tbody tr th:only-of-type {\n        vertical-align: middle;\n    }\n\n    .dataframe tbody tr th {\n        vertical-align: top;\n    }\n\n    .dataframe thead th {\n        text-align: right;\n    }\n</style>\n<table border=\"1\" class=\"dataframe\">\n  <thead>\n    <tr style=\"text-align: right;\">\n      <th></th>\n      <th>Date</th>\n      <th>Country/Region</th>\n      <th>Province/State</th>\n      <th>Confirmed</th>\n      <th>Recovered</th>\n      <th>Deaths</th>\n    </tr>\n  </thead>\n  <tbody>\n    <tr>\n      <th>0</th>\n      <td>22-01-2020</td>\n      <td>Afghanistan</td>\n      <td>NaN</td>\n      <td>0</td>\n      <td>0.0</td>\n      <td>0</td>\n    </tr>\n    <tr>\n      <th>1</th>\n      <td>23-01-2020</td>\n      <td>Afghanistan</td>\n      <td>NaN</td>\n      <td>0</td>\n      <td>0.0</td>\n      <td>0</td>\n    </tr>\n    <tr>\n      <th>2</th>\n      <td>24-01-2020</td>\n      <td>Afghanistan</td>\n      <td>NaN</td>\n      <td>0</td>\n      <td>0.0</td>\n      <td>0</td>\n    </tr>\n    <tr>\n      <th>3</th>\n      <td>25-01-2020</td>\n      <td>Afghanistan</td>\n      <td>NaN</td>\n      <td>0</td>\n      <td>0.0</td>\n      <td>0</td>\n    </tr>\n    <tr>\n      <th>4</th>\n      <td>26-01-2020</td>\n      <td>Afghanistan</td>\n      <td>NaN</td>\n      <td>0</td>\n      <td>0.0</td>\n      <td>0</td>\n    </tr>\n  </tbody>\n</table>\n</div>"
     },
     "execution_count": 107,
     "metadata": {},
     "output_type": "execute_result"
    }
   ],
   "source": [
    "df_covid19_data.head()\n"
   ]
  },
  {
   "cell_type": "raw",
   "id": "strong-third",
   "metadata": {},
   "source": [
    "B. COVID-19 Aggregated Dataset"
   ]
  },
  {
   "cell_type": "code",
   "execution_count": 108,
   "id": "imported-nation",
   "metadata": {},
   "outputs": [
    {
     "data": {
      "text/plain": "  iso_code continent     location        date  total_cases  new_cases  \\\n0      AFG      Asia  Afghanistan  2020-02-24          1.0        1.0   \n1      AFG      Asia  Afghanistan  2020-02-25          1.0        0.0   \n2      AFG      Asia  Afghanistan  2020-02-26          1.0        0.0   \n3      AFG      Asia  Afghanistan  2020-02-27          1.0        0.0   \n4      AFG      Asia  Afghanistan  2020-02-28          1.0        0.0   \n\n   new_cases_smoothed  total_deaths  new_deaths  new_deaths_smoothed  ...  \\\n0                 NaN           NaN         NaN                  NaN  ...   \n1                 NaN           NaN         NaN                  NaN  ...   \n2                 NaN           NaN         NaN                  NaN  ...   \n3                 NaN           NaN         NaN                  NaN  ...   \n4                 NaN           NaN         NaN                  NaN  ...   \n\n   gdp_per_capita  extreme_poverty  cardiovasc_death_rate  \\\n0        1803.987              NaN                597.029   \n1        1803.987              NaN                597.029   \n2        1803.987              NaN                597.029   \n3        1803.987              NaN                597.029   \n4        1803.987              NaN                597.029   \n\n   diabetes_prevalence  female_smokers  male_smokers  handwashing_facilities  \\\n0                 9.59             NaN           NaN                  37.746   \n1                 9.59             NaN           NaN                  37.746   \n2                 9.59             NaN           NaN                  37.746   \n3                 9.59             NaN           NaN                  37.746   \n4                 9.59             NaN           NaN                  37.746   \n\n   hospital_beds_per_thousand  life_expectancy  human_development_index  \n0                         0.5            64.83                    0.498  \n1                         0.5            64.83                    0.498  \n2                         0.5            64.83                    0.498  \n3                         0.5            64.83                    0.498  \n4                         0.5            64.83                    0.498  \n\n[5 rows x 55 columns]",
      "text/html": "<div>\n<style scoped>\n    .dataframe tbody tr th:only-of-type {\n        vertical-align: middle;\n    }\n\n    .dataframe tbody tr th {\n        vertical-align: top;\n    }\n\n    .dataframe thead th {\n        text-align: right;\n    }\n</style>\n<table border=\"1\" class=\"dataframe\">\n  <thead>\n    <tr style=\"text-align: right;\">\n      <th></th>\n      <th>iso_code</th>\n      <th>continent</th>\n      <th>location</th>\n      <th>date</th>\n      <th>total_cases</th>\n      <th>new_cases</th>\n      <th>new_cases_smoothed</th>\n      <th>total_deaths</th>\n      <th>new_deaths</th>\n      <th>new_deaths_smoothed</th>\n      <th>...</th>\n      <th>gdp_per_capita</th>\n      <th>extreme_poverty</th>\n      <th>cardiovasc_death_rate</th>\n      <th>diabetes_prevalence</th>\n      <th>female_smokers</th>\n      <th>male_smokers</th>\n      <th>handwashing_facilities</th>\n      <th>hospital_beds_per_thousand</th>\n      <th>life_expectancy</th>\n      <th>human_development_index</th>\n    </tr>\n  </thead>\n  <tbody>\n    <tr>\n      <th>0</th>\n      <td>AFG</td>\n      <td>Asia</td>\n      <td>Afghanistan</td>\n      <td>2020-02-24</td>\n      <td>1.0</td>\n      <td>1.0</td>\n      <td>NaN</td>\n      <td>NaN</td>\n      <td>NaN</td>\n      <td>NaN</td>\n      <td>...</td>\n      <td>1803.987</td>\n      <td>NaN</td>\n      <td>597.029</td>\n      <td>9.59</td>\n      <td>NaN</td>\n      <td>NaN</td>\n      <td>37.746</td>\n      <td>0.5</td>\n      <td>64.83</td>\n      <td>0.498</td>\n    </tr>\n    <tr>\n      <th>1</th>\n      <td>AFG</td>\n      <td>Asia</td>\n      <td>Afghanistan</td>\n      <td>2020-02-25</td>\n      <td>1.0</td>\n      <td>0.0</td>\n      <td>NaN</td>\n      <td>NaN</td>\n      <td>NaN</td>\n      <td>NaN</td>\n      <td>...</td>\n      <td>1803.987</td>\n      <td>NaN</td>\n      <td>597.029</td>\n      <td>9.59</td>\n      <td>NaN</td>\n      <td>NaN</td>\n      <td>37.746</td>\n      <td>0.5</td>\n      <td>64.83</td>\n      <td>0.498</td>\n    </tr>\n    <tr>\n      <th>2</th>\n      <td>AFG</td>\n      <td>Asia</td>\n      <td>Afghanistan</td>\n      <td>2020-02-26</td>\n      <td>1.0</td>\n      <td>0.0</td>\n      <td>NaN</td>\n      <td>NaN</td>\n      <td>NaN</td>\n      <td>NaN</td>\n      <td>...</td>\n      <td>1803.987</td>\n      <td>NaN</td>\n      <td>597.029</td>\n      <td>9.59</td>\n      <td>NaN</td>\n      <td>NaN</td>\n      <td>37.746</td>\n      <td>0.5</td>\n      <td>64.83</td>\n      <td>0.498</td>\n    </tr>\n    <tr>\n      <th>3</th>\n      <td>AFG</td>\n      <td>Asia</td>\n      <td>Afghanistan</td>\n      <td>2020-02-27</td>\n      <td>1.0</td>\n      <td>0.0</td>\n      <td>NaN</td>\n      <td>NaN</td>\n      <td>NaN</td>\n      <td>NaN</td>\n      <td>...</td>\n      <td>1803.987</td>\n      <td>NaN</td>\n      <td>597.029</td>\n      <td>9.59</td>\n      <td>NaN</td>\n      <td>NaN</td>\n      <td>37.746</td>\n      <td>0.5</td>\n      <td>64.83</td>\n      <td>0.498</td>\n    </tr>\n    <tr>\n      <th>4</th>\n      <td>AFG</td>\n      <td>Asia</td>\n      <td>Afghanistan</td>\n      <td>2020-02-28</td>\n      <td>1.0</td>\n      <td>0.0</td>\n      <td>NaN</td>\n      <td>NaN</td>\n      <td>NaN</td>\n      <td>NaN</td>\n      <td>...</td>\n      <td>1803.987</td>\n      <td>NaN</td>\n      <td>597.029</td>\n      <td>9.59</td>\n      <td>NaN</td>\n      <td>NaN</td>\n      <td>37.746</td>\n      <td>0.5</td>\n      <td>64.83</td>\n      <td>0.498</td>\n    </tr>\n  </tbody>\n</table>\n<p>5 rows × 55 columns</p>\n</div>"
     },
     "execution_count": 108,
     "metadata": {},
     "output_type": "execute_result"
    }
   ],
   "source": [
    "df_aggr_covid19_data.head()"
   ]
  },
  {
   "cell_type": "raw",
   "id": "major-equilibrium",
   "metadata": {},
   "source": [
    "C. Unemployment Dataset"
   ]
  },
  {
   "cell_type": "code",
   "execution_count": 109,
   "id": "sexual-russian",
   "metadata": {},
   "outputs": [
    {
     "data": {
      "text/plain": "   Month  Country  Unemployment_Rate_Percent\n0      1  Germany                        3.4\n1      2  Germany                        3.6\n2      3  Germany                        3.8\n3      4  Germany                        4.0\n4      5  Germany                        4.2",
      "text/html": "<div>\n<style scoped>\n    .dataframe tbody tr th:only-of-type {\n        vertical-align: middle;\n    }\n\n    .dataframe tbody tr th {\n        vertical-align: top;\n    }\n\n    .dataframe thead th {\n        text-align: right;\n    }\n</style>\n<table border=\"1\" class=\"dataframe\">\n  <thead>\n    <tr style=\"text-align: right;\">\n      <th></th>\n      <th>Month</th>\n      <th>Country</th>\n      <th>Unemployment_Rate_Percent</th>\n    </tr>\n  </thead>\n  <tbody>\n    <tr>\n      <th>0</th>\n      <td>1</td>\n      <td>Germany</td>\n      <td>3.4</td>\n    </tr>\n    <tr>\n      <th>1</th>\n      <td>2</td>\n      <td>Germany</td>\n      <td>3.6</td>\n    </tr>\n    <tr>\n      <th>2</th>\n      <td>3</td>\n      <td>Germany</td>\n      <td>3.8</td>\n    </tr>\n    <tr>\n      <th>3</th>\n      <td>4</td>\n      <td>Germany</td>\n      <td>4.0</td>\n    </tr>\n    <tr>\n      <th>4</th>\n      <td>5</td>\n      <td>Germany</td>\n      <td>4.2</td>\n    </tr>\n  </tbody>\n</table>\n</div>"
     },
     "execution_count": 109,
     "metadata": {},
     "output_type": "execute_result"
    }
   ],
   "source": [
    "df_unemployment.head()"
   ]
  },
  {
   "cell_type": "raw",
   "id": "exempt-optimization",
   "metadata": {},
   "source": [
    "D. Consumer Price Index, Import Price Index, Export Price Index of Germany Dataset"
   ]
  },
  {
   "cell_type": "code",
   "execution_count": 110,
   "id": "liquid-lender",
   "metadata": {},
   "outputs": [
    {
     "data": {
      "text/plain": "   Year    Months import_prices_index Change on previous month in(%)  \\\n0  2019   January               102.2                           -0.2   \n1  2019  February               102.5                            0.3   \n2  2019     March               102.5                              -   \n3  2019     April               102.8                            0.3   \n4  2019       May               102.7                           -0.1   \n\n  Change on previous year's month in(%) export_prices_index  \\\n0                                   0.8               102.2   \n1                                   1.6               102.3   \n2                                   1.7               102.4   \n3                                   1.4               102.6   \n4                                  -0.2               102.5   \n\n  Change on previous month in(%).1 Change on previous year's month in(%).1  \\\n0                              0.1                                     1.1   \n1                              0.1                                     1.3   \n2                              0.1                                     1.3   \n3                              0.2                                     1.3   \n4                             -0.1                                     0.7   \n\n   Consumer price index Change on previous year's month in(%).2  \\\n0                 103.4                                     1.4   \n1                 103.8                                     1.5   \n2                 104.2                                     1.3   \n3                 105.2                                       2   \n4                 105.4                                     1.4   \n\n  Change on previous month in(%).2  \n0                             -0.8  \n1                              0.4  \n2                              0.4  \n3                                1  \n4                              0.2  ",
      "text/html": "<div>\n<style scoped>\n    .dataframe tbody tr th:only-of-type {\n        vertical-align: middle;\n    }\n\n    .dataframe tbody tr th {\n        vertical-align: top;\n    }\n\n    .dataframe thead th {\n        text-align: right;\n    }\n</style>\n<table border=\"1\" class=\"dataframe\">\n  <thead>\n    <tr style=\"text-align: right;\">\n      <th></th>\n      <th>Year</th>\n      <th>Months</th>\n      <th>import_prices_index</th>\n      <th>Change on previous month in(%)</th>\n      <th>Change on previous year's month in(%)</th>\n      <th>export_prices_index</th>\n      <th>Change on previous month in(%).1</th>\n      <th>Change on previous year's month in(%).1</th>\n      <th>Consumer price index</th>\n      <th>Change on previous year's month in(%).2</th>\n      <th>Change on previous month in(%).2</th>\n    </tr>\n  </thead>\n  <tbody>\n    <tr>\n      <th>0</th>\n      <td>2019</td>\n      <td>January</td>\n      <td>102.2</td>\n      <td>-0.2</td>\n      <td>0.8</td>\n      <td>102.2</td>\n      <td>0.1</td>\n      <td>1.1</td>\n      <td>103.4</td>\n      <td>1.4</td>\n      <td>-0.8</td>\n    </tr>\n    <tr>\n      <th>1</th>\n      <td>2019</td>\n      <td>February</td>\n      <td>102.5</td>\n      <td>0.3</td>\n      <td>1.6</td>\n      <td>102.3</td>\n      <td>0.1</td>\n      <td>1.3</td>\n      <td>103.8</td>\n      <td>1.5</td>\n      <td>0.4</td>\n    </tr>\n    <tr>\n      <th>2</th>\n      <td>2019</td>\n      <td>March</td>\n      <td>102.5</td>\n      <td>-</td>\n      <td>1.7</td>\n      <td>102.4</td>\n      <td>0.1</td>\n      <td>1.3</td>\n      <td>104.2</td>\n      <td>1.3</td>\n      <td>0.4</td>\n    </tr>\n    <tr>\n      <th>3</th>\n      <td>2019</td>\n      <td>April</td>\n      <td>102.8</td>\n      <td>0.3</td>\n      <td>1.4</td>\n      <td>102.6</td>\n      <td>0.2</td>\n      <td>1.3</td>\n      <td>105.2</td>\n      <td>2</td>\n      <td>1</td>\n    </tr>\n    <tr>\n      <th>4</th>\n      <td>2019</td>\n      <td>May</td>\n      <td>102.7</td>\n      <td>-0.1</td>\n      <td>-0.2</td>\n      <td>102.5</td>\n      <td>-0.1</td>\n      <td>0.7</td>\n      <td>105.4</td>\n      <td>1.4</td>\n      <td>0.2</td>\n    </tr>\n  </tbody>\n</table>\n</div>"
     },
     "execution_count": 110,
     "metadata": {},
     "output_type": "execute_result"
    }
   ],
   "source": [
    "df_CPI_Import_Export_Aggr.head()"
   ]
  },
  {
   "cell_type": "raw",
   "id": "lined-plane",
   "metadata": {},
   "source": [
    "II)Dropping all rows except the rows that include Country: Germany, India, Italy, USA, UK and China \n",
    "\n",
    "Dataset: Aggregated COVID-19 \n",
    "Function: Drop()\n",
    "\n",
    "(Selected based on : High COVID Cases ; Large Economies ; Developed Vs Developing Countries; Continental differentiation)"
   ]
  },
  {
   "cell_type": "code",
   "execution_count": 111,
   "id": "framed-coating",
   "metadata": {},
   "outputs": [
    {
     "name": "stderr",
     "output_type": "stream",
     "text": [
      "<ipython-input-111-b5dcb102050c>:1: FutureWarning:\n",
      "\n",
      "Index.__and__ operating as a set operation is deprecated, in the future this will be a logical operation matching Series.__and__.  Use index.intersection(other) instead\n",
      "\n"
     ]
    },
    {
     "data": {
      "text/plain": "      iso_code continent location        date  total_cases  new_cases  \\\n11542      CHN      Asia    China  2020-01-22        548.0        NaN   \n11543      CHN      Asia    China  2020-01-23        643.0       95.0   \n11544      CHN      Asia    China  2020-01-24        920.0      277.0   \n11545      CHN      Asia    China  2020-01-25       1406.0      486.0   \n11546      CHN      Asia    China  2020-01-26       2075.0      669.0   \n\n       new_cases_smoothed  total_deaths  new_deaths  new_deaths_smoothed  ...  \\\n11542                 NaN          17.0         NaN                  NaN  ...   \n11543                 NaN          18.0         1.0                  NaN  ...   \n11544                 NaN          26.0         8.0                  NaN  ...   \n11545                 NaN          42.0        16.0                  NaN  ...   \n11546                 NaN          56.0        14.0                  NaN  ...   \n\n       gdp_per_capita  extreme_poverty  cardiovasc_death_rate  \\\n11542       15308.712              0.7                261.899   \n11543       15308.712              0.7                261.899   \n11544       15308.712              0.7                261.899   \n11545       15308.712              0.7                261.899   \n11546       15308.712              0.7                261.899   \n\n       diabetes_prevalence  female_smokers  male_smokers  \\\n11542                 9.74             1.9          48.4   \n11543                 9.74             1.9          48.4   \n11544                 9.74             1.9          48.4   \n11545                 9.74             1.9          48.4   \n11546                 9.74             1.9          48.4   \n\n       handwashing_facilities  hospital_beds_per_thousand  life_expectancy  \\\n11542                     NaN                        4.34            76.91   \n11543                     NaN                        4.34            76.91   \n11544                     NaN                        4.34            76.91   \n11545                     NaN                        4.34            76.91   \n11546                     NaN                        4.34            76.91   \n\n       human_development_index  \n11542                    0.752  \n11543                    0.752  \n11544                    0.752  \n11545                    0.752  \n11546                    0.752  \n\n[5 rows x 55 columns]",
      "text/html": "<div>\n<style scoped>\n    .dataframe tbody tr th:only-of-type {\n        vertical-align: middle;\n    }\n\n    .dataframe tbody tr th {\n        vertical-align: top;\n    }\n\n    .dataframe thead th {\n        text-align: right;\n    }\n</style>\n<table border=\"1\" class=\"dataframe\">\n  <thead>\n    <tr style=\"text-align: right;\">\n      <th></th>\n      <th>iso_code</th>\n      <th>continent</th>\n      <th>location</th>\n      <th>date</th>\n      <th>total_cases</th>\n      <th>new_cases</th>\n      <th>new_cases_smoothed</th>\n      <th>total_deaths</th>\n      <th>new_deaths</th>\n      <th>new_deaths_smoothed</th>\n      <th>...</th>\n      <th>gdp_per_capita</th>\n      <th>extreme_poverty</th>\n      <th>cardiovasc_death_rate</th>\n      <th>diabetes_prevalence</th>\n      <th>female_smokers</th>\n      <th>male_smokers</th>\n      <th>handwashing_facilities</th>\n      <th>hospital_beds_per_thousand</th>\n      <th>life_expectancy</th>\n      <th>human_development_index</th>\n    </tr>\n  </thead>\n  <tbody>\n    <tr>\n      <th>11542</th>\n      <td>CHN</td>\n      <td>Asia</td>\n      <td>China</td>\n      <td>2020-01-22</td>\n      <td>548.0</td>\n      <td>NaN</td>\n      <td>NaN</td>\n      <td>17.0</td>\n      <td>NaN</td>\n      <td>NaN</td>\n      <td>...</td>\n      <td>15308.712</td>\n      <td>0.7</td>\n      <td>261.899</td>\n      <td>9.74</td>\n      <td>1.9</td>\n      <td>48.4</td>\n      <td>NaN</td>\n      <td>4.34</td>\n      <td>76.91</td>\n      <td>0.752</td>\n    </tr>\n    <tr>\n      <th>11543</th>\n      <td>CHN</td>\n      <td>Asia</td>\n      <td>China</td>\n      <td>2020-01-23</td>\n      <td>643.0</td>\n      <td>95.0</td>\n      <td>NaN</td>\n      <td>18.0</td>\n      <td>1.0</td>\n      <td>NaN</td>\n      <td>...</td>\n      <td>15308.712</td>\n      <td>0.7</td>\n      <td>261.899</td>\n      <td>9.74</td>\n      <td>1.9</td>\n      <td>48.4</td>\n      <td>NaN</td>\n      <td>4.34</td>\n      <td>76.91</td>\n      <td>0.752</td>\n    </tr>\n    <tr>\n      <th>11544</th>\n      <td>CHN</td>\n      <td>Asia</td>\n      <td>China</td>\n      <td>2020-01-24</td>\n      <td>920.0</td>\n      <td>277.0</td>\n      <td>NaN</td>\n      <td>26.0</td>\n      <td>8.0</td>\n      <td>NaN</td>\n      <td>...</td>\n      <td>15308.712</td>\n      <td>0.7</td>\n      <td>261.899</td>\n      <td>9.74</td>\n      <td>1.9</td>\n      <td>48.4</td>\n      <td>NaN</td>\n      <td>4.34</td>\n      <td>76.91</td>\n      <td>0.752</td>\n    </tr>\n    <tr>\n      <th>11545</th>\n      <td>CHN</td>\n      <td>Asia</td>\n      <td>China</td>\n      <td>2020-01-25</td>\n      <td>1406.0</td>\n      <td>486.0</td>\n      <td>NaN</td>\n      <td>42.0</td>\n      <td>16.0</td>\n      <td>NaN</td>\n      <td>...</td>\n      <td>15308.712</td>\n      <td>0.7</td>\n      <td>261.899</td>\n      <td>9.74</td>\n      <td>1.9</td>\n      <td>48.4</td>\n      <td>NaN</td>\n      <td>4.34</td>\n      <td>76.91</td>\n      <td>0.752</td>\n    </tr>\n    <tr>\n      <th>11546</th>\n      <td>CHN</td>\n      <td>Asia</td>\n      <td>China</td>\n      <td>2020-01-26</td>\n      <td>2075.0</td>\n      <td>669.0</td>\n      <td>NaN</td>\n      <td>56.0</td>\n      <td>14.0</td>\n      <td>NaN</td>\n      <td>...</td>\n      <td>15308.712</td>\n      <td>0.7</td>\n      <td>261.899</td>\n      <td>9.74</td>\n      <td>1.9</td>\n      <td>48.4</td>\n      <td>NaN</td>\n      <td>4.34</td>\n      <td>76.91</td>\n      <td>0.752</td>\n    </tr>\n  </tbody>\n</table>\n<p>5 rows × 55 columns</p>\n</div>"
     },
     "execution_count": 111,
     "metadata": {},
     "output_type": "execute_result"
    }
   ],
   "source": [
    "df_aggr_covid19_data=df_aggr_covid19_data.drop(df_aggr_covid19_data.index[df_aggr_covid19_data[\"location\"] != 'Germany']\n",
    "                          & df_aggr_covid19_data.index[df_aggr_covid19_data[\"location\"] != 'India']  \n",
    "                          & df_aggr_covid19_data.index[df_aggr_covid19_data[\"location\"] != 'China'] \n",
    "                          & df_aggr_covid19_data.index[df_aggr_covid19_data[\"location\"] != 'Italy']\n",
    "                          & df_aggr_covid19_data.index[df_aggr_covid19_data[\"location\"] != 'United States'] \n",
    "                          & df_aggr_covid19_data.index[df_aggr_covid19_data[\"location\"] != 'United Kingdom']) \n",
    "df_aggr_covid19_data.head()"
   ]
  },
  {
   "cell_type": "raw",
   "id": "endangered-flour",
   "metadata": {},
   "source": [
    "3) Selecting rows that are within the range 1st January 2020 - 31st December 2020\n",
    "\n",
    "Dataset: Aggregated COVID-19 \n",
    "Function: Parsing the date into day,month and year coulmn\n",
    "\n",
    "(Selected based on: COVID-19 Rise from 2020 Start worldwide)"
   ]
  },
  {
   "cell_type": "code",
   "execution_count": 112,
   "id": "cordless-religion",
   "metadata": {},
   "outputs": [
    {
     "data": {
      "text/plain": "      iso_code continent location       date  total_cases  new_cases  \\\n11542      CHN      Asia    China 2020-01-22        548.0        NaN   \n11543      CHN      Asia    China 2020-01-23        643.0       95.0   \n11544      CHN      Asia    China 2020-01-24        920.0      277.0   \n11545      CHN      Asia    China 2020-01-25       1406.0      486.0   \n11546      CHN      Asia    China 2020-01-26       2075.0      669.0   \n\n       new_cases_smoothed  total_deaths  new_deaths  new_deaths_smoothed  ...  \\\n11542                 NaN          17.0         NaN                  NaN  ...   \n11543                 NaN          18.0         1.0                  NaN  ...   \n11544                 NaN          26.0         8.0                  NaN  ...   \n11545                 NaN          42.0        16.0                  NaN  ...   \n11546                 NaN          56.0        14.0                  NaN  ...   \n\n       gdp_per_capita  extreme_poverty  cardiovasc_death_rate  \\\n11542       15308.712              0.7                261.899   \n11543       15308.712              0.7                261.899   \n11544       15308.712              0.7                261.899   \n11545       15308.712              0.7                261.899   \n11546       15308.712              0.7                261.899   \n\n       diabetes_prevalence  female_smokers  male_smokers  \\\n11542                 9.74             1.9          48.4   \n11543                 9.74             1.9          48.4   \n11544                 9.74             1.9          48.4   \n11545                 9.74             1.9          48.4   \n11546                 9.74             1.9          48.4   \n\n       handwashing_facilities  hospital_beds_per_thousand  life_expectancy  \\\n11542                     NaN                        4.34            76.91   \n11543                     NaN                        4.34            76.91   \n11544                     NaN                        4.34            76.91   \n11545                     NaN                        4.34            76.91   \n11546                     NaN                        4.34            76.91   \n\n       human_development_index  \n11542                    0.752  \n11543                    0.752  \n11544                    0.752  \n11545                    0.752  \n11546                    0.752  \n\n[5 rows x 55 columns]",
      "text/html": "<div>\n<style scoped>\n    .dataframe tbody tr th:only-of-type {\n        vertical-align: middle;\n    }\n\n    .dataframe tbody tr th {\n        vertical-align: top;\n    }\n\n    .dataframe thead th {\n        text-align: right;\n    }\n</style>\n<table border=\"1\" class=\"dataframe\">\n  <thead>\n    <tr style=\"text-align: right;\">\n      <th></th>\n      <th>iso_code</th>\n      <th>continent</th>\n      <th>location</th>\n      <th>date</th>\n      <th>total_cases</th>\n      <th>new_cases</th>\n      <th>new_cases_smoothed</th>\n      <th>total_deaths</th>\n      <th>new_deaths</th>\n      <th>new_deaths_smoothed</th>\n      <th>...</th>\n      <th>gdp_per_capita</th>\n      <th>extreme_poverty</th>\n      <th>cardiovasc_death_rate</th>\n      <th>diabetes_prevalence</th>\n      <th>female_smokers</th>\n      <th>male_smokers</th>\n      <th>handwashing_facilities</th>\n      <th>hospital_beds_per_thousand</th>\n      <th>life_expectancy</th>\n      <th>human_development_index</th>\n    </tr>\n  </thead>\n  <tbody>\n    <tr>\n      <th>11542</th>\n      <td>CHN</td>\n      <td>Asia</td>\n      <td>China</td>\n      <td>2020-01-22</td>\n      <td>548.0</td>\n      <td>NaN</td>\n      <td>NaN</td>\n      <td>17.0</td>\n      <td>NaN</td>\n      <td>NaN</td>\n      <td>...</td>\n      <td>15308.712</td>\n      <td>0.7</td>\n      <td>261.899</td>\n      <td>9.74</td>\n      <td>1.9</td>\n      <td>48.4</td>\n      <td>NaN</td>\n      <td>4.34</td>\n      <td>76.91</td>\n      <td>0.752</td>\n    </tr>\n    <tr>\n      <th>11543</th>\n      <td>CHN</td>\n      <td>Asia</td>\n      <td>China</td>\n      <td>2020-01-23</td>\n      <td>643.0</td>\n      <td>95.0</td>\n      <td>NaN</td>\n      <td>18.0</td>\n      <td>1.0</td>\n      <td>NaN</td>\n      <td>...</td>\n      <td>15308.712</td>\n      <td>0.7</td>\n      <td>261.899</td>\n      <td>9.74</td>\n      <td>1.9</td>\n      <td>48.4</td>\n      <td>NaN</td>\n      <td>4.34</td>\n      <td>76.91</td>\n      <td>0.752</td>\n    </tr>\n    <tr>\n      <th>11544</th>\n      <td>CHN</td>\n      <td>Asia</td>\n      <td>China</td>\n      <td>2020-01-24</td>\n      <td>920.0</td>\n      <td>277.0</td>\n      <td>NaN</td>\n      <td>26.0</td>\n      <td>8.0</td>\n      <td>NaN</td>\n      <td>...</td>\n      <td>15308.712</td>\n      <td>0.7</td>\n      <td>261.899</td>\n      <td>9.74</td>\n      <td>1.9</td>\n      <td>48.4</td>\n      <td>NaN</td>\n      <td>4.34</td>\n      <td>76.91</td>\n      <td>0.752</td>\n    </tr>\n    <tr>\n      <th>11545</th>\n      <td>CHN</td>\n      <td>Asia</td>\n      <td>China</td>\n      <td>2020-01-25</td>\n      <td>1406.0</td>\n      <td>486.0</td>\n      <td>NaN</td>\n      <td>42.0</td>\n      <td>16.0</td>\n      <td>NaN</td>\n      <td>...</td>\n      <td>15308.712</td>\n      <td>0.7</td>\n      <td>261.899</td>\n      <td>9.74</td>\n      <td>1.9</td>\n      <td>48.4</td>\n      <td>NaN</td>\n      <td>4.34</td>\n      <td>76.91</td>\n      <td>0.752</td>\n    </tr>\n    <tr>\n      <th>11546</th>\n      <td>CHN</td>\n      <td>Asia</td>\n      <td>China</td>\n      <td>2020-01-26</td>\n      <td>2075.0</td>\n      <td>669.0</td>\n      <td>NaN</td>\n      <td>56.0</td>\n      <td>14.0</td>\n      <td>NaN</td>\n      <td>...</td>\n      <td>15308.712</td>\n      <td>0.7</td>\n      <td>261.899</td>\n      <td>9.74</td>\n      <td>1.9</td>\n      <td>48.4</td>\n      <td>NaN</td>\n      <td>4.34</td>\n      <td>76.91</td>\n      <td>0.752</td>\n    </tr>\n  </tbody>\n</table>\n<p>5 rows × 55 columns</p>\n</div>"
     },
     "execution_count": 112,
     "metadata": {},
     "output_type": "execute_result"
    }
   ],
   "source": [
    "#Using a boolean mask:\n",
    "\n",
    "df_aggr_covid19_data['date'] = pd.to_datetime(df_aggr_covid19_data['date']) \n",
    "mask = (df_aggr_covid19_data['date'] > '2020-1-1') & (df_aggr_covid19_data['date'] <= '2020-12-31')\n",
    "df_aggr_covid19_data.loc[mask]\n",
    "df_aggr_covid19_data.head()\n",
    "\n",
    "\n",
    "\n",
    "\n",
    "\n",
    "\n",
    "#Ensure df['Date'] is a Series with dtype datetime64[ns]:\n",
    "#df_aggr_covid19_data['date'] = pd.to_datetime(df_aggr_covid19_data['date']) \n",
    "\n",
    "#Set the date column as a DatetimeIndex, then use df[start_date : end_date]\n",
    "#mask = (df_aggr_covid19_data['date'] > '2020-1-1') & (df_aggr_covid19_data['date'] <= '2020-12-31')\n",
    "#df_aggr_covid19_data=df_aggr_covid19_data.loc[mask]\n",
    "#Select the sub-DataFrame:df.loc[mask]\n",
    "#print(df_aggr_covid19_data.loc[mask])\n",
    "#df_aggr_covid19_data.head()"
   ]
  },
  {
   "cell_type": "raw",
   "id": "phantom-thursday",
   "metadata": {},
   "source": [
    "4) \n",
    "\n",
    "i)Extracting the month and year from date as seperate columns\n",
    "\n",
    "ii)Using group by function to group values by only those values that are within the date range and countries specefied.\n",
    "Using the sum() function to calculate the summation of total cases per month within a country. (Monthly new cases)\n",
    "\n",
    "Dataset: Aggregated COVID-19 \n",
    "Function: groupBy() , sum()"
   ]
  },
  {
   "cell_type": "code",
   "execution_count": 113,
   "id": "assumed-hamburg",
   "metadata": {},
   "outputs": [
    {
     "data": {
      "text/plain": "   year location  month  Monthly_new_cases\n0  2020    China      1             9254.0\n1  2020    China      2            69554.0\n2  2020    China      3             2923.0\n3  2020    China      4             1677.0\n4  2020    China      5              190.0",
      "text/html": "<div>\n<style scoped>\n    .dataframe tbody tr th:only-of-type {\n        vertical-align: middle;\n    }\n\n    .dataframe tbody tr th {\n        vertical-align: top;\n    }\n\n    .dataframe thead th {\n        text-align: right;\n    }\n</style>\n<table border=\"1\" class=\"dataframe\">\n  <thead>\n    <tr style=\"text-align: right;\">\n      <th></th>\n      <th>year</th>\n      <th>location</th>\n      <th>month</th>\n      <th>Monthly_new_cases</th>\n    </tr>\n  </thead>\n  <tbody>\n    <tr>\n      <th>0</th>\n      <td>2020</td>\n      <td>China</td>\n      <td>1</td>\n      <td>9254.0</td>\n    </tr>\n    <tr>\n      <th>1</th>\n      <td>2020</td>\n      <td>China</td>\n      <td>2</td>\n      <td>69554.0</td>\n    </tr>\n    <tr>\n      <th>2</th>\n      <td>2020</td>\n      <td>China</td>\n      <td>3</td>\n      <td>2923.0</td>\n    </tr>\n    <tr>\n      <th>3</th>\n      <td>2020</td>\n      <td>China</td>\n      <td>4</td>\n      <td>1677.0</td>\n    </tr>\n    <tr>\n      <th>4</th>\n      <td>2020</td>\n      <td>China</td>\n      <td>5</td>\n      <td>190.0</td>\n    </tr>\n  </tbody>\n</table>\n</div>"
     },
     "execution_count": 113,
     "metadata": {},
     "output_type": "execute_result"
    }
   ],
   "source": [
    "\n",
    "\n",
    "df_aggr_covid19_data['month'] = df_aggr_covid19_data['date'].dt.month\n",
    "\n",
    "df_aggr_covid19_data['year'] = df_aggr_covid19_data['date'].dt.year\n",
    "\n",
    "#df_aggr_covid19_data=df_aggr_covid19_data.groupby(['year','location','month'])['new_cases'].sum().to_frame(name = 'Monthly_new_cases').reset_index()\n",
    "\n",
    "\n",
    "df_aggr_covid19_data=df_aggr_covid19_data.groupby(['year','location','month'])['new_cases'].sum().to_frame(name = 'Monthly_new_cases').reset_index()\n",
    "df_aggr_covid19_data.head()"
   ]
  },
  {
   "cell_type": "raw",
   "id": "turkish-venice",
   "metadata": {},
   "source": [
    "5)Introducing 'Monthly_new_cases' and 'PG_Rate/Percentage Growth Rate' coulmns to the DataFrame\n",
    " \n",
    "    - Monthly_new_cases: Represents the total number of new covid cases that rose within a month for a particuar country.\n",
    "    - PG_Rate/Percentage Growth Rate: Stores the Monthly Growth Rate in COVID Cases within that rose within a month for a particuar country.\n",
    "    \n",
    "    Following formula has been used for calculating the percentage:-\n",
    "    \n",
    "    - df['Percentage Growth Rate']=   df['Monthly_new_cases'] / df['Monthly_new_cases'].shift(1) * 100 -100\n",
    "    - df['PG_Rate']= (df['Monthly_new_cases'] - df['Monthly_new_cases'].shift(1)) * 100/ df['Monthly_new_cases'].shift(1)\n",
    "                 \n",
    "      *** For e.g Percentage Growth Rate : Total cases in feb - Total cases in jan) * 100 / Total cases in Jan\n",
    "                 \n",
    "    _Monthly_new_cases = Storing the total number of cases in the next month (For e.g February in China)_\n",
    "    _['Monthly_new_cases'].shift(1) = Storing the total number of cases in the previous month (For e.g January in China)_\n",
    "    \n",
    "    Dataset: Aggregated COVID-19 \n",
    "    Function: Computing the Percentage Growth of COVID-19 cases"
   ]
  },
  {
   "cell_type": "code",
   "execution_count": 114,
   "id": "declared-costs",
   "metadata": {},
   "outputs": [
    {
     "data": {
      "text/plain": "   year location  month  Monthly_new_cases  Percentage Growth Rate     PG_Rate\n0  2020    China      1             9254.0                     NaN         NaN\n1  2020    China      2            69554.0              651.610115  651.610115\n2  2020    China      3             2923.0              -95.797510  -95.797510\n3  2020    China      4             1677.0              -42.627438  -42.627438\n4  2020    China      5              190.0              -88.670244  -88.670244",
      "text/html": "<div>\n<style scoped>\n    .dataframe tbody tr th:only-of-type {\n        vertical-align: middle;\n    }\n\n    .dataframe tbody tr th {\n        vertical-align: top;\n    }\n\n    .dataframe thead th {\n        text-align: right;\n    }\n</style>\n<table border=\"1\" class=\"dataframe\">\n  <thead>\n    <tr style=\"text-align: right;\">\n      <th></th>\n      <th>year</th>\n      <th>location</th>\n      <th>month</th>\n      <th>Monthly_new_cases</th>\n      <th>Percentage Growth Rate</th>\n      <th>PG_Rate</th>\n    </tr>\n  </thead>\n  <tbody>\n    <tr>\n      <th>0</th>\n      <td>2020</td>\n      <td>China</td>\n      <td>1</td>\n      <td>9254.0</td>\n      <td>NaN</td>\n      <td>NaN</td>\n    </tr>\n    <tr>\n      <th>1</th>\n      <td>2020</td>\n      <td>China</td>\n      <td>2</td>\n      <td>69554.0</td>\n      <td>651.610115</td>\n      <td>651.610115</td>\n    </tr>\n    <tr>\n      <th>2</th>\n      <td>2020</td>\n      <td>China</td>\n      <td>3</td>\n      <td>2923.0</td>\n      <td>-95.797510</td>\n      <td>-95.797510</td>\n    </tr>\n    <tr>\n      <th>3</th>\n      <td>2020</td>\n      <td>China</td>\n      <td>4</td>\n      <td>1677.0</td>\n      <td>-42.627438</td>\n      <td>-42.627438</td>\n    </tr>\n    <tr>\n      <th>4</th>\n      <td>2020</td>\n      <td>China</td>\n      <td>5</td>\n      <td>190.0</td>\n      <td>-88.670244</td>\n      <td>-88.670244</td>\n    </tr>\n  </tbody>\n</table>\n</div>"
     },
     "execution_count": 114,
     "metadata": {},
     "output_type": "execute_result"
    }
   ],
   "source": [
    "#df_aggr_covid19_data=df_aggr_covid19_data.groupby(['year','location','month'])['new_cases'].sum().to_frame(name = 'Monthly_new_cases').reset_index()\n",
    "df_aggr_covid19_data['Percentage Growth Rate']= df_aggr_covid19_data['Monthly_new_cases'] / df_aggr_covid19_data['Monthly_new_cases'].shift(1) * 100 -100\n",
    "df_aggr_covid19_data['PG_Rate']= (df_aggr_covid19_data['Monthly_new_cases'] - df_aggr_covid19_data['Monthly_new_cases'].shift(1)) * 100/ df_aggr_covid19_data['Monthly_new_cases'].shift(1)\n",
    "df_aggr_covid19_data.head()\n"
   ]
  },
  {
   "cell_type": "markdown",
   "id": "connected-services",
   "metadata": {},
   "source": [
    "# Data Visulization\n"
   ]
  },
  {
   "cell_type": "raw",
   "id": "favorite-surgery",
   "metadata": {},
   "source": [
    "1) Unemployment Rate (Monthly Basis): Combied bar graph reprsenting the Unemployment Rate on Monthly Basis in the filtered countries. "
   ]
  },
  {
   "cell_type": "code",
   "execution_count": 115,
   "id": "olympic-offense",
   "metadata": {},
   "outputs": [
    {
     "name": "stdout",
     "output_type": "stream",
     "text": [
      "[10.0, 6.0]\n",
      "[15.0, 10.0]\n"
     ]
    },
    {
     "data": {
      "text/plain": "<Figure size 720x432 with 1 Axes>",
      "image/png": "[encoded data removed]"
     },
     "metadata": {},
     "output_type": "display_data"
    },
    {
     "data": {
      "text/plain": "<Figure size 1080x432 with 0 Axes>"
     },
     "metadata": {},
     "output_type": "display_data"
    }
   ],
   "source": [
    "import matplotlib.pyplot as plt\n",
    "import seaborn as sns\n",
    "\n",
    "df_unemployment.pivot(index='Month',columns='Country',values='Unemployment_Rate_Percent').plot(kind='bar')\n",
    "#df['PG_Rate'].plot(secondary_x=True)\n",
    "plt.xticks(rotation=45)\n",
    "plt.figure(figsize=(15,6))\n",
    "print(plt.rcParams.get('figure.figsize'))\n",
    "fig_size = plt.rcParams[\"figure.figsize\"]\n",
    "fig_size[0] = 15\n",
    "fig_size[1] = 10\n",
    "plt.rcParams[\"figure.figsize\"] = fig_size\n",
    "print(plt.rcParams.get('figure.figsize'))\n",
    "sns.set()\n",
    "plt.show()\n",
    "\n",
    "df_aggr_covid19_data=df_aggr_covid19_data.drop(df_aggr_covid19_data.index[df_aggr_covid19_data[\"year\"] == 2021])\n",
    "#print(df_aggr_covid19_data)\n",
    "\n"
   ]
  },
  {
   "cell_type": "raw",
   "id": "sorted-words",
   "metadata": {},
   "source": [
    "2) COVID-19 Growth Rate (Monthly Basis): Line graph reprsenting the  COVID-19 Growth Rate on Monthly Basis in the filterred countries"
   ]
  },
  {
   "cell_type": "code",
   "execution_count": 116,
   "id": "talented-attribute",
   "metadata": {},
   "outputs": [
    {
     "name": "stdout",
     "output_type": "stream",
     "text": [
      "[15.0, 10.0]\n",
      "[15.0, 10.0]\n"
     ]
    },
    {
     "data": {
      "text/plain": "<Figure size 1080x720 with 1 Axes>",
      "image/png": "[encoded data removed]"
     },
     "metadata": {},
     "output_type": "display_data"
    },
    {
     "data": {
      "text/plain": "<Figure size 1080x432 with 0 Axes>"
     },
     "metadata": {},
     "output_type": "display_data"
    }
   ],
   "source": [
    "df_aggr_covid19_data.pivot(index='month',columns='location',values='PG_Rate').plot(kind='line')\n",
    "#df.pivot(index='location',columns='month',values='PG_tageRate').plot(kind='line')\n",
    "plt.xticks(rotation=45)\n",
    "plt.figure(figsize=(15,6))\n",
    "print(plt.rcParams.get('figure.figsize'))\n",
    "fig_size = plt.rcParams[\"figure.figsize\"]\n",
    "fig_size[0] = 15\n",
    "fig_size[1] = 10\n",
    "plt.rcParams[\"figure.figsize\"] = fig_size\n",
    "print(plt.rcParams.get('figure.figsize'))\n",
    "\n",
    "#print(df_aggr_covid19_data)\n",
    "\n",
    "sns.set()\n",
    "plt.show()"
   ]
  },
  {
   "cell_type": "raw",
   "id": "statutory-cylinder",
   "metadata": {},
   "source": [
    "Conclusions: As the graph show, a sudden spike of COVID-19 Growth Rate was seen highest in USA in the month of 'March'"
   ]
  },
  {
   "cell_type": "raw",
   "id": "armed-malpractice",
   "metadata": {},
   "source": [
    "3) Unemployment Rate (Monthly Basis): Bar graph reprsenting the Unemployment Rate on Monthly Basis in China\n",
    "4) COVID-19 Growth Rate (Monthly Basis): Bar graph reprsenting the  COVID-19 Growth Rate on Monthly Basis in China"
   ]
  },
  {
   "cell_type": "code",
   "execution_count": 117,
   "id": "emotional-charger",
   "metadata": {},
   "outputs": [
    {
     "name": "stdout",
     "output_type": "stream",
     "text": [
      "    Month Country  Unemployment_Rate_Percent\n",
      "24      1   China                        5.3\n",
      "25      2   China                        6.2\n",
      "26      3   China                        5.9\n",
      "27      4   China                        6.0\n",
      "28      5   China                        5.9\n",
      "29      6   China                        5.7\n",
      "30      7   China                        5.7\n",
      "31      8   China                        5.6\n",
      "32      9   China                        5.4\n",
      "33     10   China                        5.3\n",
      "34     11   China                        5.2\n",
      "35     12   China                        5.2\n"
     ]
    },
    {
     "data": {
      "text/plain": "<Figure size 1080x720 with 1 Axes>",
      "image/png": "[encoded data removed]"
     },
     "metadata": {},
     "output_type": "display_data"
    },
    {
     "data": {
      "text/plain": "<Figure size 720x432 with 1 Axes>",
      "image/png": "[encoded data removed]"
     },
     "metadata": {},
     "output_type": "display_data"
    }
   ],
   "source": [
    "\n",
    "China=df_unemployment.loc[df_unemployment['Country'] == 'China']\n",
    "print(China)\n",
    "China_corona=df_aggr_covid19_data.loc[df_aggr_covid19_data['location'] == 'China']\n",
    "China.pivot(columns ='Country',index='Month',values='Unemployment_Rate_Percent').plot(kind='bar',xlabel = 'Months', ylabel ='Unemployemnt Rate %',sort_columns = False)\n",
    "plt.rcParams[\"figure.figsize\"] = (10,6)\n",
    "\n",
    "\n",
    "#China's COVID Growth Rate\n",
    "China=df_aggr_covid19_data.loc[df_aggr_covid19_data['location'] == 'China']\n",
    "China.pivot(columns ='location',index='month',values='PG_Rate').plot(kind='bar', xlabel = 'Months', ylabel ='COVID-19 Growth Rate %',sort_columns = False)\n",
    "plt.rcParams[\"figure.figsize\"] = (10,6)\n"
   ]
  },
  {
   "cell_type": "code",
   "execution_count": 118,
   "id": "random-lindsay",
   "metadata": {},
   "outputs": [
    {
     "data": {
      "text/plain": "   Year    Months import_prices_index Change on previous month in(%)  \\\n0  2019   January               102.2                           -0.2   \n1  2019  February               102.5                            0.3   \n2  2019     March               102.5                              -   \n3  2019     April               102.8                            0.3   \n4  2019       May               102.7                           -0.1   \n\n  Change on previous year's month in(%) export_prices_index  \\\n0                                   0.8               102.2   \n1                                   1.6               102.3   \n2                                   1.7               102.4   \n3                                   1.4               102.6   \n4                                  -0.2               102.5   \n\n  Change on previous month in(%).1 Change on previous year's month in(%).1  \\\n0                              0.1                                     1.1   \n1                              0.1                                     1.3   \n2                              0.1                                     1.3   \n3                              0.2                                     1.3   \n4                             -0.1                                     0.7   \n\n   Consumer price index Change on previous year's month in(%).2  \\\n0                 103.4                                     1.4   \n1                 103.8                                     1.5   \n2                 104.2                                     1.3   \n3                 105.2                                       2   \n4                 105.4                                     1.4   \n\n  Change on previous month in(%).2  \n0                             -0.8  \n1                              0.4  \n2                              0.4  \n3                                1  \n4                              0.2  ",
      "text/html": "<div>\n<style scoped>\n    .dataframe tbody tr th:only-of-type {\n        vertical-align: middle;\n    }\n\n    .dataframe tbody tr th {\n        vertical-align: top;\n    }\n\n    .dataframe thead th {\n        text-align: right;\n    }\n</style>\n<table border=\"1\" class=\"dataframe\">\n  <thead>\n    <tr style=\"text-align: right;\">\n      <th></th>\n      <th>Year</th>\n      <th>Months</th>\n      <th>import_prices_index</th>\n      <th>Change on previous month in(%)</th>\n      <th>Change on previous year's month in(%)</th>\n      <th>export_prices_index</th>\n      <th>Change on previous month in(%).1</th>\n      <th>Change on previous year's month in(%).1</th>\n      <th>Consumer price index</th>\n      <th>Change on previous year's month in(%).2</th>\n      <th>Change on previous month in(%).2</th>\n    </tr>\n  </thead>\n  <tbody>\n    <tr>\n      <th>0</th>\n      <td>2019</td>\n      <td>January</td>\n      <td>102.2</td>\n      <td>-0.2</td>\n      <td>0.8</td>\n      <td>102.2</td>\n      <td>0.1</td>\n      <td>1.1</td>\n      <td>103.4</td>\n      <td>1.4</td>\n      <td>-0.8</td>\n    </tr>\n    <tr>\n      <th>1</th>\n      <td>2019</td>\n      <td>February</td>\n      <td>102.5</td>\n      <td>0.3</td>\n      <td>1.6</td>\n      <td>102.3</td>\n      <td>0.1</td>\n      <td>1.3</td>\n      <td>103.8</td>\n      <td>1.5</td>\n      <td>0.4</td>\n    </tr>\n    <tr>\n      <th>2</th>\n      <td>2019</td>\n      <td>March</td>\n      <td>102.5</td>\n      <td>-</td>\n      <td>1.7</td>\n      <td>102.4</td>\n      <td>0.1</td>\n      <td>1.3</td>\n      <td>104.2</td>\n      <td>1.3</td>\n      <td>0.4</td>\n    </tr>\n    <tr>\n      <th>3</th>\n      <td>2019</td>\n      <td>April</td>\n      <td>102.8</td>\n      <td>0.3</td>\n      <td>1.4</td>\n      <td>102.6</td>\n      <td>0.2</td>\n      <td>1.3</td>\n      <td>105.2</td>\n      <td>2</td>\n      <td>1</td>\n    </tr>\n    <tr>\n      <th>4</th>\n      <td>2019</td>\n      <td>May</td>\n      <td>102.7</td>\n      <td>-0.1</td>\n      <td>-0.2</td>\n      <td>102.5</td>\n      <td>-0.1</td>\n      <td>0.7</td>\n      <td>105.4</td>\n      <td>1.4</td>\n      <td>0.2</td>\n    </tr>\n  </tbody>\n</table>\n</div>"
     },
     "execution_count": 118,
     "metadata": {},
     "output_type": "execute_result"
    }
   ],
   "source": [
    "#Displaying the import -export price index & CPI\n",
    "\n",
    "df_CPI_Import_Export_Aggr=pd.read_csv(\"data/CPI_Export_Import_Aggr.csv\")\n",
    "\n",
    "df_CPI_Import_Export_Aggr=df_CPI_Import_Export_Aggr.drop(df_CPI_Import_Export_Aggr.index[df_CPI_Import_Export_Aggr[\"Year\"] == '2019'])\n",
    "df_CPI_Import_Export_Aggr.head()"
   ]
  },
  {
   "cell_type": "code",
   "execution_count": 119,
   "id": "purple-lucas",
   "metadata": {},
   "outputs": [
    {
     "data": {
      "application/vnd.plotly.v1+json": {
       "config": {
        "plotlyServerURL": "https://plot.ly"
       },
       "data": [
        {
         "hovertemplate": "Country=Germany<br>Month=%{x}<br>Unemployment_Rate_Percent=%{y}<extra></extra>",
         "legendgroup": "Germany",
         "marker": {
          "color": "#636efa",
          "symbol": "circle"
         },
         "mode": "markers",
         "name": "Germany",
         "orientation": "v",
         "showlegend": true,
         "type": "scatter",
         "x": [
          1,
          2,
          3,
          4,
          5,
          6,
          7,
          8,
          9,
          10,
          11,
          12
         ],
         "xaxis": "x",
         "y": [
          3.4,
          3.6,
          3.8,
          4,
          4.2,
          4.3,
          4.4,
          4.5,
          4.5,
          4.5,
          4.5,
          null
         ],
         "yaxis": "y"
        },
        {
         "hovertemplate": "Country=India<br>Month=%{x}<br>Unemployment_Rate_Percent=%{y}<extra></extra>",
         "legendgroup": "India",
         "marker": {
          "color": "#EF553B",
          "symbol": "circle"
         },
         "mode": "markers",
         "name": "India",
         "orientation": "v",
         "showlegend": true,
         "type": "scatter",
         "x": [
          1,
          2,
          3,
          4,
          5,
          6,
          7,
          8,
          9,
          10,
          11,
          12
         ],
         "xaxis": "x",
         "y": [
          7.22,
          7.76,
          8.75,
          23.52,
          21.73,
          10.18,
          7.4,
          8.35,
          6.67,
          7,
          6.5,
          null
         ],
         "yaxis": "y"
        },
        {
         "hovertemplate": "Country=China<br>Month=%{x}<br>Unemployment_Rate_Percent=%{y}<extra></extra>",
         "legendgroup": "China",
         "marker": {
          "color": "#00cc96",
          "symbol": "circle"
         },
         "mode": "markers",
         "name": "China",
         "orientation": "v",
         "showlegend": true,
         "type": "scatter",
         "x": [
          1,
          2,
          3,
          4,
          5,
          6,
          7,
          8,
          9,
          10,
          11,
          12
         ],
         "xaxis": "x",
         "y": [
          5.3,
          6.2,
          5.9,
          6,
          5.9,
          5.7,
          5.7,
          5.6,
          5.4,
          5.3,
          5.2,
          5.2
         ],
         "yaxis": "y"
        },
        {
         "hovertemplate": "Country=Italy<br>Month=%{x}<br>Unemployment_Rate_Percent=%{y}<extra></extra>",
         "legendgroup": "Italy",
         "marker": {
          "color": "#ab63fa",
          "symbol": "circle"
         },
         "mode": "markers",
         "name": "Italy",
         "orientation": "v",
         "showlegend": true,
         "type": "scatter",
         "x": [
          1,
          2,
          3,
          4,
          5,
          6,
          7,
          8,
          9,
          10,
          11,
          12
         ],
         "xaxis": "x",
         "y": [
          9.6,
          9.4,
          8.5,
          7.4,
          8.7,
          9.3,
          9.8,
          9.7,
          9.5,
          9.5,
          8.9,
          3.5
         ],
         "yaxis": "y"
        },
        {
         "hovertemplate": "Country=USA<br>Month=%{x}<br>Unemployment_Rate_Percent=%{y}<extra></extra>",
         "legendgroup": "USA",
         "marker": {
          "color": "#FFA15A",
          "symbol": "circle"
         },
         "mode": "markers",
         "name": "USA",
         "orientation": "v",
         "showlegend": true,
         "type": "scatter",
         "x": [
          1,
          2,
          3,
          4,
          5,
          6,
          7,
          8,
          9,
          10,
          11,
          12
         ],
         "xaxis": "x",
         "y": [
          3.5,
          4.4,
          14.8,
          13.3,
          11.1,
          10.2,
          8.4,
          7.8,
          6.9,
          6.7,
          6.7,
          null
         ],
         "yaxis": "y"
        },
        {
         "hovertemplate": "Country=UK<br>Month=%{x}<br>Unemployment_Rate_Percent=%{y}<extra></extra>",
         "legendgroup": "UK",
         "marker": {
          "color": "#19d3f3",
          "symbol": "circle"
         },
         "mode": "markers",
         "name": "UK",
         "orientation": "v",
         "showlegend": true,
         "type": "scatter",
         "x": [
          1,
          2,
          3,
          4,
          5,
          6,
          7,
          8,
          9,
          10,
          11,
          12
         ],
         "xaxis": "x",
         "y": [
          3.9,
          3.9,
          3.9,
          3.9,
          3.8,
          4,
          4.4,
          4.7,
          4.9,
          4.9,
          null,
          null
         ],
         "yaxis": "y"
        }
       ],
       "layout": {
        "legend": {
         "title": {
          "text": "Country"
         },
         "tracegroupgap": 0
        },
        "margin": {
         "t": 60
        },
        "template": {
         "data": {
          "bar": [
           {
            "error_x": {
             "color": "#2a3f5f"
            },
            "error_y": {
             "color": "#2a3f5f"
            },
            "marker": {
             "line": {
              "color": "#E5ECF6",
              "width": 0.5
             }
            },
            "type": "bar"
           }
          ],
          "barpolar": [
           {
            "marker": {
             "line": {
              "color": "#E5ECF6",
              "width": 0.5
             }
            },
            "type": "barpolar"
           }
          ],
          "carpet": [
           {
            "aaxis": {
             "endlinecolor": "#2a3f5f",
             "gridcolor": "white",
             "linecolor": "white",
             "minorgridcolor": "white",
             "startlinecolor": "#2a3f5f"
            },
            "baxis": {
             "endlinecolor": "#2a3f5f",
             "gridcolor": "white",
             "linecolor": "white",
             "minorgridcolor": "white",
             "startlinecolor": "#2a3f5f"
            },
            "type": "carpet"
           }
          ],
          "choropleth": [
           {
            "colorbar": {
             "outlinewidth": 0,
             "ticks": ""
            },
            "type": "choropleth"
           }
          ],
          "contour": [
           {
            "colorbar": {
             "outlinewidth": 0,
             "ticks": ""
            },
            "colorscale": [
             [
              0,
              "#0d0887"
             ],
             [
              0.1111111111111111,
              "#46039f"
             ],
             [
              0.2222222222222222,
              "#7201a8"
             ],
             [
              0.3333333333333333,
              "#9c179e"
             ],
             [
              0.4444444444444444,
              "#bd3786"
             ],
             [
              0.5555555555555556,
              "#d8576b"
             ],
             [
              0.6666666666666666,
              "#ed7953"
             ],
             [
              0.7777777777777778,
              "#fb9f3a"
             ],
             [
              0.8888888888888888,
              "#fdca26"
             ],
             [
              1,
              "#f0f921"
             ]
            ],
            "type": "contour"
           }
          ],
          "contourcarpet": [
           {
            "colorbar": {
             "outlinewidth": 0,
             "ticks": ""
            },
            "type": "contourcarpet"
           }
          ],
          "heatmap": [
           {
            "colorbar": {
             "outlinewidth": 0,
             "ticks": ""
            },
            "colorscale": [
             [
              0,
              "#0d0887"
             ],
             [
              0.1111111111111111,
              "#46039f"
             ],
             [
              0.2222222222222222,
              "#7201a8"
             ],
             [
              0.3333333333333333,
              "#9c179e"
             ],
             [
              0.4444444444444444,
              "#bd3786"
             ],
             [
              0.5555555555555556,
              "#d8576b"
             ],
             [
              0.6666666666666666,
              "#ed7953"
             ],
             [
              0.7777777777777778,
              "#fb9f3a"
             ],
             [
              0.8888888888888888,
              "#fdca26"
             ],
             [
              1,
              "#f0f921"
             ]
            ],
            "type": "heatmap"
           }
          ],
          "heatmapgl": [
           {
            "colorbar": {
             "outlinewidth": 0,
             "ticks": ""
            },
            "colorscale": [
             [
              0,
              "#0d0887"
             ],
             [
              0.1111111111111111,
              "#46039f"
             ],
             [
              0.2222222222222222,
              "#7201a8"
             ],
             [
              0.3333333333333333,
              "#9c179e"
             ],
             [
              0.4444444444444444,
              "#bd3786"
             ],
             [
              0.5555555555555556,
              "#d8576b"
             ],
             [
              0.6666666666666666,
              "#ed7953"
             ],
             [
              0.7777777777777778,
              "#fb9f3a"
             ],
             [
              0.8888888888888888,
              "#fdca26"
             ],
             [
              1,
              "#f0f921"
             ]
            ],
            "type": "heatmapgl"
           }
          ],
          "histogram": [
           {
            "marker": {
             "colorbar": {
              "outlinewidth": 0,
              "ticks": ""
             }
            },
            "type": "histogram"
           }
          ],
          "histogram2d": [
           {
            "colorbar": {
             "outlinewidth": 0,
             "ticks": ""
            },
            "colorscale": [
             [
              0,
              "#0d0887"
             ],
             [
              0.1111111111111111,
              "#46039f"
             ],
             [
              0.2222222222222222,
              "#7201a8"
             ],
             [
              0.3333333333333333,
              "#9c179e"
             ],
             [
              0.4444444444444444,
              "#bd3786"
             ],
             [
              0.5555555555555556,
              "#d8576b"
             ],
             [
              0.6666666666666666,
              "#ed7953"
             ],
             [
              0.7777777777777778,
              "#fb9f3a"
             ],
             [
              0.8888888888888888,
              "#fdca26"
             ],
             [
              1,
              "#f0f921"
             ]
            ],
            "type": "histogram2d"
           }
          ],
          "histogram2dcontour": [
           {
            "colorbar": {
             "outlinewidth": 0,
             "ticks": ""
            },
            "colorscale": [
             [
              0,
              "#0d0887"
             ],
             [
              0.1111111111111111,
              "#46039f"
             ],
             [
              0.2222222222222222,
              "#7201a8"
             ],
             [
              0.3333333333333333,
              "#9c179e"
             ],
             [
              0.4444444444444444,
              "#bd3786"
             ],
             [
              0.5555555555555556,
              "#d8576b"
             ],
             [
              0.6666666666666666,
              "#ed7953"
             ],
             [
              0.7777777777777778,
              "#fb9f3a"
             ],
             [
              0.8888888888888888,
              "#fdca26"
             ],
             [
              1,
              "#f0f921"
             ]
            ],
            "type": "histogram2dcontour"
           }
          ],
          "mesh3d": [
           {
            "colorbar": {
             "outlinewidth": 0,
             "ticks": ""
            },
            "type": "mesh3d"
           }
          ],
          "parcoords": [
           {
            "line": {
             "colorbar": {
              "outlinewidth": 0,
              "ticks": ""
             }
            },
            "type": "parcoords"
           }
          ],
          "pie": [
           {
            "automargin": true,
            "type": "pie"
           }
          ],
          "scatter": [
           {
            "marker": {
             "colorbar": {
              "outlinewidth": 0,
              "ticks": ""
             }
            },
            "type": "scatter"
           }
          ],
          "scatter3d": [
           {
            "line": {
             "colorbar": {
              "outlinewidth": 0,
              "ticks": ""
             }
            },
            "marker": {
             "colorbar": {
              "outlinewidth": 0,
              "ticks": ""
             }
            },
            "type": "scatter3d"
           }
          ],
          "scattercarpet": [
           {
            "marker": {
             "colorbar": {
              "outlinewidth": 0,
              "ticks": ""
             }
            },
            "type": "scattercarpet"
           }
          ],
          "scattergeo": [
           {
            "marker": {
             "colorbar": {
              "outlinewidth": 0,
              "ticks": ""
             }
            },
            "type": "scattergeo"
           }
          ],
          "scattergl": [
           {
            "marker": {
             "colorbar": {
              "outlinewidth": 0,
              "ticks": ""
             }
            },
            "type": "scattergl"
           }
          ],
          "scattermapbox": [
           {
            "marker": {
             "colorbar": {
              "outlinewidth": 0,
              "ticks": ""
             }
            },
            "type": "scattermapbox"
           }
          ],
          "scatterpolar": [
           {
            "marker": {
             "colorbar": {
              "outlinewidth": 0,
              "ticks": ""
             }
            },
            "type": "scatterpolar"
           }
          ],
          "scatterpolargl": [
           {
            "marker": {
             "colorbar": {
              "outlinewidth": 0,
              "ticks": ""
             }
            },
            "type": "scatterpolargl"
           }
          ],
          "scatterternary": [
           {
            "marker": {
             "colorbar": {
              "outlinewidth": 0,
              "ticks": ""
             }
            },
            "type": "scatterternary"
           }
          ],
          "surface": [
           {
            "colorbar": {
             "outlinewidth": 0,
             "ticks": ""
            },
            "colorscale": [
             [
              0,
              "#0d0887"
             ],
             [
              0.1111111111111111,
              "#46039f"
             ],
             [
              0.2222222222222222,
              "#7201a8"
             ],
             [
              0.3333333333333333,
              "#9c179e"
             ],
             [
              0.4444444444444444,
              "#bd3786"
             ],
             [
              0.5555555555555556,
              "#d8576b"
             ],
             [
              0.6666666666666666,
              "#ed7953"
             ],
             [
              0.7777777777777778,
              "#fb9f3a"
             ],
             [
              0.8888888888888888,
              "#fdca26"
             ],
             [
              1,
              "#f0f921"
             ]
            ],
            "type": "surface"
           }
          ],
          "table": [
           {
            "cells": {
             "fill": {
              "color": "#EBF0F8"
             },
             "line": {
              "color": "white"
             }
            },
            "header": {
             "fill": {
              "color": "#C8D4E3"
             },
             "line": {
              "color": "white"
             }
            },
            "type": "table"
           }
          ]
         },
         "layout": {
          "annotationdefaults": {
           "arrowcolor": "#2a3f5f",
           "arrowhead": 0,
           "arrowwidth": 1
          },
          "autotypenumbers": "strict",
          "coloraxis": {
           "colorbar": {
            "outlinewidth": 0,
            "ticks": ""
           }
          },
          "colorscale": {
           "diverging": [
            [
             0,
             "#8e0152"
            ],
            [
             0.1,
             "#c51b7d"
            ],
            [
             0.2,
             "#de77ae"
            ],
            [
             0.3,
             "#f1b6da"
            ],
            [
             0.4,
             "#fde0ef"
            ],
            [
             0.5,
             "#f7f7f7"
            ],
            [
             0.6,
             "#e6f5d0"
            ],
            [
             0.7,
             "#b8e186"
            ],
            [
             0.8,
             "#7fbc41"
            ],
            [
             0.9,
             "#4d9221"
            ],
            [
             1,
             "#276419"
            ]
           ],
           "sequential": [
            [
             0,
             "#0d0887"
            ],
            [
             0.1111111111111111,
             "#46039f"
            ],
            [
             0.2222222222222222,
             "#7201a8"
            ],
            [
             0.3333333333333333,
             "#9c179e"
            ],
            [
             0.4444444444444444,
             "#bd3786"
            ],
            [
             0.5555555555555556,
             "#d8576b"
            ],
            [
             0.6666666666666666,
             "#ed7953"
            ],
            [
             0.7777777777777778,
             "#fb9f3a"
            ],
            [
             0.8888888888888888,
             "#fdca26"
            ],
            [
             1,
             "#f0f921"
            ]
           ],
           "sequentialminus": [
            [
             0,
             "#0d0887"
            ],
            [
             0.1111111111111111,
             "#46039f"
            ],
            [
             0.2222222222222222,
             "#7201a8"
            ],
            [
             0.3333333333333333,
             "#9c179e"
            ],
            [
             0.4444444444444444,
             "#bd3786"
            ],
            [
             0.5555555555555556,
             "#d8576b"
            ],
            [
             0.6666666666666666,
             "#ed7953"
            ],
            [
             0.7777777777777778,
             "#fb9f3a"
            ],
            [
             0.8888888888888888,
             "#fdca26"
            ],
            [
             1,
             "#f0f921"
            ]
           ]
          },
          "colorway": [
           "#636efa",
           "#EF553B",
           "#00cc96",
           "#ab63fa",
           "#FFA15A",
           "#19d3f3",
           "#FF6692",
           "#B6E880",
           "#FF97FF",
           "#FECB52"
          ],
          "font": {
           "color": "#2a3f5f"
          },
          "geo": {
           "bgcolor": "white",
           "lakecolor": "white",
           "landcolor": "#E5ECF6",
           "showlakes": true,
           "showland": true,
           "subunitcolor": "white"
          },
          "hoverlabel": {
           "align": "left"
          },
          "hovermode": "closest",
          "mapbox": {
           "style": "light"
          },
          "paper_bgcolor": "white",
          "plot_bgcolor": "#E5ECF6",
          "polar": {
           "angularaxis": {
            "gridcolor": "white",
            "linecolor": "white",
            "ticks": ""
           },
           "bgcolor": "#E5ECF6",
           "radialaxis": {
            "gridcolor": "white",
            "linecolor": "white",
            "ticks": ""
           }
          },
          "scene": {
           "xaxis": {
            "backgroundcolor": "#E5ECF6",
            "gridcolor": "white",
            "gridwidth": 2,
            "linecolor": "white",
            "showbackground": true,
            "ticks": "",
            "zerolinecolor": "white"
           },
           "yaxis": {
            "backgroundcolor": "#E5ECF6",
            "gridcolor": "white",
            "gridwidth": 2,
            "linecolor": "white",
            "showbackground": true,
            "ticks": "",
            "zerolinecolor": "white"
           },
           "zaxis": {
            "backgroundcolor": "#E5ECF6",
            "gridcolor": "white",
            "gridwidth": 2,
            "linecolor": "white",
            "showbackground": true,
            "ticks": "",
            "zerolinecolor": "white"
           }
          },
          "shapedefaults": {
           "line": {
            "color": "#2a3f5f"
           }
          },
          "ternary": {
           "aaxis": {
            "gridcolor": "white",
            "linecolor": "white",
            "ticks": ""
           },
           "baxis": {
            "gridcolor": "white",
            "linecolor": "white",
            "ticks": ""
           },
           "bgcolor": "#E5ECF6",
           "caxis": {
            "gridcolor": "white",
            "linecolor": "white",
            "ticks": ""
           }
          },
          "title": {
           "x": 0.05
          },
          "xaxis": {
           "automargin": true,
           "gridcolor": "white",
           "linecolor": "white",
           "ticks": "",
           "title": {
            "standoff": 15
           },
           "zerolinecolor": "white",
           "zerolinewidth": 2
          },
          "yaxis": {
           "automargin": true,
           "gridcolor": "white",
           "linecolor": "white",
           "ticks": "",
           "title": {
            "standoff": 15
           },
           "zerolinecolor": "white",
           "zerolinewidth": 2
          }
         }
        },
        "xaxis": {
         "anchor": "y",
         "domain": [
          0,
          1
         ],
         "title": {
          "text": "Month"
         }
        },
        "yaxis": {
         "anchor": "x",
         "domain": [
          0,
          1
         ],
         "title": {
          "text": "Unemployment_Rate_Percent"
         }
        }
       }
      },
      "text/html": "<div>                            <div id=\"bfd24943-2fb7-492a-b2cc-a04feeec90c6\" class=\"plotly-graph-div\" style=\"height:525px; width:100%;\"></div>            <script type=\"text/javascript\">                require([\"plotly\"], function(Plotly) {                    window.PLOTLYENV=window.PLOTLYENV || {};                                    if (document.getElementById(\"bfd24943-2fb7-492a-b2cc-a04feeec90c6\")) {                    Plotly.newPlot(                        \"bfd24943-2fb7-492a-b2cc-a04feeec90c6\",                        [{\"hovertemplate\": \"Country=Germany<br>Month=%{x}<br>Unemployment_Rate_Percent=%{y}<extra></extra>\", \"legendgroup\": \"Germany\", \"marker\": {\"color\": \"#636efa\", \"symbol\": \"circle\"}, \"mode\": \"markers\", \"name\": \"Germany\", \"orientation\": \"v\", \"showlegend\": true, \"type\": \"scatter\", \"x\": [1, 2, 3, 4, 5, 6, 7, 8, 9, 10, 11, 12], \"xaxis\": \"x\", \"y\": [3.4, 3.6, 3.8, 4.0, 4.2, 4.3, 4.4, 4.5, 4.5, 4.5, 4.5, null], \"yaxis\": \"y\"}, {\"hovertemplate\": \"Country=India<br>Month=%{x}<br>Unemployment_Rate_Percent=%{y}<extra></extra>\", \"legendgroup\": \"India\", \"marker\": {\"color\": \"#EF553B\", \"symbol\": \"circle\"}, \"mode\": \"markers\", \"name\": \"India\", \"orientation\": \"v\", \"showlegend\": true, \"type\": \"scatter\", \"x\": [1, 2, 3, 4, 5, 6, 7, 8, 9, 10, 11, 12], \"xaxis\": \"x\", \"y\": [7.22, 7.76, 8.75, 23.52, 21.73, 10.18, 7.4, 8.35, 6.67, 7.0, 6.5, null], \"yaxis\": \"y\"}, {\"hovertemplate\": \"Country=China<br>Month=%{x}<br>Unemployment_Rate_Percent=%{y}<extra></extra>\", \"legendgroup\": \"China\", \"marker\": {\"color\": \"#00cc96\", \"symbol\": \"circle\"}, \"mode\": \"markers\", \"name\": \"China\", \"orientation\": \"v\", \"showlegend\": true, \"type\": \"scatter\", \"x\": [1, 2, 3, 4, 5, 6, 7, 8, 9, 10, 11, 12], \"xaxis\": \"x\", \"y\": [5.3, 6.2, 5.9, 6.0, 5.9, 5.7, 5.7, 5.6, 5.4, 5.3, 5.2, 5.2], \"yaxis\": \"y\"}, {\"hovertemplate\": \"Country=Italy<br>Month=%{x}<br>Unemployment_Rate_Percent=%{y}<extra></extra>\", \"legendgroup\": \"Italy\", \"marker\": {\"color\": \"#ab63fa\", \"symbol\": \"circle\"}, \"mode\": \"markers\", \"name\": \"Italy\", \"orientation\": \"v\", \"showlegend\": true, \"type\": \"scatter\", \"x\": [1, 2, 3, 4, 5, 6, 7, 8, 9, 10, 11, 12], \"xaxis\": \"x\", \"y\": [9.6, 9.4, 8.5, 7.4, 8.7, 9.3, 9.8, 9.7, 9.5, 9.5, 8.9, 3.5], \"yaxis\": \"y\"}, {\"hovertemplate\": \"Country=USA<br>Month=%{x}<br>Unemployment_Rate_Percent=%{y}<extra></extra>\", \"legendgroup\": \"USA\", \"marker\": {\"color\": \"#FFA15A\", \"symbol\": \"circle\"}, \"mode\": \"markers\", \"name\": \"USA\", \"orientation\": \"v\", \"showlegend\": true, \"type\": \"scatter\", \"x\": [1, 2, 3, 4, 5, 6, 7, 8, 9, 10, 11, 12], \"xaxis\": \"x\", \"y\": [3.5, 4.4, 14.8, 13.3, 11.1, 10.2, 8.4, 7.8, 6.9, 6.7, 6.7, null], \"yaxis\": \"y\"}, {\"hovertemplate\": \"Country=UK<br>Month=%{x}<br>Unemployment_Rate_Percent=%{y}<extra></extra>\", \"legendgroup\": \"UK\", \"marker\": {\"color\": \"#19d3f3\", \"symbol\": \"circle\"}, \"mode\": \"markers\", \"name\": \"UK\", \"orientation\": \"v\", \"showlegend\": true, \"type\": \"scatter\", \"x\": [1, 2, 3, 4, 5, 6, 7, 8, 9, 10, 11, 12], \"xaxis\": \"x\", \"y\": [3.9, 3.9, 3.9, 3.9, 3.8, 4.0, 4.4, 4.7, 4.9, 4.9, null, null], \"yaxis\": \"y\"}],                        {\"legend\": {\"title\": {\"text\": \"Country\"}, \"tracegroupgap\": 0}, \"margin\": {\"t\": 60}, \"template\": {\"data\": {\"bar\": [{\"error_x\": {\"color\": \"#2a3f5f\"}, \"error_y\": {\"color\": \"#2a3f5f\"}, \"marker\": {\"line\": {\"color\": \"#E5ECF6\", \"width\": 0.5}}, \"type\": \"bar\"}], \"barpolar\": [{\"marker\": {\"line\": {\"color\": \"#E5ECF6\", \"width\": 0.5}}, \"type\": \"barpolar\"}], \"carpet\": [{\"aaxis\": {\"endlinecolor\": \"#2a3f5f\", \"gridcolor\": \"white\", \"linecolor\": \"white\", \"minorgridcolor\": \"white\", \"startlinecolor\": \"#2a3f5f\"}, \"baxis\": {\"endlinecolor\": \"#2a3f5f\", \"gridcolor\": \"white\", \"linecolor\": \"white\", \"minorgridcolor\": \"white\", \"startlinecolor\": \"#2a3f5f\"}, \"type\": \"carpet\"}], \"choropleth\": [{\"colorbar\": {\"outlinewidth\": 0, \"ticks\": \"\"}, \"type\": \"choropleth\"}], \"contour\": [{\"colorbar\": {\"outlinewidth\": 0, \"ticks\": \"\"}, \"colorscale\": [[0.0, \"#0d0887\"], [0.1111111111111111, \"#46039f\"], [0.2222222222222222, \"#7201a8\"], [0.3333333333333333, \"#9c179e\"], [0.4444444444444444, \"#bd3786\"], [0.5555555555555556, \"#d8576b\"], [0.6666666666666666, \"#ed7953\"], [0.7777777777777778, \"#fb9f3a\"], [0.8888888888888888, \"#fdca26\"], [1.0, \"#f0f921\"]], \"type\": \"contour\"}], \"contourcarpet\": [{\"colorbar\": {\"outlinewidth\": 0, \"ticks\": \"\"}, \"type\": \"contourcarpet\"}], \"heatmap\": [{\"colorbar\": {\"outlinewidth\": 0, \"ticks\": \"\"}, \"colorscale\": [[0.0, \"#0d0887\"], [0.1111111111111111, \"#46039f\"], [0.2222222222222222, \"#7201a8\"], [0.3333333333333333, \"#9c179e\"], [0.4444444444444444, \"#bd3786\"], [0.5555555555555556, \"#d8576b\"], [0.6666666666666666, \"#ed7953\"], [0.7777777777777778, \"#fb9f3a\"], [0.8888888888888888, \"#fdca26\"], [1.0, \"#f0f921\"]], \"type\": \"heatmap\"}], \"heatmapgl\": [{\"colorbar\": {\"outlinewidth\": 0, \"ticks\": \"\"}, \"colorscale\": [[0.0, \"#0d0887\"], [0.1111111111111111, \"#46039f\"], [0.2222222222222222, \"#7201a8\"], [0.3333333333333333, \"#9c179e\"], [0.4444444444444444, \"#bd3786\"], [0.5555555555555556, \"#d8576b\"], [0.6666666666666666, \"#ed7953\"], [0.7777777777777778, \"#fb9f3a\"], [0.8888888888888888, \"#fdca26\"], [1.0, \"#f0f921\"]], \"type\": \"heatmapgl\"}], \"histogram\": [{\"marker\": {\"colorbar\": {\"outlinewidth\": 0, \"ticks\": \"\"}}, \"type\": \"histogram\"}], \"histogram2d\": [{\"colorbar\": {\"outlinewidth\": 0, \"ticks\": \"\"}, \"colorscale\": [[0.0, \"#0d0887\"], [0.1111111111111111, \"#46039f\"], [0.2222222222222222, \"#7201a8\"], [0.3333333333333333, \"#9c179e\"], [0.4444444444444444, \"#bd3786\"], [0.5555555555555556, \"#d8576b\"], [0.6666666666666666, \"#ed7953\"], [0.7777777777777778, \"#fb9f3a\"], [0.8888888888888888, \"#fdca26\"], [1.0, \"#f0f921\"]], \"type\": \"histogram2d\"}], \"histogram2dcontour\": [{\"colorbar\": {\"outlinewidth\": 0, \"ticks\": \"\"}, \"colorscale\": [[0.0, \"#0d0887\"], [0.1111111111111111, \"#46039f\"], [0.2222222222222222, \"#7201a8\"], [0.3333333333333333, \"#9c179e\"], [0.4444444444444444, \"#bd3786\"], [0.5555555555555556, \"#d8576b\"], [0.6666666666666666, \"#ed7953\"], [0.7777777777777778, \"#fb9f3a\"], [0.8888888888888888, \"#fdca26\"], [1.0, \"#f0f921\"]], \"type\": \"histogram2dcontour\"}], \"mesh3d\": [{\"colorbar\": {\"outlinewidth\": 0, \"ticks\": \"\"}, \"type\": \"mesh3d\"}], \"parcoords\": [{\"line\": {\"colorbar\": {\"outlinewidth\": 0, \"ticks\": \"\"}}, \"type\": \"parcoords\"}], \"pie\": [{\"automargin\": true, \"type\": \"pie\"}], \"scatter\": [{\"marker\": {\"colorbar\": {\"outlinewidth\": 0, \"ticks\": \"\"}}, \"type\": \"scatter\"}], \"scatter3d\": [{\"line\": {\"colorbar\": {\"outlinewidth\": 0, \"ticks\": \"\"}}, \"marker\": {\"colorbar\": {\"outlinewidth\": 0, \"ticks\": \"\"}}, \"type\": \"scatter3d\"}], \"scattercarpet\": [{\"marker\": {\"colorbar\": {\"outlinewidth\": 0, \"ticks\": \"\"}}, \"type\": \"scattercarpet\"}], \"scattergeo\": [{\"marker\": {\"colorbar\": {\"outlinewidth\": 0, \"ticks\": \"\"}}, \"type\": \"scattergeo\"}], \"scattergl\": [{\"marker\": {\"colorbar\": {\"outlinewidth\": 0, \"ticks\": \"\"}}, \"type\": \"scattergl\"}], \"scattermapbox\": [{\"marker\": {\"colorbar\": {\"outlinewidth\": 0, \"ticks\": \"\"}}, \"type\": \"scattermapbox\"}], \"scatterpolar\": [{\"marker\": {\"colorbar\": {\"outlinewidth\": 0, \"ticks\": \"\"}}, \"type\": \"scatterpolar\"}], \"scatterpolargl\": [{\"marker\": {\"colorbar\": {\"outlinewidth\": 0, \"ticks\": \"\"}}, \"type\": \"scatterpolargl\"}], \"scatterternary\": [{\"marker\": {\"colorbar\": {\"outlinewidth\": 0, \"ticks\": \"\"}}, \"type\": \"scatterternary\"}], \"surface\": [{\"colorbar\": {\"outlinewidth\": 0, \"ticks\": \"\"}, \"colorscale\": [[0.0, \"#0d0887\"], [0.1111111111111111, \"#46039f\"], [0.2222222222222222, \"#7201a8\"], [0.3333333333333333, \"#9c179e\"], [0.4444444444444444, \"#bd3786\"], [0.5555555555555556, \"#d8576b\"], [0.6666666666666666, \"#ed7953\"], [0.7777777777777778, \"#fb9f3a\"], [0.8888888888888888, \"#fdca26\"], [1.0, \"#f0f921\"]], \"type\": \"surface\"}], \"table\": [{\"cells\": {\"fill\": {\"color\": \"#EBF0F8\"}, \"line\": {\"color\": \"white\"}}, \"header\": {\"fill\": {\"color\": \"#C8D4E3\"}, \"line\": {\"color\": \"white\"}}, \"type\": \"table\"}]}, \"layout\": {\"annotationdefaults\": {\"arrowcolor\": \"#2a3f5f\", \"arrowhead\": 0, \"arrowwidth\": 1}, \"autotypenumbers\": \"strict\", \"coloraxis\": {\"colorbar\": {\"outlinewidth\": 0, \"ticks\": \"\"}}, \"colorscale\": {\"diverging\": [[0, \"#8e0152\"], [0.1, \"#c51b7d\"], [0.2, \"#de77ae\"], [0.3, \"#f1b6da\"], [0.4, \"#fde0ef\"], [0.5, \"#f7f7f7\"], [0.6, \"#e6f5d0\"], [0.7, \"#b8e186\"], [0.8, \"#7fbc41\"], [0.9, \"#4d9221\"], [1, \"#276419\"]], \"sequential\": [[0.0, \"#0d0887\"], [0.1111111111111111, \"#46039f\"], [0.2222222222222222, \"#7201a8\"], [0.3333333333333333, \"#9c179e\"], [0.4444444444444444, \"#bd3786\"], [0.5555555555555556, \"#d8576b\"], [0.6666666666666666, \"#ed7953\"], [0.7777777777777778, \"#fb9f3a\"], [0.8888888888888888, \"#fdca26\"], [1.0, \"#f0f921\"]], \"sequentialminus\": [[0.0, \"#0d0887\"], [0.1111111111111111, \"#46039f\"], [0.2222222222222222, \"#7201a8\"], [0.3333333333333333, \"#9c179e\"], [0.4444444444444444, \"#bd3786\"], [0.5555555555555556, \"#d8576b\"], [0.6666666666666666, \"#ed7953\"], [0.7777777777777778, \"#fb9f3a\"], [0.8888888888888888, \"#fdca26\"], [1.0, \"#f0f921\"]]}, \"colorway\": [\"#636efa\", \"#EF553B\", \"#00cc96\", \"#ab63fa\", \"#FFA15A\", \"#19d3f3\", \"#FF6692\", \"#B6E880\", \"#FF97FF\", \"#FECB52\"], \"font\": {\"color\": \"#2a3f5f\"}, \"geo\": {\"bgcolor\": \"white\", \"lakecolor\": \"white\", \"landcolor\": \"#E5ECF6\", \"showlakes\": true, \"showland\": true, \"subunitcolor\": \"white\"}, \"hoverlabel\": {\"align\": \"left\"}, \"hovermode\": \"closest\", \"mapbox\": {\"style\": \"light\"}, \"paper_bgcolor\": \"white\", \"plot_bgcolor\": \"#E5ECF6\", \"polar\": {\"angularaxis\": {\"gridcolor\": \"white\", \"linecolor\": \"white\", \"ticks\": \"\"}, \"bgcolor\": \"#E5ECF6\", \"radialaxis\": {\"gridcolor\": \"white\", \"linecolor\": \"white\", \"ticks\": \"\"}}, \"scene\": {\"xaxis\": {\"backgroundcolor\": \"#E5ECF6\", \"gridcolor\": \"white\", \"gridwidth\": 2, \"linecolor\": \"white\", \"showbackground\": true, \"ticks\": \"\", \"zerolinecolor\": \"white\"}, \"yaxis\": {\"backgroundcolor\": \"#E5ECF6\", \"gridcolor\": \"white\", \"gridwidth\": 2, \"linecolor\": \"white\", \"showbackground\": true, \"ticks\": \"\", \"zerolinecolor\": \"white\"}, \"zaxis\": {\"backgroundcolor\": \"#E5ECF6\", \"gridcolor\": \"white\", \"gridwidth\": 2, \"linecolor\": \"white\", \"showbackground\": true, \"ticks\": \"\", \"zerolinecolor\": \"white\"}}, \"shapedefaults\": {\"line\": {\"color\": \"#2a3f5f\"}}, \"ternary\": {\"aaxis\": {\"gridcolor\": \"white\", \"linecolor\": \"white\", \"ticks\": \"\"}, \"baxis\": {\"gridcolor\": \"white\", \"linecolor\": \"white\", \"ticks\": \"\"}, \"bgcolor\": \"#E5ECF6\", \"caxis\": {\"gridcolor\": \"white\", \"linecolor\": \"white\", \"ticks\": \"\"}}, \"title\": {\"x\": 0.05}, \"xaxis\": {\"automargin\": true, \"gridcolor\": \"white\", \"linecolor\": \"white\", \"ticks\": \"\", \"title\": {\"standoff\": 15}, \"zerolinecolor\": \"white\", \"zerolinewidth\": 2}, \"yaxis\": {\"automargin\": true, \"gridcolor\": \"white\", \"linecolor\": \"white\", \"ticks\": \"\", \"title\": {\"standoff\": 15}, \"zerolinecolor\": \"white\", \"zerolinewidth\": 2}}}, \"xaxis\": {\"anchor\": \"y\", \"domain\": [0.0, 1.0], \"title\": {\"text\": \"Month\"}}, \"yaxis\": {\"anchor\": \"x\", \"domain\": [0.0, 1.0], \"title\": {\"text\": \"Unemployment_Rate_Percent\"}}},                        {\"responsive\": true}                    ).then(function(){\n                            \nvar gd = document.getElementById('bfd24943-2fb7-492a-b2cc-a04feeec90c6');\nvar x = new MutationObserver(function (mutations, observer) {{\n        var display = window.getComputedStyle(gd).display;\n        if (!display || display === 'none') {{\n            console.log([gd, 'removed!']);\n            Plotly.purge(gd);\n            observer.disconnect();\n        }}\n}});\n\n// Listen for the removal of the full notebook cells\nvar notebookContainer = gd.closest('#notebook-container');\nif (notebookContainer) {{\n    x.observe(notebookContainer, {childList: true});\n}}\n\n// Listen for the clearing of the current output cell\nvar outputEl = gd.closest('.output');\nif (outputEl) {{\n    x.observe(outputEl, {childList: true});\n}}\n\n                        })                };                });            </script>        </div>"
     },
     "metadata": {},
     "output_type": "display_data"
    }
   ],
   "source": [
    "#Plotting unemployment rate \n",
    "df_unemployment_copy=df_unemployment\n",
    "import plotly.express as px\n",
    "fig = px.scatter(df_unemployment, x=\"Month\", y=\"Unemployment_Rate_Percent\",color=\"Country\",hover_data=['Month', \"Unemployment_Rate_Percent\"]) #,width=1200, height=900,\n",
    "fig.show()"
   ]
  },
  {
   "cell_type": "code",
   "execution_count": 120,
   "id": "undefined-independence",
   "metadata": {},
   "outputs": [],
   "source": [
    "#df_CPI_Import_Export_Aggr=df_CPI_Import_Export_Aggr.loc[df_CPI_Import_Export_Aggr['Year'] == '2020']\n",
    "#df_CPI_Import_Export_Aggr.pivot(columns ='Change on previous month in(%)',index='Months',values='Change on previous month in(%).1').plot(kind='line', xlabel = 'Months', ylabel ='Import&Export Prices %',sort_columns = False)\n",
    "#plt.rcParams[\"figure.figsize\"] = (10,6)"
   ]
  },
  {
   "cell_type": "code",
   "execution_count": 121,
   "id": "nutritional-czech",
   "metadata": {},
   "outputs": [
    {
     "data": {
      "application/vnd.plotly.v1+json": {
       "config": {
        "plotlyServerURL": "https://plot.ly"
       },
       "data": [
        {
         "hovertemplate": "Months=January<br>export_prices_index=%{x}<br>import_prices_index=%{y}<extra></extra>",
         "legendgroup": "January",
         "marker": {
          "color": "#636efa",
          "symbol": "circle"
         },
         "mode": "markers",
         "name": "January",
         "orientation": "v",
         "showlegend": true,
         "type": "scatter",
         "x": [
          "102.2",
          "102.7"
         ],
         "xaxis": "x",
         "y": [
          "102.2",
          "101.3"
         ],
         "yaxis": "y"
        },
        {
         "hovertemplate": "Months=February<br>export_prices_index=%{x}<br>import_prices_index=%{y}<extra></extra>",
         "legendgroup": "February",
         "marker": {
          "color": "#EF553B",
          "symbol": "circle"
         },
         "mode": "markers",
         "name": "February",
         "orientation": "v",
         "showlegend": true,
         "type": "scatter",
         "x": [
          "102.3",
          "102.6"
         ],
         "xaxis": "x",
         "y": [
          "102.5",
          "100.4"
         ],
         "yaxis": "y"
        },
        {
         "hovertemplate": "Months=March<br>export_prices_index=%{x}<br>import_prices_index=%{y}<extra></extra>",
         "legendgroup": "March",
         "marker": {
          "color": "#00cc96",
          "symbol": "circle"
         },
         "mode": "markers",
         "name": "March",
         "orientation": "v",
         "showlegend": true,
         "type": "scatter",
         "x": [
          "102.4",
          "101.9"
         ],
         "xaxis": "x",
         "y": [
          "102.5",
          "96.9"
         ],
         "yaxis": "y"
        },
        {
         "hovertemplate": "Months=April<br>export_prices_index=%{x}<br>import_prices_index=%{y}<extra></extra>",
         "legendgroup": "April",
         "marker": {
          "color": "#ab63fa",
          "symbol": "circle"
         },
         "mode": "markers",
         "name": "April",
         "orientation": "v",
         "showlegend": true,
         "type": "scatter",
         "x": [
          "102.6",
          "101.5"
         ],
         "xaxis": "x",
         "y": [
          "102.8",
          "95.2"
         ],
         "yaxis": "y"
        },
        {
         "hovertemplate": "Months=May<br>export_prices_index=%{x}<br>import_prices_index=%{y}<extra></extra>",
         "legendgroup": "May",
         "marker": {
          "color": "#FFA15A",
          "symbol": "circle"
         },
         "mode": "markers",
         "name": "May",
         "orientation": "v",
         "showlegend": true,
         "type": "scatter",
         "x": [
          "102.5",
          "101.3"
         ],
         "xaxis": "x",
         "y": [
          "102.7",
          "95.5"
         ],
         "yaxis": "y"
        },
        {
         "hovertemplate": "Months=June<br>export_prices_index=%{x}<br>import_prices_index=%{y}<extra></extra>",
         "legendgroup": "June",
         "marker": {
          "color": "#19d3f3",
          "symbol": "circle"
         },
         "mode": "markers",
         "name": "June",
         "orientation": "v",
         "showlegend": true,
         "type": "scatter",
         "x": [
          "102.3",
          "101.3"
         ],
         "xaxis": "x",
         "y": [
          "101.3",
          "96.1"
         ],
         "yaxis": "y"
        },
        {
         "hovertemplate": "Months=July<br>export_prices_index=%{x}<br>import_prices_index=%{y}<extra></extra>",
         "legendgroup": "July",
         "marker": {
          "color": "#FF6692",
          "symbol": "circle"
         },
         "mode": "markers",
         "name": "July",
         "orientation": "v",
         "showlegend": true,
         "type": "scatter",
         "x": [
          "102.4",
          "101.3"
         ],
         "xaxis": "x",
         "y": [
          "101.1",
          "96.4"
         ],
         "yaxis": "y"
        },
        {
         "hovertemplate": "Months=August<br>export_prices_index=%{x}<br>import_prices_index=%{y}<extra></extra>",
         "legendgroup": "August",
         "marker": {
          "color": "#B6E880",
          "symbol": "circle"
         },
         "mode": "markers",
         "name": "August",
         "orientation": "v",
         "showlegend": true,
         "type": "scatter",
         "x": [
          "102.3",
          "101.2"
         ],
         "xaxis": "x",
         "y": [
          "100.5",
          "96.5"
         ],
         "yaxis": "y"
        },
        {
         "hovertemplate": "Months=September<br>export_prices_index=%{x}<br>import_prices_index=%{y}<extra></extra>",
         "legendgroup": "September",
         "marker": {
          "color": "#FF97FF",
          "symbol": "circle"
         },
         "mode": "markers",
         "name": "September",
         "orientation": "v",
         "showlegend": true,
         "type": "scatter",
         "x": [
          "102.4",
          "101.3"
         ],
         "xaxis": "x",
         "y": [
          "101.1",
          "96.8"
         ],
         "yaxis": "y"
        },
        {
         "hovertemplate": "Months=October<br>export_prices_index=%{x}<br>import_prices_index=%{y}<extra></extra>",
         "legendgroup": "October",
         "marker": {
          "color": "#FECB52",
          "symbol": "circle"
         },
         "mode": "markers",
         "name": "October",
         "orientation": "v",
         "showlegend": true,
         "type": "scatter",
         "x": [
          "102.4",
          "101.4"
         ],
         "xaxis": "x",
         "y": [
          "101",
          "97.1"
         ],
         "yaxis": "y"
        },
        {
         "hovertemplate": "Months=November<br>export_prices_index=%{x}<br>import_prices_index=%{y}<extra></extra>",
         "legendgroup": "November",
         "marker": {
          "color": "#636efa",
          "symbol": "circle"
         },
         "mode": "markers",
         "name": "November",
         "orientation": "v",
         "showlegend": true,
         "type": "scatter",
         "x": [
          "102.4",
          "101.8"
         ],
         "xaxis": "x",
         "y": [
          "101.5",
          "97.6"
         ],
         "yaxis": "y"
        },
        {
         "hovertemplate": "Months=December<br>export_prices_index=%{x}<br>import_prices_index=%{y}<extra></extra>",
         "legendgroup": "December",
         "marker": {
          "color": "#EF553B",
          "symbol": "circle"
         },
         "mode": "markers",
         "name": "December",
         "orientation": "v",
         "showlegend": true,
         "type": "scatter",
         "x": [
          "102.5",
          "..."
         ],
         "xaxis": "x",
         "y": [
          "101.7",
          "..."
         ],
         "yaxis": "y"
        }
       ],
       "layout": {
        "legend": {
         "title": {
          "text": "Months"
         },
         "tracegroupgap": 0
        },
        "margin": {
         "t": 60
        },
        "template": {
         "data": {
          "bar": [
           {
            "error_x": {
             "color": "#2a3f5f"
            },
            "error_y": {
             "color": "#2a3f5f"
            },
            "marker": {
             "line": {
              "color": "#E5ECF6",
              "width": 0.5
             }
            },
            "type": "bar"
           }
          ],
          "barpolar": [
           {
            "marker": {
             "line": {
              "color": "#E5ECF6",
              "width": 0.5
             }
            },
            "type": "barpolar"
           }
          ],
          "carpet": [
           {
            "aaxis": {
             "endlinecolor": "#2a3f5f",
             "gridcolor": "white",
             "linecolor": "white",
             "minorgridcolor": "white",
             "startlinecolor": "#2a3f5f"
            },
            "baxis": {
             "endlinecolor": "#2a3f5f",
             "gridcolor": "white",
             "linecolor": "white",
             "minorgridcolor": "white",
             "startlinecolor": "#2a3f5f"
            },
            "type": "carpet"
           }
          ],
          "choropleth": [
           {
            "colorbar": {
             "outlinewidth": 0,
             "ticks": ""
            },
            "type": "choropleth"
           }
          ],
          "contour": [
           {
            "colorbar": {
             "outlinewidth": 0,
             "ticks": ""
            },
            "colorscale": [
             [
              0,
              "#0d0887"
             ],
             [
              0.1111111111111111,
              "#46039f"
             ],
             [
              0.2222222222222222,
              "#7201a8"
             ],
             [
              0.3333333333333333,
              "#9c179e"
             ],
             [
              0.4444444444444444,
              "#bd3786"
             ],
             [
              0.5555555555555556,
              "#d8576b"
             ],
             [
              0.6666666666666666,
              "#ed7953"
             ],
             [
              0.7777777777777778,
              "#fb9f3a"
             ],
             [
              0.8888888888888888,
              "#fdca26"
             ],
             [
              1,
              "#f0f921"
             ]
            ],
            "type": "contour"
           }
          ],
          "contourcarpet": [
           {
            "colorbar": {
             "outlinewidth": 0,
             "ticks": ""
            },
            "type": "contourcarpet"
           }
          ],
          "heatmap": [
           {
            "colorbar": {
             "outlinewidth": 0,
             "ticks": ""
            },
            "colorscale": [
             [
              0,
              "#0d0887"
             ],
             [
              0.1111111111111111,
              "#46039f"
             ],
             [
              0.2222222222222222,
              "#7201a8"
             ],
             [
              0.3333333333333333,
              "#9c179e"
             ],
             [
              0.4444444444444444,
              "#bd3786"
             ],
             [
              0.5555555555555556,
              "#d8576b"
             ],
             [
              0.6666666666666666,
              "#ed7953"
             ],
             [
              0.7777777777777778,
              "#fb9f3a"
             ],
             [
              0.8888888888888888,
              "#fdca26"
             ],
             [
              1,
              "#f0f921"
             ]
            ],
            "type": "heatmap"
           }
          ],
          "heatmapgl": [
           {
            "colorbar": {
             "outlinewidth": 0,
             "ticks": ""
            },
            "colorscale": [
             [
              0,
              "#0d0887"
             ],
             [
              0.1111111111111111,
              "#46039f"
             ],
             [
              0.2222222222222222,
              "#7201a8"
             ],
             [
              0.3333333333333333,
              "#9c179e"
             ],
             [
              0.4444444444444444,
              "#bd3786"
             ],
             [
              0.5555555555555556,
              "#d8576b"
             ],
             [
              0.6666666666666666,
              "#ed7953"
             ],
             [
              0.7777777777777778,
              "#fb9f3a"
             ],
             [
              0.8888888888888888,
              "#fdca26"
             ],
             [
              1,
              "#f0f921"
             ]
            ],
            "type": "heatmapgl"
           }
          ],
          "histogram": [
           {
            "marker": {
             "colorbar": {
              "outlinewidth": 0,
              "ticks": ""
             }
            },
            "type": "histogram"
           }
          ],
          "histogram2d": [
           {
            "colorbar": {
             "outlinewidth": 0,
             "ticks": ""
            },
            "colorscale": [
             [
              0,
              "#0d0887"
             ],
             [
              0.1111111111111111,
              "#46039f"
             ],
             [
              0.2222222222222222,
              "#7201a8"
             ],
             [
              0.3333333333333333,
              "#9c179e"
             ],
             [
              0.4444444444444444,
              "#bd3786"
             ],
             [
              0.5555555555555556,
              "#d8576b"
             ],
             [
              0.6666666666666666,
              "#ed7953"
             ],
             [
              0.7777777777777778,
              "#fb9f3a"
             ],
             [
              0.8888888888888888,
              "#fdca26"
             ],
             [
              1,
              "#f0f921"
             ]
            ],
            "type": "histogram2d"
           }
          ],
          "histogram2dcontour": [
           {
            "colorbar": {
             "outlinewidth": 0,
             "ticks": ""
            },
            "colorscale": [
             [
              0,
              "#0d0887"
             ],
             [
              0.1111111111111111,
              "#46039f"
             ],
             [
              0.2222222222222222,
              "#7201a8"
             ],
             [
              0.3333333333333333,
              "#9c179e"
             ],
             [
              0.4444444444444444,
              "#bd3786"
             ],
             [
              0.5555555555555556,
              "#d8576b"
             ],
             [
              0.6666666666666666,
              "#ed7953"
             ],
             [
              0.7777777777777778,
              "#fb9f3a"
             ],
             [
              0.8888888888888888,
              "#fdca26"
             ],
             [
              1,
              "#f0f921"
             ]
            ],
            "type": "histogram2dcontour"
           }
          ],
          "mesh3d": [
           {
            "colorbar": {
             "outlinewidth": 0,
             "ticks": ""
            },
            "type": "mesh3d"
           }
          ],
          "parcoords": [
           {
            "line": {
             "colorbar": {
              "outlinewidth": 0,
              "ticks": ""
             }
            },
            "type": "parcoords"
           }
          ],
          "pie": [
           {
            "automargin": true,
            "type": "pie"
           }
          ],
          "scatter": [
           {
            "marker": {
             "colorbar": {
              "outlinewidth": 0,
              "ticks": ""
             }
            },
            "type": "scatter"
           }
          ],
          "scatter3d": [
           {
            "line": {
             "colorbar": {
              "outlinewidth": 0,
              "ticks": ""
             }
            },
            "marker": {
             "colorbar": {
              "outlinewidth": 0,
              "ticks": ""
             }
            },
            "type": "scatter3d"
           }
          ],
          "scattercarpet": [
           {
            "marker": {
             "colorbar": {
              "outlinewidth": 0,
              "ticks": ""
             }
            },
            "type": "scattercarpet"
           }
          ],
          "scattergeo": [
           {
            "marker": {
             "colorbar": {
              "outlinewidth": 0,
              "ticks": ""
             }
            },
            "type": "scattergeo"
           }
          ],
          "scattergl": [
           {
            "marker": {
             "colorbar": {
              "outlinewidth": 0,
              "ticks": ""
             }
            },
            "type": "scattergl"
           }
          ],
          "scattermapbox": [
           {
            "marker": {
             "colorbar": {
              "outlinewidth": 0,
              "ticks": ""
             }
            },
            "type": "scattermapbox"
           }
          ],
          "scatterpolar": [
           {
            "marker": {
             "colorbar": {
              "outlinewidth": 0,
              "ticks": ""
             }
            },
            "type": "scatterpolar"
           }
          ],
          "scatterpolargl": [
           {
            "marker": {
             "colorbar": {
              "outlinewidth": 0,
              "ticks": ""
             }
            },
            "type": "scatterpolargl"
           }
          ],
          "scatterternary": [
           {
            "marker": {
             "colorbar": {
              "outlinewidth": 0,
              "ticks": ""
             }
            },
            "type": "scatterternary"
           }
          ],
          "surface": [
           {
            "colorbar": {
             "outlinewidth": 0,
             "ticks": ""
            },
            "colorscale": [
             [
              0,
              "#0d0887"
             ],
             [
              0.1111111111111111,
              "#46039f"
             ],
             [
              0.2222222222222222,
              "#7201a8"
             ],
             [
              0.3333333333333333,
              "#9c179e"
             ],
             [
              0.4444444444444444,
              "#bd3786"
             ],
             [
              0.5555555555555556,
              "#d8576b"
             ],
             [
              0.6666666666666666,
              "#ed7953"
             ],
             [
              0.7777777777777778,
              "#fb9f3a"
             ],
             [
              0.8888888888888888,
              "#fdca26"
             ],
             [
              1,
              "#f0f921"
             ]
            ],
            "type": "surface"
           }
          ],
          "table": [
           {
            "cells": {
             "fill": {
              "color": "#EBF0F8"
             },
             "line": {
              "color": "white"
             }
            },
            "header": {
             "fill": {
              "color": "#C8D4E3"
             },
             "line": {
              "color": "white"
             }
            },
            "type": "table"
           }
          ]
         },
         "layout": {
          "annotationdefaults": {
           "arrowcolor": "#2a3f5f",
           "arrowhead": 0,
           "arrowwidth": 1
          },
          "autotypenumbers": "strict",
          "coloraxis": {
           "colorbar": {
            "outlinewidth": 0,
            "ticks": ""
           }
          },
          "colorscale": {
           "diverging": [
            [
             0,
             "#8e0152"
            ],
            [
             0.1,
             "#c51b7d"
            ],
            [
             0.2,
             "#de77ae"
            ],
            [
             0.3,
             "#f1b6da"
            ],
            [
             0.4,
             "#fde0ef"
            ],
            [
             0.5,
             "#f7f7f7"
            ],
            [
             0.6,
             "#e6f5d0"
            ],
            [
             0.7,
             "#b8e186"
            ],
            [
             0.8,
             "#7fbc41"
            ],
            [
             0.9,
             "#4d9221"
            ],
            [
             1,
             "#276419"
            ]
           ],
           "sequential": [
            [
             0,
             "#0d0887"
            ],
            [
             0.1111111111111111,
             "#46039f"
            ],
            [
             0.2222222222222222,
             "#7201a8"
            ],
            [
             0.3333333333333333,
             "#9c179e"
            ],
            [
             0.4444444444444444,
             "#bd3786"
            ],
            [
             0.5555555555555556,
             "#d8576b"
            ],
            [
             0.6666666666666666,
             "#ed7953"
            ],
            [
             0.7777777777777778,
             "#fb9f3a"
            ],
            [
             0.8888888888888888,
             "#fdca26"
            ],
            [
             1,
             "#f0f921"
            ]
           ],
           "sequentialminus": [
            [
             0,
             "#0d0887"
            ],
            [
             0.1111111111111111,
             "#46039f"
            ],
            [
             0.2222222222222222,
             "#7201a8"
            ],
            [
             0.3333333333333333,
             "#9c179e"
            ],
            [
             0.4444444444444444,
             "#bd3786"
            ],
            [
             0.5555555555555556,
             "#d8576b"
            ],
            [
             0.6666666666666666,
             "#ed7953"
            ],
            [
             0.7777777777777778,
             "#fb9f3a"
            ],
            [
             0.8888888888888888,
             "#fdca26"
            ],
            [
             1,
             "#f0f921"
            ]
           ]
          },
          "colorway": [
           "#636efa",
           "#EF553B",
           "#00cc96",
           "#ab63fa",
           "#FFA15A",
           "#19d3f3",
           "#FF6692",
           "#B6E880",
           "#FF97FF",
           "#FECB52"
          ],
          "font": {
           "color": "#2a3f5f"
          },
          "geo": {
           "bgcolor": "white",
           "lakecolor": "white",
           "landcolor": "#E5ECF6",
           "showlakes": true,
           "showland": true,
           "subunitcolor": "white"
          },
          "hoverlabel": {
           "align": "left"
          },
          "hovermode": "closest",
          "mapbox": {
           "style": "light"
          },
          "paper_bgcolor": "white",
          "plot_bgcolor": "#E5ECF6",
          "polar": {
           "angularaxis": {
            "gridcolor": "white",
            "linecolor": "white",
            "ticks": ""
           },
           "bgcolor": "#E5ECF6",
           "radialaxis": {
            "gridcolor": "white",
            "linecolor": "white",
            "ticks": ""
           }
          },
          "scene": {
           "xaxis": {
            "backgroundcolor": "#E5ECF6",
            "gridcolor": "white",
            "gridwidth": 2,
            "linecolor": "white",
            "showbackground": true,
            "ticks": "",
            "zerolinecolor": "white"
           },
           "yaxis": {
            "backgroundcolor": "#E5ECF6",
            "gridcolor": "white",
            "gridwidth": 2,
            "linecolor": "white",
            "showbackground": true,
            "ticks": "",
            "zerolinecolor": "white"
           },
           "zaxis": {
            "backgroundcolor": "#E5ECF6",
            "gridcolor": "white",
            "gridwidth": 2,
            "linecolor": "white",
            "showbackground": true,
            "ticks": "",
            "zerolinecolor": "white"
           }
          },
          "shapedefaults": {
           "line": {
            "color": "#2a3f5f"
           }
          },
          "ternary": {
           "aaxis": {
            "gridcolor": "white",
            "linecolor": "white",
            "ticks": ""
           },
           "baxis": {
            "gridcolor": "white",
            "linecolor": "white",
            "ticks": ""
           },
           "bgcolor": "#E5ECF6",
           "caxis": {
            "gridcolor": "white",
            "linecolor": "white",
            "ticks": ""
           }
          },
          "title": {
           "x": 0.05
          },
          "xaxis": {
           "automargin": true,
           "gridcolor": "white",
           "linecolor": "white",
           "ticks": "",
           "title": {
            "standoff": 15
           },
           "zerolinecolor": "white",
           "zerolinewidth": 2
          },
          "yaxis": {
           "automargin": true,
           "gridcolor": "white",
           "linecolor": "white",
           "ticks": "",
           "title": {
            "standoff": 15
           },
           "zerolinecolor": "white",
           "zerolinewidth": 2
          }
         }
        },
        "xaxis": {
         "anchor": "y",
         "domain": [
          0,
          1
         ],
         "title": {
          "text": "export_prices_index"
         }
        },
        "yaxis": {
         "anchor": "x",
         "domain": [
          0,
          1
         ],
         "title": {
          "text": "import_prices_index"
         }
        }
       }
      },
      "text/html": "<div>                            <div id=\"be7da764-bf93-459e-830e-fb2ec067ed2a\" class=\"plotly-graph-div\" style=\"height:525px; width:100%;\"></div>            <script type=\"text/javascript\">                require([\"plotly\"], function(Plotly) {                    window.PLOTLYENV=window.PLOTLYENV || {};                                    if (document.getElementById(\"be7da764-bf93-459e-830e-fb2ec067ed2a\")) {                    Plotly.newPlot(                        \"be7da764-bf93-459e-830e-fb2ec067ed2a\",                        [{\"hovertemplate\": \"Months=January<br>export_prices_index=%{x}<br>import_prices_index=%{y}<extra></extra>\", \"legendgroup\": \"January\", \"marker\": {\"color\": \"#636efa\", \"symbol\": \"circle\"}, \"mode\": \"markers\", \"name\": \"January\", \"orientation\": \"v\", \"showlegend\": true, \"type\": \"scatter\", \"x\": [\"102.2\", \"102.7\"], \"xaxis\": \"x\", \"y\": [\"102.2\", \"101.3\"], \"yaxis\": \"y\"}, {\"hovertemplate\": \"Months=February<br>export_prices_index=%{x}<br>import_prices_index=%{y}<extra></extra>\", \"legendgroup\": \"February\", \"marker\": {\"color\": \"#EF553B\", \"symbol\": \"circle\"}, \"mode\": \"markers\", \"name\": \"February\", \"orientation\": \"v\", \"showlegend\": true, \"type\": \"scatter\", \"x\": [\"102.3\", \"102.6\"], \"xaxis\": \"x\", \"y\": [\"102.5\", \"100.4\"], \"yaxis\": \"y\"}, {\"hovertemplate\": \"Months=March<br>export_prices_index=%{x}<br>import_prices_index=%{y}<extra></extra>\", \"legendgroup\": \"March\", \"marker\": {\"color\": \"#00cc96\", \"symbol\": \"circle\"}, \"mode\": \"markers\", \"name\": \"March\", \"orientation\": \"v\", \"showlegend\": true, \"type\": \"scatter\", \"x\": [\"102.4\", \"101.9\"], \"xaxis\": \"x\", \"y\": [\"102.5\", \"96.9\"], \"yaxis\": \"y\"}, {\"hovertemplate\": \"Months=April<br>export_prices_index=%{x}<br>import_prices_index=%{y}<extra></extra>\", \"legendgroup\": \"April\", \"marker\": {\"color\": \"#ab63fa\", \"symbol\": \"circle\"}, \"mode\": \"markers\", \"name\": \"April\", \"orientation\": \"v\", \"showlegend\": true, \"type\": \"scatter\", \"x\": [\"102.6\", \"101.5\"], \"xaxis\": \"x\", \"y\": [\"102.8\", \"95.2\"], \"yaxis\": \"y\"}, {\"hovertemplate\": \"Months=May<br>export_prices_index=%{x}<br>import_prices_index=%{y}<extra></extra>\", \"legendgroup\": \"May\", \"marker\": {\"color\": \"#FFA15A\", \"symbol\": \"circle\"}, \"mode\": \"markers\", \"name\": \"May\", \"orientation\": \"v\", \"showlegend\": true, \"type\": \"scatter\", \"x\": [\"102.5\", \"101.3\"], \"xaxis\": \"x\", \"y\": [\"102.7\", \"95.5\"], \"yaxis\": \"y\"}, {\"hovertemplate\": \"Months=June<br>export_prices_index=%{x}<br>import_prices_index=%{y}<extra></extra>\", \"legendgroup\": \"June\", \"marker\": {\"color\": \"#19d3f3\", \"symbol\": \"circle\"}, \"mode\": \"markers\", \"name\": \"June\", \"orientation\": \"v\", \"showlegend\": true, \"type\": \"scatter\", \"x\": [\"102.3\", \"101.3\"], \"xaxis\": \"x\", \"y\": [\"101.3\", \"96.1\"], \"yaxis\": \"y\"}, {\"hovertemplate\": \"Months=July<br>export_prices_index=%{x}<br>import_prices_index=%{y}<extra></extra>\", \"legendgroup\": \"July\", \"marker\": {\"color\": \"#FF6692\", \"symbol\": \"circle\"}, \"mode\": \"markers\", \"name\": \"July\", \"orientation\": \"v\", \"showlegend\": true, \"type\": \"scatter\", \"x\": [\"102.4\", \"101.3\"], \"xaxis\": \"x\", \"y\": [\"101.1\", \"96.4\"], \"yaxis\": \"y\"}, {\"hovertemplate\": \"Months=August<br>export_prices_index=%{x}<br>import_prices_index=%{y}<extra></extra>\", \"legendgroup\": \"August\", \"marker\": {\"color\": \"#B6E880\", \"symbol\": \"circle\"}, \"mode\": \"markers\", \"name\": \"August\", \"orientation\": \"v\", \"showlegend\": true, \"type\": \"scatter\", \"x\": [\"102.3\", \"101.2\"], \"xaxis\": \"x\", \"y\": [\"100.5\", \"96.5\"], \"yaxis\": \"y\"}, {\"hovertemplate\": \"Months=September<br>export_prices_index=%{x}<br>import_prices_index=%{y}<extra></extra>\", \"legendgroup\": \"September\", \"marker\": {\"color\": \"#FF97FF\", \"symbol\": \"circle\"}, \"mode\": \"markers\", \"name\": \"September\", \"orientation\": \"v\", \"showlegend\": true, \"type\": \"scatter\", \"x\": [\"102.4\", \"101.3\"], \"xaxis\": \"x\", \"y\": [\"101.1\", \"96.8\"], \"yaxis\": \"y\"}, {\"hovertemplate\": \"Months=October<br>export_prices_index=%{x}<br>import_prices_index=%{y}<extra></extra>\", \"legendgroup\": \"October\", \"marker\": {\"color\": \"#FECB52\", \"symbol\": \"circle\"}, \"mode\": \"markers\", \"name\": \"October\", \"orientation\": \"v\", \"showlegend\": true, \"type\": \"scatter\", \"x\": [\"102.4\", \"101.4\"], \"xaxis\": \"x\", \"y\": [\"101\", \"97.1\"], \"yaxis\": \"y\"}, {\"hovertemplate\": \"Months=November<br>export_prices_index=%{x}<br>import_prices_index=%{y}<extra></extra>\", \"legendgroup\": \"November\", \"marker\": {\"color\": \"#636efa\", \"symbol\": \"circle\"}, \"mode\": \"markers\", \"name\": \"November\", \"orientation\": \"v\", \"showlegend\": true, \"type\": \"scatter\", \"x\": [\"102.4\", \"101.8\"], \"xaxis\": \"x\", \"y\": [\"101.5\", \"97.6\"], \"yaxis\": \"y\"}, {\"hovertemplate\": \"Months=December<br>export_prices_index=%{x}<br>import_prices_index=%{y}<extra></extra>\", \"legendgroup\": \"December\", \"marker\": {\"color\": \"#EF553B\", \"symbol\": \"circle\"}, \"mode\": \"markers\", \"name\": \"December\", \"orientation\": \"v\", \"showlegend\": true, \"type\": \"scatter\", \"x\": [\"102.5\", \"...\"], \"xaxis\": \"x\", \"y\": [\"101.7\", \"...\"], \"yaxis\": \"y\"}],                        {\"legend\": {\"title\": {\"text\": \"Months\"}, \"tracegroupgap\": 0}, \"margin\": {\"t\": 60}, \"template\": {\"data\": {\"bar\": [{\"error_x\": {\"color\": \"#2a3f5f\"}, \"error_y\": {\"color\": \"#2a3f5f\"}, \"marker\": {\"line\": {\"color\": \"#E5ECF6\", \"width\": 0.5}}, \"type\": \"bar\"}], \"barpolar\": [{\"marker\": {\"line\": {\"color\": \"#E5ECF6\", \"width\": 0.5}}, \"type\": \"barpolar\"}], \"carpet\": [{\"aaxis\": {\"endlinecolor\": \"#2a3f5f\", \"gridcolor\": \"white\", \"linecolor\": \"white\", \"minorgridcolor\": \"white\", \"startlinecolor\": \"#2a3f5f\"}, \"baxis\": {\"endlinecolor\": \"#2a3f5f\", \"gridcolor\": \"white\", \"linecolor\": \"white\", \"minorgridcolor\": \"white\", \"startlinecolor\": \"#2a3f5f\"}, \"type\": \"carpet\"}], \"choropleth\": [{\"colorbar\": {\"outlinewidth\": 0, \"ticks\": \"\"}, \"type\": \"choropleth\"}], \"contour\": [{\"colorbar\": {\"outlinewidth\": 0, \"ticks\": \"\"}, \"colorscale\": [[0.0, \"#0d0887\"], [0.1111111111111111, \"#46039f\"], [0.2222222222222222, \"#7201a8\"], [0.3333333333333333, \"#9c179e\"], [0.4444444444444444, \"#bd3786\"], [0.5555555555555556, \"#d8576b\"], [0.6666666666666666, \"#ed7953\"], [0.7777777777777778, \"#fb9f3a\"], [0.8888888888888888, \"#fdca26\"], [1.0, \"#f0f921\"]], \"type\": \"contour\"}], \"contourcarpet\": [{\"colorbar\": {\"outlinewidth\": 0, \"ticks\": \"\"}, \"type\": \"contourcarpet\"}], \"heatmap\": [{\"colorbar\": {\"outlinewidth\": 0, \"ticks\": \"\"}, \"colorscale\": [[0.0, \"#0d0887\"], [0.1111111111111111, \"#46039f\"], [0.2222222222222222, \"#7201a8\"], [0.3333333333333333, \"#9c179e\"], [0.4444444444444444, \"#bd3786\"], [0.5555555555555556, \"#d8576b\"], [0.6666666666666666, \"#ed7953\"], [0.7777777777777778, \"#fb9f3a\"], [0.8888888888888888, \"#fdca26\"], [1.0, \"#f0f921\"]], \"type\": \"heatmap\"}], \"heatmapgl\": [{\"colorbar\": {\"outlinewidth\": 0, \"ticks\": \"\"}, \"colorscale\": [[0.0, \"#0d0887\"], [0.1111111111111111, \"#46039f\"], [0.2222222222222222, \"#7201a8\"], [0.3333333333333333, \"#9c179e\"], [0.4444444444444444, \"#bd3786\"], [0.5555555555555556, \"#d8576b\"], [0.6666666666666666, \"#ed7953\"], [0.7777777777777778, \"#fb9f3a\"], [0.8888888888888888, \"#fdca26\"], [1.0, \"#f0f921\"]], \"type\": \"heatmapgl\"}], \"histogram\": [{\"marker\": {\"colorbar\": {\"outlinewidth\": 0, \"ticks\": \"\"}}, \"type\": \"histogram\"}], \"histogram2d\": [{\"colorbar\": {\"outlinewidth\": 0, \"ticks\": \"\"}, \"colorscale\": [[0.0, \"#0d0887\"], [0.1111111111111111, \"#46039f\"], [0.2222222222222222, \"#7201a8\"], [0.3333333333333333, \"#9c179e\"], [0.4444444444444444, \"#bd3786\"], [0.5555555555555556, \"#d8576b\"], [0.6666666666666666, \"#ed7953\"], [0.7777777777777778, \"#fb9f3a\"], [0.8888888888888888, \"#fdca26\"], [1.0, \"#f0f921\"]], \"type\": \"histogram2d\"}], \"histogram2dcontour\": [{\"colorbar\": {\"outlinewidth\": 0, \"ticks\": \"\"}, \"colorscale\": [[0.0, \"#0d0887\"], [0.1111111111111111, \"#46039f\"], [0.2222222222222222, \"#7201a8\"], [0.3333333333333333, \"#9c179e\"], [0.4444444444444444, \"#bd3786\"], [0.5555555555555556, \"#d8576b\"], [0.6666666666666666, \"#ed7953\"], [0.7777777777777778, \"#fb9f3a\"], [0.8888888888888888, \"#fdca26\"], [1.0, \"#f0f921\"]], \"type\": \"histogram2dcontour\"}], \"mesh3d\": [{\"colorbar\": {\"outlinewidth\": 0, \"ticks\": \"\"}, \"type\": \"mesh3d\"}], \"parcoords\": [{\"line\": {\"colorbar\": {\"outlinewidth\": 0, \"ticks\": \"\"}}, \"type\": \"parcoords\"}], \"pie\": [{\"automargin\": true, \"type\": \"pie\"}], \"scatter\": [{\"marker\": {\"colorbar\": {\"outlinewidth\": 0, \"ticks\": \"\"}}, \"type\": \"scatter\"}], \"scatter3d\": [{\"line\": {\"colorbar\": {\"outlinewidth\": 0, \"ticks\": \"\"}}, \"marker\": {\"colorbar\": {\"outlinewidth\": 0, \"ticks\": \"\"}}, \"type\": \"scatter3d\"}], \"scattercarpet\": [{\"marker\": {\"colorbar\": {\"outlinewidth\": 0, \"ticks\": \"\"}}, \"type\": \"scattercarpet\"}], \"scattergeo\": [{\"marker\": {\"colorbar\": {\"outlinewidth\": 0, \"ticks\": \"\"}}, \"type\": \"scattergeo\"}], \"scattergl\": [{\"marker\": {\"colorbar\": {\"outlinewidth\": 0, \"ticks\": \"\"}}, \"type\": \"scattergl\"}], \"scattermapbox\": [{\"marker\": {\"colorbar\": {\"outlinewidth\": 0, \"ticks\": \"\"}}, \"type\": \"scattermapbox\"}], \"scatterpolar\": [{\"marker\": {\"colorbar\": {\"outlinewidth\": 0, \"ticks\": \"\"}}, \"type\": \"scatterpolar\"}], \"scatterpolargl\": [{\"marker\": {\"colorbar\": {\"outlinewidth\": 0, \"ticks\": \"\"}}, \"type\": \"scatterpolargl\"}], \"scatterternary\": [{\"marker\": {\"colorbar\": {\"outlinewidth\": 0, \"ticks\": \"\"}}, \"type\": \"scatterternary\"}], \"surface\": [{\"colorbar\": {\"outlinewidth\": 0, \"ticks\": \"\"}, \"colorscale\": [[0.0, \"#0d0887\"], [0.1111111111111111, \"#46039f\"], [0.2222222222222222, \"#7201a8\"], [0.3333333333333333, \"#9c179e\"], [0.4444444444444444, \"#bd3786\"], [0.5555555555555556, \"#d8576b\"], [0.6666666666666666, \"#ed7953\"], [0.7777777777777778, \"#fb9f3a\"], [0.8888888888888888, \"#fdca26\"], [1.0, \"#f0f921\"]], \"type\": \"surface\"}], \"table\": [{\"cells\": {\"fill\": {\"color\": \"#EBF0F8\"}, \"line\": {\"color\": \"white\"}}, \"header\": {\"fill\": {\"color\": \"#C8D4E3\"}, \"line\": {\"color\": \"white\"}}, \"type\": \"table\"}]}, \"layout\": {\"annotationdefaults\": {\"arrowcolor\": \"#2a3f5f\", \"arrowhead\": 0, \"arrowwidth\": 1}, \"autotypenumbers\": \"strict\", \"coloraxis\": {\"colorbar\": {\"outlinewidth\": 0, \"ticks\": \"\"}}, \"colorscale\": {\"diverging\": [[0, \"#8e0152\"], [0.1, \"#c51b7d\"], [0.2, \"#de77ae\"], [0.3, \"#f1b6da\"], [0.4, \"#fde0ef\"], [0.5, \"#f7f7f7\"], [0.6, \"#e6f5d0\"], [0.7, \"#b8e186\"], [0.8, \"#7fbc41\"], [0.9, \"#4d9221\"], [1, \"#276419\"]], \"sequential\": [[0.0, \"#0d0887\"], [0.1111111111111111, \"#46039f\"], [0.2222222222222222, \"#7201a8\"], [0.3333333333333333, \"#9c179e\"], [0.4444444444444444, \"#bd3786\"], [0.5555555555555556, \"#d8576b\"], [0.6666666666666666, \"#ed7953\"], [0.7777777777777778, \"#fb9f3a\"], [0.8888888888888888, \"#fdca26\"], [1.0, \"#f0f921\"]], \"sequentialminus\": [[0.0, \"#0d0887\"], [0.1111111111111111, \"#46039f\"], [0.2222222222222222, \"#7201a8\"], [0.3333333333333333, \"#9c179e\"], [0.4444444444444444, \"#bd3786\"], [0.5555555555555556, \"#d8576b\"], [0.6666666666666666, \"#ed7953\"], [0.7777777777777778, \"#fb9f3a\"], [0.8888888888888888, \"#fdca26\"], [1.0, \"#f0f921\"]]}, \"colorway\": [\"#636efa\", \"#EF553B\", \"#00cc96\", \"#ab63fa\", \"#FFA15A\", \"#19d3f3\", \"#FF6692\", \"#B6E880\", \"#FF97FF\", \"#FECB52\"], \"font\": {\"color\": \"#2a3f5f\"}, \"geo\": {\"bgcolor\": \"white\", \"lakecolor\": \"white\", \"landcolor\": \"#E5ECF6\", \"showlakes\": true, \"showland\": true, \"subunitcolor\": \"white\"}, \"hoverlabel\": {\"align\": \"left\"}, \"hovermode\": \"closest\", \"mapbox\": {\"style\": \"light\"}, \"paper_bgcolor\": \"white\", \"plot_bgcolor\": \"#E5ECF6\", \"polar\": {\"angularaxis\": {\"gridcolor\": \"white\", \"linecolor\": \"white\", \"ticks\": \"\"}, \"bgcolor\": \"#E5ECF6\", \"radialaxis\": {\"gridcolor\": \"white\", \"linecolor\": \"white\", \"ticks\": \"\"}}, \"scene\": {\"xaxis\": {\"backgroundcolor\": \"#E5ECF6\", \"gridcolor\": \"white\", \"gridwidth\": 2, \"linecolor\": \"white\", \"showbackground\": true, \"ticks\": \"\", \"zerolinecolor\": \"white\"}, \"yaxis\": {\"backgroundcolor\": \"#E5ECF6\", \"gridcolor\": \"white\", \"gridwidth\": 2, \"linecolor\": \"white\", \"showbackground\": true, \"ticks\": \"\", \"zerolinecolor\": \"white\"}, \"zaxis\": {\"backgroundcolor\": \"#E5ECF6\", \"gridcolor\": \"white\", \"gridwidth\": 2, \"linecolor\": \"white\", \"showbackground\": true, \"ticks\": \"\", \"zerolinecolor\": \"white\"}}, \"shapedefaults\": {\"line\": {\"color\": \"#2a3f5f\"}}, \"ternary\": {\"aaxis\": {\"gridcolor\": \"white\", \"linecolor\": \"white\", \"ticks\": \"\"}, \"baxis\": {\"gridcolor\": \"white\", \"linecolor\": \"white\", \"ticks\": \"\"}, \"bgcolor\": \"#E5ECF6\", \"caxis\": {\"gridcolor\": \"white\", \"linecolor\": \"white\", \"ticks\": \"\"}}, \"title\": {\"x\": 0.05}, \"xaxis\": {\"automargin\": true, \"gridcolor\": \"white\", \"linecolor\": \"white\", \"ticks\": \"\", \"title\": {\"standoff\": 15}, \"zerolinecolor\": \"white\", \"zerolinewidth\": 2}, \"yaxis\": {\"automargin\": true, \"gridcolor\": \"white\", \"linecolor\": \"white\", \"ticks\": \"\", \"title\": {\"standoff\": 15}, \"zerolinecolor\": \"white\", \"zerolinewidth\": 2}}}, \"xaxis\": {\"anchor\": \"y\", \"domain\": [0.0, 1.0], \"title\": {\"text\": \"export_prices_index\"}}, \"yaxis\": {\"anchor\": \"x\", \"domain\": [0.0, 1.0], \"title\": {\"text\": \"import_prices_index\"}}},                        {\"responsive\": true}                    ).then(function(){\n                            \nvar gd = document.getElementById('be7da764-bf93-459e-830e-fb2ec067ed2a');\nvar x = new MutationObserver(function (mutations, observer) {{\n        var display = window.getComputedStyle(gd).display;\n        if (!display || display === 'none') {{\n            console.log([gd, 'removed!']);\n            Plotly.purge(gd);\n            observer.disconnect();\n        }}\n}});\n\n// Listen for the removal of the full notebook cells\nvar notebookContainer = gd.closest('#notebook-container');\nif (notebookContainer) {{\n    x.observe(notebookContainer, {childList: true});\n}}\n\n// Listen for the clearing of the current output cell\nvar outputEl = gd.closest('.output');\nif (outputEl) {{\n    x.observe(outputEl, {childList: true});\n}}\n\n                        })                };                });            </script>        </div>"
     },
     "metadata": {},
     "output_type": "display_data"
    }
   ],
   "source": [
    "#Plotting import price index & export price index\n",
    "\n",
    "df_CPI_Import_Export_Aggr_copy=df_CPI_Import_Export_Aggr\n",
    "\n",
    "import plotly.express as px\n",
    "fig = px.scatter(df_CPI_Import_Export_Aggr_copy, x=\"export_prices_index\", y=\"import_prices_index\",color=\"Months\",hover_data=['export_prices_index', \"import_prices_index\"]) \n",
    "fig.show()\n",
    "#print(df_CPI_Import_Export_Aggr_copy)"
   ]
  },
  {
   "cell_type": "code",
   "execution_count": 122,
   "id": "urban-execution",
   "metadata": {},
   "outputs": [],
   "source": [
    "\n",
    "#df_aggr_covid19_data_copy = df_aggr_covid19_data\n",
    "#import plotly.express as px\n",
    "#fig = px.scatter(df_aggr_covid19_data_copy, x=\"location\", y=\"PG_Rate\",color=\"month\",hover_data=['location', \"month\"]) \n",
    "#fig.show()"
   ]
  },
  {
   "cell_type": "code",
   "execution_count": 122,
   "id": "invalid-priority",
   "metadata": {},
   "outputs": [],
   "source": []
  },
  {
   "cell_type": "markdown",
   "source": [
    "# Export Data"
   ],
   "metadata": {
    "collapsed": false
   }
  },
  {
   "cell_type": "code",
   "execution_count": 123,
   "outputs": [],
   "source": [
    "path = r'../project/data/preprocessed/'\n",
    "df_aggr_covid19_data.to_csv(path+'exp_keyCountriesCovid.csv', sep=',', index=False)\n",
    "df_unemployment.to_csv(path+'exp_keyCountriesUnemployment.csv', sep=',', index=False)\n",
    "df_CPI_Import_Export_Aggr.to_csv(path+'exp_CountriesCPI.csv', sep=',', index=False)\n",
    "# export of unemployment dataframe follows later"
   ],
   "metadata": {
    "collapsed": false,
    "pycharm": {
     "name": "#%%\n"
    }
   }
  }
 ],
 "metadata": {
  "kernelspec": {
   "name": "pycharm-5f424342",
   "language": "python",
   "display_name": "PyCharm (data-mining)"
  },
  "language_info": {
   "codemirror_mode": {
    "name": "ipython",
    "version": 3
   },
   "file_extension": ".py",
   "mimetype": "text/x-python",
   "name": "python",
   "nbconvert_exporter": "python",
   "pygments_lexer": "ipython3",
   "version": "3.9.1"
  }
 },
 "nbformat": 4,
 "nbformat_minor": 5
}