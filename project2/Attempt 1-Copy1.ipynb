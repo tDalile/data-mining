{
 "cells": [
  {
   "cell_type": "markdown",
   "id": "present-fields",
   "metadata": {},
   "source": [
    "# Data Preparation"
   ]
  },
  {
   "cell_type": "raw",
   "id": "swedish-bible",
   "metadata": {},
   "source": [
    "I) Importing Datasets"
   ]
  },
  {
   "cell_type": "code",
   "execution_count": 397,
   "id": "italic-french",
   "metadata": {},
   "outputs": [],
   "source": [
    "import pandas as pd\n",
    "df_covid19_data=pd.read_csv(\"data/covid-19.csv\")\n",
    "df_aggr_covid19_data=pd.read_csv(\"data/aggr_covid_data.csv\")\n",
    "df_unemployment=pd.read_csv(\"data/Unemploy2.csv\")\n"
   ]
  },
  {
   "cell_type": "code",
   "execution_count": 398,
   "id": "mysterious-laugh",
   "metadata": {},
   "outputs": [],
   "source": [
    "df_CPI_Import_Export_Aggr=pd.read_csv(\"data/CPI_Export_Import_Aggr.csv\")"
   ]
  },
  {
   "cell_type": "raw",
   "id": "funded-mounting",
   "metadata": {},
   "source": [
    "2) Displaying Datasets"
   ]
  },
  {
   "cell_type": "raw",
   "id": "sunset-auckland",
   "metadata": {},
   "source": [
    "A. COVID-19 Dataset"
   ]
  },
  {
   "cell_type": "code",
   "execution_count": 399,
   "id": "recognized-battery",
   "metadata": {
    "scrolled": true
   },
   "outputs": [
    {
     "output_type": "execute_result",
     "data": {
      "text/plain": [
       "         Date Country/Region Province/State  Confirmed  Recovered  Deaths\n",
       "0  22-01-2020    Afghanistan            NaN          0        0.0       0\n",
       "1  23-01-2020    Afghanistan            NaN          0        0.0       0\n",
       "2  24-01-2020    Afghanistan            NaN          0        0.0       0\n",
       "3  25-01-2020    Afghanistan            NaN          0        0.0       0\n",
       "4  26-01-2020    Afghanistan            NaN          0        0.0       0"
      ],
      "text/html": "<div>\n<style scoped>\n    .dataframe tbody tr th:only-of-type {\n        vertical-align: middle;\n    }\n\n    .dataframe tbody tr th {\n        vertical-align: top;\n    }\n\n    .dataframe thead th {\n        text-align: right;\n    }\n</style>\n<table border=\"1\" class=\"dataframe\">\n  <thead>\n    <tr style=\"text-align: right;\">\n      <th></th>\n      <th>Date</th>\n      <th>Country/Region</th>\n      <th>Province/State</th>\n      <th>Confirmed</th>\n      <th>Recovered</th>\n      <th>Deaths</th>\n    </tr>\n  </thead>\n  <tbody>\n    <tr>\n      <th>0</th>\n      <td>22-01-2020</td>\n      <td>Afghanistan</td>\n      <td>NaN</td>\n      <td>0</td>\n      <td>0.0</td>\n      <td>0</td>\n    </tr>\n    <tr>\n      <th>1</th>\n      <td>23-01-2020</td>\n      <td>Afghanistan</td>\n      <td>NaN</td>\n      <td>0</td>\n      <td>0.0</td>\n      <td>0</td>\n    </tr>\n    <tr>\n      <th>2</th>\n      <td>24-01-2020</td>\n      <td>Afghanistan</td>\n      <td>NaN</td>\n      <td>0</td>\n      <td>0.0</td>\n      <td>0</td>\n    </tr>\n    <tr>\n      <th>3</th>\n      <td>25-01-2020</td>\n      <td>Afghanistan</td>\n      <td>NaN</td>\n      <td>0</td>\n      <td>0.0</td>\n      <td>0</td>\n    </tr>\n    <tr>\n      <th>4</th>\n      <td>26-01-2020</td>\n      <td>Afghanistan</td>\n      <td>NaN</td>\n      <td>0</td>\n      <td>0.0</td>\n      <td>0</td>\n    </tr>\n  </tbody>\n</table>\n</div>"
     },
     "metadata": {},
     "execution_count": 399
    }
   ],
   "source": [
    "df_covid19_data.head()\n"
   ]
  },
  {
   "cell_type": "raw",
   "id": "strong-third",
   "metadata": {},
   "source": [
    "B. COVID-19 Aggregated Dataset"
   ]
  },
  {
   "cell_type": "code",
   "execution_count": 400,
   "id": "imported-nation",
   "metadata": {},
   "outputs": [
    {
     "output_type": "execute_result",
     "data": {
      "text/plain": [
       "  iso_code continent     location        date  total_cases  new_cases  \\\n",
       "0      AFG      Asia  Afghanistan  2020-02-24          1.0        1.0   \n",
       "1      AFG      Asia  Afghanistan  2020-02-25          1.0        0.0   \n",
       "2      AFG      Asia  Afghanistan  2020-02-26          1.0        0.0   \n",
       "3      AFG      Asia  Afghanistan  2020-02-27          1.0        0.0   \n",
       "4      AFG      Asia  Afghanistan  2020-02-28          1.0        0.0   \n",
       "\n",
       "   new_cases_smoothed  total_deaths  new_deaths  new_deaths_smoothed  ...  \\\n",
       "0                 NaN           NaN         NaN                  NaN  ...   \n",
       "1                 NaN           NaN         NaN                  NaN  ...   \n",
       "2                 NaN           NaN         NaN                  NaN  ...   \n",
       "3                 NaN           NaN         NaN                  NaN  ...   \n",
       "4                 NaN           NaN         NaN                  NaN  ...   \n",
       "\n",
       "   gdp_per_capita  extreme_poverty  cardiovasc_death_rate  \\\n",
       "0        1803.987              NaN                597.029   \n",
       "1        1803.987              NaN                597.029   \n",
       "2        1803.987              NaN                597.029   \n",
       "3        1803.987              NaN                597.029   \n",
       "4        1803.987              NaN                597.029   \n",
       "\n",
       "   diabetes_prevalence  female_smokers  male_smokers  handwashing_facilities  \\\n",
       "0                 9.59             NaN           NaN                  37.746   \n",
       "1                 9.59             NaN           NaN                  37.746   \n",
       "2                 9.59             NaN           NaN                  37.746   \n",
       "3                 9.59             NaN           NaN                  37.746   \n",
       "4                 9.59             NaN           NaN                  37.746   \n",
       "\n",
       "   hospital_beds_per_thousand  life_expectancy  human_development_index  \n",
       "0                         0.5            64.83                    0.498  \n",
       "1                         0.5            64.83                    0.498  \n",
       "2                         0.5            64.83                    0.498  \n",
       "3                         0.5            64.83                    0.498  \n",
       "4                         0.5            64.83                    0.498  \n",
       "\n",
       "[5 rows x 55 columns]"
      ],
      "text/html": "<div>\n<style scoped>\n    .dataframe tbody tr th:only-of-type {\n        vertical-align: middle;\n    }\n\n    .dataframe tbody tr th {\n        vertical-align: top;\n    }\n\n    .dataframe thead th {\n        text-align: right;\n    }\n</style>\n<table border=\"1\" class=\"dataframe\">\n  <thead>\n    <tr style=\"text-align: right;\">\n      <th></th>\n      <th>iso_code</th>\n      <th>continent</th>\n      <th>location</th>\n      <th>date</th>\n      <th>total_cases</th>\n      <th>new_cases</th>\n      <th>new_cases_smoothed</th>\n      <th>total_deaths</th>\n      <th>new_deaths</th>\n      <th>new_deaths_smoothed</th>\n      <th>...</th>\n      <th>gdp_per_capita</th>\n      <th>extreme_poverty</th>\n      <th>cardiovasc_death_rate</th>\n      <th>diabetes_prevalence</th>\n      <th>female_smokers</th>\n      <th>male_smokers</th>\n      <th>handwashing_facilities</th>\n      <th>hospital_beds_per_thousand</th>\n      <th>life_expectancy</th>\n      <th>human_development_index</th>\n    </tr>\n  </thead>\n  <tbody>\n    <tr>\n      <th>0</th>\n      <td>AFG</td>\n      <td>Asia</td>\n      <td>Afghanistan</td>\n      <td>2020-02-24</td>\n      <td>1.0</td>\n      <td>1.0</td>\n      <td>NaN</td>\n      <td>NaN</td>\n      <td>NaN</td>\n      <td>NaN</td>\n      <td>...</td>\n      <td>1803.987</td>\n      <td>NaN</td>\n      <td>597.029</td>\n      <td>9.59</td>\n      <td>NaN</td>\n      <td>NaN</td>\n      <td>37.746</td>\n      <td>0.5</td>\n      <td>64.83</td>\n      <td>0.498</td>\n    </tr>\n    <tr>\n      <th>1</th>\n      <td>AFG</td>\n      <td>Asia</td>\n      <td>Afghanistan</td>\n      <td>2020-02-25</td>\n      <td>1.0</td>\n      <td>0.0</td>\n      <td>NaN</td>\n      <td>NaN</td>\n      <td>NaN</td>\n      <td>NaN</td>\n      <td>...</td>\n      <td>1803.987</td>\n      <td>NaN</td>\n      <td>597.029</td>\n      <td>9.59</td>\n      <td>NaN</td>\n      <td>NaN</td>\n      <td>37.746</td>\n      <td>0.5</td>\n      <td>64.83</td>\n      <td>0.498</td>\n    </tr>\n    <tr>\n      <th>2</th>\n      <td>AFG</td>\n      <td>Asia</td>\n      <td>Afghanistan</td>\n      <td>2020-02-26</td>\n      <td>1.0</td>\n      <td>0.0</td>\n      <td>NaN</td>\n      <td>NaN</td>\n      <td>NaN</td>\n      <td>NaN</td>\n      <td>...</td>\n      <td>1803.987</td>\n      <td>NaN</td>\n      <td>597.029</td>\n      <td>9.59</td>\n      <td>NaN</td>\n      <td>NaN</td>\n      <td>37.746</td>\n      <td>0.5</td>\n      <td>64.83</td>\n      <td>0.498</td>\n    </tr>\n    <tr>\n      <th>3</th>\n      <td>AFG</td>\n      <td>Asia</td>\n      <td>Afghanistan</td>\n      <td>2020-02-27</td>\n      <td>1.0</td>\n      <td>0.0</td>\n      <td>NaN</td>\n      <td>NaN</td>\n      <td>NaN</td>\n      <td>NaN</td>\n      <td>...</td>\n      <td>1803.987</td>\n      <td>NaN</td>\n      <td>597.029</td>\n      <td>9.59</td>\n      <td>NaN</td>\n      <td>NaN</td>\n      <td>37.746</td>\n      <td>0.5</td>\n      <td>64.83</td>\n      <td>0.498</td>\n    </tr>\n    <tr>\n      <th>4</th>\n      <td>AFG</td>\n      <td>Asia</td>\n      <td>Afghanistan</td>\n      <td>2020-02-28</td>\n      <td>1.0</td>\n      <td>0.0</td>\n      <td>NaN</td>\n      <td>NaN</td>\n      <td>NaN</td>\n      <td>NaN</td>\n      <td>...</td>\n      <td>1803.987</td>\n      <td>NaN</td>\n      <td>597.029</td>\n      <td>9.59</td>\n      <td>NaN</td>\n      <td>NaN</td>\n      <td>37.746</td>\n      <td>0.5</td>\n      <td>64.83</td>\n      <td>0.498</td>\n    </tr>\n  </tbody>\n</table>\n<p>5 rows × 55 columns</p>\n</div>"
     },
     "metadata": {},
     "execution_count": 400
    }
   ],
   "source": [
    "df_aggr_covid19_data.head()"
   ]
  },
  {
   "cell_type": "raw",
   "id": "major-equilibrium",
   "metadata": {},
   "source": [
    "C. Unemployment Dataset"
   ]
  },
  {
   "cell_type": "code",
   "execution_count": 401,
   "id": "sexual-russian",
   "metadata": {},
   "outputs": [
    {
     "output_type": "execute_result",
     "data": {
      "text/plain": [
       "   Month  Country  Unemployment_Rate_Percent\n",
       "0      1  Germany                        3.4\n",
       "1      2  Germany                        3.6\n",
       "2      3  Germany                        3.8\n",
       "3      4  Germany                        4.0\n",
       "4      5  Germany                        4.2"
      ],
      "text/html": "<div>\n<style scoped>\n    .dataframe tbody tr th:only-of-type {\n        vertical-align: middle;\n    }\n\n    .dataframe tbody tr th {\n        vertical-align: top;\n    }\n\n    .dataframe thead th {\n        text-align: right;\n    }\n</style>\n<table border=\"1\" class=\"dataframe\">\n  <thead>\n    <tr style=\"text-align: right;\">\n      <th></th>\n      <th>Month</th>\n      <th>Country</th>\n      <th>Unemployment_Rate_Percent</th>\n    </tr>\n  </thead>\n  <tbody>\n    <tr>\n      <th>0</th>\n      <td>1</td>\n      <td>Germany</td>\n      <td>3.4</td>\n    </tr>\n    <tr>\n      <th>1</th>\n      <td>2</td>\n      <td>Germany</td>\n      <td>3.6</td>\n    </tr>\n    <tr>\n      <th>2</th>\n      <td>3</td>\n      <td>Germany</td>\n      <td>3.8</td>\n    </tr>\n    <tr>\n      <th>3</th>\n      <td>4</td>\n      <td>Germany</td>\n      <td>4.0</td>\n    </tr>\n    <tr>\n      <th>4</th>\n      <td>5</td>\n      <td>Germany</td>\n      <td>4.2</td>\n    </tr>\n  </tbody>\n</table>\n</div>"
     },
     "metadata": {},
     "execution_count": 401
    }
   ],
   "source": [
    "df_unemployment.head()"
   ]
  },
  {
   "cell_type": "raw",
   "id": "exempt-optimization",
   "metadata": {},
   "source": [
    "D. Consumer Price Index, Import Price Index, Export Price Index of Germany Dataset"
   ]
  },
  {
   "cell_type": "code",
   "execution_count": 402,
   "id": "liquid-lender",
   "metadata": {},
   "outputs": [
    {
     "output_type": "execute_result",
     "data": {
      "text/plain": [
       "   Year    Months import_prices_index Change on previous month in(%)  \\\n",
       "0  2019   January               102.2                           -0.2   \n",
       "1  2019  February               102.5                            0.3   \n",
       "2  2019     March               102.5                              -   \n",
       "3  2019     April               102.8                            0.3   \n",
       "4  2019       May               102.7                           -0.1   \n",
       "\n",
       "  Change on previous year's month in(%) export_prices_index  \\\n",
       "0                                   0.8               102.2   \n",
       "1                                   1.6               102.3   \n",
       "2                                   1.7               102.4   \n",
       "3                                   1.4               102.6   \n",
       "4                                  -0.2               102.5   \n",
       "\n",
       "  Change on previous month in(%).1 Change on previous year's month in(%).1  \\\n",
       "0                              0.1                                     1.1   \n",
       "1                              0.1                                     1.3   \n",
       "2                              0.1                                     1.3   \n",
       "3                              0.2                                     1.3   \n",
       "4                             -0.1                                     0.7   \n",
       "\n",
       "   Consumer price index Change on previous year's month in(%).2  \\\n",
       "0                 103.4                                     1.4   \n",
       "1                 103.8                                     1.5   \n",
       "2                 104.2                                     1.3   \n",
       "3                 105.2                                       2   \n",
       "4                 105.4                                     1.4   \n",
       "\n",
       "  Change on previous month in(%).2  \n",
       "0                             -0.8  \n",
       "1                              0.4  \n",
       "2                              0.4  \n",
       "3                                1  \n",
       "4                              0.2  "
      ],
      "text/html": "<div>\n<style scoped>\n    .dataframe tbody tr th:only-of-type {\n        vertical-align: middle;\n    }\n\n    .dataframe tbody tr th {\n        vertical-align: top;\n    }\n\n    .dataframe thead th {\n        text-align: right;\n    }\n</style>\n<table border=\"1\" class=\"dataframe\">\n  <thead>\n    <tr style=\"text-align: right;\">\n      <th></th>\n      <th>Year</th>\n      <th>Months</th>\n      <th>import_prices_index</th>\n      <th>Change on previous month in(%)</th>\n      <th>Change on previous year's month in(%)</th>\n      <th>export_prices_index</th>\n      <th>Change on previous month in(%).1</th>\n      <th>Change on previous year's month in(%).1</th>\n      <th>Consumer price index</th>\n      <th>Change on previous year's month in(%).2</th>\n      <th>Change on previous month in(%).2</th>\n    </tr>\n  </thead>\n  <tbody>\n    <tr>\n      <th>0</th>\n      <td>2019</td>\n      <td>January</td>\n      <td>102.2</td>\n      <td>-0.2</td>\n      <td>0.8</td>\n      <td>102.2</td>\n      <td>0.1</td>\n      <td>1.1</td>\n      <td>103.4</td>\n      <td>1.4</td>\n      <td>-0.8</td>\n    </tr>\n    <tr>\n      <th>1</th>\n      <td>2019</td>\n      <td>February</td>\n      <td>102.5</td>\n      <td>0.3</td>\n      <td>1.6</td>\n      <td>102.3</td>\n      <td>0.1</td>\n      <td>1.3</td>\n      <td>103.8</td>\n      <td>1.5</td>\n      <td>0.4</td>\n    </tr>\n    <tr>\n      <th>2</th>\n      <td>2019</td>\n      <td>March</td>\n      <td>102.5</td>\n      <td>-</td>\n      <td>1.7</td>\n      <td>102.4</td>\n      <td>0.1</td>\n      <td>1.3</td>\n      <td>104.2</td>\n      <td>1.3</td>\n      <td>0.4</td>\n    </tr>\n    <tr>\n      <th>3</th>\n      <td>2019</td>\n      <td>April</td>\n      <td>102.8</td>\n      <td>0.3</td>\n      <td>1.4</td>\n      <td>102.6</td>\n      <td>0.2</td>\n      <td>1.3</td>\n      <td>105.2</td>\n      <td>2</td>\n      <td>1</td>\n    </tr>\n    <tr>\n      <th>4</th>\n      <td>2019</td>\n      <td>May</td>\n      <td>102.7</td>\n      <td>-0.1</td>\n      <td>-0.2</td>\n      <td>102.5</td>\n      <td>-0.1</td>\n      <td>0.7</td>\n      <td>105.4</td>\n      <td>1.4</td>\n      <td>0.2</td>\n    </tr>\n  </tbody>\n</table>\n</div>"
     },
     "metadata": {},
     "execution_count": 402
    }
   ],
   "source": [
    "df_CPI_Import_Export_Aggr.head()"
   ]
  },
  {
   "cell_type": "raw",
   "id": "lined-plane",
   "metadata": {},
   "source": [
    "II)Dropping all rows except the rows that include Country: Germany, India, Italy, USA, UK and China \n",
    "\n",
    "Dataset: Aggregated COVID-19 \n",
    "Function: Drop()\n",
    "\n",
    "(Selected based on : High COVID Cases ; Large Economies ; Developed Vs Developing Countries; Continental differentiation)"
   ]
  },
  {
   "cell_type": "code",
   "execution_count": 403,
   "id": "framed-coating",
   "metadata": {},
   "outputs": [
    {
     "output_type": "execute_result",
     "data": {
      "text/plain": [
       "      iso_code continent location        date  total_cases  new_cases  \\\n",
       "11542      CHN      Asia    China  2020-01-22        548.0        NaN   \n",
       "11543      CHN      Asia    China  2020-01-23        643.0       95.0   \n",
       "11544      CHN      Asia    China  2020-01-24        920.0      277.0   \n",
       "11545      CHN      Asia    China  2020-01-25       1406.0      486.0   \n",
       "11546      CHN      Asia    China  2020-01-26       2075.0      669.0   \n",
       "\n",
       "       new_cases_smoothed  total_deaths  new_deaths  new_deaths_smoothed  ...  \\\n",
       "11542                 NaN          17.0         NaN                  NaN  ...   \n",
       "11543                 NaN          18.0         1.0                  NaN  ...   \n",
       "11544                 NaN          26.0         8.0                  NaN  ...   \n",
       "11545                 NaN          42.0        16.0                  NaN  ...   \n",
       "11546                 NaN          56.0        14.0                  NaN  ...   \n",
       "\n",
       "       gdp_per_capita  extreme_poverty  cardiovasc_death_rate  \\\n",
       "11542       15308.712              0.7                261.899   \n",
       "11543       15308.712              0.7                261.899   \n",
       "11544       15308.712              0.7                261.899   \n",
       "11545       15308.712              0.7                261.899   \n",
       "11546       15308.712              0.7                261.899   \n",
       "\n",
       "       diabetes_prevalence  female_smokers  male_smokers  \\\n",
       "11542                 9.74             1.9          48.4   \n",
       "11543                 9.74             1.9          48.4   \n",
       "11544                 9.74             1.9          48.4   \n",
       "11545                 9.74             1.9          48.4   \n",
       "11546                 9.74             1.9          48.4   \n",
       "\n",
       "       handwashing_facilities  hospital_beds_per_thousand  life_expectancy  \\\n",
       "11542                     NaN                        4.34            76.91   \n",
       "11543                     NaN                        4.34            76.91   \n",
       "11544                     NaN                        4.34            76.91   \n",
       "11545                     NaN                        4.34            76.91   \n",
       "11546                     NaN                        4.34            76.91   \n",
       "\n",
       "       human_development_index  \n",
       "11542                    0.752  \n",
       "11543                    0.752  \n",
       "11544                    0.752  \n",
       "11545                    0.752  \n",
       "11546                    0.752  \n",
       "\n",
       "[5 rows x 55 columns]"
      ],
      "text/html": "<div>\n<style scoped>\n    .dataframe tbody tr th:only-of-type {\n        vertical-align: middle;\n    }\n\n    .dataframe tbody tr th {\n        vertical-align: top;\n    }\n\n    .dataframe thead th {\n        text-align: right;\n    }\n</style>\n<table border=\"1\" class=\"dataframe\">\n  <thead>\n    <tr style=\"text-align: right;\">\n      <th></th>\n      <th>iso_code</th>\n      <th>continent</th>\n      <th>location</th>\n      <th>date</th>\n      <th>total_cases</th>\n      <th>new_cases</th>\n      <th>new_cases_smoothed</th>\n      <th>total_deaths</th>\n      <th>new_deaths</th>\n      <th>new_deaths_smoothed</th>\n      <th>...</th>\n      <th>gdp_per_capita</th>\n      <th>extreme_poverty</th>\n      <th>cardiovasc_death_rate</th>\n      <th>diabetes_prevalence</th>\n      <th>female_smokers</th>\n      <th>male_smokers</th>\n      <th>handwashing_facilities</th>\n      <th>hospital_beds_per_thousand</th>\n      <th>life_expectancy</th>\n      <th>human_development_index</th>\n    </tr>\n  </thead>\n  <tbody>\n    <tr>\n      <th>11542</th>\n      <td>CHN</td>\n      <td>Asia</td>\n      <td>China</td>\n      <td>2020-01-22</td>\n      <td>548.0</td>\n      <td>NaN</td>\n      <td>NaN</td>\n      <td>17.0</td>\n      <td>NaN</td>\n      <td>NaN</td>\n      <td>...</td>\n      <td>15308.712</td>\n      <td>0.7</td>\n      <td>261.899</td>\n      <td>9.74</td>\n      <td>1.9</td>\n      <td>48.4</td>\n      <td>NaN</td>\n      <td>4.34</td>\n      <td>76.91</td>\n      <td>0.752</td>\n    </tr>\n    <tr>\n      <th>11543</th>\n      <td>CHN</td>\n      <td>Asia</td>\n      <td>China</td>\n      <td>2020-01-23</td>\n      <td>643.0</td>\n      <td>95.0</td>\n      <td>NaN</td>\n      <td>18.0</td>\n      <td>1.0</td>\n      <td>NaN</td>\n      <td>...</td>\n      <td>15308.712</td>\n      <td>0.7</td>\n      <td>261.899</td>\n      <td>9.74</td>\n      <td>1.9</td>\n      <td>48.4</td>\n      <td>NaN</td>\n      <td>4.34</td>\n      <td>76.91</td>\n      <td>0.752</td>\n    </tr>\n    <tr>\n      <th>11544</th>\n      <td>CHN</td>\n      <td>Asia</td>\n      <td>China</td>\n      <td>2020-01-24</td>\n      <td>920.0</td>\n      <td>277.0</td>\n      <td>NaN</td>\n      <td>26.0</td>\n      <td>8.0</td>\n      <td>NaN</td>\n      <td>...</td>\n      <td>15308.712</td>\n      <td>0.7</td>\n      <td>261.899</td>\n      <td>9.74</td>\n      <td>1.9</td>\n      <td>48.4</td>\n      <td>NaN</td>\n      <td>4.34</td>\n      <td>76.91</td>\n      <td>0.752</td>\n    </tr>\n    <tr>\n      <th>11545</th>\n      <td>CHN</td>\n      <td>Asia</td>\n      <td>China</td>\n      <td>2020-01-25</td>\n      <td>1406.0</td>\n      <td>486.0</td>\n      <td>NaN</td>\n      <td>42.0</td>\n      <td>16.0</td>\n      <td>NaN</td>\n      <td>...</td>\n      <td>15308.712</td>\n      <td>0.7</td>\n      <td>261.899</td>\n      <td>9.74</td>\n      <td>1.9</td>\n      <td>48.4</td>\n      <td>NaN</td>\n      <td>4.34</td>\n      <td>76.91</td>\n      <td>0.752</td>\n    </tr>\n    <tr>\n      <th>11546</th>\n      <td>CHN</td>\n      <td>Asia</td>\n      <td>China</td>\n      <td>2020-01-26</td>\n      <td>2075.0</td>\n      <td>669.0</td>\n      <td>NaN</td>\n      <td>56.0</td>\n      <td>14.0</td>\n      <td>NaN</td>\n      <td>...</td>\n      <td>15308.712</td>\n      <td>0.7</td>\n      <td>261.899</td>\n      <td>9.74</td>\n      <td>1.9</td>\n      <td>48.4</td>\n      <td>NaN</td>\n      <td>4.34</td>\n      <td>76.91</td>\n      <td>0.752</td>\n    </tr>\n  </tbody>\n</table>\n<p>5 rows × 55 columns</p>\n</div>"
     },
     "metadata": {},
     "execution_count": 403
    }
   ],
   "source": [
    "df_aggr_covid19_data=df_aggr_covid19_data.drop(df_aggr_covid19_data.index[df_aggr_covid19_data[\"location\"] != 'Germany']\n",
    "                          & df_aggr_covid19_data.index[df_aggr_covid19_data[\"location\"] != 'India']  \n",
    "                          & df_aggr_covid19_data.index[df_aggr_covid19_data[\"location\"] != 'China'] \n",
    "                          & df_aggr_covid19_data.index[df_aggr_covid19_data[\"location\"] != 'Italy']\n",
    "                          & df_aggr_covid19_data.index[df_aggr_covid19_data[\"location\"] != 'United States'] \n",
    "                          & df_aggr_covid19_data.index[df_aggr_covid19_data[\"location\"] != 'United Kingdom']) \n",
    "df_aggr_covid19_data.head()"
   ]
  },
  {
   "cell_type": "raw",
   "id": "endangered-flour",
   "metadata": {},
   "source": [
    "3) Selecting rows that are within the range 1st January 2020 - 31st December 2020\n",
    "\n",
    "Dataset: Aggregated COVID-19 \n",
    "Function: Parsing the date into day,month and year coulmn\n",
    "\n",
    "(Selected based on: COVID-19 Rise from 2020 Start worldwide)"
   ]
  },
  {
   "cell_type": "code",
   "execution_count": 404,
   "id": "cordless-religion",
   "metadata": {},
   "outputs": [
    {
     "output_type": "stream",
     "name": "stdout",
     "text": [
      "            location  total_cases\n11542          China        548.0\n11543          China        643.0\n11544          China        920.0\n11545          China       1406.0\n11546          China       2075.0\n...              ...          ...\n59221  United States   24654566.0\n59222  United States   24844600.0\n59223  United States   25014756.0\n59224  United States   25145947.0\n59225  United States   25297059.0\n\n[2189 rows x 2 columns]\n"
     ]
    }
   ],
   "source": [
    "#Using a boolean mask:\n",
    "\n",
    "df_aggr_covid19_data['date'] = pd.to_datetime(df_aggr_covid19_data['date']) \n",
    "mask = (df_aggr_covid19_data['date'] > '2020-1-1') & (df_aggr_covid19_data['date'] <= '2020-12-31')\n",
    "df_aggr_covid19_data.loc[mask]\n",
    "df_aggr_covid19_data.head()\n",
    "print (df_aggr_covid19_data[['location','total_cases']])\n",
    "\n",
    "\n",
    "\n",
    "\n",
    "\n",
    "\n",
    "#Ensure df['Date'] is a Series with dtype datetime64[ns]:\n",
    "#df_aggr_covid19_data['date'] = pd.to_datetime(df_aggr_covid19_data['date']) \n",
    "\n",
    "#Set the date column as a DatetimeIndex, then use df[start_date : end_date]\n",
    "#mask = (df_aggr_covid19_data['date'] > '2020-1-1') & (df_aggr_covid19_data['date'] <= '2020-12-31')\n",
    "#df_aggr_covid19_data=df_aggr_covid19_data.loc[mask]\n",
    "#Select the sub-DataFrame:df.loc[mask]\n",
    "#print(df_aggr_covid19_data.loc[mask])\n",
    "#df_aggr_covid19_data.head()"
   ]
  },
  {
   "cell_type": "raw",
   "id": "phantom-thursday",
   "metadata": {},
   "source": [
    "4) \n",
    "\n",
    "i)Extracting the month and year from date as seperate columns\n",
    "\n",
    "ii)Using group by function to group values by only those values that are within the date range and countries specefied.\n",
    "Using the sum() function to calculate the summation of total cases per month within a country. (Monthly new cases)\n",
    "\n",
    "Dataset: Aggregated COVID-19 \n",
    "Function: groupBy() , sum()"
   ]
  },
  {
   "cell_type": "code",
   "execution_count": 405,
   "id": "assumed-hamburg",
   "metadata": {},
   "outputs": [
    {
     "output_type": "stream",
     "name": "stdout",
     "text": [
      "    year        location  month  Monthly_new_cases  Monthly_total_cases\n0   2020           China      1             9254.0               9802.0\n1   2020           China      2            69554.0              79356.0\n2   2020           China      3             2923.0              82279.0\n3   2020           China      4             1677.0              83956.0\n4   2020           China      5              190.0              84146.0\n..   ...             ...    ...                ...                  ...\n73  2021         Germany      1           394136.0            2154656.0\n74  2021           India      1           410164.0           10676838.0\n75  2021           Italy      1           368206.0            2475372.0\n76  2021  United Kingdom      1          1183870.0            3680101.0\n77  2021   United States      1          5236464.0           25297059.0\n\n[78 rows x 5 columns]\n"
     ]
    }
   ],
   "source": [
    "df_aggr_covid19_data['month'] = df_aggr_covid19_data['date'].dt.month\n",
    "\n",
    "df_aggr_covid19_data['year'] = df_aggr_covid19_data['date'].dt.year\n",
    "\n",
    "#df_aggr_covid19_data=df_aggr_covid19_data.groupby(['year','location','month'])['new_cases'].sum().to_frame(name = 'Monthly_new_cases').reset_index()\n",
    "\n",
    "\n",
    "df_NEW_aggr_covid19_data=df_aggr_covid19_data.groupby(['year','location','month'])['new_cases'].sum().to_frame(name = 'Monthly_new_cases').reset_index()\n",
    "\n",
    "def last(df):\n",
    "    return df['total_cases'].iloc[[-1]]\n",
    "\n",
    "df_NEW_aggr_covid19_data['Monthly_total_cases']= df_aggr_covid19_data.groupby(['year','location','month']).apply(last).reset_index()['total_cases']\n",
    "\n",
    "df_aggr_covid19_data=df_NEW_aggr_covid19_data\n",
    "\n",
    "print (df_aggr_covid19_data)"
   ]
  },
  {
   "cell_type": "raw",
   "id": "turkish-venice",
   "metadata": {},
   "source": [
    "5)Introducing 'Monthly_new_cases' and 'PG_Rate/Percentage Growth Rate' coulmns to the DataFrame\n",
    " \n",
    "    - Monthly_new_cases: Represents the total number of new covid cases that rose within a month for a particuar country.\n",
    "    - PG_Rate/Percentage Growth Rate: Stores the Monthly Growth Rate in COVID Cases within that rose within a month for a particuar country.\n",
    "    \n",
    "    Following formula has been used for calculating the percentage:-\n",
    "    \n",
    "    - df['Percentage Growth Rate']=   df['Monthly_new_cases'] / df['Monthly_new_cases'].shift(1) * 100 -100\n",
    "    - df['PG_Rate']= (df['Monthly_new_cases'] - df['Monthly_new_cases'].shift(1)) * 100/ df['Monthly_new_cases'].shift(1)\n",
    "                 \n",
    "      *** For e.g Percentage Growth Rate : Total cases in feb - Total cases in jan) * 100 / Total cases in Jan\n",
    "                 \n",
    "    _Monthly_new_cases = Storing the total number of cases in the next month (For e.g February in China)_\n",
    "    _['Monthly_new_cases'].shift(1) = Storing the total number of cases in the previous month (For e.g January in China)_\n",
    "    \n",
    "    Dataset: Aggregated COVID-19 \n",
    "    Function: Computing the Percentage Growth of COVID-19 cases"
   ]
  },
  {
   "cell_type": "code",
   "execution_count": 406,
   "id": "declared-costs",
   "metadata": {},
   "outputs": [
    {
     "output_type": "execute_result",
     "data": {
      "text/plain": [
       "   year location  month  Monthly_new_cases  Monthly_total_cases  \\\n",
       "0  2020    China      1             9254.0               9802.0   \n",
       "1  2020    China      2            69554.0              79356.0   \n",
       "2  2020    China      3             2923.0              82279.0   \n",
       "3  2020    China      4             1677.0              83956.0   \n",
       "4  2020    China      5              190.0              84146.0   \n",
       "\n",
       "   Percentage Growth Rate     PG_Rate  \n",
       "0                     NaN         NaN  \n",
       "1              651.610115  651.610115  \n",
       "2              -95.797510  -95.797510  \n",
       "3              -42.627438  -42.627438  \n",
       "4              -88.670244  -88.670244  "
      ],
      "text/html": "<div>\n<style scoped>\n    .dataframe tbody tr th:only-of-type {\n        vertical-align: middle;\n    }\n\n    .dataframe tbody tr th {\n        vertical-align: top;\n    }\n\n    .dataframe thead th {\n        text-align: right;\n    }\n</style>\n<table border=\"1\" class=\"dataframe\">\n  <thead>\n    <tr style=\"text-align: right;\">\n      <th></th>\n      <th>year</th>\n      <th>location</th>\n      <th>month</th>\n      <th>Monthly_new_cases</th>\n      <th>Monthly_total_cases</th>\n      <th>Percentage Growth Rate</th>\n      <th>PG_Rate</th>\n    </tr>\n  </thead>\n  <tbody>\n    <tr>\n      <th>0</th>\n      <td>2020</td>\n      <td>China</td>\n      <td>1</td>\n      <td>9254.0</td>\n      <td>9802.0</td>\n      <td>NaN</td>\n      <td>NaN</td>\n    </tr>\n    <tr>\n      <th>1</th>\n      <td>2020</td>\n      <td>China</td>\n      <td>2</td>\n      <td>69554.0</td>\n      <td>79356.0</td>\n      <td>651.610115</td>\n      <td>651.610115</td>\n    </tr>\n    <tr>\n      <th>2</th>\n      <td>2020</td>\n      <td>China</td>\n      <td>3</td>\n      <td>2923.0</td>\n      <td>82279.0</td>\n      <td>-95.797510</td>\n      <td>-95.797510</td>\n    </tr>\n    <tr>\n      <th>3</th>\n      <td>2020</td>\n      <td>China</td>\n      <td>4</td>\n      <td>1677.0</td>\n      <td>83956.0</td>\n      <td>-42.627438</td>\n      <td>-42.627438</td>\n    </tr>\n    <tr>\n      <th>4</th>\n      <td>2020</td>\n      <td>China</td>\n      <td>5</td>\n      <td>190.0</td>\n      <td>84146.0</td>\n      <td>-88.670244</td>\n      <td>-88.670244</td>\n    </tr>\n  </tbody>\n</table>\n</div>"
     },
     "metadata": {},
     "execution_count": 406
    }
   ],
   "source": [
    "#df_aggr_covid19_data=df_aggr_covid19_data.groupby(['year','location','month'])['new_cases'].sum().to_frame(name = 'Monthly_new_cases').reset_index()\n",
    "df_aggr_covid19_data['Percentage Growth Rate']= df_aggr_covid19_data['Monthly_new_cases'] / df_aggr_covid19_data['Monthly_new_cases'].shift(1) * 100 -100\n",
    "df_aggr_covid19_data['PG_Rate']= (df_aggr_covid19_data['Monthly_new_cases'] - df_aggr_covid19_data['Monthly_new_cases'].shift(1)) * 100/ df_aggr_covid19_data['Monthly_new_cases'].shift(1)\n",
    "df_aggr_covid19_data.head()\n"
   ]
  },
  {
   "cell_type": "markdown",
   "id": "connected-services",
   "metadata": {},
   "source": [
    "# Data Visulization\n"
   ]
  },
  {
   "cell_type": "raw",
   "id": "favorite-surgery",
   "metadata": {},
   "source": [
    "1) Unemployment Rate (Monthly Basis): Combied bar graph reprsenting the Unemployment Rate on Monthly Basis in the filtered countries. "
   ]
  },
  {
   "cell_type": "code",
   "execution_count": 407,
   "id": "olympic-offense",
   "metadata": {},
   "outputs": [
    {
     "output_type": "stream",
     "name": "stdout",
     "text": [
      "[10.0, 6.0]\n[15.0, 10.0]\n"
     ]
    },
    {
     "output_type": "display_data",
     "data": {
      "text/plain": "<Figure size 720x432 with 1 Axes>",
      "image/svg+xml": "<?xml version=\"1.0\" encoding=\"utf-8\" standalone=\"no\"?>\r\n<!DOCTYPE svg PUBLIC \"-//W3C//DTD SVG 1.1//EN\"\r\n  \"http://www.w3.org/Graphics/SVG/1.1/DTD/svg11.dtd\">\r\n<!-- Created with matplotlib (https://matplotlib.org/) -->\r\n<svg height=\"380.798547pt\" version=\"1.1\" viewBox=\"0 0 594.134062 380.798547\" width=\"594.134062pt\" xmlns=\"http://www.w3.org/2000/svg\" xmlns:xlink=\"http://www.w3.org/1999/xlink\">\r\n <metadata>\r\n  <rdf:RDF xmlns:cc=\"http://creativecommons.org/ns#\" xmlns:dc=\"http://purl.org/dc/elements/1.1/\" xmlns:rdf=\"http://www.w3.org/1999/02/22-rdf-syntax-ns#\">\r\n   <cc:Work>\r\n    <dc:type rdf:resource=\"http://purl.org/dc/dcmitype/StillImage\"/>\r\n    <dc:date>2021-02-14T14:52:36.992980</dc:date>\r\n    <dc:format>image/svg+xml</dc:format>\r\n    <dc:creator>\r\n     <cc:Agent>\r\n      <dc:title>Matplotlib v3.3.4, https://matplotlib.org/</dc:title>\r\n     </cc:Agent>\r\n    </dc:creator>\r\n   </cc:Work>\r\n  </rdf:RDF>\r\n </metadata>\r\n <defs>\r\n  <style type=\"text/css\">*{stroke-linecap:butt;stroke-linejoin:round;}</style>\r\n </defs>\r\n <g id=\"figure_1\">\r\n  <g id=\"patch_1\">\r\n   <path d=\"M 0 380.798547 \r\nL 594.134062 380.798547 \r\nL 594.134062 0 \r\nL 0 0 \r\nz\r\n\" style=\"fill:#ffffff;\"/>\r\n  </g>\r\n  <g id=\"axes_1\">\r\n   <g id=\"patch_2\">\r\n    <path d=\"M 28.934062 333.36 \r\nL 586.934062 333.36 \r\nL 586.934062 7.2 \r\nL 28.934062 7.2 \r\nz\r\n\" style=\"fill:#eaeaf2;\"/>\r\n   </g>\r\n   <g id=\"matplotlib.axis_1\">\r\n    <g id=\"xtick_1\">\r\n     <g id=\"line2d_1\">\r\n      <path clip-path=\"url(#p52b7d154ec)\" d=\"M 52.184062 333.36 \r\nL 52.184062 7.2 \r\n\" style=\"fill:none;stroke:#ffffff;stroke-linecap:round;\"/>\r\n     </g>\r\n     <g id=\"text_1\">\r\n      <!-- 1 -->\r\n      <g style=\"fill:#262626;\" transform=\"translate(52.032145 352.752866)rotate(-45)scale(0.11 -0.11)\">\r\n       <defs>\r\n        <path d=\"M 37.25 0 \r\nL 28.46875 0 \r\nL 28.46875 56 \r\nQ 25.296875 52.984375 20.140625 49.953125 \r\nQ 14.984375 46.921875 10.890625 45.40625 \r\nL 10.890625 53.90625 \r\nQ 18.265625 57.375 23.78125 62.296875 \r\nQ 29.296875 67.234375 31.59375 71.875 \r\nL 37.25 71.875 \r\nz\r\n\" id=\"ArialMT-49\"/>\r\n       </defs>\r\n       <use xlink:href=\"#ArialMT-49\"/>\r\n      </g>\r\n     </g>\r\n    </g>\r\n    <g id=\"xtick_2\">\r\n     <g id=\"line2d_2\">\r\n      <path clip-path=\"url(#p52b7d154ec)\" d=\"M 98.684062 333.36 \r\nL 98.684062 7.2 \r\n\" style=\"fill:none;stroke:#ffffff;stroke-linecap:round;\"/>\r\n     </g>\r\n     <g id=\"text_2\">\r\n      <!-- 2 -->\r\n      <g style=\"fill:#262626;\" transform=\"translate(98.532145 352.752866)rotate(-45)scale(0.11 -0.11)\">\r\n       <defs>\r\n        <path d=\"M 50.34375 8.453125 \r\nL 50.34375 0 \r\nL 3.03125 0 \r\nQ 2.9375 3.171875 4.046875 6.109375 \r\nQ 5.859375 10.9375 9.828125 15.625 \r\nQ 13.8125 20.3125 21.34375 26.46875 \r\nQ 33.015625 36.03125 37.109375 41.625 \r\nQ 41.21875 47.21875 41.21875 52.203125 \r\nQ 41.21875 57.421875 37.46875 61 \r\nQ 33.734375 64.59375 27.734375 64.59375 \r\nQ 21.390625 64.59375 17.578125 60.78125 \r\nQ 13.765625 56.984375 13.71875 50.25 \r\nL 4.6875 51.171875 \r\nQ 5.609375 61.28125 11.65625 66.578125 \r\nQ 17.71875 71.875 27.9375 71.875 \r\nQ 38.234375 71.875 44.234375 66.15625 \r\nQ 50.25 60.453125 50.25 52 \r\nQ 50.25 47.703125 48.484375 43.546875 \r\nQ 46.734375 39.40625 42.65625 34.8125 \r\nQ 38.578125 30.21875 29.109375 22.21875 \r\nQ 21.1875 15.578125 18.9375 13.203125 \r\nQ 16.703125 10.84375 15.234375 8.453125 \r\nz\r\n\" id=\"ArialMT-50\"/>\r\n       </defs>\r\n       <use xlink:href=\"#ArialMT-50\"/>\r\n      </g>\r\n     </g>\r\n    </g>\r\n    <g id=\"xtick_3\">\r\n     <g id=\"line2d_3\">\r\n      <path clip-path=\"url(#p52b7d154ec)\" d=\"M 145.184062 333.36 \r\nL 145.184062 7.2 \r\n\" style=\"fill:none;stroke:#ffffff;stroke-linecap:round;\"/>\r\n     </g>\r\n     <g id=\"text_3\">\r\n      <!-- 3 -->\r\n      <g style=\"fill:#262626;\" transform=\"translate(145.032145 352.752866)rotate(-45)scale(0.11 -0.11)\">\r\n       <defs>\r\n        <path d=\"M 4.203125 18.890625 \r\nL 12.984375 20.0625 \r\nQ 14.5 12.59375 18.140625 9.296875 \r\nQ 21.78125 6 27 6 \r\nQ 33.203125 6 37.46875 10.296875 \r\nQ 41.75 14.59375 41.75 20.953125 \r\nQ 41.75 27 37.796875 30.921875 \r\nQ 33.84375 34.859375 27.734375 34.859375 \r\nQ 25.25 34.859375 21.53125 33.890625 \r\nL 22.515625 41.609375 \r\nQ 23.390625 41.5 23.921875 41.5 \r\nQ 29.546875 41.5 34.03125 44.421875 \r\nQ 38.53125 47.359375 38.53125 53.46875 \r\nQ 38.53125 58.296875 35.25 61.46875 \r\nQ 31.984375 64.65625 26.8125 64.65625 \r\nQ 21.6875 64.65625 18.265625 61.421875 \r\nQ 14.84375 58.203125 13.875 51.765625 \r\nL 5.078125 53.328125 \r\nQ 6.6875 62.15625 12.390625 67.015625 \r\nQ 18.109375 71.875 26.609375 71.875 \r\nQ 32.46875 71.875 37.390625 69.359375 \r\nQ 42.328125 66.84375 44.9375 62.5 \r\nQ 47.5625 58.15625 47.5625 53.265625 \r\nQ 47.5625 48.640625 45.0625 44.828125 \r\nQ 42.578125 41.015625 37.703125 38.765625 \r\nQ 44.046875 37.3125 47.5625 32.6875 \r\nQ 51.078125 28.078125 51.078125 21.140625 \r\nQ 51.078125 11.765625 44.234375 5.25 \r\nQ 37.40625 -1.265625 26.953125 -1.265625 \r\nQ 17.53125 -1.265625 11.296875 4.34375 \r\nQ 5.078125 9.96875 4.203125 18.890625 \r\nz\r\n\" id=\"ArialMT-51\"/>\r\n       </defs>\r\n       <use xlink:href=\"#ArialMT-51\"/>\r\n      </g>\r\n     </g>\r\n    </g>\r\n    <g id=\"xtick_4\">\r\n     <g id=\"line2d_4\">\r\n      <path clip-path=\"url(#p52b7d154ec)\" d=\"M 191.684062 333.36 \r\nL 191.684062 7.2 \r\n\" style=\"fill:none;stroke:#ffffff;stroke-linecap:round;\"/>\r\n     </g>\r\n     <g id=\"text_4\">\r\n      <!-- 4 -->\r\n      <g style=\"fill:#262626;\" transform=\"translate(191.532145 352.752866)rotate(-45)scale(0.11 -0.11)\">\r\n       <defs>\r\n        <path d=\"M 32.328125 0 \r\nL 32.328125 17.140625 \r\nL 1.265625 17.140625 \r\nL 1.265625 25.203125 \r\nL 33.9375 71.578125 \r\nL 41.109375 71.578125 \r\nL 41.109375 25.203125 \r\nL 50.78125 25.203125 \r\nL 50.78125 17.140625 \r\nL 41.109375 17.140625 \r\nL 41.109375 0 \r\nz\r\nM 32.328125 25.203125 \r\nL 32.328125 57.46875 \r\nL 9.90625 25.203125 \r\nz\r\n\" id=\"ArialMT-52\"/>\r\n       </defs>\r\n       <use xlink:href=\"#ArialMT-52\"/>\r\n      </g>\r\n     </g>\r\n    </g>\r\n    <g id=\"xtick_5\">\r\n     <g id=\"line2d_5\">\r\n      <path clip-path=\"url(#p52b7d154ec)\" d=\"M 238.184062 333.36 \r\nL 238.184062 7.2 \r\n\" style=\"fill:none;stroke:#ffffff;stroke-linecap:round;\"/>\r\n     </g>\r\n     <g id=\"text_5\">\r\n      <!-- 5 -->\r\n      <g style=\"fill:#262626;\" transform=\"translate(238.032145 352.752866)rotate(-45)scale(0.11 -0.11)\">\r\n       <defs>\r\n        <path d=\"M 4.15625 18.75 \r\nL 13.375 19.53125 \r\nQ 14.40625 12.796875 18.140625 9.390625 \r\nQ 21.875 6 27.15625 6 \r\nQ 33.5 6 37.890625 10.78125 \r\nQ 42.28125 15.578125 42.28125 23.484375 \r\nQ 42.28125 31 38.0625 35.34375 \r\nQ 33.84375 39.703125 27 39.703125 \r\nQ 22.75 39.703125 19.328125 37.765625 \r\nQ 15.921875 35.84375 13.96875 32.765625 \r\nL 5.71875 33.84375 \r\nL 12.640625 70.609375 \r\nL 48.25 70.609375 \r\nL 48.25 62.203125 \r\nL 19.671875 62.203125 \r\nL 15.828125 42.96875 \r\nQ 22.265625 47.46875 29.34375 47.46875 \r\nQ 38.71875 47.46875 45.15625 40.96875 \r\nQ 51.609375 34.46875 51.609375 24.265625 \r\nQ 51.609375 14.546875 45.953125 7.46875 \r\nQ 39.0625 -1.21875 27.15625 -1.21875 \r\nQ 17.390625 -1.21875 11.203125 4.25 \r\nQ 5.03125 9.71875 4.15625 18.75 \r\nz\r\n\" id=\"ArialMT-53\"/>\r\n       </defs>\r\n       <use xlink:href=\"#ArialMT-53\"/>\r\n      </g>\r\n     </g>\r\n    </g>\r\n    <g id=\"xtick_6\">\r\n     <g id=\"line2d_6\">\r\n      <path clip-path=\"url(#p52b7d154ec)\" d=\"M 284.684062 333.36 \r\nL 284.684062 7.2 \r\n\" style=\"fill:none;stroke:#ffffff;stroke-linecap:round;\"/>\r\n     </g>\r\n     <g id=\"text_6\">\r\n      <!-- 6 -->\r\n      <g style=\"fill:#262626;\" transform=\"translate(284.532145 352.752866)rotate(-45)scale(0.11 -0.11)\">\r\n       <defs>\r\n        <path d=\"M 49.75 54.046875 \r\nL 41.015625 53.375 \r\nQ 39.84375 58.546875 37.703125 60.890625 \r\nQ 34.125 64.65625 28.90625 64.65625 \r\nQ 24.703125 64.65625 21.53125 62.3125 \r\nQ 17.390625 59.28125 14.984375 53.46875 \r\nQ 12.59375 47.65625 12.5 36.921875 \r\nQ 15.671875 41.75 20.265625 44.09375 \r\nQ 24.859375 46.4375 29.890625 46.4375 \r\nQ 38.671875 46.4375 44.84375 39.96875 \r\nQ 51.03125 33.5 51.03125 23.25 \r\nQ 51.03125 16.5 48.125 10.71875 \r\nQ 45.21875 4.9375 40.140625 1.859375 \r\nQ 35.0625 -1.21875 28.609375 -1.21875 \r\nQ 17.625 -1.21875 10.6875 6.859375 \r\nQ 3.765625 14.9375 3.765625 33.5 \r\nQ 3.765625 54.25 11.421875 63.671875 \r\nQ 18.109375 71.875 29.4375 71.875 \r\nQ 37.890625 71.875 43.28125 67.140625 \r\nQ 48.6875 62.40625 49.75 54.046875 \r\nz\r\nM 13.875 23.1875 \r\nQ 13.875 18.65625 15.796875 14.5 \r\nQ 17.71875 10.359375 21.1875 8.171875 \r\nQ 24.65625 6 28.46875 6 \r\nQ 34.03125 6 38.03125 10.484375 \r\nQ 42.046875 14.984375 42.046875 22.703125 \r\nQ 42.046875 30.125 38.078125 34.390625 \r\nQ 34.125 38.671875 28.125 38.671875 \r\nQ 22.171875 38.671875 18.015625 34.390625 \r\nQ 13.875 30.125 13.875 23.1875 \r\nz\r\n\" id=\"ArialMT-54\"/>\r\n       </defs>\r\n       <use xlink:href=\"#ArialMT-54\"/>\r\n      </g>\r\n     </g>\r\n    </g>\r\n    <g id=\"xtick_7\">\r\n     <g id=\"line2d_7\">\r\n      <path clip-path=\"url(#p52b7d154ec)\" d=\"M 331.184062 333.36 \r\nL 331.184062 7.2 \r\n\" style=\"fill:none;stroke:#ffffff;stroke-linecap:round;\"/>\r\n     </g>\r\n     <g id=\"text_7\">\r\n      <!-- 7 -->\r\n      <g style=\"fill:#262626;\" transform=\"translate(331.032145 352.752866)rotate(-45)scale(0.11 -0.11)\">\r\n       <defs>\r\n        <path d=\"M 4.734375 62.203125 \r\nL 4.734375 70.65625 \r\nL 51.078125 70.65625 \r\nL 51.078125 63.8125 \r\nQ 44.234375 56.546875 37.515625 44.484375 \r\nQ 30.8125 32.421875 27.15625 19.671875 \r\nQ 24.515625 10.6875 23.78125 0 \r\nL 14.75 0 \r\nQ 14.890625 8.453125 18.0625 20.40625 \r\nQ 21.234375 32.375 27.171875 43.484375 \r\nQ 33.109375 54.59375 39.796875 62.203125 \r\nz\r\n\" id=\"ArialMT-55\"/>\r\n       </defs>\r\n       <use xlink:href=\"#ArialMT-55\"/>\r\n      </g>\r\n     </g>\r\n    </g>\r\n    <g id=\"xtick_8\">\r\n     <g id=\"line2d_8\">\r\n      <path clip-path=\"url(#p52b7d154ec)\" d=\"M 377.684062 333.36 \r\nL 377.684062 7.2 \r\n\" style=\"fill:none;stroke:#ffffff;stroke-linecap:round;\"/>\r\n     </g>\r\n     <g id=\"text_8\">\r\n      <!-- 8 -->\r\n      <g style=\"fill:#262626;\" transform=\"translate(377.532145 352.752866)rotate(-45)scale(0.11 -0.11)\">\r\n       <defs>\r\n        <path d=\"M 17.671875 38.8125 \r\nQ 12.203125 40.828125 9.5625 44.53125 \r\nQ 6.9375 48.25 6.9375 53.421875 \r\nQ 6.9375 61.234375 12.546875 66.546875 \r\nQ 18.171875 71.875 27.484375 71.875 \r\nQ 36.859375 71.875 42.578125 66.421875 \r\nQ 48.296875 60.984375 48.296875 53.171875 \r\nQ 48.296875 48.1875 45.671875 44.5 \r\nQ 43.0625 40.828125 37.75 38.8125 \r\nQ 44.34375 36.671875 47.78125 31.875 \r\nQ 51.21875 27.09375 51.21875 20.453125 \r\nQ 51.21875 11.28125 44.71875 5.03125 \r\nQ 38.234375 -1.21875 27.640625 -1.21875 \r\nQ 17.046875 -1.21875 10.546875 5.046875 \r\nQ 4.046875 11.328125 4.046875 20.703125 \r\nQ 4.046875 27.6875 7.59375 32.390625 \r\nQ 11.140625 37.109375 17.671875 38.8125 \r\nz\r\nM 15.921875 53.71875 \r\nQ 15.921875 48.640625 19.1875 45.40625 \r\nQ 22.46875 42.1875 27.6875 42.1875 \r\nQ 32.765625 42.1875 36.015625 45.375 \r\nQ 39.265625 48.578125 39.265625 53.21875 \r\nQ 39.265625 58.0625 35.90625 61.359375 \r\nQ 32.5625 64.65625 27.59375 64.65625 \r\nQ 22.5625 64.65625 19.234375 61.421875 \r\nQ 15.921875 58.203125 15.921875 53.71875 \r\nz\r\nM 13.09375 20.65625 \r\nQ 13.09375 16.890625 14.875 13.375 \r\nQ 16.65625 9.859375 20.171875 7.921875 \r\nQ 23.6875 6 27.734375 6 \r\nQ 34.03125 6 38.125 10.046875 \r\nQ 42.234375 14.109375 42.234375 20.359375 \r\nQ 42.234375 26.703125 38.015625 30.859375 \r\nQ 33.796875 35.015625 27.4375 35.015625 \r\nQ 21.234375 35.015625 17.15625 30.90625 \r\nQ 13.09375 26.8125 13.09375 20.65625 \r\nz\r\n\" id=\"ArialMT-56\"/>\r\n       </defs>\r\n       <use xlink:href=\"#ArialMT-56\"/>\r\n      </g>\r\n     </g>\r\n    </g>\r\n    <g id=\"xtick_9\">\r\n     <g id=\"line2d_9\">\r\n      <path clip-path=\"url(#p52b7d154ec)\" d=\"M 424.184062 333.36 \r\nL 424.184062 7.2 \r\n\" style=\"fill:none;stroke:#ffffff;stroke-linecap:round;\"/>\r\n     </g>\r\n     <g id=\"text_9\">\r\n      <!-- 9 -->\r\n      <g style=\"fill:#262626;\" transform=\"translate(424.032145 352.752866)rotate(-45)scale(0.11 -0.11)\">\r\n       <defs>\r\n        <path d=\"M 5.46875 16.546875 \r\nL 13.921875 17.328125 \r\nQ 14.984375 11.375 18.015625 8.6875 \r\nQ 21.046875 6 25.78125 6 \r\nQ 29.828125 6 32.875 7.859375 \r\nQ 35.9375 9.71875 37.890625 12.8125 \r\nQ 39.84375 15.921875 41.15625 21.1875 \r\nQ 42.484375 26.46875 42.484375 31.9375 \r\nQ 42.484375 32.515625 42.4375 33.6875 \r\nQ 39.796875 29.5 35.234375 26.875 \r\nQ 30.671875 24.265625 25.34375 24.265625 \r\nQ 16.453125 24.265625 10.296875 30.703125 \r\nQ 4.15625 37.15625 4.15625 47.703125 \r\nQ 4.15625 58.59375 10.578125 65.234375 \r\nQ 17 71.875 26.65625 71.875 \r\nQ 33.640625 71.875 39.421875 68.109375 \r\nQ 45.21875 64.359375 48.21875 57.390625 \r\nQ 51.21875 50.4375 51.21875 37.25 \r\nQ 51.21875 23.53125 48.234375 15.40625 \r\nQ 45.265625 7.28125 39.375 3.03125 \r\nQ 33.5 -1.21875 25.59375 -1.21875 \r\nQ 17.1875 -1.21875 11.859375 3.4375 \r\nQ 6.546875 8.109375 5.46875 16.546875 \r\nz\r\nM 41.453125 48.140625 \r\nQ 41.453125 55.71875 37.421875 60.15625 \r\nQ 33.40625 64.59375 27.734375 64.59375 \r\nQ 21.875 64.59375 17.53125 59.8125 \r\nQ 13.1875 55.03125 13.1875 47.40625 \r\nQ 13.1875 40.578125 17.3125 36.296875 \r\nQ 21.4375 32.03125 27.484375 32.03125 \r\nQ 33.59375 32.03125 37.515625 36.296875 \r\nQ 41.453125 40.578125 41.453125 48.140625 \r\nz\r\n\" id=\"ArialMT-57\"/>\r\n       </defs>\r\n       <use xlink:href=\"#ArialMT-57\"/>\r\n      </g>\r\n     </g>\r\n    </g>\r\n    <g id=\"xtick_10\">\r\n     <g id=\"line2d_10\">\r\n      <path clip-path=\"url(#p52b7d154ec)\" d=\"M 470.684062 333.36 \r\nL 470.684062 7.2 \r\n\" style=\"fill:none;stroke:#ffffff;stroke-linecap:round;\"/>\r\n     </g>\r\n     <g id=\"text_10\">\r\n      <!-- 10 -->\r\n      <g style=\"fill:#262626;\" transform=\"translate(468.369448 357.07826)rotate(-45)scale(0.11 -0.11)\">\r\n       <defs>\r\n        <path d=\"M 4.15625 35.296875 \r\nQ 4.15625 48 6.765625 55.734375 \r\nQ 9.375 63.484375 14.515625 67.671875 \r\nQ 19.671875 71.875 27.484375 71.875 \r\nQ 33.25 71.875 37.59375 69.546875 \r\nQ 41.9375 67.234375 44.765625 62.859375 \r\nQ 47.609375 58.5 49.21875 52.21875 \r\nQ 50.828125 45.953125 50.828125 35.296875 \r\nQ 50.828125 22.703125 48.234375 14.96875 \r\nQ 45.65625 7.234375 40.5 3 \r\nQ 35.359375 -1.21875 27.484375 -1.21875 \r\nQ 17.140625 -1.21875 11.234375 6.203125 \r\nQ 4.15625 15.140625 4.15625 35.296875 \r\nz\r\nM 13.1875 35.296875 \r\nQ 13.1875 17.671875 17.3125 11.828125 \r\nQ 21.4375 6 27.484375 6 \r\nQ 33.546875 6 37.671875 11.859375 \r\nQ 41.796875 17.71875 41.796875 35.296875 \r\nQ 41.796875 52.984375 37.671875 58.78125 \r\nQ 33.546875 64.59375 27.390625 64.59375 \r\nQ 21.34375 64.59375 17.71875 59.46875 \r\nQ 13.1875 52.9375 13.1875 35.296875 \r\nz\r\n\" id=\"ArialMT-48\"/>\r\n       </defs>\r\n       <use xlink:href=\"#ArialMT-49\"/>\r\n       <use x=\"55.615234\" xlink:href=\"#ArialMT-48\"/>\r\n      </g>\r\n     </g>\r\n    </g>\r\n    <g id=\"xtick_11\">\r\n     <g id=\"line2d_11\">\r\n      <path clip-path=\"url(#p52b7d154ec)\" d=\"M 517.184062 333.36 \r\nL 517.184062 7.2 \r\n\" style=\"fill:none;stroke:#ffffff;stroke-linecap:round;\"/>\r\n     </g>\r\n     <g id=\"text_11\">\r\n      <!-- 11 -->\r\n      <g style=\"fill:#262626;\" transform=\"translate(515.156268 356.50462)rotate(-45)scale(0.11 -0.11)\">\r\n       <use xlink:href=\"#ArialMT-49\"/>\r\n       <use x=\"48.240234\" xlink:href=\"#ArialMT-49\"/>\r\n      </g>\r\n     </g>\r\n    </g>\r\n    <g id=\"xtick_12\">\r\n     <g id=\"line2d_12\">\r\n      <path clip-path=\"url(#p52b7d154ec)\" d=\"M 563.684062 333.36 \r\nL 563.684062 7.2 \r\n\" style=\"fill:none;stroke:#ffffff;stroke-linecap:round;\"/>\r\n     </g>\r\n     <g id=\"text_12\">\r\n      <!-- 12 -->\r\n      <g style=\"fill:#262626;\" transform=\"translate(561.369448 357.07826)rotate(-45)scale(0.11 -0.11)\">\r\n       <use xlink:href=\"#ArialMT-49\"/>\r\n       <use x=\"55.615234\" xlink:href=\"#ArialMT-50\"/>\r\n      </g>\r\n     </g>\r\n    </g>\r\n    <g id=\"text_13\">\r\n     <!-- Month -->\r\n     <g style=\"fill:#262626;\" transform=\"translate(291.259687 371.213547)scale(0.12 -0.12)\">\r\n      <defs>\r\n       <path d=\"M 7.421875 0 \r\nL 7.421875 71.578125 \r\nL 21.6875 71.578125 \r\nL 38.625 20.90625 \r\nQ 40.96875 13.8125 42.046875 10.296875 \r\nQ 43.265625 14.203125 45.84375 21.78125 \r\nL 62.984375 71.578125 \r\nL 75.734375 71.578125 \r\nL 75.734375 0 \r\nL 66.609375 0 \r\nL 66.609375 59.90625 \r\nL 45.796875 0 \r\nL 37.25 0 \r\nL 16.546875 60.9375 \r\nL 16.546875 0 \r\nz\r\n\" id=\"ArialMT-77\"/>\r\n       <path d=\"M 3.328125 25.921875 \r\nQ 3.328125 40.328125 11.328125 47.265625 \r\nQ 18.015625 53.03125 27.640625 53.03125 \r\nQ 38.328125 53.03125 45.109375 46.015625 \r\nQ 51.90625 39.015625 51.90625 26.65625 \r\nQ 51.90625 16.65625 48.90625 10.90625 \r\nQ 45.90625 5.171875 40.15625 2 \r\nQ 34.421875 -1.171875 27.640625 -1.171875 \r\nQ 16.75 -1.171875 10.03125 5.8125 \r\nQ 3.328125 12.796875 3.328125 25.921875 \r\nz\r\nM 12.359375 25.921875 \r\nQ 12.359375 15.96875 16.703125 11.015625 \r\nQ 21.046875 6.0625 27.640625 6.0625 \r\nQ 34.1875 6.0625 38.53125 11.03125 \r\nQ 42.875 16.015625 42.875 26.21875 \r\nQ 42.875 35.84375 38.5 40.796875 \r\nQ 34.125 45.75 27.640625 45.75 \r\nQ 21.046875 45.75 16.703125 40.8125 \r\nQ 12.359375 35.890625 12.359375 25.921875 \r\nz\r\n\" id=\"ArialMT-111\"/>\r\n       <path d=\"M 6.59375 0 \r\nL 6.59375 51.859375 \r\nL 14.5 51.859375 \r\nL 14.5 44.484375 \r\nQ 20.21875 53.03125 31 53.03125 \r\nQ 35.6875 53.03125 39.625 51.34375 \r\nQ 43.5625 49.65625 45.515625 46.921875 \r\nQ 47.46875 44.1875 48.25 40.4375 \r\nQ 48.734375 37.984375 48.734375 31.890625 \r\nL 48.734375 0 \r\nL 39.9375 0 \r\nL 39.9375 31.546875 \r\nQ 39.9375 36.921875 38.90625 39.578125 \r\nQ 37.890625 42.234375 35.28125 43.8125 \r\nQ 32.671875 45.40625 29.15625 45.40625 \r\nQ 23.53125 45.40625 19.453125 41.84375 \r\nQ 15.375 38.28125 15.375 28.328125 \r\nL 15.375 0 \r\nz\r\n\" id=\"ArialMT-110\"/>\r\n       <path d=\"M 25.78125 7.859375 \r\nL 27.046875 0.09375 \r\nQ 23.34375 -0.6875 20.40625 -0.6875 \r\nQ 15.625 -0.6875 12.984375 0.828125 \r\nQ 10.359375 2.34375 9.28125 4.8125 \r\nQ 8.203125 7.28125 8.203125 15.1875 \r\nL 8.203125 45.015625 \r\nL 1.765625 45.015625 \r\nL 1.765625 51.859375 \r\nL 8.203125 51.859375 \r\nL 8.203125 64.703125 \r\nL 16.9375 69.96875 \r\nL 16.9375 51.859375 \r\nL 25.78125 51.859375 \r\nL 25.78125 45.015625 \r\nL 16.9375 45.015625 \r\nL 16.9375 14.703125 \r\nQ 16.9375 10.9375 17.40625 9.859375 \r\nQ 17.875 8.796875 18.921875 8.15625 \r\nQ 19.96875 7.515625 21.921875 7.515625 \r\nQ 23.390625 7.515625 25.78125 7.859375 \r\nz\r\n\" id=\"ArialMT-116\"/>\r\n       <path d=\"M 6.59375 0 \r\nL 6.59375 71.578125 \r\nL 15.375 71.578125 \r\nL 15.375 45.90625 \r\nQ 21.53125 53.03125 30.90625 53.03125 \r\nQ 36.671875 53.03125 40.921875 50.75 \r\nQ 45.171875 48.484375 47 44.484375 \r\nQ 48.828125 40.484375 48.828125 32.859375 \r\nL 48.828125 0 \r\nL 40.046875 0 \r\nL 40.046875 32.859375 \r\nQ 40.046875 39.453125 37.1875 42.453125 \r\nQ 34.328125 45.453125 29.109375 45.453125 \r\nQ 25.203125 45.453125 21.75 43.421875 \r\nQ 18.3125 41.40625 16.84375 37.9375 \r\nQ 15.375 34.46875 15.375 28.375 \r\nL 15.375 0 \r\nz\r\n\" id=\"ArialMT-104\"/>\r\n      </defs>\r\n      <use xlink:href=\"#ArialMT-77\"/>\r\n      <use x=\"83.300781\" xlink:href=\"#ArialMT-111\"/>\r\n      <use x=\"138.916016\" xlink:href=\"#ArialMT-110\"/>\r\n      <use x=\"194.53125\" xlink:href=\"#ArialMT-116\"/>\r\n      <use x=\"222.314453\" xlink:href=\"#ArialMT-104\"/>\r\n     </g>\r\n    </g>\r\n   </g>\r\n   <g id=\"matplotlib.axis_2\">\r\n    <g id=\"ytick_1\">\r\n     <g id=\"line2d_13\">\r\n      <path clip-path=\"url(#p52b7d154ec)\" d=\"M 28.934062 333.36 \r\nL 586.934062 333.36 \r\n\" style=\"fill:none;stroke:#ffffff;stroke-linecap:round;\"/>\r\n     </g>\r\n     <g id=\"text_14\">\r\n      <!-- 0 -->\r\n      <g style=\"fill:#262626;\" transform=\"translate(13.317031 337.296797)scale(0.11 -0.11)\">\r\n       <use xlink:href=\"#ArialMT-48\"/>\r\n      </g>\r\n     </g>\r\n    </g>\r\n    <g id=\"ytick_2\">\r\n     <g id=\"line2d_14\">\r\n      <path clip-path=\"url(#p52b7d154ec)\" d=\"M 28.934062 267.325015 \r\nL 586.934062 267.325015 \r\n\" style=\"fill:none;stroke:#ffffff;stroke-linecap:round;\"/>\r\n     </g>\r\n     <g id=\"text_15\">\r\n      <!-- 5 -->\r\n      <g style=\"fill:#262626;\" transform=\"translate(13.317031 271.261811)scale(0.11 -0.11)\">\r\n       <use xlink:href=\"#ArialMT-53\"/>\r\n      </g>\r\n     </g>\r\n    </g>\r\n    <g id=\"ytick_3\">\r\n     <g id=\"line2d_15\">\r\n      <path clip-path=\"url(#p52b7d154ec)\" d=\"M 28.934062 201.290029 \r\nL 586.934062 201.290029 \r\n\" style=\"fill:none;stroke:#ffffff;stroke-linecap:round;\"/>\r\n     </g>\r\n     <g id=\"text_16\">\r\n      <!-- 10 -->\r\n      <g style=\"fill:#262626;\" transform=\"translate(7.2 205.226826)scale(0.11 -0.11)\">\r\n       <use xlink:href=\"#ArialMT-49\"/>\r\n       <use x=\"55.615234\" xlink:href=\"#ArialMT-48\"/>\r\n      </g>\r\n     </g>\r\n    </g>\r\n    <g id=\"ytick_4\">\r\n     <g id=\"line2d_16\">\r\n      <path clip-path=\"url(#p52b7d154ec)\" d=\"M 28.934062 135.255044 \r\nL 586.934062 135.255044 \r\n\" style=\"fill:none;stroke:#ffffff;stroke-linecap:round;\"/>\r\n     </g>\r\n     <g id=\"text_17\">\r\n      <!-- 15 -->\r\n      <g style=\"fill:#262626;\" transform=\"translate(7.2 139.191841)scale(0.11 -0.11)\">\r\n       <use xlink:href=\"#ArialMT-49\"/>\r\n       <use x=\"55.615234\" xlink:href=\"#ArialMT-53\"/>\r\n      </g>\r\n     </g>\r\n    </g>\r\n    <g id=\"ytick_5\">\r\n     <g id=\"line2d_17\">\r\n      <path clip-path=\"url(#p52b7d154ec)\" d=\"M 28.934062 69.220058 \r\nL 586.934062 69.220058 \r\n\" style=\"fill:none;stroke:#ffffff;stroke-linecap:round;\"/>\r\n     </g>\r\n     <g id=\"text_18\">\r\n      <!-- 20 -->\r\n      <g style=\"fill:#262626;\" transform=\"translate(7.2 73.156855)scale(0.11 -0.11)\">\r\n       <use xlink:href=\"#ArialMT-50\"/>\r\n       <use x=\"55.615234\" xlink:href=\"#ArialMT-48\"/>\r\n      </g>\r\n     </g>\r\n    </g>\r\n   </g>\r\n   <g id=\"patch_3\">\r\n    <path clip-path=\"url(#p52b7d154ec)\" d=\"M 40.559062 333.36 \r\nL 44.434062 333.36 \r\nL 44.434062 263.362915 \r\nL 40.559062 263.362915 \r\nz\r\n\" style=\"fill:#4c72b0;stroke:#ffffff;stroke-linejoin:miter;\"/>\r\n   </g>\r\n   <g id=\"patch_4\">\r\n    <path clip-path=\"url(#p52b7d154ec)\" d=\"M 87.059062 333.36 \r\nL 90.934062 333.36 \r\nL 90.934062 251.476618 \r\nL 87.059062 251.476618 \r\nz\r\n\" style=\"fill:#4c72b0;stroke:#ffffff;stroke-linejoin:miter;\"/>\r\n   </g>\r\n   <g id=\"patch_5\">\r\n    <path clip-path=\"url(#p52b7d154ec)\" d=\"M 133.559062 333.36 \r\nL 137.434062 333.36 \r\nL 137.434062 255.438717 \r\nL 133.559062 255.438717 \r\nz\r\n\" style=\"fill:#4c72b0;stroke:#ffffff;stroke-linejoin:miter;\"/>\r\n   </g>\r\n   <g id=\"patch_6\">\r\n    <path clip-path=\"url(#p52b7d154ec)\" d=\"M 180.059062 333.36 \r\nL 183.934062 333.36 \r\nL 183.934062 254.118017 \r\nL 180.059062 254.118017 \r\nz\r\n\" style=\"fill:#4c72b0;stroke:#ffffff;stroke-linejoin:miter;\"/>\r\n   </g>\r\n   <g id=\"patch_7\">\r\n    <path clip-path=\"url(#p52b7d154ec)\" d=\"M 226.559062 333.36 \r\nL 230.434062 333.36 \r\nL 230.434062 255.438717 \r\nL 226.559062 255.438717 \r\nz\r\n\" style=\"fill:#4c72b0;stroke:#ffffff;stroke-linejoin:miter;\"/>\r\n   </g>\r\n   <g id=\"patch_8\">\r\n    <path clip-path=\"url(#p52b7d154ec)\" d=\"M 273.059062 333.36 \r\nL 276.934062 333.36 \r\nL 276.934062 258.080117 \r\nL 273.059062 258.080117 \r\nz\r\n\" style=\"fill:#4c72b0;stroke:#ffffff;stroke-linejoin:miter;\"/>\r\n   </g>\r\n   <g id=\"patch_9\">\r\n    <path clip-path=\"url(#p52b7d154ec)\" d=\"M 319.559062 333.36 \r\nL 323.434062 333.36 \r\nL 323.434062 258.080117 \r\nL 319.559062 258.080117 \r\nz\r\n\" style=\"fill:#4c72b0;stroke:#ffffff;stroke-linejoin:miter;\"/>\r\n   </g>\r\n   <g id=\"patch_10\">\r\n    <path clip-path=\"url(#p52b7d154ec)\" d=\"M 366.059062 333.36 \r\nL 369.934062 333.36 \r\nL 369.934062 259.400816 \r\nL 366.059062 259.400816 \r\nz\r\n\" style=\"fill:#4c72b0;stroke:#ffffff;stroke-linejoin:miter;\"/>\r\n   </g>\r\n   <g id=\"patch_11\">\r\n    <path clip-path=\"url(#p52b7d154ec)\" d=\"M 412.559062 333.36 \r\nL 416.434062 333.36 \r\nL 416.434062 262.042216 \r\nL 412.559062 262.042216 \r\nz\r\n\" style=\"fill:#4c72b0;stroke:#ffffff;stroke-linejoin:miter;\"/>\r\n   </g>\r\n   <g id=\"patch_12\">\r\n    <path clip-path=\"url(#p52b7d154ec)\" d=\"M 459.059062 333.36 \r\nL 462.934062 333.36 \r\nL 462.934062 263.362915 \r\nL 459.059062 263.362915 \r\nz\r\n\" style=\"fill:#4c72b0;stroke:#ffffff;stroke-linejoin:miter;\"/>\r\n   </g>\r\n   <g id=\"patch_13\">\r\n    <path clip-path=\"url(#p52b7d154ec)\" d=\"M 505.559062 333.36 \r\nL 509.434062 333.36 \r\nL 509.434062 264.683615 \r\nL 505.559062 264.683615 \r\nz\r\n\" style=\"fill:#4c72b0;stroke:#ffffff;stroke-linejoin:miter;\"/>\r\n   </g>\r\n   <g id=\"patch_14\">\r\n    <path clip-path=\"url(#p52b7d154ec)\" d=\"M 552.059062 333.36 \r\nL 555.934062 333.36 \r\nL 555.934062 264.683615 \r\nL 552.059062 264.683615 \r\nz\r\n\" style=\"fill:#4c72b0;stroke:#ffffff;stroke-linejoin:miter;\"/>\r\n   </g>\r\n   <g id=\"patch_15\">\r\n    <path clip-path=\"url(#p52b7d154ec)\" d=\"M 44.434062 333.36 \r\nL 48.309062 333.36 \r\nL 48.309062 288.45621 \r\nL 44.434062 288.45621 \r\nz\r\n\" style=\"fill:#dd8452;stroke:#ffffff;stroke-linejoin:miter;\"/>\r\n   </g>\r\n   <g id=\"patch_16\">\r\n    <path clip-path=\"url(#p52b7d154ec)\" d=\"M 90.934062 333.36 \r\nL 94.809062 333.36 \r\nL 94.809062 285.81481 \r\nL 90.934062 285.81481 \r\nz\r\n\" style=\"fill:#dd8452;stroke:#ffffff;stroke-linejoin:miter;\"/>\r\n   </g>\r\n   <g id=\"patch_17\">\r\n    <path clip-path=\"url(#p52b7d154ec)\" d=\"M 137.434062 333.36 \r\nL 141.309062 333.36 \r\nL 141.309062 283.173411 \r\nL 137.434062 283.173411 \r\nz\r\n\" style=\"fill:#dd8452;stroke:#ffffff;stroke-linejoin:miter;\"/>\r\n   </g>\r\n   <g id=\"patch_18\">\r\n    <path clip-path=\"url(#p52b7d154ec)\" d=\"M 183.934062 333.36 \r\nL 187.809062 333.36 \r\nL 187.809062 280.532012 \r\nL 183.934062 280.532012 \r\nz\r\n\" style=\"fill:#dd8452;stroke:#ffffff;stroke-linejoin:miter;\"/>\r\n   </g>\r\n   <g id=\"patch_19\">\r\n    <path clip-path=\"url(#p52b7d154ec)\" d=\"M 230.434062 333.36 \r\nL 234.309062 333.36 \r\nL 234.309062 277.890612 \r\nL 230.434062 277.890612 \r\nz\r\n\" style=\"fill:#dd8452;stroke:#ffffff;stroke-linejoin:miter;\"/>\r\n   </g>\r\n   <g id=\"patch_20\">\r\n    <path clip-path=\"url(#p52b7d154ec)\" d=\"M 276.934062 333.36 \r\nL 280.809062 333.36 \r\nL 280.809062 276.569913 \r\nL 276.934062 276.569913 \r\nz\r\n\" style=\"fill:#dd8452;stroke:#ffffff;stroke-linejoin:miter;\"/>\r\n   </g>\r\n   <g id=\"patch_21\">\r\n    <path clip-path=\"url(#p52b7d154ec)\" d=\"M 323.434062 333.36 \r\nL 327.309062 333.36 \r\nL 327.309062 275.249213 \r\nL 323.434062 275.249213 \r\nz\r\n\" style=\"fill:#dd8452;stroke:#ffffff;stroke-linejoin:miter;\"/>\r\n   </g>\r\n   <g id=\"patch_22\">\r\n    <path clip-path=\"url(#p52b7d154ec)\" d=\"M 369.934062 333.36 \r\nL 373.809062 333.36 \r\nL 373.809062 273.928513 \r\nL 369.934062 273.928513 \r\nz\r\n\" style=\"fill:#dd8452;stroke:#ffffff;stroke-linejoin:miter;\"/>\r\n   </g>\r\n   <g id=\"patch_23\">\r\n    <path clip-path=\"url(#p52b7d154ec)\" d=\"M 416.434062 333.36 \r\nL 420.309062 333.36 \r\nL 420.309062 273.928513 \r\nL 416.434062 273.928513 \r\nz\r\n\" style=\"fill:#dd8452;stroke:#ffffff;stroke-linejoin:miter;\"/>\r\n   </g>\r\n   <g id=\"patch_24\">\r\n    <path clip-path=\"url(#p52b7d154ec)\" d=\"M 462.934062 333.36 \r\nL 466.809062 333.36 \r\nL 466.809062 273.928513 \r\nL 462.934062 273.928513 \r\nz\r\n\" style=\"fill:#dd8452;stroke:#ffffff;stroke-linejoin:miter;\"/>\r\n   </g>\r\n   <g id=\"patch_25\">\r\n    <path clip-path=\"url(#p52b7d154ec)\" d=\"M 509.434062 333.36 \r\nL 513.309062 333.36 \r\nL 513.309062 273.928513 \r\nL 509.434062 273.928513 \r\nz\r\n\" style=\"fill:#dd8452;stroke:#ffffff;stroke-linejoin:miter;\"/>\r\n   </g>\r\n   <g id=\"patch_26\">\r\n    <path clip-path=\"url(#p52b7d154ec)\" d=\"M 555.934062 333.36 \r\nL 559.809062 333.36 \r\nL 559.809062 333.36 \r\nL 555.934062 333.36 \r\nz\r\n\" style=\"fill:#dd8452;stroke:#ffffff;stroke-linejoin:miter;\"/>\r\n   </g>\r\n   <g id=\"patch_27\">\r\n    <path clip-path=\"url(#p52b7d154ec)\" d=\"M 48.309062 333.36 \r\nL 52.184062 333.36 \r\nL 52.184062 238.005481 \r\nL 48.309062 238.005481 \r\nz\r\n\" style=\"fill:#55a868;stroke:#ffffff;stroke-linejoin:miter;\"/>\r\n   </g>\r\n   <g id=\"patch_28\">\r\n    <path clip-path=\"url(#p52b7d154ec)\" d=\"M 94.809062 333.36 \r\nL 98.684062 333.36 \r\nL 98.684062 230.873703 \r\nL 94.809062 230.873703 \r\nz\r\n\" style=\"fill:#55a868;stroke:#ffffff;stroke-linejoin:miter;\"/>\r\n   </g>\r\n   <g id=\"patch_29\">\r\n    <path clip-path=\"url(#p52b7d154ec)\" d=\"M 141.309062 333.36 \r\nL 145.184062 333.36 \r\nL 145.184062 217.798776 \r\nL 141.309062 217.798776 \r\nz\r\n\" style=\"fill:#55a868;stroke:#ffffff;stroke-linejoin:miter;\"/>\r\n   </g>\r\n   <g id=\"patch_30\">\r\n    <path clip-path=\"url(#p52b7d154ec)\" d=\"M 187.809062 333.36 \r\nL 191.684062 333.36 \r\nL 191.684062 22.731429 \r\nL 187.809062 22.731429 \r\nz\r\n\" style=\"fill:#55a868;stroke:#ffffff;stroke-linejoin:miter;\"/>\r\n   </g>\r\n   <g id=\"patch_31\">\r\n    <path clip-path=\"url(#p52b7d154ec)\" d=\"M 234.309062 333.36 \r\nL 238.184062 333.36 \r\nL 238.184062 46.371953 \r\nL 234.309062 46.371953 \r\nz\r\n\" style=\"fill:#55a868;stroke:#ffffff;stroke-linejoin:miter;\"/>\r\n   </g>\r\n   <g id=\"patch_32\">\r\n    <path clip-path=\"url(#p52b7d154ec)\" d=\"M 280.809062 333.36 \r\nL 284.684062 333.36 \r\nL 284.684062 198.91277 \r\nL 280.809062 198.91277 \r\nz\r\n\" style=\"fill:#55a868;stroke:#ffffff;stroke-linejoin:miter;\"/>\r\n   </g>\r\n   <g id=\"patch_33\">\r\n    <path clip-path=\"url(#p52b7d154ec)\" d=\"M 327.309062 333.36 \r\nL 331.184062 333.36 \r\nL 331.184062 235.628222 \r\nL 327.309062 235.628222 \r\nz\r\n\" style=\"fill:#55a868;stroke:#ffffff;stroke-linejoin:miter;\"/>\r\n   </g>\r\n   <g id=\"patch_34\">\r\n    <path clip-path=\"url(#p52b7d154ec)\" d=\"M 373.809062 333.36 \r\nL 377.684062 333.36 \r\nL 377.684062 223.081574 \r\nL 373.809062 223.081574 \r\nz\r\n\" style=\"fill:#55a868;stroke:#ffffff;stroke-linejoin:miter;\"/>\r\n   </g>\r\n   <g id=\"patch_35\">\r\n    <path clip-path=\"url(#p52b7d154ec)\" d=\"M 420.309062 333.36 \r\nL 424.184062 333.36 \r\nL 424.184062 245.269329 \r\nL 420.309062 245.269329 \r\nz\r\n\" style=\"fill:#55a868;stroke:#ffffff;stroke-linejoin:miter;\"/>\r\n   </g>\r\n   <g id=\"patch_36\">\r\n    <path clip-path=\"url(#p52b7d154ec)\" d=\"M 466.809063 333.36 \r\nL 470.684063 333.36 \r\nL 470.684063 240.91102 \r\nL 466.809063 240.91102 \r\nz\r\n\" style=\"fill:#55a868;stroke:#ffffff;stroke-linejoin:miter;\"/>\r\n   </g>\r\n   <g id=\"patch_37\">\r\n    <path clip-path=\"url(#p52b7d154ec)\" d=\"M 513.309063 333.36 \r\nL 517.184063 333.36 \r\nL 517.184063 247.514519 \r\nL 513.309063 247.514519 \r\nz\r\n\" style=\"fill:#55a868;stroke:#ffffff;stroke-linejoin:miter;\"/>\r\n   </g>\r\n   <g id=\"patch_38\">\r\n    <path clip-path=\"url(#p52b7d154ec)\" d=\"M 559.809063 333.36 \r\nL 563.684063 333.36 \r\nL 563.684063 333.36 \r\nL 559.809063 333.36 \r\nz\r\n\" style=\"fill:#55a868;stroke:#ffffff;stroke-linejoin:miter;\"/>\r\n   </g>\r\n   <g id=\"patch_39\">\r\n    <path clip-path=\"url(#p52b7d154ec)\" d=\"M 52.184062 333.36 \r\nL 56.059062 333.36 \r\nL 56.059062 206.572828 \r\nL 52.184062 206.572828 \r\nz\r\n\" style=\"fill:#c44e52;stroke:#ffffff;stroke-linejoin:miter;\"/>\r\n   </g>\r\n   <g id=\"patch_40\">\r\n    <path clip-path=\"url(#p52b7d154ec)\" d=\"M 98.684062 333.36 \r\nL 102.559062 333.36 \r\nL 102.559062 209.214227 \r\nL 98.684062 209.214227 \r\nz\r\n\" style=\"fill:#c44e52;stroke:#ffffff;stroke-linejoin:miter;\"/>\r\n   </g>\r\n   <g id=\"patch_41\">\r\n    <path clip-path=\"url(#p52b7d154ec)\" d=\"M 145.184062 333.36 \r\nL 149.059062 333.36 \r\nL 149.059062 221.100525 \r\nL 145.184062 221.100525 \r\nz\r\n\" style=\"fill:#c44e52;stroke:#ffffff;stroke-linejoin:miter;\"/>\r\n   </g>\r\n   <g id=\"patch_42\">\r\n    <path clip-path=\"url(#p52b7d154ec)\" d=\"M 191.684062 333.36 \r\nL 195.559062 333.36 \r\nL 195.559062 235.628222 \r\nL 191.684062 235.628222 \r\nz\r\n\" style=\"fill:#c44e52;stroke:#ffffff;stroke-linejoin:miter;\"/>\r\n   </g>\r\n   <g id=\"patch_43\">\r\n    <path clip-path=\"url(#p52b7d154ec)\" d=\"M 238.184062 333.36 \r\nL 242.059062 333.36 \r\nL 242.059062 218.459125 \r\nL 238.184062 218.459125 \r\nz\r\n\" style=\"fill:#c44e52;stroke:#ffffff;stroke-linejoin:miter;\"/>\r\n   </g>\r\n   <g id=\"patch_44\">\r\n    <path clip-path=\"url(#p52b7d154ec)\" d=\"M 284.684062 333.36 \r\nL 288.559062 333.36 \r\nL 288.559062 210.534927 \r\nL 284.684062 210.534927 \r\nz\r\n\" style=\"fill:#c44e52;stroke:#ffffff;stroke-linejoin:miter;\"/>\r\n   </g>\r\n   <g id=\"patch_45\">\r\n    <path clip-path=\"url(#p52b7d154ec)\" d=\"M 331.184062 333.36 \r\nL 335.059062 333.36 \r\nL 335.059062 203.931429 \r\nL 331.184062 203.931429 \r\nz\r\n\" style=\"fill:#c44e52;stroke:#ffffff;stroke-linejoin:miter;\"/>\r\n   </g>\r\n   <g id=\"patch_46\">\r\n    <path clip-path=\"url(#p52b7d154ec)\" d=\"M 377.684062 333.36 \r\nL 381.559062 333.36 \r\nL 381.559062 205.252128 \r\nL 377.684062 205.252128 \r\nz\r\n\" style=\"fill:#c44e52;stroke:#ffffff;stroke-linejoin:miter;\"/>\r\n   </g>\r\n   <g id=\"patch_47\">\r\n    <path clip-path=\"url(#p52b7d154ec)\" d=\"M 424.184062 333.36 \r\nL 428.059062 333.36 \r\nL 428.059062 207.893528 \r\nL 424.184062 207.893528 \r\nz\r\n\" style=\"fill:#c44e52;stroke:#ffffff;stroke-linejoin:miter;\"/>\r\n   </g>\r\n   <g id=\"patch_48\">\r\n    <path clip-path=\"url(#p52b7d154ec)\" d=\"M 470.684062 333.36 \r\nL 474.559062 333.36 \r\nL 474.559062 207.893528 \r\nL 470.684062 207.893528 \r\nz\r\n\" style=\"fill:#c44e52;stroke:#ffffff;stroke-linejoin:miter;\"/>\r\n   </g>\r\n   <g id=\"patch_49\">\r\n    <path clip-path=\"url(#p52b7d154ec)\" d=\"M 517.184062 333.36 \r\nL 521.059062 333.36 \r\nL 521.059062 215.817726 \r\nL 517.184062 215.817726 \r\nz\r\n\" style=\"fill:#c44e52;stroke:#ffffff;stroke-linejoin:miter;\"/>\r\n   </g>\r\n   <g id=\"patch_50\">\r\n    <path clip-path=\"url(#p52b7d154ec)\" d=\"M 563.684062 333.36 \r\nL 567.559062 333.36 \r\nL 567.559062 287.13551 \r\nL 563.684062 287.13551 \r\nz\r\n\" style=\"fill:#c44e52;stroke:#ffffff;stroke-linejoin:miter;\"/>\r\n   </g>\r\n   <g id=\"patch_51\">\r\n    <path clip-path=\"url(#p52b7d154ec)\" d=\"M 56.059062 333.36 \r\nL 59.934062 333.36 \r\nL 59.934062 281.852711 \r\nL 56.059062 281.852711 \r\nz\r\n\" style=\"fill:#8172b3;stroke:#ffffff;stroke-linejoin:miter;\"/>\r\n   </g>\r\n   <g id=\"patch_52\">\r\n    <path clip-path=\"url(#p52b7d154ec)\" d=\"M 102.559062 333.36 \r\nL 106.434062 333.36 \r\nL 106.434062 281.852711 \r\nL 102.559062 281.852711 \r\nz\r\n\" style=\"fill:#8172b3;stroke:#ffffff;stroke-linejoin:miter;\"/>\r\n   </g>\r\n   <g id=\"patch_53\">\r\n    <path clip-path=\"url(#p52b7d154ec)\" d=\"M 149.059062 333.36 \r\nL 152.934062 333.36 \r\nL 152.934062 281.852711 \r\nL 149.059062 281.852711 \r\nz\r\n\" style=\"fill:#8172b3;stroke:#ffffff;stroke-linejoin:miter;\"/>\r\n   </g>\r\n   <g id=\"patch_54\">\r\n    <path clip-path=\"url(#p52b7d154ec)\" d=\"M 195.559062 333.36 \r\nL 199.434062 333.36 \r\nL 199.434062 281.852711 \r\nL 195.559062 281.852711 \r\nz\r\n\" style=\"fill:#8172b3;stroke:#ffffff;stroke-linejoin:miter;\"/>\r\n   </g>\r\n   <g id=\"patch_55\">\r\n    <path clip-path=\"url(#p52b7d154ec)\" d=\"M 242.059062 333.36 \r\nL 245.934062 333.36 \r\nL 245.934062 283.173411 \r\nL 242.059062 283.173411 \r\nz\r\n\" style=\"fill:#8172b3;stroke:#ffffff;stroke-linejoin:miter;\"/>\r\n   </g>\r\n   <g id=\"patch_56\">\r\n    <path clip-path=\"url(#p52b7d154ec)\" d=\"M 288.559062 333.36 \r\nL 292.434062 333.36 \r\nL 292.434062 280.532012 \r\nL 288.559062 280.532012 \r\nz\r\n\" style=\"fill:#8172b3;stroke:#ffffff;stroke-linejoin:miter;\"/>\r\n   </g>\r\n   <g id=\"patch_57\">\r\n    <path clip-path=\"url(#p52b7d154ec)\" d=\"M 335.059062 333.36 \r\nL 338.934062 333.36 \r\nL 338.934062 275.249213 \r\nL 335.059062 275.249213 \r\nz\r\n\" style=\"fill:#8172b3;stroke:#ffffff;stroke-linejoin:miter;\"/>\r\n   </g>\r\n   <g id=\"patch_58\">\r\n    <path clip-path=\"url(#p52b7d154ec)\" d=\"M 381.559062 333.36 \r\nL 385.434062 333.36 \r\nL 385.434062 271.287114 \r\nL 381.559062 271.287114 \r\nz\r\n\" style=\"fill:#8172b3;stroke:#ffffff;stroke-linejoin:miter;\"/>\r\n   </g>\r\n   <g id=\"patch_59\">\r\n    <path clip-path=\"url(#p52b7d154ec)\" d=\"M 428.059062 333.36 \r\nL 431.934062 333.36 \r\nL 431.934062 268.645714 \r\nL 428.059062 268.645714 \r\nz\r\n\" style=\"fill:#8172b3;stroke:#ffffff;stroke-linejoin:miter;\"/>\r\n   </g>\r\n   <g id=\"patch_60\">\r\n    <path clip-path=\"url(#p52b7d154ec)\" d=\"M 474.559062 333.36 \r\nL 478.434062 333.36 \r\nL 478.434062 268.645714 \r\nL 474.559062 268.645714 \r\nz\r\n\" style=\"fill:#8172b3;stroke:#ffffff;stroke-linejoin:miter;\"/>\r\n   </g>\r\n   <g id=\"patch_61\">\r\n    <path clip-path=\"url(#p52b7d154ec)\" d=\"M 521.059062 333.36 \r\nL 524.934062 333.36 \r\nL 524.934062 333.36 \r\nL 521.059062 333.36 \r\nz\r\n\" style=\"fill:#8172b3;stroke:#ffffff;stroke-linejoin:miter;\"/>\r\n   </g>\r\n   <g id=\"patch_62\">\r\n    <path clip-path=\"url(#p52b7d154ec)\" d=\"M 567.559062 333.36 \r\nL 571.434062 333.36 \r\nL 571.434062 333.36 \r\nL 567.559062 333.36 \r\nz\r\n\" style=\"fill:#8172b3;stroke:#ffffff;stroke-linejoin:miter;\"/>\r\n   </g>\r\n   <g id=\"patch_63\">\r\n    <path clip-path=\"url(#p52b7d154ec)\" d=\"M 59.934062 333.36 \r\nL 63.809062 333.36 \r\nL 63.809062 287.13551 \r\nL 59.934062 287.13551 \r\nz\r\n\" style=\"fill:#937860;stroke:#ffffff;stroke-linejoin:miter;\"/>\r\n   </g>\r\n   <g id=\"patch_64\">\r\n    <path clip-path=\"url(#p52b7d154ec)\" d=\"M 106.434062 333.36 \r\nL 110.309062 333.36 \r\nL 110.309062 275.249213 \r\nL 106.434062 275.249213 \r\nz\r\n\" style=\"fill:#937860;stroke:#ffffff;stroke-linejoin:miter;\"/>\r\n   </g>\r\n   <g id=\"patch_65\">\r\n    <path clip-path=\"url(#p52b7d154ec)\" d=\"M 152.934063 333.36 \r\nL 156.809063 333.36 \r\nL 156.809063 137.896443 \r\nL 152.934063 137.896443 \r\nz\r\n\" style=\"fill:#937860;stroke:#ffffff;stroke-linejoin:miter;\"/>\r\n   </g>\r\n   <g id=\"patch_66\">\r\n    <path clip-path=\"url(#p52b7d154ec)\" d=\"M 199.434062 333.36 \r\nL 203.309062 333.36 \r\nL 203.309062 157.706939 \r\nL 199.434062 157.706939 \r\nz\r\n\" style=\"fill:#937860;stroke:#ffffff;stroke-linejoin:miter;\"/>\r\n   </g>\r\n   <g id=\"patch_67\">\r\n    <path clip-path=\"url(#p52b7d154ec)\" d=\"M 245.934062 333.36 \r\nL 249.809062 333.36 \r\nL 249.809062 186.762332 \r\nL 245.934062 186.762332 \r\nz\r\n\" style=\"fill:#937860;stroke:#ffffff;stroke-linejoin:miter;\"/>\r\n   </g>\r\n   <g id=\"patch_68\">\r\n    <path clip-path=\"url(#p52b7d154ec)\" d=\"M 292.434062 333.36 \r\nL 296.309062 333.36 \r\nL 296.309062 198.64863 \r\nL 292.434062 198.64863 \r\nz\r\n\" style=\"fill:#937860;stroke:#ffffff;stroke-linejoin:miter;\"/>\r\n   </g>\r\n   <g id=\"patch_69\">\r\n    <path clip-path=\"url(#p52b7d154ec)\" d=\"M 338.934062 333.36 \r\nL 342.809062 333.36 \r\nL 342.809062 222.421224 \r\nL 338.934062 222.421224 \r\nz\r\n\" style=\"fill:#937860;stroke:#ffffff;stroke-linejoin:miter;\"/>\r\n   </g>\r\n   <g id=\"patch_70\">\r\n    <path clip-path=\"url(#p52b7d154ec)\" d=\"M 385.434062 333.36 \r\nL 389.309062 333.36 \r\nL 389.309062 230.345423 \r\nL 385.434062 230.345423 \r\nz\r\n\" style=\"fill:#937860;stroke:#ffffff;stroke-linejoin:miter;\"/>\r\n   </g>\r\n   <g id=\"patch_71\">\r\n    <path clip-path=\"url(#p52b7d154ec)\" d=\"M 431.934063 333.36 \r\nL 435.809063 333.36 \r\nL 435.809063 242.23172 \r\nL 431.934063 242.23172 \r\nz\r\n\" style=\"fill:#937860;stroke:#ffffff;stroke-linejoin:miter;\"/>\r\n   </g>\r\n   <g id=\"patch_72\">\r\n    <path clip-path=\"url(#p52b7d154ec)\" d=\"M 478.434063 333.36 \r\nL 482.309063 333.36 \r\nL 482.309063 244.87312 \r\nL 478.434063 244.87312 \r\nz\r\n\" style=\"fill:#937860;stroke:#ffffff;stroke-linejoin:miter;\"/>\r\n   </g>\r\n   <g id=\"patch_73\">\r\n    <path clip-path=\"url(#p52b7d154ec)\" d=\"M 524.934063 333.36 \r\nL 528.809063 333.36 \r\nL 528.809063 244.87312 \r\nL 524.934063 244.87312 \r\nz\r\n\" style=\"fill:#937860;stroke:#ffffff;stroke-linejoin:miter;\"/>\r\n   </g>\r\n   <g id=\"patch_74\">\r\n    <path clip-path=\"url(#p52b7d154ec)\" d=\"M 571.434062 333.36 \r\nL 575.309062 333.36 \r\nL 575.309062 333.36 \r\nL 571.434062 333.36 \r\nz\r\n\" style=\"fill:#937860;stroke:#ffffff;stroke-linejoin:miter;\"/>\r\n   </g>\r\n   <g id=\"patch_75\">\r\n    <path d=\"M 28.934062 333.36 \r\nL 28.934062 7.2 \r\n\" style=\"fill:none;stroke:#ffffff;stroke-linecap:square;stroke-linejoin:miter;stroke-width:1.25;\"/>\r\n   </g>\r\n   <g id=\"patch_76\">\r\n    <path d=\"M 586.934062 333.36 \r\nL 586.934062 7.2 \r\n\" style=\"fill:none;stroke:#ffffff;stroke-linecap:square;stroke-linejoin:miter;stroke-width:1.25;\"/>\r\n   </g>\r\n   <g id=\"patch_77\">\r\n    <path d=\"M 28.934062 333.36 \r\nL 586.934062 333.36 \r\n\" style=\"fill:none;stroke:#ffffff;stroke-linecap:square;stroke-linejoin:miter;stroke-width:1.25;\"/>\r\n   </g>\r\n   <g id=\"patch_78\">\r\n    <path d=\"M 28.934062 7.2 \r\nL 586.934062 7.2 \r\n\" style=\"fill:none;stroke:#ffffff;stroke-linecap:square;stroke-linejoin:miter;stroke-width:1.25;\"/>\r\n   </g>\r\n   <g id=\"legend_1\">\r\n    <g id=\"patch_79\">\r\n     <path d=\"M 498.801719 126.512187 \r\nL 579.234062 126.512187 \r\nQ 581.434062 126.512187 581.434062 124.312187 \r\nL 581.434062 14.9 \r\nQ 581.434062 12.7 579.234062 12.7 \r\nL 498.801719 12.7 \r\nQ 496.601719 12.7 496.601719 14.9 \r\nL 496.601719 124.312187 \r\nQ 496.601719 126.512187 498.801719 126.512187 \r\nz\r\n\" style=\"fill:#eaeaf2;opacity:0.8;stroke:#cccccc;stroke-linejoin:miter;\"/>\r\n    </g>\r\n    <g id=\"text_19\">\r\n     <!-- Country -->\r\n     <g style=\"fill:#262626;\" transform=\"translate(518.010391 25.835625)scale(0.12 -0.12)\">\r\n      <defs>\r\n       <path d=\"M 58.796875 25.09375 \r\nL 68.265625 22.703125 \r\nQ 65.28125 11.03125 57.546875 4.90625 \r\nQ 49.8125 -1.21875 38.625 -1.21875 \r\nQ 27.046875 -1.21875 19.796875 3.484375 \r\nQ 12.546875 8.203125 8.765625 17.140625 \r\nQ 4.984375 26.078125 4.984375 36.328125 \r\nQ 4.984375 47.515625 9.25 55.828125 \r\nQ 13.53125 64.15625 21.40625 68.46875 \r\nQ 29.296875 72.796875 38.765625 72.796875 \r\nQ 49.515625 72.796875 56.828125 67.328125 \r\nQ 64.15625 61.859375 67.046875 51.953125 \r\nL 57.71875 49.75 \r\nQ 55.21875 57.5625 50.484375 61.125 \r\nQ 45.75 64.703125 38.578125 64.703125 \r\nQ 30.328125 64.703125 24.78125 60.734375 \r\nQ 19.234375 56.78125 16.984375 50.109375 \r\nQ 14.75 43.453125 14.75 36.375 \r\nQ 14.75 27.25 17.40625 20.4375 \r\nQ 20.0625 13.625 25.671875 10.25 \r\nQ 31.296875 6.890625 37.84375 6.890625 \r\nQ 45.796875 6.890625 51.3125 11.46875 \r\nQ 56.84375 16.0625 58.796875 25.09375 \r\nz\r\n\" id=\"ArialMT-67\"/>\r\n       <path d=\"M 40.578125 0 \r\nL 40.578125 7.625 \r\nQ 34.515625 -1.171875 24.125 -1.171875 \r\nQ 19.53125 -1.171875 15.546875 0.578125 \r\nQ 11.578125 2.34375 9.640625 5 \r\nQ 7.71875 7.671875 6.9375 11.53125 \r\nQ 6.390625 14.109375 6.390625 19.734375 \r\nL 6.390625 51.859375 \r\nL 15.1875 51.859375 \r\nL 15.1875 23.09375 \r\nQ 15.1875 16.21875 15.71875 13.8125 \r\nQ 16.546875 10.359375 19.234375 8.375 \r\nQ 21.921875 6.390625 25.875 6.390625 \r\nQ 29.828125 6.390625 33.296875 8.421875 \r\nQ 36.765625 10.453125 38.203125 13.9375 \r\nQ 39.65625 17.4375 39.65625 24.078125 \r\nL 39.65625 51.859375 \r\nL 48.4375 51.859375 \r\nL 48.4375 0 \r\nz\r\n\" id=\"ArialMT-117\"/>\r\n       <path d=\"M 6.5 0 \r\nL 6.5 51.859375 \r\nL 14.40625 51.859375 \r\nL 14.40625 44 \r\nQ 17.4375 49.515625 20 51.265625 \r\nQ 22.5625 53.03125 25.640625 53.03125 \r\nQ 30.078125 53.03125 34.671875 50.203125 \r\nL 31.640625 42.046875 \r\nQ 28.421875 43.953125 25.203125 43.953125 \r\nQ 22.3125 43.953125 20.015625 42.21875 \r\nQ 17.71875 40.484375 16.75 37.40625 \r\nQ 15.28125 32.71875 15.28125 27.15625 \r\nL 15.28125 0 \r\nz\r\n\" id=\"ArialMT-114\"/>\r\n       <path d=\"M 6.203125 -19.96875 \r\nL 5.21875 -11.71875 \r\nQ 8.109375 -12.5 10.25 -12.5 \r\nQ 13.1875 -12.5 14.9375 -11.515625 \r\nQ 16.703125 -10.546875 17.828125 -8.796875 \r\nQ 18.65625 -7.46875 20.515625 -2.25 \r\nQ 20.75 -1.515625 21.296875 -0.09375 \r\nL 1.609375 51.859375 \r\nL 11.078125 51.859375 \r\nL 21.875 21.828125 \r\nQ 23.96875 16.109375 25.640625 9.8125 \r\nQ 27.15625 15.875 29.25 21.625 \r\nL 40.328125 51.859375 \r\nL 49.125 51.859375 \r\nL 29.390625 -0.875 \r\nQ 26.21875 -9.421875 24.46875 -12.640625 \r\nQ 22.125 -17 19.09375 -19.015625 \r\nQ 16.0625 -21.046875 11.859375 -21.046875 \r\nQ 9.328125 -21.046875 6.203125 -19.96875 \r\nz\r\n\" id=\"ArialMT-121\"/>\r\n      </defs>\r\n      <use xlink:href=\"#ArialMT-67\"/>\r\n      <use x=\"72.216797\" xlink:href=\"#ArialMT-111\"/>\r\n      <use x=\"127.832031\" xlink:href=\"#ArialMT-117\"/>\r\n      <use x=\"183.447266\" xlink:href=\"#ArialMT-110\"/>\r\n      <use x=\"239.0625\" xlink:href=\"#ArialMT-116\"/>\r\n      <use x=\"266.845703\" xlink:href=\"#ArialMT-114\"/>\r\n      <use x=\"300.146484\" xlink:href=\"#ArialMT-121\"/>\r\n     </g>\r\n    </g>\r\n    <g id=\"patch_80\">\r\n     <path d=\"M 501.001719 41.734844 \r\nL 523.001719 41.734844 \r\nL 523.001719 34.034844 \r\nL 501.001719 34.034844 \r\nz\r\n\" style=\"fill:#4c72b0;stroke:#ffffff;stroke-linejoin:miter;\"/>\r\n    </g>\r\n    <g id=\"text_20\">\r\n     <!-- China -->\r\n     <g style=\"fill:#262626;\" transform=\"translate(531.801719 41.734844)scale(0.11 -0.11)\">\r\n      <defs>\r\n       <path d=\"M 6.640625 61.46875 \r\nL 6.640625 71.578125 \r\nL 15.4375 71.578125 \r\nL 15.4375 61.46875 \r\nz\r\nM 6.640625 0 \r\nL 6.640625 51.859375 \r\nL 15.4375 51.859375 \r\nL 15.4375 0 \r\nz\r\n\" id=\"ArialMT-105\"/>\r\n       <path d=\"M 40.4375 6.390625 \r\nQ 35.546875 2.25 31.03125 0.53125 \r\nQ 26.515625 -1.171875 21.34375 -1.171875 \r\nQ 12.796875 -1.171875 8.203125 3 \r\nQ 3.609375 7.171875 3.609375 13.671875 \r\nQ 3.609375 17.484375 5.34375 20.625 \r\nQ 7.078125 23.78125 9.890625 25.6875 \r\nQ 12.703125 27.59375 16.21875 28.5625 \r\nQ 18.796875 29.25 24.03125 29.890625 \r\nQ 34.671875 31.15625 39.703125 32.90625 \r\nQ 39.75 34.71875 39.75 35.203125 \r\nQ 39.75 40.578125 37.25 42.78125 \r\nQ 33.890625 45.75 27.25 45.75 \r\nQ 21.046875 45.75 18.09375 43.578125 \r\nQ 15.140625 41.40625 13.71875 35.890625 \r\nL 5.125 37.0625 \r\nQ 6.296875 42.578125 8.984375 45.96875 \r\nQ 11.671875 49.359375 16.75 51.1875 \r\nQ 21.828125 53.03125 28.515625 53.03125 \r\nQ 35.15625 53.03125 39.296875 51.46875 \r\nQ 43.453125 49.90625 45.40625 47.53125 \r\nQ 47.359375 45.171875 48.140625 41.546875 \r\nQ 48.578125 39.3125 48.578125 33.453125 \r\nL 48.578125 21.734375 \r\nQ 48.578125 9.46875 49.140625 6.21875 \r\nQ 49.703125 2.984375 51.375 0 \r\nL 42.1875 0 \r\nQ 40.828125 2.734375 40.4375 6.390625 \r\nz\r\nM 39.703125 26.03125 \r\nQ 34.90625 24.078125 25.34375 22.703125 \r\nQ 19.921875 21.921875 17.671875 20.9375 \r\nQ 15.4375 19.96875 14.203125 18.09375 \r\nQ 12.984375 16.21875 12.984375 13.921875 \r\nQ 12.984375 10.40625 15.640625 8.0625 \r\nQ 18.3125 5.71875 23.4375 5.71875 \r\nQ 28.515625 5.71875 32.46875 7.9375 \r\nQ 36.421875 10.15625 38.28125 14.015625 \r\nQ 39.703125 17 39.703125 22.796875 \r\nz\r\n\" id=\"ArialMT-97\"/>\r\n      </defs>\r\n      <use xlink:href=\"#ArialMT-67\"/>\r\n      <use x=\"72.216797\" xlink:href=\"#ArialMT-104\"/>\r\n      <use x=\"127.832031\" xlink:href=\"#ArialMT-105\"/>\r\n      <use x=\"150.048828\" xlink:href=\"#ArialMT-110\"/>\r\n      <use x=\"205.664062\" xlink:href=\"#ArialMT-97\"/>\r\n     </g>\r\n    </g>\r\n    <g id=\"patch_81\">\r\n     <path d=\"M 501.001719 57.42875 \r\nL 523.001719 57.42875 \r\nL 523.001719 49.72875 \r\nL 501.001719 49.72875 \r\nz\r\n\" style=\"fill:#dd8452;stroke:#ffffff;stroke-linejoin:miter;\"/>\r\n    </g>\r\n    <g id=\"text_21\">\r\n     <!-- Germany -->\r\n     <g style=\"fill:#262626;\" transform=\"translate(531.801719 57.42875)scale(0.11 -0.11)\">\r\n      <defs>\r\n       <path d=\"M 41.21875 28.078125 \r\nL 41.21875 36.46875 \r\nL 71.53125 36.53125 \r\nL 71.53125 9.96875 \r\nQ 64.546875 4.390625 57.125 1.578125 \r\nQ 49.703125 -1.21875 41.890625 -1.21875 \r\nQ 31.34375 -1.21875 22.71875 3.296875 \r\nQ 14.109375 7.8125 9.71875 16.359375 \r\nQ 5.328125 24.90625 5.328125 35.453125 \r\nQ 5.328125 45.90625 9.6875 54.953125 \r\nQ 14.0625 64.015625 22.265625 68.40625 \r\nQ 30.46875 72.796875 41.15625 72.796875 \r\nQ 48.921875 72.796875 55.1875 70.28125 \r\nQ 61.46875 67.78125 65.03125 63.28125 \r\nQ 68.609375 58.796875 70.453125 51.5625 \r\nL 61.921875 49.21875 \r\nQ 60.296875 54.6875 57.90625 57.8125 \r\nQ 55.515625 60.9375 51.0625 62.8125 \r\nQ 46.625 64.703125 41.21875 64.703125 \r\nQ 34.71875 64.703125 29.984375 62.71875 \r\nQ 25.25 60.75 22.34375 57.515625 \r\nQ 19.4375 54.296875 17.828125 50.4375 \r\nQ 15.09375 43.796875 15.09375 36.03125 \r\nQ 15.09375 26.46875 18.390625 20.015625 \r\nQ 21.6875 13.578125 27.984375 10.453125 \r\nQ 34.28125 7.328125 41.359375 7.328125 \r\nQ 47.515625 7.328125 53.375 9.6875 \r\nQ 59.234375 12.0625 62.25 14.75 \r\nL 62.25 28.078125 \r\nz\r\n\" id=\"ArialMT-71\"/>\r\n       <path d=\"M 42.09375 16.703125 \r\nL 51.171875 15.578125 \r\nQ 49.03125 7.625 43.21875 3.21875 \r\nQ 37.40625 -1.171875 28.375 -1.171875 \r\nQ 17 -1.171875 10.328125 5.828125 \r\nQ 3.65625 12.84375 3.65625 25.484375 \r\nQ 3.65625 38.578125 10.390625 45.796875 \r\nQ 17.140625 53.03125 27.875 53.03125 \r\nQ 38.28125 53.03125 44.875 45.953125 \r\nQ 51.46875 38.875 51.46875 26.03125 \r\nQ 51.46875 25.25 51.421875 23.6875 \r\nL 12.75 23.6875 \r\nQ 13.234375 15.140625 17.578125 10.59375 \r\nQ 21.921875 6.0625 28.421875 6.0625 \r\nQ 33.25 6.0625 36.671875 8.59375 \r\nQ 40.09375 11.140625 42.09375 16.703125 \r\nz\r\nM 13.234375 30.90625 \r\nL 42.1875 30.90625 \r\nQ 41.609375 37.453125 38.875 40.71875 \r\nQ 34.671875 45.796875 27.984375 45.796875 \r\nQ 21.921875 45.796875 17.796875 41.75 \r\nQ 13.671875 37.703125 13.234375 30.90625 \r\nz\r\n\" id=\"ArialMT-101\"/>\r\n       <path d=\"M 6.59375 0 \r\nL 6.59375 51.859375 \r\nL 14.453125 51.859375 \r\nL 14.453125 44.578125 \r\nQ 16.890625 48.390625 20.9375 50.703125 \r\nQ 25 53.03125 30.171875 53.03125 \r\nQ 35.9375 53.03125 39.625 50.640625 \r\nQ 43.3125 48.25 44.828125 43.953125 \r\nQ 50.984375 53.03125 60.84375 53.03125 \r\nQ 68.5625 53.03125 72.703125 48.75 \r\nQ 76.859375 44.484375 76.859375 35.59375 \r\nL 76.859375 0 \r\nL 68.109375 0 \r\nL 68.109375 32.671875 \r\nQ 68.109375 37.9375 67.25 40.25 \r\nQ 66.40625 42.578125 64.15625 43.984375 \r\nQ 61.921875 45.40625 58.890625 45.40625 \r\nQ 53.421875 45.40625 49.796875 41.765625 \r\nQ 46.1875 38.140625 46.1875 30.125 \r\nL 46.1875 0 \r\nL 37.40625 0 \r\nL 37.40625 33.6875 \r\nQ 37.40625 39.546875 35.25 42.46875 \r\nQ 33.109375 45.40625 28.21875 45.40625 \r\nQ 24.515625 45.40625 21.359375 43.453125 \r\nQ 18.21875 41.5 16.796875 37.734375 \r\nQ 15.375 33.984375 15.375 26.90625 \r\nL 15.375 0 \r\nz\r\n\" id=\"ArialMT-109\"/>\r\n      </defs>\r\n      <use xlink:href=\"#ArialMT-71\"/>\r\n      <use x=\"77.783203\" xlink:href=\"#ArialMT-101\"/>\r\n      <use x=\"133.398438\" xlink:href=\"#ArialMT-114\"/>\r\n      <use x=\"166.699219\" xlink:href=\"#ArialMT-109\"/>\r\n      <use x=\"250\" xlink:href=\"#ArialMT-97\"/>\r\n      <use x=\"305.615234\" xlink:href=\"#ArialMT-110\"/>\r\n      <use x=\"361.230469\" xlink:href=\"#ArialMT-121\"/>\r\n     </g>\r\n    </g>\r\n    <g id=\"patch_82\">\r\n     <path d=\"M 501.001719 73.1175 \r\nL 523.001719 73.1175 \r\nL 523.001719 65.4175 \r\nL 501.001719 65.4175 \r\nz\r\n\" style=\"fill:#55a868;stroke:#ffffff;stroke-linejoin:miter;\"/>\r\n    </g>\r\n    <g id=\"text_22\">\r\n     <!-- India -->\r\n     <g style=\"fill:#262626;\" transform=\"translate(531.801719 73.1175)scale(0.11 -0.11)\">\r\n      <defs>\r\n       <path d=\"M 9.328125 0 \r\nL 9.328125 71.578125 \r\nL 18.796875 71.578125 \r\nL 18.796875 0 \r\nz\r\n\" id=\"ArialMT-73\"/>\r\n       <path d=\"M 40.234375 0 \r\nL 40.234375 6.546875 \r\nQ 35.296875 -1.171875 25.734375 -1.171875 \r\nQ 19.53125 -1.171875 14.328125 2.25 \r\nQ 9.125 5.671875 6.265625 11.796875 \r\nQ 3.421875 17.921875 3.421875 25.875 \r\nQ 3.421875 33.640625 6 39.96875 \r\nQ 8.59375 46.296875 13.765625 49.65625 \r\nQ 18.953125 53.03125 25.34375 53.03125 \r\nQ 30.03125 53.03125 33.6875 51.046875 \r\nQ 37.359375 49.078125 39.65625 45.90625 \r\nL 39.65625 71.578125 \r\nL 48.390625 71.578125 \r\nL 48.390625 0 \r\nz\r\nM 12.453125 25.875 \r\nQ 12.453125 15.921875 16.640625 10.984375 \r\nQ 20.84375 6.0625 26.5625 6.0625 \r\nQ 32.328125 6.0625 36.34375 10.765625 \r\nQ 40.375 15.484375 40.375 25.140625 \r\nQ 40.375 35.796875 36.265625 40.765625 \r\nQ 32.171875 45.75 26.171875 45.75 \r\nQ 20.3125 45.75 16.375 40.96875 \r\nQ 12.453125 36.1875 12.453125 25.875 \r\nz\r\n\" id=\"ArialMT-100\"/>\r\n      </defs>\r\n      <use xlink:href=\"#ArialMT-73\"/>\r\n      <use x=\"27.783203\" xlink:href=\"#ArialMT-110\"/>\r\n      <use x=\"83.398438\" xlink:href=\"#ArialMT-100\"/>\r\n      <use x=\"139.013672\" xlink:href=\"#ArialMT-105\"/>\r\n      <use x=\"161.230469\" xlink:href=\"#ArialMT-97\"/>\r\n     </g>\r\n    </g>\r\n    <g id=\"patch_83\">\r\n     <path d=\"M 501.001719 88.677344 \r\nL 523.001719 88.677344 \r\nL 523.001719 80.977344 \r\nL 501.001719 80.977344 \r\nz\r\n\" style=\"fill:#c44e52;stroke:#ffffff;stroke-linejoin:miter;\"/>\r\n    </g>\r\n    <g id=\"text_23\">\r\n     <!-- Italy -->\r\n     <g style=\"fill:#262626;\" transform=\"translate(531.801719 88.677344)scale(0.11 -0.11)\">\r\n      <defs>\r\n       <path d=\"M 6.390625 0 \r\nL 6.390625 71.578125 \r\nL 15.1875 71.578125 \r\nL 15.1875 0 \r\nz\r\n\" id=\"ArialMT-108\"/>\r\n      </defs>\r\n      <use xlink:href=\"#ArialMT-73\"/>\r\n      <use x=\"27.783203\" xlink:href=\"#ArialMT-116\"/>\r\n      <use x=\"55.566406\" xlink:href=\"#ArialMT-97\"/>\r\n      <use x=\"111.181641\" xlink:href=\"#ArialMT-108\"/>\r\n      <use x=\"133.398438\" xlink:href=\"#ArialMT-121\"/>\r\n     </g>\r\n    </g>\r\n    <g id=\"patch_84\">\r\n     <path d=\"M 501.001719 104.366094 \r\nL 523.001719 104.366094 \r\nL 523.001719 96.666094 \r\nL 501.001719 96.666094 \r\nz\r\n\" style=\"fill:#8172b3;stroke:#ffffff;stroke-linejoin:miter;\"/>\r\n    </g>\r\n    <g id=\"text_24\">\r\n     <!-- UK -->\r\n     <g style=\"fill:#262626;\" transform=\"translate(531.801719 104.366094)scale(0.11 -0.11)\">\r\n      <defs>\r\n       <path d=\"M 54.6875 71.578125 \r\nL 64.15625 71.578125 \r\nL 64.15625 30.21875 \r\nQ 64.15625 19.4375 61.71875 13.078125 \r\nQ 59.28125 6.734375 52.90625 2.75 \r\nQ 46.53125 -1.21875 36.1875 -1.21875 \r\nQ 26.125 -1.21875 19.71875 2.25 \r\nQ 13.328125 5.71875 10.59375 12.28125 \r\nQ 7.859375 18.84375 7.859375 30.21875 \r\nL 7.859375 71.578125 \r\nL 17.328125 71.578125 \r\nL 17.328125 30.28125 \r\nQ 17.328125 20.953125 19.0625 16.53125 \r\nQ 20.796875 12.109375 25.015625 9.71875 \r\nQ 29.25 7.328125 35.359375 7.328125 \r\nQ 45.796875 7.328125 50.234375 12.0625 \r\nQ 54.6875 16.796875 54.6875 30.28125 \r\nz\r\n\" id=\"ArialMT-85\"/>\r\n       <path d=\"M 7.328125 0 \r\nL 7.328125 71.578125 \r\nL 16.796875 71.578125 \r\nL 16.796875 36.078125 \r\nL 52.34375 71.578125 \r\nL 65.1875 71.578125 \r\nL 35.15625 42.578125 \r\nL 66.5 0 \r\nL 54 0 \r\nL 28.515625 36.234375 \r\nL 16.796875 24.8125 \r\nL 16.796875 0 \r\nz\r\n\" id=\"ArialMT-75\"/>\r\n      </defs>\r\n      <use xlink:href=\"#ArialMT-85\"/>\r\n      <use x=\"72.216797\" xlink:href=\"#ArialMT-75\"/>\r\n     </g>\r\n    </g>\r\n    <g id=\"patch_85\">\r\n     <path d=\"M 501.001719 119.925937 \r\nL 523.001719 119.925937 \r\nL 523.001719 112.225937 \r\nL 501.001719 112.225937 \r\nz\r\n\" style=\"fill:#937860;stroke:#ffffff;stroke-linejoin:miter;\"/>\r\n    </g>\r\n    <g id=\"text_25\">\r\n     <!-- USA -->\r\n     <g style=\"fill:#262626;\" transform=\"translate(531.801719 119.925937)scale(0.11 -0.11)\">\r\n      <defs>\r\n       <path d=\"M 4.5 23 \r\nL 13.421875 23.78125 \r\nQ 14.0625 18.40625 16.375 14.96875 \r\nQ 18.703125 11.53125 23.578125 9.40625 \r\nQ 28.46875 7.28125 34.578125 7.28125 \r\nQ 39.984375 7.28125 44.140625 8.890625 \r\nQ 48.296875 10.5 50.3125 13.296875 \r\nQ 52.34375 16.109375 52.34375 19.4375 \r\nQ 52.34375 22.796875 50.390625 25.3125 \r\nQ 48.4375 27.828125 43.953125 29.546875 \r\nQ 41.0625 30.671875 31.203125 33.03125 \r\nQ 21.34375 35.40625 17.390625 37.5 \r\nQ 12.25 40.1875 9.734375 44.15625 \r\nQ 7.234375 48.140625 7.234375 53.078125 \r\nQ 7.234375 58.5 10.296875 63.203125 \r\nQ 13.375 67.921875 19.28125 70.359375 \r\nQ 25.203125 72.796875 32.421875 72.796875 \r\nQ 40.375 72.796875 46.453125 70.234375 \r\nQ 52.546875 67.671875 55.8125 62.6875 \r\nQ 59.078125 57.71875 59.328125 51.421875 \r\nL 50.25 50.734375 \r\nQ 49.515625 57.515625 45.28125 60.984375 \r\nQ 41.0625 64.453125 32.8125 64.453125 \r\nQ 24.21875 64.453125 20.28125 61.296875 \r\nQ 16.359375 58.15625 16.359375 53.71875 \r\nQ 16.359375 49.859375 19.140625 47.359375 \r\nQ 21.875 44.875 33.421875 42.265625 \r\nQ 44.96875 39.65625 49.265625 37.703125 \r\nQ 55.515625 34.8125 58.484375 30.390625 \r\nQ 61.46875 25.984375 61.46875 20.21875 \r\nQ 61.46875 14.5 58.203125 9.4375 \r\nQ 54.9375 4.390625 48.796875 1.578125 \r\nQ 42.671875 -1.21875 35.015625 -1.21875 \r\nQ 25.296875 -1.21875 18.71875 1.609375 \r\nQ 12.15625 4.4375 8.421875 10.125 \r\nQ 4.6875 15.828125 4.5 23 \r\nz\r\n\" id=\"ArialMT-83\"/>\r\n       <path d=\"M -0.140625 0 \r\nL 27.34375 71.578125 \r\nL 37.546875 71.578125 \r\nL 66.84375 0 \r\nL 56.0625 0 \r\nL 47.703125 21.6875 \r\nL 17.78125 21.6875 \r\nL 9.90625 0 \r\nz\r\nM 20.515625 29.390625 \r\nL 44.78125 29.390625 \r\nL 37.3125 49.21875 \r\nQ 33.890625 58.25 32.234375 64.0625 \r\nQ 30.859375 57.171875 28.375 50.390625 \r\nz\r\n\" id=\"ArialMT-65\"/>\r\n      </defs>\r\n      <use xlink:href=\"#ArialMT-85\"/>\r\n      <use x=\"72.216797\" xlink:href=\"#ArialMT-83\"/>\r\n      <use x=\"138.916016\" xlink:href=\"#ArialMT-65\"/>\r\n     </g>\r\n    </g>\r\n   </g>\r\n  </g>\r\n </g>\r\n <defs>\r\n  <clipPath id=\"p52b7d154ec\">\r\n   <rect height=\"326.16\" width=\"558\" x=\"28.934062\" y=\"7.2\"/>\r\n  </clipPath>\r\n </defs>\r\n</svg>\r\n",
      "image/png": "[encoded data removed]"
     },
     "metadata": {}
    },
    {
     "output_type": "display_data",
     "data": {
      "text/plain": "<Figure size 1080x432 with 0 Axes>"
     },
     "metadata": {}
    }
   ],
   "source": [
    "import matplotlib.pyplot as plt\n",
    "import seaborn as sns\n",
    "\n",
    "df_unemployment.pivot(index='Month',columns='Country',values='Unemployment_Rate_Percent').plot(kind='bar')\n",
    "#df['PG_Rate'].plot(secondary_x=True)\n",
    "plt.xticks(rotation=45)\n",
    "plt.figure(figsize=(15,6))\n",
    "print(plt.rcParams.get('figure.figsize'))\n",
    "fig_size = plt.rcParams[\"figure.figsize\"]\n",
    "fig_size[0] = 15\n",
    "fig_size[1] = 10\n",
    "plt.rcParams[\"figure.figsize\"] = fig_size\n",
    "print(plt.rcParams.get('figure.figsize'))\n",
    "sns.set()\n",
    "plt.show()\n",
    "\n",
    "df_aggr_covid19_data=df_aggr_covid19_data.drop(df_aggr_covid19_data.index[df_aggr_covid19_data[\"year\"] == 2021])\n",
    "#print(df_aggr_covid19_data)\n",
    "\n"
   ]
  },
  {
   "cell_type": "raw",
   "id": "sorted-words",
   "metadata": {},
   "source": [
    "2) COVID-19 Growth Rate (Monthly Basis): Line graph reprsenting the  COVID-19 Growth Rate on Monthly Basis in the filterred countries"
   ]
  },
  {
   "cell_type": "code",
   "execution_count": 408,
   "id": "talented-attribute",
   "metadata": {},
   "outputs": [
    {
     "output_type": "stream",
     "name": "stdout",
     "text": [
      "[15.0, 10.0]\n[15.0, 10.0]\n"
     ]
    },
    {
     "output_type": "display_data",
     "data": {
      "text/plain": "<Figure size 1080x720 with 1 Axes>",
      "image/svg+xml": "<?xml version=\"1.0\" encoding=\"utf-8\" standalone=\"no\"?>\r\n<!DOCTYPE svg PUBLIC \"-//W3C//DTD SVG 1.1//EN\"\r\n  \"http://www.w3.org/Graphics/SVG/1.1/DTD/svg11.dtd\">\r\n<!-- Created with matplotlib (https://matplotlib.org/) -->\r\n<svg height=\"609.112141pt\" version=\"1.1\" viewBox=\"0 0 876.19 609.112141\" width=\"876.19pt\" xmlns=\"http://www.w3.org/2000/svg\" xmlns:xlink=\"http://www.w3.org/1999/xlink\">\r\n <metadata>\r\n  <rdf:RDF xmlns:cc=\"http://creativecommons.org/ns#\" xmlns:dc=\"http://purl.org/dc/elements/1.1/\" xmlns:rdf=\"http://www.w3.org/1999/02/22-rdf-syntax-ns#\">\r\n   <cc:Work>\r\n    <dc:type rdf:resource=\"http://purl.org/dc/dcmitype/StillImage\"/>\r\n    <dc:date>2021-02-14T14:52:37.836149</dc:date>\r\n    <dc:format>image/svg+xml</dc:format>\r\n    <dc:creator>\r\n     <cc:Agent>\r\n      <dc:title>Matplotlib v3.3.4, https://matplotlib.org/</dc:title>\r\n     </cc:Agent>\r\n    </dc:creator>\r\n   </cc:Work>\r\n  </rdf:RDF>\r\n </metadata>\r\n <defs>\r\n  <style type=\"text/css\">*{stroke-linecap:butt;stroke-linejoin:round;}</style>\r\n </defs>\r\n <g id=\"figure_1\">\r\n  <g id=\"patch_1\">\r\n   <path d=\"M 0 609.112141 \r\nL 876.19 609.112141 \r\nL 876.19 0 \r\nL 0 0 \r\nz\r\n\" style=\"fill:#ffffff;\"/>\r\n  </g>\r\n  <g id=\"axes_1\">\r\n   <g id=\"patch_2\">\r\n    <path d=\"M 31.99 561.673594 \r\nL 868.99 561.673594 \r\nL 868.99 18.073594 \r\nL 31.99 18.073594 \r\nz\r\n\" style=\"fill:#eaeaf2;\"/>\r\n   </g>\r\n   <g id=\"matplotlib.axis_1\">\r\n    <g id=\"xtick_1\">\r\n     <g id=\"line2d_1\">\r\n      <path clip-path=\"url(#pec10ca51ce)\" d=\"M 139.209008 561.673594 \r\nL 139.209008 18.073594 \r\n\" style=\"fill:none;stroke:#ffffff;stroke-linecap:round;\"/>\r\n     </g>\r\n     <g id=\"text_1\">\r\n      <!-- 2 -->\r\n      <g style=\"fill:#262626;\" transform=\"translate(139.057091 581.06646)rotate(-45)scale(0.11 -0.11)\">\r\n       <defs>\r\n        <path d=\"M 50.34375 8.453125 \r\nL 50.34375 0 \r\nL 3.03125 0 \r\nQ 2.9375 3.171875 4.046875 6.109375 \r\nQ 5.859375 10.9375 9.828125 15.625 \r\nQ 13.8125 20.3125 21.34375 26.46875 \r\nQ 33.015625 36.03125 37.109375 41.625 \r\nQ 41.21875 47.21875 41.21875 52.203125 \r\nQ 41.21875 57.421875 37.46875 61 \r\nQ 33.734375 64.59375 27.734375 64.59375 \r\nQ 21.390625 64.59375 17.578125 60.78125 \r\nQ 13.765625 56.984375 13.71875 50.25 \r\nL 4.6875 51.171875 \r\nQ 5.609375 61.28125 11.65625 66.578125 \r\nQ 17.71875 71.875 27.9375 71.875 \r\nQ 38.234375 71.875 44.234375 66.15625 \r\nQ 50.25 60.453125 50.25 52 \r\nQ 50.25 47.703125 48.484375 43.546875 \r\nQ 46.734375 39.40625 42.65625 34.8125 \r\nQ 38.578125 30.21875 29.109375 22.21875 \r\nQ 21.1875 15.578125 18.9375 13.203125 \r\nQ 16.703125 10.84375 15.234375 8.453125 \r\nz\r\n\" id=\"ArialMT-50\"/>\r\n       </defs>\r\n       <use xlink:href=\"#ArialMT-50\"/>\r\n      </g>\r\n     </g>\r\n    </g>\r\n    <g id=\"xtick_2\">\r\n     <g id=\"line2d_2\">\r\n      <path clip-path=\"url(#pec10ca51ce)\" d=\"M 277.556116 561.673594 \r\nL 277.556116 18.073594 \r\n\" style=\"fill:none;stroke:#ffffff;stroke-linecap:round;\"/>\r\n     </g>\r\n     <g id=\"text_2\">\r\n      <!-- 4 -->\r\n      <g style=\"fill:#262626;\" transform=\"translate(277.404198 581.06646)rotate(-45)scale(0.11 -0.11)\">\r\n       <defs>\r\n        <path d=\"M 32.328125 0 \r\nL 32.328125 17.140625 \r\nL 1.265625 17.140625 \r\nL 1.265625 25.203125 \r\nL 33.9375 71.578125 \r\nL 41.109375 71.578125 \r\nL 41.109375 25.203125 \r\nL 50.78125 25.203125 \r\nL 50.78125 17.140625 \r\nL 41.109375 17.140625 \r\nL 41.109375 0 \r\nz\r\nM 32.328125 25.203125 \r\nL 32.328125 57.46875 \r\nL 9.90625 25.203125 \r\nz\r\n\" id=\"ArialMT-52\"/>\r\n       </defs>\r\n       <use xlink:href=\"#ArialMT-52\"/>\r\n      </g>\r\n     </g>\r\n    </g>\r\n    <g id=\"xtick_3\">\r\n     <g id=\"line2d_3\">\r\n      <path clip-path=\"url(#pec10ca51ce)\" d=\"M 415.903223 561.673594 \r\nL 415.903223 18.073594 \r\n\" style=\"fill:none;stroke:#ffffff;stroke-linecap:round;\"/>\r\n     </g>\r\n     <g id=\"text_3\">\r\n      <!-- 6 -->\r\n      <g style=\"fill:#262626;\" transform=\"translate(415.751306 581.06646)rotate(-45)scale(0.11 -0.11)\">\r\n       <defs>\r\n        <path d=\"M 49.75 54.046875 \r\nL 41.015625 53.375 \r\nQ 39.84375 58.546875 37.703125 60.890625 \r\nQ 34.125 64.65625 28.90625 64.65625 \r\nQ 24.703125 64.65625 21.53125 62.3125 \r\nQ 17.390625 59.28125 14.984375 53.46875 \r\nQ 12.59375 47.65625 12.5 36.921875 \r\nQ 15.671875 41.75 20.265625 44.09375 \r\nQ 24.859375 46.4375 29.890625 46.4375 \r\nQ 38.671875 46.4375 44.84375 39.96875 \r\nQ 51.03125 33.5 51.03125 23.25 \r\nQ 51.03125 16.5 48.125 10.71875 \r\nQ 45.21875 4.9375 40.140625 1.859375 \r\nQ 35.0625 -1.21875 28.609375 -1.21875 \r\nQ 17.625 -1.21875 10.6875 6.859375 \r\nQ 3.765625 14.9375 3.765625 33.5 \r\nQ 3.765625 54.25 11.421875 63.671875 \r\nQ 18.109375 71.875 29.4375 71.875 \r\nQ 37.890625 71.875 43.28125 67.140625 \r\nQ 48.6875 62.40625 49.75 54.046875 \r\nz\r\nM 13.875 23.1875 \r\nQ 13.875 18.65625 15.796875 14.5 \r\nQ 17.71875 10.359375 21.1875 8.171875 \r\nQ 24.65625 6 28.46875 6 \r\nQ 34.03125 6 38.03125 10.484375 \r\nQ 42.046875 14.984375 42.046875 22.703125 \r\nQ 42.046875 30.125 38.078125 34.390625 \r\nQ 34.125 38.671875 28.125 38.671875 \r\nQ 22.171875 38.671875 18.015625 34.390625 \r\nQ 13.875 30.125 13.875 23.1875 \r\nz\r\n\" id=\"ArialMT-54\"/>\r\n       </defs>\r\n       <use xlink:href=\"#ArialMT-54\"/>\r\n      </g>\r\n     </g>\r\n    </g>\r\n    <g id=\"xtick_4\">\r\n     <g id=\"line2d_4\">\r\n      <path clip-path=\"url(#pec10ca51ce)\" d=\"M 554.250331 561.673594 \r\nL 554.250331 18.073594 \r\n\" style=\"fill:none;stroke:#ffffff;stroke-linecap:round;\"/>\r\n     </g>\r\n     <g id=\"text_4\">\r\n      <!-- 8 -->\r\n      <g style=\"fill:#262626;\" transform=\"translate(554.098413 581.06646)rotate(-45)scale(0.11 -0.11)\">\r\n       <defs>\r\n        <path d=\"M 17.671875 38.8125 \r\nQ 12.203125 40.828125 9.5625 44.53125 \r\nQ 6.9375 48.25 6.9375 53.421875 \r\nQ 6.9375 61.234375 12.546875 66.546875 \r\nQ 18.171875 71.875 27.484375 71.875 \r\nQ 36.859375 71.875 42.578125 66.421875 \r\nQ 48.296875 60.984375 48.296875 53.171875 \r\nQ 48.296875 48.1875 45.671875 44.5 \r\nQ 43.0625 40.828125 37.75 38.8125 \r\nQ 44.34375 36.671875 47.78125 31.875 \r\nQ 51.21875 27.09375 51.21875 20.453125 \r\nQ 51.21875 11.28125 44.71875 5.03125 \r\nQ 38.234375 -1.21875 27.640625 -1.21875 \r\nQ 17.046875 -1.21875 10.546875 5.046875 \r\nQ 4.046875 11.328125 4.046875 20.703125 \r\nQ 4.046875 27.6875 7.59375 32.390625 \r\nQ 11.140625 37.109375 17.671875 38.8125 \r\nz\r\nM 15.921875 53.71875 \r\nQ 15.921875 48.640625 19.1875 45.40625 \r\nQ 22.46875 42.1875 27.6875 42.1875 \r\nQ 32.765625 42.1875 36.015625 45.375 \r\nQ 39.265625 48.578125 39.265625 53.21875 \r\nQ 39.265625 58.0625 35.90625 61.359375 \r\nQ 32.5625 64.65625 27.59375 64.65625 \r\nQ 22.5625 64.65625 19.234375 61.421875 \r\nQ 15.921875 58.203125 15.921875 53.71875 \r\nz\r\nM 13.09375 20.65625 \r\nQ 13.09375 16.890625 14.875 13.375 \r\nQ 16.65625 9.859375 20.171875 7.921875 \r\nQ 23.6875 6 27.734375 6 \r\nQ 34.03125 6 38.125 10.046875 \r\nQ 42.234375 14.109375 42.234375 20.359375 \r\nQ 42.234375 26.703125 38.015625 30.859375 \r\nQ 33.796875 35.015625 27.4375 35.015625 \r\nQ 21.234375 35.015625 17.15625 30.90625 \r\nQ 13.09375 26.8125 13.09375 20.65625 \r\nz\r\n\" id=\"ArialMT-56\"/>\r\n       </defs>\r\n       <use xlink:href=\"#ArialMT-56\"/>\r\n      </g>\r\n     </g>\r\n    </g>\r\n    <g id=\"xtick_5\">\r\n     <g id=\"line2d_5\">\r\n      <path clip-path=\"url(#pec10ca51ce)\" d=\"M 692.597438 561.673594 \r\nL 692.597438 18.073594 \r\n\" style=\"fill:none;stroke:#ffffff;stroke-linecap:round;\"/>\r\n     </g>\r\n     <g id=\"text_5\">\r\n      <!-- 10 -->\r\n      <g style=\"fill:#262626;\" transform=\"translate(690.282823 585.391854)rotate(-45)scale(0.11 -0.11)\">\r\n       <defs>\r\n        <path d=\"M 37.25 0 \r\nL 28.46875 0 \r\nL 28.46875 56 \r\nQ 25.296875 52.984375 20.140625 49.953125 \r\nQ 14.984375 46.921875 10.890625 45.40625 \r\nL 10.890625 53.90625 \r\nQ 18.265625 57.375 23.78125 62.296875 \r\nQ 29.296875 67.234375 31.59375 71.875 \r\nL 37.25 71.875 \r\nz\r\n\" id=\"ArialMT-49\"/>\r\n        <path d=\"M 4.15625 35.296875 \r\nQ 4.15625 48 6.765625 55.734375 \r\nQ 9.375 63.484375 14.515625 67.671875 \r\nQ 19.671875 71.875 27.484375 71.875 \r\nQ 33.25 71.875 37.59375 69.546875 \r\nQ 41.9375 67.234375 44.765625 62.859375 \r\nQ 47.609375 58.5 49.21875 52.21875 \r\nQ 50.828125 45.953125 50.828125 35.296875 \r\nQ 50.828125 22.703125 48.234375 14.96875 \r\nQ 45.65625 7.234375 40.5 3 \r\nQ 35.359375 -1.21875 27.484375 -1.21875 \r\nQ 17.140625 -1.21875 11.234375 6.203125 \r\nQ 4.15625 15.140625 4.15625 35.296875 \r\nz\r\nM 13.1875 35.296875 \r\nQ 13.1875 17.671875 17.3125 11.828125 \r\nQ 21.4375 6 27.484375 6 \r\nQ 33.546875 6 37.671875 11.859375 \r\nQ 41.796875 17.71875 41.796875 35.296875 \r\nQ 41.796875 52.984375 37.671875 58.78125 \r\nQ 33.546875 64.59375 27.390625 64.59375 \r\nQ 21.34375 64.59375 17.71875 59.46875 \r\nQ 13.1875 52.9375 13.1875 35.296875 \r\nz\r\n\" id=\"ArialMT-48\"/>\r\n       </defs>\r\n       <use xlink:href=\"#ArialMT-49\"/>\r\n       <use x=\"55.615234\" xlink:href=\"#ArialMT-48\"/>\r\n      </g>\r\n     </g>\r\n    </g>\r\n    <g id=\"xtick_6\">\r\n     <g id=\"line2d_6\">\r\n      <path clip-path=\"url(#pec10ca51ce)\" d=\"M 830.944545 561.673594 \r\nL 830.944545 18.073594 \r\n\" style=\"fill:none;stroke:#ffffff;stroke-linecap:round;\"/>\r\n     </g>\r\n     <g id=\"text_6\">\r\n      <!-- 12 -->\r\n      <g style=\"fill:#262626;\" transform=\"translate(828.629931 585.391854)rotate(-45)scale(0.11 -0.11)\">\r\n       <use xlink:href=\"#ArialMT-49\"/>\r\n       <use x=\"55.615234\" xlink:href=\"#ArialMT-50\"/>\r\n      </g>\r\n     </g>\r\n    </g>\r\n    <g id=\"text_7\">\r\n     <!-- month -->\r\n     <g style=\"fill:#262626;\" transform=\"translate(433.815625 599.527141)scale(0.12 -0.12)\">\r\n      <defs>\r\n       <path d=\"M 6.59375 0 \r\nL 6.59375 51.859375 \r\nL 14.453125 51.859375 \r\nL 14.453125 44.578125 \r\nQ 16.890625 48.390625 20.9375 50.703125 \r\nQ 25 53.03125 30.171875 53.03125 \r\nQ 35.9375 53.03125 39.625 50.640625 \r\nQ 43.3125 48.25 44.828125 43.953125 \r\nQ 50.984375 53.03125 60.84375 53.03125 \r\nQ 68.5625 53.03125 72.703125 48.75 \r\nQ 76.859375 44.484375 76.859375 35.59375 \r\nL 76.859375 0 \r\nL 68.109375 0 \r\nL 68.109375 32.671875 \r\nQ 68.109375 37.9375 67.25 40.25 \r\nQ 66.40625 42.578125 64.15625 43.984375 \r\nQ 61.921875 45.40625 58.890625 45.40625 \r\nQ 53.421875 45.40625 49.796875 41.765625 \r\nQ 46.1875 38.140625 46.1875 30.125 \r\nL 46.1875 0 \r\nL 37.40625 0 \r\nL 37.40625 33.6875 \r\nQ 37.40625 39.546875 35.25 42.46875 \r\nQ 33.109375 45.40625 28.21875 45.40625 \r\nQ 24.515625 45.40625 21.359375 43.453125 \r\nQ 18.21875 41.5 16.796875 37.734375 \r\nQ 15.375 33.984375 15.375 26.90625 \r\nL 15.375 0 \r\nz\r\n\" id=\"ArialMT-109\"/>\r\n       <path d=\"M 3.328125 25.921875 \r\nQ 3.328125 40.328125 11.328125 47.265625 \r\nQ 18.015625 53.03125 27.640625 53.03125 \r\nQ 38.328125 53.03125 45.109375 46.015625 \r\nQ 51.90625 39.015625 51.90625 26.65625 \r\nQ 51.90625 16.65625 48.90625 10.90625 \r\nQ 45.90625 5.171875 40.15625 2 \r\nQ 34.421875 -1.171875 27.640625 -1.171875 \r\nQ 16.75 -1.171875 10.03125 5.8125 \r\nQ 3.328125 12.796875 3.328125 25.921875 \r\nz\r\nM 12.359375 25.921875 \r\nQ 12.359375 15.96875 16.703125 11.015625 \r\nQ 21.046875 6.0625 27.640625 6.0625 \r\nQ 34.1875 6.0625 38.53125 11.03125 \r\nQ 42.875 16.015625 42.875 26.21875 \r\nQ 42.875 35.84375 38.5 40.796875 \r\nQ 34.125 45.75 27.640625 45.75 \r\nQ 21.046875 45.75 16.703125 40.8125 \r\nQ 12.359375 35.890625 12.359375 25.921875 \r\nz\r\n\" id=\"ArialMT-111\"/>\r\n       <path d=\"M 6.59375 0 \r\nL 6.59375 51.859375 \r\nL 14.5 51.859375 \r\nL 14.5 44.484375 \r\nQ 20.21875 53.03125 31 53.03125 \r\nQ 35.6875 53.03125 39.625 51.34375 \r\nQ 43.5625 49.65625 45.515625 46.921875 \r\nQ 47.46875 44.1875 48.25 40.4375 \r\nQ 48.734375 37.984375 48.734375 31.890625 \r\nL 48.734375 0 \r\nL 39.9375 0 \r\nL 39.9375 31.546875 \r\nQ 39.9375 36.921875 38.90625 39.578125 \r\nQ 37.890625 42.234375 35.28125 43.8125 \r\nQ 32.671875 45.40625 29.15625 45.40625 \r\nQ 23.53125 45.40625 19.453125 41.84375 \r\nQ 15.375 38.28125 15.375 28.328125 \r\nL 15.375 0 \r\nz\r\n\" id=\"ArialMT-110\"/>\r\n       <path d=\"M 25.78125 7.859375 \r\nL 27.046875 0.09375 \r\nQ 23.34375 -0.6875 20.40625 -0.6875 \r\nQ 15.625 -0.6875 12.984375 0.828125 \r\nQ 10.359375 2.34375 9.28125 4.8125 \r\nQ 8.203125 7.28125 8.203125 15.1875 \r\nL 8.203125 45.015625 \r\nL 1.765625 45.015625 \r\nL 1.765625 51.859375 \r\nL 8.203125 51.859375 \r\nL 8.203125 64.703125 \r\nL 16.9375 69.96875 \r\nL 16.9375 51.859375 \r\nL 25.78125 51.859375 \r\nL 25.78125 45.015625 \r\nL 16.9375 45.015625 \r\nL 16.9375 14.703125 \r\nQ 16.9375 10.9375 17.40625 9.859375 \r\nQ 17.875 8.796875 18.921875 8.15625 \r\nQ 19.96875 7.515625 21.921875 7.515625 \r\nQ 23.390625 7.515625 25.78125 7.859375 \r\nz\r\n\" id=\"ArialMT-116\"/>\r\n       <path d=\"M 6.59375 0 \r\nL 6.59375 71.578125 \r\nL 15.375 71.578125 \r\nL 15.375 45.90625 \r\nQ 21.53125 53.03125 30.90625 53.03125 \r\nQ 36.671875 53.03125 40.921875 50.75 \r\nQ 45.171875 48.484375 47 44.484375 \r\nQ 48.828125 40.484375 48.828125 32.859375 \r\nL 48.828125 0 \r\nL 40.046875 0 \r\nL 40.046875 32.859375 \r\nQ 40.046875 39.453125 37.1875 42.453125 \r\nQ 34.328125 45.453125 29.109375 45.453125 \r\nQ 25.203125 45.453125 21.75 43.421875 \r\nQ 18.3125 41.40625 16.84375 37.9375 \r\nQ 15.375 34.46875 15.375 28.375 \r\nL 15.375 0 \r\nz\r\n\" id=\"ArialMT-104\"/>\r\n      </defs>\r\n      <use xlink:href=\"#ArialMT-109\"/>\r\n      <use x=\"83.300781\" xlink:href=\"#ArialMT-111\"/>\r\n      <use x=\"138.916016\" xlink:href=\"#ArialMT-110\"/>\r\n      <use x=\"194.53125\" xlink:href=\"#ArialMT-116\"/>\r\n      <use x=\"222.314453\" xlink:href=\"#ArialMT-104\"/>\r\n     </g>\r\n    </g>\r\n   </g>\r\n   <g id=\"matplotlib.axis_2\">\r\n    <g id=\"ytick_1\">\r\n     <g id=\"line2d_7\">\r\n      <path clip-path=\"url(#pec10ca51ce)\" d=\"M 31.99 536.920782 \r\nL 868.99 536.920782 \r\n\" style=\"fill:none;stroke:#ffffff;stroke-linecap:round;\"/>\r\n     </g>\r\n     <g id=\"text_8\">\r\n      <!-- 0.0 -->\r\n      <g style=\"fill:#262626;\" transform=\"translate(7.2 540.857579)scale(0.11 -0.11)\">\r\n       <defs>\r\n        <path d=\"M 9.078125 0 \r\nL 9.078125 10.015625 \r\nL 19.09375 10.015625 \r\nL 19.09375 0 \r\nz\r\n\" id=\"ArialMT-46\"/>\r\n       </defs>\r\n       <use xlink:href=\"#ArialMT-48\"/>\r\n       <use x=\"55.615234\" xlink:href=\"#ArialMT-46\"/>\r\n       <use x=\"83.398438\" xlink:href=\"#ArialMT-48\"/>\r\n      </g>\r\n     </g>\r\n    </g>\r\n    <g id=\"ytick_2\">\r\n     <g id=\"line2d_8\">\r\n      <path clip-path=\"url(#pec10ca51ce)\" d=\"M 31.99 449.478643 \r\nL 868.99 449.478643 \r\n\" style=\"fill:none;stroke:#ffffff;stroke-linecap:round;\"/>\r\n     </g>\r\n     <g id=\"text_9\">\r\n      <!-- 0.2 -->\r\n      <g style=\"fill:#262626;\" transform=\"translate(7.2 453.41544)scale(0.11 -0.11)\">\r\n       <use xlink:href=\"#ArialMT-48\"/>\r\n       <use x=\"55.615234\" xlink:href=\"#ArialMT-46\"/>\r\n       <use x=\"83.398438\" xlink:href=\"#ArialMT-50\"/>\r\n      </g>\r\n     </g>\r\n    </g>\r\n    <g id=\"ytick_3\">\r\n     <g id=\"line2d_9\">\r\n      <path clip-path=\"url(#pec10ca51ce)\" d=\"M 31.99 362.036505 \r\nL 868.99 362.036505 \r\n\" style=\"fill:none;stroke:#ffffff;stroke-linecap:round;\"/>\r\n     </g>\r\n     <g id=\"text_10\">\r\n      <!-- 0.4 -->\r\n      <g style=\"fill:#262626;\" transform=\"translate(7.2 365.973301)scale(0.11 -0.11)\">\r\n       <use xlink:href=\"#ArialMT-48\"/>\r\n       <use x=\"55.615234\" xlink:href=\"#ArialMT-46\"/>\r\n       <use x=\"83.398438\" xlink:href=\"#ArialMT-52\"/>\r\n      </g>\r\n     </g>\r\n    </g>\r\n    <g id=\"ytick_4\">\r\n     <g id=\"line2d_10\">\r\n      <path clip-path=\"url(#pec10ca51ce)\" d=\"M 31.99 274.594366 \r\nL 868.99 274.594366 \r\n\" style=\"fill:none;stroke:#ffffff;stroke-linecap:round;\"/>\r\n     </g>\r\n     <g id=\"text_11\">\r\n      <!-- 0.6 -->\r\n      <g style=\"fill:#262626;\" transform=\"translate(7.2 278.531163)scale(0.11 -0.11)\">\r\n       <use xlink:href=\"#ArialMT-48\"/>\r\n       <use x=\"55.615234\" xlink:href=\"#ArialMT-46\"/>\r\n       <use x=\"83.398438\" xlink:href=\"#ArialMT-54\"/>\r\n      </g>\r\n     </g>\r\n    </g>\r\n    <g id=\"ytick_5\">\r\n     <g id=\"line2d_11\">\r\n      <path clip-path=\"url(#pec10ca51ce)\" d=\"M 31.99 187.152227 \r\nL 868.99 187.152227 \r\n\" style=\"fill:none;stroke:#ffffff;stroke-linecap:round;\"/>\r\n     </g>\r\n     <g id=\"text_12\">\r\n      <!-- 0.8 -->\r\n      <g style=\"fill:#262626;\" transform=\"translate(7.2 191.089024)scale(0.11 -0.11)\">\r\n       <use xlink:href=\"#ArialMT-48\"/>\r\n       <use x=\"55.615234\" xlink:href=\"#ArialMT-46\"/>\r\n       <use x=\"83.398438\" xlink:href=\"#ArialMT-56\"/>\r\n      </g>\r\n     </g>\r\n    </g>\r\n    <g id=\"ytick_6\">\r\n     <g id=\"line2d_12\">\r\n      <path clip-path=\"url(#pec10ca51ce)\" d=\"M 31.99 99.710089 \r\nL 868.99 99.710089 \r\n\" style=\"fill:none;stroke:#ffffff;stroke-linecap:round;\"/>\r\n     </g>\r\n     <g id=\"text_13\">\r\n      <!-- 1.0 -->\r\n      <g style=\"fill:#262626;\" transform=\"translate(7.2 103.646886)scale(0.11 -0.11)\">\r\n       <use xlink:href=\"#ArialMT-49\"/>\r\n       <use x=\"55.615234\" xlink:href=\"#ArialMT-46\"/>\r\n       <use x=\"83.398438\" xlink:href=\"#ArialMT-48\"/>\r\n      </g>\r\n     </g>\r\n    </g>\r\n    <g id=\"text_14\">\r\n     <!-- 1e6 -->\r\n     <g style=\"fill:#262626;\" transform=\"translate(31.99 15.073594)scale(0.11 -0.11)\">\r\n      <defs>\r\n       <path d=\"M 42.09375 16.703125 \r\nL 51.171875 15.578125 \r\nQ 49.03125 7.625 43.21875 3.21875 \r\nQ 37.40625 -1.171875 28.375 -1.171875 \r\nQ 17 -1.171875 10.328125 5.828125 \r\nQ 3.65625 12.84375 3.65625 25.484375 \r\nQ 3.65625 38.578125 10.390625 45.796875 \r\nQ 17.140625 53.03125 27.875 53.03125 \r\nQ 38.28125 53.03125 44.875 45.953125 \r\nQ 51.46875 38.875 51.46875 26.03125 \r\nQ 51.46875 25.25 51.421875 23.6875 \r\nL 12.75 23.6875 \r\nQ 13.234375 15.140625 17.578125 10.59375 \r\nQ 21.921875 6.0625 28.421875 6.0625 \r\nQ 33.25 6.0625 36.671875 8.59375 \r\nQ 40.09375 11.140625 42.09375 16.703125 \r\nz\r\nM 13.234375 30.90625 \r\nL 42.1875 30.90625 \r\nQ 41.609375 37.453125 38.875 40.71875 \r\nQ 34.671875 45.796875 27.984375 45.796875 \r\nQ 21.921875 45.796875 17.796875 41.75 \r\nQ 13.671875 37.703125 13.234375 30.90625 \r\nz\r\n\" id=\"ArialMT-101\"/>\r\n      </defs>\r\n      <use xlink:href=\"#ArialMT-49\"/>\r\n      <use x=\"55.615234\" xlink:href=\"#ArialMT-101\"/>\r\n      <use x=\"111.230469\" xlink:href=\"#ArialMT-54\"/>\r\n     </g>\r\n    </g>\r\n   </g>\r\n   <g id=\"line2d_13\">\r\n    <path clip-path=\"url(#pec10ca51ce)\" d=\"M 139.209008 536.635891 \r\nL 208.382562 536.962666 \r\nL 277.556116 536.939419 \r\nL 346.729669 536.959549 \r\nL 415.903223 536.817462 \r\nL 485.076777 536.768134 \r\nL 554.250331 536.93009 \r\nL 623.423884 536.95229 \r\nL 692.597438 536.907617 \r\nL 761.770992 536.882706 \r\nL 830.944545 536.877374 \r\n\" style=\"fill:none;stroke:#4c72b0;stroke-linecap:round;stroke-width:1.5;\"/>\r\n   </g>\r\n   <g id=\"line2d_14\">\r\n    <path clip-path=\"url(#pec10ca51ce)\" d=\"M 70.035455 536.964431 \r\nL 139.209008 536.317431 \r\nL 208.382562 494.585198 \r\nL 277.556116 536.908913 \r\nL 346.729669 536.954723 \r\nL 415.903223 536.938769 \r\nL 485.076777 536.909957 \r\nL 554.250331 536.8641 \r\nL 623.423884 536.903361 \r\nL 692.597438 536.747422 \r\nL 761.770992 536.866012 \r\nL 830.944545 536.908393 \r\n\" style=\"fill:none;stroke:#dd8452;stroke-linecap:round;stroke-width:1.5;\"/>\r\n   </g>\r\n   <g id=\"line2d_15\">\r\n    <path clip-path=\"url(#pec10ca51ce)\" d=\"M 70.035455 536.964503 \r\nL 139.209008 536.877061 \r\nL 208.382562 506.490918 \r\nL 277.556116 535.914884 \r\nL 346.729669 536.761031 \r\nL 415.903223 536.853654 \r\nL 485.076777 536.841545 \r\nL 554.250331 536.885952 \r\nL 623.423884 536.907059 \r\nL 692.597438 536.933289 \r\nL 761.770992 536.93463 \r\nL 830.944545 536.937018 \r\n\" style=\"fill:none;stroke:#55a868;stroke-linecap:round;stroke-width:1.5;\"/>\r\n   </g>\r\n   <g id=\"line2d_16\">\r\n    <path clip-path=\"url(#pec10ca51ce)\" d=\"M 70.035455 536.964503 \r\nL 139.209008 512.349541 \r\nL 208.382562 532.90054 \r\nL 277.556116 536.922868 \r\nL 346.729669 536.952425 \r\nL 415.903223 536.952465 \r\nL 485.076777 536.924369 \r\nL 554.250331 536.828314 \r\nL 623.423884 536.872436 \r\nL 692.597438 536.615316 \r\nL 761.770992 536.853917 \r\nL 830.944545 536.94053 \r\n\" style=\"fill:none;stroke:#c44e52;stroke-linecap:round;stroke-width:1.5;\"/>\r\n   </g>\r\n   <g id=\"line2d_17\">\r\n    <path clip-path=\"url(#pec10ca51ce)\" d=\"M 70.035455 536.964503 \r\nL 139.209008 535.674731 \r\nL 208.382562 508.24643 \r\nL 277.556116 536.806609 \r\nL 346.729669 536.939896 \r\nL 415.903223 536.94914 \r\nL 485.076777 536.933577 \r\nL 554.250331 536.890157 \r\nL 623.423884 536.80984 \r\nL 692.597438 536.756986 \r\nL 761.770992 536.916089 \r\nL 830.944545 536.903577 \r\n\" style=\"fill:none;stroke:#8172b3;stroke-linecap:round;stroke-width:1.5;\"/>\r\n   </g>\r\n   <g id=\"line2d_18\">\r\n    <path clip-path=\"url(#pec10ca51ce)\" d=\"M 70.035455 536.964503 \r\nL 139.209008 536.858323 \r\nL 208.382562 42.782685 \r\nL 277.556116 536.762292 \r\nL 346.729669 536.929188 \r\nL 415.903223 536.913157 \r\nL 485.076777 536.864687 \r\nL 554.250331 536.931363 \r\nL 623.423884 536.928353 \r\nL 692.597438 536.894666 \r\nL 761.770992 536.86248 \r\nL 830.944545 536.902209 \r\n\" style=\"fill:none;stroke:#937860;stroke-linecap:round;stroke-width:1.5;\"/>\r\n   </g>\r\n   <g id=\"patch_3\">\r\n    <path d=\"M 31.99 561.673594 \r\nL 31.99 18.073594 \r\n\" style=\"fill:none;stroke:#ffffff;stroke-linecap:square;stroke-linejoin:miter;stroke-width:1.25;\"/>\r\n   </g>\r\n   <g id=\"patch_4\">\r\n    <path d=\"M 868.99 561.673594 \r\nL 868.99 18.073594 \r\n\" style=\"fill:none;stroke:#ffffff;stroke-linecap:square;stroke-linejoin:miter;stroke-width:1.25;\"/>\r\n   </g>\r\n   <g id=\"patch_5\">\r\n    <path d=\"M 31.99 561.673594 \r\nL 868.99 561.673594 \r\n\" style=\"fill:none;stroke:#ffffff;stroke-linecap:square;stroke-linejoin:miter;stroke-width:1.25;\"/>\r\n   </g>\r\n   <g id=\"patch_6\">\r\n    <path d=\"M 31.99 18.073594 \r\nL 868.99 18.073594 \r\n\" style=\"fill:none;stroke:#ffffff;stroke-linecap:square;stroke-linejoin:miter;stroke-width:1.25;\"/>\r\n   </g>\r\n   <g id=\"legend_1\">\r\n    <g id=\"patch_7\">\r\n     <path d=\"M 747.826719 137.227812 \r\nL 861.29 137.227812 \r\nQ 863.49 137.227812 863.49 135.027812 \r\nL 863.49 25.773594 \r\nQ 863.49 23.573594 861.29 23.573594 \r\nL 747.826719 23.573594 \r\nQ 745.626719 23.573594 745.626719 25.773594 \r\nL 745.626719 135.027812 \r\nQ 745.626719 137.227812 747.826719 137.227812 \r\nz\r\n\" style=\"fill:#eaeaf2;opacity:0.8;stroke:#cccccc;stroke-linejoin:miter;\"/>\r\n    </g>\r\n    <g id=\"text_15\">\r\n     <!-- location -->\r\n     <g style=\"fill:#262626;\" transform=\"translate(783.878984 36.562969)scale(0.12 -0.12)\">\r\n      <defs>\r\n       <path d=\"M 6.390625 0 \r\nL 6.390625 71.578125 \r\nL 15.1875 71.578125 \r\nL 15.1875 0 \r\nz\r\n\" id=\"ArialMT-108\"/>\r\n       <path d=\"M 40.4375 19 \r\nL 49.078125 17.875 \r\nQ 47.65625 8.9375 41.8125 3.875 \r\nQ 35.984375 -1.171875 27.484375 -1.171875 \r\nQ 16.84375 -1.171875 10.375 5.78125 \r\nQ 3.90625 12.75 3.90625 25.734375 \r\nQ 3.90625 34.125 6.6875 40.421875 \r\nQ 9.46875 46.734375 15.15625 49.875 \r\nQ 20.84375 53.03125 27.546875 53.03125 \r\nQ 35.984375 53.03125 41.359375 48.75 \r\nQ 46.734375 44.484375 48.25 36.625 \r\nL 39.703125 35.296875 \r\nQ 38.484375 40.53125 35.375 43.15625 \r\nQ 32.28125 45.796875 27.875 45.796875 \r\nQ 21.234375 45.796875 17.078125 41.03125 \r\nQ 12.9375 36.28125 12.9375 25.984375 \r\nQ 12.9375 15.53125 16.9375 10.796875 \r\nQ 20.953125 6.0625 27.390625 6.0625 \r\nQ 32.5625 6.0625 36.03125 9.234375 \r\nQ 39.5 12.40625 40.4375 19 \r\nz\r\n\" id=\"ArialMT-99\"/>\r\n       <path d=\"M 40.4375 6.390625 \r\nQ 35.546875 2.25 31.03125 0.53125 \r\nQ 26.515625 -1.171875 21.34375 -1.171875 \r\nQ 12.796875 -1.171875 8.203125 3 \r\nQ 3.609375 7.171875 3.609375 13.671875 \r\nQ 3.609375 17.484375 5.34375 20.625 \r\nQ 7.078125 23.78125 9.890625 25.6875 \r\nQ 12.703125 27.59375 16.21875 28.5625 \r\nQ 18.796875 29.25 24.03125 29.890625 \r\nQ 34.671875 31.15625 39.703125 32.90625 \r\nQ 39.75 34.71875 39.75 35.203125 \r\nQ 39.75 40.578125 37.25 42.78125 \r\nQ 33.890625 45.75 27.25 45.75 \r\nQ 21.046875 45.75 18.09375 43.578125 \r\nQ 15.140625 41.40625 13.71875 35.890625 \r\nL 5.125 37.0625 \r\nQ 6.296875 42.578125 8.984375 45.96875 \r\nQ 11.671875 49.359375 16.75 51.1875 \r\nQ 21.828125 53.03125 28.515625 53.03125 \r\nQ 35.15625 53.03125 39.296875 51.46875 \r\nQ 43.453125 49.90625 45.40625 47.53125 \r\nQ 47.359375 45.171875 48.140625 41.546875 \r\nQ 48.578125 39.3125 48.578125 33.453125 \r\nL 48.578125 21.734375 \r\nQ 48.578125 9.46875 49.140625 6.21875 \r\nQ 49.703125 2.984375 51.375 0 \r\nL 42.1875 0 \r\nQ 40.828125 2.734375 40.4375 6.390625 \r\nz\r\nM 39.703125 26.03125 \r\nQ 34.90625 24.078125 25.34375 22.703125 \r\nQ 19.921875 21.921875 17.671875 20.9375 \r\nQ 15.4375 19.96875 14.203125 18.09375 \r\nQ 12.984375 16.21875 12.984375 13.921875 \r\nQ 12.984375 10.40625 15.640625 8.0625 \r\nQ 18.3125 5.71875 23.4375 5.71875 \r\nQ 28.515625 5.71875 32.46875 7.9375 \r\nQ 36.421875 10.15625 38.28125 14.015625 \r\nQ 39.703125 17 39.703125 22.796875 \r\nz\r\n\" id=\"ArialMT-97\"/>\r\n       <path d=\"M 6.640625 61.46875 \r\nL 6.640625 71.578125 \r\nL 15.4375 71.578125 \r\nL 15.4375 61.46875 \r\nz\r\nM 6.640625 0 \r\nL 6.640625 51.859375 \r\nL 15.4375 51.859375 \r\nL 15.4375 0 \r\nz\r\n\" id=\"ArialMT-105\"/>\r\n      </defs>\r\n      <use xlink:href=\"#ArialMT-108\"/>\r\n      <use x=\"22.216797\" xlink:href=\"#ArialMT-111\"/>\r\n      <use x=\"77.832031\" xlink:href=\"#ArialMT-99\"/>\r\n      <use x=\"127.832031\" xlink:href=\"#ArialMT-97\"/>\r\n      <use x=\"183.447266\" xlink:href=\"#ArialMT-116\"/>\r\n      <use x=\"211.230469\" xlink:href=\"#ArialMT-105\"/>\r\n      <use x=\"233.447266\" xlink:href=\"#ArialMT-111\"/>\r\n      <use x=\"289.0625\" xlink:href=\"#ArialMT-110\"/>\r\n     </g>\r\n    </g>\r\n    <g id=\"line2d_19\">\r\n     <path d=\"M 750.026719 48.471562 \r\nL 772.026719 48.471562 \r\n\" style=\"fill:none;stroke:#4c72b0;stroke-linecap:round;stroke-width:1.5;\"/>\r\n    </g>\r\n    <g id=\"line2d_20\"/>\r\n    <g id=\"text_16\">\r\n     <!-- China -->\r\n     <g style=\"fill:#262626;\" transform=\"translate(780.826719 52.321562)scale(0.11 -0.11)\">\r\n      <defs>\r\n       <path d=\"M 58.796875 25.09375 \r\nL 68.265625 22.703125 \r\nQ 65.28125 11.03125 57.546875 4.90625 \r\nQ 49.8125 -1.21875 38.625 -1.21875 \r\nQ 27.046875 -1.21875 19.796875 3.484375 \r\nQ 12.546875 8.203125 8.765625 17.140625 \r\nQ 4.984375 26.078125 4.984375 36.328125 \r\nQ 4.984375 47.515625 9.25 55.828125 \r\nQ 13.53125 64.15625 21.40625 68.46875 \r\nQ 29.296875 72.796875 38.765625 72.796875 \r\nQ 49.515625 72.796875 56.828125 67.328125 \r\nQ 64.15625 61.859375 67.046875 51.953125 \r\nL 57.71875 49.75 \r\nQ 55.21875 57.5625 50.484375 61.125 \r\nQ 45.75 64.703125 38.578125 64.703125 \r\nQ 30.328125 64.703125 24.78125 60.734375 \r\nQ 19.234375 56.78125 16.984375 50.109375 \r\nQ 14.75 43.453125 14.75 36.375 \r\nQ 14.75 27.25 17.40625 20.4375 \r\nQ 20.0625 13.625 25.671875 10.25 \r\nQ 31.296875 6.890625 37.84375 6.890625 \r\nQ 45.796875 6.890625 51.3125 11.46875 \r\nQ 56.84375 16.0625 58.796875 25.09375 \r\nz\r\n\" id=\"ArialMT-67\"/>\r\n      </defs>\r\n      <use xlink:href=\"#ArialMT-67\"/>\r\n      <use x=\"72.216797\" xlink:href=\"#ArialMT-104\"/>\r\n      <use x=\"127.832031\" xlink:href=\"#ArialMT-105\"/>\r\n      <use x=\"150.048828\" xlink:href=\"#ArialMT-110\"/>\r\n      <use x=\"205.664062\" xlink:href=\"#ArialMT-97\"/>\r\n     </g>\r\n    </g>\r\n    <g id=\"line2d_21\">\r\n     <path d=\"M 750.026719 64.165469 \r\nL 772.026719 64.165469 \r\n\" style=\"fill:none;stroke:#dd8452;stroke-linecap:round;stroke-width:1.5;\"/>\r\n    </g>\r\n    <g id=\"line2d_22\"/>\r\n    <g id=\"text_17\">\r\n     <!-- Germany -->\r\n     <g style=\"fill:#262626;\" transform=\"translate(780.826719 68.015469)scale(0.11 -0.11)\">\r\n      <defs>\r\n       <path d=\"M 41.21875 28.078125 \r\nL 41.21875 36.46875 \r\nL 71.53125 36.53125 \r\nL 71.53125 9.96875 \r\nQ 64.546875 4.390625 57.125 1.578125 \r\nQ 49.703125 -1.21875 41.890625 -1.21875 \r\nQ 31.34375 -1.21875 22.71875 3.296875 \r\nQ 14.109375 7.8125 9.71875 16.359375 \r\nQ 5.328125 24.90625 5.328125 35.453125 \r\nQ 5.328125 45.90625 9.6875 54.953125 \r\nQ 14.0625 64.015625 22.265625 68.40625 \r\nQ 30.46875 72.796875 41.15625 72.796875 \r\nQ 48.921875 72.796875 55.1875 70.28125 \r\nQ 61.46875 67.78125 65.03125 63.28125 \r\nQ 68.609375 58.796875 70.453125 51.5625 \r\nL 61.921875 49.21875 \r\nQ 60.296875 54.6875 57.90625 57.8125 \r\nQ 55.515625 60.9375 51.0625 62.8125 \r\nQ 46.625 64.703125 41.21875 64.703125 \r\nQ 34.71875 64.703125 29.984375 62.71875 \r\nQ 25.25 60.75 22.34375 57.515625 \r\nQ 19.4375 54.296875 17.828125 50.4375 \r\nQ 15.09375 43.796875 15.09375 36.03125 \r\nQ 15.09375 26.46875 18.390625 20.015625 \r\nQ 21.6875 13.578125 27.984375 10.453125 \r\nQ 34.28125 7.328125 41.359375 7.328125 \r\nQ 47.515625 7.328125 53.375 9.6875 \r\nQ 59.234375 12.0625 62.25 14.75 \r\nL 62.25 28.078125 \r\nz\r\n\" id=\"ArialMT-71\"/>\r\n       <path d=\"M 6.5 0 \r\nL 6.5 51.859375 \r\nL 14.40625 51.859375 \r\nL 14.40625 44 \r\nQ 17.4375 49.515625 20 51.265625 \r\nQ 22.5625 53.03125 25.640625 53.03125 \r\nQ 30.078125 53.03125 34.671875 50.203125 \r\nL 31.640625 42.046875 \r\nQ 28.421875 43.953125 25.203125 43.953125 \r\nQ 22.3125 43.953125 20.015625 42.21875 \r\nQ 17.71875 40.484375 16.75 37.40625 \r\nQ 15.28125 32.71875 15.28125 27.15625 \r\nL 15.28125 0 \r\nz\r\n\" id=\"ArialMT-114\"/>\r\n       <path d=\"M 6.203125 -19.96875 \r\nL 5.21875 -11.71875 \r\nQ 8.109375 -12.5 10.25 -12.5 \r\nQ 13.1875 -12.5 14.9375 -11.515625 \r\nQ 16.703125 -10.546875 17.828125 -8.796875 \r\nQ 18.65625 -7.46875 20.515625 -2.25 \r\nQ 20.75 -1.515625 21.296875 -0.09375 \r\nL 1.609375 51.859375 \r\nL 11.078125 51.859375 \r\nL 21.875 21.828125 \r\nQ 23.96875 16.109375 25.640625 9.8125 \r\nQ 27.15625 15.875 29.25 21.625 \r\nL 40.328125 51.859375 \r\nL 49.125 51.859375 \r\nL 29.390625 -0.875 \r\nQ 26.21875 -9.421875 24.46875 -12.640625 \r\nQ 22.125 -17 19.09375 -19.015625 \r\nQ 16.0625 -21.046875 11.859375 -21.046875 \r\nQ 9.328125 -21.046875 6.203125 -19.96875 \r\nz\r\n\" id=\"ArialMT-121\"/>\r\n      </defs>\r\n      <use xlink:href=\"#ArialMT-71\"/>\r\n      <use x=\"77.783203\" xlink:href=\"#ArialMT-101\"/>\r\n      <use x=\"133.398438\" xlink:href=\"#ArialMT-114\"/>\r\n      <use x=\"166.699219\" xlink:href=\"#ArialMT-109\"/>\r\n      <use x=\"250\" xlink:href=\"#ArialMT-97\"/>\r\n      <use x=\"305.615234\" xlink:href=\"#ArialMT-110\"/>\r\n      <use x=\"361.230469\" xlink:href=\"#ArialMT-121\"/>\r\n     </g>\r\n    </g>\r\n    <g id=\"line2d_23\">\r\n     <path d=\"M 750.026719 79.854219 \r\nL 772.026719 79.854219 \r\n\" style=\"fill:none;stroke:#55a868;stroke-linecap:round;stroke-width:1.5;\"/>\r\n    </g>\r\n    <g id=\"line2d_24\"/>\r\n    <g id=\"text_18\">\r\n     <!-- India -->\r\n     <g style=\"fill:#262626;\" transform=\"translate(780.826719 83.704219)scale(0.11 -0.11)\">\r\n      <defs>\r\n       <path d=\"M 9.328125 0 \r\nL 9.328125 71.578125 \r\nL 18.796875 71.578125 \r\nL 18.796875 0 \r\nz\r\n\" id=\"ArialMT-73\"/>\r\n       <path d=\"M 40.234375 0 \r\nL 40.234375 6.546875 \r\nQ 35.296875 -1.171875 25.734375 -1.171875 \r\nQ 19.53125 -1.171875 14.328125 2.25 \r\nQ 9.125 5.671875 6.265625 11.796875 \r\nQ 3.421875 17.921875 3.421875 25.875 \r\nQ 3.421875 33.640625 6 39.96875 \r\nQ 8.59375 46.296875 13.765625 49.65625 \r\nQ 18.953125 53.03125 25.34375 53.03125 \r\nQ 30.03125 53.03125 33.6875 51.046875 \r\nQ 37.359375 49.078125 39.65625 45.90625 \r\nL 39.65625 71.578125 \r\nL 48.390625 71.578125 \r\nL 48.390625 0 \r\nz\r\nM 12.453125 25.875 \r\nQ 12.453125 15.921875 16.640625 10.984375 \r\nQ 20.84375 6.0625 26.5625 6.0625 \r\nQ 32.328125 6.0625 36.34375 10.765625 \r\nQ 40.375 15.484375 40.375 25.140625 \r\nQ 40.375 35.796875 36.265625 40.765625 \r\nQ 32.171875 45.75 26.171875 45.75 \r\nQ 20.3125 45.75 16.375 40.96875 \r\nQ 12.453125 36.1875 12.453125 25.875 \r\nz\r\n\" id=\"ArialMT-100\"/>\r\n      </defs>\r\n      <use xlink:href=\"#ArialMT-73\"/>\r\n      <use x=\"27.783203\" xlink:href=\"#ArialMT-110\"/>\r\n      <use x=\"83.398438\" xlink:href=\"#ArialMT-100\"/>\r\n      <use x=\"139.013672\" xlink:href=\"#ArialMT-105\"/>\r\n      <use x=\"161.230469\" xlink:href=\"#ArialMT-97\"/>\r\n     </g>\r\n    </g>\r\n    <g id=\"line2d_25\">\r\n     <path d=\"M 750.026719 95.414062 \r\nL 772.026719 95.414062 \r\n\" style=\"fill:none;stroke:#c44e52;stroke-linecap:round;stroke-width:1.5;\"/>\r\n    </g>\r\n    <g id=\"line2d_26\"/>\r\n    <g id=\"text_19\">\r\n     <!-- Italy -->\r\n     <g style=\"fill:#262626;\" transform=\"translate(780.826719 99.264062)scale(0.11 -0.11)\">\r\n      <use xlink:href=\"#ArialMT-73\"/>\r\n      <use x=\"27.783203\" xlink:href=\"#ArialMT-116\"/>\r\n      <use x=\"55.566406\" xlink:href=\"#ArialMT-97\"/>\r\n      <use x=\"111.181641\" xlink:href=\"#ArialMT-108\"/>\r\n      <use x=\"133.398438\" xlink:href=\"#ArialMT-121\"/>\r\n     </g>\r\n    </g>\r\n    <g id=\"line2d_27\">\r\n     <path d=\"M 750.026719 111.102812 \r\nL 772.026719 111.102812 \r\n\" style=\"fill:none;stroke:#8172b3;stroke-linecap:round;stroke-width:1.5;\"/>\r\n    </g>\r\n    <g id=\"line2d_28\"/>\r\n    <g id=\"text_20\">\r\n     <!-- United Kingdom -->\r\n     <g style=\"fill:#262626;\" transform=\"translate(780.826719 114.952812)scale(0.11 -0.11)\">\r\n      <defs>\r\n       <path d=\"M 54.6875 71.578125 \r\nL 64.15625 71.578125 \r\nL 64.15625 30.21875 \r\nQ 64.15625 19.4375 61.71875 13.078125 \r\nQ 59.28125 6.734375 52.90625 2.75 \r\nQ 46.53125 -1.21875 36.1875 -1.21875 \r\nQ 26.125 -1.21875 19.71875 2.25 \r\nQ 13.328125 5.71875 10.59375 12.28125 \r\nQ 7.859375 18.84375 7.859375 30.21875 \r\nL 7.859375 71.578125 \r\nL 17.328125 71.578125 \r\nL 17.328125 30.28125 \r\nQ 17.328125 20.953125 19.0625 16.53125 \r\nQ 20.796875 12.109375 25.015625 9.71875 \r\nQ 29.25 7.328125 35.359375 7.328125 \r\nQ 45.796875 7.328125 50.234375 12.0625 \r\nQ 54.6875 16.796875 54.6875 30.28125 \r\nz\r\n\" id=\"ArialMT-85\"/>\r\n       <path id=\"ArialMT-32\"/>\r\n       <path d=\"M 7.328125 0 \r\nL 7.328125 71.578125 \r\nL 16.796875 71.578125 \r\nL 16.796875 36.078125 \r\nL 52.34375 71.578125 \r\nL 65.1875 71.578125 \r\nL 35.15625 42.578125 \r\nL 66.5 0 \r\nL 54 0 \r\nL 28.515625 36.234375 \r\nL 16.796875 24.8125 \r\nL 16.796875 0 \r\nz\r\n\" id=\"ArialMT-75\"/>\r\n       <path d=\"M 4.984375 -4.296875 \r\nL 13.53125 -5.5625 \r\nQ 14.0625 -9.515625 16.5 -11.328125 \r\nQ 19.78125 -13.765625 25.4375 -13.765625 \r\nQ 31.546875 -13.765625 34.859375 -11.328125 \r\nQ 38.1875 -8.890625 39.359375 -4.5 \r\nQ 40.046875 -1.8125 39.984375 6.78125 \r\nQ 34.234375 0 25.640625 0 \r\nQ 14.9375 0 9.078125 7.71875 \r\nQ 3.21875 15.4375 3.21875 26.21875 \r\nQ 3.21875 33.640625 5.90625 39.90625 \r\nQ 8.59375 46.1875 13.6875 49.609375 \r\nQ 18.796875 53.03125 25.6875 53.03125 \r\nQ 34.859375 53.03125 40.828125 45.609375 \r\nL 40.828125 51.859375 \r\nL 48.921875 51.859375 \r\nL 48.921875 7.03125 \r\nQ 48.921875 -5.078125 46.453125 -10.125 \r\nQ 44 -15.1875 38.640625 -18.109375 \r\nQ 33.296875 -21.046875 25.484375 -21.046875 \r\nQ 16.21875 -21.046875 10.5 -16.875 \r\nQ 4.78125 -12.703125 4.984375 -4.296875 \r\nz\r\nM 12.25 26.859375 \r\nQ 12.25 16.65625 16.296875 11.96875 \r\nQ 20.359375 7.28125 26.46875 7.28125 \r\nQ 32.515625 7.28125 36.609375 11.9375 \r\nQ 40.71875 16.609375 40.71875 26.5625 \r\nQ 40.71875 36.078125 36.5 40.90625 \r\nQ 32.28125 45.75 26.3125 45.75 \r\nQ 20.453125 45.75 16.34375 40.984375 \r\nQ 12.25 36.234375 12.25 26.859375 \r\nz\r\n\" id=\"ArialMT-103\"/>\r\n      </defs>\r\n      <use xlink:href=\"#ArialMT-85\"/>\r\n      <use x=\"72.216797\" xlink:href=\"#ArialMT-110\"/>\r\n      <use x=\"127.832031\" xlink:href=\"#ArialMT-105\"/>\r\n      <use x=\"150.048828\" xlink:href=\"#ArialMT-116\"/>\r\n      <use x=\"177.832031\" xlink:href=\"#ArialMT-101\"/>\r\n      <use x=\"233.447266\" xlink:href=\"#ArialMT-100\"/>\r\n      <use x=\"289.0625\" xlink:href=\"#ArialMT-32\"/>\r\n      <use x=\"316.845703\" xlink:href=\"#ArialMT-75\"/>\r\n      <use x=\"383.544922\" xlink:href=\"#ArialMT-105\"/>\r\n      <use x=\"405.761719\" xlink:href=\"#ArialMT-110\"/>\r\n      <use x=\"461.376953\" xlink:href=\"#ArialMT-103\"/>\r\n      <use x=\"516.992188\" xlink:href=\"#ArialMT-100\"/>\r\n      <use x=\"572.607422\" xlink:href=\"#ArialMT-111\"/>\r\n      <use x=\"628.222656\" xlink:href=\"#ArialMT-109\"/>\r\n     </g>\r\n    </g>\r\n    <g id=\"line2d_29\">\r\n     <path d=\"M 750.026719 126.791562 \r\nL 772.026719 126.791562 \r\n\" style=\"fill:none;stroke:#937860;stroke-linecap:round;stroke-width:1.5;\"/>\r\n    </g>\r\n    <g id=\"line2d_30\"/>\r\n    <g id=\"text_21\">\r\n     <!-- United States -->\r\n     <g style=\"fill:#262626;\" transform=\"translate(780.826719 130.641562)scale(0.11 -0.11)\">\r\n      <defs>\r\n       <path d=\"M 4.5 23 \r\nL 13.421875 23.78125 \r\nQ 14.0625 18.40625 16.375 14.96875 \r\nQ 18.703125 11.53125 23.578125 9.40625 \r\nQ 28.46875 7.28125 34.578125 7.28125 \r\nQ 39.984375 7.28125 44.140625 8.890625 \r\nQ 48.296875 10.5 50.3125 13.296875 \r\nQ 52.34375 16.109375 52.34375 19.4375 \r\nQ 52.34375 22.796875 50.390625 25.3125 \r\nQ 48.4375 27.828125 43.953125 29.546875 \r\nQ 41.0625 30.671875 31.203125 33.03125 \r\nQ 21.34375 35.40625 17.390625 37.5 \r\nQ 12.25 40.1875 9.734375 44.15625 \r\nQ 7.234375 48.140625 7.234375 53.078125 \r\nQ 7.234375 58.5 10.296875 63.203125 \r\nQ 13.375 67.921875 19.28125 70.359375 \r\nQ 25.203125 72.796875 32.421875 72.796875 \r\nQ 40.375 72.796875 46.453125 70.234375 \r\nQ 52.546875 67.671875 55.8125 62.6875 \r\nQ 59.078125 57.71875 59.328125 51.421875 \r\nL 50.25 50.734375 \r\nQ 49.515625 57.515625 45.28125 60.984375 \r\nQ 41.0625 64.453125 32.8125 64.453125 \r\nQ 24.21875 64.453125 20.28125 61.296875 \r\nQ 16.359375 58.15625 16.359375 53.71875 \r\nQ 16.359375 49.859375 19.140625 47.359375 \r\nQ 21.875 44.875 33.421875 42.265625 \r\nQ 44.96875 39.65625 49.265625 37.703125 \r\nQ 55.515625 34.8125 58.484375 30.390625 \r\nQ 61.46875 25.984375 61.46875 20.21875 \r\nQ 61.46875 14.5 58.203125 9.4375 \r\nQ 54.9375 4.390625 48.796875 1.578125 \r\nQ 42.671875 -1.21875 35.015625 -1.21875 \r\nQ 25.296875 -1.21875 18.71875 1.609375 \r\nQ 12.15625 4.4375 8.421875 10.125 \r\nQ 4.6875 15.828125 4.5 23 \r\nz\r\n\" id=\"ArialMT-83\"/>\r\n       <path d=\"M 3.078125 15.484375 \r\nL 11.765625 16.84375 \r\nQ 12.5 11.625 15.84375 8.84375 \r\nQ 19.1875 6.0625 25.203125 6.0625 \r\nQ 31.25 6.0625 34.171875 8.515625 \r\nQ 37.109375 10.984375 37.109375 14.3125 \r\nQ 37.109375 17.28125 34.515625 19 \r\nQ 32.71875 20.171875 25.53125 21.96875 \r\nQ 15.875 24.421875 12.140625 26.203125 \r\nQ 8.40625 27.984375 6.46875 31.125 \r\nQ 4.546875 34.28125 4.546875 38.09375 \r\nQ 4.546875 41.546875 6.125 44.5 \r\nQ 7.71875 47.46875 10.453125 49.421875 \r\nQ 12.5 50.921875 16.03125 51.96875 \r\nQ 19.578125 53.03125 23.640625 53.03125 \r\nQ 29.734375 53.03125 34.34375 51.265625 \r\nQ 38.96875 49.515625 41.15625 46.5 \r\nQ 43.359375 43.5 44.1875 38.484375 \r\nL 35.59375 37.3125 \r\nQ 35.015625 41.3125 32.203125 43.546875 \r\nQ 29.390625 45.796875 24.265625 45.796875 \r\nQ 18.21875 45.796875 15.625 43.796875 \r\nQ 13.03125 41.796875 13.03125 39.109375 \r\nQ 13.03125 37.40625 14.109375 36.03125 \r\nQ 15.1875 34.625 17.484375 33.6875 \r\nQ 18.796875 33.203125 25.25 31.453125 \r\nQ 34.578125 28.953125 38.25 27.359375 \r\nQ 41.9375 25.78125 44.03125 22.75 \r\nQ 46.140625 19.734375 46.140625 15.234375 \r\nQ 46.140625 10.84375 43.578125 6.953125 \r\nQ 41.015625 3.078125 36.171875 0.953125 \r\nQ 31.34375 -1.171875 25.25 -1.171875 \r\nQ 15.140625 -1.171875 9.84375 3.03125 \r\nQ 4.546875 7.234375 3.078125 15.484375 \r\nz\r\n\" id=\"ArialMT-115\"/>\r\n      </defs>\r\n      <use xlink:href=\"#ArialMT-85\"/>\r\n      <use x=\"72.216797\" xlink:href=\"#ArialMT-110\"/>\r\n      <use x=\"127.832031\" xlink:href=\"#ArialMT-105\"/>\r\n      <use x=\"150.048828\" xlink:href=\"#ArialMT-116\"/>\r\n      <use x=\"177.832031\" xlink:href=\"#ArialMT-101\"/>\r\n      <use x=\"233.447266\" xlink:href=\"#ArialMT-100\"/>\r\n      <use x=\"289.0625\" xlink:href=\"#ArialMT-32\"/>\r\n      <use x=\"316.845703\" xlink:href=\"#ArialMT-83\"/>\r\n      <use x=\"383.544922\" xlink:href=\"#ArialMT-116\"/>\r\n      <use x=\"411.328125\" xlink:href=\"#ArialMT-97\"/>\r\n      <use x=\"466.943359\" xlink:href=\"#ArialMT-116\"/>\r\n      <use x=\"494.726562\" xlink:href=\"#ArialMT-101\"/>\r\n      <use x=\"550.341797\" xlink:href=\"#ArialMT-115\"/>\r\n     </g>\r\n    </g>\r\n   </g>\r\n  </g>\r\n </g>\r\n <defs>\r\n  <clipPath id=\"pec10ca51ce\">\r\n   <rect height=\"543.6\" width=\"837\" x=\"31.99\" y=\"18.073594\"/>\r\n  </clipPath>\r\n </defs>\r\n</svg>\r\n",
      "image/png": "[encoded data removed]"
     },
     "metadata": {}
    },
    {
     "output_type": "display_data",
     "data": {
      "text/plain": "<Figure size 1080x432 with 0 Axes>"
     },
     "metadata": {}
    }
   ],
   "source": [
    "df_aggr_covid19_data.pivot(index='month',columns='location',values='PG_Rate').plot(kind='line')\n",
    "#df.pivot(index='location',columns='month',values='PG_tageRate').plot(kind='line')\n",
    "plt.xticks(rotation=45)\n",
    "plt.figure(figsize=(15,6))\n",
    "print(plt.rcParams.get('figure.figsize'))\n",
    "fig_size = plt.rcParams[\"figure.figsize\"]\n",
    "fig_size[0] = 15\n",
    "fig_size[1] = 10\n",
    "plt.rcParams[\"figure.figsize\"] = fig_size\n",
    "print(plt.rcParams.get('figure.figsize'))\n",
    "\n",
    "#print(df_aggr_covid19_data)\n",
    "\n",
    "sns.set()\n",
    "plt.show()"
   ]
  },
  {
   "cell_type": "raw",
   "id": "statutory-cylinder",
   "metadata": {},
   "source": [
    "Conclusions: As the graph show, a sudden spike of COVID-19 Growth Rate was seen highest in USA in the month of 'March'"
   ]
  },
  {
   "cell_type": "raw",
   "id": "armed-malpractice",
   "metadata": {},
   "source": [
    "3) Unemployment Rate (Monthly Basis): Bar graph reprsenting the Unemployment Rate on Monthly Basis in China\n",
    "4) COVID-19 Growth Rate (Monthly Basis): Bar graph reprsenting the  COVID-19 Growth Rate on Monthly Basis in China"
   ]
  },
  {
   "cell_type": "code",
   "execution_count": 409,
   "id": "emotional-charger",
   "metadata": {},
   "outputs": [
    {
     "output_type": "stream",
     "name": "stdout",
     "text": [
      "    Month Country  Unemployment_Rate_Percent\n24      1   China                        5.3\n25      2   China                        6.2\n26      3   China                        5.9\n27      4   China                        6.0\n28      5   China                        5.9\n29      6   China                        5.7\n30      7   China                        5.7\n31      8   China                        5.6\n32      9   China                        5.4\n33     10   China                        5.3\n34     11   China                        5.2\n35     12   China                        5.2\n"
     ]
    },
    {
     "output_type": "display_data",
     "data": {
      "text/plain": "<Figure size 1080x720 with 1 Axes>",
      "image/svg+xml": "<?xml version=\"1.0\" encoding=\"utf-8\" standalone=\"no\"?>\r\n<!DOCTYPE svg PUBLIC \"-//W3C//DTD SVG 1.1//EN\"\r\n  \"http://www.w3.org/Graphics/SVG/1.1/DTD/svg11.dtd\">\r\n<!-- Created with matplotlib (https://matplotlib.org/) -->\r\n<svg height=\"594.708437pt\" version=\"1.1\" viewBox=\"0 0 882.278281 594.708437\" width=\"882.278281pt\" xmlns=\"http://www.w3.org/2000/svg\" xmlns:xlink=\"http://www.w3.org/1999/xlink\">\r\n <metadata>\r\n  <rdf:RDF xmlns:cc=\"http://creativecommons.org/ns#\" xmlns:dc=\"http://purl.org/dc/elements/1.1/\" xmlns:rdf=\"http://www.w3.org/1999/02/22-rdf-syntax-ns#\">\r\n   <cc:Work>\r\n    <dc:type rdf:resource=\"http://purl.org/dc/dcmitype/StillImage\"/>\r\n    <dc:date>2021-02-14T14:52:38.693979</dc:date>\r\n    <dc:format>image/svg+xml</dc:format>\r\n    <dc:creator>\r\n     <cc:Agent>\r\n      <dc:title>Matplotlib v3.3.4, https://matplotlib.org/</dc:title>\r\n     </cc:Agent>\r\n    </dc:creator>\r\n   </cc:Work>\r\n  </rdf:RDF>\r\n </metadata>\r\n <defs>\r\n  <style type=\"text/css\">*{stroke-linecap:butt;stroke-linejoin:round;}</style>\r\n </defs>\r\n <g id=\"figure_1\">\r\n  <g id=\"patch_1\">\r\n   <path d=\"M 0 594.708437 \r\nL 882.278281 594.708437 \r\nL 882.278281 0 \r\nL 0 0 \r\nz\r\n\" style=\"fill:#ffffff;\"/>\r\n  </g>\r\n  <g id=\"axes_1\">\r\n   <g id=\"patch_2\">\r\n    <path d=\"M 38.078281 550.8 \r\nL 875.078281 550.8 \r\nL 875.078281 7.2 \r\nL 38.078281 7.2 \r\nz\r\n\" style=\"fill:#eaeaf2;\"/>\r\n   </g>\r\n   <g id=\"matplotlib.axis_1\">\r\n    <g id=\"xtick_1\">\r\n     <g id=\"line2d_1\">\r\n      <path clip-path=\"url(#p14cf2cd8f1)\" d=\"M 72.953281 550.8 \r\nL 72.953281 7.2 \r\n\" style=\"fill:none;stroke:#ffffff;stroke-linecap:round;\"/>\r\n     </g>\r\n     <g id=\"text_1\">\r\n      <!-- 1 -->\r\n      <g style=\"fill:#262626;\" transform=\"translate(75.796953 566.417031)rotate(-90)scale(0.11 -0.11)\">\r\n       <defs>\r\n        <path d=\"M 37.25 0 \r\nL 28.46875 0 \r\nL 28.46875 56 \r\nQ 25.296875 52.984375 20.140625 49.953125 \r\nQ 14.984375 46.921875 10.890625 45.40625 \r\nL 10.890625 53.90625 \r\nQ 18.265625 57.375 23.78125 62.296875 \r\nQ 29.296875 67.234375 31.59375 71.875 \r\nL 37.25 71.875 \r\nz\r\n\" id=\"ArialMT-49\"/>\r\n       </defs>\r\n       <use xlink:href=\"#ArialMT-49\"/>\r\n      </g>\r\n     </g>\r\n    </g>\r\n    <g id=\"xtick_2\">\r\n     <g id=\"line2d_2\">\r\n      <path clip-path=\"url(#p14cf2cd8f1)\" d=\"M 142.703281 550.8 \r\nL 142.703281 7.2 \r\n\" style=\"fill:none;stroke:#ffffff;stroke-linecap:round;\"/>\r\n     </g>\r\n     <g id=\"text_2\">\r\n      <!-- 2 -->\r\n      <g style=\"fill:#262626;\" transform=\"translate(145.546953 566.417031)rotate(-90)scale(0.11 -0.11)\">\r\n       <defs>\r\n        <path d=\"M 50.34375 8.453125 \r\nL 50.34375 0 \r\nL 3.03125 0 \r\nQ 2.9375 3.171875 4.046875 6.109375 \r\nQ 5.859375 10.9375 9.828125 15.625 \r\nQ 13.8125 20.3125 21.34375 26.46875 \r\nQ 33.015625 36.03125 37.109375 41.625 \r\nQ 41.21875 47.21875 41.21875 52.203125 \r\nQ 41.21875 57.421875 37.46875 61 \r\nQ 33.734375 64.59375 27.734375 64.59375 \r\nQ 21.390625 64.59375 17.578125 60.78125 \r\nQ 13.765625 56.984375 13.71875 50.25 \r\nL 4.6875 51.171875 \r\nQ 5.609375 61.28125 11.65625 66.578125 \r\nQ 17.71875 71.875 27.9375 71.875 \r\nQ 38.234375 71.875 44.234375 66.15625 \r\nQ 50.25 60.453125 50.25 52 \r\nQ 50.25 47.703125 48.484375 43.546875 \r\nQ 46.734375 39.40625 42.65625 34.8125 \r\nQ 38.578125 30.21875 29.109375 22.21875 \r\nQ 21.1875 15.578125 18.9375 13.203125 \r\nQ 16.703125 10.84375 15.234375 8.453125 \r\nz\r\n\" id=\"ArialMT-50\"/>\r\n       </defs>\r\n       <use xlink:href=\"#ArialMT-50\"/>\r\n      </g>\r\n     </g>\r\n    </g>\r\n    <g id=\"xtick_3\">\r\n     <g id=\"line2d_3\">\r\n      <path clip-path=\"url(#p14cf2cd8f1)\" d=\"M 212.453281 550.8 \r\nL 212.453281 7.2 \r\n\" style=\"fill:none;stroke:#ffffff;stroke-linecap:round;\"/>\r\n     </g>\r\n     <g id=\"text_3\">\r\n      <!-- 3 -->\r\n      <g style=\"fill:#262626;\" transform=\"translate(215.296953 566.417031)rotate(-90)scale(0.11 -0.11)\">\r\n       <defs>\r\n        <path d=\"M 4.203125 18.890625 \r\nL 12.984375 20.0625 \r\nQ 14.5 12.59375 18.140625 9.296875 \r\nQ 21.78125 6 27 6 \r\nQ 33.203125 6 37.46875 10.296875 \r\nQ 41.75 14.59375 41.75 20.953125 \r\nQ 41.75 27 37.796875 30.921875 \r\nQ 33.84375 34.859375 27.734375 34.859375 \r\nQ 25.25 34.859375 21.53125 33.890625 \r\nL 22.515625 41.609375 \r\nQ 23.390625 41.5 23.921875 41.5 \r\nQ 29.546875 41.5 34.03125 44.421875 \r\nQ 38.53125 47.359375 38.53125 53.46875 \r\nQ 38.53125 58.296875 35.25 61.46875 \r\nQ 31.984375 64.65625 26.8125 64.65625 \r\nQ 21.6875 64.65625 18.265625 61.421875 \r\nQ 14.84375 58.203125 13.875 51.765625 \r\nL 5.078125 53.328125 \r\nQ 6.6875 62.15625 12.390625 67.015625 \r\nQ 18.109375 71.875 26.609375 71.875 \r\nQ 32.46875 71.875 37.390625 69.359375 \r\nQ 42.328125 66.84375 44.9375 62.5 \r\nQ 47.5625 58.15625 47.5625 53.265625 \r\nQ 47.5625 48.640625 45.0625 44.828125 \r\nQ 42.578125 41.015625 37.703125 38.765625 \r\nQ 44.046875 37.3125 47.5625 32.6875 \r\nQ 51.078125 28.078125 51.078125 21.140625 \r\nQ 51.078125 11.765625 44.234375 5.25 \r\nQ 37.40625 -1.265625 26.953125 -1.265625 \r\nQ 17.53125 -1.265625 11.296875 4.34375 \r\nQ 5.078125 9.96875 4.203125 18.890625 \r\nz\r\n\" id=\"ArialMT-51\"/>\r\n       </defs>\r\n       <use xlink:href=\"#ArialMT-51\"/>\r\n      </g>\r\n     </g>\r\n    </g>\r\n    <g id=\"xtick_4\">\r\n     <g id=\"line2d_4\">\r\n      <path clip-path=\"url(#p14cf2cd8f1)\" d=\"M 282.203281 550.8 \r\nL 282.203281 7.2 \r\n\" style=\"fill:none;stroke:#ffffff;stroke-linecap:round;\"/>\r\n     </g>\r\n     <g id=\"text_4\">\r\n      <!-- 4 -->\r\n      <g style=\"fill:#262626;\" transform=\"translate(285.046953 566.417031)rotate(-90)scale(0.11 -0.11)\">\r\n       <defs>\r\n        <path d=\"M 32.328125 0 \r\nL 32.328125 17.140625 \r\nL 1.265625 17.140625 \r\nL 1.265625 25.203125 \r\nL 33.9375 71.578125 \r\nL 41.109375 71.578125 \r\nL 41.109375 25.203125 \r\nL 50.78125 25.203125 \r\nL 50.78125 17.140625 \r\nL 41.109375 17.140625 \r\nL 41.109375 0 \r\nz\r\nM 32.328125 25.203125 \r\nL 32.328125 57.46875 \r\nL 9.90625 25.203125 \r\nz\r\n\" id=\"ArialMT-52\"/>\r\n       </defs>\r\n       <use xlink:href=\"#ArialMT-52\"/>\r\n      </g>\r\n     </g>\r\n    </g>\r\n    <g id=\"xtick_5\">\r\n     <g id=\"line2d_5\">\r\n      <path clip-path=\"url(#p14cf2cd8f1)\" d=\"M 351.953281 550.8 \r\nL 351.953281 7.2 \r\n\" style=\"fill:none;stroke:#ffffff;stroke-linecap:round;\"/>\r\n     </g>\r\n     <g id=\"text_5\">\r\n      <!-- 5 -->\r\n      <g style=\"fill:#262626;\" transform=\"translate(354.796953 566.417031)rotate(-90)scale(0.11 -0.11)\">\r\n       <defs>\r\n        <path d=\"M 4.15625 18.75 \r\nL 13.375 19.53125 \r\nQ 14.40625 12.796875 18.140625 9.390625 \r\nQ 21.875 6 27.15625 6 \r\nQ 33.5 6 37.890625 10.78125 \r\nQ 42.28125 15.578125 42.28125 23.484375 \r\nQ 42.28125 31 38.0625 35.34375 \r\nQ 33.84375 39.703125 27 39.703125 \r\nQ 22.75 39.703125 19.328125 37.765625 \r\nQ 15.921875 35.84375 13.96875 32.765625 \r\nL 5.71875 33.84375 \r\nL 12.640625 70.609375 \r\nL 48.25 70.609375 \r\nL 48.25 62.203125 \r\nL 19.671875 62.203125 \r\nL 15.828125 42.96875 \r\nQ 22.265625 47.46875 29.34375 47.46875 \r\nQ 38.71875 47.46875 45.15625 40.96875 \r\nQ 51.609375 34.46875 51.609375 24.265625 \r\nQ 51.609375 14.546875 45.953125 7.46875 \r\nQ 39.0625 -1.21875 27.15625 -1.21875 \r\nQ 17.390625 -1.21875 11.203125 4.25 \r\nQ 5.03125 9.71875 4.15625 18.75 \r\nz\r\n\" id=\"ArialMT-53\"/>\r\n       </defs>\r\n       <use xlink:href=\"#ArialMT-53\"/>\r\n      </g>\r\n     </g>\r\n    </g>\r\n    <g id=\"xtick_6\">\r\n     <g id=\"line2d_6\">\r\n      <path clip-path=\"url(#p14cf2cd8f1)\" d=\"M 421.703281 550.8 \r\nL 421.703281 7.2 \r\n\" style=\"fill:none;stroke:#ffffff;stroke-linecap:round;\"/>\r\n     </g>\r\n     <g id=\"text_6\">\r\n      <!-- 6 -->\r\n      <g style=\"fill:#262626;\" transform=\"translate(424.546953 566.417031)rotate(-90)scale(0.11 -0.11)\">\r\n       <defs>\r\n        <path d=\"M 49.75 54.046875 \r\nL 41.015625 53.375 \r\nQ 39.84375 58.546875 37.703125 60.890625 \r\nQ 34.125 64.65625 28.90625 64.65625 \r\nQ 24.703125 64.65625 21.53125 62.3125 \r\nQ 17.390625 59.28125 14.984375 53.46875 \r\nQ 12.59375 47.65625 12.5 36.921875 \r\nQ 15.671875 41.75 20.265625 44.09375 \r\nQ 24.859375 46.4375 29.890625 46.4375 \r\nQ 38.671875 46.4375 44.84375 39.96875 \r\nQ 51.03125 33.5 51.03125 23.25 \r\nQ 51.03125 16.5 48.125 10.71875 \r\nQ 45.21875 4.9375 40.140625 1.859375 \r\nQ 35.0625 -1.21875 28.609375 -1.21875 \r\nQ 17.625 -1.21875 10.6875 6.859375 \r\nQ 3.765625 14.9375 3.765625 33.5 \r\nQ 3.765625 54.25 11.421875 63.671875 \r\nQ 18.109375 71.875 29.4375 71.875 \r\nQ 37.890625 71.875 43.28125 67.140625 \r\nQ 48.6875 62.40625 49.75 54.046875 \r\nz\r\nM 13.875 23.1875 \r\nQ 13.875 18.65625 15.796875 14.5 \r\nQ 17.71875 10.359375 21.1875 8.171875 \r\nQ 24.65625 6 28.46875 6 \r\nQ 34.03125 6 38.03125 10.484375 \r\nQ 42.046875 14.984375 42.046875 22.703125 \r\nQ 42.046875 30.125 38.078125 34.390625 \r\nQ 34.125 38.671875 28.125 38.671875 \r\nQ 22.171875 38.671875 18.015625 34.390625 \r\nQ 13.875 30.125 13.875 23.1875 \r\nz\r\n\" id=\"ArialMT-54\"/>\r\n       </defs>\r\n       <use xlink:href=\"#ArialMT-54\"/>\r\n      </g>\r\n     </g>\r\n    </g>\r\n    <g id=\"xtick_7\">\r\n     <g id=\"line2d_7\">\r\n      <path clip-path=\"url(#p14cf2cd8f1)\" d=\"M 491.453281 550.8 \r\nL 491.453281 7.2 \r\n\" style=\"fill:none;stroke:#ffffff;stroke-linecap:round;\"/>\r\n     </g>\r\n     <g id=\"text_7\">\r\n      <!-- 7 -->\r\n      <g style=\"fill:#262626;\" transform=\"translate(494.296953 566.417031)rotate(-90)scale(0.11 -0.11)\">\r\n       <defs>\r\n        <path d=\"M 4.734375 62.203125 \r\nL 4.734375 70.65625 \r\nL 51.078125 70.65625 \r\nL 51.078125 63.8125 \r\nQ 44.234375 56.546875 37.515625 44.484375 \r\nQ 30.8125 32.421875 27.15625 19.671875 \r\nQ 24.515625 10.6875 23.78125 0 \r\nL 14.75 0 \r\nQ 14.890625 8.453125 18.0625 20.40625 \r\nQ 21.234375 32.375 27.171875 43.484375 \r\nQ 33.109375 54.59375 39.796875 62.203125 \r\nz\r\n\" id=\"ArialMT-55\"/>\r\n       </defs>\r\n       <use xlink:href=\"#ArialMT-55\"/>\r\n      </g>\r\n     </g>\r\n    </g>\r\n    <g id=\"xtick_8\">\r\n     <g id=\"line2d_8\">\r\n      <path clip-path=\"url(#p14cf2cd8f1)\" d=\"M 561.203281 550.8 \r\nL 561.203281 7.2 \r\n\" style=\"fill:none;stroke:#ffffff;stroke-linecap:round;\"/>\r\n     </g>\r\n     <g id=\"text_8\">\r\n      <!-- 8 -->\r\n      <g style=\"fill:#262626;\" transform=\"translate(564.046953 566.417031)rotate(-90)scale(0.11 -0.11)\">\r\n       <defs>\r\n        <path d=\"M 17.671875 38.8125 \r\nQ 12.203125 40.828125 9.5625 44.53125 \r\nQ 6.9375 48.25 6.9375 53.421875 \r\nQ 6.9375 61.234375 12.546875 66.546875 \r\nQ 18.171875 71.875 27.484375 71.875 \r\nQ 36.859375 71.875 42.578125 66.421875 \r\nQ 48.296875 60.984375 48.296875 53.171875 \r\nQ 48.296875 48.1875 45.671875 44.5 \r\nQ 43.0625 40.828125 37.75 38.8125 \r\nQ 44.34375 36.671875 47.78125 31.875 \r\nQ 51.21875 27.09375 51.21875 20.453125 \r\nQ 51.21875 11.28125 44.71875 5.03125 \r\nQ 38.234375 -1.21875 27.640625 -1.21875 \r\nQ 17.046875 -1.21875 10.546875 5.046875 \r\nQ 4.046875 11.328125 4.046875 20.703125 \r\nQ 4.046875 27.6875 7.59375 32.390625 \r\nQ 11.140625 37.109375 17.671875 38.8125 \r\nz\r\nM 15.921875 53.71875 \r\nQ 15.921875 48.640625 19.1875 45.40625 \r\nQ 22.46875 42.1875 27.6875 42.1875 \r\nQ 32.765625 42.1875 36.015625 45.375 \r\nQ 39.265625 48.578125 39.265625 53.21875 \r\nQ 39.265625 58.0625 35.90625 61.359375 \r\nQ 32.5625 64.65625 27.59375 64.65625 \r\nQ 22.5625 64.65625 19.234375 61.421875 \r\nQ 15.921875 58.203125 15.921875 53.71875 \r\nz\r\nM 13.09375 20.65625 \r\nQ 13.09375 16.890625 14.875 13.375 \r\nQ 16.65625 9.859375 20.171875 7.921875 \r\nQ 23.6875 6 27.734375 6 \r\nQ 34.03125 6 38.125 10.046875 \r\nQ 42.234375 14.109375 42.234375 20.359375 \r\nQ 42.234375 26.703125 38.015625 30.859375 \r\nQ 33.796875 35.015625 27.4375 35.015625 \r\nQ 21.234375 35.015625 17.15625 30.90625 \r\nQ 13.09375 26.8125 13.09375 20.65625 \r\nz\r\n\" id=\"ArialMT-56\"/>\r\n       </defs>\r\n       <use xlink:href=\"#ArialMT-56\"/>\r\n      </g>\r\n     </g>\r\n    </g>\r\n    <g id=\"xtick_9\">\r\n     <g id=\"line2d_9\">\r\n      <path clip-path=\"url(#p14cf2cd8f1)\" d=\"M 630.953281 550.8 \r\nL 630.953281 7.2 \r\n\" style=\"fill:none;stroke:#ffffff;stroke-linecap:round;\"/>\r\n     </g>\r\n     <g id=\"text_9\">\r\n      <!-- 9 -->\r\n      <g style=\"fill:#262626;\" transform=\"translate(633.796953 566.417031)rotate(-90)scale(0.11 -0.11)\">\r\n       <defs>\r\n        <path d=\"M 5.46875 16.546875 \r\nL 13.921875 17.328125 \r\nQ 14.984375 11.375 18.015625 8.6875 \r\nQ 21.046875 6 25.78125 6 \r\nQ 29.828125 6 32.875 7.859375 \r\nQ 35.9375 9.71875 37.890625 12.8125 \r\nQ 39.84375 15.921875 41.15625 21.1875 \r\nQ 42.484375 26.46875 42.484375 31.9375 \r\nQ 42.484375 32.515625 42.4375 33.6875 \r\nQ 39.796875 29.5 35.234375 26.875 \r\nQ 30.671875 24.265625 25.34375 24.265625 \r\nQ 16.453125 24.265625 10.296875 30.703125 \r\nQ 4.15625 37.15625 4.15625 47.703125 \r\nQ 4.15625 58.59375 10.578125 65.234375 \r\nQ 17 71.875 26.65625 71.875 \r\nQ 33.640625 71.875 39.421875 68.109375 \r\nQ 45.21875 64.359375 48.21875 57.390625 \r\nQ 51.21875 50.4375 51.21875 37.25 \r\nQ 51.21875 23.53125 48.234375 15.40625 \r\nQ 45.265625 7.28125 39.375 3.03125 \r\nQ 33.5 -1.21875 25.59375 -1.21875 \r\nQ 17.1875 -1.21875 11.859375 3.4375 \r\nQ 6.546875 8.109375 5.46875 16.546875 \r\nz\r\nM 41.453125 48.140625 \r\nQ 41.453125 55.71875 37.421875 60.15625 \r\nQ 33.40625 64.59375 27.734375 64.59375 \r\nQ 21.875 64.59375 17.53125 59.8125 \r\nQ 13.1875 55.03125 13.1875 47.40625 \r\nQ 13.1875 40.578125 17.3125 36.296875 \r\nQ 21.4375 32.03125 27.484375 32.03125 \r\nQ 33.59375 32.03125 37.515625 36.296875 \r\nQ 41.453125 40.578125 41.453125 48.140625 \r\nz\r\n\" id=\"ArialMT-57\"/>\r\n       </defs>\r\n       <use xlink:href=\"#ArialMT-57\"/>\r\n      </g>\r\n     </g>\r\n    </g>\r\n    <g id=\"xtick_10\">\r\n     <g id=\"line2d_10\">\r\n      <path clip-path=\"url(#p14cf2cd8f1)\" d=\"M 700.703281 550.8 \r\nL 700.703281 7.2 \r\n\" style=\"fill:none;stroke:#ffffff;stroke-linecap:round;\"/>\r\n     </g>\r\n     <g id=\"text_10\">\r\n      <!-- 10 -->\r\n      <g style=\"fill:#262626;\" transform=\"translate(703.546953 572.534062)rotate(-90)scale(0.11 -0.11)\">\r\n       <defs>\r\n        <path d=\"M 4.15625 35.296875 \r\nQ 4.15625 48 6.765625 55.734375 \r\nQ 9.375 63.484375 14.515625 67.671875 \r\nQ 19.671875 71.875 27.484375 71.875 \r\nQ 33.25 71.875 37.59375 69.546875 \r\nQ 41.9375 67.234375 44.765625 62.859375 \r\nQ 47.609375 58.5 49.21875 52.21875 \r\nQ 50.828125 45.953125 50.828125 35.296875 \r\nQ 50.828125 22.703125 48.234375 14.96875 \r\nQ 45.65625 7.234375 40.5 3 \r\nQ 35.359375 -1.21875 27.484375 -1.21875 \r\nQ 17.140625 -1.21875 11.234375 6.203125 \r\nQ 4.15625 15.140625 4.15625 35.296875 \r\nz\r\nM 13.1875 35.296875 \r\nQ 13.1875 17.671875 17.3125 11.828125 \r\nQ 21.4375 6 27.484375 6 \r\nQ 33.546875 6 37.671875 11.859375 \r\nQ 41.796875 17.71875 41.796875 35.296875 \r\nQ 41.796875 52.984375 37.671875 58.78125 \r\nQ 33.546875 64.59375 27.390625 64.59375 \r\nQ 21.34375 64.59375 17.71875 59.46875 \r\nQ 13.1875 52.9375 13.1875 35.296875 \r\nz\r\n\" id=\"ArialMT-48\"/>\r\n       </defs>\r\n       <use xlink:href=\"#ArialMT-49\"/>\r\n       <use x=\"55.615234\" xlink:href=\"#ArialMT-48\"/>\r\n      </g>\r\n     </g>\r\n    </g>\r\n    <g id=\"xtick_11\">\r\n     <g id=\"line2d_11\">\r\n      <path clip-path=\"url(#p14cf2cd8f1)\" d=\"M 770.453281 550.8 \r\nL 770.453281 7.2 \r\n\" style=\"fill:none;stroke:#ffffff;stroke-linecap:round;\"/>\r\n     </g>\r\n     <g id=\"text_11\">\r\n      <!-- 11 -->\r\n      <g style=\"fill:#262626;\" transform=\"translate(773.296953 571.722812)rotate(-90)scale(0.11 -0.11)\">\r\n       <use xlink:href=\"#ArialMT-49\"/>\r\n       <use x=\"48.240234\" xlink:href=\"#ArialMT-49\"/>\r\n      </g>\r\n     </g>\r\n    </g>\r\n    <g id=\"xtick_12\">\r\n     <g id=\"line2d_12\">\r\n      <path clip-path=\"url(#p14cf2cd8f1)\" d=\"M 840.203281 550.8 \r\nL 840.203281 7.2 \r\n\" style=\"fill:none;stroke:#ffffff;stroke-linecap:round;\"/>\r\n     </g>\r\n     <g id=\"text_12\">\r\n      <!-- 12 -->\r\n      <g style=\"fill:#262626;\" transform=\"translate(843.046953 572.534062)rotate(-90)scale(0.11 -0.11)\">\r\n       <use xlink:href=\"#ArialMT-49\"/>\r\n       <use x=\"55.615234\" xlink:href=\"#ArialMT-50\"/>\r\n      </g>\r\n     </g>\r\n    </g>\r\n    <g id=\"text_13\">\r\n     <!-- Months -->\r\n     <g style=\"fill:#262626;\" transform=\"translate(436.903906 585.123437)scale(0.12 -0.12)\">\r\n      <defs>\r\n       <path d=\"M 7.421875 0 \r\nL 7.421875 71.578125 \r\nL 21.6875 71.578125 \r\nL 38.625 20.90625 \r\nQ 40.96875 13.8125 42.046875 10.296875 \r\nQ 43.265625 14.203125 45.84375 21.78125 \r\nL 62.984375 71.578125 \r\nL 75.734375 71.578125 \r\nL 75.734375 0 \r\nL 66.609375 0 \r\nL 66.609375 59.90625 \r\nL 45.796875 0 \r\nL 37.25 0 \r\nL 16.546875 60.9375 \r\nL 16.546875 0 \r\nz\r\n\" id=\"ArialMT-77\"/>\r\n       <path d=\"M 3.328125 25.921875 \r\nQ 3.328125 40.328125 11.328125 47.265625 \r\nQ 18.015625 53.03125 27.640625 53.03125 \r\nQ 38.328125 53.03125 45.109375 46.015625 \r\nQ 51.90625 39.015625 51.90625 26.65625 \r\nQ 51.90625 16.65625 48.90625 10.90625 \r\nQ 45.90625 5.171875 40.15625 2 \r\nQ 34.421875 -1.171875 27.640625 -1.171875 \r\nQ 16.75 -1.171875 10.03125 5.8125 \r\nQ 3.328125 12.796875 3.328125 25.921875 \r\nz\r\nM 12.359375 25.921875 \r\nQ 12.359375 15.96875 16.703125 11.015625 \r\nQ 21.046875 6.0625 27.640625 6.0625 \r\nQ 34.1875 6.0625 38.53125 11.03125 \r\nQ 42.875 16.015625 42.875 26.21875 \r\nQ 42.875 35.84375 38.5 40.796875 \r\nQ 34.125 45.75 27.640625 45.75 \r\nQ 21.046875 45.75 16.703125 40.8125 \r\nQ 12.359375 35.890625 12.359375 25.921875 \r\nz\r\n\" id=\"ArialMT-111\"/>\r\n       <path d=\"M 6.59375 0 \r\nL 6.59375 51.859375 \r\nL 14.5 51.859375 \r\nL 14.5 44.484375 \r\nQ 20.21875 53.03125 31 53.03125 \r\nQ 35.6875 53.03125 39.625 51.34375 \r\nQ 43.5625 49.65625 45.515625 46.921875 \r\nQ 47.46875 44.1875 48.25 40.4375 \r\nQ 48.734375 37.984375 48.734375 31.890625 \r\nL 48.734375 0 \r\nL 39.9375 0 \r\nL 39.9375 31.546875 \r\nQ 39.9375 36.921875 38.90625 39.578125 \r\nQ 37.890625 42.234375 35.28125 43.8125 \r\nQ 32.671875 45.40625 29.15625 45.40625 \r\nQ 23.53125 45.40625 19.453125 41.84375 \r\nQ 15.375 38.28125 15.375 28.328125 \r\nL 15.375 0 \r\nz\r\n\" id=\"ArialMT-110\"/>\r\n       <path d=\"M 25.78125 7.859375 \r\nL 27.046875 0.09375 \r\nQ 23.34375 -0.6875 20.40625 -0.6875 \r\nQ 15.625 -0.6875 12.984375 0.828125 \r\nQ 10.359375 2.34375 9.28125 4.8125 \r\nQ 8.203125 7.28125 8.203125 15.1875 \r\nL 8.203125 45.015625 \r\nL 1.765625 45.015625 \r\nL 1.765625 51.859375 \r\nL 8.203125 51.859375 \r\nL 8.203125 64.703125 \r\nL 16.9375 69.96875 \r\nL 16.9375 51.859375 \r\nL 25.78125 51.859375 \r\nL 25.78125 45.015625 \r\nL 16.9375 45.015625 \r\nL 16.9375 14.703125 \r\nQ 16.9375 10.9375 17.40625 9.859375 \r\nQ 17.875 8.796875 18.921875 8.15625 \r\nQ 19.96875 7.515625 21.921875 7.515625 \r\nQ 23.390625 7.515625 25.78125 7.859375 \r\nz\r\n\" id=\"ArialMT-116\"/>\r\n       <path d=\"M 6.59375 0 \r\nL 6.59375 71.578125 \r\nL 15.375 71.578125 \r\nL 15.375 45.90625 \r\nQ 21.53125 53.03125 30.90625 53.03125 \r\nQ 36.671875 53.03125 40.921875 50.75 \r\nQ 45.171875 48.484375 47 44.484375 \r\nQ 48.828125 40.484375 48.828125 32.859375 \r\nL 48.828125 0 \r\nL 40.046875 0 \r\nL 40.046875 32.859375 \r\nQ 40.046875 39.453125 37.1875 42.453125 \r\nQ 34.328125 45.453125 29.109375 45.453125 \r\nQ 25.203125 45.453125 21.75 43.421875 \r\nQ 18.3125 41.40625 16.84375 37.9375 \r\nQ 15.375 34.46875 15.375 28.375 \r\nL 15.375 0 \r\nz\r\n\" id=\"ArialMT-104\"/>\r\n       <path d=\"M 3.078125 15.484375 \r\nL 11.765625 16.84375 \r\nQ 12.5 11.625 15.84375 8.84375 \r\nQ 19.1875 6.0625 25.203125 6.0625 \r\nQ 31.25 6.0625 34.171875 8.515625 \r\nQ 37.109375 10.984375 37.109375 14.3125 \r\nQ 37.109375 17.28125 34.515625 19 \r\nQ 32.71875 20.171875 25.53125 21.96875 \r\nQ 15.875 24.421875 12.140625 26.203125 \r\nQ 8.40625 27.984375 6.46875 31.125 \r\nQ 4.546875 34.28125 4.546875 38.09375 \r\nQ 4.546875 41.546875 6.125 44.5 \r\nQ 7.71875 47.46875 10.453125 49.421875 \r\nQ 12.5 50.921875 16.03125 51.96875 \r\nQ 19.578125 53.03125 23.640625 53.03125 \r\nQ 29.734375 53.03125 34.34375 51.265625 \r\nQ 38.96875 49.515625 41.15625 46.5 \r\nQ 43.359375 43.5 44.1875 38.484375 \r\nL 35.59375 37.3125 \r\nQ 35.015625 41.3125 32.203125 43.546875 \r\nQ 29.390625 45.796875 24.265625 45.796875 \r\nQ 18.21875 45.796875 15.625 43.796875 \r\nQ 13.03125 41.796875 13.03125 39.109375 \r\nQ 13.03125 37.40625 14.109375 36.03125 \r\nQ 15.1875 34.625 17.484375 33.6875 \r\nQ 18.796875 33.203125 25.25 31.453125 \r\nQ 34.578125 28.953125 38.25 27.359375 \r\nQ 41.9375 25.78125 44.03125 22.75 \r\nQ 46.140625 19.734375 46.140625 15.234375 \r\nQ 46.140625 10.84375 43.578125 6.953125 \r\nQ 41.015625 3.078125 36.171875 0.953125 \r\nQ 31.34375 -1.171875 25.25 -1.171875 \r\nQ 15.140625 -1.171875 9.84375 3.03125 \r\nQ 4.546875 7.234375 3.078125 15.484375 \r\nz\r\n\" id=\"ArialMT-115\"/>\r\n      </defs>\r\n      <use xlink:href=\"#ArialMT-77\"/>\r\n      <use x=\"83.300781\" xlink:href=\"#ArialMT-111\"/>\r\n      <use x=\"138.916016\" xlink:href=\"#ArialMT-110\"/>\r\n      <use x=\"194.53125\" xlink:href=\"#ArialMT-116\"/>\r\n      <use x=\"222.314453\" xlink:href=\"#ArialMT-104\"/>\r\n      <use x=\"277.929688\" xlink:href=\"#ArialMT-115\"/>\r\n     </g>\r\n    </g>\r\n   </g>\r\n   <g id=\"matplotlib.axis_2\">\r\n    <g id=\"ytick_1\">\r\n     <g id=\"line2d_13\">\r\n      <path clip-path=\"url(#p14cf2cd8f1)\" d=\"M 38.078281 550.8 \r\nL 875.078281 550.8 \r\n\" style=\"fill:none;stroke:#ffffff;stroke-linecap:round;\"/>\r\n     </g>\r\n     <g id=\"text_14\">\r\n      <!-- 0 -->\r\n      <g style=\"fill:#262626;\" transform=\"translate(22.46125 554.736797)scale(0.11 -0.11)\">\r\n       <use xlink:href=\"#ArialMT-48\"/>\r\n      </g>\r\n     </g>\r\n    </g>\r\n    <g id=\"ytick_2\">\r\n     <g id=\"line2d_14\">\r\n      <path clip-path=\"url(#p14cf2cd8f1)\" d=\"M 38.078281 467.297696 \r\nL 875.078281 467.297696 \r\n\" style=\"fill:none;stroke:#ffffff;stroke-linecap:round;\"/>\r\n     </g>\r\n     <g id=\"text_15\">\r\n      <!-- 1 -->\r\n      <g style=\"fill:#262626;\" transform=\"translate(22.46125 471.234493)scale(0.11 -0.11)\">\r\n       <use xlink:href=\"#ArialMT-49\"/>\r\n      </g>\r\n     </g>\r\n    </g>\r\n    <g id=\"ytick_3\">\r\n     <g id=\"line2d_15\">\r\n      <path clip-path=\"url(#p14cf2cd8f1)\" d=\"M 38.078281 383.795392 \r\nL 875.078281 383.795392 \r\n\" style=\"fill:none;stroke:#ffffff;stroke-linecap:round;\"/>\r\n     </g>\r\n     <g id=\"text_16\">\r\n      <!-- 2 -->\r\n      <g style=\"fill:#262626;\" transform=\"translate(22.46125 387.732189)scale(0.11 -0.11)\">\r\n       <use xlink:href=\"#ArialMT-50\"/>\r\n      </g>\r\n     </g>\r\n    </g>\r\n    <g id=\"ytick_4\">\r\n     <g id=\"line2d_16\">\r\n      <path clip-path=\"url(#p14cf2cd8f1)\" d=\"M 38.078281 300.293088 \r\nL 875.078281 300.293088 \r\n\" style=\"fill:none;stroke:#ffffff;stroke-linecap:round;\"/>\r\n     </g>\r\n     <g id=\"text_17\">\r\n      <!-- 3 -->\r\n      <g style=\"fill:#262626;\" transform=\"translate(22.46125 304.229884)scale(0.11 -0.11)\">\r\n       <use xlink:href=\"#ArialMT-51\"/>\r\n      </g>\r\n     </g>\r\n    </g>\r\n    <g id=\"ytick_5\">\r\n     <g id=\"line2d_17\">\r\n      <path clip-path=\"url(#p14cf2cd8f1)\" d=\"M 38.078281 216.790783 \r\nL 875.078281 216.790783 \r\n\" style=\"fill:none;stroke:#ffffff;stroke-linecap:round;\"/>\r\n     </g>\r\n     <g id=\"text_18\">\r\n      <!-- 4 -->\r\n      <g style=\"fill:#262626;\" transform=\"translate(22.46125 220.72758)scale(0.11 -0.11)\">\r\n       <use xlink:href=\"#ArialMT-52\"/>\r\n      </g>\r\n     </g>\r\n    </g>\r\n    <g id=\"ytick_6\">\r\n     <g id=\"line2d_18\">\r\n      <path clip-path=\"url(#p14cf2cd8f1)\" d=\"M 38.078281 133.288479 \r\nL 875.078281 133.288479 \r\n\" style=\"fill:none;stroke:#ffffff;stroke-linecap:round;\"/>\r\n     </g>\r\n     <g id=\"text_19\">\r\n      <!-- 5 -->\r\n      <g style=\"fill:#262626;\" transform=\"translate(22.46125 137.225276)scale(0.11 -0.11)\">\r\n       <use xlink:href=\"#ArialMT-53\"/>\r\n      </g>\r\n     </g>\r\n    </g>\r\n    <g id=\"ytick_7\">\r\n     <g id=\"line2d_19\">\r\n      <path clip-path=\"url(#p14cf2cd8f1)\" d=\"M 38.078281 49.786175 \r\nL 875.078281 49.786175 \r\n\" style=\"fill:none;stroke:#ffffff;stroke-linecap:round;\"/>\r\n     </g>\r\n     <g id=\"text_20\">\r\n      <!-- 6 -->\r\n      <g style=\"fill:#262626;\" transform=\"translate(22.46125 53.722972)scale(0.11 -0.11)\">\r\n       <use xlink:href=\"#ArialMT-54\"/>\r\n      </g>\r\n     </g>\r\n    </g>\r\n    <g id=\"text_21\">\r\n     <!-- Unemployemnt Rate % -->\r\n     <g style=\"fill:#262626;\" transform=\"translate(15.935625 340.690312)rotate(-90)scale(0.12 -0.12)\">\r\n      <defs>\r\n       <path d=\"M 54.6875 71.578125 \r\nL 64.15625 71.578125 \r\nL 64.15625 30.21875 \r\nQ 64.15625 19.4375 61.71875 13.078125 \r\nQ 59.28125 6.734375 52.90625 2.75 \r\nQ 46.53125 -1.21875 36.1875 -1.21875 \r\nQ 26.125 -1.21875 19.71875 2.25 \r\nQ 13.328125 5.71875 10.59375 12.28125 \r\nQ 7.859375 18.84375 7.859375 30.21875 \r\nL 7.859375 71.578125 \r\nL 17.328125 71.578125 \r\nL 17.328125 30.28125 \r\nQ 17.328125 20.953125 19.0625 16.53125 \r\nQ 20.796875 12.109375 25.015625 9.71875 \r\nQ 29.25 7.328125 35.359375 7.328125 \r\nQ 45.796875 7.328125 50.234375 12.0625 \r\nQ 54.6875 16.796875 54.6875 30.28125 \r\nz\r\n\" id=\"ArialMT-85\"/>\r\n       <path d=\"M 42.09375 16.703125 \r\nL 51.171875 15.578125 \r\nQ 49.03125 7.625 43.21875 3.21875 \r\nQ 37.40625 -1.171875 28.375 -1.171875 \r\nQ 17 -1.171875 10.328125 5.828125 \r\nQ 3.65625 12.84375 3.65625 25.484375 \r\nQ 3.65625 38.578125 10.390625 45.796875 \r\nQ 17.140625 53.03125 27.875 53.03125 \r\nQ 38.28125 53.03125 44.875 45.953125 \r\nQ 51.46875 38.875 51.46875 26.03125 \r\nQ 51.46875 25.25 51.421875 23.6875 \r\nL 12.75 23.6875 \r\nQ 13.234375 15.140625 17.578125 10.59375 \r\nQ 21.921875 6.0625 28.421875 6.0625 \r\nQ 33.25 6.0625 36.671875 8.59375 \r\nQ 40.09375 11.140625 42.09375 16.703125 \r\nz\r\nM 13.234375 30.90625 \r\nL 42.1875 30.90625 \r\nQ 41.609375 37.453125 38.875 40.71875 \r\nQ 34.671875 45.796875 27.984375 45.796875 \r\nQ 21.921875 45.796875 17.796875 41.75 \r\nQ 13.671875 37.703125 13.234375 30.90625 \r\nz\r\n\" id=\"ArialMT-101\"/>\r\n       <path d=\"M 6.59375 0 \r\nL 6.59375 51.859375 \r\nL 14.453125 51.859375 \r\nL 14.453125 44.578125 \r\nQ 16.890625 48.390625 20.9375 50.703125 \r\nQ 25 53.03125 30.171875 53.03125 \r\nQ 35.9375 53.03125 39.625 50.640625 \r\nQ 43.3125 48.25 44.828125 43.953125 \r\nQ 50.984375 53.03125 60.84375 53.03125 \r\nQ 68.5625 53.03125 72.703125 48.75 \r\nQ 76.859375 44.484375 76.859375 35.59375 \r\nL 76.859375 0 \r\nL 68.109375 0 \r\nL 68.109375 32.671875 \r\nQ 68.109375 37.9375 67.25 40.25 \r\nQ 66.40625 42.578125 64.15625 43.984375 \r\nQ 61.921875 45.40625 58.890625 45.40625 \r\nQ 53.421875 45.40625 49.796875 41.765625 \r\nQ 46.1875 38.140625 46.1875 30.125 \r\nL 46.1875 0 \r\nL 37.40625 0 \r\nL 37.40625 33.6875 \r\nQ 37.40625 39.546875 35.25 42.46875 \r\nQ 33.109375 45.40625 28.21875 45.40625 \r\nQ 24.515625 45.40625 21.359375 43.453125 \r\nQ 18.21875 41.5 16.796875 37.734375 \r\nQ 15.375 33.984375 15.375 26.90625 \r\nL 15.375 0 \r\nz\r\n\" id=\"ArialMT-109\"/>\r\n       <path d=\"M 6.59375 -19.875 \r\nL 6.59375 51.859375 \r\nL 14.59375 51.859375 \r\nL 14.59375 45.125 \r\nQ 17.4375 49.078125 21 51.046875 \r\nQ 24.5625 53.03125 29.640625 53.03125 \r\nQ 36.28125 53.03125 41.359375 49.609375 \r\nQ 46.4375 46.1875 49.015625 39.953125 \r\nQ 51.609375 33.734375 51.609375 26.3125 \r\nQ 51.609375 18.359375 48.75 11.984375 \r\nQ 45.90625 5.609375 40.453125 2.21875 \r\nQ 35.015625 -1.171875 29 -1.171875 \r\nQ 24.609375 -1.171875 21.109375 0.6875 \r\nQ 17.625 2.546875 15.375 5.375 \r\nL 15.375 -19.875 \r\nz\r\nM 14.546875 25.640625 \r\nQ 14.546875 15.625 18.59375 10.84375 \r\nQ 22.65625 6.0625 28.421875 6.0625 \r\nQ 34.28125 6.0625 38.453125 11.015625 \r\nQ 42.625 15.96875 42.625 26.375 \r\nQ 42.625 36.28125 38.546875 41.203125 \r\nQ 34.46875 46.140625 28.8125 46.140625 \r\nQ 23.1875 46.140625 18.859375 40.890625 \r\nQ 14.546875 35.640625 14.546875 25.640625 \r\nz\r\n\" id=\"ArialMT-112\"/>\r\n       <path d=\"M 6.390625 0 \r\nL 6.390625 71.578125 \r\nL 15.1875 71.578125 \r\nL 15.1875 0 \r\nz\r\n\" id=\"ArialMT-108\"/>\r\n       <path d=\"M 6.203125 -19.96875 \r\nL 5.21875 -11.71875 \r\nQ 8.109375 -12.5 10.25 -12.5 \r\nQ 13.1875 -12.5 14.9375 -11.515625 \r\nQ 16.703125 -10.546875 17.828125 -8.796875 \r\nQ 18.65625 -7.46875 20.515625 -2.25 \r\nQ 20.75 -1.515625 21.296875 -0.09375 \r\nL 1.609375 51.859375 \r\nL 11.078125 51.859375 \r\nL 21.875 21.828125 \r\nQ 23.96875 16.109375 25.640625 9.8125 \r\nQ 27.15625 15.875 29.25 21.625 \r\nL 40.328125 51.859375 \r\nL 49.125 51.859375 \r\nL 29.390625 -0.875 \r\nQ 26.21875 -9.421875 24.46875 -12.640625 \r\nQ 22.125 -17 19.09375 -19.015625 \r\nQ 16.0625 -21.046875 11.859375 -21.046875 \r\nQ 9.328125 -21.046875 6.203125 -19.96875 \r\nz\r\n\" id=\"ArialMT-121\"/>\r\n       <path id=\"ArialMT-32\"/>\r\n       <path d=\"M 7.859375 0 \r\nL 7.859375 71.578125 \r\nL 39.59375 71.578125 \r\nQ 49.171875 71.578125 54.140625 69.640625 \r\nQ 59.125 67.71875 62.109375 62.828125 \r\nQ 65.09375 57.953125 65.09375 52.046875 \r\nQ 65.09375 44.4375 60.15625 39.203125 \r\nQ 55.21875 33.984375 44.921875 32.5625 \r\nQ 48.6875 30.765625 50.640625 29 \r\nQ 54.78125 25.203125 58.5 19.484375 \r\nL 70.953125 0 \r\nL 59.03125 0 \r\nL 49.5625 14.890625 \r\nQ 45.40625 21.34375 42.71875 24.75 \r\nQ 40.046875 28.171875 37.921875 29.53125 \r\nQ 35.796875 30.90625 33.59375 31.453125 \r\nQ 31.984375 31.78125 28.328125 31.78125 \r\nL 17.328125 31.78125 \r\nL 17.328125 0 \r\nz\r\nM 17.328125 39.984375 \r\nL 37.703125 39.984375 \r\nQ 44.1875 39.984375 47.84375 41.328125 \r\nQ 51.515625 42.671875 53.421875 45.625 \r\nQ 55.328125 48.578125 55.328125 52.046875 \r\nQ 55.328125 57.125 51.640625 60.390625 \r\nQ 47.953125 63.671875 39.984375 63.671875 \r\nL 17.328125 63.671875 \r\nz\r\n\" id=\"ArialMT-82\"/>\r\n       <path d=\"M 40.4375 6.390625 \r\nQ 35.546875 2.25 31.03125 0.53125 \r\nQ 26.515625 -1.171875 21.34375 -1.171875 \r\nQ 12.796875 -1.171875 8.203125 3 \r\nQ 3.609375 7.171875 3.609375 13.671875 \r\nQ 3.609375 17.484375 5.34375 20.625 \r\nQ 7.078125 23.78125 9.890625 25.6875 \r\nQ 12.703125 27.59375 16.21875 28.5625 \r\nQ 18.796875 29.25 24.03125 29.890625 \r\nQ 34.671875 31.15625 39.703125 32.90625 \r\nQ 39.75 34.71875 39.75 35.203125 \r\nQ 39.75 40.578125 37.25 42.78125 \r\nQ 33.890625 45.75 27.25 45.75 \r\nQ 21.046875 45.75 18.09375 43.578125 \r\nQ 15.140625 41.40625 13.71875 35.890625 \r\nL 5.125 37.0625 \r\nQ 6.296875 42.578125 8.984375 45.96875 \r\nQ 11.671875 49.359375 16.75 51.1875 \r\nQ 21.828125 53.03125 28.515625 53.03125 \r\nQ 35.15625 53.03125 39.296875 51.46875 \r\nQ 43.453125 49.90625 45.40625 47.53125 \r\nQ 47.359375 45.171875 48.140625 41.546875 \r\nQ 48.578125 39.3125 48.578125 33.453125 \r\nL 48.578125 21.734375 \r\nQ 48.578125 9.46875 49.140625 6.21875 \r\nQ 49.703125 2.984375 51.375 0 \r\nL 42.1875 0 \r\nQ 40.828125 2.734375 40.4375 6.390625 \r\nz\r\nM 39.703125 26.03125 \r\nQ 34.90625 24.078125 25.34375 22.703125 \r\nQ 19.921875 21.921875 17.671875 20.9375 \r\nQ 15.4375 19.96875 14.203125 18.09375 \r\nQ 12.984375 16.21875 12.984375 13.921875 \r\nQ 12.984375 10.40625 15.640625 8.0625 \r\nQ 18.3125 5.71875 23.4375 5.71875 \r\nQ 28.515625 5.71875 32.46875 7.9375 \r\nQ 36.421875 10.15625 38.28125 14.015625 \r\nQ 39.703125 17 39.703125 22.796875 \r\nz\r\n\" id=\"ArialMT-97\"/>\r\n       <path d=\"M 5.8125 54.390625 \r\nQ 5.8125 62.0625 9.671875 67.421875 \r\nQ 13.53125 72.796875 20.84375 72.796875 \r\nQ 27.59375 72.796875 32 67.984375 \r\nQ 36.421875 63.1875 36.421875 53.859375 \r\nQ 36.421875 44.78125 31.953125 39.875 \r\nQ 27.484375 34.96875 20.953125 34.96875 \r\nQ 14.453125 34.96875 10.125 39.796875 \r\nQ 5.8125 44.625 5.8125 54.390625 \r\nz\r\nM 21.09375 66.75 \r\nQ 17.828125 66.75 15.65625 63.90625 \r\nQ 13.484375 61.078125 13.484375 53.515625 \r\nQ 13.484375 46.625 15.671875 43.8125 \r\nQ 17.875 41.015625 21.09375 41.015625 \r\nQ 24.421875 41.015625 26.59375 43.84375 \r\nQ 28.765625 46.6875 28.765625 54.203125 \r\nQ 28.765625 61.140625 26.5625 63.9375 \r\nQ 24.359375 66.75 21.09375 66.75 \r\nz\r\nM 21.140625 -2.640625 \r\nL 60.296875 72.796875 \r\nL 67.4375 72.796875 \r\nL 28.421875 -2.640625 \r\nz\r\nM 52.09375 16.796875 \r\nQ 52.09375 24.515625 55.953125 29.859375 \r\nQ 59.8125 35.203125 67.1875 35.203125 \r\nQ 73.921875 35.203125 78.34375 30.390625 \r\nQ 82.765625 25.59375 82.765625 16.265625 \r\nQ 82.765625 7.171875 78.296875 2.265625 \r\nQ 73.828125 -2.640625 67.234375 -2.640625 \r\nQ 60.75 -2.640625 56.421875 2.21875 \r\nQ 52.09375 7.078125 52.09375 16.796875 \r\nz\r\nM 67.4375 29.15625 \r\nQ 64.109375 29.15625 61.9375 26.3125 \r\nQ 59.765625 23.484375 59.765625 15.921875 \r\nQ 59.765625 9.078125 61.953125 6.25 \r\nQ 64.15625 3.421875 67.390625 3.421875 \r\nQ 70.75 3.421875 72.921875 6.25 \r\nQ 75.09375 9.078125 75.09375 16.609375 \r\nQ 75.09375 23.53125 72.890625 26.34375 \r\nQ 70.703125 29.15625 67.4375 29.15625 \r\nz\r\n\" id=\"ArialMT-37\"/>\r\n      </defs>\r\n      <use xlink:href=\"#ArialMT-85\"/>\r\n      <use x=\"72.216797\" xlink:href=\"#ArialMT-110\"/>\r\n      <use x=\"127.832031\" xlink:href=\"#ArialMT-101\"/>\r\n      <use x=\"183.447266\" xlink:href=\"#ArialMT-109\"/>\r\n      <use x=\"266.748047\" xlink:href=\"#ArialMT-112\"/>\r\n      <use x=\"322.363281\" xlink:href=\"#ArialMT-108\"/>\r\n      <use x=\"344.580078\" xlink:href=\"#ArialMT-111\"/>\r\n      <use x=\"400.195312\" xlink:href=\"#ArialMT-121\"/>\r\n      <use x=\"450.195312\" xlink:href=\"#ArialMT-101\"/>\r\n      <use x=\"505.810547\" xlink:href=\"#ArialMT-109\"/>\r\n      <use x=\"589.111328\" xlink:href=\"#ArialMT-110\"/>\r\n      <use x=\"644.726562\" xlink:href=\"#ArialMT-116\"/>\r\n      <use x=\"672.509766\" xlink:href=\"#ArialMT-32\"/>\r\n      <use x=\"700.292969\" xlink:href=\"#ArialMT-82\"/>\r\n      <use x=\"772.509766\" xlink:href=\"#ArialMT-97\"/>\r\n      <use x=\"828.125\" xlink:href=\"#ArialMT-116\"/>\r\n      <use x=\"855.908203\" xlink:href=\"#ArialMT-101\"/>\r\n      <use x=\"911.523438\" xlink:href=\"#ArialMT-32\"/>\r\n      <use x=\"939.306641\" xlink:href=\"#ArialMT-37\"/>\r\n     </g>\r\n    </g>\r\n   </g>\r\n   <g id=\"patch_3\">\r\n    <path clip-path=\"url(#p14cf2cd8f1)\" d=\"M 55.515781 550.8 \r\nL 90.390781 550.8 \r\nL 90.390781 108.237788 \r\nL 55.515781 108.237788 \r\nz\r\n\" style=\"fill:#4c72b0;stroke:#ffffff;stroke-linejoin:miter;\"/>\r\n   </g>\r\n   <g id=\"patch_4\">\r\n    <path clip-path=\"url(#p14cf2cd8f1)\" d=\"M 125.265781 550.8 \r\nL 160.140781 550.8 \r\nL 160.140781 33.085714 \r\nL 125.265781 33.085714 \r\nz\r\n\" style=\"fill:#4c72b0;stroke:#ffffff;stroke-linejoin:miter;\"/>\r\n   </g>\r\n   <g id=\"patch_5\">\r\n    <path clip-path=\"url(#p14cf2cd8f1)\" d=\"M 195.015781 550.8 \r\nL 229.890781 550.8 \r\nL 229.890781 58.136406 \r\nL 195.015781 58.136406 \r\nz\r\n\" style=\"fill:#4c72b0;stroke:#ffffff;stroke-linejoin:miter;\"/>\r\n   </g>\r\n   <g id=\"patch_6\">\r\n    <path clip-path=\"url(#p14cf2cd8f1)\" d=\"M 264.765781 550.8 \r\nL 299.640781 550.8 \r\nL 299.640781 49.786175 \r\nL 264.765781 49.786175 \r\nz\r\n\" style=\"fill:#4c72b0;stroke:#ffffff;stroke-linejoin:miter;\"/>\r\n   </g>\r\n   <g id=\"patch_7\">\r\n    <path clip-path=\"url(#p14cf2cd8f1)\" d=\"M 334.515781 550.8 \r\nL 369.390781 550.8 \r\nL 369.390781 58.136406 \r\nL 334.515781 58.136406 \r\nz\r\n\" style=\"fill:#4c72b0;stroke:#ffffff;stroke-linejoin:miter;\"/>\r\n   </g>\r\n   <g id=\"patch_8\">\r\n    <path clip-path=\"url(#p14cf2cd8f1)\" d=\"M 404.265781 550.8 \r\nL 439.140781 550.8 \r\nL 439.140781 74.836866 \r\nL 404.265781 74.836866 \r\nz\r\n\" style=\"fill:#4c72b0;stroke:#ffffff;stroke-linejoin:miter;\"/>\r\n   </g>\r\n   <g id=\"patch_9\">\r\n    <path clip-path=\"url(#p14cf2cd8f1)\" d=\"M 474.015781 550.8 \r\nL 508.890781 550.8 \r\nL 508.890781 74.836866 \r\nL 474.015781 74.836866 \r\nz\r\n\" style=\"fill:#4c72b0;stroke:#ffffff;stroke-linejoin:miter;\"/>\r\n   </g>\r\n   <g id=\"patch_10\">\r\n    <path clip-path=\"url(#p14cf2cd8f1)\" d=\"M 543.765781 550.8 \r\nL 578.640781 550.8 \r\nL 578.640781 83.187097 \r\nL 543.765781 83.187097 \r\nz\r\n\" style=\"fill:#4c72b0;stroke:#ffffff;stroke-linejoin:miter;\"/>\r\n   </g>\r\n   <g id=\"patch_11\">\r\n    <path clip-path=\"url(#p14cf2cd8f1)\" d=\"M 613.515781 550.8 \r\nL 648.390781 550.8 \r\nL 648.390781 99.887558 \r\nL 613.515781 99.887558 \r\nz\r\n\" style=\"fill:#4c72b0;stroke:#ffffff;stroke-linejoin:miter;\"/>\r\n   </g>\r\n   <g id=\"patch_12\">\r\n    <path clip-path=\"url(#p14cf2cd8f1)\" d=\"M 683.265781 550.8 \r\nL 718.140781 550.8 \r\nL 718.140781 108.237788 \r\nL 683.265781 108.237788 \r\nz\r\n\" style=\"fill:#4c72b0;stroke:#ffffff;stroke-linejoin:miter;\"/>\r\n   </g>\r\n   <g id=\"patch_13\">\r\n    <path clip-path=\"url(#p14cf2cd8f1)\" d=\"M 753.015781 550.8 \r\nL 787.890781 550.8 \r\nL 787.890781 116.588018 \r\nL 753.015781 116.588018 \r\nz\r\n\" style=\"fill:#4c72b0;stroke:#ffffff;stroke-linejoin:miter;\"/>\r\n   </g>\r\n   <g id=\"patch_14\">\r\n    <path clip-path=\"url(#p14cf2cd8f1)\" d=\"M 822.765781 550.8 \r\nL 857.640781 550.8 \r\nL 857.640781 116.588018 \r\nL 822.765781 116.588018 \r\nz\r\n\" style=\"fill:#4c72b0;stroke:#ffffff;stroke-linejoin:miter;\"/>\r\n   </g>\r\n   <g id=\"patch_15\">\r\n    <path d=\"M 38.078281 550.8 \r\nL 38.078281 7.2 \r\n\" style=\"fill:none;stroke:#ffffff;stroke-linecap:square;stroke-linejoin:miter;stroke-width:1.25;\"/>\r\n   </g>\r\n   <g id=\"patch_16\">\r\n    <path d=\"M 875.078281 550.8 \r\nL 875.078281 7.2 \r\n\" style=\"fill:none;stroke:#ffffff;stroke-linecap:square;stroke-linejoin:miter;stroke-width:1.25;\"/>\r\n   </g>\r\n   <g id=\"patch_17\">\r\n    <path d=\"M 38.078281 550.8 \r\nL 875.078281 550.8 \r\n\" style=\"fill:none;stroke:#ffffff;stroke-linecap:square;stroke-linejoin:miter;stroke-width:1.25;\"/>\r\n   </g>\r\n   <g id=\"patch_18\">\r\n    <path d=\"M 38.078281 7.2 \r\nL 875.078281 7.2 \r\n\" style=\"fill:none;stroke:#ffffff;stroke-linecap:square;stroke-linejoin:miter;stroke-width:1.25;\"/>\r\n   </g>\r\n   <g id=\"legend_1\">\r\n    <g id=\"patch_19\">\r\n     <path d=\"M 803.439063 48.321094 \r\nL 867.378281 48.321094 \r\nQ 869.578281 48.321094 869.578281 46.121094 \r\nL 869.578281 14.9 \r\nQ 869.578281 12.7 867.378281 12.7 \r\nL 803.439063 12.7 \r\nQ 801.239063 12.7 801.239063 14.9 \r\nL 801.239063 46.121094 \r\nQ 801.239063 48.321094 803.439063 48.321094 \r\nz\r\n\" style=\"fill:#eaeaf2;opacity:0.8;stroke:#cccccc;stroke-linejoin:miter;\"/>\r\n    </g>\r\n    <g id=\"text_22\">\r\n     <!-- Country -->\r\n     <g style=\"fill:#262626;\" transform=\"translate(814.401172 25.835625)scale(0.12 -0.12)\">\r\n      <defs>\r\n       <path d=\"M 58.796875 25.09375 \r\nL 68.265625 22.703125 \r\nQ 65.28125 11.03125 57.546875 4.90625 \r\nQ 49.8125 -1.21875 38.625 -1.21875 \r\nQ 27.046875 -1.21875 19.796875 3.484375 \r\nQ 12.546875 8.203125 8.765625 17.140625 \r\nQ 4.984375 26.078125 4.984375 36.328125 \r\nQ 4.984375 47.515625 9.25 55.828125 \r\nQ 13.53125 64.15625 21.40625 68.46875 \r\nQ 29.296875 72.796875 38.765625 72.796875 \r\nQ 49.515625 72.796875 56.828125 67.328125 \r\nQ 64.15625 61.859375 67.046875 51.953125 \r\nL 57.71875 49.75 \r\nQ 55.21875 57.5625 50.484375 61.125 \r\nQ 45.75 64.703125 38.578125 64.703125 \r\nQ 30.328125 64.703125 24.78125 60.734375 \r\nQ 19.234375 56.78125 16.984375 50.109375 \r\nQ 14.75 43.453125 14.75 36.375 \r\nQ 14.75 27.25 17.40625 20.4375 \r\nQ 20.0625 13.625 25.671875 10.25 \r\nQ 31.296875 6.890625 37.84375 6.890625 \r\nQ 45.796875 6.890625 51.3125 11.46875 \r\nQ 56.84375 16.0625 58.796875 25.09375 \r\nz\r\n\" id=\"ArialMT-67\"/>\r\n       <path d=\"M 40.578125 0 \r\nL 40.578125 7.625 \r\nQ 34.515625 -1.171875 24.125 -1.171875 \r\nQ 19.53125 -1.171875 15.546875 0.578125 \r\nQ 11.578125 2.34375 9.640625 5 \r\nQ 7.71875 7.671875 6.9375 11.53125 \r\nQ 6.390625 14.109375 6.390625 19.734375 \r\nL 6.390625 51.859375 \r\nL 15.1875 51.859375 \r\nL 15.1875 23.09375 \r\nQ 15.1875 16.21875 15.71875 13.8125 \r\nQ 16.546875 10.359375 19.234375 8.375 \r\nQ 21.921875 6.390625 25.875 6.390625 \r\nQ 29.828125 6.390625 33.296875 8.421875 \r\nQ 36.765625 10.453125 38.203125 13.9375 \r\nQ 39.65625 17.4375 39.65625 24.078125 \r\nL 39.65625 51.859375 \r\nL 48.4375 51.859375 \r\nL 48.4375 0 \r\nz\r\n\" id=\"ArialMT-117\"/>\r\n       <path d=\"M 6.5 0 \r\nL 6.5 51.859375 \r\nL 14.40625 51.859375 \r\nL 14.40625 44 \r\nQ 17.4375 49.515625 20 51.265625 \r\nQ 22.5625 53.03125 25.640625 53.03125 \r\nQ 30.078125 53.03125 34.671875 50.203125 \r\nL 31.640625 42.046875 \r\nQ 28.421875 43.953125 25.203125 43.953125 \r\nQ 22.3125 43.953125 20.015625 42.21875 \r\nQ 17.71875 40.484375 16.75 37.40625 \r\nQ 15.28125 32.71875 15.28125 27.15625 \r\nL 15.28125 0 \r\nz\r\n\" id=\"ArialMT-114\"/>\r\n      </defs>\r\n      <use xlink:href=\"#ArialMT-67\"/>\r\n      <use x=\"72.216797\" xlink:href=\"#ArialMT-111\"/>\r\n      <use x=\"127.832031\" xlink:href=\"#ArialMT-117\"/>\r\n      <use x=\"183.447266\" xlink:href=\"#ArialMT-110\"/>\r\n      <use x=\"239.0625\" xlink:href=\"#ArialMT-116\"/>\r\n      <use x=\"266.845703\" xlink:href=\"#ArialMT-114\"/>\r\n      <use x=\"300.146484\" xlink:href=\"#ArialMT-121\"/>\r\n     </g>\r\n    </g>\r\n    <g id=\"patch_20\">\r\n     <path d=\"M 805.639063 41.734844 \r\nL 827.639063 41.734844 \r\nL 827.639063 34.034844 \r\nL 805.639063 34.034844 \r\nz\r\n\" style=\"fill:#4c72b0;stroke:#ffffff;stroke-linejoin:miter;\"/>\r\n    </g>\r\n    <g id=\"text_23\">\r\n     <!-- China -->\r\n     <g style=\"fill:#262626;\" transform=\"translate(836.439062 41.734844)scale(0.11 -0.11)\">\r\n      <defs>\r\n       <path d=\"M 6.640625 61.46875 \r\nL 6.640625 71.578125 \r\nL 15.4375 71.578125 \r\nL 15.4375 61.46875 \r\nz\r\nM 6.640625 0 \r\nL 6.640625 51.859375 \r\nL 15.4375 51.859375 \r\nL 15.4375 0 \r\nz\r\n\" id=\"ArialMT-105\"/>\r\n      </defs>\r\n      <use xlink:href=\"#ArialMT-67\"/>\r\n      <use x=\"72.216797\" xlink:href=\"#ArialMT-104\"/>\r\n      <use x=\"127.832031\" xlink:href=\"#ArialMT-105\"/>\r\n      <use x=\"150.048828\" xlink:href=\"#ArialMT-110\"/>\r\n      <use x=\"205.664062\" xlink:href=\"#ArialMT-97\"/>\r\n     </g>\r\n    </g>\r\n   </g>\r\n  </g>\r\n </g>\r\n <defs>\r\n  <clipPath id=\"p14cf2cd8f1\">\r\n   <rect height=\"543.6\" width=\"837\" x=\"38.078281\" y=\"7.2\"/>\r\n  </clipPath>\r\n </defs>\r\n</svg>\r\n",
      "image/png": "[encoded data removed]"
     },
     "metadata": {}
    },
    {
     "output_type": "display_data",
     "data": {
      "text/plain": "<Figure size 720x432 with 1 Axes>",
      "image/svg+xml": "<?xml version=\"1.0\" encoding=\"utf-8\" standalone=\"no\"?>\r\n<!DOCTYPE svg PUBLIC \"-//W3C//DTD SVG 1.1//EN\"\r\n  \"http://www.w3.org/Graphics/SVG/1.1/DTD/svg11.dtd\">\r\n<!-- Created with matplotlib (https://matplotlib.org/) -->\r\n<svg height=\"377.268438pt\" version=\"1.1\" viewBox=\"0 0 621.650156 377.268438\" width=\"621.650156pt\" xmlns=\"http://www.w3.org/2000/svg\" xmlns:xlink=\"http://www.w3.org/1999/xlink\">\r\n <metadata>\r\n  <rdf:RDF xmlns:cc=\"http://creativecommons.org/ns#\" xmlns:dc=\"http://purl.org/dc/elements/1.1/\" xmlns:rdf=\"http://www.w3.org/1999/02/22-rdf-syntax-ns#\">\r\n   <cc:Work>\r\n    <dc:type rdf:resource=\"http://purl.org/dc/dcmitype/StillImage\"/>\r\n    <dc:date>2021-02-14T14:52:39.246165</dc:date>\r\n    <dc:format>image/svg+xml</dc:format>\r\n    <dc:creator>\r\n     <cc:Agent>\r\n      <dc:title>Matplotlib v3.3.4, https://matplotlib.org/</dc:title>\r\n     </cc:Agent>\r\n    </dc:creator>\r\n   </cc:Work>\r\n  </rdf:RDF>\r\n </metadata>\r\n <defs>\r\n  <style type=\"text/css\">*{stroke-linecap:butt;stroke-linejoin:round;}</style>\r\n </defs>\r\n <g id=\"figure_1\">\r\n  <g id=\"patch_1\">\r\n   <path d=\"M 0 377.268438 \r\nL 621.650156 377.268438 \r\nL 621.650156 0 \r\nL 0 0 \r\nz\r\n\" style=\"fill:#ffffff;\"/>\r\n  </g>\r\n  <g id=\"axes_1\">\r\n   <g id=\"patch_2\">\r\n    <path d=\"M 56.450156 333.36 \r\nL 614.450156 333.36 \r\nL 614.450156 7.2 \r\nL 56.450156 7.2 \r\nz\r\n\" style=\"fill:#eaeaf2;\"/>\r\n   </g>\r\n   <g id=\"matplotlib.axis_1\">\r\n    <g id=\"xtick_1\">\r\n     <g id=\"line2d_1\">\r\n      <path clip-path=\"url(#pc290559ecb)\" d=\"M 79.700156 333.36 \r\nL 79.700156 7.2 \r\n\" style=\"fill:none;stroke:#ffffff;stroke-linecap:round;\"/>\r\n     </g>\r\n     <g id=\"text_1\">\r\n      <!-- 1 -->\r\n      <g style=\"fill:#262626;\" transform=\"translate(82.543828 348.977031)rotate(-90)scale(0.11 -0.11)\">\r\n       <defs>\r\n        <path d=\"M 37.25 0 \r\nL 28.46875 0 \r\nL 28.46875 56 \r\nQ 25.296875 52.984375 20.140625 49.953125 \r\nQ 14.984375 46.921875 10.890625 45.40625 \r\nL 10.890625 53.90625 \r\nQ 18.265625 57.375 23.78125 62.296875 \r\nQ 29.296875 67.234375 31.59375 71.875 \r\nL 37.25 71.875 \r\nz\r\n\" id=\"ArialMT-49\"/>\r\n       </defs>\r\n       <use xlink:href=\"#ArialMT-49\"/>\r\n      </g>\r\n     </g>\r\n    </g>\r\n    <g id=\"xtick_2\">\r\n     <g id=\"line2d_2\">\r\n      <path clip-path=\"url(#pc290559ecb)\" d=\"M 126.200156 333.36 \r\nL 126.200156 7.2 \r\n\" style=\"fill:none;stroke:#ffffff;stroke-linecap:round;\"/>\r\n     </g>\r\n     <g id=\"text_2\">\r\n      <!-- 2 -->\r\n      <g style=\"fill:#262626;\" transform=\"translate(129.043828 348.977031)rotate(-90)scale(0.11 -0.11)\">\r\n       <defs>\r\n        <path d=\"M 50.34375 8.453125 \r\nL 50.34375 0 \r\nL 3.03125 0 \r\nQ 2.9375 3.171875 4.046875 6.109375 \r\nQ 5.859375 10.9375 9.828125 15.625 \r\nQ 13.8125 20.3125 21.34375 26.46875 \r\nQ 33.015625 36.03125 37.109375 41.625 \r\nQ 41.21875 47.21875 41.21875 52.203125 \r\nQ 41.21875 57.421875 37.46875 61 \r\nQ 33.734375 64.59375 27.734375 64.59375 \r\nQ 21.390625 64.59375 17.578125 60.78125 \r\nQ 13.765625 56.984375 13.71875 50.25 \r\nL 4.6875 51.171875 \r\nQ 5.609375 61.28125 11.65625 66.578125 \r\nQ 17.71875 71.875 27.9375 71.875 \r\nQ 38.234375 71.875 44.234375 66.15625 \r\nQ 50.25 60.453125 50.25 52 \r\nQ 50.25 47.703125 48.484375 43.546875 \r\nQ 46.734375 39.40625 42.65625 34.8125 \r\nQ 38.578125 30.21875 29.109375 22.21875 \r\nQ 21.1875 15.578125 18.9375 13.203125 \r\nQ 16.703125 10.84375 15.234375 8.453125 \r\nz\r\n\" id=\"ArialMT-50\"/>\r\n       </defs>\r\n       <use xlink:href=\"#ArialMT-50\"/>\r\n      </g>\r\n     </g>\r\n    </g>\r\n    <g id=\"xtick_3\">\r\n     <g id=\"line2d_3\">\r\n      <path clip-path=\"url(#pc290559ecb)\" d=\"M 172.700156 333.36 \r\nL 172.700156 7.2 \r\n\" style=\"fill:none;stroke:#ffffff;stroke-linecap:round;\"/>\r\n     </g>\r\n     <g id=\"text_3\">\r\n      <!-- 3 -->\r\n      <g style=\"fill:#262626;\" transform=\"translate(175.543828 348.977031)rotate(-90)scale(0.11 -0.11)\">\r\n       <defs>\r\n        <path d=\"M 4.203125 18.890625 \r\nL 12.984375 20.0625 \r\nQ 14.5 12.59375 18.140625 9.296875 \r\nQ 21.78125 6 27 6 \r\nQ 33.203125 6 37.46875 10.296875 \r\nQ 41.75 14.59375 41.75 20.953125 \r\nQ 41.75 27 37.796875 30.921875 \r\nQ 33.84375 34.859375 27.734375 34.859375 \r\nQ 25.25 34.859375 21.53125 33.890625 \r\nL 22.515625 41.609375 \r\nQ 23.390625 41.5 23.921875 41.5 \r\nQ 29.546875 41.5 34.03125 44.421875 \r\nQ 38.53125 47.359375 38.53125 53.46875 \r\nQ 38.53125 58.296875 35.25 61.46875 \r\nQ 31.984375 64.65625 26.8125 64.65625 \r\nQ 21.6875 64.65625 18.265625 61.421875 \r\nQ 14.84375 58.203125 13.875 51.765625 \r\nL 5.078125 53.328125 \r\nQ 6.6875 62.15625 12.390625 67.015625 \r\nQ 18.109375 71.875 26.609375 71.875 \r\nQ 32.46875 71.875 37.390625 69.359375 \r\nQ 42.328125 66.84375 44.9375 62.5 \r\nQ 47.5625 58.15625 47.5625 53.265625 \r\nQ 47.5625 48.640625 45.0625 44.828125 \r\nQ 42.578125 41.015625 37.703125 38.765625 \r\nQ 44.046875 37.3125 47.5625 32.6875 \r\nQ 51.078125 28.078125 51.078125 21.140625 \r\nQ 51.078125 11.765625 44.234375 5.25 \r\nQ 37.40625 -1.265625 26.953125 -1.265625 \r\nQ 17.53125 -1.265625 11.296875 4.34375 \r\nQ 5.078125 9.96875 4.203125 18.890625 \r\nz\r\n\" id=\"ArialMT-51\"/>\r\n       </defs>\r\n       <use xlink:href=\"#ArialMT-51\"/>\r\n      </g>\r\n     </g>\r\n    </g>\r\n    <g id=\"xtick_4\">\r\n     <g id=\"line2d_4\">\r\n      <path clip-path=\"url(#pc290559ecb)\" d=\"M 219.200156 333.36 \r\nL 219.200156 7.2 \r\n\" style=\"fill:none;stroke:#ffffff;stroke-linecap:round;\"/>\r\n     </g>\r\n     <g id=\"text_4\">\r\n      <!-- 4 -->\r\n      <g style=\"fill:#262626;\" transform=\"translate(222.043828 348.977031)rotate(-90)scale(0.11 -0.11)\">\r\n       <defs>\r\n        <path d=\"M 32.328125 0 \r\nL 32.328125 17.140625 \r\nL 1.265625 17.140625 \r\nL 1.265625 25.203125 \r\nL 33.9375 71.578125 \r\nL 41.109375 71.578125 \r\nL 41.109375 25.203125 \r\nL 50.78125 25.203125 \r\nL 50.78125 17.140625 \r\nL 41.109375 17.140625 \r\nL 41.109375 0 \r\nz\r\nM 32.328125 25.203125 \r\nL 32.328125 57.46875 \r\nL 9.90625 25.203125 \r\nz\r\n\" id=\"ArialMT-52\"/>\r\n       </defs>\r\n       <use xlink:href=\"#ArialMT-52\"/>\r\n      </g>\r\n     </g>\r\n    </g>\r\n    <g id=\"xtick_5\">\r\n     <g id=\"line2d_5\">\r\n      <path clip-path=\"url(#pc290559ecb)\" d=\"M 265.700156 333.36 \r\nL 265.700156 7.2 \r\n\" style=\"fill:none;stroke:#ffffff;stroke-linecap:round;\"/>\r\n     </g>\r\n     <g id=\"text_5\">\r\n      <!-- 5 -->\r\n      <g style=\"fill:#262626;\" transform=\"translate(268.543828 348.977031)rotate(-90)scale(0.11 -0.11)\">\r\n       <defs>\r\n        <path d=\"M 4.15625 18.75 \r\nL 13.375 19.53125 \r\nQ 14.40625 12.796875 18.140625 9.390625 \r\nQ 21.875 6 27.15625 6 \r\nQ 33.5 6 37.890625 10.78125 \r\nQ 42.28125 15.578125 42.28125 23.484375 \r\nQ 42.28125 31 38.0625 35.34375 \r\nQ 33.84375 39.703125 27 39.703125 \r\nQ 22.75 39.703125 19.328125 37.765625 \r\nQ 15.921875 35.84375 13.96875 32.765625 \r\nL 5.71875 33.84375 \r\nL 12.640625 70.609375 \r\nL 48.25 70.609375 \r\nL 48.25 62.203125 \r\nL 19.671875 62.203125 \r\nL 15.828125 42.96875 \r\nQ 22.265625 47.46875 29.34375 47.46875 \r\nQ 38.71875 47.46875 45.15625 40.96875 \r\nQ 51.609375 34.46875 51.609375 24.265625 \r\nQ 51.609375 14.546875 45.953125 7.46875 \r\nQ 39.0625 -1.21875 27.15625 -1.21875 \r\nQ 17.390625 -1.21875 11.203125 4.25 \r\nQ 5.03125 9.71875 4.15625 18.75 \r\nz\r\n\" id=\"ArialMT-53\"/>\r\n       </defs>\r\n       <use xlink:href=\"#ArialMT-53\"/>\r\n      </g>\r\n     </g>\r\n    </g>\r\n    <g id=\"xtick_6\">\r\n     <g id=\"line2d_6\">\r\n      <path clip-path=\"url(#pc290559ecb)\" d=\"M 312.200156 333.36 \r\nL 312.200156 7.2 \r\n\" style=\"fill:none;stroke:#ffffff;stroke-linecap:round;\"/>\r\n     </g>\r\n     <g id=\"text_6\">\r\n      <!-- 6 -->\r\n      <g style=\"fill:#262626;\" transform=\"translate(315.043828 348.977031)rotate(-90)scale(0.11 -0.11)\">\r\n       <defs>\r\n        <path d=\"M 49.75 54.046875 \r\nL 41.015625 53.375 \r\nQ 39.84375 58.546875 37.703125 60.890625 \r\nQ 34.125 64.65625 28.90625 64.65625 \r\nQ 24.703125 64.65625 21.53125 62.3125 \r\nQ 17.390625 59.28125 14.984375 53.46875 \r\nQ 12.59375 47.65625 12.5 36.921875 \r\nQ 15.671875 41.75 20.265625 44.09375 \r\nQ 24.859375 46.4375 29.890625 46.4375 \r\nQ 38.671875 46.4375 44.84375 39.96875 \r\nQ 51.03125 33.5 51.03125 23.25 \r\nQ 51.03125 16.5 48.125 10.71875 \r\nQ 45.21875 4.9375 40.140625 1.859375 \r\nQ 35.0625 -1.21875 28.609375 -1.21875 \r\nQ 17.625 -1.21875 10.6875 6.859375 \r\nQ 3.765625 14.9375 3.765625 33.5 \r\nQ 3.765625 54.25 11.421875 63.671875 \r\nQ 18.109375 71.875 29.4375 71.875 \r\nQ 37.890625 71.875 43.28125 67.140625 \r\nQ 48.6875 62.40625 49.75 54.046875 \r\nz\r\nM 13.875 23.1875 \r\nQ 13.875 18.65625 15.796875 14.5 \r\nQ 17.71875 10.359375 21.1875 8.171875 \r\nQ 24.65625 6 28.46875 6 \r\nQ 34.03125 6 38.03125 10.484375 \r\nQ 42.046875 14.984375 42.046875 22.703125 \r\nQ 42.046875 30.125 38.078125 34.390625 \r\nQ 34.125 38.671875 28.125 38.671875 \r\nQ 22.171875 38.671875 18.015625 34.390625 \r\nQ 13.875 30.125 13.875 23.1875 \r\nz\r\n\" id=\"ArialMT-54\"/>\r\n       </defs>\r\n       <use xlink:href=\"#ArialMT-54\"/>\r\n      </g>\r\n     </g>\r\n    </g>\r\n    <g id=\"xtick_7\">\r\n     <g id=\"line2d_7\">\r\n      <path clip-path=\"url(#pc290559ecb)\" d=\"M 358.700156 333.36 \r\nL 358.700156 7.2 \r\n\" style=\"fill:none;stroke:#ffffff;stroke-linecap:round;\"/>\r\n     </g>\r\n     <g id=\"text_7\">\r\n      <!-- 7 -->\r\n      <g style=\"fill:#262626;\" transform=\"translate(361.543828 348.977031)rotate(-90)scale(0.11 -0.11)\">\r\n       <defs>\r\n        <path d=\"M 4.734375 62.203125 \r\nL 4.734375 70.65625 \r\nL 51.078125 70.65625 \r\nL 51.078125 63.8125 \r\nQ 44.234375 56.546875 37.515625 44.484375 \r\nQ 30.8125 32.421875 27.15625 19.671875 \r\nQ 24.515625 10.6875 23.78125 0 \r\nL 14.75 0 \r\nQ 14.890625 8.453125 18.0625 20.40625 \r\nQ 21.234375 32.375 27.171875 43.484375 \r\nQ 33.109375 54.59375 39.796875 62.203125 \r\nz\r\n\" id=\"ArialMT-55\"/>\r\n       </defs>\r\n       <use xlink:href=\"#ArialMT-55\"/>\r\n      </g>\r\n     </g>\r\n    </g>\r\n    <g id=\"xtick_8\">\r\n     <g id=\"line2d_8\">\r\n      <path clip-path=\"url(#pc290559ecb)\" d=\"M 405.200156 333.36 \r\nL 405.200156 7.2 \r\n\" style=\"fill:none;stroke:#ffffff;stroke-linecap:round;\"/>\r\n     </g>\r\n     <g id=\"text_8\">\r\n      <!-- 8 -->\r\n      <g style=\"fill:#262626;\" transform=\"translate(408.043828 348.977031)rotate(-90)scale(0.11 -0.11)\">\r\n       <defs>\r\n        <path d=\"M 17.671875 38.8125 \r\nQ 12.203125 40.828125 9.5625 44.53125 \r\nQ 6.9375 48.25 6.9375 53.421875 \r\nQ 6.9375 61.234375 12.546875 66.546875 \r\nQ 18.171875 71.875 27.484375 71.875 \r\nQ 36.859375 71.875 42.578125 66.421875 \r\nQ 48.296875 60.984375 48.296875 53.171875 \r\nQ 48.296875 48.1875 45.671875 44.5 \r\nQ 43.0625 40.828125 37.75 38.8125 \r\nQ 44.34375 36.671875 47.78125 31.875 \r\nQ 51.21875 27.09375 51.21875 20.453125 \r\nQ 51.21875 11.28125 44.71875 5.03125 \r\nQ 38.234375 -1.21875 27.640625 -1.21875 \r\nQ 17.046875 -1.21875 10.546875 5.046875 \r\nQ 4.046875 11.328125 4.046875 20.703125 \r\nQ 4.046875 27.6875 7.59375 32.390625 \r\nQ 11.140625 37.109375 17.671875 38.8125 \r\nz\r\nM 15.921875 53.71875 \r\nQ 15.921875 48.640625 19.1875 45.40625 \r\nQ 22.46875 42.1875 27.6875 42.1875 \r\nQ 32.765625 42.1875 36.015625 45.375 \r\nQ 39.265625 48.578125 39.265625 53.21875 \r\nQ 39.265625 58.0625 35.90625 61.359375 \r\nQ 32.5625 64.65625 27.59375 64.65625 \r\nQ 22.5625 64.65625 19.234375 61.421875 \r\nQ 15.921875 58.203125 15.921875 53.71875 \r\nz\r\nM 13.09375 20.65625 \r\nQ 13.09375 16.890625 14.875 13.375 \r\nQ 16.65625 9.859375 20.171875 7.921875 \r\nQ 23.6875 6 27.734375 6 \r\nQ 34.03125 6 38.125 10.046875 \r\nQ 42.234375 14.109375 42.234375 20.359375 \r\nQ 42.234375 26.703125 38.015625 30.859375 \r\nQ 33.796875 35.015625 27.4375 35.015625 \r\nQ 21.234375 35.015625 17.15625 30.90625 \r\nQ 13.09375 26.8125 13.09375 20.65625 \r\nz\r\n\" id=\"ArialMT-56\"/>\r\n       </defs>\r\n       <use xlink:href=\"#ArialMT-56\"/>\r\n      </g>\r\n     </g>\r\n    </g>\r\n    <g id=\"xtick_9\">\r\n     <g id=\"line2d_9\">\r\n      <path clip-path=\"url(#pc290559ecb)\" d=\"M 451.700156 333.36 \r\nL 451.700156 7.2 \r\n\" style=\"fill:none;stroke:#ffffff;stroke-linecap:round;\"/>\r\n     </g>\r\n     <g id=\"text_9\">\r\n      <!-- 9 -->\r\n      <g style=\"fill:#262626;\" transform=\"translate(454.543828 348.977031)rotate(-90)scale(0.11 -0.11)\">\r\n       <defs>\r\n        <path d=\"M 5.46875 16.546875 \r\nL 13.921875 17.328125 \r\nQ 14.984375 11.375 18.015625 8.6875 \r\nQ 21.046875 6 25.78125 6 \r\nQ 29.828125 6 32.875 7.859375 \r\nQ 35.9375 9.71875 37.890625 12.8125 \r\nQ 39.84375 15.921875 41.15625 21.1875 \r\nQ 42.484375 26.46875 42.484375 31.9375 \r\nQ 42.484375 32.515625 42.4375 33.6875 \r\nQ 39.796875 29.5 35.234375 26.875 \r\nQ 30.671875 24.265625 25.34375 24.265625 \r\nQ 16.453125 24.265625 10.296875 30.703125 \r\nQ 4.15625 37.15625 4.15625 47.703125 \r\nQ 4.15625 58.59375 10.578125 65.234375 \r\nQ 17 71.875 26.65625 71.875 \r\nQ 33.640625 71.875 39.421875 68.109375 \r\nQ 45.21875 64.359375 48.21875 57.390625 \r\nQ 51.21875 50.4375 51.21875 37.25 \r\nQ 51.21875 23.53125 48.234375 15.40625 \r\nQ 45.265625 7.28125 39.375 3.03125 \r\nQ 33.5 -1.21875 25.59375 -1.21875 \r\nQ 17.1875 -1.21875 11.859375 3.4375 \r\nQ 6.546875 8.109375 5.46875 16.546875 \r\nz\r\nM 41.453125 48.140625 \r\nQ 41.453125 55.71875 37.421875 60.15625 \r\nQ 33.40625 64.59375 27.734375 64.59375 \r\nQ 21.875 64.59375 17.53125 59.8125 \r\nQ 13.1875 55.03125 13.1875 47.40625 \r\nQ 13.1875 40.578125 17.3125 36.296875 \r\nQ 21.4375 32.03125 27.484375 32.03125 \r\nQ 33.59375 32.03125 37.515625 36.296875 \r\nQ 41.453125 40.578125 41.453125 48.140625 \r\nz\r\n\" id=\"ArialMT-57\"/>\r\n       </defs>\r\n       <use xlink:href=\"#ArialMT-57\"/>\r\n      </g>\r\n     </g>\r\n    </g>\r\n    <g id=\"xtick_10\">\r\n     <g id=\"line2d_10\">\r\n      <path clip-path=\"url(#pc290559ecb)\" d=\"M 498.200156 333.36 \r\nL 498.200156 7.2 \r\n\" style=\"fill:none;stroke:#ffffff;stroke-linecap:round;\"/>\r\n     </g>\r\n     <g id=\"text_10\">\r\n      <!-- 10 -->\r\n      <g style=\"fill:#262626;\" transform=\"translate(501.043828 355.094063)rotate(-90)scale(0.11 -0.11)\">\r\n       <defs>\r\n        <path d=\"M 4.15625 35.296875 \r\nQ 4.15625 48 6.765625 55.734375 \r\nQ 9.375 63.484375 14.515625 67.671875 \r\nQ 19.671875 71.875 27.484375 71.875 \r\nQ 33.25 71.875 37.59375 69.546875 \r\nQ 41.9375 67.234375 44.765625 62.859375 \r\nQ 47.609375 58.5 49.21875 52.21875 \r\nQ 50.828125 45.953125 50.828125 35.296875 \r\nQ 50.828125 22.703125 48.234375 14.96875 \r\nQ 45.65625 7.234375 40.5 3 \r\nQ 35.359375 -1.21875 27.484375 -1.21875 \r\nQ 17.140625 -1.21875 11.234375 6.203125 \r\nQ 4.15625 15.140625 4.15625 35.296875 \r\nz\r\nM 13.1875 35.296875 \r\nQ 13.1875 17.671875 17.3125 11.828125 \r\nQ 21.4375 6 27.484375 6 \r\nQ 33.546875 6 37.671875 11.859375 \r\nQ 41.796875 17.71875 41.796875 35.296875 \r\nQ 41.796875 52.984375 37.671875 58.78125 \r\nQ 33.546875 64.59375 27.390625 64.59375 \r\nQ 21.34375 64.59375 17.71875 59.46875 \r\nQ 13.1875 52.9375 13.1875 35.296875 \r\nz\r\n\" id=\"ArialMT-48\"/>\r\n       </defs>\r\n       <use xlink:href=\"#ArialMT-49\"/>\r\n       <use x=\"55.615234\" xlink:href=\"#ArialMT-48\"/>\r\n      </g>\r\n     </g>\r\n    </g>\r\n    <g id=\"xtick_11\">\r\n     <g id=\"line2d_11\">\r\n      <path clip-path=\"url(#pc290559ecb)\" d=\"M 544.700156 333.36 \r\nL 544.700156 7.2 \r\n\" style=\"fill:none;stroke:#ffffff;stroke-linecap:round;\"/>\r\n     </g>\r\n     <g id=\"text_11\">\r\n      <!-- 11 -->\r\n      <g style=\"fill:#262626;\" transform=\"translate(547.543828 354.282812)rotate(-90)scale(0.11 -0.11)\">\r\n       <use xlink:href=\"#ArialMT-49\"/>\r\n       <use x=\"48.240234\" xlink:href=\"#ArialMT-49\"/>\r\n      </g>\r\n     </g>\r\n    </g>\r\n    <g id=\"xtick_12\">\r\n     <g id=\"line2d_12\">\r\n      <path clip-path=\"url(#pc290559ecb)\" d=\"M 591.200156 333.36 \r\nL 591.200156 7.2 \r\n\" style=\"fill:none;stroke:#ffffff;stroke-linecap:round;\"/>\r\n     </g>\r\n     <g id=\"text_12\">\r\n      <!-- 12 -->\r\n      <g style=\"fill:#262626;\" transform=\"translate(594.043828 355.094063)rotate(-90)scale(0.11 -0.11)\">\r\n       <use xlink:href=\"#ArialMT-49\"/>\r\n       <use x=\"55.615234\" xlink:href=\"#ArialMT-50\"/>\r\n      </g>\r\n     </g>\r\n    </g>\r\n    <g id=\"text_13\">\r\n     <!-- Months -->\r\n     <g style=\"fill:#262626;\" transform=\"translate(315.775781 367.683438)scale(0.12 -0.12)\">\r\n      <defs>\r\n       <path d=\"M 7.421875 0 \r\nL 7.421875 71.578125 \r\nL 21.6875 71.578125 \r\nL 38.625 20.90625 \r\nQ 40.96875 13.8125 42.046875 10.296875 \r\nQ 43.265625 14.203125 45.84375 21.78125 \r\nL 62.984375 71.578125 \r\nL 75.734375 71.578125 \r\nL 75.734375 0 \r\nL 66.609375 0 \r\nL 66.609375 59.90625 \r\nL 45.796875 0 \r\nL 37.25 0 \r\nL 16.546875 60.9375 \r\nL 16.546875 0 \r\nz\r\n\" id=\"ArialMT-77\"/>\r\n       <path d=\"M 3.328125 25.921875 \r\nQ 3.328125 40.328125 11.328125 47.265625 \r\nQ 18.015625 53.03125 27.640625 53.03125 \r\nQ 38.328125 53.03125 45.109375 46.015625 \r\nQ 51.90625 39.015625 51.90625 26.65625 \r\nQ 51.90625 16.65625 48.90625 10.90625 \r\nQ 45.90625 5.171875 40.15625 2 \r\nQ 34.421875 -1.171875 27.640625 -1.171875 \r\nQ 16.75 -1.171875 10.03125 5.8125 \r\nQ 3.328125 12.796875 3.328125 25.921875 \r\nz\r\nM 12.359375 25.921875 \r\nQ 12.359375 15.96875 16.703125 11.015625 \r\nQ 21.046875 6.0625 27.640625 6.0625 \r\nQ 34.1875 6.0625 38.53125 11.03125 \r\nQ 42.875 16.015625 42.875 26.21875 \r\nQ 42.875 35.84375 38.5 40.796875 \r\nQ 34.125 45.75 27.640625 45.75 \r\nQ 21.046875 45.75 16.703125 40.8125 \r\nQ 12.359375 35.890625 12.359375 25.921875 \r\nz\r\n\" id=\"ArialMT-111\"/>\r\n       <path d=\"M 6.59375 0 \r\nL 6.59375 51.859375 \r\nL 14.5 51.859375 \r\nL 14.5 44.484375 \r\nQ 20.21875 53.03125 31 53.03125 \r\nQ 35.6875 53.03125 39.625 51.34375 \r\nQ 43.5625 49.65625 45.515625 46.921875 \r\nQ 47.46875 44.1875 48.25 40.4375 \r\nQ 48.734375 37.984375 48.734375 31.890625 \r\nL 48.734375 0 \r\nL 39.9375 0 \r\nL 39.9375 31.546875 \r\nQ 39.9375 36.921875 38.90625 39.578125 \r\nQ 37.890625 42.234375 35.28125 43.8125 \r\nQ 32.671875 45.40625 29.15625 45.40625 \r\nQ 23.53125 45.40625 19.453125 41.84375 \r\nQ 15.375 38.28125 15.375 28.328125 \r\nL 15.375 0 \r\nz\r\n\" id=\"ArialMT-110\"/>\r\n       <path d=\"M 25.78125 7.859375 \r\nL 27.046875 0.09375 \r\nQ 23.34375 -0.6875 20.40625 -0.6875 \r\nQ 15.625 -0.6875 12.984375 0.828125 \r\nQ 10.359375 2.34375 9.28125 4.8125 \r\nQ 8.203125 7.28125 8.203125 15.1875 \r\nL 8.203125 45.015625 \r\nL 1.765625 45.015625 \r\nL 1.765625 51.859375 \r\nL 8.203125 51.859375 \r\nL 8.203125 64.703125 \r\nL 16.9375 69.96875 \r\nL 16.9375 51.859375 \r\nL 25.78125 51.859375 \r\nL 25.78125 45.015625 \r\nL 16.9375 45.015625 \r\nL 16.9375 14.703125 \r\nQ 16.9375 10.9375 17.40625 9.859375 \r\nQ 17.875 8.796875 18.921875 8.15625 \r\nQ 19.96875 7.515625 21.921875 7.515625 \r\nQ 23.390625 7.515625 25.78125 7.859375 \r\nz\r\n\" id=\"ArialMT-116\"/>\r\n       <path d=\"M 6.59375 0 \r\nL 6.59375 71.578125 \r\nL 15.375 71.578125 \r\nL 15.375 45.90625 \r\nQ 21.53125 53.03125 30.90625 53.03125 \r\nQ 36.671875 53.03125 40.921875 50.75 \r\nQ 45.171875 48.484375 47 44.484375 \r\nQ 48.828125 40.484375 48.828125 32.859375 \r\nL 48.828125 0 \r\nL 40.046875 0 \r\nL 40.046875 32.859375 \r\nQ 40.046875 39.453125 37.1875 42.453125 \r\nQ 34.328125 45.453125 29.109375 45.453125 \r\nQ 25.203125 45.453125 21.75 43.421875 \r\nQ 18.3125 41.40625 16.84375 37.9375 \r\nQ 15.375 34.46875 15.375 28.375 \r\nL 15.375 0 \r\nz\r\n\" id=\"ArialMT-104\"/>\r\n       <path d=\"M 3.078125 15.484375 \r\nL 11.765625 16.84375 \r\nQ 12.5 11.625 15.84375 8.84375 \r\nQ 19.1875 6.0625 25.203125 6.0625 \r\nQ 31.25 6.0625 34.171875 8.515625 \r\nQ 37.109375 10.984375 37.109375 14.3125 \r\nQ 37.109375 17.28125 34.515625 19 \r\nQ 32.71875 20.171875 25.53125 21.96875 \r\nQ 15.875 24.421875 12.140625 26.203125 \r\nQ 8.40625 27.984375 6.46875 31.125 \r\nQ 4.546875 34.28125 4.546875 38.09375 \r\nQ 4.546875 41.546875 6.125 44.5 \r\nQ 7.71875 47.46875 10.453125 49.421875 \r\nQ 12.5 50.921875 16.03125 51.96875 \r\nQ 19.578125 53.03125 23.640625 53.03125 \r\nQ 29.734375 53.03125 34.34375 51.265625 \r\nQ 38.96875 49.515625 41.15625 46.5 \r\nQ 43.359375 43.5 44.1875 38.484375 \r\nL 35.59375 37.3125 \r\nQ 35.015625 41.3125 32.203125 43.546875 \r\nQ 29.390625 45.796875 24.265625 45.796875 \r\nQ 18.21875 45.796875 15.625 43.796875 \r\nQ 13.03125 41.796875 13.03125 39.109375 \r\nQ 13.03125 37.40625 14.109375 36.03125 \r\nQ 15.1875 34.625 17.484375 33.6875 \r\nQ 18.796875 33.203125 25.25 31.453125 \r\nQ 34.578125 28.953125 38.25 27.359375 \r\nQ 41.9375 25.78125 44.03125 22.75 \r\nQ 46.140625 19.734375 46.140625 15.234375 \r\nQ 46.140625 10.84375 43.578125 6.953125 \r\nQ 41.015625 3.078125 36.171875 0.953125 \r\nQ 31.34375 -1.171875 25.25 -1.171875 \r\nQ 15.140625 -1.171875 9.84375 3.03125 \r\nQ 4.546875 7.234375 3.078125 15.484375 \r\nz\r\n\" id=\"ArialMT-115\"/>\r\n      </defs>\r\n      <use xlink:href=\"#ArialMT-77\"/>\r\n      <use x=\"83.300781\" xlink:href=\"#ArialMT-111\"/>\r\n      <use x=\"138.916016\" xlink:href=\"#ArialMT-110\"/>\r\n      <use x=\"194.53125\" xlink:href=\"#ArialMT-116\"/>\r\n      <use x=\"222.314453\" xlink:href=\"#ArialMT-104\"/>\r\n      <use x=\"277.929688\" xlink:href=\"#ArialMT-115\"/>\r\n     </g>\r\n    </g>\r\n   </g>\r\n   <g id=\"matplotlib.axis_2\">\r\n    <g id=\"ytick_1\">\r\n     <g id=\"line2d_13\">\r\n      <path clip-path=\"url(#pc290559ecb)\" d=\"M 56.450156 320.201744 \r\nL 614.450156 320.201744 \r\n\" style=\"fill:none;stroke:#ffffff;stroke-linecap:round;\"/>\r\n     </g>\r\n     <g id=\"text_14\">\r\n      <!-- −100 -->\r\n      <g style=\"fill:#262626;\" transform=\"translate(22.174375 324.13854)scale(0.11 -0.11)\">\r\n       <defs>\r\n        <path d=\"M 52.828125 31.203125 \r\nL 5.5625 31.203125 \r\nL 5.5625 39.40625 \r\nL 52.828125 39.40625 \r\nz\r\n\" id=\"ArialMT-8722\"/>\r\n       </defs>\r\n       <use xlink:href=\"#ArialMT-8722\"/>\r\n       <use x=\"58.398438\" xlink:href=\"#ArialMT-49\"/>\r\n       <use x=\"114.013672\" xlink:href=\"#ArialMT-48\"/>\r\n       <use x=\"169.628906\" xlink:href=\"#ArialMT-48\"/>\r\n      </g>\r\n     </g>\r\n    </g>\r\n    <g id=\"ytick_2\">\r\n     <g id=\"line2d_14\">\r\n      <path clip-path=\"url(#pc290559ecb)\" d=\"M 56.450156 280.530073 \r\nL 614.450156 280.530073 \r\n\" style=\"fill:none;stroke:#ffffff;stroke-linecap:round;\"/>\r\n     </g>\r\n     <g id=\"text_15\">\r\n      <!-- 0 -->\r\n      <g style=\"fill:#262626;\" transform=\"translate(40.833125 284.46687)scale(0.11 -0.11)\">\r\n       <use xlink:href=\"#ArialMT-48\"/>\r\n      </g>\r\n     </g>\r\n    </g>\r\n    <g id=\"ytick_3\">\r\n     <g id=\"line2d_15\">\r\n      <path clip-path=\"url(#pc290559ecb)\" d=\"M 56.450156 240.858402 \r\nL 614.450156 240.858402 \r\n\" style=\"fill:none;stroke:#ffffff;stroke-linecap:round;\"/>\r\n     </g>\r\n     <g id=\"text_16\">\r\n      <!-- 100 -->\r\n      <g style=\"fill:#262626;\" transform=\"translate(28.599062 244.795199)scale(0.11 -0.11)\">\r\n       <use xlink:href=\"#ArialMT-49\"/>\r\n       <use x=\"55.615234\" xlink:href=\"#ArialMT-48\"/>\r\n       <use x=\"111.230469\" xlink:href=\"#ArialMT-48\"/>\r\n      </g>\r\n     </g>\r\n    </g>\r\n    <g id=\"ytick_4\">\r\n     <g id=\"line2d_16\">\r\n      <path clip-path=\"url(#pc290559ecb)\" d=\"M 56.450156 201.186732 \r\nL 614.450156 201.186732 \r\n\" style=\"fill:none;stroke:#ffffff;stroke-linecap:round;\"/>\r\n     </g>\r\n     <g id=\"text_17\">\r\n      <!-- 200 -->\r\n      <g style=\"fill:#262626;\" transform=\"translate(28.599062 205.123529)scale(0.11 -0.11)\">\r\n       <use xlink:href=\"#ArialMT-50\"/>\r\n       <use x=\"55.615234\" xlink:href=\"#ArialMT-48\"/>\r\n       <use x=\"111.230469\" xlink:href=\"#ArialMT-48\"/>\r\n      </g>\r\n     </g>\r\n    </g>\r\n    <g id=\"ytick_5\">\r\n     <g id=\"line2d_17\">\r\n      <path clip-path=\"url(#pc290559ecb)\" d=\"M 56.450156 161.515061 \r\nL 614.450156 161.515061 \r\n\" style=\"fill:none;stroke:#ffffff;stroke-linecap:round;\"/>\r\n     </g>\r\n     <g id=\"text_18\">\r\n      <!-- 300 -->\r\n      <g style=\"fill:#262626;\" transform=\"translate(28.599062 165.451858)scale(0.11 -0.11)\">\r\n       <use xlink:href=\"#ArialMT-51\"/>\r\n       <use x=\"55.615234\" xlink:href=\"#ArialMT-48\"/>\r\n       <use x=\"111.230469\" xlink:href=\"#ArialMT-48\"/>\r\n      </g>\r\n     </g>\r\n    </g>\r\n    <g id=\"ytick_6\">\r\n     <g id=\"line2d_18\">\r\n      <path clip-path=\"url(#pc290559ecb)\" d=\"M 56.450156 121.84339 \r\nL 614.450156 121.84339 \r\n\" style=\"fill:none;stroke:#ffffff;stroke-linecap:round;\"/>\r\n     </g>\r\n     <g id=\"text_19\">\r\n      <!-- 400 -->\r\n      <g style=\"fill:#262626;\" transform=\"translate(28.599062 125.780187)scale(0.11 -0.11)\">\r\n       <use xlink:href=\"#ArialMT-52\"/>\r\n       <use x=\"55.615234\" xlink:href=\"#ArialMT-48\"/>\r\n       <use x=\"111.230469\" xlink:href=\"#ArialMT-48\"/>\r\n      </g>\r\n     </g>\r\n    </g>\r\n    <g id=\"ytick_7\">\r\n     <g id=\"line2d_19\">\r\n      <path clip-path=\"url(#pc290559ecb)\" d=\"M 56.450156 82.17172 \r\nL 614.450156 82.17172 \r\n\" style=\"fill:none;stroke:#ffffff;stroke-linecap:round;\"/>\r\n     </g>\r\n     <g id=\"text_20\">\r\n      <!-- 500 -->\r\n      <g style=\"fill:#262626;\" transform=\"translate(28.599062 86.108517)scale(0.11 -0.11)\">\r\n       <use xlink:href=\"#ArialMT-53\"/>\r\n       <use x=\"55.615234\" xlink:href=\"#ArialMT-48\"/>\r\n       <use x=\"111.230469\" xlink:href=\"#ArialMT-48\"/>\r\n      </g>\r\n     </g>\r\n    </g>\r\n    <g id=\"ytick_8\">\r\n     <g id=\"line2d_20\">\r\n      <path clip-path=\"url(#pc290559ecb)\" d=\"M 56.450156 42.500049 \r\nL 614.450156 42.500049 \r\n\" style=\"fill:none;stroke:#ffffff;stroke-linecap:round;\"/>\r\n     </g>\r\n     <g id=\"text_21\">\r\n      <!-- 600 -->\r\n      <g style=\"fill:#262626;\" transform=\"translate(28.599062 46.436846)scale(0.11 -0.11)\">\r\n       <use xlink:href=\"#ArialMT-54\"/>\r\n       <use x=\"55.615234\" xlink:href=\"#ArialMT-48\"/>\r\n       <use x=\"111.230469\" xlink:href=\"#ArialMT-48\"/>\r\n      </g>\r\n     </g>\r\n    </g>\r\n    <g id=\"text_22\">\r\n     <!-- COVID-19 Growth Rate % -->\r\n     <g style=\"fill:#262626;\" transform=\"translate(15.789375 240.3)rotate(-90)scale(0.12 -0.12)\">\r\n      <defs>\r\n       <path d=\"M 58.796875 25.09375 \r\nL 68.265625 22.703125 \r\nQ 65.28125 11.03125 57.546875 4.90625 \r\nQ 49.8125 -1.21875 38.625 -1.21875 \r\nQ 27.046875 -1.21875 19.796875 3.484375 \r\nQ 12.546875 8.203125 8.765625 17.140625 \r\nQ 4.984375 26.078125 4.984375 36.328125 \r\nQ 4.984375 47.515625 9.25 55.828125 \r\nQ 13.53125 64.15625 21.40625 68.46875 \r\nQ 29.296875 72.796875 38.765625 72.796875 \r\nQ 49.515625 72.796875 56.828125 67.328125 \r\nQ 64.15625 61.859375 67.046875 51.953125 \r\nL 57.71875 49.75 \r\nQ 55.21875 57.5625 50.484375 61.125 \r\nQ 45.75 64.703125 38.578125 64.703125 \r\nQ 30.328125 64.703125 24.78125 60.734375 \r\nQ 19.234375 56.78125 16.984375 50.109375 \r\nQ 14.75 43.453125 14.75 36.375 \r\nQ 14.75 27.25 17.40625 20.4375 \r\nQ 20.0625 13.625 25.671875 10.25 \r\nQ 31.296875 6.890625 37.84375 6.890625 \r\nQ 45.796875 6.890625 51.3125 11.46875 \r\nQ 56.84375 16.0625 58.796875 25.09375 \r\nz\r\n\" id=\"ArialMT-67\"/>\r\n       <path d=\"M 4.828125 34.859375 \r\nQ 4.828125 52.6875 14.390625 62.765625 \r\nQ 23.96875 72.859375 39.109375 72.859375 \r\nQ 49.03125 72.859375 56.984375 68.109375 \r\nQ 64.9375 63.375 69.109375 54.90625 \r\nQ 73.296875 46.4375 73.296875 35.6875 \r\nQ 73.296875 24.8125 68.890625 16.21875 \r\nQ 64.5 7.625 56.4375 3.203125 \r\nQ 48.390625 -1.21875 39.0625 -1.21875 \r\nQ 28.953125 -1.21875 20.984375 3.65625 \r\nQ 13.03125 8.546875 8.921875 16.984375 \r\nQ 4.828125 25.4375 4.828125 34.859375 \r\nz\r\nM 14.59375 34.71875 \r\nQ 14.59375 21.78125 21.546875 14.328125 \r\nQ 28.515625 6.890625 39.015625 6.890625 \r\nQ 49.703125 6.890625 56.609375 14.40625 \r\nQ 63.53125 21.921875 63.53125 35.75 \r\nQ 63.53125 44.484375 60.578125 51 \r\nQ 57.625 57.515625 51.921875 61.109375 \r\nQ 46.234375 64.703125 39.15625 64.703125 \r\nQ 29.109375 64.703125 21.84375 57.78125 \r\nQ 14.59375 50.875 14.59375 34.71875 \r\nz\r\n\" id=\"ArialMT-79\"/>\r\n       <path d=\"M 28.171875 0 \r\nL 0.4375 71.578125 \r\nL 10.6875 71.578125 \r\nL 29.296875 19.578125 \r\nQ 31.546875 13.328125 33.0625 7.859375 \r\nQ 34.71875 13.71875 36.921875 19.578125 \r\nL 56.25 71.578125 \r\nL 65.921875 71.578125 \r\nL 37.890625 0 \r\nz\r\n\" id=\"ArialMT-86\"/>\r\n       <path d=\"M 9.328125 0 \r\nL 9.328125 71.578125 \r\nL 18.796875 71.578125 \r\nL 18.796875 0 \r\nz\r\n\" id=\"ArialMT-73\"/>\r\n       <path d=\"M 7.71875 0 \r\nL 7.71875 71.578125 \r\nL 32.375 71.578125 \r\nQ 40.71875 71.578125 45.125 70.5625 \r\nQ 51.265625 69.140625 55.609375 65.4375 \r\nQ 61.28125 60.640625 64.078125 53.1875 \r\nQ 66.890625 45.75 66.890625 36.1875 \r\nQ 66.890625 28.03125 64.984375 21.734375 \r\nQ 63.09375 15.4375 60.109375 11.296875 \r\nQ 57.125 7.171875 53.578125 4.796875 \r\nQ 50.046875 2.4375 45.046875 1.21875 \r\nQ 40.046875 0 33.546875 0 \r\nz\r\nM 17.1875 8.453125 \r\nL 32.46875 8.453125 \r\nQ 39.546875 8.453125 43.578125 9.765625 \r\nQ 47.609375 11.078125 50 13.484375 \r\nQ 53.375 16.84375 55.25 22.53125 \r\nQ 57.125 28.21875 57.125 36.328125 \r\nQ 57.125 47.5625 53.4375 53.59375 \r\nQ 49.75 59.625 44.484375 61.671875 \r\nQ 40.671875 63.140625 32.234375 63.140625 \r\nL 17.1875 63.140625 \r\nz\r\n\" id=\"ArialMT-68\"/>\r\n       <path d=\"M 3.171875 21.484375 \r\nL 3.171875 30.328125 \r\nL 30.171875 30.328125 \r\nL 30.171875 21.484375 \r\nz\r\n\" id=\"ArialMT-45\"/>\r\n       <path id=\"ArialMT-32\"/>\r\n       <path d=\"M 41.21875 28.078125 \r\nL 41.21875 36.46875 \r\nL 71.53125 36.53125 \r\nL 71.53125 9.96875 \r\nQ 64.546875 4.390625 57.125 1.578125 \r\nQ 49.703125 -1.21875 41.890625 -1.21875 \r\nQ 31.34375 -1.21875 22.71875 3.296875 \r\nQ 14.109375 7.8125 9.71875 16.359375 \r\nQ 5.328125 24.90625 5.328125 35.453125 \r\nQ 5.328125 45.90625 9.6875 54.953125 \r\nQ 14.0625 64.015625 22.265625 68.40625 \r\nQ 30.46875 72.796875 41.15625 72.796875 \r\nQ 48.921875 72.796875 55.1875 70.28125 \r\nQ 61.46875 67.78125 65.03125 63.28125 \r\nQ 68.609375 58.796875 70.453125 51.5625 \r\nL 61.921875 49.21875 \r\nQ 60.296875 54.6875 57.90625 57.8125 \r\nQ 55.515625 60.9375 51.0625 62.8125 \r\nQ 46.625 64.703125 41.21875 64.703125 \r\nQ 34.71875 64.703125 29.984375 62.71875 \r\nQ 25.25 60.75 22.34375 57.515625 \r\nQ 19.4375 54.296875 17.828125 50.4375 \r\nQ 15.09375 43.796875 15.09375 36.03125 \r\nQ 15.09375 26.46875 18.390625 20.015625 \r\nQ 21.6875 13.578125 27.984375 10.453125 \r\nQ 34.28125 7.328125 41.359375 7.328125 \r\nQ 47.515625 7.328125 53.375 9.6875 \r\nQ 59.234375 12.0625 62.25 14.75 \r\nL 62.25 28.078125 \r\nz\r\n\" id=\"ArialMT-71\"/>\r\n       <path d=\"M 6.5 0 \r\nL 6.5 51.859375 \r\nL 14.40625 51.859375 \r\nL 14.40625 44 \r\nQ 17.4375 49.515625 20 51.265625 \r\nQ 22.5625 53.03125 25.640625 53.03125 \r\nQ 30.078125 53.03125 34.671875 50.203125 \r\nL 31.640625 42.046875 \r\nQ 28.421875 43.953125 25.203125 43.953125 \r\nQ 22.3125 43.953125 20.015625 42.21875 \r\nQ 17.71875 40.484375 16.75 37.40625 \r\nQ 15.28125 32.71875 15.28125 27.15625 \r\nL 15.28125 0 \r\nz\r\n\" id=\"ArialMT-114\"/>\r\n       <path d=\"M 16.15625 0 \r\nL 0.296875 51.859375 \r\nL 9.375 51.859375 \r\nL 17.625 21.921875 \r\nL 20.703125 10.796875 \r\nQ 20.90625 11.625 23.390625 21.484375 \r\nL 31.640625 51.859375 \r\nL 40.671875 51.859375 \r\nL 48.4375 21.78125 \r\nL 51.03125 11.859375 \r\nL 54 21.875 \r\nL 62.890625 51.859375 \r\nL 71.4375 51.859375 \r\nL 55.21875 0 \r\nL 46.09375 0 \r\nL 37.84375 31.0625 \r\nL 35.84375 39.890625 \r\nL 25.34375 0 \r\nz\r\n\" id=\"ArialMT-119\"/>\r\n       <path d=\"M 7.859375 0 \r\nL 7.859375 71.578125 \r\nL 39.59375 71.578125 \r\nQ 49.171875 71.578125 54.140625 69.640625 \r\nQ 59.125 67.71875 62.109375 62.828125 \r\nQ 65.09375 57.953125 65.09375 52.046875 \r\nQ 65.09375 44.4375 60.15625 39.203125 \r\nQ 55.21875 33.984375 44.921875 32.5625 \r\nQ 48.6875 30.765625 50.640625 29 \r\nQ 54.78125 25.203125 58.5 19.484375 \r\nL 70.953125 0 \r\nL 59.03125 0 \r\nL 49.5625 14.890625 \r\nQ 45.40625 21.34375 42.71875 24.75 \r\nQ 40.046875 28.171875 37.921875 29.53125 \r\nQ 35.796875 30.90625 33.59375 31.453125 \r\nQ 31.984375 31.78125 28.328125 31.78125 \r\nL 17.328125 31.78125 \r\nL 17.328125 0 \r\nz\r\nM 17.328125 39.984375 \r\nL 37.703125 39.984375 \r\nQ 44.1875 39.984375 47.84375 41.328125 \r\nQ 51.515625 42.671875 53.421875 45.625 \r\nQ 55.328125 48.578125 55.328125 52.046875 \r\nQ 55.328125 57.125 51.640625 60.390625 \r\nQ 47.953125 63.671875 39.984375 63.671875 \r\nL 17.328125 63.671875 \r\nz\r\n\" id=\"ArialMT-82\"/>\r\n       <path d=\"M 40.4375 6.390625 \r\nQ 35.546875 2.25 31.03125 0.53125 \r\nQ 26.515625 -1.171875 21.34375 -1.171875 \r\nQ 12.796875 -1.171875 8.203125 3 \r\nQ 3.609375 7.171875 3.609375 13.671875 \r\nQ 3.609375 17.484375 5.34375 20.625 \r\nQ 7.078125 23.78125 9.890625 25.6875 \r\nQ 12.703125 27.59375 16.21875 28.5625 \r\nQ 18.796875 29.25 24.03125 29.890625 \r\nQ 34.671875 31.15625 39.703125 32.90625 \r\nQ 39.75 34.71875 39.75 35.203125 \r\nQ 39.75 40.578125 37.25 42.78125 \r\nQ 33.890625 45.75 27.25 45.75 \r\nQ 21.046875 45.75 18.09375 43.578125 \r\nQ 15.140625 41.40625 13.71875 35.890625 \r\nL 5.125 37.0625 \r\nQ 6.296875 42.578125 8.984375 45.96875 \r\nQ 11.671875 49.359375 16.75 51.1875 \r\nQ 21.828125 53.03125 28.515625 53.03125 \r\nQ 35.15625 53.03125 39.296875 51.46875 \r\nQ 43.453125 49.90625 45.40625 47.53125 \r\nQ 47.359375 45.171875 48.140625 41.546875 \r\nQ 48.578125 39.3125 48.578125 33.453125 \r\nL 48.578125 21.734375 \r\nQ 48.578125 9.46875 49.140625 6.21875 \r\nQ 49.703125 2.984375 51.375 0 \r\nL 42.1875 0 \r\nQ 40.828125 2.734375 40.4375 6.390625 \r\nz\r\nM 39.703125 26.03125 \r\nQ 34.90625 24.078125 25.34375 22.703125 \r\nQ 19.921875 21.921875 17.671875 20.9375 \r\nQ 15.4375 19.96875 14.203125 18.09375 \r\nQ 12.984375 16.21875 12.984375 13.921875 \r\nQ 12.984375 10.40625 15.640625 8.0625 \r\nQ 18.3125 5.71875 23.4375 5.71875 \r\nQ 28.515625 5.71875 32.46875 7.9375 \r\nQ 36.421875 10.15625 38.28125 14.015625 \r\nQ 39.703125 17 39.703125 22.796875 \r\nz\r\n\" id=\"ArialMT-97\"/>\r\n       <path d=\"M 42.09375 16.703125 \r\nL 51.171875 15.578125 \r\nQ 49.03125 7.625 43.21875 3.21875 \r\nQ 37.40625 -1.171875 28.375 -1.171875 \r\nQ 17 -1.171875 10.328125 5.828125 \r\nQ 3.65625 12.84375 3.65625 25.484375 \r\nQ 3.65625 38.578125 10.390625 45.796875 \r\nQ 17.140625 53.03125 27.875 53.03125 \r\nQ 38.28125 53.03125 44.875 45.953125 \r\nQ 51.46875 38.875 51.46875 26.03125 \r\nQ 51.46875 25.25 51.421875 23.6875 \r\nL 12.75 23.6875 \r\nQ 13.234375 15.140625 17.578125 10.59375 \r\nQ 21.921875 6.0625 28.421875 6.0625 \r\nQ 33.25 6.0625 36.671875 8.59375 \r\nQ 40.09375 11.140625 42.09375 16.703125 \r\nz\r\nM 13.234375 30.90625 \r\nL 42.1875 30.90625 \r\nQ 41.609375 37.453125 38.875 40.71875 \r\nQ 34.671875 45.796875 27.984375 45.796875 \r\nQ 21.921875 45.796875 17.796875 41.75 \r\nQ 13.671875 37.703125 13.234375 30.90625 \r\nz\r\n\" id=\"ArialMT-101\"/>\r\n       <path d=\"M 5.8125 54.390625 \r\nQ 5.8125 62.0625 9.671875 67.421875 \r\nQ 13.53125 72.796875 20.84375 72.796875 \r\nQ 27.59375 72.796875 32 67.984375 \r\nQ 36.421875 63.1875 36.421875 53.859375 \r\nQ 36.421875 44.78125 31.953125 39.875 \r\nQ 27.484375 34.96875 20.953125 34.96875 \r\nQ 14.453125 34.96875 10.125 39.796875 \r\nQ 5.8125 44.625 5.8125 54.390625 \r\nz\r\nM 21.09375 66.75 \r\nQ 17.828125 66.75 15.65625 63.90625 \r\nQ 13.484375 61.078125 13.484375 53.515625 \r\nQ 13.484375 46.625 15.671875 43.8125 \r\nQ 17.875 41.015625 21.09375 41.015625 \r\nQ 24.421875 41.015625 26.59375 43.84375 \r\nQ 28.765625 46.6875 28.765625 54.203125 \r\nQ 28.765625 61.140625 26.5625 63.9375 \r\nQ 24.359375 66.75 21.09375 66.75 \r\nz\r\nM 21.140625 -2.640625 \r\nL 60.296875 72.796875 \r\nL 67.4375 72.796875 \r\nL 28.421875 -2.640625 \r\nz\r\nM 52.09375 16.796875 \r\nQ 52.09375 24.515625 55.953125 29.859375 \r\nQ 59.8125 35.203125 67.1875 35.203125 \r\nQ 73.921875 35.203125 78.34375 30.390625 \r\nQ 82.765625 25.59375 82.765625 16.265625 \r\nQ 82.765625 7.171875 78.296875 2.265625 \r\nQ 73.828125 -2.640625 67.234375 -2.640625 \r\nQ 60.75 -2.640625 56.421875 2.21875 \r\nQ 52.09375 7.078125 52.09375 16.796875 \r\nz\r\nM 67.4375 29.15625 \r\nQ 64.109375 29.15625 61.9375 26.3125 \r\nQ 59.765625 23.484375 59.765625 15.921875 \r\nQ 59.765625 9.078125 61.953125 6.25 \r\nQ 64.15625 3.421875 67.390625 3.421875 \r\nQ 70.75 3.421875 72.921875 6.25 \r\nQ 75.09375 9.078125 75.09375 16.609375 \r\nQ 75.09375 23.53125 72.890625 26.34375 \r\nQ 70.703125 29.15625 67.4375 29.15625 \r\nz\r\n\" id=\"ArialMT-37\"/>\r\n      </defs>\r\n      <use xlink:href=\"#ArialMT-67\"/>\r\n      <use x=\"72.216797\" xlink:href=\"#ArialMT-79\"/>\r\n      <use x=\"150\" xlink:href=\"#ArialMT-86\"/>\r\n      <use x=\"216.699219\" xlink:href=\"#ArialMT-73\"/>\r\n      <use x=\"244.482422\" xlink:href=\"#ArialMT-68\"/>\r\n      <use x=\"316.699219\" xlink:href=\"#ArialMT-45\"/>\r\n      <use x=\"350\" xlink:href=\"#ArialMT-49\"/>\r\n      <use x=\"405.615234\" xlink:href=\"#ArialMT-57\"/>\r\n      <use x=\"461.230469\" xlink:href=\"#ArialMT-32\"/>\r\n      <use x=\"489.013672\" xlink:href=\"#ArialMT-71\"/>\r\n      <use x=\"566.796875\" xlink:href=\"#ArialMT-114\"/>\r\n      <use x=\"600.097656\" xlink:href=\"#ArialMT-111\"/>\r\n      <use x=\"655.712891\" xlink:href=\"#ArialMT-119\"/>\r\n      <use x=\"727.929688\" xlink:href=\"#ArialMT-116\"/>\r\n      <use x=\"755.712891\" xlink:href=\"#ArialMT-104\"/>\r\n      <use x=\"811.328125\" xlink:href=\"#ArialMT-32\"/>\r\n      <use x=\"839.111328\" xlink:href=\"#ArialMT-82\"/>\r\n      <use x=\"911.328125\" xlink:href=\"#ArialMT-97\"/>\r\n      <use x=\"966.943359\" xlink:href=\"#ArialMT-116\"/>\r\n      <use x=\"994.726562\" xlink:href=\"#ArialMT-101\"/>\r\n      <use x=\"1050.341797\" xlink:href=\"#ArialMT-32\"/>\r\n      <use x=\"1078.125\" xlink:href=\"#ArialMT-37\"/>\r\n     </g>\r\n    </g>\r\n   </g>\r\n   <g id=\"patch_3\">\r\n    <path clip-path=\"url(#pc290559ecb)\" d=\"M 68.075156 280.530073 \r\nL 91.325156 280.530073 \r\nL 91.325156 280.530073 \r\nL 68.075156 280.530073 \r\nz\r\n\" style=\"fill:#4c72b0;stroke:#ffffff;stroke-linejoin:miter;\"/>\r\n   </g>\r\n   <g id=\"patch_4\">\r\n    <path clip-path=\"url(#pc290559ecb)\" d=\"M 114.575156 280.530073 \r\nL 137.825156 280.530073 \r\nL 137.825156 22.025455 \r\nL 114.575156 22.025455 \r\nz\r\n\" style=\"fill:#4c72b0;stroke:#ffffff;stroke-linejoin:miter;\"/>\r\n   </g>\r\n   <g id=\"patch_5\">\r\n    <path clip-path=\"url(#pc290559ecb)\" d=\"M 161.075156 280.530073 \r\nL 184.325156 280.530073 \r\nL 184.325156 318.534545 \r\nL 161.075156 318.534545 \r\nz\r\n\" style=\"fill:#4c72b0;stroke:#ffffff;stroke-linejoin:miter;\"/>\r\n   </g>\r\n   <g id=\"patch_6\">\r\n    <path clip-path=\"url(#pc290559ecb)\" d=\"M 207.575156 280.530073 \r\nL 230.825156 280.530073 \r\nL 230.825156 297.44109 \r\nL 207.575156 297.44109 \r\nz\r\n\" style=\"fill:#4c72b0;stroke:#ffffff;stroke-linejoin:miter;\"/>\r\n   </g>\r\n   <g id=\"patch_7\">\r\n    <path clip-path=\"url(#pc290559ecb)\" d=\"M 254.075156 280.530073 \r\nL 277.325156 280.530073 \r\nL 277.325156 315.70704 \r\nL 254.075156 315.70704 \r\nz\r\n\" style=\"fill:#4c72b0;stroke:#ffffff;stroke-linejoin:miter;\"/>\r\n   </g>\r\n   <g id=\"patch_8\">\r\n    <path clip-path=\"url(#pc290559ecb)\" d=\"M 300.575156 280.530073 \r\nL 323.825156 280.530073 \r\nL 323.825156 186.779651 \r\nL 300.575156 186.779651 \r\nz\r\n\" style=\"fill:#4c72b0;stroke:#ffffff;stroke-linejoin:miter;\"/>\r\n   </g>\r\n   <g id=\"patch_9\">\r\n    <path clip-path=\"url(#pc290559ecb)\" d=\"M 347.075156 280.530073 \r\nL 370.325156 280.530073 \r\nL 370.325156 142.020688 \r\nL 347.075156 142.020688 \r\nz\r\n\" style=\"fill:#4c72b0;stroke:#ffffff;stroke-linejoin:miter;\"/>\r\n   </g>\r\n   <g id=\"patch_10\">\r\n    <path clip-path=\"url(#pc290559ecb)\" d=\"M 393.575156 280.530073 \r\nL 416.825156 280.530073 \r\nL 416.825156 288.975854 \r\nL 393.575156 288.975854 \r\nz\r\n\" style=\"fill:#4c72b0;stroke:#ffffff;stroke-linejoin:miter;\"/>\r\n   </g>\r\n   <g id=\"patch_11\">\r\n    <path clip-path=\"url(#pc290559ecb)\" d=\"M 440.075156 280.530073 \r\nL 463.325156 280.530073 \r\nL 463.325156 309.120369 \r\nL 440.075156 309.120369 \r\nz\r\n\" style=\"fill:#4c72b0;stroke:#ffffff;stroke-linejoin:miter;\"/>\r\n   </g>\r\n   <g id=\"patch_12\">\r\n    <path clip-path=\"url(#pc290559ecb)\" d=\"M 486.575156 280.530073 \r\nL 509.825156 280.530073 \r\nL 509.825156 268.584562 \r\nL 486.575156 268.584562 \r\nz\r\n\" style=\"fill:#4c72b0;stroke:#ffffff;stroke-linejoin:miter;\"/>\r\n   </g>\r\n   <g id=\"patch_13\">\r\n    <path clip-path=\"url(#pc290559ecb)\" d=\"M 533.075156 280.530073 \r\nL 556.325156 280.530073 \r\nL 556.325156 245.980445 \r\nL 533.075156 245.980445 \r\nz\r\n\" style=\"fill:#4c72b0;stroke:#ffffff;stroke-linejoin:miter;\"/>\r\n   </g>\r\n   <g id=\"patch_14\">\r\n    <path clip-path=\"url(#pc290559ecb)\" d=\"M 579.575156 280.530073 \r\nL 602.825156 280.530073 \r\nL 602.825156 241.142509 \r\nL 579.575156 241.142509 \r\nz\r\n\" style=\"fill:#4c72b0;stroke:#ffffff;stroke-linejoin:miter;\"/>\r\n   </g>\r\n   <g id=\"patch_15\">\r\n    <path d=\"M 56.450156 333.36 \r\nL 56.450156 7.2 \r\n\" style=\"fill:none;stroke:#ffffff;stroke-linecap:square;stroke-linejoin:miter;stroke-width:1.25;\"/>\r\n   </g>\r\n   <g id=\"patch_16\">\r\n    <path d=\"M 614.450156 333.36 \r\nL 614.450156 7.2 \r\n\" style=\"fill:none;stroke:#ffffff;stroke-linecap:square;stroke-linejoin:miter;stroke-width:1.25;\"/>\r\n   </g>\r\n   <g id=\"patch_17\">\r\n    <path d=\"M 56.450156 333.36 \r\nL 614.450156 333.36 \r\n\" style=\"fill:none;stroke:#ffffff;stroke-linecap:square;stroke-linejoin:miter;stroke-width:1.25;\"/>\r\n   </g>\r\n   <g id=\"patch_18\">\r\n    <path d=\"M 56.450156 7.2 \r\nL 614.450156 7.2 \r\n\" style=\"fill:none;stroke:#ffffff;stroke-linecap:square;stroke-linejoin:miter;stroke-width:1.25;\"/>\r\n   </g>\r\n   <g id=\"legend_1\">\r\n    <g id=\"patch_19\">\r\n     <path d=\"M 542.810938 48.034219 \r\nL 606.750156 48.034219 \r\nQ 608.950156 48.034219 608.950156 45.834219 \r\nL 608.950156 14.9 \r\nQ 608.950156 12.7 606.750156 12.7 \r\nL 542.810938 12.7 \r\nQ 540.610937 12.7 540.610937 14.9 \r\nL 540.610937 45.834219 \r\nQ 540.610937 48.034219 542.810938 48.034219 \r\nz\r\n\" style=\"fill:#eaeaf2;opacity:0.8;stroke:#cccccc;stroke-linejoin:miter;\"/>\r\n    </g>\r\n    <g id=\"text_23\">\r\n     <!-- location -->\r\n     <g style=\"fill:#262626;\" transform=\"translate(554.101172 25.689375)scale(0.12 -0.12)\">\r\n      <defs>\r\n       <path d=\"M 6.390625 0 \r\nL 6.390625 71.578125 \r\nL 15.1875 71.578125 \r\nL 15.1875 0 \r\nz\r\n\" id=\"ArialMT-108\"/>\r\n       <path d=\"M 40.4375 19 \r\nL 49.078125 17.875 \r\nQ 47.65625 8.9375 41.8125 3.875 \r\nQ 35.984375 -1.171875 27.484375 -1.171875 \r\nQ 16.84375 -1.171875 10.375 5.78125 \r\nQ 3.90625 12.75 3.90625 25.734375 \r\nQ 3.90625 34.125 6.6875 40.421875 \r\nQ 9.46875 46.734375 15.15625 49.875 \r\nQ 20.84375 53.03125 27.546875 53.03125 \r\nQ 35.984375 53.03125 41.359375 48.75 \r\nQ 46.734375 44.484375 48.25 36.625 \r\nL 39.703125 35.296875 \r\nQ 38.484375 40.53125 35.375 43.15625 \r\nQ 32.28125 45.796875 27.875 45.796875 \r\nQ 21.234375 45.796875 17.078125 41.03125 \r\nQ 12.9375 36.28125 12.9375 25.984375 \r\nQ 12.9375 15.53125 16.9375 10.796875 \r\nQ 20.953125 6.0625 27.390625 6.0625 \r\nQ 32.5625 6.0625 36.03125 9.234375 \r\nQ 39.5 12.40625 40.4375 19 \r\nz\r\n\" id=\"ArialMT-99\"/>\r\n       <path d=\"M 6.640625 61.46875 \r\nL 6.640625 71.578125 \r\nL 15.4375 71.578125 \r\nL 15.4375 61.46875 \r\nz\r\nM 6.640625 0 \r\nL 6.640625 51.859375 \r\nL 15.4375 51.859375 \r\nL 15.4375 0 \r\nz\r\n\" id=\"ArialMT-105\"/>\r\n      </defs>\r\n      <use xlink:href=\"#ArialMT-108\"/>\r\n      <use x=\"22.216797\" xlink:href=\"#ArialMT-111\"/>\r\n      <use x=\"77.832031\" xlink:href=\"#ArialMT-99\"/>\r\n      <use x=\"127.832031\" xlink:href=\"#ArialMT-97\"/>\r\n      <use x=\"183.447266\" xlink:href=\"#ArialMT-116\"/>\r\n      <use x=\"211.230469\" xlink:href=\"#ArialMT-105\"/>\r\n      <use x=\"233.447266\" xlink:href=\"#ArialMT-111\"/>\r\n      <use x=\"289.0625\" xlink:href=\"#ArialMT-110\"/>\r\n     </g>\r\n    </g>\r\n    <g id=\"patch_20\">\r\n     <path d=\"M 545.010937 41.447969 \r\nL 567.010937 41.447969 \r\nL 567.010937 33.747969 \r\nL 545.010937 33.747969 \r\nz\r\n\" style=\"fill:#4c72b0;stroke:#ffffff;stroke-linejoin:miter;\"/>\r\n    </g>\r\n    <g id=\"text_24\">\r\n     <!-- China -->\r\n     <g style=\"fill:#262626;\" transform=\"translate(575.810937 41.447969)scale(0.11 -0.11)\">\r\n      <use xlink:href=\"#ArialMT-67\"/>\r\n      <use x=\"72.216797\" xlink:href=\"#ArialMT-104\"/>\r\n      <use x=\"127.832031\" xlink:href=\"#ArialMT-105\"/>\r\n      <use x=\"150.048828\" xlink:href=\"#ArialMT-110\"/>\r\n      <use x=\"205.664062\" xlink:href=\"#ArialMT-97\"/>\r\n     </g>\r\n    </g>\r\n   </g>\r\n  </g>\r\n </g>\r\n <defs>\r\n  <clipPath id=\"pc290559ecb\">\r\n   <rect height=\"326.16\" width=\"558\" x=\"56.450156\" y=\"7.2\"/>\r\n  </clipPath>\r\n </defs>\r\n</svg>\r\n",
      "image/png": "[encoded data removed]"
     },
     "metadata": {}
    }
   ],
   "source": [
    "\n",
    "China=df_unemployment.loc[df_unemployment['Country'] == 'China']\n",
    "print(China)\n",
    "China_corona=df_aggr_covid19_data.loc[df_aggr_covid19_data['location'] == 'China']\n",
    "China.pivot(columns ='Country',index='Month',values='Unemployment_Rate_Percent').plot(kind='bar',xlabel = 'Months', ylabel ='Unemployemnt Rate %',sort_columns = False)\n",
    "plt.rcParams[\"figure.figsize\"] = (10,6)\n",
    "\n",
    "\n",
    "#China's COVID Growth Rate\n",
    "China=df_aggr_covid19_data.loc[df_aggr_covid19_data['location'] == 'China']\n",
    "China.pivot(columns ='location',index='month',values='PG_Rate').plot(kind='bar', xlabel = 'Months', ylabel ='COVID-19 Growth Rate %',sort_columns = False)\n",
    "plt.rcParams[\"figure.figsize\"] = (10,6)\n"
   ]
  },
  {
   "cell_type": "code",
   "execution_count": 410,
   "id": "random-lindsay",
   "metadata": {},
   "outputs": [
    {
     "output_type": "execute_result",
     "data": {
      "text/plain": [
       "   Year    Months import_prices_index Change on previous month in(%)  \\\n",
       "0  2019   January               102.2                           -0.2   \n",
       "1  2019  February               102.5                            0.3   \n",
       "2  2019     March               102.5                              -   \n",
       "3  2019     April               102.8                            0.3   \n",
       "4  2019       May               102.7                           -0.1   \n",
       "\n",
       "  Change on previous year's month in(%) export_prices_index  \\\n",
       "0                                   0.8               102.2   \n",
       "1                                   1.6               102.3   \n",
       "2                                   1.7               102.4   \n",
       "3                                   1.4               102.6   \n",
       "4                                  -0.2               102.5   \n",
       "\n",
       "  Change on previous month in(%).1 Change on previous year's month in(%).1  \\\n",
       "0                              0.1                                     1.1   \n",
       "1                              0.1                                     1.3   \n",
       "2                              0.1                                     1.3   \n",
       "3                              0.2                                     1.3   \n",
       "4                             -0.1                                     0.7   \n",
       "\n",
       "   Consumer price index Change on previous year's month in(%).2  \\\n",
       "0                 103.4                                     1.4   \n",
       "1                 103.8                                     1.5   \n",
       "2                 104.2                                     1.3   \n",
       "3                 105.2                                       2   \n",
       "4                 105.4                                     1.4   \n",
       "\n",
       "  Change on previous month in(%).2  \n",
       "0                             -0.8  \n",
       "1                              0.4  \n",
       "2                              0.4  \n",
       "3                                1  \n",
       "4                              0.2  "
      ],
      "text/html": "<div>\n<style scoped>\n    .dataframe tbody tr th:only-of-type {\n        vertical-align: middle;\n    }\n\n    .dataframe tbody tr th {\n        vertical-align: top;\n    }\n\n    .dataframe thead th {\n        text-align: right;\n    }\n</style>\n<table border=\"1\" class=\"dataframe\">\n  <thead>\n    <tr style=\"text-align: right;\">\n      <th></th>\n      <th>Year</th>\n      <th>Months</th>\n      <th>import_prices_index</th>\n      <th>Change on previous month in(%)</th>\n      <th>Change on previous year's month in(%)</th>\n      <th>export_prices_index</th>\n      <th>Change on previous month in(%).1</th>\n      <th>Change on previous year's month in(%).1</th>\n      <th>Consumer price index</th>\n      <th>Change on previous year's month in(%).2</th>\n      <th>Change on previous month in(%).2</th>\n    </tr>\n  </thead>\n  <tbody>\n    <tr>\n      <th>0</th>\n      <td>2019</td>\n      <td>January</td>\n      <td>102.2</td>\n      <td>-0.2</td>\n      <td>0.8</td>\n      <td>102.2</td>\n      <td>0.1</td>\n      <td>1.1</td>\n      <td>103.4</td>\n      <td>1.4</td>\n      <td>-0.8</td>\n    </tr>\n    <tr>\n      <th>1</th>\n      <td>2019</td>\n      <td>February</td>\n      <td>102.5</td>\n      <td>0.3</td>\n      <td>1.6</td>\n      <td>102.3</td>\n      <td>0.1</td>\n      <td>1.3</td>\n      <td>103.8</td>\n      <td>1.5</td>\n      <td>0.4</td>\n    </tr>\n    <tr>\n      <th>2</th>\n      <td>2019</td>\n      <td>March</td>\n      <td>102.5</td>\n      <td>-</td>\n      <td>1.7</td>\n      <td>102.4</td>\n      <td>0.1</td>\n      <td>1.3</td>\n      <td>104.2</td>\n      <td>1.3</td>\n      <td>0.4</td>\n    </tr>\n    <tr>\n      <th>3</th>\n      <td>2019</td>\n      <td>April</td>\n      <td>102.8</td>\n      <td>0.3</td>\n      <td>1.4</td>\n      <td>102.6</td>\n      <td>0.2</td>\n      <td>1.3</td>\n      <td>105.2</td>\n      <td>2</td>\n      <td>1</td>\n    </tr>\n    <tr>\n      <th>4</th>\n      <td>2019</td>\n      <td>May</td>\n      <td>102.7</td>\n      <td>-0.1</td>\n      <td>-0.2</td>\n      <td>102.5</td>\n      <td>-0.1</td>\n      <td>0.7</td>\n      <td>105.4</td>\n      <td>1.4</td>\n      <td>0.2</td>\n    </tr>\n  </tbody>\n</table>\n</div>"
     },
     "metadata": {},
     "execution_count": 410
    }
   ],
   "source": [
    "#Displaying the import -export price index & CPI\n",
    "\n",
    "df_CPI_Import_Export_Aggr=pd.read_csv(\"data/CPI_Export_Import_Aggr.csv\")\n",
    "\n",
    "df_CPI_Import_Export_Aggr=df_CPI_Import_Export_Aggr.drop(df_CPI_Import_Export_Aggr.index[df_CPI_Import_Export_Aggr[\"Year\"] == '2019'])\n",
    "df_CPI_Import_Export_Aggr.head()"
   ]
  },
  {
   "cell_type": "code",
   "execution_count": 411,
   "id": "purple-lucas",
   "metadata": {},
   "outputs": [
    {
     "output_type": "error",
     "ename": "ModuleNotFoundError",
     "evalue": "No module named 'plotly'",
     "traceback": [
      "\u001b[1;31m---------------------------------------------------------------------------\u001b[0m",
      "\u001b[1;31mModuleNotFoundError\u001b[0m                       Traceback (most recent call last)",
      "\u001b[1;32m<ipython-input-411-95a9dc47e1e6>\u001b[0m in \u001b[0;36m<module>\u001b[1;34m\u001b[0m\n\u001b[0;32m      1\u001b[0m \u001b[1;31m#Plotting unemployment rate\u001b[0m\u001b[1;33m\u001b[0m\u001b[1;33m\u001b[0m\u001b[1;33m\u001b[0m\u001b[0m\n\u001b[0;32m      2\u001b[0m \u001b[0mdf_unemployment_copy\u001b[0m\u001b[1;33m=\u001b[0m\u001b[0mdf_unemployment\u001b[0m\u001b[1;33m\u001b[0m\u001b[1;33m\u001b[0m\u001b[0m\n\u001b[1;32m----> 3\u001b[1;33m \u001b[1;32mimport\u001b[0m \u001b[0mplotly\u001b[0m\u001b[1;33m.\u001b[0m\u001b[0mexpress\u001b[0m \u001b[1;32mas\u001b[0m \u001b[0mpx\u001b[0m\u001b[1;33m\u001b[0m\u001b[1;33m\u001b[0m\u001b[0m\n\u001b[0m\u001b[0;32m      4\u001b[0m \u001b[0mfig\u001b[0m \u001b[1;33m=\u001b[0m \u001b[0mpx\u001b[0m\u001b[1;33m.\u001b[0m\u001b[0mscatter\u001b[0m\u001b[1;33m(\u001b[0m\u001b[0mdf_unemployment\u001b[0m\u001b[1;33m,\u001b[0m \u001b[0mx\u001b[0m\u001b[1;33m=\u001b[0m\u001b[1;34m\"Month\"\u001b[0m\u001b[1;33m,\u001b[0m \u001b[0my\u001b[0m\u001b[1;33m=\u001b[0m\u001b[1;34m\"Unemployment_Rate_Percent\"\u001b[0m\u001b[1;33m,\u001b[0m\u001b[0mcolor\u001b[0m\u001b[1;33m=\u001b[0m\u001b[1;34m\"Country\"\u001b[0m\u001b[1;33m,\u001b[0m\u001b[0mhover_data\u001b[0m\u001b[1;33m=\u001b[0m\u001b[1;33m[\u001b[0m\u001b[1;34m'Month'\u001b[0m\u001b[1;33m,\u001b[0m \u001b[1;34m\"Unemployment_Rate_Percent\"\u001b[0m\u001b[1;33m]\u001b[0m\u001b[1;33m)\u001b[0m \u001b[1;31m#,width=1200, height=900,\u001b[0m\u001b[1;33m\u001b[0m\u001b[1;33m\u001b[0m\u001b[0m\n\u001b[0;32m      5\u001b[0m \u001b[0mfig\u001b[0m\u001b[1;33m.\u001b[0m\u001b[0mshow\u001b[0m\u001b[1;33m(\u001b[0m\u001b[1;33m)\u001b[0m\u001b[1;33m\u001b[0m\u001b[1;33m\u001b[0m\u001b[0m\n",
      "\u001b[1;31mModuleNotFoundError\u001b[0m: No module named 'plotly'"
     ]
    }
   ],
   "source": [
    "#Plotting unemployment rate \n",
    "df_unemployment_copy=df_unemployment\n",
    "import plotly.express as px\n",
    "fig = px.scatter(df_unemployment, x=\"Month\", y=\"Unemployment_Rate_Percent\",color=\"Country\",hover_data=['Month', \"Unemployment_Rate_Percent\"]) #,width=1200, height=900,\n",
    "fig.show()"
   ]
  },
  {
   "cell_type": "code",
   "execution_count": 120,
   "id": "undefined-independence",
   "metadata": {},
   "outputs": [],
   "source": [
    "#df_CPI_Import_Export_Aggr=df_CPI_Import_Export_Aggr.loc[df_CPI_Import_Export_Aggr['Year'] == '2020']\n",
    "#df_CPI_Import_Export_Aggr.pivot(columns ='Change on previous month in(%)',index='Months',values='Change on previous month in(%).1').plot(kind='line', xlabel = 'Months', ylabel ='Import&Export Prices %',sort_columns = False)\n",
    "#plt.rcParams[\"figure.figsize\"] = (10,6)"
   ]
  },
  {
   "cell_type": "code",
   "execution_count": 121,
   "id": "nutritional-czech",
   "metadata": {},
   "outputs": [
    {
     "data": {
      "application/vnd.plotly.v1+json": {
       "config": {
        "plotlyServerURL": "https://plot.ly"
       },
       "data": [
        {
         "hovertemplate": "Months=January<br>export_prices_index=%{x}<br>import_prices_index=%{y}<extra></extra>",
         "legendgroup": "January",
         "marker": {
          "color": "#636efa",
          "symbol": "circle"
         },
         "mode": "markers",
         "name": "January",
         "orientation": "v",
         "showlegend": true,
         "type": "scatter",
         "x": [
          "102.2",
          "102.7"
         ],
         "xaxis": "x",
         "y": [
          "102.2",
          "101.3"
         ],
         "yaxis": "y"
        },
        {
         "hovertemplate": "Months=February<br>export_prices_index=%{x}<br>import_prices_index=%{y}<extra></extra>",
         "legendgroup": "February",
         "marker": {
          "color": "#EF553B",
          "symbol": "circle"
         },
         "mode": "markers",
         "name": "February",
         "orientation": "v",
         "showlegend": true,
         "type": "scatter",
         "x": [
          "102.3",
          "102.6"
         ],
         "xaxis": "x",
         "y": [
          "102.5",
          "100.4"
         ],
         "yaxis": "y"
        },
        {
         "hovertemplate": "Months=March<br>export_prices_index=%{x}<br>import_prices_index=%{y}<extra></extra>",
         "legendgroup": "March",
         "marker": {
          "color": "#00cc96",
          "symbol": "circle"
         },
         "mode": "markers",
         "name": "March",
         "orientation": "v",
         "showlegend": true,
         "type": "scatter",
         "x": [
          "102.4",
          "101.9"
         ],
         "xaxis": "x",
         "y": [
          "102.5",
          "96.9"
         ],
         "yaxis": "y"
        },
        {
         "hovertemplate": "Months=April<br>export_prices_index=%{x}<br>import_prices_index=%{y}<extra></extra>",
         "legendgroup": "April",
         "marker": {
          "color": "#ab63fa",
          "symbol": "circle"
         },
         "mode": "markers",
         "name": "April",
         "orientation": "v",
         "showlegend": true,
         "type": "scatter",
         "x": [
          "102.6",
          "101.5"
         ],
         "xaxis": "x",
         "y": [
          "102.8",
          "95.2"
         ],
         "yaxis": "y"
        },
        {
         "hovertemplate": "Months=May<br>export_prices_index=%{x}<br>import_prices_index=%{y}<extra></extra>",
         "legendgroup": "May",
         "marker": {
          "color": "#FFA15A",
          "symbol": "circle"
         },
         "mode": "markers",
         "name": "May",
         "orientation": "v",
         "showlegend": true,
         "type": "scatter",
         "x": [
          "102.5",
          "101.3"
         ],
         "xaxis": "x",
         "y": [
          "102.7",
          "95.5"
         ],
         "yaxis": "y"
        },
        {
         "hovertemplate": "Months=June<br>export_prices_index=%{x}<br>import_prices_index=%{y}<extra></extra>",
         "legendgroup": "June",
         "marker": {
          "color": "#19d3f3",
          "symbol": "circle"
         },
         "mode": "markers",
         "name": "June",
         "orientation": "v",
         "showlegend": true,
         "type": "scatter",
         "x": [
          "102.3",
          "101.3"
         ],
         "xaxis": "x",
         "y": [
          "101.3",
          "96.1"
         ],
         "yaxis": "y"
        },
        {
         "hovertemplate": "Months=July<br>export_prices_index=%{x}<br>import_prices_index=%{y}<extra></extra>",
         "legendgroup": "July",
         "marker": {
          "color": "#FF6692",
          "symbol": "circle"
         },
         "mode": "markers",
         "name": "July",
         "orientation": "v",
         "showlegend": true,
         "type": "scatter",
         "x": [
          "102.4",
          "101.3"
         ],
         "xaxis": "x",
         "y": [
          "101.1",
          "96.4"
         ],
         "yaxis": "y"
        },
        {
         "hovertemplate": "Months=August<br>export_prices_index=%{x}<br>import_prices_index=%{y}<extra></extra>",
         "legendgroup": "August",
         "marker": {
          "color": "#B6E880",
          "symbol": "circle"
         },
         "mode": "markers",
         "name": "August",
         "orientation": "v",
         "showlegend": true,
         "type": "scatter",
         "x": [
          "102.3",
          "101.2"
         ],
         "xaxis": "x",
         "y": [
          "100.5",
          "96.5"
         ],
         "yaxis": "y"
        },
        {
         "hovertemplate": "Months=September<br>export_prices_index=%{x}<br>import_prices_index=%{y}<extra></extra>",
         "legendgroup": "September",
         "marker": {
          "color": "#FF97FF",
          "symbol": "circle"
         },
         "mode": "markers",
         "name": "September",
         "orientation": "v",
         "showlegend": true,
         "type": "scatter",
         "x": [
          "102.4",
          "101.3"
         ],
         "xaxis": "x",
         "y": [
          "101.1",
          "96.8"
         ],
         "yaxis": "y"
        },
        {
         "hovertemplate": "Months=October<br>export_prices_index=%{x}<br>import_prices_index=%{y}<extra></extra>",
         "legendgroup": "October",
         "marker": {
          "color": "#FECB52",
          "symbol": "circle"
         },
         "mode": "markers",
         "name": "October",
         "orientation": "v",
         "showlegend": true,
         "type": "scatter",
         "x": [
          "102.4",
          "101.4"
         ],
         "xaxis": "x",
         "y": [
          "101",
          "97.1"
         ],
         "yaxis": "y"
        },
        {
         "hovertemplate": "Months=November<br>export_prices_index=%{x}<br>import_prices_index=%{y}<extra></extra>",
         "legendgroup": "November",
         "marker": {
          "color": "#636efa",
          "symbol": "circle"
         },
         "mode": "markers",
         "name": "November",
         "orientation": "v",
         "showlegend": true,
         "type": "scatter",
         "x": [
          "102.4",
          "101.8"
         ],
         "xaxis": "x",
         "y": [
          "101.5",
          "97.6"
         ],
         "yaxis": "y"
        },
        {
         "hovertemplate": "Months=December<br>export_prices_index=%{x}<br>import_prices_index=%{y}<extra></extra>",
         "legendgroup": "December",
         "marker": {
          "color": "#EF553B",
          "symbol": "circle"
         },
         "mode": "markers",
         "name": "December",
         "orientation": "v",
         "showlegend": true,
         "type": "scatter",
         "x": [
          "102.5",
          "..."
         ],
         "xaxis": "x",
         "y": [
          "101.7",
          "..."
         ],
         "yaxis": "y"
        }
       ],
       "layout": {
        "legend": {
         "title": {
          "text": "Months"
         },
         "tracegroupgap": 0
        },
        "margin": {
         "t": 60
        },
        "template": {
         "data": {
          "bar": [
           {
            "error_x": {
             "color": "#2a3f5f"
            },
            "error_y": {
             "color": "#2a3f5f"
            },
            "marker": {
             "line": {
              "color": "#E5ECF6",
              "width": 0.5
             }
            },
            "type": "bar"
           }
          ],
          "barpolar": [
           {
            "marker": {
             "line": {
              "color": "#E5ECF6",
              "width": 0.5
             }
            },
            "type": "barpolar"
           }
          ],
          "carpet": [
           {
            "aaxis": {
             "endlinecolor": "#2a3f5f",
             "gridcolor": "white",
             "linecolor": "white",
             "minorgridcolor": "white",
             "startlinecolor": "#2a3f5f"
            },
            "baxis": {
             "endlinecolor": "#2a3f5f",
             "gridcolor": "white",
             "linecolor": "white",
             "minorgridcolor": "white",
             "startlinecolor": "#2a3f5f"
            },
            "type": "carpet"
           }
          ],
          "choropleth": [
           {
            "colorbar": {
             "outlinewidth": 0,
             "ticks": ""
            },
            "type": "choropleth"
           }
          ],
          "contour": [
           {
            "colorbar": {
             "outlinewidth": 0,
             "ticks": ""
            },
            "colorscale": [
             [
              0,
              "#0d0887"
             ],
             [
              0.1111111111111111,
              "#46039f"
             ],
             [
              0.2222222222222222,
              "#7201a8"
             ],
             [
              0.3333333333333333,
              "#9c179e"
             ],
             [
              0.4444444444444444,
              "#bd3786"
             ],
             [
              0.5555555555555556,
              "#d8576b"
             ],
             [
              0.6666666666666666,
              "#ed7953"
             ],
             [
              0.7777777777777778,
              "#fb9f3a"
             ],
             [
              0.8888888888888888,
              "#fdca26"
             ],
             [
              1,
              "#f0f921"
             ]
            ],
            "type": "contour"
           }
          ],
          "contourcarpet": [
           {
            "colorbar": {
             "outlinewidth": 0,
             "ticks": ""
            },
            "type": "contourcarpet"
           }
          ],
          "heatmap": [
           {
            "colorbar": {
             "outlinewidth": 0,
             "ticks": ""
            },
            "colorscale": [
             [
              0,
              "#0d0887"
             ],
             [
              0.1111111111111111,
              "#46039f"
             ],
             [
              0.2222222222222222,
              "#7201a8"
             ],
             [
              0.3333333333333333,
              "#9c179e"
             ],
             [
              0.4444444444444444,
              "#bd3786"
             ],
             [
              0.5555555555555556,
              "#d8576b"
             ],
             [
              0.6666666666666666,
              "#ed7953"
             ],
             [
              0.7777777777777778,
              "#fb9f3a"
             ],
             [
              0.8888888888888888,
              "#fdca26"
             ],
             [
              1,
              "#f0f921"
             ]
            ],
            "type": "heatmap"
           }
          ],
          "heatmapgl": [
           {
            "colorbar": {
             "outlinewidth": 0,
             "ticks": ""
            },
            "colorscale": [
             [
              0,
              "#0d0887"
             ],
             [
              0.1111111111111111,
              "#46039f"
             ],
             [
              0.2222222222222222,
              "#7201a8"
             ],
             [
              0.3333333333333333,
              "#9c179e"
             ],
             [
              0.4444444444444444,
              "#bd3786"
             ],
             [
              0.5555555555555556,
              "#d8576b"
             ],
             [
              0.6666666666666666,
              "#ed7953"
             ],
             [
              0.7777777777777778,
              "#fb9f3a"
             ],
             [
              0.8888888888888888,
              "#fdca26"
             ],
             [
              1,
              "#f0f921"
             ]
            ],
            "type": "heatmapgl"
           }
          ],
          "histogram": [
           {
            "marker": {
             "colorbar": {
              "outlinewidth": 0,
              "ticks": ""
             }
            },
            "type": "histogram"
           }
          ],
          "histogram2d": [
           {
            "colorbar": {
             "outlinewidth": 0,
             "ticks": ""
            },
            "colorscale": [
             [
              0,
              "#0d0887"
             ],
             [
              0.1111111111111111,
              "#46039f"
             ],
             [
              0.2222222222222222,
              "#7201a8"
             ],
             [
              0.3333333333333333,
              "#9c179e"
             ],
             [
              0.4444444444444444,
              "#bd3786"
             ],
             [
              0.5555555555555556,
              "#d8576b"
             ],
             [
              0.6666666666666666,
              "#ed7953"
             ],
             [
              0.7777777777777778,
              "#fb9f3a"
             ],
             [
              0.8888888888888888,
              "#fdca26"
             ],
             [
              1,
              "#f0f921"
             ]
            ],
            "type": "histogram2d"
           }
          ],
          "histogram2dcontour": [
           {
            "colorbar": {
             "outlinewidth": 0,
             "ticks": ""
            },
            "colorscale": [
             [
              0,
              "#0d0887"
             ],
             [
              0.1111111111111111,
              "#46039f"
             ],
             [
              0.2222222222222222,
              "#7201a8"
             ],
             [
              0.3333333333333333,
              "#9c179e"
             ],
             [
              0.4444444444444444,
              "#bd3786"
             ],
             [
              0.5555555555555556,
              "#d8576b"
             ],
             [
              0.6666666666666666,
              "#ed7953"
             ],
             [
              0.7777777777777778,
              "#fb9f3a"
             ],
             [
              0.8888888888888888,
              "#fdca26"
             ],
             [
              1,
              "#f0f921"
             ]
            ],
            "type": "histogram2dcontour"
           }
          ],
          "mesh3d": [
           {
            "colorbar": {
             "outlinewidth": 0,
             "ticks": ""
            },
            "type": "mesh3d"
           }
          ],
          "parcoords": [
           {
            "line": {
             "colorbar": {
              "outlinewidth": 0,
              "ticks": ""
             }
            },
            "type": "parcoords"
           }
          ],
          "pie": [
           {
            "automargin": true,
            "type": "pie"
           }
          ],
          "scatter": [
           {
            "marker": {
             "colorbar": {
              "outlinewidth": 0,
              "ticks": ""
             }
            },
            "type": "scatter"
           }
          ],
          "scatter3d": [
           {
            "line": {
             "colorbar": {
              "outlinewidth": 0,
              "ticks": ""
             }
            },
            "marker": {
             "colorbar": {
              "outlinewidth": 0,
              "ticks": ""
             }
            },
            "type": "scatter3d"
           }
          ],
          "scattercarpet": [
           {
            "marker": {
             "colorbar": {
              "outlinewidth": 0,
              "ticks": ""
             }
            },
            "type": "scattercarpet"
           }
          ],
          "scattergeo": [
           {
            "marker": {
             "colorbar": {
              "outlinewidth": 0,
              "ticks": ""
             }
            },
            "type": "scattergeo"
           }
          ],
          "scattergl": [
           {
            "marker": {
             "colorbar": {
              "outlinewidth": 0,
              "ticks": ""
             }
            },
            "type": "scattergl"
           }
          ],
          "scattermapbox": [
           {
            "marker": {
             "colorbar": {
              "outlinewidth": 0,
              "ticks": ""
             }
            },
            "type": "scattermapbox"
           }
          ],
          "scatterpolar": [
           {
            "marker": {
             "colorbar": {
              "outlinewidth": 0,
              "ticks": ""
             }
            },
            "type": "scatterpolar"
           }
          ],
          "scatterpolargl": [
           {
            "marker": {
             "colorbar": {
              "outlinewidth": 0,
              "ticks": ""
             }
            },
            "type": "scatterpolargl"
           }
          ],
          "scatterternary": [
           {
            "marker": {
             "colorbar": {
              "outlinewidth": 0,
              "ticks": ""
             }
            },
            "type": "scatterternary"
           }
          ],
          "surface": [
           {
            "colorbar": {
             "outlinewidth": 0,
             "ticks": ""
            },
            "colorscale": [
             [
              0,
              "#0d0887"
             ],
             [
              0.1111111111111111,
              "#46039f"
             ],
             [
              0.2222222222222222,
              "#7201a8"
             ],
             [
              0.3333333333333333,
              "#9c179e"
             ],
             [
              0.4444444444444444,
              "#bd3786"
             ],
             [
              0.5555555555555556,
              "#d8576b"
             ],
             [
              0.6666666666666666,
              "#ed7953"
             ],
             [
              0.7777777777777778,
              "#fb9f3a"
             ],
             [
              0.8888888888888888,
              "#fdca26"
             ],
             [
              1,
              "#f0f921"
             ]
            ],
            "type": "surface"
           }
          ],
          "table": [
           {
            "cells": {
             "fill": {
              "color": "#EBF0F8"
             },
             "line": {
              "color": "white"
             }
            },
            "header": {
             "fill": {
              "color": "#C8D4E3"
             },
             "line": {
              "color": "white"
             }
            },
            "type": "table"
           }
          ]
         },
         "layout": {
          "annotationdefaults": {
           "arrowcolor": "#2a3f5f",
           "arrowhead": 0,
           "arrowwidth": 1
          },
          "autotypenumbers": "strict",
          "coloraxis": {
           "colorbar": {
            "outlinewidth": 0,
            "ticks": ""
           }
          },
          "colorscale": {
           "diverging": [
            [
             0,
             "#8e0152"
            ],
            [
             0.1,
             "#c51b7d"
            ],
            [
             0.2,
             "#de77ae"
            ],
            [
             0.3,
             "#f1b6da"
            ],
            [
             0.4,
             "#fde0ef"
            ],
            [
             0.5,
             "#f7f7f7"
            ],
            [
             0.6,
             "#e6f5d0"
            ],
            [
             0.7,
             "#b8e186"
            ],
            [
             0.8,
             "#7fbc41"
            ],
            [
             0.9,
             "#4d9221"
            ],
            [
             1,
             "#276419"
            ]
           ],
           "sequential": [
            [
             0,
             "#0d0887"
            ],
            [
             0.1111111111111111,
             "#46039f"
            ],
            [
             0.2222222222222222,
             "#7201a8"
            ],
            [
             0.3333333333333333,
             "#9c179e"
            ],
            [
             0.4444444444444444,
             "#bd3786"
            ],
            [
             0.5555555555555556,
             "#d8576b"
            ],
            [
             0.6666666666666666,
             "#ed7953"
            ],
            [
             0.7777777777777778,
             "#fb9f3a"
            ],
            [
             0.8888888888888888,
             "#fdca26"
            ],
            [
             1,
             "#f0f921"
            ]
           ],
           "sequentialminus": [
            [
             0,
             "#0d0887"
            ],
            [
             0.1111111111111111,
             "#46039f"
            ],
            [
             0.2222222222222222,
             "#7201a8"
            ],
            [
             0.3333333333333333,
             "#9c179e"
            ],
            [
             0.4444444444444444,
             "#bd3786"
            ],
            [
             0.5555555555555556,
             "#d8576b"
            ],
            [
             0.6666666666666666,
             "#ed7953"
            ],
            [
             0.7777777777777778,
             "#fb9f3a"
            ],
            [
             0.8888888888888888,
             "#fdca26"
            ],
            [
             1,
             "#f0f921"
            ]
           ]
          },
          "colorway": [
           "#636efa",
           "#EF553B",
           "#00cc96",
           "#ab63fa",
           "#FFA15A",
           "#19d3f3",
           "#FF6692",
           "#B6E880",
           "#FF97FF",
           "#FECB52"
          ],
          "font": {
           "color": "#2a3f5f"
          },
          "geo": {
           "bgcolor": "white",
           "lakecolor": "white",
           "landcolor": "#E5ECF6",
           "showlakes": true,
           "showland": true,
           "subunitcolor": "white"
          },
          "hoverlabel": {
           "align": "left"
          },
          "hovermode": "closest",
          "mapbox": {
           "style": "light"
          },
          "paper_bgcolor": "white",
          "plot_bgcolor": "#E5ECF6",
          "polar": {
           "angularaxis": {
            "gridcolor": "white",
            "linecolor": "white",
            "ticks": ""
           },
           "bgcolor": "#E5ECF6",
           "radialaxis": {
            "gridcolor": "white",
            "linecolor": "white",
            "ticks": ""
           }
          },
          "scene": {
           "xaxis": {
            "backgroundcolor": "#E5ECF6",
            "gridcolor": "white",
            "gridwidth": 2,
            "linecolor": "white",
            "showbackground": true,
            "ticks": "",
            "zerolinecolor": "white"
           },
           "yaxis": {
            "backgroundcolor": "#E5ECF6",
            "gridcolor": "white",
            "gridwidth": 2,
            "linecolor": "white",
            "showbackground": true,
            "ticks": "",
            "zerolinecolor": "white"
           },
           "zaxis": {
            "backgroundcolor": "#E5ECF6",
            "gridcolor": "white",
            "gridwidth": 2,
            "linecolor": "white",
            "showbackground": true,
            "ticks": "",
            "zerolinecolor": "white"
           }
          },
          "shapedefaults": {
           "line": {
            "color": "#2a3f5f"
           }
          },
          "ternary": {
           "aaxis": {
            "gridcolor": "white",
            "linecolor": "white",
            "ticks": ""
           },
           "baxis": {
            "gridcolor": "white",
            "linecolor": "white",
            "ticks": ""
           },
           "bgcolor": "#E5ECF6",
           "caxis": {
            "gridcolor": "white",
            "linecolor": "white",
            "ticks": ""
           }
          },
          "title": {
           "x": 0.05
          },
          "xaxis": {
           "automargin": true,
           "gridcolor": "white",
           "linecolor": "white",
           "ticks": "",
           "title": {
            "standoff": 15
           },
           "zerolinecolor": "white",
           "zerolinewidth": 2
          },
          "yaxis": {
           "automargin": true,
           "gridcolor": "white",
           "linecolor": "white",
           "ticks": "",
           "title": {
            "standoff": 15
           },
           "zerolinecolor": "white",
           "zerolinewidth": 2
          }
         }
        },
        "xaxis": {
         "anchor": "y",
         "domain": [
          0,
          1
         ],
         "title": {
          "text": "export_prices_index"
         }
        },
        "yaxis": {
         "anchor": "x",
         "domain": [
          0,
          1
         ],
         "title": {
          "text": "import_prices_index"
         }
        }
       }
      },
      "text/html": "<div>                            <div id=\"be7da764-bf93-459e-830e-fb2ec067ed2a\" class=\"plotly-graph-div\" style=\"height:525px; width:100%;\"></div>            <script type=\"text/javascript\">                require([\"plotly\"], function(Plotly) {                    window.PLOTLYENV=window.PLOTLYENV || {};                                    if (document.getElementById(\"be7da764-bf93-459e-830e-fb2ec067ed2a\")) {                    Plotly.newPlot(                        \"be7da764-bf93-459e-830e-fb2ec067ed2a\",                        [{\"hovertemplate\": \"Months=January<br>export_prices_index=%{x}<br>import_prices_index=%{y}<extra></extra>\", \"legendgroup\": \"January\", \"marker\": {\"color\": \"#636efa\", \"symbol\": \"circle\"}, \"mode\": \"markers\", \"name\": \"January\", \"orientation\": \"v\", \"showlegend\": true, \"type\": \"scatter\", \"x\": [\"102.2\", \"102.7\"], \"xaxis\": \"x\", \"y\": [\"102.2\", \"101.3\"], \"yaxis\": \"y\"}, {\"hovertemplate\": \"Months=February<br>export_prices_index=%{x}<br>import_prices_index=%{y}<extra></extra>\", \"legendgroup\": \"February\", \"marker\": {\"color\": \"#EF553B\", \"symbol\": \"circle\"}, \"mode\": \"markers\", \"name\": \"February\", \"orientation\": \"v\", \"showlegend\": true, \"type\": \"scatter\", \"x\": [\"102.3\", \"102.6\"], \"xaxis\": \"x\", \"y\": [\"102.5\", \"100.4\"], \"yaxis\": \"y\"}, {\"hovertemplate\": \"Months=March<br>export_prices_index=%{x}<br>import_prices_index=%{y}<extra></extra>\", \"legendgroup\": \"March\", \"marker\": {\"color\": \"#00cc96\", \"symbol\": \"circle\"}, \"mode\": \"markers\", \"name\": \"March\", \"orientation\": \"v\", \"showlegend\": true, \"type\": \"scatter\", \"x\": [\"102.4\", \"101.9\"], \"xaxis\": \"x\", \"y\": [\"102.5\", \"96.9\"], \"yaxis\": \"y\"}, {\"hovertemplate\": \"Months=April<br>export_prices_index=%{x}<br>import_prices_index=%{y}<extra></extra>\", \"legendgroup\": \"April\", \"marker\": {\"color\": \"#ab63fa\", \"symbol\": \"circle\"}, \"mode\": \"markers\", \"name\": \"April\", \"orientation\": \"v\", \"showlegend\": true, \"type\": \"scatter\", \"x\": [\"102.6\", \"101.5\"], \"xaxis\": \"x\", \"y\": [\"102.8\", \"95.2\"], \"yaxis\": \"y\"}, {\"hovertemplate\": \"Months=May<br>export_prices_index=%{x}<br>import_prices_index=%{y}<extra></extra>\", \"legendgroup\": \"May\", \"marker\": {\"color\": \"#FFA15A\", \"symbol\": \"circle\"}, \"mode\": \"markers\", \"name\": \"May\", \"orientation\": \"v\", \"showlegend\": true, \"type\": \"scatter\", \"x\": [\"102.5\", \"101.3\"], \"xaxis\": \"x\", \"y\": [\"102.7\", \"95.5\"], \"yaxis\": \"y\"}, {\"hovertemplate\": \"Months=June<br>export_prices_index=%{x}<br>import_prices_index=%{y}<extra></extra>\", \"legendgroup\": \"June\", \"marker\": {\"color\": \"#19d3f3\", \"symbol\": \"circle\"}, \"mode\": \"markers\", \"name\": \"June\", \"orientation\": \"v\", \"showlegend\": true, \"type\": \"scatter\", \"x\": [\"102.3\", \"101.3\"], \"xaxis\": \"x\", \"y\": [\"101.3\", \"96.1\"], \"yaxis\": \"y\"}, {\"hovertemplate\": \"Months=July<br>export_prices_index=%{x}<br>import_prices_index=%{y}<extra></extra>\", \"legendgroup\": \"July\", \"marker\": {\"color\": \"#FF6692\", \"symbol\": \"circle\"}, \"mode\": \"markers\", \"name\": \"July\", \"orientation\": \"v\", \"showlegend\": true, \"type\": \"scatter\", \"x\": [\"102.4\", \"101.3\"], \"xaxis\": \"x\", \"y\": [\"101.1\", \"96.4\"], \"yaxis\": \"y\"}, {\"hovertemplate\": \"Months=August<br>export_prices_index=%{x}<br>import_prices_index=%{y}<extra></extra>\", \"legendgroup\": \"August\", \"marker\": {\"color\": \"#B6E880\", \"symbol\": \"circle\"}, \"mode\": \"markers\", \"name\": \"August\", \"orientation\": \"v\", \"showlegend\": true, \"type\": \"scatter\", \"x\": [\"102.3\", \"101.2\"], \"xaxis\": \"x\", \"y\": [\"100.5\", \"96.5\"], \"yaxis\": \"y\"}, {\"hovertemplate\": \"Months=September<br>export_prices_index=%{x}<br>import_prices_index=%{y}<extra></extra>\", \"legendgroup\": \"September\", \"marker\": {\"color\": \"#FF97FF\", \"symbol\": \"circle\"}, \"mode\": \"markers\", \"name\": \"September\", \"orientation\": \"v\", \"showlegend\": true, \"type\": \"scatter\", \"x\": [\"102.4\", \"101.3\"], \"xaxis\": \"x\", \"y\": [\"101.1\", \"96.8\"], \"yaxis\": \"y\"}, {\"hovertemplate\": \"Months=October<br>export_prices_index=%{x}<br>import_prices_index=%{y}<extra></extra>\", \"legendgroup\": \"October\", \"marker\": {\"color\": \"#FECB52\", \"symbol\": \"circle\"}, \"mode\": \"markers\", \"name\": \"October\", \"orientation\": \"v\", \"showlegend\": true, \"type\": \"scatter\", \"x\": [\"102.4\", \"101.4\"], \"xaxis\": \"x\", \"y\": [\"101\", \"97.1\"], \"yaxis\": \"y\"}, {\"hovertemplate\": \"Months=November<br>export_prices_index=%{x}<br>import_prices_index=%{y}<extra></extra>\", \"legendgroup\": \"November\", \"marker\": {\"color\": \"#636efa\", \"symbol\": \"circle\"}, \"mode\": \"markers\", \"name\": \"November\", \"orientation\": \"v\", \"showlegend\": true, \"type\": \"scatter\", \"x\": [\"102.4\", \"101.8\"], \"xaxis\": \"x\", \"y\": [\"101.5\", \"97.6\"], \"yaxis\": \"y\"}, {\"hovertemplate\": \"Months=December<br>export_prices_index=%{x}<br>import_prices_index=%{y}<extra></extra>\", \"legendgroup\": \"December\", \"marker\": {\"color\": \"#EF553B\", \"symbol\": \"circle\"}, \"mode\": \"markers\", \"name\": \"December\", \"orientation\": \"v\", \"showlegend\": true, \"type\": \"scatter\", \"x\": [\"102.5\", \"...\"], \"xaxis\": \"x\", \"y\": [\"101.7\", \"...\"], \"yaxis\": \"y\"}],                        {\"legend\": {\"title\": {\"text\": \"Months\"}, \"tracegroupgap\": 0}, \"margin\": {\"t\": 60}, \"template\": {\"data\": {\"bar\": [{\"error_x\": {\"color\": \"#2a3f5f\"}, \"error_y\": {\"color\": \"#2a3f5f\"}, \"marker\": {\"line\": {\"color\": \"#E5ECF6\", \"width\": 0.5}}, \"type\": \"bar\"}], \"barpolar\": [{\"marker\": {\"line\": {\"color\": \"#E5ECF6\", \"width\": 0.5}}, \"type\": \"barpolar\"}], \"carpet\": [{\"aaxis\": {\"endlinecolor\": \"#2a3f5f\", \"gridcolor\": \"white\", \"linecolor\": \"white\", \"minorgridcolor\": \"white\", \"startlinecolor\": \"#2a3f5f\"}, \"baxis\": {\"endlinecolor\": \"#2a3f5f\", \"gridcolor\": \"white\", \"linecolor\": \"white\", \"minorgridcolor\": \"white\", \"startlinecolor\": \"#2a3f5f\"}, \"type\": \"carpet\"}], \"choropleth\": [{\"colorbar\": {\"outlinewidth\": 0, \"ticks\": \"\"}, \"type\": \"choropleth\"}], \"contour\": [{\"colorbar\": {\"outlinewidth\": 0, \"ticks\": \"\"}, \"colorscale\": [[0.0, \"#0d0887\"], [0.1111111111111111, \"#46039f\"], [0.2222222222222222, \"#7201a8\"], [0.3333333333333333, \"#9c179e\"], [0.4444444444444444, \"#bd3786\"], [0.5555555555555556, \"#d8576b\"], [0.6666666666666666, \"#ed7953\"], [0.7777777777777778, \"#fb9f3a\"], [0.8888888888888888, \"#fdca26\"], [1.0, \"#f0f921\"]], \"type\": \"contour\"}], \"contourcarpet\": [{\"colorbar\": {\"outlinewidth\": 0, \"ticks\": \"\"}, \"type\": \"contourcarpet\"}], \"heatmap\": [{\"colorbar\": {\"outlinewidth\": 0, \"ticks\": \"\"}, \"colorscale\": [[0.0, \"#0d0887\"], [0.1111111111111111, \"#46039f\"], [0.2222222222222222, \"#7201a8\"], [0.3333333333333333, \"#9c179e\"], [0.4444444444444444, \"#bd3786\"], [0.5555555555555556, \"#d8576b\"], [0.6666666666666666, \"#ed7953\"], [0.7777777777777778, \"#fb9f3a\"], [0.8888888888888888, \"#fdca26\"], [1.0, \"#f0f921\"]], \"type\": \"heatmap\"}], \"heatmapgl\": [{\"colorbar\": {\"outlinewidth\": 0, \"ticks\": \"\"}, \"colorscale\": [[0.0, \"#0d0887\"], [0.1111111111111111, \"#46039f\"], [0.2222222222222222, \"#7201a8\"], [0.3333333333333333, \"#9c179e\"], [0.4444444444444444, \"#bd3786\"], [0.5555555555555556, \"#d8576b\"], [0.6666666666666666, \"#ed7953\"], [0.7777777777777778, \"#fb9f3a\"], [0.8888888888888888, \"#fdca26\"], [1.0, \"#f0f921\"]], \"type\": \"heatmapgl\"}], \"histogram\": [{\"marker\": {\"colorbar\": {\"outlinewidth\": 0, \"ticks\": \"\"}}, \"type\": \"histogram\"}], \"histogram2d\": [{\"colorbar\": {\"outlinewidth\": 0, \"ticks\": \"\"}, \"colorscale\": [[0.0, \"#0d0887\"], [0.1111111111111111, \"#46039f\"], [0.2222222222222222, \"#7201a8\"], [0.3333333333333333, \"#9c179e\"], [0.4444444444444444, \"#bd3786\"], [0.5555555555555556, \"#d8576b\"], [0.6666666666666666, \"#ed7953\"], [0.7777777777777778, \"#fb9f3a\"], [0.8888888888888888, \"#fdca26\"], [1.0, \"#f0f921\"]], \"type\": \"histogram2d\"}], \"histogram2dcontour\": [{\"colorbar\": {\"outlinewidth\": 0, \"ticks\": \"\"}, \"colorscale\": [[0.0, \"#0d0887\"], [0.1111111111111111, \"#46039f\"], [0.2222222222222222, \"#7201a8\"], [0.3333333333333333, \"#9c179e\"], [0.4444444444444444, \"#bd3786\"], [0.5555555555555556, \"#d8576b\"], [0.6666666666666666, \"#ed7953\"], [0.7777777777777778, \"#fb9f3a\"], [0.8888888888888888, \"#fdca26\"], [1.0, \"#f0f921\"]], \"type\": \"histogram2dcontour\"}], \"mesh3d\": [{\"colorbar\": {\"outlinewidth\": 0, \"ticks\": \"\"}, \"type\": \"mesh3d\"}], \"parcoords\": [{\"line\": {\"colorbar\": {\"outlinewidth\": 0, \"ticks\": \"\"}}, \"type\": \"parcoords\"}], \"pie\": [{\"automargin\": true, \"type\": \"pie\"}], \"scatter\": [{\"marker\": {\"colorbar\": {\"outlinewidth\": 0, \"ticks\": \"\"}}, \"type\": \"scatter\"}], \"scatter3d\": [{\"line\": {\"colorbar\": {\"outlinewidth\": 0, \"ticks\": \"\"}}, \"marker\": {\"colorbar\": {\"outlinewidth\": 0, \"ticks\": \"\"}}, \"type\": \"scatter3d\"}], \"scattercarpet\": [{\"marker\": {\"colorbar\": {\"outlinewidth\": 0, \"ticks\": \"\"}}, \"type\": \"scattercarpet\"}], \"scattergeo\": [{\"marker\": {\"colorbar\": {\"outlinewidth\": 0, \"ticks\": \"\"}}, \"type\": \"scattergeo\"}], \"scattergl\": [{\"marker\": {\"colorbar\": {\"outlinewidth\": 0, \"ticks\": \"\"}}, \"type\": \"scattergl\"}], \"scattermapbox\": [{\"marker\": {\"colorbar\": {\"outlinewidth\": 0, \"ticks\": \"\"}}, \"type\": \"scattermapbox\"}], \"scatterpolar\": [{\"marker\": {\"colorbar\": {\"outlinewidth\": 0, \"ticks\": \"\"}}, \"type\": \"scatterpolar\"}], \"scatterpolargl\": [{\"marker\": {\"colorbar\": {\"outlinewidth\": 0, \"ticks\": \"\"}}, \"type\": \"scatterpolargl\"}], \"scatterternary\": [{\"marker\": {\"colorbar\": {\"outlinewidth\": 0, \"ticks\": \"\"}}, \"type\": \"scatterternary\"}], \"surface\": [{\"colorbar\": {\"outlinewidth\": 0, \"ticks\": \"\"}, \"colorscale\": [[0.0, \"#0d0887\"], [0.1111111111111111, \"#46039f\"], [0.2222222222222222, \"#7201a8\"], [0.3333333333333333, \"#9c179e\"], [0.4444444444444444, \"#bd3786\"], [0.5555555555555556, \"#d8576b\"], [0.6666666666666666, \"#ed7953\"], [0.7777777777777778, \"#fb9f3a\"], [0.8888888888888888, \"#fdca26\"], [1.0, \"#f0f921\"]], \"type\": \"surface\"}], \"table\": [{\"cells\": {\"fill\": {\"color\": \"#EBF0F8\"}, \"line\": {\"color\": \"white\"}}, \"header\": {\"fill\": {\"color\": \"#C8D4E3\"}, \"line\": {\"color\": \"white\"}}, \"type\": \"table\"}]}, \"layout\": {\"annotationdefaults\": {\"arrowcolor\": \"#2a3f5f\", \"arrowhead\": 0, \"arrowwidth\": 1}, \"autotypenumbers\": \"strict\", \"coloraxis\": {\"colorbar\": {\"outlinewidth\": 0, \"ticks\": \"\"}}, \"colorscale\": {\"diverging\": [[0, \"#8e0152\"], [0.1, \"#c51b7d\"], [0.2, \"#de77ae\"], [0.3, \"#f1b6da\"], [0.4, \"#fde0ef\"], [0.5, \"#f7f7f7\"], [0.6, \"#e6f5d0\"], [0.7, \"#b8e186\"], [0.8, \"#7fbc41\"], [0.9, \"#4d9221\"], [1, \"#276419\"]], \"sequential\": [[0.0, \"#0d0887\"], [0.1111111111111111, \"#46039f\"], [0.2222222222222222, \"#7201a8\"], [0.3333333333333333, \"#9c179e\"], [0.4444444444444444, \"#bd3786\"], [0.5555555555555556, \"#d8576b\"], [0.6666666666666666, \"#ed7953\"], [0.7777777777777778, \"#fb9f3a\"], [0.8888888888888888, \"#fdca26\"], [1.0, \"#f0f921\"]], \"sequentialminus\": [[0.0, \"#0d0887\"], [0.1111111111111111, \"#46039f\"], [0.2222222222222222, \"#7201a8\"], [0.3333333333333333, \"#9c179e\"], [0.4444444444444444, \"#bd3786\"], [0.5555555555555556, \"#d8576b\"], [0.6666666666666666, \"#ed7953\"], [0.7777777777777778, \"#fb9f3a\"], [0.8888888888888888, \"#fdca26\"], [1.0, \"#f0f921\"]]}, \"colorway\": [\"#636efa\", \"#EF553B\", \"#00cc96\", \"#ab63fa\", \"#FFA15A\", \"#19d3f3\", \"#FF6692\", \"#B6E880\", \"#FF97FF\", \"#FECB52\"], \"font\": {\"color\": \"#2a3f5f\"}, \"geo\": {\"bgcolor\": \"white\", \"lakecolor\": \"white\", \"landcolor\": \"#E5ECF6\", \"showlakes\": true, \"showland\": true, \"subunitcolor\": \"white\"}, \"hoverlabel\": {\"align\": \"left\"}, \"hovermode\": \"closest\", \"mapbox\": {\"style\": \"light\"}, \"paper_bgcolor\": \"white\", \"plot_bgcolor\": \"#E5ECF6\", \"polar\": {\"angularaxis\": {\"gridcolor\": \"white\", \"linecolor\": \"white\", \"ticks\": \"\"}, \"bgcolor\": \"#E5ECF6\", \"radialaxis\": {\"gridcolor\": \"white\", \"linecolor\": \"white\", \"ticks\": \"\"}}, \"scene\": {\"xaxis\": {\"backgroundcolor\": \"#E5ECF6\", \"gridcolor\": \"white\", \"gridwidth\": 2, \"linecolor\": \"white\", \"showbackground\": true, \"ticks\": \"\", \"zerolinecolor\": \"white\"}, \"yaxis\": {\"backgroundcolor\": \"#E5ECF6\", \"gridcolor\": \"white\", \"gridwidth\": 2, \"linecolor\": \"white\", \"showbackground\": true, \"ticks\": \"\", \"zerolinecolor\": \"white\"}, \"zaxis\": {\"backgroundcolor\": \"#E5ECF6\", \"gridcolor\": \"white\", \"gridwidth\": 2, \"linecolor\": \"white\", \"showbackground\": true, \"ticks\": \"\", \"zerolinecolor\": \"white\"}}, \"shapedefaults\": {\"line\": {\"color\": \"#2a3f5f\"}}, \"ternary\": {\"aaxis\": {\"gridcolor\": \"white\", \"linecolor\": \"white\", \"ticks\": \"\"}, \"baxis\": {\"gridcolor\": \"white\", \"linecolor\": \"white\", \"ticks\": \"\"}, \"bgcolor\": \"#E5ECF6\", \"caxis\": {\"gridcolor\": \"white\", \"linecolor\": \"white\", \"ticks\": \"\"}}, \"title\": {\"x\": 0.05}, \"xaxis\": {\"automargin\": true, \"gridcolor\": \"white\", \"linecolor\": \"white\", \"ticks\": \"\", \"title\": {\"standoff\": 15}, \"zerolinecolor\": \"white\", \"zerolinewidth\": 2}, \"yaxis\": {\"automargin\": true, \"gridcolor\": \"white\", \"linecolor\": \"white\", \"ticks\": \"\", \"title\": {\"standoff\": 15}, \"zerolinecolor\": \"white\", \"zerolinewidth\": 2}}}, \"xaxis\": {\"anchor\": \"y\", \"domain\": [0.0, 1.0], \"title\": {\"text\": \"export_prices_index\"}}, \"yaxis\": {\"anchor\": \"x\", \"domain\": [0.0, 1.0], \"title\": {\"text\": \"import_prices_index\"}}},                        {\"responsive\": true}                    ).then(function(){\n                            \nvar gd = document.getElementById('be7da764-bf93-459e-830e-fb2ec067ed2a');\nvar x = new MutationObserver(function (mutations, observer) {{\n        var display = window.getComputedStyle(gd).display;\n        if (!display || display === 'none') {{\n            console.log([gd, 'removed!']);\n            Plotly.purge(gd);\n            observer.disconnect();\n        }}\n}});\n\n// Listen for the removal of the full notebook cells\nvar notebookContainer = gd.closest('#notebook-container');\nif (notebookContainer) {{\n    x.observe(notebookContainer, {childList: true});\n}}\n\n// Listen for the clearing of the current output cell\nvar outputEl = gd.closest('.output');\nif (outputEl) {{\n    x.observe(outputEl, {childList: true});\n}}\n\n                        })                };                });            </script>        </div>"
     },
     "metadata": {},
     "output_type": "display_data"
    }
   ],
   "source": [
    "#Plotting import price index & export price index\n",
    "\n",
    "df_CPI_Import_Export_Aggr_copy=df_CPI_Import_Export_Aggr\n",
    "\n",
    "import plotly.express as px\n",
    "fig = px.scatter(df_CPI_Import_Export_Aggr_copy, x=\"export_prices_index\", y=\"import_prices_index\",color=\"Months\",hover_data=['export_prices_index', \"import_prices_index\"]) \n",
    "fig.show()\n",
    "#print(df_CPI_Import_Export_Aggr_copy)"
   ]
  },
  {
   "cell_type": "code",
   "execution_count": 122,
   "id": "urban-execution",
   "metadata": {},
   "outputs": [],
   "source": [
    "\n",
    "#df_aggr_covid19_data_copy = df_aggr_covid19_data\n",
    "#import plotly.express as px\n",
    "#fig = px.scatter(df_aggr_covid19_data_copy, x=\"location\", y=\"PG_Rate\",color=\"month\",hover_data=['location', \"month\"]) \n",
    "#fig.show()"
   ]
  },
  {
   "cell_type": "code",
   "execution_count": 122,
   "id": "invalid-priority",
   "metadata": {},
   "outputs": [],
   "source": []
  },
  {
   "cell_type": "markdown",
   "source": [
    "# Export Data"
   ],
   "metadata": {
    "collapsed": false
   }
  },
  {
   "cell_type": "code",
   "execution_count": 363,
   "outputs": [
    {
     "output_type": "execute_result",
     "data": {
      "text/plain": [
       "    year       location  month  Monthly_new_cases  Monthly_total_cases  \\\n",
       "0   2020          China      1             9254.0               9802.0   \n",
       "1   2020          China      2            69554.0              79356.0   \n",
       "2   2020          China      3             2923.0              82279.0   \n",
       "3   2020          China      4             1677.0              83956.0   \n",
       "4   2020          China      5              190.0              84146.0   \n",
       "..   ...            ...    ...                ...                  ...   \n",
       "67  2020  United States      8          1458899.0            6025355.0   \n",
       "68  2020  United States      9          1206247.0            7231602.0   \n",
       "69  2020  United States     10          1926777.0            9158379.0   \n",
       "70  2020  United States     11          4496140.0           13654519.0   \n",
       "71  2020  United States     12          6406076.0           20060595.0   \n",
       "\n",
       "    Percentage Growth Rate     PG_Rate  \n",
       "0                      NaN         NaN  \n",
       "1               651.610115  651.610115  \n",
       "2               -95.797510  -95.797510  \n",
       "3               -42.627438  -42.627438  \n",
       "4               -88.670244  -88.670244  \n",
       "..                     ...         ...  \n",
       "67              -24.200596  -24.200596  \n",
       "68              -17.317991  -17.317991  \n",
       "69               59.733206   59.733206  \n",
       "70              133.350305  133.350305  \n",
       "71               42.479460   42.479460  \n",
       "\n",
       "[72 rows x 7 columns]"
      ],
      "text/html": "<div>\n<style scoped>\n    .dataframe tbody tr th:only-of-type {\n        vertical-align: middle;\n    }\n\n    .dataframe tbody tr th {\n        vertical-align: top;\n    }\n\n    .dataframe thead th {\n        text-align: right;\n    }\n</style>\n<table border=\"1\" class=\"dataframe\">\n  <thead>\n    <tr style=\"text-align: right;\">\n      <th></th>\n      <th>year</th>\n      <th>location</th>\n      <th>month</th>\n      <th>Monthly_new_cases</th>\n      <th>Monthly_total_cases</th>\n      <th>Percentage Growth Rate</th>\n      <th>PG_Rate</th>\n    </tr>\n  </thead>\n  <tbody>\n    <tr>\n      <th>0</th>\n      <td>2020</td>\n      <td>China</td>\n      <td>1</td>\n      <td>9254.0</td>\n      <td>9802.0</td>\n      <td>NaN</td>\n      <td>NaN</td>\n    </tr>\n    <tr>\n      <th>1</th>\n      <td>2020</td>\n      <td>China</td>\n      <td>2</td>\n      <td>69554.0</td>\n      <td>79356.0</td>\n      <td>651.610115</td>\n      <td>651.610115</td>\n    </tr>\n    <tr>\n      <th>2</th>\n      <td>2020</td>\n      <td>China</td>\n      <td>3</td>\n      <td>2923.0</td>\n      <td>82279.0</td>\n      <td>-95.797510</td>\n      <td>-95.797510</td>\n    </tr>\n    <tr>\n      <th>3</th>\n      <td>2020</td>\n      <td>China</td>\n      <td>4</td>\n      <td>1677.0</td>\n      <td>83956.0</td>\n      <td>-42.627438</td>\n      <td>-42.627438</td>\n    </tr>\n    <tr>\n      <th>4</th>\n      <td>2020</td>\n      <td>China</td>\n      <td>5</td>\n      <td>190.0</td>\n      <td>84146.0</td>\n      <td>-88.670244</td>\n      <td>-88.670244</td>\n    </tr>\n    <tr>\n      <th>...</th>\n      <td>...</td>\n      <td>...</td>\n      <td>...</td>\n      <td>...</td>\n      <td>...</td>\n      <td>...</td>\n      <td>...</td>\n    </tr>\n    <tr>\n      <th>67</th>\n      <td>2020</td>\n      <td>United States</td>\n      <td>8</td>\n      <td>1458899.0</td>\n      <td>6025355.0</td>\n      <td>-24.200596</td>\n      <td>-24.200596</td>\n    </tr>\n    <tr>\n      <th>68</th>\n      <td>2020</td>\n      <td>United States</td>\n      <td>9</td>\n      <td>1206247.0</td>\n      <td>7231602.0</td>\n      <td>-17.317991</td>\n      <td>-17.317991</td>\n    </tr>\n    <tr>\n      <th>69</th>\n      <td>2020</td>\n      <td>United States</td>\n      <td>10</td>\n      <td>1926777.0</td>\n      <td>9158379.0</td>\n      <td>59.733206</td>\n      <td>59.733206</td>\n    </tr>\n    <tr>\n      <th>70</th>\n      <td>2020</td>\n      <td>United States</td>\n      <td>11</td>\n      <td>4496140.0</td>\n      <td>13654519.0</td>\n      <td>133.350305</td>\n      <td>133.350305</td>\n    </tr>\n    <tr>\n      <th>71</th>\n      <td>2020</td>\n      <td>United States</td>\n      <td>12</td>\n      <td>6406076.0</td>\n      <td>20060595.0</td>\n      <td>42.479460</td>\n      <td>42.479460</td>\n    </tr>\n  </tbody>\n</table>\n<p>72 rows × 7 columns</p>\n</div>"
     },
     "metadata": {},
     "execution_count": 363
    }
   ],
   "source": [
    "path = r'../project/data/preprocessed/'\n",
    "df_aggr_covid19_data.to_csv(path+'exp_keyCountriesCovid.csv', sep=',', index=False)\n",
    "df_unemployment.to_csv(path+'exp_keyCountriesUnemployment.csv', sep=',', index=False)\n",
    "df_CPI_Import_Export_Aggr.to_csv(path+'exp_CountriesCPI.csv', sep=',', index=False)\n",
    "# export of unemployment dataframe follows later"
   ],
   "metadata": {
    "collapsed": false,
    "pycharm": {
     "name": "#%%\n"
    }
   }
  },
  {
   "cell_type": "code",
   "execution_count": null,
   "metadata": {},
   "outputs": [],
   "source": []
  }
 ],
 "metadata": {
  "kernelspec": {
   "name": "python3",
   "display_name": "Python 3.9.1 64-bit",
   "metadata": {
    "interpreter": {
     "hash": "63fd5069d213b44bf678585dea6b12cceca9941eaf7f819626cde1f2670de90d"
    }
   }
  },
  "language_info": {
   "codemirror_mode": {
    "name": "ipython",
    "version": 3
   },
   "file_extension": ".py",
   "mimetype": "text/x-python",
   "name": "python",
   "nbconvert_exporter": "python",
   "pygments_lexer": "ipython3",
   "version": "3.9.1-final"
  }
 },
 "nbformat": 4,
 "nbformat_minor": 5
}