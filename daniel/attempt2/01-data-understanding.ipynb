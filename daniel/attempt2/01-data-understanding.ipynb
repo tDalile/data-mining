{
 "metadata": {
  "language_info": {
   "codemirror_mode": {
    "name": "ipython",
    "version": 3
   },
   "file_extension": ".py",
   "mimetype": "text/x-python",
   "name": "python",
   "nbconvert_exporter": "python",
   "pygments_lexer": "ipython3",
   "version": "3.9.1-final"
  },
  "orig_nbformat": 2,
  "kernelspec": {
   "name": "python3",
   "display_name": "Python 3",
   "language": "python"
  }
 },
 "nbformat": 4,
 "nbformat_minor": 2,
 "cells": [
  {
   "source": [
    "# Data Understanding\n",
    "\n",
    "- What kind of data is available?\n",
    "- What is the quality of the available data\n",
    "- Is a restructuring of the data necessary?\n",
    "\n",
    "## Get the data"
   ],
   "cell_type": "markdown",
   "metadata": {}
  },
  {
   "cell_type": "code",
   "execution_count": 63,
   "metadata": {},
   "outputs": [],
   "source": [
    "##\n",
    "# IMPORTS\n",
    "#\n",
    "import os\n",
    "import urllib.request\n",
    "import pandas as pd\n",
    "import matplotlib.pyplot as plt\n",
    "import numpy as np\n",
    "\n",
    "##\n",
    "# SETTINGS\n",
    "#\n",
    "# Render all plots inline (instead of popup)\n",
    "%matplotlib inline\n",
    "\n",
    "# create data folder if not existing already\n",
    "os.makedirs('./data/00-raw', exist_ok=True)\n",
    "\n",
    "##\n",
    "# DOWNLOADS\n",
    "#\n",
    "# download covid dataset\n",
    "\n",
    "link = 'https://raw.githubusercontent.com/owid/covid-19-data/master/public/data/owid-covid-data.csv'\n",
    "path = './data/00-raw/'\n",
    "filename = 'owid-covid-data.csv'\n",
    "urllib.request.urlretrieve(link, path+filename)\n",
    "\n",
    "# load dataframe\n",
    "df_src = pd.read_csv(path+filename, parse_dates=['date'])"
   ]
  },
  {
   "source": [
    "## What kind of data is available?"
   ],
   "cell_type": "markdown",
   "metadata": {}
  },
  {
   "cell_type": "code",
   "execution_count": 64,
   "metadata": {},
   "outputs": [
    {
     "output_type": "execute_result",
     "data": {
      "text/plain": [
       "      iso_code continent     location       date  total_cases  new_cases  \\\n",
       "0          AFG      Asia  Afghanistan 2020-02-24          1.0        1.0   \n",
       "1          AFG      Asia  Afghanistan 2020-02-25          1.0        0.0   \n",
       "2          AFG      Asia  Afghanistan 2020-02-26          1.0        0.0   \n",
       "3          AFG      Asia  Afghanistan 2020-02-27          1.0        0.0   \n",
       "4          AFG      Asia  Afghanistan 2020-02-28          1.0        0.0   \n",
       "...        ...       ...          ...        ...          ...        ...   \n",
       "70439      ZWE    Africa     Zimbabwe 2021-02-17      35423.0      108.0   \n",
       "70440      ZWE    Africa     Zimbabwe 2021-02-18      35543.0      120.0   \n",
       "70441      ZWE    Africa     Zimbabwe 2021-02-19      35710.0      167.0   \n",
       "70442      ZWE    Africa     Zimbabwe 2021-02-20      35768.0       58.0   \n",
       "70443      ZWE    Africa     Zimbabwe 2021-02-21      35796.0       28.0   \n",
       "\n",
       "       new_cases_smoothed  total_deaths  new_deaths  new_deaths_smoothed  ...  \\\n",
       "0                     NaN           NaN         NaN                  NaN  ...   \n",
       "1                     NaN           NaN         NaN                  NaN  ...   \n",
       "2                     NaN           NaN         NaN                  NaN  ...   \n",
       "3                     NaN           NaN         NaN                  NaN  ...   \n",
       "4                     NaN           NaN         NaN                  NaN  ...   \n",
       "...                   ...           ...         ...                  ...  ...   \n",
       "70439              79.857        1418.0         4.0                7.714  ...   \n",
       "70440              97.000        1420.0         2.0                8.000  ...   \n",
       "70441              95.000        1430.0        10.0                5.286  ...   \n",
       "70442              94.857        1432.0         2.0                4.857  ...   \n",
       "70443              89.143        1436.0         4.0                5.143  ...   \n",
       "\n",
       "       gdp_per_capita  extreme_poverty  cardiovasc_death_rate  \\\n",
       "0            1803.987              NaN                597.029   \n",
       "1            1803.987              NaN                597.029   \n",
       "2            1803.987              NaN                597.029   \n",
       "3            1803.987              NaN                597.029   \n",
       "4            1803.987              NaN                597.029   \n",
       "...               ...              ...                    ...   \n",
       "70439        1899.775             21.4                307.846   \n",
       "70440        1899.775             21.4                307.846   \n",
       "70441        1899.775             21.4                307.846   \n",
       "70442        1899.775             21.4                307.846   \n",
       "70443        1899.775             21.4                307.846   \n",
       "\n",
       "       diabetes_prevalence  female_smokers  male_smokers  \\\n",
       "0                     9.59             NaN           NaN   \n",
       "1                     9.59             NaN           NaN   \n",
       "2                     9.59             NaN           NaN   \n",
       "3                     9.59             NaN           NaN   \n",
       "4                     9.59             NaN           NaN   \n",
       "...                    ...             ...           ...   \n",
       "70439                 1.82             1.6          30.7   \n",
       "70440                 1.82             1.6          30.7   \n",
       "70441                 1.82             1.6          30.7   \n",
       "70442                 1.82             1.6          30.7   \n",
       "70443                 1.82             1.6          30.7   \n",
       "\n",
       "       handwashing_facilities  hospital_beds_per_thousand  life_expectancy  \\\n",
       "0                      37.746                         0.5            64.83   \n",
       "1                      37.746                         0.5            64.83   \n",
       "2                      37.746                         0.5            64.83   \n",
       "3                      37.746                         0.5            64.83   \n",
       "4                      37.746                         0.5            64.83   \n",
       "...                       ...                         ...              ...   \n",
       "70439                  36.791                         1.7            61.49   \n",
       "70440                  36.791                         1.7            61.49   \n",
       "70441                  36.791                         1.7            61.49   \n",
       "70442                  36.791                         1.7            61.49   \n",
       "70443                  36.791                         1.7            61.49   \n",
       "\n",
       "       human_development_index  \n",
       "0                        0.511  \n",
       "1                        0.511  \n",
       "2                        0.511  \n",
       "3                        0.511  \n",
       "4                        0.511  \n",
       "...                        ...  \n",
       "70439                    0.571  \n",
       "70440                    0.571  \n",
       "70441                    0.571  \n",
       "70442                    0.571  \n",
       "70443                    0.571  \n",
       "\n",
       "[70444 rows x 59 columns]"
      ],
      "text/html": "<div>\n<style scoped>\n    .dataframe tbody tr th:only-of-type {\n        vertical-align: middle;\n    }\n\n    .dataframe tbody tr th {\n        vertical-align: top;\n    }\n\n    .dataframe thead th {\n        text-align: right;\n    }\n</style>\n<table border=\"1\" class=\"dataframe\">\n  <thead>\n    <tr style=\"text-align: right;\">\n      <th></th>\n      <th>iso_code</th>\n      <th>continent</th>\n      <th>location</th>\n      <th>date</th>\n      <th>total_cases</th>\n      <th>new_cases</th>\n      <th>new_cases_smoothed</th>\n      <th>total_deaths</th>\n      <th>new_deaths</th>\n      <th>new_deaths_smoothed</th>\n      <th>...</th>\n      <th>gdp_per_capita</th>\n      <th>extreme_poverty</th>\n      <th>cardiovasc_death_rate</th>\n      <th>diabetes_prevalence</th>\n      <th>female_smokers</th>\n      <th>male_smokers</th>\n      <th>handwashing_facilities</th>\n      <th>hospital_beds_per_thousand</th>\n      <th>life_expectancy</th>\n      <th>human_development_index</th>\n    </tr>\n  </thead>\n  <tbody>\n    <tr>\n      <th>0</th>\n      <td>AFG</td>\n      <td>Asia</td>\n      <td>Afghanistan</td>\n      <td>2020-02-24</td>\n      <td>1.0</td>\n      <td>1.0</td>\n      <td>NaN</td>\n      <td>NaN</td>\n      <td>NaN</td>\n      <td>NaN</td>\n      <td>...</td>\n      <td>1803.987</td>\n      <td>NaN</td>\n      <td>597.029</td>\n      <td>9.59</td>\n      <td>NaN</td>\n      <td>NaN</td>\n      <td>37.746</td>\n      <td>0.5</td>\n      <td>64.83</td>\n      <td>0.511</td>\n    </tr>\n    <tr>\n      <th>1</th>\n      <td>AFG</td>\n      <td>Asia</td>\n      <td>Afghanistan</td>\n      <td>2020-02-25</td>\n      <td>1.0</td>\n      <td>0.0</td>\n      <td>NaN</td>\n      <td>NaN</td>\n      <td>NaN</td>\n      <td>NaN</td>\n      <td>...</td>\n      <td>1803.987</td>\n      <td>NaN</td>\n      <td>597.029</td>\n      <td>9.59</td>\n      <td>NaN</td>\n      <td>NaN</td>\n      <td>37.746</td>\n      <td>0.5</td>\n      <td>64.83</td>\n      <td>0.511</td>\n    </tr>\n    <tr>\n      <th>2</th>\n      <td>AFG</td>\n      <td>Asia</td>\n      <td>Afghanistan</td>\n      <td>2020-02-26</td>\n      <td>1.0</td>\n      <td>0.0</td>\n      <td>NaN</td>\n      <td>NaN</td>\n      <td>NaN</td>\n      <td>NaN</td>\n      <td>...</td>\n      <td>1803.987</td>\n      <td>NaN</td>\n      <td>597.029</td>\n      <td>9.59</td>\n      <td>NaN</td>\n      <td>NaN</td>\n      <td>37.746</td>\n      <td>0.5</td>\n      <td>64.83</td>\n      <td>0.511</td>\n    </tr>\n    <tr>\n      <th>3</th>\n      <td>AFG</td>\n      <td>Asia</td>\n      <td>Afghanistan</td>\n      <td>2020-02-27</td>\n      <td>1.0</td>\n      <td>0.0</td>\n      <td>NaN</td>\n      <td>NaN</td>\n      <td>NaN</td>\n      <td>NaN</td>\n      <td>...</td>\n      <td>1803.987</td>\n      <td>NaN</td>\n      <td>597.029</td>\n      <td>9.59</td>\n      <td>NaN</td>\n      <td>NaN</td>\n      <td>37.746</td>\n      <td>0.5</td>\n      <td>64.83</td>\n      <td>0.511</td>\n    </tr>\n    <tr>\n      <th>4</th>\n      <td>AFG</td>\n      <td>Asia</td>\n      <td>Afghanistan</td>\n      <td>2020-02-28</td>\n      <td>1.0</td>\n      <td>0.0</td>\n      <td>NaN</td>\n      <td>NaN</td>\n      <td>NaN</td>\n      <td>NaN</td>\n      <td>...</td>\n      <td>1803.987</td>\n      <td>NaN</td>\n      <td>597.029</td>\n      <td>9.59</td>\n      <td>NaN</td>\n      <td>NaN</td>\n      <td>37.746</td>\n      <td>0.5</td>\n      <td>64.83</td>\n      <td>0.511</td>\n    </tr>\n    <tr>\n      <th>...</th>\n      <td>...</td>\n      <td>...</td>\n      <td>...</td>\n      <td>...</td>\n      <td>...</td>\n      <td>...</td>\n      <td>...</td>\n      <td>...</td>\n      <td>...</td>\n      <td>...</td>\n      <td>...</td>\n      <td>...</td>\n      <td>...</td>\n      <td>...</td>\n      <td>...</td>\n      <td>...</td>\n      <td>...</td>\n      <td>...</td>\n      <td>...</td>\n      <td>...</td>\n      <td>...</td>\n    </tr>\n    <tr>\n      <th>70439</th>\n      <td>ZWE</td>\n      <td>Africa</td>\n      <td>Zimbabwe</td>\n      <td>2021-02-17</td>\n      <td>35423.0</td>\n      <td>108.0</td>\n      <td>79.857</td>\n      <td>1418.0</td>\n      <td>4.0</td>\n      <td>7.714</td>\n      <td>...</td>\n      <td>1899.775</td>\n      <td>21.4</td>\n      <td>307.846</td>\n      <td>1.82</td>\n      <td>1.6</td>\n      <td>30.7</td>\n      <td>36.791</td>\n      <td>1.7</td>\n      <td>61.49</td>\n      <td>0.571</td>\n    </tr>\n    <tr>\n      <th>70440</th>\n      <td>ZWE</td>\n      <td>Africa</td>\n      <td>Zimbabwe</td>\n      <td>2021-02-18</td>\n      <td>35543.0</td>\n      <td>120.0</td>\n      <td>97.000</td>\n      <td>1420.0</td>\n      <td>2.0</td>\n      <td>8.000</td>\n      <td>...</td>\n      <td>1899.775</td>\n      <td>21.4</td>\n      <td>307.846</td>\n      <td>1.82</td>\n      <td>1.6</td>\n      <td>30.7</td>\n      <td>36.791</td>\n      <td>1.7</td>\n      <td>61.49</td>\n      <td>0.571</td>\n    </tr>\n    <tr>\n      <th>70441</th>\n      <td>ZWE</td>\n      <td>Africa</td>\n      <td>Zimbabwe</td>\n      <td>2021-02-19</td>\n      <td>35710.0</td>\n      <td>167.0</td>\n      <td>95.000</td>\n      <td>1430.0</td>\n      <td>10.0</td>\n      <td>5.286</td>\n      <td>...</td>\n      <td>1899.775</td>\n      <td>21.4</td>\n      <td>307.846</td>\n      <td>1.82</td>\n      <td>1.6</td>\n      <td>30.7</td>\n      <td>36.791</td>\n      <td>1.7</td>\n      <td>61.49</td>\n      <td>0.571</td>\n    </tr>\n    <tr>\n      <th>70442</th>\n      <td>ZWE</td>\n      <td>Africa</td>\n      <td>Zimbabwe</td>\n      <td>2021-02-20</td>\n      <td>35768.0</td>\n      <td>58.0</td>\n      <td>94.857</td>\n      <td>1432.0</td>\n      <td>2.0</td>\n      <td>4.857</td>\n      <td>...</td>\n      <td>1899.775</td>\n      <td>21.4</td>\n      <td>307.846</td>\n      <td>1.82</td>\n      <td>1.6</td>\n      <td>30.7</td>\n      <td>36.791</td>\n      <td>1.7</td>\n      <td>61.49</td>\n      <td>0.571</td>\n    </tr>\n    <tr>\n      <th>70443</th>\n      <td>ZWE</td>\n      <td>Africa</td>\n      <td>Zimbabwe</td>\n      <td>2021-02-21</td>\n      <td>35796.0</td>\n      <td>28.0</td>\n      <td>89.143</td>\n      <td>1436.0</td>\n      <td>4.0</td>\n      <td>5.143</td>\n      <td>...</td>\n      <td>1899.775</td>\n      <td>21.4</td>\n      <td>307.846</td>\n      <td>1.82</td>\n      <td>1.6</td>\n      <td>30.7</td>\n      <td>36.791</td>\n      <td>1.7</td>\n      <td>61.49</td>\n      <td>0.571</td>\n    </tr>\n  </tbody>\n</table>\n<p>70444 rows × 59 columns</p>\n</div>"
     },
     "metadata": {},
     "execution_count": 64
    }
   ],
   "source": [
    "df_src"
   ]
  },
  {
   "cell_type": "code",
   "execution_count": 65,
   "metadata": {},
   "outputs": [
    {
     "output_type": "stream",
     "name": "stdout",
     "text": [
      "The dataset contains 70444 rows and 59 columns.\n",
      "\n",
      "===============================================================================\n",
      "\n",
      "The columns contain data about: \n",
      "\n",
      "Index(['iso_code', 'continent', 'location', 'date', 'total_cases', 'new_cases',\n",
      "       'new_cases_smoothed', 'total_deaths', 'new_deaths',\n",
      "       'new_deaths_smoothed', 'total_cases_per_million',\n",
      "       'new_cases_per_million', 'new_cases_smoothed_per_million',\n",
      "       'total_deaths_per_million', 'new_deaths_per_million',\n",
      "       'new_deaths_smoothed_per_million', 'reproduction_rate', 'icu_patients',\n",
      "       'icu_patients_per_million', 'hosp_patients',\n",
      "       'hosp_patients_per_million', 'weekly_icu_admissions',\n",
      "       'weekly_icu_admissions_per_million', 'weekly_hosp_admissions',\n",
      "       'weekly_hosp_admissions_per_million', 'new_tests', 'total_tests',\n",
      "       'total_tests_per_thousand', 'new_tests_per_thousand',\n",
      "       'new_tests_smoothed', 'new_tests_smoothed_per_thousand',\n",
      "       'positive_rate', 'tests_per_case', 'tests_units', 'total_vaccinations',\n",
      "       'people_vaccinated', 'people_fully_vaccinated', 'new_vaccinations',\n",
      "       'new_vaccinations_smoothed', 'total_vaccinations_per_hundred',\n",
      "       'people_vaccinated_per_hundred', 'people_fully_vaccinated_per_hundred',\n",
      "       'new_vaccinations_smoothed_per_million', 'stringency_index',\n",
      "       'population', 'population_density', 'median_age', 'aged_65_older',\n",
      "       'aged_70_older', 'gdp_per_capita', 'extreme_poverty',\n",
      "       'cardiovasc_death_rate', 'diabetes_prevalence', 'female_smokers',\n",
      "       'male_smokers', 'handwashing_facilities', 'hospital_beds_per_thousand',\n",
      "       'life_expectancy', 'human_development_index'],\n",
      "      dtype='object')\n",
      "===============================================================================\n",
      "\n",
      "The aritmethic description: \n",
      "\n",
      "        total_cases      new_cases  new_cases_smoothed  total_deaths  \\\n",
      "count  6.954000e+04   69538.000000        68537.000000  6.053800e+04   \n",
      "mean   5.826693e+05    5084.338376         5105.302428  1.778168e+04   \n",
      "std    4.122788e+06   32204.541406        31977.245033  1.032542e+05   \n",
      "min    1.000000e+00  -46076.000000        -1121.714000  1.000000e+00   \n",
      "25%    6.780000e+02       1.000000            5.571000  3.500000e+01   \n",
      "50%    7.234500e+03      56.000000           67.286000  2.300000e+02   \n",
      "75%    7.912325e+04     643.000000          671.143000  2.140000e+03   \n",
      "max    1.114331e+08  879905.000000       738686.000000  2.467139e+06   \n",
      "\n",
      "         new_deaths  new_deaths_smoothed  total_cases_per_million  \\\n",
      "count  60696.000000         68537.000000             69159.000000   \n",
      "mean     130.680473           114.455698              6825.098557   \n",
      "std      719.036459           655.175866             13584.596709   \n",
      "min    -1918.000000          -232.143000                 0.001000   \n",
      "25%        0.000000             0.000000               130.675000   \n",
      "50%        2.000000             1.000000               986.202000   \n",
      "75%       16.000000            11.857000              6164.639000   \n",
      "max    17841.000000         14378.000000            138471.494000   \n",
      "\n",
      "       new_cases_per_million  new_cases_smoothed_per_million  \\\n",
      "count           69157.000000                    68161.000000   \n",
      "mean               63.932949                       63.961098   \n",
      "std               165.751367                      139.028026   \n",
      "min             -2153.437000                     -276.825000   \n",
      "25%                 0.122000                        0.952000   \n",
      "50%                 5.945000                        7.938000   \n",
      "75%                52.677000                       59.710000   \n",
      "max              8652.658000                     2648.773000   \n",
      "\n",
      "       total_deaths_per_million  ...  gdp_per_capita  extreme_poverty  \\\n",
      "count              60170.000000  ...    64285.000000     43924.000000   \n",
      "mean                 164.605999  ...    19145.299490        13.239011   \n",
      "std                  295.419518  ...    19684.137906        19.906381   \n",
      "min                    0.001000  ...      661.240000         0.100000   \n",
      "25%                    5.274000  ...     4541.795000         0.500000   \n",
      "50%                   28.850000  ...    12951.839000         2.000000   \n",
      "75%                  173.827750  ...    27216.445000        21.200000   \n",
      "max                 2121.516000  ...   116935.600000        77.600000   \n",
      "\n",
      "       cardiovasc_death_rate  diabetes_prevalence  female_smokers  \\\n",
      "count           64891.000000         65691.000000    51095.000000   \n",
      "mean              256.942221             7.789306       10.563354   \n",
      "std               118.316818             3.924072       10.413808   \n",
      "min                79.370000             0.990000        0.100000   \n",
      "25%               167.295000             5.290000        1.900000   \n",
      "50%               242.648000             7.110000        6.300000   \n",
      "75%               325.721000            10.080000       19.300000   \n",
      "max               724.417000            30.530000       44.000000   \n",
      "\n",
      "       male_smokers  handwashing_facilities  hospital_beds_per_thousand  \\\n",
      "count  50394.000000            32547.000000                59482.000000   \n",
      "mean      32.649672               51.044318                    3.038618   \n",
      "std       13.461166               31.769976                    2.468640   \n",
      "min        7.700000                1.188000                    0.100000   \n",
      "25%       21.600000               20.859000                    1.300000   \n",
      "50%       31.400000               49.839000                    2.400000   \n",
      "75%       41.100000               83.241000                    4.000000   \n",
      "max       78.100000               98.999000                   13.800000   \n",
      "\n",
      "       life_expectancy  human_development_index  \n",
      "count     66944.000000             64870.000000  \n",
      "mean         73.140788                 0.728211  \n",
      "std           7.550109                 0.150144  \n",
      "min          53.280000                 0.394000  \n",
      "25%          67.440000                 0.602000  \n",
      "50%          74.620000                 0.748000  \n",
      "75%          78.730000                 0.848000  \n",
      "max          86.750000                 0.957000  \n",
      "\n",
      "[8 rows x 54 columns]\n"
     ]
    }
   ],
   "source": [
    "print ('The dataset contains {} rows and {} columns.\\n'.format(df_src.shape[0], df_src.shape[1]))\n",
    "print ('===============================================================================\\n')\n",
    "print ('The columns contain data about: \\n')\n",
    "\n",
    "print(df_src.columns)\n",
    "\n",
    "print ('===============================================================================\\n')\n",
    "print ('The aritmethic description: \\n')\n",
    "\n",
    "print(df_src.describe())"
   ]
  },
  {
   "source": [
    "## What is the quality of the available data?"
   ],
   "cell_type": "markdown",
   "metadata": {}
  },
  {
   "cell_type": "code",
   "execution_count": 66,
   "metadata": {},
   "outputs": [
    {
     "output_type": "stream",
     "name": "stdout",
     "text": [
      "What datatypes are available?\n\n<class 'pandas.core.frame.DataFrame'>\nRangeIndex: 70444 entries, 0 to 70443\nData columns (total 59 columns):\n #   Column                                 Non-Null Count  Dtype         \n---  ------                                 --------------  -----         \n 0   iso_code                               70444 non-null  object        \n 1   continent                              66936 non-null  object        \n 2   location                               70444 non-null  object        \n 3   date                                   70444 non-null  datetime64[ns]\n 4   total_cases                            69540 non-null  float64       \n 5   new_cases                              69538 non-null  float64       \n 6   new_cases_smoothed                     68537 non-null  float64       \n 7   total_deaths                           60538 non-null  float64       \n 8   new_deaths                             60696 non-null  float64       \n 9   new_deaths_smoothed                    68537 non-null  float64       \n 10  total_cases_per_million                69159 non-null  float64       \n 11  new_cases_per_million                  69157 non-null  float64       \n 12  new_cases_smoothed_per_million         68161 non-null  float64       \n 13  total_deaths_per_million               60170 non-null  float64       \n 14  new_deaths_per_million                 60328 non-null  float64       \n 15  new_deaths_smoothed_per_million        68161 non-null  float64       \n 16  reproduction_rate                      56557 non-null  float64       \n 17  icu_patients                           7473 non-null   float64       \n 18  icu_patients_per_million               7473 non-null   float64       \n 19  hosp_patients                          8882 non-null   float64       \n 20  hosp_patients_per_million              8882 non-null   float64       \n 21  weekly_icu_admissions                  702 non-null    float64       \n 22  weekly_icu_admissions_per_million      702 non-null    float64       \n 23  weekly_hosp_admissions                 1155 non-null   float64       \n 24  weekly_hosp_admissions_per_million     1155 non-null   float64       \n 25  new_tests                              32003 non-null  float64       \n 26  total_tests                            31865 non-null  float64       \n 27  total_tests_per_thousand               31865 non-null  float64       \n 28  new_tests_per_thousand                 32003 non-null  float64       \n 29  new_tests_smoothed                     36493 non-null  float64       \n 30  new_tests_smoothed_per_thousand        36493 non-null  float64       \n 31  positive_rate                          35076 non-null  float64       \n 32  tests_per_case                         34557 non-null  float64       \n 33  tests_units                            37778 non-null  object        \n 34  total_vaccinations                     2409 non-null   float64       \n 35  people_vaccinated                      2033 non-null   float64       \n 36  people_fully_vaccinated                1311 non-null   float64       \n 37  new_vaccinations                       2039 non-null   float64       \n 38  new_vaccinations_smoothed              3520 non-null   float64       \n 39  total_vaccinations_per_hundred         2409 non-null   float64       \n 40  people_vaccinated_per_hundred          2033 non-null   float64       \n 41  people_fully_vaccinated_per_hundred    1311 non-null   float64       \n 42  new_vaccinations_smoothed_per_million  3520 non-null   float64       \n 43  stringency_index                       60376 non-null  float64       \n 44  population                             70054 non-null  float64       \n 45  population_density                     65852 non-null  float64       \n 46  median_age                             64127 non-null  float64       \n 47  aged_65_older                          63387 non-null  float64       \n 48  aged_70_older                          63765 non-null  float64       \n 49  gdp_per_capita                         64285 non-null  float64       \n 50  extreme_poverty                        43924 non-null  float64       \n 51  cardiovasc_death_rate                  64891 non-null  float64       \n 52  diabetes_prevalence                    65691 non-null  float64       \n 53  female_smokers                         51095 non-null  float64       \n 54  male_smokers                           50394 non-null  float64       \n 55  handwashing_facilities                 32547 non-null  float64       \n 56  hospital_beds_per_thousand             59482 non-null  float64       \n 57  life_expectancy                        66944 non-null  float64       \n 58  human_development_index                64870 non-null  float64       \ndtypes: datetime64[ns](1), float64(54), object(4)\nmemory usage: 31.7+ MB\nNone\n===============================================================================\n\n"
     ]
    }
   ],
   "source": [
    "print ('What datatypes are available?\\n')\n",
    "print(df_src.info())\n",
    "\n",
    "print ('===============================================================================\\n')"
   ]
  },
  {
   "source": [
    "**Note:** *icu_patients* holds the number of COVID-19 patients in intensive care units (ICUs) on a given day"
   ],
   "cell_type": "markdown",
   "metadata": {}
  },
  {
   "cell_type": "code",
   "execution_count": 67,
   "metadata": {},
   "outputs": [
    {
     "output_type": "stream",
     "name": "stdout",
     "text": [
      "Check why some columns contain objects:\n===============================================\n\ncolumn: iso_code\n\n['AFG' 'OWID_AFR' 'ALB' 'DZA' 'AND' 'AGO' 'AIA' 'ATG' 'ARG' 'ARM'\n 'OWID_ASI' 'AUS' 'AUT' 'AZE' 'BHS' 'BHR' 'BGD' 'BRB' 'BLR' 'BEL' 'BLZ'\n 'BEN' 'BMU' 'BTN' 'BOL' 'BIH' 'BWA' 'BRA' 'BRN' 'BGR' 'BFA' 'BDI' 'KHM'\n 'CMR' 'CAN' 'CPV' 'CYM' 'CAF' 'TCD' 'CHL' 'CHN' 'COL' 'COM' 'COG' 'CRI'\n 'CIV' 'HRV' 'CUB' 'CYP' 'CZE' 'COD' 'DNK' 'DJI' 'DMA' 'DOM' 'ECU' 'EGY'\n 'SLV' 'GNQ' 'ERI' 'EST' 'SWZ' 'ETH' 'OWID_EUR' 'OWID_EUN' 'FRO' 'FLK'\n 'FJI' 'FIN' 'FRA' 'GAB' 'GMB' 'GEO' 'DEU' 'GHA' 'GIB' 'GRC' 'GRL' 'GRD'\n 'GTM' 'GGY' 'GIN' 'GNB' 'GUY' 'HTI' 'HND' 'HKG' 'HUN' 'ISL' 'IND' 'IDN'\n 'OWID_INT' 'IRN' 'IRQ' 'IRL' 'IMN' 'ISR' 'ITA' 'JAM' 'JPN' 'JEY' 'JOR'\n 'KAZ' 'KEN' 'OWID_KOS' 'KWT' 'KGZ' 'LAO' 'LVA' 'LBN' 'LSO' 'LBR' 'LBY'\n 'LIE' 'LTU' 'LUX' 'MAC' 'MDG' 'MWI' 'MYS' 'MDV' 'MLI' 'MLT' 'MHL' 'MRT'\n 'MUS' 'MEX' 'FSM' 'MDA' 'MCO' 'MNG' 'MNE' 'MAR' 'MOZ' 'MMR' 'NAM' 'NPL'\n 'NLD' 'NZL' 'NIC' 'NER' 'NGA' 'OWID_NAM' 'MKD' 'OWID_NCY' 'NOR'\n 'OWID_OCE' 'OMN' 'PAK' 'PSE' 'PAN' 'PNG' 'PRY' 'PER' 'PHL' 'POL' 'PRT'\n 'QAT' 'ROU' 'RUS' 'RWA' 'SHN' 'KNA' 'LCA' 'VCT' 'WSM' 'SMR' 'STP' 'SAU'\n 'SEN' 'SRB' 'SYC' 'SLE' 'SGP' 'SVK' 'SVN' 'SLB' 'SOM' 'ZAF' 'OWID_SAM'\n 'KOR' 'SSD' 'ESP' 'LKA' 'SDN' 'SUR' 'SWE' 'CHE' 'SYR' 'TWN' 'TJK' 'TZA'\n 'THA' 'TLS' 'TGO' 'TTO' 'TUN' 'TUR' 'TCA' 'UGA' 'UKR' 'ARE' 'GBR' 'USA'\n 'URY' 'UZB' 'VUT' 'VAT' 'VEN' 'VNM' 'OWID_WRL' 'YEM' 'ZMB' 'ZWE']\n\n===============================================\n\ncolumn: continent\n\n['Asia' nan 'Europe' 'Africa' 'North America' 'South America' 'Oceania']\n\n===============================================\n\ncolumn: tests_units\n\n[nan 'tests performed' 'people tested' 'units unclear' 'samples tested']\n"
     ]
    }
   ],
   "source": [
    "print ('Check why some columns contain objects:')\n",
    "print ('===============================================\\n')\n",
    "print ('column: iso_code\\n')\n",
    "print (df_src.iso_code.unique())\n",
    "print ('\\n===============================================\\n')\n",
    "print ('column: continent\\n')\n",
    "print (df_src.continent.unique())\n",
    "print ('\\n===============================================\\n')\n",
    "print ('column: tests_units\\n')\n",
    "print (df_src.tests_units.unique())"
   ]
  },
  {
   "source": [
    "## Is a restructuring of the data necessary?\n",
    "\n",
    "Short answer: **YES**\n",
    "\n",
    "- New grouping with year, month, week (, maybe for continents as well)\n",
    "- Subsets for each location and *special* owid-datasets (aggregated data: e.g. OWID_ASI for continent asia)"
   ],
   "cell_type": "markdown",
   "metadata": {}
  }
 ]
}