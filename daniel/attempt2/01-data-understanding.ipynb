{
 "metadata": {
  "language_info": {
   "codemirror_mode": {
    "name": "ipython",
    "version": 3
   },
   "file_extension": ".py",
   "mimetype": "text/x-python",
   "name": "python",
   "nbconvert_exporter": "python",
   "pygments_lexer": "ipython3",
   "version": "3.9.1-final"
  },
  "orig_nbformat": 2,
  "kernelspec": {
   "name": "python3",
   "display_name": "Python 3",
   "language": "python"
  }
 },
 "nbformat": 4,
 "nbformat_minor": 2,
 "cells": [
  {
   "source": [
    "# Data Understanding\n",
    "\n",
    "- What kind of data is available?\n",
    "- What is the quality of the available data\n",
    "- Is a restructuring of the data necessary?\n",
    "\n",
    "## Get the data"
   ],
   "cell_type": "markdown",
   "metadata": {}
  },
  {
   "cell_type": "code",
   "execution_count": 1,
   "metadata": {},
   "outputs": [],
   "source": [
    "##\n",
    "# IMPORTS\n",
    "#\n",
    "import os\n",
    "import urllib.request\n",
    "import pandas as pd\n",
    "import matplotlib.pyplot as plt\n",
    "import numpy as np\n",
    "\n",
    "##\n",
    "# SETTINGS\n",
    "#\n",
    "# Render all plots inline (instead of popup)\n",
    "%matplotlib inline\n",
    "\n",
    "# create data folder if not existing already\n",
    "os.makedirs('./data/00-raw', exist_ok=True)\n",
    "\n",
    "##\n",
    "# DOWNLOADS\n",
    "#\n",
    "# download covid dataset\n",
    "\n",
    "link = 'https://raw.githubusercontent.com/owid/covid-19-data/master/public/data/owid-covid-data.csv'\n",
    "path = './data/00-raw/'\n",
    "filename = 'owid-covid-data.csv'\n",
    "urllib.request.urlretrieve(link, path+filename)\n",
    "\n",
    "# load dataframe\n",
    "df_covid_src = pd.read_csv(path+filename, parse_dates=['date'])\n",
    "\n",
    "# download gdp dataset\n",
    "link = 'https://stats.oecd.org/sdmx-json/data/DP_LIVE/ARG+AUS+AUT+BEL+BGR+BRA+CAN+CHE+CHL+CHN+COL+CRI+CZE+DEU+DNK+ESP+EST+FIN+FRA+GBR+GRC+HUN+IDN+IND+IRL+ISL+ISR+ITA+JPN+KOR+LTU+LUX+LVA+MEX+NLD+NZL+NOR+POL+PRT+ROU+RUS+SAU+SVK+SVN+SWE+TUR+USA+ZAF.QGDP.TOT.PC_CHGPP.Q/OECD?contentType=csv&detail=code&separator=comma&csv-lang=en&startPeriod=2019-Q1&endPeriod=2020-Q4'\n",
    "path = './data/00-raw/'\n",
    "filename = 'oecd-gdp-data.csv'\n",
    "urllib.request.urlretrieve(link, path+filename)\n",
    "\n",
    "# load dataframe\n",
    "df_gdp_src = pd.read_csv(path+filename)\n"
   ]
  },
  {
   "source": [
    "## What kind of data is available?\n",
    "### COVID-19"
   ],
   "cell_type": "markdown",
   "metadata": {}
  },
  {
   "cell_type": "code",
   "execution_count": 2,
   "metadata": {},
   "outputs": [
    {
     "output_type": "execute_result",
     "data": {
      "text/plain": [
       "      iso_code continent     location       date  total_cases  new_cases  \\\n",
       "0          AFG      Asia  Afghanistan 2020-02-24          1.0        1.0   \n",
       "1          AFG      Asia  Afghanistan 2020-02-25          1.0        0.0   \n",
       "2          AFG      Asia  Afghanistan 2020-02-26          1.0        0.0   \n",
       "3          AFG      Asia  Afghanistan 2020-02-27          1.0        0.0   \n",
       "4          AFG      Asia  Afghanistan 2020-02-28          1.0        0.0   \n",
       "...        ...       ...          ...        ...          ...        ...   \n",
       "71045      ZWE    Africa     Zimbabwe 2021-02-20      35768.0       58.0   \n",
       "71046      ZWE    Africa     Zimbabwe 2021-02-21      35796.0       28.0   \n",
       "71047      ZWE    Africa     Zimbabwe 2021-02-22      35862.0       66.0   \n",
       "71048      ZWE    Africa     Zimbabwe 2021-02-23      35910.0       48.0   \n",
       "71049      ZWE    Africa     Zimbabwe 2021-02-24      35960.0       50.0   \n",
       "\n",
       "       new_cases_smoothed  total_deaths  new_deaths  new_deaths_smoothed  ...  \\\n",
       "0                     NaN           NaN         NaN                  NaN  ...   \n",
       "1                     NaN           NaN         NaN                  NaN  ...   \n",
       "2                     NaN           NaN         NaN                  NaN  ...   \n",
       "3                     NaN           NaN         NaN                  NaN  ...   \n",
       "4                     NaN           NaN         NaN                  NaN  ...   \n",
       "...                   ...           ...         ...                  ...  ...   \n",
       "71045              94.857        1432.0         2.0                4.857  ...   \n",
       "71046              89.143        1436.0         4.0                5.143  ...   \n",
       "71047              91.429        1441.0         5.0                4.429  ...   \n",
       "71048              85.000        1448.0         7.0                4.857  ...   \n",
       "71049              76.714        1456.0         8.0                5.429  ...   \n",
       "\n",
       "       gdp_per_capita  extreme_poverty  cardiovasc_death_rate  \\\n",
       "0            1803.987              NaN                597.029   \n",
       "1            1803.987              NaN                597.029   \n",
       "2            1803.987              NaN                597.029   \n",
       "3            1803.987              NaN                597.029   \n",
       "4            1803.987              NaN                597.029   \n",
       "...               ...              ...                    ...   \n",
       "71045        1899.775             21.4                307.846   \n",
       "71046        1899.775             21.4                307.846   \n",
       "71047        1899.775             21.4                307.846   \n",
       "71048        1899.775             21.4                307.846   \n",
       "71049        1899.775             21.4                307.846   \n",
       "\n",
       "       diabetes_prevalence  female_smokers  male_smokers  \\\n",
       "0                     9.59             NaN           NaN   \n",
       "1                     9.59             NaN           NaN   \n",
       "2                     9.59             NaN           NaN   \n",
       "3                     9.59             NaN           NaN   \n",
       "4                     9.59             NaN           NaN   \n",
       "...                    ...             ...           ...   \n",
       "71045                 1.82             1.6          30.7   \n",
       "71046                 1.82             1.6          30.7   \n",
       "71047                 1.82             1.6          30.7   \n",
       "71048                 1.82             1.6          30.7   \n",
       "71049                 1.82             1.6          30.7   \n",
       "\n",
       "       handwashing_facilities  hospital_beds_per_thousand  life_expectancy  \\\n",
       "0                      37.746                         0.5            64.83   \n",
       "1                      37.746                         0.5            64.83   \n",
       "2                      37.746                         0.5            64.83   \n",
       "3                      37.746                         0.5            64.83   \n",
       "4                      37.746                         0.5            64.83   \n",
       "...                       ...                         ...              ...   \n",
       "71045                  36.791                         1.7            61.49   \n",
       "71046                  36.791                         1.7            61.49   \n",
       "71047                  36.791                         1.7            61.49   \n",
       "71048                  36.791                         1.7            61.49   \n",
       "71049                  36.791                         1.7            61.49   \n",
       "\n",
       "       human_development_index  \n",
       "0                        0.511  \n",
       "1                        0.511  \n",
       "2                        0.511  \n",
       "3                        0.511  \n",
       "4                        0.511  \n",
       "...                        ...  \n",
       "71045                    0.571  \n",
       "71046                    0.571  \n",
       "71047                    0.571  \n",
       "71048                    0.571  \n",
       "71049                    0.571  \n",
       "\n",
       "[71050 rows x 59 columns]"
      ],
      "text/html": "<div>\n<style scoped>\n    .dataframe tbody tr th:only-of-type {\n        vertical-align: middle;\n    }\n\n    .dataframe tbody tr th {\n        vertical-align: top;\n    }\n\n    .dataframe thead th {\n        text-align: right;\n    }\n</style>\n<table border=\"1\" class=\"dataframe\">\n  <thead>\n    <tr style=\"text-align: right;\">\n      <th></th>\n      <th>iso_code</th>\n      <th>continent</th>\n      <th>location</th>\n      <th>date</th>\n      <th>total_cases</th>\n      <th>new_cases</th>\n      <th>new_cases_smoothed</th>\n      <th>total_deaths</th>\n      <th>new_deaths</th>\n      <th>new_deaths_smoothed</th>\n      <th>...</th>\n      <th>gdp_per_capita</th>\n      <th>extreme_poverty</th>\n      <th>cardiovasc_death_rate</th>\n      <th>diabetes_prevalence</th>\n      <th>female_smokers</th>\n      <th>male_smokers</th>\n      <th>handwashing_facilities</th>\n      <th>hospital_beds_per_thousand</th>\n      <th>life_expectancy</th>\n      <th>human_development_index</th>\n    </tr>\n  </thead>\n  <tbody>\n    <tr>\n      <th>0</th>\n      <td>AFG</td>\n      <td>Asia</td>\n      <td>Afghanistan</td>\n      <td>2020-02-24</td>\n      <td>1.0</td>\n      <td>1.0</td>\n      <td>NaN</td>\n      <td>NaN</td>\n      <td>NaN</td>\n      <td>NaN</td>\n      <td>...</td>\n      <td>1803.987</td>\n      <td>NaN</td>\n      <td>597.029</td>\n      <td>9.59</td>\n      <td>NaN</td>\n      <td>NaN</td>\n      <td>37.746</td>\n      <td>0.5</td>\n      <td>64.83</td>\n      <td>0.511</td>\n    </tr>\n    <tr>\n      <th>1</th>\n      <td>AFG</td>\n      <td>Asia</td>\n      <td>Afghanistan</td>\n      <td>2020-02-25</td>\n      <td>1.0</td>\n      <td>0.0</td>\n      <td>NaN</td>\n      <td>NaN</td>\n      <td>NaN</td>\n      <td>NaN</td>\n      <td>...</td>\n      <td>1803.987</td>\n      <td>NaN</td>\n      <td>597.029</td>\n      <td>9.59</td>\n      <td>NaN</td>\n      <td>NaN</td>\n      <td>37.746</td>\n      <td>0.5</td>\n      <td>64.83</td>\n      <td>0.511</td>\n    </tr>\n    <tr>\n      <th>2</th>\n      <td>AFG</td>\n      <td>Asia</td>\n      <td>Afghanistan</td>\n      <td>2020-02-26</td>\n      <td>1.0</td>\n      <td>0.0</td>\n      <td>NaN</td>\n      <td>NaN</td>\n      <td>NaN</td>\n      <td>NaN</td>\n      <td>...</td>\n      <td>1803.987</td>\n      <td>NaN</td>\n      <td>597.029</td>\n      <td>9.59</td>\n      <td>NaN</td>\n      <td>NaN</td>\n      <td>37.746</td>\n      <td>0.5</td>\n      <td>64.83</td>\n      <td>0.511</td>\n    </tr>\n    <tr>\n      <th>3</th>\n      <td>AFG</td>\n      <td>Asia</td>\n      <td>Afghanistan</td>\n      <td>2020-02-27</td>\n      <td>1.0</td>\n      <td>0.0</td>\n      <td>NaN</td>\n      <td>NaN</td>\n      <td>NaN</td>\n      <td>NaN</td>\n      <td>...</td>\n      <td>1803.987</td>\n      <td>NaN</td>\n      <td>597.029</td>\n      <td>9.59</td>\n      <td>NaN</td>\n      <td>NaN</td>\n      <td>37.746</td>\n      <td>0.5</td>\n      <td>64.83</td>\n      <td>0.511</td>\n    </tr>\n    <tr>\n      <th>4</th>\n      <td>AFG</td>\n      <td>Asia</td>\n      <td>Afghanistan</td>\n      <td>2020-02-28</td>\n      <td>1.0</td>\n      <td>0.0</td>\n      <td>NaN</td>\n      <td>NaN</td>\n      <td>NaN</td>\n      <td>NaN</td>\n      <td>...</td>\n      <td>1803.987</td>\n      <td>NaN</td>\n      <td>597.029</td>\n      <td>9.59</td>\n      <td>NaN</td>\n      <td>NaN</td>\n      <td>37.746</td>\n      <td>0.5</td>\n      <td>64.83</td>\n      <td>0.511</td>\n    </tr>\n    <tr>\n      <th>...</th>\n      <td>...</td>\n      <td>...</td>\n      <td>...</td>\n      <td>...</td>\n      <td>...</td>\n      <td>...</td>\n      <td>...</td>\n      <td>...</td>\n      <td>...</td>\n      <td>...</td>\n      <td>...</td>\n      <td>...</td>\n      <td>...</td>\n      <td>...</td>\n      <td>...</td>\n      <td>...</td>\n      <td>...</td>\n      <td>...</td>\n      <td>...</td>\n      <td>...</td>\n      <td>...</td>\n    </tr>\n    <tr>\n      <th>71045</th>\n      <td>ZWE</td>\n      <td>Africa</td>\n      <td>Zimbabwe</td>\n      <td>2021-02-20</td>\n      <td>35768.0</td>\n      <td>58.0</td>\n      <td>94.857</td>\n      <td>1432.0</td>\n      <td>2.0</td>\n      <td>4.857</td>\n      <td>...</td>\n      <td>1899.775</td>\n      <td>21.4</td>\n      <td>307.846</td>\n      <td>1.82</td>\n      <td>1.6</td>\n      <td>30.7</td>\n      <td>36.791</td>\n      <td>1.7</td>\n      <td>61.49</td>\n      <td>0.571</td>\n    </tr>\n    <tr>\n      <th>71046</th>\n      <td>ZWE</td>\n      <td>Africa</td>\n      <td>Zimbabwe</td>\n      <td>2021-02-21</td>\n      <td>35796.0</td>\n      <td>28.0</td>\n      <td>89.143</td>\n      <td>1436.0</td>\n      <td>4.0</td>\n      <td>5.143</td>\n      <td>...</td>\n      <td>1899.775</td>\n      <td>21.4</td>\n      <td>307.846</td>\n      <td>1.82</td>\n      <td>1.6</td>\n      <td>30.7</td>\n      <td>36.791</td>\n      <td>1.7</td>\n      <td>61.49</td>\n      <td>0.571</td>\n    </tr>\n    <tr>\n      <th>71047</th>\n      <td>ZWE</td>\n      <td>Africa</td>\n      <td>Zimbabwe</td>\n      <td>2021-02-22</td>\n      <td>35862.0</td>\n      <td>66.0</td>\n      <td>91.429</td>\n      <td>1441.0</td>\n      <td>5.0</td>\n      <td>4.429</td>\n      <td>...</td>\n      <td>1899.775</td>\n      <td>21.4</td>\n      <td>307.846</td>\n      <td>1.82</td>\n      <td>1.6</td>\n      <td>30.7</td>\n      <td>36.791</td>\n      <td>1.7</td>\n      <td>61.49</td>\n      <td>0.571</td>\n    </tr>\n    <tr>\n      <th>71048</th>\n      <td>ZWE</td>\n      <td>Africa</td>\n      <td>Zimbabwe</td>\n      <td>2021-02-23</td>\n      <td>35910.0</td>\n      <td>48.0</td>\n      <td>85.000</td>\n      <td>1448.0</td>\n      <td>7.0</td>\n      <td>4.857</td>\n      <td>...</td>\n      <td>1899.775</td>\n      <td>21.4</td>\n      <td>307.846</td>\n      <td>1.82</td>\n      <td>1.6</td>\n      <td>30.7</td>\n      <td>36.791</td>\n      <td>1.7</td>\n      <td>61.49</td>\n      <td>0.571</td>\n    </tr>\n    <tr>\n      <th>71049</th>\n      <td>ZWE</td>\n      <td>Africa</td>\n      <td>Zimbabwe</td>\n      <td>2021-02-24</td>\n      <td>35960.0</td>\n      <td>50.0</td>\n      <td>76.714</td>\n      <td>1456.0</td>\n      <td>8.0</td>\n      <td>5.429</td>\n      <td>...</td>\n      <td>1899.775</td>\n      <td>21.4</td>\n      <td>307.846</td>\n      <td>1.82</td>\n      <td>1.6</td>\n      <td>30.7</td>\n      <td>36.791</td>\n      <td>1.7</td>\n      <td>61.49</td>\n      <td>0.571</td>\n    </tr>\n  </tbody>\n</table>\n<p>71050 rows × 59 columns</p>\n</div>"
     },
     "metadata": {},
     "execution_count": 2
    }
   ],
   "source": [
    "df_covid_src"
   ]
  },
  {
   "cell_type": "code",
   "execution_count": 3,
   "metadata": {},
   "outputs": [
    {
     "output_type": "stream",
     "name": "stdout",
     "text": [
      "The dataset contains 71050 rows and 59 columns.\n\n===============================================================================\n\nThe columns contain data about: \n\nIndex(['iso_code', 'continent', 'location', 'date', 'total_cases', 'new_cases',\n       'new_cases_smoothed', 'total_deaths', 'new_deaths',\n       'new_deaths_smoothed', 'total_cases_per_million',\n       'new_cases_per_million', 'new_cases_smoothed_per_million',\n       'total_deaths_per_million', 'new_deaths_per_million',\n       'new_deaths_smoothed_per_million', 'reproduction_rate', 'icu_patients',\n       'icu_patients_per_million', 'hosp_patients',\n       'hosp_patients_per_million', 'weekly_icu_admissions',\n       'weekly_icu_admissions_per_million', 'weekly_hosp_admissions',\n       'weekly_hosp_admissions_per_million', 'new_tests', 'total_tests',\n       'total_tests_per_thousand', 'new_tests_per_thousand',\n       'new_tests_smoothed', 'new_tests_smoothed_per_thousand',\n       'positive_rate', 'tests_per_case', 'tests_units', 'total_vaccinations',\n       'people_vaccinated', 'people_fully_vaccinated', 'new_vaccinations',\n       'new_vaccinations_smoothed', 'total_vaccinations_per_hundred',\n       'people_vaccinated_per_hundred', 'people_fully_vaccinated_per_hundred',\n       'new_vaccinations_smoothed_per_million', 'stringency_index',\n       'population', 'population_density', 'median_age', 'aged_65_older',\n       'aged_70_older', 'gdp_per_capita', 'extreme_poverty',\n       'cardiovasc_death_rate', 'diabetes_prevalence', 'female_smokers',\n       'male_smokers', 'handwashing_facilities', 'hospital_beds_per_thousand',\n       'life_expectancy', 'human_development_index'],\n      dtype='object')\n===============================================================================\n\nThe aritmethic description: \n\n        total_cases      new_cases  new_cases_smoothed  total_deaths  \\\ncount  7.013700e+04   70135.000000        69134.000000  6.110200e+04   \nmean   5.930349e+05    5093.242946         5113.797512  1.800995e+04   \nstd    4.192604e+06   32196.415478        31964.805542  1.047246e+05   \nmin    1.000000e+00  -46076.000000        -1121.714000  1.000000e+00   \n25%    6.930000e+02       1.000000            5.571000  3.500000e+01   \n50%    7.367000e+03      57.000000           68.071500  2.320000e+02   \n75%    8.042900e+04     650.000000          677.678250  2.174750e+03   \nmax    1.125532e+08  879905.000000       738686.000000  2.497405e+06   \n\n         new_deaths  new_deaths_smoothed  total_cases_per_million  \\\ncount  61260.000000         69134.000000             69753.000000   \nmean     131.084819           114.802444              6959.325671   \nstd      720.737582           656.418769             13828.774318   \nmin    -1918.000000          -232.143000                 0.001000   \n25%        0.000000             0.000000               132.940000   \n50%        2.000000             1.000000               999.953000   \n75%       16.000000            11.857000              6312.720000   \nmax    17841.000000         14378.000000            139455.122000   \n\n       new_cases_per_million  new_cases_smoothed_per_million  \\\ncount           69751.000000                    68755.000000   \nmean               64.319280                       64.305465   \nstd               165.975938                      139.201840   \nmin             -2153.437000                     -276.825000   \n25%                 0.124000                        0.960000   \n50%                 6.029000                        8.011000   \n75%                53.389000                       60.464500   \nmax              8652.658000                     2648.773000   \n\n       total_deaths_per_million  ...  gdp_per_capita  extreme_poverty  \\\ncount              60731.000000  ...    64837.000000     44299.000000   \nmean                 167.189682  ...    19138.953771        13.244884   \nstd                  299.694746  ...    19682.095801        19.908555   \nmin                    0.001000  ...      661.240000         0.100000   \n25%                    5.344000  ...     4466.507000         0.500000   \n50%                   29.304000  ...    12951.839000         2.000000   \n75%                  175.726000  ...    27216.445000        21.200000   \nmax                 2150.981000  ...   116935.600000        77.600000   \n\n       cardiovasc_death_rate  diabetes_prevalence  female_smokers  \\\ncount           65446.000000         66255.000000    51524.000000   \nmean              256.998651             7.790651       10.562025   \nstd               118.341088             3.926570       10.413462   \nmin                79.370000             0.990000        0.100000   \n25%               167.295000             5.290000        1.900000   \n50%               242.648000             7.110000        6.300000   \n75%               329.635000            10.080000       19.300000   \nmax               724.417000            30.530000       44.000000   \n\n       male_smokers  handwashing_facilities  hospital_beds_per_thousand  \\\ncount  50817.000000            32832.000000                59983.000000   \nmean      32.649993               51.037604                    3.038290   \nstd       13.461682               31.769635                    2.468393   \nmin        7.700000                1.188000                    0.100000   \n25%       21.600000               20.859000                    1.300000   \n50%       31.400000               49.839000                    2.400000   \n75%       41.100000               83.241000                    4.000000   \nmax       78.100000               98.999000                   13.800000   \n\n       life_expectancy  human_development_index  \ncount     67523.000000             65425.000000  \nmean         73.139189                 0.728152  \nstd           7.550140                 0.150142  \nmin          53.280000                 0.394000  \n25%          67.440000                 0.602000  \n50%          74.530000                 0.748000  \n75%          78.730000                 0.848000  \nmax          86.750000                 0.957000  \n\n[8 rows x 54 columns]\n"
     ]
    }
   ],
   "source": [
    "print ('The dataset contains {} rows and {} columns.\\n'.format(df_covid_src.shape[0], df_covid_src.shape[1]))\n",
    "print ('===============================================================================\\n')\n",
    "print ('The columns contain data about: \\n')\n",
    "\n",
    "print(df_covid_src.columns)\n",
    "\n",
    "print ('===============================================================================\\n')\n",
    "print ('The aritmethic description: \\n')\n",
    "\n",
    "print(df_covid_src.describe())"
   ]
  },
  {
   "source": [
    "### GDP"
   ],
   "cell_type": "markdown",
   "metadata": {}
  },
  {
   "cell_type": "code",
   "execution_count": 4,
   "metadata": {},
   "outputs": [
    {
     "output_type": "execute_result",
     "data": {
      "text/plain": [
       "    LOCATION INDICATOR SUBJECT   MEASURE FREQUENCY     TIME      Value  \\\n",
       "0        KOR      QGDP     TOT  PC_CHGPP         Q  2019-Q1  -0.339694   \n",
       "1        KOR      QGDP     TOT  PC_CHGPP         Q  2019-Q2   1.014143   \n",
       "2        KOR      QGDP     TOT  PC_CHGPP         Q  2019-Q3   0.375455   \n",
       "3        KOR      QGDP     TOT  PC_CHGPP         Q  2019-Q4   1.311630   \n",
       "4        KOR      QGDP     TOT  PC_CHGPP         Q  2020-Q1  -1.281702   \n",
       "..       ...       ...     ...       ...       ...      ...        ...   \n",
       "352      ROU      QGDP     TOT  PC_CHGPP         Q  2019-Q4   1.144697   \n",
       "353      ROU      QGDP     TOT  PC_CHGPP         Q  2020-Q1   0.170786   \n",
       "354      ROU      QGDP     TOT  PC_CHGPP         Q  2020-Q2 -12.158868   \n",
       "355      ROU      QGDP     TOT  PC_CHGPP         Q  2020-Q3   6.057459   \n",
       "356      ROU      QGDP     TOT  PC_CHGPP         Q  2020-Q4   5.300336   \n",
       "\n",
       "    Flag Codes  \n",
       "0            P  \n",
       "1            P  \n",
       "2            P  \n",
       "3            P  \n",
       "4            P  \n",
       "..         ...  \n",
       "352          P  \n",
       "353          P  \n",
       "354          P  \n",
       "355          P  \n",
       "356          P  \n",
       "\n",
       "[357 rows x 8 columns]"
      ],
      "text/html": "<div>\n<style scoped>\n    .dataframe tbody tr th:only-of-type {\n        vertical-align: middle;\n    }\n\n    .dataframe tbody tr th {\n        vertical-align: top;\n    }\n\n    .dataframe thead th {\n        text-align: right;\n    }\n</style>\n<table border=\"1\" class=\"dataframe\">\n  <thead>\n    <tr style=\"text-align: right;\">\n      <th></th>\n      <th>LOCATION</th>\n      <th>INDICATOR</th>\n      <th>SUBJECT</th>\n      <th>MEASURE</th>\n      <th>FREQUENCY</th>\n      <th>TIME</th>\n      <th>Value</th>\n      <th>Flag Codes</th>\n    </tr>\n  </thead>\n  <tbody>\n    <tr>\n      <th>0</th>\n      <td>KOR</td>\n      <td>QGDP</td>\n      <td>TOT</td>\n      <td>PC_CHGPP</td>\n      <td>Q</td>\n      <td>2019-Q1</td>\n      <td>-0.339694</td>\n      <td>P</td>\n    </tr>\n    <tr>\n      <th>1</th>\n      <td>KOR</td>\n      <td>QGDP</td>\n      <td>TOT</td>\n      <td>PC_CHGPP</td>\n      <td>Q</td>\n      <td>2019-Q2</td>\n      <td>1.014143</td>\n      <td>P</td>\n    </tr>\n    <tr>\n      <th>2</th>\n      <td>KOR</td>\n      <td>QGDP</td>\n      <td>TOT</td>\n      <td>PC_CHGPP</td>\n      <td>Q</td>\n      <td>2019-Q3</td>\n      <td>0.375455</td>\n      <td>P</td>\n    </tr>\n    <tr>\n      <th>3</th>\n      <td>KOR</td>\n      <td>QGDP</td>\n      <td>TOT</td>\n      <td>PC_CHGPP</td>\n      <td>Q</td>\n      <td>2019-Q4</td>\n      <td>1.311630</td>\n      <td>P</td>\n    </tr>\n    <tr>\n      <th>4</th>\n      <td>KOR</td>\n      <td>QGDP</td>\n      <td>TOT</td>\n      <td>PC_CHGPP</td>\n      <td>Q</td>\n      <td>2020-Q1</td>\n      <td>-1.281702</td>\n      <td>P</td>\n    </tr>\n    <tr>\n      <th>...</th>\n      <td>...</td>\n      <td>...</td>\n      <td>...</td>\n      <td>...</td>\n      <td>...</td>\n      <td>...</td>\n      <td>...</td>\n      <td>...</td>\n    </tr>\n    <tr>\n      <th>352</th>\n      <td>ROU</td>\n      <td>QGDP</td>\n      <td>TOT</td>\n      <td>PC_CHGPP</td>\n      <td>Q</td>\n      <td>2019-Q4</td>\n      <td>1.144697</td>\n      <td>P</td>\n    </tr>\n    <tr>\n      <th>353</th>\n      <td>ROU</td>\n      <td>QGDP</td>\n      <td>TOT</td>\n      <td>PC_CHGPP</td>\n      <td>Q</td>\n      <td>2020-Q1</td>\n      <td>0.170786</td>\n      <td>P</td>\n    </tr>\n    <tr>\n      <th>354</th>\n      <td>ROU</td>\n      <td>QGDP</td>\n      <td>TOT</td>\n      <td>PC_CHGPP</td>\n      <td>Q</td>\n      <td>2020-Q2</td>\n      <td>-12.158868</td>\n      <td>P</td>\n    </tr>\n    <tr>\n      <th>355</th>\n      <td>ROU</td>\n      <td>QGDP</td>\n      <td>TOT</td>\n      <td>PC_CHGPP</td>\n      <td>Q</td>\n      <td>2020-Q3</td>\n      <td>6.057459</td>\n      <td>P</td>\n    </tr>\n    <tr>\n      <th>356</th>\n      <td>ROU</td>\n      <td>QGDP</td>\n      <td>TOT</td>\n      <td>PC_CHGPP</td>\n      <td>Q</td>\n      <td>2020-Q4</td>\n      <td>5.300336</td>\n      <td>P</td>\n    </tr>\n  </tbody>\n</table>\n<p>357 rows × 8 columns</p>\n</div>"
     },
     "metadata": {},
     "execution_count": 4
    }
   ],
   "source": [
    "df_gdp_src"
   ]
  },
  {
   "cell_type": "code",
   "execution_count": 5,
   "metadata": {},
   "outputs": [
    {
     "output_type": "stream",
     "name": "stdout",
     "text": [
      "The dataset contains 357 rows and 8 columns.\n\n===============================================================================\n\nThe columns contain data about: \n\nIndex(['LOCATION', 'INDICATOR', 'SUBJECT', 'MEASURE', 'FREQUENCY', 'TIME',\n       'Value', 'Flag Codes'],\n      dtype='object')\n===============================================================================\n\nThe aritmethic description: \n\n            Value\ncount  357.000000\nmean    -0.090433\nstd      5.631810\nmin    -25.248100\n25%     -0.803969\n50%      0.383760\n75%      1.088440\nmax     21.940150\n"
     ]
    }
   ],
   "source": [
    "print ('The dataset contains {} rows and {} columns.\\n'.format(df_gdp_src.shape[0], df_gdp_src.shape[1]))\n",
    "print ('===============================================================================\\n')\n",
    "print ('The columns contain data about: \\n')\n",
    "\n",
    "print(df_gdp_src.columns)\n",
    "\n",
    "print ('===============================================================================\\n')\n",
    "print ('The aritmethic description: \\n')\n",
    "\n",
    "print(df_gdp_src.describe())"
   ]
  },
  {
   "source": [
    "## What is the quality of the available data?\n",
    "### COVID-19"
   ],
   "cell_type": "markdown",
   "metadata": {}
  },
  {
   "cell_type": "code",
   "execution_count": 6,
   "metadata": {},
   "outputs": [
    {
     "output_type": "stream",
     "name": "stdout",
     "text": [
      "What datatypes are available?\n",
      "\n",
      "<class 'pandas.core.frame.DataFrame'>\n",
      "RangeIndex: 71050 entries, 0 to 71049\n",
      "Data columns (total 59 columns):\n",
      " #   Column                                 Non-Null Count  Dtype         \n",
      "---  ------                                 --------------  -----         \n",
      " 0   iso_code                               71050 non-null  object        \n",
      " 1   continent                              67515 non-null  object        \n",
      " 2   location                               71050 non-null  object        \n",
      " 3   date                                   71050 non-null  datetime64[ns]\n",
      " 4   total_cases                            70137 non-null  float64       \n",
      " 5   new_cases                              70135 non-null  float64       \n",
      " 6   new_cases_smoothed                     69134 non-null  float64       \n",
      " 7   total_deaths                           61102 non-null  float64       \n",
      " 8   new_deaths                             61260 non-null  float64       \n",
      " 9   new_deaths_smoothed                    69134 non-null  float64       \n",
      " 10  total_cases_per_million                69753 non-null  float64       \n",
      " 11  new_cases_per_million                  69751 non-null  float64       \n",
      " 12  new_cases_smoothed_per_million         68755 non-null  float64       \n",
      " 13  total_deaths_per_million               60731 non-null  float64       \n",
      " 14  new_deaths_per_million                 60889 non-null  float64       \n",
      " 15  new_deaths_smoothed_per_million        68755 non-null  float64       \n",
      " 16  reproduction_rate                      56919 non-null  float64       \n",
      " 17  icu_patients                           7473 non-null   float64       \n",
      " 18  icu_patients_per_million               7473 non-null   float64       \n",
      " 19  hosp_patients                          8882 non-null   float64       \n",
      " 20  hosp_patients_per_million              8882 non-null   float64       \n",
      " 21  weekly_icu_admissions                  702 non-null    float64       \n",
      " 22  weekly_icu_admissions_per_million      702 non-null    float64       \n",
      " 23  weekly_hosp_admissions                 1155 non-null   float64       \n",
      " 24  weekly_hosp_admissions_per_million     1155 non-null   float64       \n",
      " 25  new_tests                              32012 non-null  float64       \n",
      " 26  total_tests                            31878 non-null  float64       \n",
      " 27  total_tests_per_thousand               31878 non-null  float64       \n",
      " 28  new_tests_per_thousand                 32012 non-null  float64       \n",
      " 29  new_tests_smoothed                     36506 non-null  float64       \n",
      " 30  new_tests_smoothed_per_thousand        36506 non-null  float64       \n",
      " 31  positive_rate                          35076 non-null  float64       \n",
      " 32  tests_per_case                         34557 non-null  float64       \n",
      " 33  tests_units                            37791 non-null  object        \n",
      " 34  total_vaccinations                     2585 non-null   float64       \n",
      " 35  people_vaccinated                      2175 non-null   float64       \n",
      " 36  people_fully_vaccinated                1400 non-null   float64       \n",
      " 37  new_vaccinations                       2192 non-null   float64       \n",
      " 38  new_vaccinations_smoothed              3742 non-null   float64       \n",
      " 39  total_vaccinations_per_hundred         2585 non-null   float64       \n",
      " 40  people_vaccinated_per_hundred          2175 non-null   float64       \n",
      " 41  people_fully_vaccinated_per_hundred    1400 non-null   float64       \n",
      " 42  new_vaccinations_smoothed_per_million  3742 non-null   float64       \n",
      " 43  stringency_index                       61143 non-null  float64       \n",
      " 44  population                             70657 non-null  float64       \n",
      " 45  population_density                     66422 non-null  float64       \n",
      " 46  median_age                             64673 non-null  float64       \n",
      " 47  aged_65_older                          63927 non-null  float64       \n",
      " 48  aged_70_older                          64308 non-null  float64       \n",
      " 49  gdp_per_capita                         64837 non-null  float64       \n",
      " 50  extreme_poverty                        44299 non-null  float64       \n",
      " 51  cardiovasc_death_rate                  65446 non-null  float64       \n",
      " 52  diabetes_prevalence                    66255 non-null  float64       \n",
      " 53  female_smokers                         51524 non-null  float64       \n",
      " 54  male_smokers                           50817 non-null  float64       \n",
      " 55  handwashing_facilities                 32832 non-null  float64       \n",
      " 56  hospital_beds_per_thousand             59983 non-null  float64       \n",
      " 57  life_expectancy                        67523 non-null  float64       \n",
      " 58  human_development_index                65425 non-null  float64       \n",
      "dtypes: datetime64[ns](1), float64(54), object(4)\n",
      "memory usage: 32.0+ MB\n",
      "None\n",
      "===============================================================================\n",
      "\n"
     ]
    }
   ],
   "source": [
    "print ('What datatypes are available?\\n')\n",
    "print(df_covid_src.info())\n",
    "\n",
    "print ('===============================================================================\\n')"
   ]
  },
  {
   "source": [
    "**Note:** *icu_patients* holds the number of COVID-19 patients in intensive care units (ICUs) on a given day"
   ],
   "cell_type": "markdown",
   "metadata": {}
  },
  {
   "cell_type": "code",
   "execution_count": 7,
   "metadata": {},
   "outputs": [
    {
     "output_type": "stream",
     "name": "stdout",
     "text": [
      "Check why some columns contain objects:\n===============================================\n\ncolumn: iso_code\n\n['AFG' 'OWID_AFR' 'ALB' 'DZA' 'AND' 'AGO' 'AIA' 'ATG' 'ARG' 'ARM'\n 'OWID_ASI' 'AUS' 'AUT' 'AZE' 'BHS' 'BHR' 'BGD' 'BRB' 'BLR' 'BEL' 'BLZ'\n 'BEN' 'BMU' 'BTN' 'BOL' 'BIH' 'BWA' 'BRA' 'BRN' 'BGR' 'BFA' 'BDI' 'KHM'\n 'CMR' 'CAN' 'CPV' 'CYM' 'CAF' 'TCD' 'CHL' 'CHN' 'COL' 'COM' 'COG' 'CRI'\n 'CIV' 'HRV' 'CUB' 'CYP' 'CZE' 'COD' 'DNK' 'DJI' 'DMA' 'DOM' 'ECU' 'EGY'\n 'SLV' 'GNQ' 'ERI' 'EST' 'SWZ' 'ETH' 'OWID_EUR' 'OWID_EUN' 'FRO' 'FLK'\n 'FJI' 'FIN' 'FRA' 'GAB' 'GMB' 'GEO' 'DEU' 'GHA' 'GIB' 'GRC' 'GRL' 'GRD'\n 'GTM' 'GGY' 'GIN' 'GNB' 'GUY' 'HTI' 'HND' 'HKG' 'HUN' 'ISL' 'IND' 'IDN'\n 'OWID_INT' 'IRN' 'IRQ' 'IRL' 'IMN' 'ISR' 'ITA' 'JAM' 'JPN' 'JEY' 'JOR'\n 'KAZ' 'KEN' 'OWID_KOS' 'KWT' 'KGZ' 'LAO' 'LVA' 'LBN' 'LSO' 'LBR' 'LBY'\n 'LIE' 'LTU' 'LUX' 'MAC' 'MDG' 'MWI' 'MYS' 'MDV' 'MLI' 'MLT' 'MHL' 'MRT'\n 'MUS' 'MEX' 'FSM' 'MDA' 'MCO' 'MNG' 'MNE' 'MAR' 'MOZ' 'MMR' 'NAM' 'NPL'\n 'NLD' 'NZL' 'NIC' 'NER' 'NGA' 'OWID_NAM' 'MKD' 'OWID_NCY' 'NOR'\n 'OWID_OCE' 'OMN' 'PAK' 'PSE' 'PAN' 'PNG' 'PRY' 'PER' 'PHL' 'POL' 'PRT'\n 'QAT' 'ROU' 'RUS' 'RWA' 'SHN' 'KNA' 'LCA' 'VCT' 'WSM' 'SMR' 'STP' 'SAU'\n 'SEN' 'SRB' 'SYC' 'SLE' 'SGP' 'SVK' 'SVN' 'SLB' 'SOM' 'ZAF' 'OWID_SAM'\n 'KOR' 'SSD' 'ESP' 'LKA' 'SDN' 'SUR' 'SWE' 'CHE' 'SYR' 'TWN' 'TJK' 'TZA'\n 'THA' 'TLS' 'TGO' 'TTO' 'TUN' 'TUR' 'TCA' 'UGA' 'UKR' 'ARE' 'GBR' 'USA'\n 'URY' 'UZB' 'VUT' 'VAT' 'VEN' 'VNM' 'OWID_WRL' 'YEM' 'ZMB' 'ZWE']\n\n===============================================\n\ncolumn: continent\n\n['Asia' nan 'Europe' 'Africa' 'North America' 'South America' 'Oceania']\n\n===============================================\n\ncolumn: tests_units\n\n[nan 'tests performed' 'people tested' 'units unclear' 'samples tested']\n"
     ]
    }
   ],
   "source": [
    "print ('Check why some columns contain objects:')\n",
    "print ('===============================================\\n')\n",
    "print ('column: iso_code\\n')\n",
    "print (df_covid_src.iso_code.unique())\n",
    "print ('\\n===============================================\\n')\n",
    "print ('column: continent\\n')\n",
    "print (df_covid_src.continent.unique())\n",
    "print ('\\n===============================================\\n')\n",
    "print ('column: tests_units\\n')\n",
    "print (df_covid_src.tests_units.unique())"
   ]
  },
  {
   "source": [
    "### GDP"
   ],
   "cell_type": "markdown",
   "metadata": {}
  },
  {
   "cell_type": "code",
   "execution_count": 8,
   "metadata": {},
   "outputs": [
    {
     "output_type": "stream",
     "name": "stdout",
     "text": [
      "What datatypes are available?\n\n<class 'pandas.core.frame.DataFrame'>\nRangeIndex: 357 entries, 0 to 356\nData columns (total 8 columns):\n #   Column      Non-Null Count  Dtype  \n---  ------      --------------  -----  \n 0   LOCATION    357 non-null    object \n 1   INDICATOR   357 non-null    object \n 2   SUBJECT     357 non-null    object \n 3   MEASURE     357 non-null    object \n 4   FREQUENCY   357 non-null    object \n 5   TIME        357 non-null    object \n 6   Value       357 non-null    float64\n 7   Flag Codes  60 non-null     object \ndtypes: float64(1), object(7)\nmemory usage: 22.4+ KB\nNone\n===============================================================================\n\n"
     ]
    }
   ],
   "source": [
    "print ('What datatypes are available?\\n')\n",
    "print(df_gdp_src.info())\n",
    "\n",
    "print ('===============================================================================\\n')"
   ]
  },
  {
   "cell_type": "code",
   "execution_count": 9,
   "metadata": {},
   "outputs": [
    {
     "output_type": "stream",
     "name": "stdout",
     "text": [
      "Check why some columns contain objects:\n===============================================\n\ncolumn: LOCATION\n\n['KOR' 'AUS' 'ISL' 'GBR' 'EST' 'DNK' 'ESP' 'JPN' 'NOR' 'HUN' 'CAN' 'ARG'\n 'SVN' 'FIN' 'BRA' 'NLD' 'USA' 'SVK' 'MEX' 'BEL' 'ISR' 'TUR' 'IND' 'LVA'\n 'CZE' 'POL' 'DEU' 'IDN' 'LUX' 'ZAF' 'RUS' 'PRT' 'ITA' 'AUT' 'IRL' 'CHE'\n 'NZL' 'CHN' 'CHL' 'SWE' 'FRA' 'GRC' 'COL' 'LTU' 'SAU' 'BGR' 'ROU']\n\n===============================================\n\ncolumn: INDICATOR\n\n['QGDP']\n\n===============================================\n\ncolumn: SUBJECT\n\n['TOT']\n"
     ]
    }
   ],
   "source": [
    "print ('Check why some columns contain objects:')\n",
    "print ('===============================================\\n')\n",
    "print ('column: LOCATION\\n')\n",
    "print (df_gdp_src.LOCATION.unique())\n",
    "print ('\\n===============================================\\n')\n",
    "print ('column: INDICATOR\\n')\n",
    "print (df_gdp_src.INDICATOR.unique())\n",
    "print ('\\n===============================================\\n')\n",
    "print ('column: SUBJECT\\n')\n",
    "print (df_gdp_src.SUBJECT.unique())"
   ]
  },
  {
   "source": [
    "## Is a restructuring of the data necessary?\n",
    "\n",
    "Short answer: **YES**\n",
    "\n",
    "- New grouping with year, month, week (, maybe for continents as well)\n",
    "- Subsets for each location and *special* owid-datasets (aggregated data: e.g. OWID_ASI for continent asia)\n",
    "- merge gdp with covid dataset\n",
    "- The data contains a lot of outliers"
   ],
   "cell_type": "markdown",
   "metadata": {}
  }
 ]
}