{
 "metadata": {
  "language_info": {
   "codemirror_mode": {
    "name": "ipython",
    "version": 3
   },
   "file_extension": ".py",
   "mimetype": "text/x-python",
   "name": "python",
   "nbconvert_exporter": "python",
   "pygments_lexer": "ipython3",
   "version": "3.9.1-final"
  },
  "orig_nbformat": 2,
  "kernelspec": {
   "name": "python3",
   "display_name": "Python 3",
   "language": "python"
  }
 },
 "nbformat": 4,
 "nbformat_minor": 2,
 "cells": [
  {
   "source": [
    "# Data Preparation\n",
    "\n",
    "- Is everything prepared for modeling?\n",
    "- What result does analyzing the data return?\n",
    "- Is reduction of the data possible?"
   ],
   "cell_type": "markdown",
   "metadata": {}
  },
  {
   "cell_type": "code",
   "execution_count": 13,
   "metadata": {},
   "outputs": [
    {
     "output_type": "stream",
     "name": "stdout",
     "text": [
      "The dataset contains 71050 rows and 59 columns.\n\n===============================================================================\n\nThe columns contain data about: \n\nIndex(['iso_code', 'continent', 'location', 'date', 'total_cases', 'new_cases',\n       'new_cases_smoothed', 'total_deaths', 'new_deaths',\n       'new_deaths_smoothed', 'total_cases_per_million',\n       'new_cases_per_million', 'new_cases_smoothed_per_million',\n       'total_deaths_per_million', 'new_deaths_per_million',\n       'new_deaths_smoothed_per_million', 'reproduction_rate', 'icu_patients',\n       'icu_patients_per_million', 'hosp_patients',\n       'hosp_patients_per_million', 'weekly_icu_admissions',\n       'weekly_icu_admissions_per_million', 'weekly_hosp_admissions',\n       'weekly_hosp_admissions_per_million', 'new_tests', 'total_tests',\n       'total_tests_per_thousand', 'new_tests_per_thousand',\n       'new_tests_smoothed', 'new_tests_smoothed_per_thousand',\n       'positive_rate', 'tests_per_case', 'tests_units', 'total_vaccinations',\n       'people_vaccinated', 'people_fully_vaccinated', 'new_vaccinations',\n       'new_vaccinations_smoothed', 'total_vaccinations_per_hundred',\n       'people_vaccinated_per_hundred', 'people_fully_vaccinated_per_hundred',\n       'new_vaccinations_smoothed_per_million', 'stringency_index',\n       'population', 'population_density', 'median_age', 'aged_65_older',\n       'aged_70_older', 'gdp_per_capita', 'extreme_poverty',\n       'cardiovasc_death_rate', 'diabetes_prevalence', 'female_smokers',\n       'male_smokers', 'handwashing_facilities', 'hospital_beds_per_thousand',\n       'life_expectancy', 'human_development_index'],\n      dtype='object')\n===============================================================================\n\nThe aritmethic description: \n\n        total_cases      new_cases  new_cases_smoothed  total_deaths  \\\ncount  7.013700e+04   70135.000000        69134.000000  6.110200e+04   \nmean   5.930349e+05    5093.242946         5113.797512  1.800995e+04   \nstd    4.192604e+06   32196.415478        31964.805542  1.047246e+05   \nmin    1.000000e+00  -46076.000000        -1121.714000  1.000000e+00   \n25%    6.930000e+02       1.000000            5.571000  3.500000e+01   \n50%    7.367000e+03      57.000000           68.071500  2.320000e+02   \n75%    8.042900e+04     650.000000          677.678250  2.174750e+03   \nmax    1.125532e+08  879905.000000       738686.000000  2.497405e+06   \n\n         new_deaths  new_deaths_smoothed  total_cases_per_million  \\\ncount  61260.000000         69134.000000             69753.000000   \nmean     131.084819           114.802444              6959.325671   \nstd      720.737582           656.418769             13828.774318   \nmin    -1918.000000          -232.143000                 0.001000   \n25%        0.000000             0.000000               132.940000   \n50%        2.000000             1.000000               999.953000   \n75%       16.000000            11.857000              6312.720000   \nmax    17841.000000         14378.000000            139455.122000   \n\n       new_cases_per_million  new_cases_smoothed_per_million  \\\ncount           69751.000000                    68755.000000   \nmean               64.319280                       64.305465   \nstd               165.975938                      139.201840   \nmin             -2153.437000                     -276.825000   \n25%                 0.124000                        0.960000   \n50%                 6.029000                        8.011000   \n75%                53.389000                       60.464500   \nmax              8652.658000                     2648.773000   \n\n       total_deaths_per_million  ...  gdp_per_capita  extreme_poverty  \\\ncount              60731.000000  ...    64837.000000     44299.000000   \nmean                 167.189682  ...    19138.953771        13.244884   \nstd                  299.694746  ...    19682.095801        19.908555   \nmin                    0.001000  ...      661.240000         0.100000   \n25%                    5.344000  ...     4466.507000         0.500000   \n50%                   29.304000  ...    12951.839000         2.000000   \n75%                  175.726000  ...    27216.445000        21.200000   \nmax                 2150.981000  ...   116935.600000        77.600000   \n\n       cardiovasc_death_rate  diabetes_prevalence  female_smokers  \\\ncount           65446.000000         66255.000000    51524.000000   \nmean              256.998651             7.790651       10.562025   \nstd               118.341088             3.926570       10.413462   \nmin                79.370000             0.990000        0.100000   \n25%               167.295000             5.290000        1.900000   \n50%               242.648000             7.110000        6.300000   \n75%               329.635000            10.080000       19.300000   \nmax               724.417000            30.530000       44.000000   \n\n       male_smokers  handwashing_facilities  hospital_beds_per_thousand  \\\ncount  50817.000000            32832.000000                59983.000000   \nmean      32.649993               51.037604                    3.038290   \nstd       13.461682               31.769635                    2.468393   \nmin        7.700000                1.188000                    0.100000   \n25%       21.600000               20.859000                    1.300000   \n50%       31.400000               49.839000                    2.400000   \n75%       41.100000               83.241000                    4.000000   \nmax       78.100000               98.999000                   13.800000   \n\n       life_expectancy  human_development_index  \ncount     67523.000000             65425.000000  \nmean         73.139189                 0.728152  \nstd           7.550140                 0.150142  \nmin          53.280000                 0.394000  \n25%          67.440000                 0.602000  \n50%          74.530000                 0.748000  \n75%          78.730000                 0.848000  \nmax          86.750000                 0.957000  \n\n[8 rows x 54 columns]\nThe dataset contains 357 rows and 8 columns.\n\n===============================================================================\n\nThe columns contain data about: \n\nIndex(['LOCATION', 'INDICATOR', 'SUBJECT', 'MEASURE', 'FREQUENCY', 'TIME',\n       'Value', 'Flag Codes'],\n      dtype='object')\n===============================================================================\n\nThe aritmethic description: \n\n            Value\ncount  357.000000\nmean    -0.090433\nstd      5.631810\nmin    -25.248100\n25%     -0.803969\n50%      0.383760\n75%      1.088440\nmax     21.940150\nWhat datatypes are available?\n\n<class 'pandas.core.frame.DataFrame'>\nRangeIndex: 71050 entries, 0 to 71049\nData columns (total 59 columns):\n #   Column                                 Non-Null Count  Dtype         \n---  ------                                 --------------  -----         \n 0   iso_code                               71050 non-null  object        \n 1   continent                              67515 non-null  object        \n 2   location                               71050 non-null  object        \n 3   date                                   71050 non-null  datetime64[ns]\n 4   total_cases                            70137 non-null  float64       \n 5   new_cases                              70135 non-null  float64       \n 6   new_cases_smoothed                     69134 non-null  float64       \n 7   total_deaths                           61102 non-null  float64       \n 8   new_deaths                             61260 non-null  float64       \n 9   new_deaths_smoothed                    69134 non-null  float64       \n 10  total_cases_per_million                69753 non-null  float64       \n 11  new_cases_per_million                  69751 non-null  float64       \n 12  new_cases_smoothed_per_million         68755 non-null  float64       \n 13  total_deaths_per_million               60731 non-null  float64       \n 14  new_deaths_per_million                 60889 non-null  float64       \n 15  new_deaths_smoothed_per_million        68755 non-null  float64       \n 16  reproduction_rate                      56919 non-null  float64       \n 17  icu_patients                           7473 non-null   float64       \n 18  icu_patients_per_million               7473 non-null   float64       \n 19  hosp_patients                          8882 non-null   float64       \n 20  hosp_patients_per_million              8882 non-null   float64       \n 21  weekly_icu_admissions                  702 non-null    float64       \n 22  weekly_icu_admissions_per_million      702 non-null    float64       \n 23  weekly_hosp_admissions                 1155 non-null   float64       \n 24  weekly_hosp_admissions_per_million     1155 non-null   float64       \n 25  new_tests                              32012 non-null  float64       \n 26  total_tests                            31878 non-null  float64       \n 27  total_tests_per_thousand               31878 non-null  float64       \n 28  new_tests_per_thousand                 32012 non-null  float64       \n 29  new_tests_smoothed                     36506 non-null  float64       \n 30  new_tests_smoothed_per_thousand        36506 non-null  float64       \n 31  positive_rate                          35076 non-null  float64       \n 32  tests_per_case                         34557 non-null  float64       \n 33  tests_units                            37791 non-null  object        \n 34  total_vaccinations                     2585 non-null   float64       \n 35  people_vaccinated                      2175 non-null   float64       \n 36  people_fully_vaccinated                1400 non-null   float64       \n 37  new_vaccinations                       2192 non-null   float64       \n 38  new_vaccinations_smoothed              3742 non-null   float64       \n 39  total_vaccinations_per_hundred         2585 non-null   float64       \n 40  people_vaccinated_per_hundred          2175 non-null   float64       \n 41  people_fully_vaccinated_per_hundred    1400 non-null   float64       \n 42  new_vaccinations_smoothed_per_million  3742 non-null   float64       \n 43  stringency_index                       61143 non-null  float64       \n 44  population                             70657 non-null  float64       \n 45  population_density                     66422 non-null  float64       \n 46  median_age                             64673 non-null  float64       \n 47  aged_65_older                          63927 non-null  float64       \n 48  aged_70_older                          64308 non-null  float64       \n 49  gdp_per_capita                         64837 non-null  float64       \n 50  extreme_poverty                        44299 non-null  float64       \n 51  cardiovasc_death_rate                  65446 non-null  float64       \n 52  diabetes_prevalence                    66255 non-null  float64       \n 53  female_smokers                         51524 non-null  float64       \n 54  male_smokers                           50817 non-null  float64       \n 55  handwashing_facilities                 32832 non-null  float64       \n 56  hospital_beds_per_thousand             59983 non-null  float64       \n 57  life_expectancy                        67523 non-null  float64       \n 58  human_development_index                65425 non-null  float64       \ndtypes: datetime64[ns](1), float64(54), object(4)\nmemory usage: 32.0+ MB\nNone\n===============================================================================\n\nCheck why some columns contain objects:\n===============================================\n\ncolumn: iso_code\n\n['AFG' 'OWID_AFR' 'ALB' 'DZA' 'AND' 'AGO' 'AIA' 'ATG' 'ARG' 'ARM'\n 'OWID_ASI' 'AUS' 'AUT' 'AZE' 'BHS' 'BHR' 'BGD' 'BRB' 'BLR' 'BEL' 'BLZ'\n 'BEN' 'BMU' 'BTN' 'BOL' 'BIH' 'BWA' 'BRA' 'BRN' 'BGR' 'BFA' 'BDI' 'KHM'\n 'CMR' 'CAN' 'CPV' 'CYM' 'CAF' 'TCD' 'CHL' 'CHN' 'COL' 'COM' 'COG' 'CRI'\n 'CIV' 'HRV' 'CUB' 'CYP' 'CZE' 'COD' 'DNK' 'DJI' 'DMA' 'DOM' 'ECU' 'EGY'\n 'SLV' 'GNQ' 'ERI' 'EST' 'SWZ' 'ETH' 'OWID_EUR' 'OWID_EUN' 'FRO' 'FLK'\n 'FJI' 'FIN' 'FRA' 'GAB' 'GMB' 'GEO' 'DEU' 'GHA' 'GIB' 'GRC' 'GRL' 'GRD'\n 'GTM' 'GGY' 'GIN' 'GNB' 'GUY' 'HTI' 'HND' 'HKG' 'HUN' 'ISL' 'IND' 'IDN'\n 'OWID_INT' 'IRN' 'IRQ' 'IRL' 'IMN' 'ISR' 'ITA' 'JAM' 'JPN' 'JEY' 'JOR'\n 'KAZ' 'KEN' 'OWID_KOS' 'KWT' 'KGZ' 'LAO' 'LVA' 'LBN' 'LSO' 'LBR' 'LBY'\n 'LIE' 'LTU' 'LUX' 'MAC' 'MDG' 'MWI' 'MYS' 'MDV' 'MLI' 'MLT' 'MHL' 'MRT'\n 'MUS' 'MEX' 'FSM' 'MDA' 'MCO' 'MNG' 'MNE' 'MAR' 'MOZ' 'MMR' 'NAM' 'NPL'\n 'NLD' 'NZL' 'NIC' 'NER' 'NGA' 'OWID_NAM' 'MKD' 'OWID_NCY' 'NOR'\n 'OWID_OCE' 'OMN' 'PAK' 'PSE' 'PAN' 'PNG' 'PRY' 'PER' 'PHL' 'POL' 'PRT'\n 'QAT' 'ROU' 'RUS' 'RWA' 'SHN' 'KNA' 'LCA' 'VCT' 'WSM' 'SMR' 'STP' 'SAU'\n 'SEN' 'SRB' 'SYC' 'SLE' 'SGP' 'SVK' 'SVN' 'SLB' 'SOM' 'ZAF' 'OWID_SAM'\n 'KOR' 'SSD' 'ESP' 'LKA' 'SDN' 'SUR' 'SWE' 'CHE' 'SYR' 'TWN' 'TJK' 'TZA'\n 'THA' 'TLS' 'TGO' 'TTO' 'TUN' 'TUR' 'TCA' 'UGA' 'UKR' 'ARE' 'GBR' 'USA'\n 'URY' 'UZB' 'VUT' 'VAT' 'VEN' 'VNM' 'OWID_WRL' 'YEM' 'ZMB' 'ZWE']\n\n===============================================\n\ncolumn: continent\n\n['Asia' nan 'Europe' 'Africa' 'North America' 'South America' 'Oceania']\n\n===============================================\n\ncolumn: tests_units\n\n[nan 'tests performed' 'people tested' 'units unclear' 'samples tested']\nWhat datatypes are available?\n\n<class 'pandas.core.frame.DataFrame'>\nRangeIndex: 357 entries, 0 to 356\nData columns (total 8 columns):\n #   Column      Non-Null Count  Dtype  \n---  ------      --------------  -----  \n 0   LOCATION    357 non-null    object \n 1   INDICATOR   357 non-null    object \n 2   SUBJECT     357 non-null    object \n 3   MEASURE     357 non-null    object \n 4   FREQUENCY   357 non-null    object \n 5   TIME        357 non-null    object \n 6   Value       357 non-null    float64\n 7   Flag Codes  60 non-null     object \ndtypes: float64(1), object(7)\nmemory usage: 22.4+ KB\nNone\n===============================================================================\n\nCheck why some columns contain objects:\n===============================================\n\ncolumn: LOCATION\n\n['KOR' 'AUS' 'ISL' 'GBR' 'EST' 'DNK' 'ESP' 'JPN' 'NOR' 'HUN' 'CAN' 'ARG'\n 'SVN' 'FIN' 'BRA' 'NLD' 'USA' 'SVK' 'MEX' 'BEL' 'ISR' 'TUR' 'IND' 'LVA'\n 'CZE' 'POL' 'DEU' 'IDN' 'LUX' 'ZAF' 'RUS' 'PRT' 'ITA' 'AUT' 'IRL' 'CHE'\n 'NZL' 'CHN' 'CHL' 'SWE' 'FRA' 'GRC' 'COL' 'LTU' 'SAU' 'BGR' 'ROU']\n\n===============================================\n\ncolumn: INDICATOR\n\n['QGDP']\n\n===============================================\n\ncolumn: SUBJECT\n\n['TOT']\n"
     ]
    }
   ],
   "source": [
    "##\n",
    "# IMPORTS\n",
    "#\n",
    "import os\n",
    "import urllib.request\n",
    "import pandas as pd\n",
    "import matplotlib.pyplot as plt\n",
    "import numpy as np\n",
    "#import datetime as dt\n",
    "\n",
    "##\n",
    "# SETTINGS\n",
    "#\n",
    "# Render all plots inline (instead of popup)\n",
    "%matplotlib inline\n",
    "\n",
    "##\n",
    "# RUN\n",
    "#\n",
    "# run previous notebook TODO: script\n",
    "%run ./01-data-understanding.ipynb"
   ]
  },
  {
   "cell_type": "code",
   "execution_count": 14,
   "metadata": {},
   "outputs": [],
   "source": [
    "## Data Standardization\n",
    "\n",
    "# apply z-score for standardization\n"
   ]
  },
  {
   "source": [
    "## Data Restructuring"
   ],
   "cell_type": "markdown",
   "metadata": {}
  },
  {
   "cell_type": "code",
   "execution_count": 15,
   "metadata": {
    "tags": []
   },
   "outputs": [],
   "source": [
    "# New columns with date split into year, month and weekday (can beused as index for plotting)\n",
    "df_covid_src['year'] = df_covid_src['date'].dt.year\n",
    "df_covid_src['month'] = df_covid_src['date'].dt.month\n",
    "df_covid_src['weekday'] = df_covid_src['date'].dt.weekday\n",
    "\n",
    "# create subsets by topic\n",
    "df_gdp_annual = df_covid_src[['continent', 'iso_code', 'location', 'year', 'month', 'weekday', 'date', 'gdp_per_capita', 'extreme_poverty', 'life_expectancy', 'human_development_index']]\n",
    "\n",
    "df_gdp_quarter = df_gdp_src[['LOCATION', 'TIME', 'Value']]\n",
    "\n",
    "df_covid = df_covid_src[['continent', 'iso_code', 'location', 'year', 'month', 'weekday', 'date', 'total_cases', 'new_cases', 'total_deaths', 'new_deaths', 'total_cases_per_million', 'new_cases_per_million', 'total_deaths_per_million', 'new_deaths_per_million', 'reproduction_rate', 'stringency_index']]\n",
    "\n",
    "df_vaccination = df_covid_src[['continent', 'iso_code', 'location', 'year', 'month', 'weekday', 'date','total_vaccinations', 'people_vaccinated', 'people_fully_vaccinated', 'new_vaccinations', 'total_vaccinations_per_hundred', 'people_vaccinated_per_hundred', 'people_fully_vaccinated_per_hundred']]\n",
    "\n",
    "df_tests = df_covid_src[['continent', 'iso_code', 'location', 'year', 'month', 'weekday', 'date', 'new_tests', 'total_tests', 'total_tests_per_thousand', 'new_tests_per_thousand', 'positive_rate', 'tests_per_case', 'tests_units']]\n",
    "\n",
    "df_population = df_covid_src[['continent', 'iso_code', 'location', 'year', 'month', 'weekday', 'date', 'population', 'population_density', 'median_age', 'aged_65_older', 'aged_70_older']]\n",
    "\n",
    "# create respective data folders if not existing already\n",
    "# create directories for topic subsets\n",
    "os.makedirs('./data/01-prep/by-topic/gdp', exist_ok=True)\n",
    "os.makedirs('./data/01-prep/by-topic/covid', exist_ok=True)\n",
    "os.makedirs('./data/01-prep/by-topic/vaccination', exist_ok=True)\n",
    "os.makedirs('./data/01-prep/by-topic/tests', exist_ok=True)\n",
    "os.makedirs('./data/01-prep/by-topic/population', exist_ok=True)\n",
    "# create directories for location subsets\n",
    "os.makedirs('./data/01-prep/by-location/gdp', exist_ok=True)\n",
    "os.makedirs('./data/01-prep/by-location/covid', exist_ok=True)\n",
    "os.makedirs('./data/01-prep/by-location/vaccination', exist_ok=True)\n",
    "os.makedirs('./data/01-prep/by-location/tests', exist_ok=True)\n",
    "os.makedirs('./data/01-prep/by-location/population', exist_ok=True)\n",
    "\n",
    "# export by topic\n",
    "exporter(df_gdp_annual, 'gdp-annual', './data/01-prep/by-topic/gdp/')\n",
    "exporter(df_gdp_quarter, 'gdp-quarter', './data/01-prep/by-topic/gdp/')\n",
    "exporter(df_covid, 'covid', './data/01-prep/by-topic/covid/')\n",
    "exporter(df_vaccination, 'vaccination', './data/01-prep/by-topic/vaccination/')\n",
    "exporter(df_tests, 'tests', './data/01-prep/by-topic/tests/')\n",
    "exporter(df_population, 'population', './data/01-prep/by-topic/population/')\n",
    "\n",
    "# split by location\n",
    "split_by_value(df_gdp_annual,'./data/01-prep/by-location/gdp/','location')\n",
    "split_by_value(df_covid,'./data/01-prep/by-location/covid/','location')\n",
    "split_by_value(df_vaccination,'./data/01-prep/by-location/vaccination/','location')\n",
    "split_by_value(df_tests,'./data/01-prep/by-location/tests/','location')\n",
    "split_by_value(df_population,'./data/01-prep/by-location/population/','location')"
   ]
  },
  {
   "source": [
    "## Average GDP per region"
   ],
   "cell_type": "markdown",
   "metadata": {}
  },
  {
   "cell_type": "code",
   "execution_count": 16,
   "metadata": {},
   "outputs": [],
   "source": [
    "# create dir\n",
    "os.makedirs('./data/01-prep/by-aggregation/gdp', exist_ok=True)\n",
    "\n",
    "# goupby region and calculate avg gdp\n",
    "df_gdp_grouped = df_gdp_annual.groupby(['location'])['gdp_per_capita'].mean().to_frame(name='gdp_average').reset_index()\n",
    "\n",
    "# export df\n",
    "exporter(df_gdp_grouped, 'gdp_grouped', './data/01-prep/by-aggregation/gdp/')"
   ]
  },
  {
   "source": [
    "## Most Covid-19 Cases per region"
   ],
   "cell_type": "markdown",
   "metadata": {}
  },
  {
   "cell_type": "code",
   "execution_count": 17,
   "metadata": {},
   "outputs": [],
   "source": [
    "# create dir\n",
    "os.makedirs('./data/01-prep/by-aggregation/covid', exist_ok=True)\n",
    "\n",
    "# goupby region and calculate avg gdp\n",
    "df_covid_grouped = df_covid.groupby(['location'])['new_cases_per_million'].sum().to_frame(name='covid_sum').reset_index()\n",
    "\n",
    "# export df\n",
    "exporter(df_covid_grouped, 'covid_grouped', './data/01-prep/by-aggregation/covid/')"
   ]
  },
  {
   "source": [
    "## Functions"
   ],
   "cell_type": "markdown",
   "metadata": {}
  },
  {
   "cell_type": "code",
   "execution_count": 18,
   "metadata": {},
   "outputs": [],
   "source": [
    "# create subsets\n",
    "def split_by_value(df, path, value):\n",
    "    # set groups\n",
    "    g = df.groupby(value)\n",
    "    # set directory \n",
    "    out_path = path\n",
    "    #create subset for every group\n",
    "    for x in g.groups:\n",
    "        # use iso for filename \n",
    "        iso = df[df[value] == x].head(1).iso_code.item()\n",
    "        # create tmp subset \n",
    "        df_sub = df[df[value] == x]\n",
    "        # export tmp subset\n",
    "        #df_sub.to_csv(out_path+iso+'.csv', sep=',', index=False)    \n",
    "        exporter(df_sub, iso, out_path)"
   ]
  },
  {
   "cell_type": "code",
   "execution_count": 19,
   "metadata": {},
   "outputs": [],
   "source": [
    "def exporter(data, filename, path):\n",
    "    data.to_csv(path+filename+'.csv', sep=',', index=False)"
   ]
  },
  {
   "cell_type": "code",
   "execution_count": null,
   "metadata": {},
   "outputs": [],
   "source": []
  }
 ]
}