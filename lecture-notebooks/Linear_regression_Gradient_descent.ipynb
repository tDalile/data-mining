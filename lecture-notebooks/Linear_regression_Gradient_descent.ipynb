{
 "cells": [
  {
   "cell_type": "code",
   "execution_count": 1,
   "metadata": {
    "collapsed": true
   },
   "outputs": [],
   "source": [
    "from numpy import *"
   ]
  },
  {
   "cell_type": "code",
   "execution_count": 2,
   "metadata": {
    "collapsed": true
   },
   "outputs": [],
   "source": [
    "# y = mx + b\n",
    "# m is slope, b is y-intercept\n",
    "def compute_error_for_line_given_points(b, m, points):\n",
    "    totalError = 0\n",
    "    for i in range(0, len(points)):\n",
    "        totalError += (points[i][1] - (m * points[i][0] + b)) ** 2\n",
    "    return totalError / float(len(points))"
   ]
  },
  {
   "cell_type": "code",
   "execution_count": 3,
   "metadata": {
    "collapsed": true
   },
   "outputs": [],
   "source": [
    "def step_gradient(b_current, m_current, points, learningRate):\n",
    "    b_gradient = 0\n",
    "    m_gradient = 0\n",
    "    N = float(len(points))\n",
    "    for i in range(0, len(points)):\n",
    "        b_gradient += -(2/N) * (points[i][1] - ((m_current*points[i][0]) + b_current))\n",
    "        m_gradient += -(2/N) * points[i][0] * (points[i][1] - ((m_current * points[i][0]) + b_current))\n",
    "    new_b = b_current - (learningRate * b_gradient)\n",
    "    new_m = m_current - (learningRate * m_gradient)\n",
    "    return [new_b, new_m]"
   ]
  },
  {
   "cell_type": "code",
   "execution_count": 4,
   "metadata": {
    "collapsed": false
   },
   "outputs": [],
   "source": [
    "def gradient_descent_runner(points, starting_b, starting_m, learning_rate, num_iterations):\n",
    "    b = starting_b\n",
    "    m = starting_m\n",
    "    for i in range(num_iterations):\n",
    "        b, m = step_gradient(b, m, array(points), learning_rate)\n",
    "        if i%100==0: print(\"After {0} iterations b = {1}, m = {2}, error = {3}\".format(i, b, m, compute_error_for_line_given_points(b, m, points)))\n",
    "    return [b, m]"
   ]
  },
  {
   "cell_type": "code",
   "execution_count": 5,
   "metadata": {
    "collapsed": false
   },
   "outputs": [
    {
     "name": "stdout",
     "output_type": "stream",
     "text": [
      "[[ 2.   1. ]\n",
      " [ 2.5  1.5]\n",
      " [ 3.   2.5]\n",
      " [ 4.   2. ]]\n"
     ]
    }
   ],
   "source": [
    "points = genfromtxt(\"data.csv\", delimiter=\";\")\n",
    "print(points)"
   ]
  },
  {
   "cell_type": "code",
   "execution_count": 6,
   "metadata": {
    "collapsed": false
   },
   "outputs": [
    {
     "name": "stdout",
     "output_type": "stream",
     "text": [
      "Starting gradient descent at b = 0, m = 1, error = 1.5625\n",
      "Running...\n",
      "After 0 iterations b = -0.225, m = 0.29999999999999993, error = 1.4306250000000007\n",
      "After 100 iterations b = 0.1461028604151818, m = 0.5528756691282481, error = 0.1688783133260912\n",
      "After 200 iterations b = 0.23107860381200682, m = 0.5275164531372067, error = 0.16795821813017342\n",
      "After 300 iterations b = 0.2583616871113972, m = 0.518575840307115, error = 0.16786774514546732\n",
      "After 400 iterations b = 0.2671964906739078, m = 0.5156752304603517, error = 0.16785825501305243\n",
      "After 500 iterations b = 0.2700578886490897, m = 0.5147357498764898, error = 0.16785725951976735\n",
      "After 600 iterations b = 0.2709846358112086, m = 0.5144314714464282, error = 0.16785715509478671\n",
      "After 700 iterations b = 0.2712847899238101, m = 0.5143329219957572, error = 0.16785714414084385\n",
      "After 800 iterations b = 0.27138200359237324, m = 0.5143010038802436, error = 0.16785714299180013\n",
      "After 900 iterations b = 0.2714134890758598, m = 0.514290666267089, error = 0.1678571428712681\n",
      "After 1000 iterations b = 0.2714236311857393, m = 0.5142873363131898, error = 0.16785714285865833\n"
     ]
    }
   ],
   "source": [
    "learning_rate = 0.1\n",
    "initial_b = 0 # initial y-intercept guess\n",
    "initial_m = 1 # initial slope guess\n",
    "num_iterations = 1000\n",
    "print(\"Starting gradient descent at b = {0}, m = {1}, error = {2}\".format(initial_b, initial_m, compute_error_for_line_given_points(initial_b, initial_m, points)))\n",
    "print(\"Running...\")\n",
    "[b, m] = gradient_descent_runner(points, initial_b, initial_m, learning_rate, num_iterations)\n",
    "print(\"After {0} iterations b = {1}, m = {2}, error = {3}\".format(num_iterations, b, m, compute_error_for_line_given_points(b, m, points)))\n",
    "\n"
   ]
  },
  {
   "cell_type": "code",
   "execution_count": 7,
   "metadata": {
    "collapsed": false
   },
   "outputs": [],
   "source": [
    "import numpy as np\n",
    "\n",
    "x = xvals = np.arange(0, 5, 0.1)\n",
    "y = m*x+b # computing the values of calculated function"
   ]
  },
  {
   "cell_type": "code",
   "execution_count": 8,
   "metadata": {
    "collapsed": false
   },
   "outputs": [
    {
     "data": {
      "image/png": "[encoded data removed]",
      "text/plain": [
       "<matplotlib.figure.Figure at 0x10e152f60>"
      ]
     },
     "metadata": {},
     "output_type": "display_data"
    }
   ],
   "source": [
    "import matplotlib.pyplot as plt\n",
    "%matplotlib inline\n",
    "\n",
    "# compose plot\n",
    "plt.plot(x,y) #show calculated function\n",
    "plt.plot(points[:,0],points[:,1],'co')\n",
    "plt.show() # show the plot"
   ]
  },
  {
   "cell_type": "code",
   "execution_count": null,
   "metadata": {
    "collapsed": true
   },
   "outputs": [],
   "source": []
  }
 ],
 "metadata": {
  "kernelspec": {
   "display_name": "Python 3",
   "language": "python",
   "name": "python3"
  },
  "language_info": {
   "codemirror_mode": {
    "name": "ipython",
    "version": 3
   },
   "file_extension": ".py",
   "mimetype": "text/x-python",
   "name": "python",
   "nbconvert_exporter": "python",
   "pygments_lexer": "ipython3",
   "version": "3.5.4"
  }
 },
 "nbformat": 4,
 "nbformat_minor": 2
}
