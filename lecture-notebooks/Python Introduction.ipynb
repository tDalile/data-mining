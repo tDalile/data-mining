{
 "cells": [
  {
   "cell_type": "markdown",
   "metadata": {},
   "source": [
    "# Python Introduction\n",
    "\n",
    "\"Python is a widely used high-level, general-purpose, interpreted, dynamic programming language.Its design philosophy emphasizes code readability, and its syntax allows programmers to express concepts in fewer lines of code than possible in languages such as C++ or Java.The language provides constructs intended to enable writing clear programs on both a small and large scale.\n",
    "\n",
    "Python supports multiple programming paradigms, including object-oriented, imperative and functional programming or procedural styles. It features a dynamic type system and automatic memory management and has a large and comprehensive standard library.\n",
    "\n",
    "Python interpreters are available for many operating systems, allowing Python code to run on a wide variety of systems. CPython, the reference implementation of Python, is free and open-source software and has a community-based development model, as do nearly all of its variant implementations. CPython is managed by the non-profit Python Software Foundation.\"[Wikipedia](https://en.wikipedia.org/wiki/Python_(programming_language))\n",
    "\n",
    "To start out in python you can use a python distribution like [Anaconda](https://www.continuum.io/downloads) or just create your own notebooks on this server. "
   ]
  },
  {
   "cell_type": "markdown",
   "metadata": {},
   "source": [
    "# Usage of this Notebook\n",
    "\n",
    "Comments in Python can be either single-line or multi-line comments.\n",
    "A multi-line comment is invoked with ''' and also ended with '''.\n",
    "\n",
    "For a single-line comment the hash-sign # is used.\n",
    "\n",
    "I will use line comments with double ## to give instructions and  single # to prepare code snippets for you. Example: "
   ]
  },
  {
   "cell_type": "code",
   "execution_count": 1,
   "metadata": {},
   "outputs": [],
   "source": [
    "# Please complete the following line to make a calculation with a result of 5.\n",
    "#Then remove the leading '#' and hit \"shift\"+\"enter\" to calculate the value of this cell.\n",
    "# 2 + \n",
    "    \n"
   ]
  },
  {
   "cell_type": "code",
   "execution_count": 3,
   "metadata": {},
   "outputs": [
    {
     "data": {
      "text/plain": [
       "5.0"
      ]
     },
     "execution_count": 3,
     "metadata": {},
     "output_type": "execute_result"
    }
   ],
   "source": [
    "## Since Python 3 an integer division returns a float and the rest is no longer lost\n",
    "\n",
    "15/3"
   ]
  },
  {
   "cell_type": "markdown",
   "metadata": {},
   "source": [
    "\n",
    "The equals sign (=) allows you to define variables. Variable type will be inferred from the assigned value.\n",
    "\n",
    "Variable names start with an alphabetical character or an underscore (\"\\_\") and can contain alphanumeric characters as well as additional underscores. \n",
    "\n",
    "There still are some words that are reserved by Python:\n",
    "+ and, as, assert, break, class, continue, def, del, elif, else, except, \n",
    "+ exec, finally, for, from, global, if, import, in, is, lambda, not, or,\n",
    "+ pass, print, raise, return, try, while, with, yield\n",
    "\n",
    "Trying to define a variable with a keyword will result in a syntax error.\n"
   ]
  },
  {
   "cell_type": "code",
   "execution_count": 4,
   "metadata": {},
   "outputs": [],
   "source": [
    "## Please define a variable my_string and assign a string to it\n",
    "#\n",
    "\n",
    "## A variable can be send to console via the print() function  \n",
    "\n",
    "\n",
    "## The Type of a variable can be found via the type() function\n",
    "\n"
   ]
  },
  {
   "cell_type": "code",
   "execution_count": 5,
   "metadata": {},
   "outputs": [],
   "source": [
    "## Please define a float variable my_float and print the variable and its type.\n",
    "\n",
    "#"
   ]
  },
  {
   "cell_type": "code",
   "execution_count": 6,
   "metadata": {},
   "outputs": [
    {
     "name": "stdout",
     "output_type": "stream",
     "text": [
      "Python concatenates strings\n",
      "A comma works too\n"
     ]
    }
   ],
   "source": [
    "## Strings can be concatenated with a + sign or by seperating the strings with a comma\n",
    "my_string = 'Python ' + 'concatenates ' + 'strings' \n",
    "print(my_string)\n",
    "print('A', 'comma', 'works', 'too')\n",
    "\n",
    "## String variables can also be joined like this.\n",
    "## Please define a new variable another_string. \n",
    "## Concatenate my_string and another_string and print both\n"
   ]
  },
  {
   "cell_type": "code",
   "execution_count": 7,
   "metadata": {},
   "outputs": [],
   "source": [
    "## Strings can also be concatenated with variables that have a different type\n",
    "## The variable my_float will be converted automatically \n",
    "\n",
    "## remove # when my_float is defined (see 2 steps above)\n",
    "#print(my_string, my_float)\n",
    "\n",
    "## Concatenating different types with the + does not work\n",
    "#print(\"hello\" + 3.14)"
   ]
  },
  {
   "cell_type": "markdown",
   "metadata": {},
   "source": [
    "# Tuples and lists\n",
    "Most of the times programs work not with a single value but with multiple values that should be stored in a collection. Tuples and lists are collections that allow access via an index (0-based). Both can store data of different types. The difference is that a tuple is immutable while a list can be altered after creation."
   ]
  },
  {
   "cell_type": "code",
   "execution_count": 8,
   "metadata": {},
   "outputs": [
    {
     "name": "stdout",
     "output_type": "stream",
     "text": [
      "(1, 'hi', 2.3)\n"
     ]
    }
   ],
   "source": [
    "test_tuple = (1, 'hi', 2.3)\n",
    "print(test_tuple)"
   ]
  },
  {
   "cell_type": "code",
   "execution_count": 9,
   "metadata": {
    "scrolled": true
   },
   "outputs": [
    {
     "name": "stdout",
     "output_type": "stream",
     "text": [
      "hi\n"
     ]
    }
   ],
   "source": [
    "## as the index is zero-based the second element will be returned\n",
    "print(test_tuple[1])"
   ]
  },
  {
   "cell_type": "code",
   "execution_count": 10,
   "metadata": {},
   "outputs": [
    {
     "name": "stdout",
     "output_type": "stream",
     "text": [
      "2.3\n"
     ]
    }
   ],
   "source": [
    "## use the negative index to access elements of a list or tuple in reverse order\n",
    "print(test_tuple[-1])"
   ]
  },
  {
   "cell_type": "code",
   "execution_count": 11,
   "metadata": {},
   "outputs": [
    {
     "name": "stdout",
     "output_type": "stream",
     "text": [
      "[2, 'hey']\n",
      "['hey', 'ho']\n"
     ]
    }
   ],
   "source": [
    "test_list = [2, 2, 'hey', 'ho']\n",
    "\n",
    "## in both cases it is possible to use the colon (:) to give an index range\n",
    "\n",
    "## Output will be second and third element (the latter index is excluded)\n",
    "print(test_list[1:3])\n",
    "\n",
    "## Output will be from third to last element\n",
    "print(test_list[2:])"
   ]
  },
  {
   "cell_type": "code",
   "execution_count": 12,
   "metadata": {},
   "outputs": [
    {
     "name": "stdout",
     "output_type": "stream",
     "text": [
      "[2, 'hey', 'ho', 'lets go']\n",
      "['hey', 'ho', 'lets go']\n"
     ]
    }
   ],
   "source": [
    "## as lists are not immutable it is possible to append additional items via\n",
    "## the .append() function\n",
    "\n",
    "test_list.append('lets go')\n",
    "\n",
    "## it is also possible to remove items from the list with the .remove() function\n",
    "## note that just the first occurence of 2 is removed\n",
    "test_list.remove(2)\n",
    "print(test_list)\n",
    "\n",
    "## to remove items based on their index the .pop() function is used\n",
    "test_list.pop(0)\n",
    "print(test_list)"
   ]
  },
  {
   "cell_type": "markdown",
   "metadata": {},
   "source": [
    "To see all the methods that are available on an object use the dir() function.  \n",
    "The entries that are surrounded by double underscores (\\__entry\\__) are private attributes and should not be used."
   ]
  },
  {
   "cell_type": "code",
   "execution_count": 13,
   "metadata": {
    "scrolled": true
   },
   "outputs": [
    {
     "data": {
      "text/plain": [
       "['__add__',\n",
       " '__class__',\n",
       " '__contains__',\n",
       " '__delattr__',\n",
       " '__delitem__',\n",
       " '__dir__',\n",
       " '__doc__',\n",
       " '__eq__',\n",
       " '__format__',\n",
       " '__ge__',\n",
       " '__getattribute__',\n",
       " '__getitem__',\n",
       " '__gt__',\n",
       " '__hash__',\n",
       " '__iadd__',\n",
       " '__imul__',\n",
       " '__init__',\n",
       " '__init_subclass__',\n",
       " '__iter__',\n",
       " '__le__',\n",
       " '__len__',\n",
       " '__lt__',\n",
       " '__mul__',\n",
       " '__ne__',\n",
       " '__new__',\n",
       " '__reduce__',\n",
       " '__reduce_ex__',\n",
       " '__repr__',\n",
       " '__reversed__',\n",
       " '__rmul__',\n",
       " '__setattr__',\n",
       " '__setitem__',\n",
       " '__sizeof__',\n",
       " '__str__',\n",
       " '__subclasshook__',\n",
       " 'append',\n",
       " 'clear',\n",
       " 'copy',\n",
       " 'count',\n",
       " 'extend',\n",
       " 'index',\n",
       " 'insert',\n",
       " 'pop',\n",
       " 'remove',\n",
       " 'reverse',\n",
       " 'sort']"
      ]
     },
     "execution_count": 13,
     "metadata": {},
     "output_type": "execute_result"
    }
   ],
   "source": [
    "dir(test_list)"
   ]
  },
  {
   "cell_type": "code",
   "execution_count": 14,
   "metadata": {},
   "outputs": [
    {
     "name": "stdout",
     "output_type": "stream",
     "text": [
      "Help on built-in function insert:\n",
      "\n",
      "insert(index, object, /) method of builtins.list instance\n",
      "    Insert object before index.\n",
      "\n"
     ]
    }
   ],
   "source": [
    "## to see additional information regarding those methods you can use\n",
    "## the help function. \n",
    "help(test_list.insert)"
   ]
  },
  {
   "cell_type": "code",
   "execution_count": 15,
   "metadata": {},
   "outputs": [],
   "source": [
    "## Create a list that contains all days of the week\n",
    "## start as follows and then use the .append() and .insert() functions shown above\n",
    "## there is one entry that does not belong, remove it! \n",
    "## print your result!\n",
    "days_of_the_week = ['monday', 'thursday', 'holiday', 'saturday']\n"
   ]
  },
  {
   "cell_type": "markdown",
   "metadata": {},
   "source": [
    "# for-loops\n",
    "Python gives you several ways to iterate over your objects. The classic for-loop uses a variable to count the progress and iterates until the length of the list is reached. The counting variable is then used as index for the list.\n",
    "\n",
    "Please note that Python uses a starting colon (:) and indentation to highlight codeblocks."
   ]
  },
  {
   "cell_type": "code",
   "execution_count": 19,
   "metadata": {},
   "outputs": [
    {
     "name": "stdout",
     "output_type": "stream",
     "text": [
      "List length: 4\n",
      "Range used: range(0, 4)\n"
     ]
    }
   ],
   "source": [
    "## Look up the len-function and determine the length of the list days_of_the_week with it\n",
    "## Store it in the variable list_length\n",
    "\n",
    "# list_length\n",
    "\n",
    "list_length = 4\n",
    "\n",
    "print(\"List length:\", list_length)\n",
    "print(\"Range used:\", range(list_length))\n",
    "\n",
    "for i in range(list_length):\n",
    "    pass"
   ]
  },
  {
   "cell_type": "markdown",
   "metadata": {},
   "source": [
    "But there is also another construct that works as a foreach-loop. The different elements will be extracted from the list and can be used directly."
   ]
  },
  {
   "cell_type": "code",
   "execution_count": 20,
   "metadata": {},
   "outputs": [
    {
     "name": "stdout",
     "output_type": "stream",
     "text": [
      "monday\n",
      "thursday\n",
      "holiday\n",
      "saturday\n"
     ]
    }
   ],
   "source": [
    "for day in days_of_the_week:\n",
    "    print(day)"
   ]
  },
  {
   "cell_type": "markdown",
   "metadata": {},
   "source": [
    "# Dictionaries\n",
    "Dictionaries are objects that store key:value pairs. They are also called \"mappings\" or \"associative arrays\". If you want to access a certain value you can use the key to retrieve a single element instead of iterating over the whole object. "
   ]
  },
  {
   "cell_type": "code",
   "execution_count": 21,
   "metadata": {},
   "outputs": [
    {
     "name": "stdout",
     "output_type": "stream",
     "text": [
      "Ricks age is 35\n"
     ]
    }
   ],
   "source": [
    "ages = {\"Rick\": 35, \"Bob\": 42, 'Linda': 33}\n",
    "\n",
    "print('Ricks age is', ages['Rick'])"
   ]
  },
  {
   "cell_type": "code",
   "execution_count": 22,
   "metadata": {},
   "outputs": [
    {
     "name": "stdout",
     "output_type": "stream",
     "text": [
      "The age of Rick is 35\n",
      "The age of Bob is 42\n",
      "The age of Linda is 33\n"
     ]
    }
   ],
   "source": [
    "## by standard a dictionary iterates over all the keys\n",
    "for person in ages:\n",
    "    print('The age of', person, 'is', ages[person])"
   ]
  },
  {
   "cell_type": "code",
   "execution_count": 23,
   "metadata": {},
   "outputs": [
    {
     "name": "stdout",
     "output_type": "stream",
     "text": [
      "The age of Rick is 35\n",
      "The age of Bob is 42\n",
      "The age of Linda is 33\n"
     ]
    }
   ],
   "source": [
    "## but using the .items() function of the dictionary it is also possible\n",
    "## to get keys and values directly\n",
    "for person, age in ages.items():\n",
    "    print('The age of', person, 'is', age)"
   ]
  },
  {
   "cell_type": "code",
   "execution_count": 24,
   "metadata": {},
   "outputs": [],
   "source": [
    "## create a new dictionary that contains of your 5 favorite fruits and their colors\n",
    "\n",
    "## print the color of your favorite\n"
   ]
  },
  {
   "cell_type": "markdown",
   "metadata": {},
   "source": [
    "# Functions\n",
    "To determine the list length we used the len() function before.\n",
    "Now we want to implement this in a simple method.  \n",
    "The function definition has the following schema:  \n",
    "def function_name(parameter1, optional_parameter2 = default_value):\n",
    "\n",
    "Followed by your code and the return of the result. \n",
    "\n",
    "It is possible to use optional parameters that are substituted by a default value if no value is given.  \n",
    "All optional parameters have to be at the end of your parameter list."
   ]
  },
  {
   "cell_type": "code",
   "execution_count": 25,
   "metadata": {},
   "outputs": [
    {
     "name": "stdout",
     "output_type": "stream",
     "text": [
      "4\n"
     ]
    }
   ],
   "source": [
    "def count_characters(word):\n",
    "    count = 0\n",
    "    for character in word:\n",
    "        count += 1\n",
    "    \n",
    "    ## a return value is optional, but we use it here\n",
    "    return count\n",
    "\n",
    "## the method is called by the print function\n",
    "print(count_characters('test'))"
   ]
  },
  {
   "cell_type": "code",
   "execution_count": 26,
   "metadata": {},
   "outputs": [],
   "source": [
    "## create your own function that prints all days of the week list\n",
    "\n",
    "def print_list(my_list):\n",
    "    ## pass is a python placeholder if you want to define a function without writing actual code yet\n",
    "    ## just delete or comment it out!\n",
    "    pass\n",
    "\n",
    "    ## iterate over your list\n",
    "    \n",
    "        ## print all the days, here we dont use a return value\n",
    "        \n",
    "print_list(days_of_the_week)"
   ]
  },
  {
   "cell_type": "markdown",
   "metadata": {},
   "source": [
    "# if-constructs\n",
    "The function takes a day of the week as input and prints if you have to work on this day.  \n",
    "Note that an optional parameter \"work_saturday\" is used that indicates if you have to work saturdays or not"
   ]
  },
  {
   "cell_type": "code",
   "execution_count": 27,
   "metadata": {},
   "outputs": [
    {
     "name": "stdout",
     "output_type": "stream",
     "text": [
      "yeah.. you have to work on Wednesday\n"
     ]
    }
   ],
   "source": [
    "def determine_workday(day, work_saturday = True):\n",
    "    \n",
    "    ## if indicates the check for a given condition\n",
    "    ## == compares the value of the variable day and the String 'Sunday'\n",
    "    if day == 'Sunday':\n",
    "        print('Nobody should work on Sunday!')\n",
    "    \n",
    "    ## elif is an else-if in python, the first condition was not met and another condition is tested\n",
    "    elif day == 'Saturday' and work_saturday == False:\n",
    "        print('Free saturdays are best saturdays')\n",
    "    \n",
    "    ## if no condition is met this code will be executed\n",
    "    else:\n",
    "        print('yeah.. you have to work on ' + day)\n",
    "    \n",
    "determine_workday('Wednesday')\n",
    "\n",
    "## make another call to the function where the day is Saturday and set the optional parameter to False \n"
   ]
  },
  {
   "cell_type": "markdown",
   "metadata": {},
   "source": [
    "# Further reading\n",
    "This tutorial is just a first introduction. To get a nice and comprehensive overview check out the following links:\n",
    "\n",
    "+ [Crash Course in Python for Scientists - Rick Müller ](http://nbviewer.jupyter.org/gist/rpmuller/5920182)\n",
    "+ [Python for Data Science - Joe McCarthy](http://nbviewer.jupyter.org/github/gumption/Python_for_Data_Science/blob/master/Python_for_Data_Science_all.ipynb)"
   ]
  }
 ],
 "metadata": {
  "kernelspec": {
   "display_name": "Python 3",
   "language": "python",
   "name": "python3"
  },
  "language_info": {
   "codemirror_mode": {
    "name": "ipython",
    "version": 3
   },
   "file_extension": ".py",
   "mimetype": "text/x-python",
   "name": "python",
   "nbconvert_exporter": "python",
   "pygments_lexer": "ipython3",
   "version": "3.7.3"
  }
 },
 "nbformat": 4,
 "nbformat_minor": 1
}
