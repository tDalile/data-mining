{
 "cells": [
  {
   "cell_type": "markdown",
   "metadata": {},
   "source": [
    "# Imports"
   ]
  },
  {
   "cell_type": "code",
   "execution_count": 10,
   "metadata": {},
   "outputs": [],
   "source": [
    "import numpy as np\n",
    "\n",
    "from sklearn.model_selection import train_test_split\n",
    "from sklearn.preprocessing import LabelEncoder\n",
    "from sklearn.tree import DecisionTreeClassifier\n",
    "from sklearn.metrics import accuracy_score\n",
    "from sklearn import tree, datasets\n",
    "from pprint import pprint\n",
    "import matplotlib.pyplot as plt\n",
    "from matplotlib.colors import ListedColormap\n"
   ]
  },
  {
   "cell_type": "markdown",
   "metadata": {},
   "source": [
    "# Data\n",
    "## Input data - 1st example iris data"
   ]
  },
  {
   "cell_type": "code",
   "execution_count": 11,
   "metadata": {},
   "outputs": [],
   "source": [
    "iris = datasets.load_iris()\n",
    "X = iris.data[:, :2]  ## only takes the first two features.\n",
    "y = iris.target"
   ]
  },
  {
   "cell_type": "code",
   "execution_count": 12,
   "metadata": {},
   "outputs": [
    {
     "data": {
      "text/plain": [
       "DecisionTreeClassifier(class_weight=None, criterion='entropy', max_depth=3,\n",
       "                       max_features=None, max_leaf_nodes=None,\n",
       "                       min_impurity_decrease=0.0, min_impurity_split=None,\n",
       "                       min_samples_leaf=2, min_samples_split=2,\n",
       "                       min_weight_fraction_leaf=0.0, presort=False,\n",
       "                       random_state=100, splitter='best')"
      ]
     },
     "execution_count": 12,
     "metadata": {},
     "output_type": "execute_result"
    }
   ],
   "source": [
    "## create an instance of DecisionTreeClassifier and fit the data.\n",
    "tree = DecisionTreeClassifier(criterion = \"entropy\", random_state = 100, max_depth=3, min_samples_leaf=2)\n",
    "tree.fit(X, y)"
   ]
  },
  {
   "cell_type": "code",
   "execution_count": 13,
   "metadata": {},
   "outputs": [
    {
     "data": {
      "image/png": "[encoded data removed]",
      "text/plain": [
       "<Figure size 432x288 with 1 Axes>"
      ]
     },
     "metadata": {
      "needs_background": "light"
     },
     "output_type": "display_data"
    }
   ],
   "source": [
    "h = .02  ## step size in the mesh\n",
    "\n",
    "## Create color maps\n",
    "cmap_light = ListedColormap(['#FFAAAA', '#AAFFAA', '#AAAAFF'])\n",
    "cmap_bold = ListedColormap(['#FF0000', '#00FF00', '#0000FF'])\n",
    "\n",
    "\n",
    "\n",
    "## Plot the decision boundary. For that, we will assign a color to each\n",
    "## point in the mesh [x_min, x_max]x[y_min, y_max].\n",
    "x_min, x_max = X[:, 0].min() - 1, X[:, 0].max() + 1\n",
    "y_min, y_max = X[:, 1].min() - 1, X[:, 1].max() + 1\n",
    "xx, yy = np.meshgrid(np.arange(x_min, x_max, h),\n",
    "                     np.arange(y_min, y_max, h))\n",
    "\n",
    "Z = tree.predict(np.c_[xx.ravel(), yy.ravel()])\n",
    "\n",
    "## Put the resulting areas into a color plot\n",
    "Z = Z.reshape(xx.shape)\n",
    "plt.figure()\n",
    "plt.pcolormesh(xx, yy, Z, cmap=cmap_light)\n",
    "\n",
    "## Plot also the training points\n",
    "plt.scatter(X[:, 0], X[:, 1], c=y, cmap=cmap_bold)\n",
    "plt.xlim(xx.min(), xx.max())\n",
    "plt.ylim(yy.min(), yy.max())\n",
    "\n",
    "plt.show()"
   ]
  },
  {
   "cell_type": "markdown",
   "metadata": {},
   "source": [
    "# Data\n",
    "## Input data - 2nd example tennis playing data"
   ]
  },
  {
   "cell_type": "code",
   "execution_count": 6,
   "metadata": {},
   "outputs": [
    {
     "name": "stdout",
     "output_type": "stream",
     "text": [
      "array([[5.1, 3.5],\n",
      "       [4.9, 3. ],\n",
      "       [4.7, 3.2],\n",
      "       [4.6, 3.1],\n",
      "       [5. , 3.6],\n",
      "       [5.4, 3.9],\n",
      "       [4.6, 3.4],\n",
      "       [5. , 3.4],\n",
      "       [4.4, 2.9],\n",
      "       [4.9, 3.1],\n",
      "       [5.4, 3.7],\n",
      "       [4.8, 3.4],\n",
      "       [4.8, 3. ],\n",
      "       [4.3, 3. ],\n",
      "       [5.8, 4. ],\n",
      "       [5.7, 4.4],\n",
      "       [5.4, 3.9],\n",
      "       [5.1, 3.5],\n",
      "       [5.7, 3.8],\n",
      "       [5.1, 3.8],\n",
      "       [5.4, 3.4],\n",
      "       [5.1, 3.7],\n",
      "       [4.6, 3.6],\n",
      "       [5.1, 3.3],\n",
      "       [4.8, 3.4],\n",
      "       [5. , 3. ],\n",
      "       [5. , 3.4],\n",
      "       [5.2, 3.5],\n",
      "       [5.2, 3.4],\n",
      "       [4.7, 3.2],\n",
      "       [4.8, 3.1],\n",
      "       [5.4, 3.4],\n",
      "       [5.2, 4.1],\n",
      "       [5.5, 4.2],\n",
      "       [4.9, 3.1],\n",
      "       [5. , 3.2],\n",
      "       [5.5, 3.5],\n",
      "       [4.9, 3.6],\n",
      "       [4.4, 3. ],\n",
      "       [5.1, 3.4],\n",
      "       [5. , 3.5],\n",
      "       [4.5, 2.3],\n",
      "       [4.4, 3.2],\n",
      "       [5. , 3.5],\n",
      "       [5.1, 3.8],\n",
      "       [4.8, 3. ],\n",
      "       [5.1, 3.8],\n",
      "       [4.6, 3.2],\n",
      "       [5.3, 3.7],\n",
      "       [5. , 3.3],\n",
      "       [7. , 3.2],\n",
      "       [6.4, 3.2],\n",
      "       [6.9, 3.1],\n",
      "       [5.5, 2.3],\n",
      "       [6.5, 2.8],\n",
      "       [5.7, 2.8],\n",
      "       [6.3, 3.3],\n",
      "       [4.9, 2.4],\n",
      "       [6.6, 2.9],\n",
      "       [5.2, 2.7],\n",
      "       [5. , 2. ],\n",
      "       [5.9, 3. ],\n",
      "       [6. , 2.2],\n",
      "       [6.1, 2.9],\n",
      "       [5.6, 2.9],\n",
      "       [6.7, 3.1],\n",
      "       [5.6, 3. ],\n",
      "       [5.8, 2.7],\n",
      "       [6.2, 2.2],\n",
      "       [5.6, 2.5],\n",
      "       [5.9, 3.2],\n",
      "       [6.1, 2.8],\n",
      "       [6.3, 2.5],\n",
      "       [6.1, 2.8],\n",
      "       [6.4, 2.9],\n",
      "       [6.6, 3. ],\n",
      "       [6.8, 2.8],\n",
      "       [6.7, 3. ],\n",
      "       [6. , 2.9],\n",
      "       [5.7, 2.6],\n",
      "       [5.5, 2.4],\n",
      "       [5.5, 2.4],\n",
      "       [5.8, 2.7],\n",
      "       [6. , 2.7],\n",
      "       [5.4, 3. ],\n",
      "       [6. , 3.4],\n",
      "       [6.7, 3.1],\n",
      "       [6.3, 2.3],\n",
      "       [5.6, 3. ],\n",
      "       [5.5, 2.5],\n",
      "       [5.5, 2.6],\n",
      "       [6.1, 3. ],\n",
      "       [5.8, 2.6],\n",
      "       [5. , 2.3],\n",
      "       [5.6, 2.7],\n",
      "       [5.7, 3. ],\n",
      "       [5.7, 2.9],\n",
      "       [6.2, 2.9],\n",
      "       [5.1, 2.5],\n",
      "       [5.7, 2.8],\n",
      "       [6.3, 3.3],\n",
      "       [5.8, 2.7],\n",
      "       [7.1, 3. ],\n",
      "       [6.3, 2.9],\n",
      "       [6.5, 3. ],\n",
      "       [7.6, 3. ],\n",
      "       [4.9, 2.5],\n",
      "       [7.3, 2.9],\n",
      "       [6.7, 2.5],\n",
      "       [7.2, 3.6],\n",
      "       [6.5, 3.2],\n",
      "       [6.4, 2.7],\n",
      "       [6.8, 3. ],\n",
      "       [5.7, 2.5],\n",
      "       [5.8, 2.8],\n",
      "       [6.4, 3.2],\n",
      "       [6.5, 3. ],\n",
      "       [7.7, 3.8],\n",
      "       [7.7, 2.6],\n",
      "       [6. , 2.2],\n",
      "       [6.9, 3.2],\n",
      "       [5.6, 2.8],\n",
      "       [7.7, 2.8],\n",
      "       [6.3, 2.7],\n",
      "       [6.7, 3.3],\n",
      "       [7.2, 3.2],\n",
      "       [6.2, 2.8],\n",
      "       [6.1, 3. ],\n",
      "       [6.4, 2.8],\n",
      "       [7.2, 3. ],\n",
      "       [7.4, 2.8],\n",
      "       [7.9, 3.8],\n",
      "       [6.4, 2.8],\n",
      "       [6.3, 2.8],\n",
      "       [6.1, 2.6],\n",
      "       [7.7, 3. ],\n",
      "       [6.3, 3.4],\n",
      "       [6.4, 3.1],\n",
      "       [6. , 3. ],\n",
      "       [6.9, 3.1],\n",
      "       [6.7, 3.1],\n",
      "       [6.9, 3.1],\n",
      "       [5.8, 2.7],\n",
      "       [6.8, 3.2],\n",
      "       [6.7, 3.3],\n",
      "       [6.7, 3. ],\n",
      "       [6.3, 2.5],\n",
      "       [6.5, 3. ],\n",
      "       [6.2, 3.4],\n",
      "       [5.9, 3. ]])\n",
      "array([0, 0, 0, 0, 0, 0, 0, 0, 0, 0, 0, 0, 0, 0, 0, 0, 0, 0, 0, 0, 0, 0,\n",
      "       0, 0, 0, 0, 0, 0, 0, 0, 0, 0, 0, 0, 0, 0, 0, 0, 0, 0, 0, 0, 0, 0,\n",
      "       0, 0, 0, 0, 0, 0, 1, 1, 1, 1, 1, 1, 1, 1, 1, 1, 1, 1, 1, 1, 1, 1,\n",
      "       1, 1, 1, 1, 1, 1, 1, 1, 1, 1, 1, 1, 1, 1, 1, 1, 1, 1, 1, 1, 1, 1,\n",
      "       1, 1, 1, 1, 1, 1, 1, 1, 1, 1, 1, 1, 2, 2, 2, 2, 2, 2, 2, 2, 2, 2,\n",
      "       2, 2, 2, 2, 2, 2, 2, 2, 2, 2, 2, 2, 2, 2, 2, 2, 2, 2, 2, 2, 2, 2,\n",
      "       2, 2, 2, 2, 2, 2, 2, 2, 2, 2, 2, 2, 2, 2, 2, 2, 2, 2])\n"
     ]
    }
   ],
   "source": [
    "attribute_names = (\"Play\", \"Outlook\", \"Temp\", \"Humidity\", \"Windy\")\n",
    "\n",
    "data = [(\"No\", \"Sunny\", \"Hot\", \"High\", \"False\"),\n",
    "        (\"No\", \"Sunny\", \"Hot\", \"High\", \"True\"),\n",
    "        (\"Yes\", \"Overcast\", \"Hot\", \"High\", \"False\"),\n",
    "        (\"Yes\", \"Rain\", \"Mild\", \"High\", \"False\"),\n",
    "        (\"Yes\", \"Rain\", \"Cool\", \"Normal\", \"False\"),\n",
    "        (\"No\", \"Rain\", \"Cool\", \"Normal\", \"True\"),\n",
    "        (\"Yes\", \"Overcast\", \"Cool\", \"Normal\", \"True\"),\n",
    "        (\"No\", \"Sunny\", \"Mild\", \"High\", \"False\"),\n",
    "        (\"Yes\", \"Sunny\", \"Cool\", \"Normal\", \"False\"),\n",
    "        (\"Yes\", \"Rain\", \"Mild\", \"Normal\", \"False\"),\n",
    "        (\"Yes\", \"Sunny\", \"Mild\", \"Normal\", \"True\"),\n",
    "        (\"Yes\", \"Overcast\", \"Mild\", \"High\", \"True\"),\n",
    "        (\"Yes\", \"Overcast\", \"Hot\", \"Normal\", \"False\"),\n",
    "        (\"No\", \"Rain\", \"Mild\", \"High\", \"True\"),\n",
    "       ]\n",
    "\n",
    "new_data = (\"?\", \"Rain\", \"Mild\", \"Normal\", \"False\")\n",
    "\n",
    "pprint(attribute_names)\n",
    "pprint(data)"
   ]
  },
  {
   "cell_type": "markdown",
   "metadata": {},
   "source": [
    "## Preprocessing\n",
    "\n",
    "Scikit learn is not able to handle strings, therefore the data needs to be converted to a numeric representation first."
   ]
  },
  {
   "cell_type": "code",
   "execution_count": 170,
   "metadata": {},
   "outputs": [
    {
     "name": "stdout",
     "output_type": "stream",
     "text": [
      "array([[ 5,  9,  3,  2,  1],\n",
      "       [ 5,  9,  3,  2, 10],\n",
      "       [11,  7,  3,  2,  1],\n",
      "       [11,  8,  4,  2,  1],\n",
      "       [11,  8,  0,  6,  1],\n",
      "       [ 5,  8,  0,  6, 10],\n",
      "       [11,  7,  0,  6, 10],\n",
      "       [ 5,  9,  4,  2,  1],\n",
      "       [11,  9,  0,  6,  1],\n",
      "       [11,  8,  4,  6,  1],\n",
      "       [11,  9,  4,  6, 10],\n",
      "       [11,  7,  4,  2, 10],\n",
      "       [11,  7,  3,  6,  1],\n",
      "       [ 5,  8,  4,  2, 10]])\n"
     ]
    }
   ],
   "source": [
    "## The label encoder creates a mapping for all Strings\n",
    "le = LabelEncoder()\n",
    "le.fit([\"Yes\", \"No\", \"Sunny\", \"Overcast\", \"Rain\", \"Hot\", \"Mild\", \"Cool\", \"High\", \"Normal\", \"True\", \"False\"])\n",
    "\n",
    "## Afterwards the data can be transformed with this mapping\n",
    "scikit_data = np.array([le.transform(row) for row in data])\n",
    "pprint(scikit_data)\n",
    "\n",
    "## use the following command to translate it back to Strings \n",
    "# list(le.inverse_transform(scikit_data)) \n",
    "\n",
    "## also translate the new data \n",
    "scikit_predict = np.array(le.transform(new_data[1:]))"
   ]
  },
  {
   "cell_type": "markdown",
   "metadata": {},
   "source": [
    "Split the data to seperate the different values for the attributes and the associated class."
   ]
  },
  {
   "cell_type": "code",
   "execution_count": 171,
   "metadata": {},
   "outputs": [
    {
     "name": "stdout",
     "output_type": "stream",
     "text": [
      "[[ 9  3  2  1]\n",
      " [ 9  3  2 10]\n",
      " [ 7  3  2  1]\n",
      " [ 8  4  2  1]\n",
      " [ 8  0  6  1]\n",
      " [ 8  0  6 10]\n",
      " [ 7  0  6 10]\n",
      " [ 9  4  2  1]\n",
      " [ 9  0  6  1]\n",
      " [ 8  4  6  1]\n",
      " [ 9  4  6 10]\n",
      " [ 7  4  2 10]\n",
      " [ 7  3  6  1]\n",
      " [ 8  4  2 10]] [ 5  5 11 11 11  5 11  5 11 11 11 11 11  5]\n"
     ]
    }
   ],
   "source": [
    "X = scikit_data[:, 1:5]\n",
    "Y = scikit_data[:, 0]\n",
    "print(X, Y)"
   ]
  },
  {
   "cell_type": "markdown",
   "metadata": {},
   "source": [
    "Split the data set into test and training data, for both X and Y"
   ]
  },
  {
   "cell_type": "code",
   "execution_count": 172,
   "metadata": {},
   "outputs": [],
   "source": [
    "X_train, X_test, y_train, y_test = train_test_split( X, Y, test_size = 0.1, random_state = 100)"
   ]
  },
  {
   "cell_type": "markdown",
   "metadata": {},
   "source": [
    "# Decision Tree\n",
    "Build the Decision Tree and use entropy / information gain as the criterion to select the next attribute. \n",
    "\n",
    "For more details on possible parameters see [Scikit-learn: Decision Trees](http://scikit-learn.org/stable/modules/generated/sklearn.tree.DecisionTreeClassifier.html#sklearn.tree.DecisionTreeClassifier)"
   ]
  },
  {
   "cell_type": "code",
   "execution_count": 184,
   "metadata": {},
   "outputs": [
    {
     "data": {
      "text/plain": [
       "DecisionTreeClassifier(class_weight=None, criterion='entropy', max_depth=3,\n",
       "            max_features=None, max_leaf_nodes=None,\n",
       "            min_impurity_split=1e-07, min_samples_leaf=2,\n",
       "            min_samples_split=2, min_weight_fraction_leaf=0.0,\n",
       "            presort=False, random_state=100, splitter='best')"
      ]
     },
     "execution_count": 184,
     "metadata": {},
     "output_type": "execute_result"
    }
   ],
   "source": [
    "clf_entropy = DecisionTreeClassifier(criterion = \"entropy\", random_state = 100,\n",
    " max_depth=3, min_samples_leaf=2)\n",
    "\n",
    "clf_entropy.fit(X_train, y_train)"
   ]
  },
  {
   "cell_type": "markdown",
   "metadata": {},
   "source": [
    "Once the decision tree is built the additional example can be classified."
   ]
  },
  {
   "cell_type": "code",
   "execution_count": 174,
   "metadata": {},
   "outputs": [
    {
     "name": "stdout",
     "output_type": "stream",
     "text": [
      "['Yes']\n"
     ]
    }
   ],
   "source": [
    "result = clf_entropy.predict(scikit_predict.reshape(1,-1))\n",
    "print(le.inverse_transform(result))"
   ]
  },
  {
   "cell_type": "markdown",
   "metadata": {},
   "source": [
    "## Prediction accuracy\n",
    "To measure the accuracy we use the test set and compare the predictions to the actual class labels."
   ]
  },
  {
   "cell_type": "code",
   "execution_count": 175,
   "metadata": {},
   "outputs": [
    {
     "name": "stdout",
     "output_type": "stream",
     "text": [
      "Accuracy is  100.0\n"
     ]
    }
   ],
   "source": [
    "y_pred_en = clf_entropy.predict(X_test)\n",
    "print(\"Accuracy is \", accuracy_score(y_test,y_pred_en)*100)"
   ]
  }
 ],
 "metadata": {
  "kernelspec": {
   "display_name": "Python 3",
   "language": "python",
   "name": "python3"
  },
  "language_info": {
   "codemirror_mode": {
    "name": "ipython",
    "version": 3
   },
   "file_extension": ".py",
   "mimetype": "text/x-python",
   "name": "python",
   "nbconvert_exporter": "python",
   "pygments_lexer": "ipython3",
   "version": "3.7.3"
  }
 },
 "nbformat": 4,
 "nbformat_minor": 1
}
