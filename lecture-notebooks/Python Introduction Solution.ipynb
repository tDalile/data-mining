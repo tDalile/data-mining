{
 "cells": [
  {
   "cell_type": "markdown",
   "metadata": {},
   "source": [
    "# Python Introduction\n",
    "\n",
    "\"Python is a widely used high-level, general-purpose, interpreted, dynamic programming language.Its design philosophy emphasizes code readability, and its syntax allows programmers to express concepts in fewer lines of code than possible in languages such as C++ or Java.The language provides constructs intended to enable writing clear programs on both a small and large scale.\n",
    "\n",
    "Python supports multiple programming paradigms, including object-oriented, imperative and functional programming or procedural styles. It features a dynamic type system and automatic memory management and has a large and comprehensive standard library.\n",
    "\n",
    "Python interpreters are available for many operating systems, allowing Python code to run on a wide variety of systems. CPython, the reference implementation of Python, is free and open-source software and has a community-based development model, as do nearly all of its variant implementations. CPython is managed by the non-profit Python Software Foundation.\"[Wikipedia](https://en.wikipedia.org/wiki/Python_(programming_language))\n",
    "\n",
    "To start out in python you can use a python distribution like [Anaconda](https://www.continuum.io/downloads) or just create your own notebooks on this server. "
   ]
  },
  {
   "cell_type": "markdown",
   "metadata": {},
   "source": [
    "# Usage of this Notebook\n",
    "\n",
    "- Comments in Python can be either single-line or multi-line comments.A multi-line comment is invoked with ''' and also ended with '''. For a single-line comment the hash-sign # is used. I will use line comments with double ## to give instructions and  single # to prepare code snippets for you. \n",
    "- The different snippets of code and markdown text are stored in \"cells\". You can choose to run all cells or just a selected cell in the \"cell\" menu. To run just the selected cell you can also hold \"Shift\" and hit \"Enter\". Make sure that all cells that define your variables were executed at least once.\n",
    "- Intermediate results are not lost, so you can change code and re-execute it without running everything again.\n",
    "\n",
    "Example: "
   ]
  },
  {
   "cell_type": "code",
   "execution_count": 1,
   "metadata": {},
   "outputs": [
    {
     "data": {
      "text/plain": [
       "5"
      ]
     },
     "execution_count": 1,
     "metadata": {},
     "output_type": "execute_result"
    }
   ],
   "source": [
    "## Please complete the following line to make a calculation with a result of 5.\n",
    "## Then remove the leading '#' and hit \"shift\"+\"enter\" to calculate the value of this cell.\n",
    "\n",
    "2 + 3\n",
    "\n",
    "\n"
   ]
  },
  {
   "cell_type": "code",
   "execution_count": 2,
   "metadata": {},
   "outputs": [
    {
     "data": {
      "text/plain": [
       "4.666666666666667"
      ]
     },
     "execution_count": 2,
     "metadata": {},
     "output_type": "execute_result"
    }
   ],
   "source": [
    "## Since Python 3 an integer division returns a float and the rest is no longer lost\n",
    "14/3"
   ]
  },
  {
   "cell_type": "markdown",
   "metadata": {},
   "source": [
    "# Variables\n",
    "The equals sign (=) allows you to define variables. Variable type will be inferred from the assigned value.\n",
    "\n",
    "Variable names start with an alphabetical character or an underscore (\"\\_\") and can contain alphanumeric characters as well as additional underscores. \n",
    "\n",
    "There still are some words that are reserved by Python:\n",
    "+ and, as, assert, break, class, continue, def, del, elif, else, except, \n",
    "+ exec, finally, for, from, global, if, import, in, is, lambda, not, or,\n",
    "+ pass, print, raise, return, try, while, with, yield\n",
    "\n",
    "Trying to define a variable with a keyword will result in a syntax error.\n"
   ]
  },
  {
   "cell_type": "code",
   "execution_count": 3,
   "metadata": {},
   "outputs": [
    {
     "name": "stdout",
     "output_type": "stream",
     "text": [
      "This is a test\n",
      "<class 'str'>\n"
     ]
    }
   ],
   "source": [
    "## Please define a variable my_string and assign a string to it\n",
    "#\n",
    "my_string = 'This is a test'\n",
    "## A variable can be send to console via the print() function\n",
    "## Please print the variable my_string\n",
    "#\n",
    "print(my_string)\n",
    "## The Type of a variable can be found via the type() function\n",
    "## You can chain functions, so the output of one function will be the input to another function\n",
    "## function2(function1(input))\n",
    "## Please print the type of my_string\n",
    "#\n",
    "print(type(my_string))"
   ]
  },
  {
   "cell_type": "code",
   "execution_count": 4,
   "metadata": {},
   "outputs": [
    {
     "name": "stdout",
     "output_type": "stream",
     "text": [
      "3.14 <class 'float'>\n"
     ]
    }
   ],
   "source": [
    "## Please define a float variable my_float and print the variable and its type.\n",
    "#\n",
    "my_float = 3.14\n",
    "print(my_float, type(my_float))"
   ]
  },
  {
   "cell_type": "code",
   "execution_count": 5,
   "metadata": {},
   "outputs": [
    {
     "name": "stdout",
     "output_type": "stream",
     "text": [
      "Python concatenates strings\n",
      "A comma works too\n",
      "Python concatenates strings and variables too\n"
     ]
    }
   ],
   "source": [
    "## Strings can be concatenated with a + sign or by seperating the strings with a comma\n",
    "my_string = 'Python ' + 'concatenates ' + 'strings' \n",
    "print(my_string)\n",
    "\n",
    "## String variables can also be joined like this.\n",
    "print('A', 'comma', 'works', 'too')\n",
    "\n",
    "## Please define a new variable another_string. \n",
    "## Concatenate my_string and another_string and print both\n",
    "another_string = 'and variables too'\n",
    "\n",
    "print(my_string, another_string)"
   ]
  },
  {
   "cell_type": "code",
   "execution_count": 6,
   "metadata": {},
   "outputs": [
    {
     "name": "stdout",
     "output_type": "stream",
     "text": [
      "Python concatenates strings 3.14\n"
     ]
    },
    {
     "ename": "TypeError",
     "evalue": "can only concatenate str (not \"float\") to str",
     "output_type": "error",
     "traceback": [
      "\u001b[0;31m---------------------------------------------------------------------------\u001b[0m",
      "\u001b[0;31mTypeError\u001b[0m                                 Traceback (most recent call last)",
      "\u001b[0;32m<ipython-input-6-eeead680c746>\u001b[0m in \u001b[0;36m<module>\u001b[0;34m\u001b[0m\n\u001b[1;32m      6\u001b[0m \u001b[0;34m\u001b[0m\u001b[0m\n\u001b[1;32m      7\u001b[0m \u001b[0;31m## Concatenating different types with the + does not work\u001b[0m\u001b[0;34m\u001b[0m\u001b[0;34m\u001b[0m\u001b[0;34m\u001b[0m\u001b[0m\n\u001b[0;32m----> 8\u001b[0;31m \u001b[0mprint\u001b[0m\u001b[0;34m(\u001b[0m\u001b[0;34m\"hello\"\u001b[0m \u001b[0;34m+\u001b[0m \u001b[0;36m3.14\u001b[0m\u001b[0;34m)\u001b[0m\u001b[0;34m\u001b[0m\u001b[0;34m\u001b[0m\u001b[0m\n\u001b[0m",
      "\u001b[0;31mTypeError\u001b[0m: can only concatenate str (not \"float\") to str"
     ]
    }
   ],
   "source": [
    "## Strings can also be concatenated with variables that have a different type\n",
    "## The variable my_float will be converted automatically \n",
    "\n",
    "## remove # when my_float is defined (see 2 steps above)\n",
    "print(my_string, my_float)\n",
    "\n",
    "## Concatenating different types with the + does not work\n",
    "print(\"hello\" + 3.14)"
   ]
  },
  {
   "cell_type": "markdown",
   "metadata": {},
   "source": [
    "# Tuples and lists\n",
    "Most of the times programs work not with a single value but with multiple values that should be stored in a collection. Tuples and lists are collections that allow access via an index (0-based). Both can store data of different types. The difference is that a tuple is immutable while a list can be altered after creation."
   ]
  },
  {
   "cell_type": "code",
   "execution_count": 7,
   "metadata": {},
   "outputs": [
    {
     "name": "stdout",
     "output_type": "stream",
     "text": [
      "(1, 'hi', 2.3)\n"
     ]
    }
   ],
   "source": [
    "test_tuple = (1, 'hi', 2.3)\n",
    "print(test_tuple)"
   ]
  },
  {
   "cell_type": "code",
   "execution_count": 8,
   "metadata": {},
   "outputs": [
    {
     "name": "stdout",
     "output_type": "stream",
     "text": [
      "hi\n",
      "Expected: hi\n"
     ]
    }
   ],
   "source": [
    "test_tuple = (1, 'hi', 2.3)\n",
    "## the index is zero-based and the access works as: tuple[index]\n",
    "## please print the second element\n",
    "#\n",
    "print(test_tuple[1])\n",
    "print('Expected:', 'hi')"
   ]
  },
  {
   "cell_type": "code",
   "execution_count": 9,
   "metadata": {
    "scrolled": true
   },
   "outputs": [
    {
     "name": "stdout",
     "output_type": "stream",
     "text": [
      "2.3\n",
      "Expected: 2.3\n"
     ]
    }
   ],
   "source": [
    "## a negative (-)index enables access to elements of a list or tuple in reverse order\n",
    "## Please print the last element of the tuple\n",
    "#\n",
    "print(test_tuple[-1])\n",
    "print('Expected:', 2.3)"
   ]
  },
  {
   "cell_type": "code",
   "execution_count": 10,
   "metadata": {},
   "outputs": [
    {
     "name": "stdout",
     "output_type": "stream",
     "text": [
      "[2, 'hey']\n",
      "Expected: [2, 'hey']\n",
      "['hey', 'ho']\n",
      "Expected: ['hey', 'ho']\n"
     ]
    }
   ],
   "source": [
    "test_list = [2, 2, 'hey', 'ho']\n",
    "\n",
    "## in both cases it is possible to use the colon (:) to give an index range\n",
    "## such as test_list[start:end]. Note that the latter index is excluded!\n",
    "## Please print the second and third element\n",
    "#\n",
    "print(test_list[1:3])\n",
    "print('Expected:', [2, 'hey'])\n",
    "\n",
    "## If you dont specify start or end it will start at the very first element / stop at the end of list/tuple\n",
    "## Please print from the third element to the last element\n",
    "#\n",
    "\n",
    "print(test_list[2:])\n",
    "print('Expected:', ['hey', 'ho'])"
   ]
  },
  {
   "cell_type": "code",
   "execution_count": 11,
   "metadata": {},
   "outputs": [
    {
     "name": "stdout",
     "output_type": "stream",
     "text": [
      "Added an element:\n",
      " [2, 2, 'hey', 'ho', 'lets go']\n"
     ]
    }
   ],
   "source": [
    "test_list = [2, 2, 'hey', 'ho']\n",
    "\n",
    "## as lists are not immutable it is possible to append additional items via\n",
    "## the .append() function\n",
    "## Please append the string \"lets go\"\n",
    "#\n",
    "test_list.append('lets go')\n",
    "print('Added an element:\\n', test_list)"
   ]
  },
  {
   "cell_type": "code",
   "execution_count": 12,
   "metadata": {},
   "outputs": [
    {
     "name": "stdout",
     "output_type": "stream",
     "text": [
      "Removed both 2´s:\n",
      " ['hey', 'ho', 'lets go']\n"
     ]
    }
   ],
   "source": [
    "test_list = [2, 2, 'hey', 'ho', 'lets go']\n",
    "\n",
    "## it is also possible to remove items from the list with the .remove() function\n",
    "## note that just the first occurence is removed\n",
    "## Please remove both occurences of '2'\n",
    "#\n",
    "test_list.remove(2)\n",
    "test_list.remove(2)\n",
    "\n",
    "print('Removed both 2´s:\\n', test_list)"
   ]
  },
  {
   "cell_type": "code",
   "execution_count": 13,
   "metadata": {},
   "outputs": [
    {
     "name": "stdout",
     "output_type": "stream",
     "text": [
      "Removed first item:\n",
      " ['ho', 'lets go']\n"
     ]
    }
   ],
   "source": [
    "test_list = ['hey', 'ho', 'lets go']\n",
    "\n",
    "## to remove items based on their index the .pop() function is used\n",
    "## Please remove the first item\n",
    "#\n",
    "test_list.pop(0)\n",
    "print('Removed first item:\\n', test_list)"
   ]
  },
  {
   "cell_type": "markdown",
   "metadata": {},
   "source": [
    "To see all the methods that are available on an object use the dir() function.  \n",
    "The entries that are surrounded by double underscores (\\__entry\\__) are private attributes and should not be used."
   ]
  },
  {
   "cell_type": "code",
   "execution_count": 14,
   "metadata": {
    "scrolled": true
   },
   "outputs": [
    {
     "data": {
      "text/plain": [
       "['__add__',\n",
       " '__class__',\n",
       " '__contains__',\n",
       " '__delattr__',\n",
       " '__delitem__',\n",
       " '__dir__',\n",
       " '__doc__',\n",
       " '__eq__',\n",
       " '__format__',\n",
       " '__ge__',\n",
       " '__getattribute__',\n",
       " '__getitem__',\n",
       " '__gt__',\n",
       " '__hash__',\n",
       " '__iadd__',\n",
       " '__imul__',\n",
       " '__init__',\n",
       " '__init_subclass__',\n",
       " '__iter__',\n",
       " '__le__',\n",
       " '__len__',\n",
       " '__lt__',\n",
       " '__mul__',\n",
       " '__ne__',\n",
       " '__new__',\n",
       " '__reduce__',\n",
       " '__reduce_ex__',\n",
       " '__repr__',\n",
       " '__reversed__',\n",
       " '__rmul__',\n",
       " '__setattr__',\n",
       " '__setitem__',\n",
       " '__sizeof__',\n",
       " '__str__',\n",
       " '__subclasshook__',\n",
       " 'append',\n",
       " 'clear',\n",
       " 'copy',\n",
       " 'count',\n",
       " 'extend',\n",
       " 'index',\n",
       " 'insert',\n",
       " 'pop',\n",
       " 'remove',\n",
       " 'reverse',\n",
       " 'sort']"
      ]
     },
     "execution_count": 14,
     "metadata": {},
     "output_type": "execute_result"
    }
   ],
   "source": [
    "dir(test_list)"
   ]
  },
  {
   "cell_type": "code",
   "execution_count": 15,
   "metadata": {},
   "outputs": [
    {
     "name": "stdout",
     "output_type": "stream",
     "text": [
      "Help on built-in function insert:\n",
      "\n",
      "insert(index, object, /) method of builtins.list instance\n",
      "    Insert object before index.\n",
      "\n"
     ]
    }
   ],
   "source": [
    "## to see additional information regarding those methods you can use\n",
    "## the help function. \n",
    "help(test_list.insert)"
   ]
  },
  {
   "cell_type": "code",
   "execution_count": 16,
   "metadata": {},
   "outputs": [
    {
     "name": "stdout",
     "output_type": "stream",
     "text": [
      "['monday', 'tuesday', 'wednesday', 'thursday', 'friday', 'saturday', 'sunday']\n"
     ]
    }
   ],
   "source": [
    "## Create a list that contains all days of the week\n",
    "## start as follows and then use the .append() and .insert() functions shown above\n",
    "## there is one entry that does not belong, remove it! \n",
    "## print your result!\n",
    "days_of_the_week = ['monday', 'thursday', 'holiday', 'saturday']\n",
    "\n",
    "days_of_the_week.insert(1, 'tuesday')\n",
    "days_of_the_week.insert(2, 'wednesday')\n",
    "days_of_the_week.insert(4, 'friday')\n",
    "days_of_the_week.append('sunday')\n",
    "days_of_the_week.remove('holiday')\n",
    "\n",
    "print(days_of_the_week)"
   ]
  },
  {
   "cell_type": "markdown",
   "metadata": {},
   "source": [
    "# Sets\n",
    "\n",
    "\"an unorderered collection of unique elements\""
   ]
  },
  {
   "cell_type": "code",
   "execution_count": 17,
   "metadata": {},
   "outputs": [
    {
     "name": "stdout",
     "output_type": "stream",
     "text": [
      "{1, 2, 3}\n",
      "{1, 2, 3, 4}\n"
     ]
    }
   ],
   "source": [
    "# define a Set\n",
    "a = {1,2,3}\n",
    "print(a)\n",
    "\n",
    "# add an element to a set\n",
    "a.add(4)\n",
    "\n",
    "print(a)"
   ]
  },
  {
   "cell_type": "code",
   "execution_count": 18,
   "metadata": {},
   "outputs": [
    {
     "name": "stdout",
     "output_type": "stream",
     "text": [
      "{1, 2, 3, 4}\n"
     ]
    }
   ],
   "source": [
    "a.add(4)\n",
    "\n",
    "print(a)"
   ]
  },
  {
   "cell_type": "code",
   "execution_count": 19,
   "metadata": {},
   "outputs": [
    {
     "name": "stdout",
     "output_type": "stream",
     "text": [
      "{3}\n"
     ]
    }
   ],
   "source": [
    "# what is common in two sets\n",
    "a = {1,2,3}\n",
    "b = {3,4,5}\n",
    "print(a.intersection(b))"
   ]
  },
  {
   "cell_type": "code",
   "execution_count": 20,
   "metadata": {},
   "outputs": [
    {
     "name": "stdout",
     "output_type": "stream",
     "text": [
      "{1, 2}\n"
     ]
    }
   ],
   "source": [
    "# what is the difference of two sets\n",
    "a = {1,2,3}\n",
    "b = {3,4,5}\n",
    "print(a.difference(b))"
   ]
  },
  {
   "cell_type": "code",
   "execution_count": 21,
   "metadata": {},
   "outputs": [
    {
     "name": "stdout",
     "output_type": "stream",
     "text": [
      "{1, 2, 3, 4, 5}\n"
     ]
    }
   ],
   "source": [
    "# show the distinct elements of a combined set\n",
    "a = {1,2,3}\n",
    "b = {3,4,5}\n",
    "c = a.union(b)\n",
    "print(c)"
   ]
  },
  {
   "cell_type": "markdown",
   "metadata": {},
   "source": [
    "# for-loops\n",
    "Python gives you several ways to iterate over your objects. The classic for-loop uses an auto-incrementing variable to count the progress and iterates until the length of the list is reached. The counting variable is then used as index for the list.\n",
    "\n",
    "Please note that Python uses a starting colon (:) and indentation to highlight codeblocks."
   ]
  },
  {
   "cell_type": "code",
   "execution_count": 22,
   "metadata": {},
   "outputs": [
    {
     "name": "stdout",
     "output_type": "stream",
     "text": [
      "List length: 7\n",
      "Range used: range(0, 7)\n",
      "monday\n",
      "tuesday\n",
      "wednesday\n",
      "thursday\n",
      "friday\n",
      "saturday\n",
      "sunday\n"
     ]
    }
   ],
   "source": [
    "## Look up the function to determine the length of the list days_of_the_week\n",
    "## Store it in the variable list_length\n",
    "\n",
    "list_length = len(days_of_the_week) \n",
    "\n",
    "print(\"List length:\", list_length)\n",
    "\n",
    "## The range is also zero-based and excludes the last element\n",
    "print(\"Range used:\", range(list_length))\n",
    "\n",
    "for i in range(list_length):\n",
    "    ## Please print for each iteration the corresponding day from days_of_the_week\n",
    "    ## remove \"pass\", it is a placeholder so unfinished code does not throw an error\n",
    "    print(days_of_the_week[i])\n",
    "    "
   ]
  },
  {
   "cell_type": "markdown",
   "metadata": {},
   "source": [
    "But there is also another construct that works as a foreach-loop. The different elements will be extracted from the list and can be used directly."
   ]
  },
  {
   "cell_type": "code",
   "execution_count": 23,
   "metadata": {},
   "outputs": [
    {
     "name": "stdout",
     "output_type": "stream",
     "text": [
      "monday\n",
      "tuesday\n",
      "wednesday\n",
      "thursday\n",
      "friday\n",
      "saturday\n",
      "sunday\n"
     ]
    }
   ],
   "source": [
    "for day in days_of_the_week:\n",
    "    print(day)"
   ]
  },
  {
   "cell_type": "markdown",
   "metadata": {},
   "source": [
    "# Dictionarys\n",
    "Dictionarys are objects that store key:value pairs. They are also called \"mappings\" or \"associative arrays\". If you want to access a certain value you can use the key to retrieve a single element instead of iterating over the whole object. "
   ]
  },
  {
   "cell_type": "code",
   "execution_count": 24,
   "metadata": {},
   "outputs": [
    {
     "name": "stdout",
     "output_type": "stream",
     "text": [
      "Ricks age is 35\n"
     ]
    }
   ],
   "source": [
    "ages = {\"Rick\": 35, \"Bob\": 42, 'Linda': 33}\n",
    "\n",
    "print('Ricks age is', ages['Rick'])"
   ]
  },
  {
   "cell_type": "code",
   "execution_count": 25,
   "metadata": {},
   "outputs": [
    {
     "name": "stdout",
     "output_type": "stream",
     "text": [
      "The age of Rick is 35\n",
      "The age of Bob is 42\n",
      "The age of Linda is 33\n"
     ]
    }
   ],
   "source": [
    "## by standard a dictionary iterates over all the keys\n",
    "for person in ages:\n",
    "    print('The age of', person, 'is', ages[person])"
   ]
  },
  {
   "cell_type": "code",
   "execution_count": 26,
   "metadata": {},
   "outputs": [
    {
     "name": "stdout",
     "output_type": "stream",
     "text": [
      "The age of Rick is 35\n",
      "The age of Bob is 42\n",
      "The age of Linda is 33\n"
     ]
    }
   ],
   "source": [
    "## but using the .items() function of the dictionary it is also possible\n",
    "## to get keys and values directly\n",
    "for person, age in ages.items():\n",
    "    print('The age of', person, 'is', age)"
   ]
  },
  {
   "cell_type": "code",
   "execution_count": 27,
   "metadata": {},
   "outputs": [
    {
     "name": "stdout",
     "output_type": "stream",
     "text": [
      "pink\n"
     ]
    }
   ],
   "source": [
    "## create a new dictionary that contains of your 5 favorite fruits and their colors\n",
    "fruits = {'Heidelbeere': 'blau',\n",
    "         'Erdbeere': 'rot',\n",
    "         'Apfel': 'grün',\n",
    "         'Ananas' : 'gelb',\n",
    "         'Himbeere' : 'pink'}\n",
    "## print the color of your favorite\n",
    "print(fruits['Himbeere'])"
   ]
  },
  {
   "cell_type": "markdown",
   "metadata": {},
   "source": [
    "# Functions\n",
    "To determine the list length we used the len() function before.\n",
    "Now we want to implement this in a simple method.  \n",
    "The function definition has the following schema:  \n",
    "def function_name(parameter1, optional_parameter2 = default_value):\n",
    "\n",
    "Followed by your code and the return of the result. \n",
    "\n",
    "It is possible to use optional parameters that are substituted by a default value if no value is given.  \n",
    "All optional parameters have to be at the end of your parameter list."
   ]
  },
  {
   "cell_type": "code",
   "execution_count": 28,
   "metadata": {},
   "outputs": [
    {
     "name": "stdout",
     "output_type": "stream",
     "text": [
      "4\n"
     ]
    }
   ],
   "source": [
    "def count_characters(word):\n",
    "    count = 0\n",
    "    for character in word:\n",
    "        count += 1\n",
    "    \n",
    "    return count\n",
    "\n",
    "## the method is called by the print function\n",
    "print(count_characters('test'))"
   ]
  },
  {
   "cell_type": "code",
   "execution_count": 31,
   "metadata": {},
   "outputs": [
    {
     "name": "stdout",
     "output_type": "stream",
     "text": [
      "monday\n",
      "tuesday\n",
      "wednesday\n",
      "thursday\n",
      "friday\n",
      "saturday\n",
      "sunday\n"
     ]
    }
   ],
   "source": [
    "days_of_the_week = ['monday',\n",
    "                    'tuesday',\n",
    "                    'wednesday',\n",
    "                    'thursday',\n",
    "                    'friday',\n",
    "                    'saturday',\n",
    "                    'sunday']\n",
    "## create your own function that prints all days of the week list\n",
    "\n",
    "def print_list(my_list):\n",
    "    ## pass is a python placeholder if you want to define a function without writing actual code yet\n",
    "    ## just delete or comment it out!\n",
    "\n",
    "    ## iterate over your list\n",
    "    for day in my_list:\n",
    "        print(day)\n",
    "       \n",
    "        #l the days, here we dont use a return value\n",
    "    return   \n",
    "\n",
    "print_list(days_of_the_week)"
   ]
  },
  {
   "cell_type": "markdown",
   "metadata": {},
   "source": [
    "# if-constructs\n",
    "The function takes a day of the week as input and prints if you have to work on this day.  \n",
    "Note that an optional parameter \"work_saturday\" is used that indicates if you have to work saturdays or not\n",
    "\n",
    "- \"if\" indicates the check for a given condition\n",
    "- \"elif\" is an else-if in python, the first condition was not met so another condition is tested\n",
    "- \"else\" defines what happens when none of the conditions are fulfilled\n",
    "- compare two values with value1 == value2, if both are equal it returns True otherwise False\n",
    "- chain several conditions with \"and\": if value1 == value2 and value3 == 'something'"
   ]
  },
  {
   "cell_type": "code",
   "execution_count": 34,
   "metadata": {},
   "outputs": [
    {
     "name": "stdout",
     "output_type": "stream",
     "text": [
      "You need to work on monday\n",
      "You dont have to work on a saturday\n"
     ]
    }
   ],
   "source": [
    "def determine_workday(day, work_saturday = True):\n",
    "\n",
    "    day = str.lower(day)\n",
    "    ## Please check if the given day is a sunday, nobody should have to work on a sunday!\n",
    "    ## Print the result\n",
    "    #\n",
    "    if day == 'sunday':\n",
    "        print('You dont have to work on a sunday')\n",
    "    \n",
    "    ## if the first condition was not met we need to test another condition\n",
    "    ## test if the day is a saturday and also if the person has to work on saturdays or not\n",
    "    ## Print the result\n",
    "    #\n",
    "    elif day == 'saturday' and work_saturday == False:\n",
    "        print('You dont have to work on a saturday')\n",
    "    \n",
    "    ## all other days are workdays, no need to check more conditions. \n",
    "    ## Please write the statement that handles all other cases\n",
    "    ## Print the result as well as the input workday\n",
    "    #\n",
    "    else:\n",
    "        print('You need to work on', day)\n",
    "    \n",
    "determine_workday('Monday')\n",
    "\n",
    "## make another call to the function where the day is Saturday and set the optional parameter to False \n",
    "\n",
    "determine_workday('Saturday', False)"
   ]
  },
  {
   "cell_type": "markdown",
   "metadata": {},
   "source": [
    "# Reading files\n",
    "\n",
    "Reading the content of a file is a common task. There are several native python ways to do this:\n",
    "\n",
    "- return a string with all the characters\n",
    "- return the next line\n",
    "- return a certain line\n",
    "- iterate over all lines"
   ]
  },
  {
   "cell_type": "markdown",
   "metadata": {},
   "source": [
    "## Complete read"
   ]
  },
  {
   "cell_type": "code",
   "execution_count": 35,
   "metadata": {},
   "outputs": [
    {
     "name": "stdout",
     "output_type": "stream",
     "text": [
      "Hello World \n",
      "This is our new text file \n",
      "and this is another line. \n",
      "Why? Because we can. \n"
     ]
    }
   ],
   "source": [
    "## the second parameter is the read-mode\n",
    "## r = read, w = write, a = append, r+ = read and write\n",
    "file = open('testfile.txt', 'r') \n",
    "\n",
    "print(file.read())"
   ]
  },
  {
   "cell_type": "markdown",
   "metadata": {},
   "source": [
    "## Print the next line"
   ]
  },
  {
   "cell_type": "code",
   "execution_count": 36,
   "metadata": {},
   "outputs": [
    {
     "name": "stdout",
     "output_type": "stream",
     "text": [
      "Hello World \n",
      "\n",
      "This is our new text file \n",
      "\n"
     ]
    }
   ],
   "source": [
    "file = open('testfile.txt', 'r')\n",
    "\n",
    "print(file.readline())\n",
    "print(file.readline())"
   ]
  },
  {
   "cell_type": "markdown",
   "metadata": {},
   "source": [
    "## Print a certain line"
   ]
  },
  {
   "cell_type": "code",
   "execution_count": 37,
   "metadata": {},
   "outputs": [
    {
     "name": "stdout",
     "output_type": "stream",
     "text": [
      "Hello World \n",
      "\n",
      "Why? Because we can. \n"
     ]
    }
   ],
   "source": [
    "file = open('testfile.txt', 'r') \n",
    "\n",
    "lines=file.readlines()\n",
    "print(lines[0])\n",
    "print(lines[3])"
   ]
  },
  {
   "cell_type": "markdown",
   "metadata": {},
   "source": [
    "## Read line by line"
   ]
  },
  {
   "cell_type": "code",
   "execution_count": 38,
   "metadata": {},
   "outputs": [
    {
     "name": "stdout",
     "output_type": "stream",
     "text": [
      "Hello World \n",
      "\n",
      "This is our new text file \n",
      "\n",
      "and this is another line. \n",
      "\n",
      "Why? Because we can. \n"
     ]
    }
   ],
   "source": [
    "file = open('testfile.txt', 'r') \n",
    "\n",
    "for line in file: \n",
    "    print(line)"
   ]
  },
  {
   "cell_type": "markdown",
   "metadata": {},
   "source": [
    "# Writing files\n",
    "\n",
    "The same open() function is also used to write a textfile. We will read and write in the following section. \n",
    "\n",
    "- use mode 'a' to append to a file, 'w' to overwrite existing content.\n",
    "- you need to .close() a file so buffer gets written to disk.\n",
    "- if a file you try to open does not exist it will be created."
   ]
  },
  {
   "cell_type": "code",
   "execution_count": 34,
   "metadata": {},
   "outputs": [],
   "source": [
    "## Please change the filename to your name, so your file does not get overwritten by someone else\n",
    "f = open(\"testfile2.txt\", \"a\")\n",
    "f.write(\"Now the file has more content!\\n\",)\n",
    "f.close()"
   ]
  },
  {
   "cell_type": "markdown",
   "metadata": {},
   "source": [
    "### Exercise\n",
    "\n",
    "- Please read the file \"testfile.txt\".\n",
    "- Count the number of characters per line\n",
    "- Write the line and the number of characters for this line in a new file, put your name in the filename so it does not get overwritten"
   ]
  },
  {
   "cell_type": "code",
   "execution_count": 39,
   "metadata": {},
   "outputs": [],
   "source": [
    "file = open('testfile.txt', 'r') \n",
    "\n",
    "result = []\n",
    "for line in file: \n",
    "    result.append((line, len(line)))\n",
    "    \n",
    "new_file = open('resultfile.txt', 'w')\n",
    "for line_tuple in result:\n",
    "    new_file.write(line_tuple[0] + str(line_tuple[1]) + '\\n')\n",
    "    \n",
    "new_file.close()"
   ]
  },
  {
   "cell_type": "markdown",
   "metadata": {},
   "source": [
    "# Further reading\n",
    "This tutorial is just a first introduction. To get a nice and comprehensive overview check out the following links:\n",
    "\n",
    "+ [Crash Course in Python for Scientists - Rick Müller ](http://nbviewer.jupyter.org/gist/rpmuller/5920182)\n",
    "+ [Python for Data Science - Joe McCarthy](http://nbviewer.jupyter.org/github/gumption/Python_for_Data_Science/blob/master/Python_for_Data_Science_all.ipynb)"
   ]
  },
  {
   "cell_type": "code",
   "execution_count": null,
   "metadata": {},
   "outputs": [],
   "source": []
  }
 ],
 "metadata": {
  "kernelspec": {
   "display_name": "Python 3",
   "language": "python",
   "name": "python3"
  },
  "language_info": {
   "codemirror_mode": {
    "name": "ipython",
    "version": 3
   },
   "file_extension": ".py",
   "mimetype": "text/x-python",
   "name": "python",
   "nbconvert_exporter": "python",
   "pygments_lexer": "ipython3",
   "version": "3.7.3"
  }
 },
 "nbformat": 4,
 "nbformat_minor": 1
}
