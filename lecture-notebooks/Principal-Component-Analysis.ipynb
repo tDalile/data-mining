{
 "cells": [
  {
   "cell_type": "markdown",
   "metadata": {},
   "source": [
    "# Principal Component Analysis\n",
    "\n",
    "# Introduction\n",
    "\"Principal component analysis (PCA) is a statistical procedure that uses an orthogonal transformation to convert a set of observations of possibly correlated variables into a set of values of linearly uncorrelated variables called principal components. The number of principal components is less than or equal to the number of original variables. This transformation is defined in such a way that the first principal component has the largest possible variance (that is, accounts for as much of the variability in the data as possible), and each succeeding component in turn has the highest variance possible under the constraint that it is orthogonal to the preceding components. The resulting vectors are an uncorrelated orthogonal basis set. PCA is sensitive to the relative scaling of the original variables.\"[see Wikipedia](https://en.wikipedia.org/wiki/Principal_component_analysis)\n",
    "\n",
    "This exercise will give step by step introductions to implement a PCA and also show a shortcut using scikit-learn. The exercise is based on work by [Sebastian Raschka](http://sebastianraschka.com). You find links to his articles in the further information section.\n",
    "\n",
    "\n",
    "# Preparation\n",
    "## required librarys\n",
    "* [numpy](http://www.numpy.org/)\n",
    "* [matplotlib](http://matplotlib.org/)\n",
    "* [scikit-learn](http://scikit-learn.org/stable/)\n",
    "\n",
    "Those packages can be installed via pip on linux. Please follow the documentation on the websites for different operating systems. On linux it is also possible to install Anaconda, which bundles all those packages and a lot more.  \n"
   ]
  },
  {
   "cell_type": "code",
   "execution_count": 45,
   "metadata": {},
   "outputs": [
    {
     "data": {
      "text/plain": [
       "array([[5.1, 3.5, 1.4, 0.2],\n",
       "       [4.9, 3. , 1.4, 0.2],\n",
       "       [4.7, 3.2, 1.3, 0.2],\n",
       "       [4.6, 3.1, 1.5, 0.2],\n",
       "       [5. , 3.6, 1.4, 0.2],\n",
       "       [5.4, 3.9, 1.7, 0.4],\n",
       "       [4.6, 3.4, 1.4, 0.3],\n",
       "       [5. , 3.4, 1.5, 0.2],\n",
       "       [4.4, 2.9, 1.4, 0.2],\n",
       "       [4.9, 3.1, 1.5, 0.1],\n",
       "       [5.4, 3.7, 1.5, 0.2],\n",
       "       [4.8, 3.4, 1.6, 0.2],\n",
       "       [4.8, 3. , 1.4, 0.1],\n",
       "       [4.3, 3. , 1.1, 0.1],\n",
       "       [5.8, 4. , 1.2, 0.2],\n",
       "       [5.7, 4.4, 1.5, 0.4],\n",
       "       [5.4, 3.9, 1.3, 0.4],\n",
       "       [5.1, 3.5, 1.4, 0.3],\n",
       "       [5.7, 3.8, 1.7, 0.3],\n",
       "       [5.1, 3.8, 1.5, 0.3],\n",
       "       [5.4, 3.4, 1.7, 0.2],\n",
       "       [5.1, 3.7, 1.5, 0.4],\n",
       "       [4.6, 3.6, 1. , 0.2],\n",
       "       [5.1, 3.3, 1.7, 0.5],\n",
       "       [4.8, 3.4, 1.9, 0.2],\n",
       "       [5. , 3. , 1.6, 0.2],\n",
       "       [5. , 3.4, 1.6, 0.4],\n",
       "       [5.2, 3.5, 1.5, 0.2],\n",
       "       [5.2, 3.4, 1.4, 0.2],\n",
       "       [4.7, 3.2, 1.6, 0.2],\n",
       "       [4.8, 3.1, 1.6, 0.2],\n",
       "       [5.4, 3.4, 1.5, 0.4],\n",
       "       [5.2, 4.1, 1.5, 0.1],\n",
       "       [5.5, 4.2, 1.4, 0.2],\n",
       "       [4.9, 3.1, 1.5, 0.2],\n",
       "       [5. , 3.2, 1.2, 0.2],\n",
       "       [5.5, 3.5, 1.3, 0.2],\n",
       "       [4.9, 3.6, 1.4, 0.1],\n",
       "       [4.4, 3. , 1.3, 0.2],\n",
       "       [5.1, 3.4, 1.5, 0.2],\n",
       "       [5. , 3.5, 1.3, 0.3],\n",
       "       [4.5, 2.3, 1.3, 0.3],\n",
       "       [4.4, 3.2, 1.3, 0.2],\n",
       "       [5. , 3.5, 1.6, 0.6],\n",
       "       [5.1, 3.8, 1.9, 0.4],\n",
       "       [4.8, 3. , 1.4, 0.3],\n",
       "       [5.1, 3.8, 1.6, 0.2],\n",
       "       [4.6, 3.2, 1.4, 0.2],\n",
       "       [5.3, 3.7, 1.5, 0.2],\n",
       "       [5. , 3.3, 1.4, 0.2],\n",
       "       [7. , 3.2, 4.7, 1.4],\n",
       "       [6.4, 3.2, 4.5, 1.5],\n",
       "       [6.9, 3.1, 4.9, 1.5],\n",
       "       [5.5, 2.3, 4. , 1.3],\n",
       "       [6.5, 2.8, 4.6, 1.5],\n",
       "       [5.7, 2.8, 4.5, 1.3],\n",
       "       [6.3, 3.3, 4.7, 1.6],\n",
       "       [4.9, 2.4, 3.3, 1. ],\n",
       "       [6.6, 2.9, 4.6, 1.3],\n",
       "       [5.2, 2.7, 3.9, 1.4],\n",
       "       [5. , 2. , 3.5, 1. ],\n",
       "       [5.9, 3. , 4.2, 1.5],\n",
       "       [6. , 2.2, 4. , 1. ],\n",
       "       [6.1, 2.9, 4.7, 1.4],\n",
       "       [5.6, 2.9, 3.6, 1.3],\n",
       "       [6.7, 3.1, 4.4, 1.4],\n",
       "       [5.6, 3. , 4.5, 1.5],\n",
       "       [5.8, 2.7, 4.1, 1. ],\n",
       "       [6.2, 2.2, 4.5, 1.5],\n",
       "       [5.6, 2.5, 3.9, 1.1],\n",
       "       [5.9, 3.2, 4.8, 1.8],\n",
       "       [6.1, 2.8, 4. , 1.3],\n",
       "       [6.3, 2.5, 4.9, 1.5],\n",
       "       [6.1, 2.8, 4.7, 1.2],\n",
       "       [6.4, 2.9, 4.3, 1.3],\n",
       "       [6.6, 3. , 4.4, 1.4],\n",
       "       [6.8, 2.8, 4.8, 1.4],\n",
       "       [6.7, 3. , 5. , 1.7],\n",
       "       [6. , 2.9, 4.5, 1.5],\n",
       "       [5.7, 2.6, 3.5, 1. ],\n",
       "       [5.5, 2.4, 3.8, 1.1],\n",
       "       [5.5, 2.4, 3.7, 1. ],\n",
       "       [5.8, 2.7, 3.9, 1.2],\n",
       "       [6. , 2.7, 5.1, 1.6],\n",
       "       [5.4, 3. , 4.5, 1.5],\n",
       "       [6. , 3.4, 4.5, 1.6],\n",
       "       [6.7, 3.1, 4.7, 1.5],\n",
       "       [6.3, 2.3, 4.4, 1.3],\n",
       "       [5.6, 3. , 4.1, 1.3],\n",
       "       [5.5, 2.5, 4. , 1.3],\n",
       "       [5.5, 2.6, 4.4, 1.2],\n",
       "       [6.1, 3. , 4.6, 1.4],\n",
       "       [5.8, 2.6, 4. , 1.2],\n",
       "       [5. , 2.3, 3.3, 1. ],\n",
       "       [5.6, 2.7, 4.2, 1.3],\n",
       "       [5.7, 3. , 4.2, 1.2],\n",
       "       [5.7, 2.9, 4.2, 1.3],\n",
       "       [6.2, 2.9, 4.3, 1.3],\n",
       "       [5.1, 2.5, 3. , 1.1],\n",
       "       [5.7, 2.8, 4.1, 1.3],\n",
       "       [6.3, 3.3, 6. , 2.5],\n",
       "       [5.8, 2.7, 5.1, 1.9],\n",
       "       [7.1, 3. , 5.9, 2.1],\n",
       "       [6.3, 2.9, 5.6, 1.8],\n",
       "       [6.5, 3. , 5.8, 2.2],\n",
       "       [7.6, 3. , 6.6, 2.1],\n",
       "       [4.9, 2.5, 4.5, 1.7],\n",
       "       [7.3, 2.9, 6.3, 1.8],\n",
       "       [6.7, 2.5, 5.8, 1.8],\n",
       "       [7.2, 3.6, 6.1, 2.5],\n",
       "       [6.5, 3.2, 5.1, 2. ],\n",
       "       [6.4, 2.7, 5.3, 1.9],\n",
       "       [6.8, 3. , 5.5, 2.1],\n",
       "       [5.7, 2.5, 5. , 2. ],\n",
       "       [5.8, 2.8, 5.1, 2.4],\n",
       "       [6.4, 3.2, 5.3, 2.3],\n",
       "       [6.5, 3. , 5.5, 1.8],\n",
       "       [7.7, 3.8, 6.7, 2.2],\n",
       "       [7.7, 2.6, 6.9, 2.3],\n",
       "       [6. , 2.2, 5. , 1.5],\n",
       "       [6.9, 3.2, 5.7, 2.3],\n",
       "       [5.6, 2.8, 4.9, 2. ],\n",
       "       [7.7, 2.8, 6.7, 2. ],\n",
       "       [6.3, 2.7, 4.9, 1.8],\n",
       "       [6.7, 3.3, 5.7, 2.1],\n",
       "       [7.2, 3.2, 6. , 1.8],\n",
       "       [6.2, 2.8, 4.8, 1.8],\n",
       "       [6.1, 3. , 4.9, 1.8],\n",
       "       [6.4, 2.8, 5.6, 2.1],\n",
       "       [7.2, 3. , 5.8, 1.6],\n",
       "       [7.4, 2.8, 6.1, 1.9],\n",
       "       [7.9, 3.8, 6.4, 2. ],\n",
       "       [6.4, 2.8, 5.6, 2.2],\n",
       "       [6.3, 2.8, 5.1, 1.5],\n",
       "       [6.1, 2.6, 5.6, 1.4],\n",
       "       [7.7, 3. , 6.1, 2.3],\n",
       "       [6.3, 3.4, 5.6, 2.4],\n",
       "       [6.4, 3.1, 5.5, 1.8],\n",
       "       [6. , 3. , 4.8, 1.8],\n",
       "       [6.9, 3.1, 5.4, 2.1],\n",
       "       [6.7, 3.1, 5.6, 2.4],\n",
       "       [6.9, 3.1, 5.1, 2.3],\n",
       "       [5.8, 2.7, 5.1, 1.9],\n",
       "       [6.8, 3.2, 5.9, 2.3],\n",
       "       [6.7, 3.3, 5.7, 2.5],\n",
       "       [6.7, 3. , 5.2, 2.3],\n",
       "       [6.3, 2.5, 5. , 1.9],\n",
       "       [6.5, 3. , 5.2, 2. ],\n",
       "       [6.2, 3.4, 5.4, 2.3],\n",
       "       [5.9, 3. , 5.1, 1.8]])"
      ]
     },
     "execution_count": 45,
     "metadata": {},
     "output_type": "execute_result"
    }
   ],
   "source": [
    "from sklearn import datasets\n",
    "iris = datasets.load_iris()\n",
    "iris.data"
   ]
  },
  {
   "cell_type": "code",
   "execution_count": 46,
   "metadata": {},
   "outputs": [
    {
     "data": {
      "text/plain": [
       "['sepal length (cm)',\n",
       " 'sepal width (cm)',\n",
       " 'petal length (cm)',\n",
       " 'petal width (cm)']"
      ]
     },
     "execution_count": 46,
     "metadata": {},
     "output_type": "execute_result"
    }
   ],
   "source": [
    "iris.feature_names"
   ]
  },
  {
   "cell_type": "code",
   "execution_count": 47,
   "metadata": {},
   "outputs": [
    {
     "data": {
      "text/plain": [
       "array([0, 0, 0, 0, 0, 0, 0, 0, 0, 0, 0, 0, 0, 0, 0, 0, 0, 0, 0, 0, 0, 0,\n",
       "       0, 0, 0, 0, 0, 0, 0, 0, 0, 0, 0, 0, 0, 0, 0, 0, 0, 0, 0, 0, 0, 0,\n",
       "       0, 0, 0, 0, 0, 0, 1, 1, 1, 1, 1, 1, 1, 1, 1, 1, 1, 1, 1, 1, 1, 1,\n",
       "       1, 1, 1, 1, 1, 1, 1, 1, 1, 1, 1, 1, 1, 1, 1, 1, 1, 1, 1, 1, 1, 1,\n",
       "       1, 1, 1, 1, 1, 1, 1, 1, 1, 1, 1, 1, 2, 2, 2, 2, 2, 2, 2, 2, 2, 2,\n",
       "       2, 2, 2, 2, 2, 2, 2, 2, 2, 2, 2, 2, 2, 2, 2, 2, 2, 2, 2, 2, 2, 2,\n",
       "       2, 2, 2, 2, 2, 2, 2, 2, 2, 2, 2, 2, 2, 2, 2, 2, 2, 2])"
      ]
     },
     "execution_count": 47,
     "metadata": {},
     "output_type": "execute_result"
    }
   ],
   "source": [
    "iris.target"
   ]
  },
  {
   "cell_type": "code",
   "execution_count": 48,
   "metadata": {},
   "outputs": [],
   "source": [
    "class0_sample = iris.data[iris.target==0]\n",
    "class1_sample = iris.data[iris.target==1]\n",
    "class2_sample = iris.data[iris.target==2]"
   ]
  },
  {
   "cell_type": "code",
   "execution_count": 49,
   "metadata": {},
   "outputs": [
    {
     "data": {
      "text/plain": [
       "array(['setosa', 'versicolor', 'virginica'], dtype='<U10')"
      ]
     },
     "execution_count": 49,
     "metadata": {},
     "output_type": "execute_result"
    }
   ],
   "source": [
    "class_names = iris.target_names\n",
    "class_names"
   ]
  },
  {
   "cell_type": "markdown",
   "metadata": {},
   "source": [
    "Plot the resulting data to get a first impression of the 3-dimensional distribution."
   ]
  },
  {
   "cell_type": "code",
   "execution_count": 50,
   "metadata": {},
   "outputs": [
    {
     "name": "stdout",
     "output_type": "stream",
     "text": [
      "Populating the interactive namespace from numpy and matplotlib\n"
     ]
    },
    {
     "data": {
      "image/png": "[encoded data removed]",
      "text/plain": [
       "<Figure size 576x576 with 1 Axes>"
      ]
     },
     "metadata": {
      "needs_background": "light"
     },
     "output_type": "display_data"
    }
   ],
   "source": [
    "%pylab inline\n",
    "from matplotlib import pyplot as plt\n",
    "from mpl_toolkits.mplot3d import Axes3D\n",
    "from mpl_toolkits.mplot3d import proj3d\n",
    "\n",
    "# create a new figure\n",
    "fig = plt.figure(figsize=(8,8))\n",
    "# add new axis for 3D output\n",
    "ax = fig.add_subplot(111, projection='3d')\n",
    "# set the plot title\n",
    "plt.title('Samples for classes')\n",
    "\n",
    "\n",
    "\n",
    "# plot the data, python notation class1_sample[0, :] means \n",
    "# \"take elements from row 0 of class1_sample and first to last column\n",
    "ax.plot(class0_sample[:,0], class0_sample[:,1], class0_sample[:,2], 'o', markersize=8, \\\n",
    "        color='blue', alpha=0.5, label=class_names[0])\n",
    "ax.plot(class1_sample[:,0], class1_sample[:,1], class1_sample[:,2], '^', markersize=8, \\\n",
    "        color='red', alpha=0.5, label=class_names[1])\n",
    "ax.plot(class2_sample[:,0], class2_sample[:,1], class2_sample[:,2], 'x', markersize=8, \\\n",
    "        alpha=0.5, color='green', label=class_names[2])\n",
    "\n",
    "# show legend at upper right corner\n",
    "ax.legend(loc='upper right')\n",
    "# set legend font size\n",
    "plt.rcParams['legend.fontsize'] = 10   \n",
    "\n",
    "plt.show()"
   ]
  },
  {
   "cell_type": "markdown",
   "metadata": {},
   "source": [
    "# Step by Step\n",
    "Principal Component Analysis consists of 6 general steps:\n",
    "1. Preprocessing\n",
    "2. Compute d-dimensional mean vector\n",
    "3. Compute covariance matrix\n",
    "4. Calculate eigenvectors and corresponding eigenvalues\n",
    "5. Choose best eigenvectors\n",
    "6. Project samples onto new subspace\n",
    "\n",
    "\n",
    "\n",
    "## 1. Preprocessing\n",
    "This might be handling missing values or removing outliers"
   ]
  },
  {
   "cell_type": "code",
   "execution_count": 51,
   "metadata": {},
   "outputs": [
    {
     "name": "stdout",
     "output_type": "stream",
     "text": [
      "[[5.1 3.5 1.4 0.2]\n",
      " [4.9 3.  1.4 0.2]\n",
      " [4.7 3.2 1.3 0.2]\n",
      " [4.6 3.1 1.5 0.2]\n",
      " [5.  3.6 1.4 0.2]\n",
      " [5.4 3.9 1.7 0.4]\n",
      " [4.6 3.4 1.4 0.3]\n",
      " [5.  3.4 1.5 0.2]\n",
      " [4.4 2.9 1.4 0.2]\n",
      " [4.9 3.1 1.5 0.1]\n",
      " [5.4 3.7 1.5 0.2]\n",
      " [4.8 3.4 1.6 0.2]\n",
      " [4.8 3.  1.4 0.1]\n",
      " [4.3 3.  1.1 0.1]\n",
      " [5.8 4.  1.2 0.2]\n",
      " [5.7 4.4 1.5 0.4]\n",
      " [5.4 3.9 1.3 0.4]\n",
      " [5.1 3.5 1.4 0.3]\n",
      " [5.7 3.8 1.7 0.3]\n",
      " [5.1 3.8 1.5 0.3]\n",
      " [5.4 3.4 1.7 0.2]\n",
      " [5.1 3.7 1.5 0.4]\n",
      " [4.6 3.6 1.  0.2]\n",
      " [5.1 3.3 1.7 0.5]\n",
      " [4.8 3.4 1.9 0.2]\n",
      " [5.  3.  1.6 0.2]\n",
      " [5.  3.4 1.6 0.4]\n",
      " [5.2 3.5 1.5 0.2]\n",
      " [5.2 3.4 1.4 0.2]\n",
      " [4.7 3.2 1.6 0.2]\n",
      " [4.8 3.1 1.6 0.2]\n",
      " [5.4 3.4 1.5 0.4]\n",
      " [5.2 4.1 1.5 0.1]\n",
      " [5.5 4.2 1.4 0.2]\n",
      " [4.9 3.1 1.5 0.2]\n",
      " [5.  3.2 1.2 0.2]\n",
      " [5.5 3.5 1.3 0.2]\n",
      " [4.9 3.6 1.4 0.1]\n",
      " [4.4 3.  1.3 0.2]\n",
      " [5.1 3.4 1.5 0.2]\n",
      " [5.  3.5 1.3 0.3]\n",
      " [4.5 2.3 1.3 0.3]\n",
      " [4.4 3.2 1.3 0.2]\n",
      " [5.  3.5 1.6 0.6]\n",
      " [5.1 3.8 1.9 0.4]\n",
      " [4.8 3.  1.4 0.3]\n",
      " [5.1 3.8 1.6 0.2]\n",
      " [4.6 3.2 1.4 0.2]\n",
      " [5.3 3.7 1.5 0.2]\n",
      " [5.  3.3 1.4 0.2]\n",
      " [7.  3.2 4.7 1.4]\n",
      " [6.4 3.2 4.5 1.5]\n",
      " [6.9 3.1 4.9 1.5]\n",
      " [5.5 2.3 4.  1.3]\n",
      " [6.5 2.8 4.6 1.5]\n",
      " [5.7 2.8 4.5 1.3]\n",
      " [6.3 3.3 4.7 1.6]\n",
      " [4.9 2.4 3.3 1. ]\n",
      " [6.6 2.9 4.6 1.3]\n",
      " [5.2 2.7 3.9 1.4]\n",
      " [5.  2.  3.5 1. ]\n",
      " [5.9 3.  4.2 1.5]\n",
      " [6.  2.2 4.  1. ]\n",
      " [6.1 2.9 4.7 1.4]\n",
      " [5.6 2.9 3.6 1.3]\n",
      " [6.7 3.1 4.4 1.4]\n",
      " [5.6 3.  4.5 1.5]\n",
      " [5.8 2.7 4.1 1. ]\n",
      " [6.2 2.2 4.5 1.5]\n",
      " [5.6 2.5 3.9 1.1]\n",
      " [5.9 3.2 4.8 1.8]\n",
      " [6.1 2.8 4.  1.3]\n",
      " [6.3 2.5 4.9 1.5]\n",
      " [6.1 2.8 4.7 1.2]\n",
      " [6.4 2.9 4.3 1.3]\n",
      " [6.6 3.  4.4 1.4]\n",
      " [6.8 2.8 4.8 1.4]\n",
      " [6.7 3.  5.  1.7]\n",
      " [6.  2.9 4.5 1.5]\n",
      " [5.7 2.6 3.5 1. ]\n",
      " [5.5 2.4 3.8 1.1]\n",
      " [5.5 2.4 3.7 1. ]\n",
      " [5.8 2.7 3.9 1.2]\n",
      " [6.  2.7 5.1 1.6]\n",
      " [5.4 3.  4.5 1.5]\n",
      " [6.  3.4 4.5 1.6]\n",
      " [6.7 3.1 4.7 1.5]\n",
      " [6.3 2.3 4.4 1.3]\n",
      " [5.6 3.  4.1 1.3]\n",
      " [5.5 2.5 4.  1.3]\n",
      " [5.5 2.6 4.4 1.2]\n",
      " [6.1 3.  4.6 1.4]\n",
      " [5.8 2.6 4.  1.2]\n",
      " [5.  2.3 3.3 1. ]\n",
      " [5.6 2.7 4.2 1.3]\n",
      " [5.7 3.  4.2 1.2]\n",
      " [5.7 2.9 4.2 1.3]\n",
      " [6.2 2.9 4.3 1.3]\n",
      " [5.1 2.5 3.  1.1]\n",
      " [5.7 2.8 4.1 1.3]\n",
      " [6.3 3.3 6.  2.5]\n",
      " [5.8 2.7 5.1 1.9]\n",
      " [7.1 3.  5.9 2.1]\n",
      " [6.3 2.9 5.6 1.8]\n",
      " [6.5 3.  5.8 2.2]\n",
      " [7.6 3.  6.6 2.1]\n",
      " [4.9 2.5 4.5 1.7]\n",
      " [7.3 2.9 6.3 1.8]\n",
      " [6.7 2.5 5.8 1.8]\n",
      " [7.2 3.6 6.1 2.5]\n",
      " [6.5 3.2 5.1 2. ]\n",
      " [6.4 2.7 5.3 1.9]\n",
      " [6.8 3.  5.5 2.1]\n",
      " [5.7 2.5 5.  2. ]\n",
      " [5.8 2.8 5.1 2.4]\n",
      " [6.4 3.2 5.3 2.3]\n",
      " [6.5 3.  5.5 1.8]\n",
      " [7.7 3.8 6.7 2.2]\n",
      " [7.7 2.6 6.9 2.3]\n",
      " [6.  2.2 5.  1.5]\n",
      " [6.9 3.2 5.7 2.3]\n",
      " [5.6 2.8 4.9 2. ]\n",
      " [7.7 2.8 6.7 2. ]\n",
      " [6.3 2.7 4.9 1.8]\n",
      " [6.7 3.3 5.7 2.1]\n",
      " [7.2 3.2 6.  1.8]\n",
      " [6.2 2.8 4.8 1.8]\n",
      " [6.1 3.  4.9 1.8]\n",
      " [6.4 2.8 5.6 2.1]\n",
      " [7.2 3.  5.8 1.6]\n",
      " [7.4 2.8 6.1 1.9]\n",
      " [7.9 3.8 6.4 2. ]\n",
      " [6.4 2.8 5.6 2.2]\n",
      " [6.3 2.8 5.1 1.5]\n",
      " [6.1 2.6 5.6 1.4]\n",
      " [7.7 3.  6.1 2.3]\n",
      " [6.3 3.4 5.6 2.4]\n",
      " [6.4 3.1 5.5 1.8]\n",
      " [6.  3.  4.8 1.8]\n",
      " [6.9 3.1 5.4 2.1]\n",
      " [6.7 3.1 5.6 2.4]\n",
      " [6.9 3.1 5.1 2.3]\n",
      " [5.8 2.7 5.1 1.9]\n",
      " [6.8 3.2 5.9 2.3]\n",
      " [6.7 3.3 5.7 2.5]\n",
      " [6.7 3.  5.2 2.3]\n",
      " [6.3 2.5 5.  1.9]\n",
      " [6.5 3.  5.2 2. ]\n",
      " [6.2 3.4 5.4 2.3]\n",
      " [5.9 3.  5.1 1.8]]\n"
     ]
    }
   ],
   "source": [
    "all_samples = iris.data\n",
    "print(all_samples)"
   ]
  },
  {
   "cell_type": "markdown",
   "metadata": {},
   "source": [
    "## 2. Compute d-dimensional mean vector\n",
    "The mean value sums up all n elements and divides by n.  \n",
    "$ {1\\over n} ({x_1}+{x_2}+..+{x_n}) $\n",
    "\n",
    "The python notation \"all_samples[:,0]\" translates to \"elements from all_samples in first column\". "
   ]
  },
  {
   "cell_type": "code",
   "execution_count": 52,
   "metadata": {},
   "outputs": [
    {
     "name": "stdout",
     "output_type": "stream",
     "text": [
      "[[5.84333333]\n",
      " [3.05733333]\n",
      " [3.758     ]]\n"
     ]
    }
   ],
   "source": [
    "mean_0 = np.mean(all_samples[:,0])\n",
    "mean_1 = np.mean(all_samples[:,1])\n",
    "mean_2 = np.mean(all_samples[:,2])\n",
    "#mean_3 = np.mean(all_samples[:,3])\n",
    "\n",
    "#mean_vector = np.array([[mean_0],[mean_1],[mean_2],[mean_3]])\n",
    "\n",
    "mean_vector = np.array([[mean_0],[mean_1],[mean_2]])\n",
    "\n",
    "\n",
    "print(mean_vector)"
   ]
  },
  {
   "cell_type": "code",
   "execution_count": 53,
   "metadata": {},
   "outputs": [],
   "source": [
    "all_samples_shift = all_samples[:,0:3]"
   ]
  },
  {
   "cell_type": "code",
   "execution_count": 54,
   "metadata": {},
   "outputs": [
    {
     "data": {
      "text/plain": [
       "(150, 4)"
      ]
     },
     "execution_count": 54,
     "metadata": {},
     "output_type": "execute_result"
    }
   ],
   "source": [
    "all_samples.shape"
   ]
  },
  {
   "cell_type": "code",
   "execution_count": 55,
   "metadata": {},
   "outputs": [
    {
     "data": {
      "text/plain": [
       "array([[-0.74333333,  0.44266667, -2.358     ]])"
      ]
     },
     "execution_count": 55,
     "metadata": {},
     "output_type": "execute_result"
    }
   ],
   "source": [
    "all_samples_shift[0,:]-mean_vector.T"
   ]
  },
  {
   "cell_type": "code",
   "execution_count": 56,
   "metadata": {},
   "outputs": [],
   "source": [
    "for i in range(1,all_samples.shape[0]):\n",
    "    all_samples_shift[i,:]=all_samples_shift[i,:] - mean_vector.T"
   ]
  },
  {
   "cell_type": "markdown",
   "metadata": {},
   "source": [
    "## 3. Compute covariance matrix\n",
    "\n"
   ]
  },
  {
   "cell_type": "code",
   "execution_count": 57,
   "metadata": {},
   "outputs": [
    {
     "name": "stdout",
     "output_type": "stream",
     "text": [
      "Covariance Matrix:\n",
      " [[ 0.8550212   0.07877371  1.30948876]\n",
      " [ 0.07877371  0.27046083 -0.29027912]\n",
      " [ 1.30948876 -0.29027912  3.0914838 ]]\n"
     ]
    }
   ],
   "source": [
    "## the longer form uses the mean_vector and the dot-product, we use a shortcut\n",
    "\n",
    "cov_mat = np.cov([all_samples_shift[:,0],all_samples_shift[:,1],all_samples_shift[:,2]])\n",
    "\n",
    "print('Covariance Matrix:\\n', cov_mat)"
   ]
  },
  {
   "cell_type": "markdown",
   "metadata": {},
   "source": [
    "## 4. Calculate eigenvectors and corresponding eigenvalues\n",
    "\n"
   ]
  },
  {
   "cell_type": "code",
   "execution_count": 58,
   "metadata": {},
   "outputs": [
    {
     "name": "stdout",
     "output_type": "stream",
     "text": [
      "eig_val_sc:\n",
      " [3.71073804 0.44576441 0.06046338] \n",
      "\n",
      "eig_vec_sc:\n",
      " [[-0.41434826 -0.66004952  0.62661803]\n",
      " [ 0.06709625 -0.7087817  -0.70222973]\n",
      " [-0.90764179  0.24892394 -0.33796931]] \n",
      "\n",
      "Eigenvector 1: \n",
      "[[-0.41434826]\n",
      " [ 0.06709625]\n",
      " [-0.90764179]]\n",
      "Eigenvalue 1 from covariance matrix: 3.7107380373916317\n",
      "----------------------------------------\n",
      "Eigenvector 2: \n",
      "[[-0.66004952]\n",
      " [-0.7087817 ]\n",
      " [ 0.24892394]]\n",
      "Eigenvalue 2 from covariance matrix: 0.4457644135932498\n",
      "----------------------------------------\n",
      "Eigenvector 3: \n",
      "[[ 0.62661803]\n",
      " [-0.70222973]\n",
      " [-0.33796931]]\n",
      "Eigenvalue 3 from covariance matrix: 0.0604633777001813\n",
      "----------------------------------------\n"
     ]
    }
   ],
   "source": [
    "# eigenvectors and eigenvalues from the covariance matrix\n",
    "\n",
    "eig_val_sc, eig_vec_sc = np.linalg.eig(cov_mat)\n",
    "print('eig_val_sc:\\n', eig_val_sc, '\\n')\n",
    "print('eig_vec_sc:\\n', eig_vec_sc, '\\n')\n",
    "\n",
    "# therefore the eigenvector matrix is seperated into several vectors\n",
    "for i in range(len(eig_val_sc)):\n",
    "    eigvec_sc = eig_vec_sc[:,i].reshape(1,3).T\n",
    "    \n",
    "    print('Eigenvector {}: \\n{}'.format(i+1, eigvec_sc))\n",
    "    print('Eigenvalue {} from covariance matrix: {}'.format(i+1, eig_val_sc[i]))\n",
    "    print(40 * '-')"
   ]
  },
  {
   "cell_type": "code",
   "execution_count": 15,
   "metadata": {},
   "outputs": [
    {
     "data": {
      "text/plain": [
       "-0.4143482577809275"
      ]
     },
     "execution_count": 15,
     "metadata": {},
     "output_type": "execute_result"
    }
   ],
   "source": [
    "eig_vec_sc[0,0]"
   ]
  },
  {
   "cell_type": "markdown",
   "metadata": {},
   "source": [
    "Visualizing eigenvectors"
   ]
  },
  {
   "cell_type": "markdown",
   "metadata": {},
   "source": [
    "## 5. Choose best eigenvectors\n",
    "\n"
   ]
  },
  {
   "cell_type": "code",
   "execution_count": 59,
   "metadata": {},
   "outputs": [
    {
     "name": "stdout",
     "output_type": "stream",
     "text": [
      "(3.7107380373916317, array([-0.41434826,  0.06709625, -0.90764179]))\n",
      "(0.4457644135932498, array([-0.66004952, -0.7087817 ,  0.24892394]))\n",
      "(0.0604633777001813, array([ 0.62661803, -0.70222973, -0.33796931]))\n"
     ]
    }
   ],
   "source": [
    "# Make a list of (eigenvalue, eigenvector) tuples\n",
    "eig_pairs = [(np.abs(eig_val_sc[i]), eig_vec_sc[:,i]) for i in range(len(eig_val_sc))]\n",
    "\n",
    "# Sort the (eigenvalue, eigenvector) tuples from high to low\n",
    "# lambda functions are pythons way of using anonymous functions\n",
    "# \"for all tuples x return the first element, the eigenvalue, and sort them descending (reverse = True)\" \n",
    "eig_pairs.sort(key=lambda x: x[0], reverse=True)\n",
    "\n",
    "# Visually confirm that the list is correctly sorted by decreasing eigenvalues\n",
    "for pair in eig_pairs:\n",
    "    print(pair)"
   ]
  },
  {
   "cell_type": "code",
   "execution_count": 60,
   "metadata": {},
   "outputs": [
    {
     "name": "stdout",
     "output_type": "stream",
     "text": [
      "Matrix W:\n",
      " [[-0.41434826 -0.66004952]\n",
      " [ 0.06709625 -0.7087817 ]\n",
      " [-0.90764179  0.24892394]]\n",
      "Transposed Matrix W:\n",
      " [[-0.41434826  0.06709625 -0.90764179]\n",
      " [-0.66004952 -0.7087817   0.24892394]]\n"
     ]
    }
   ],
   "source": [
    "## reducing from 3 to 2 dimensions, how many dimensions are still needed can be calculated with \"cumulative explained variance\"\n",
    "## eig_pairs[0][1] references the eigenvector from the first pair of (eigenvalue, eigenvector) \n",
    "matrix_w = np.hstack((eig_pairs[0][1].reshape(3,1), eig_pairs[1][1].reshape(3,1)))\n",
    "print('Matrix W:\\n', matrix_w)\n",
    "print('Transposed Matrix W:\\n', matrix_w.T)"
   ]
  },
  {
   "cell_type": "markdown",
   "metadata": {},
   "source": [
    "## 6. Project samples onto new subspace\n",
    "\n",
    "The dot-product of all_samples and the transposed matrix_w reduces the dimensions from 3 to 2. For more information see [numpy documentation](https://docs.scipy.org/doc/numpy-dev/reference/generated/numpy.dot.html)."
   ]
  },
  {
   "cell_type": "code",
   "execution_count": 61,
   "metadata": {},
   "outputs": [
    {
     "name": "stdout",
     "output_type": "stream",
     "text": [
      "[[-3.14903773 -5.49849499]\n",
      " [ 2.52724101  0.07632087]\n",
      " [ 2.71429409  0.04168204]\n",
      " [ 2.56749093  0.22834995]\n",
      " [ 2.52606393 -0.4149531 ]\n",
      " [ 2.10816097 -0.81693023]\n",
      " [ 2.67838398 -0.00917695]\n",
      " [ 2.4218805  -0.24830436]\n",
      " [ 2.72770551  0.4772238 ]\n",
      " [ 2.44318645  0.0303351 ]\n",
      " [ 2.27627008 -0.72495868]\n",
      " [ 2.41398598 -0.09140207]\n",
      " [ 2.56867583  0.14232583]\n",
      " [ 3.0481425   0.3976734 ]\n",
      " [ 2.40295218 -1.27629019]\n",
      " [ 2.19893297 -1.41912073]\n",
      " [ 2.47121768 -0.91649981]\n",
      " [ 2.47791948 -0.41007988]\n",
      " [ 1.97714687 -0.94406692]\n",
      " [ 2.40728418 -0.597822  ]\n",
      " [ 2.07461284 -0.46253938]\n",
      " [ 2.40057455 -0.52694383]\n",
      " [ 3.05485995 -0.25050287]\n",
      " [ 2.19220769 -0.19364636]\n",
      " [ 2.14169344 -0.01672488]\n",
      " [ 2.30427782  0.06010071]\n",
      " [ 2.33111632 -0.22341197]\n",
      " [ 2.34572048 -0.45119244]\n",
      " [ 2.42977503 -0.40520666]\n",
      " [ 2.44200155  0.11635923]\n",
      " [ 2.3938571   0.12123244]\n",
      " [ 2.2561412  -0.51232417]\n",
      " [ 2.38597823 -0.87646146]\n",
      " [ 2.35914755 -1.17024688]\n",
      " [ 2.44318645  0.0303351 ]\n",
      " [ 2.68075379 -0.18122521]\n",
      " [ 2.40294436 -0.69899208]\n",
      " [ 2.56749876 -0.34894815]\n",
      " [ 2.82517931  0.38145324]\n",
      " [ 2.38044568 -0.31430932]\n",
      " [ 2.61011849 -0.36896732]\n",
      " [ 2.73677711  0.81159548]\n",
      " [ 2.83859856  0.2396969 ]\n",
      " [ 2.33782595 -0.29429014]\n",
      " [ 2.04422746 -0.49825242]\n",
      " [ 2.56867583  0.14232583]\n",
      " [ 2.31652    -0.5729296 ]\n",
      " [ 2.66496473  0.13257939]\n",
      " [ 2.3177049  -0.65895373]\n",
      " [ 2.50593506 -0.20231859]\n",
      " [-1.32468898 -0.63009045]\n",
      " [-0.89455167 -0.28384552]\n",
      " [-1.47149214 -0.44342254]\n",
      " [-0.12820397  0.8236406 ]\n",
      " [-1.05358918 -0.0414454 ]\n",
      " [-0.63134639  0.46170182]\n",
      " [-1.02793558 -0.23893395]\n",
      " [ 0.76246386  0.97454539]\n",
      " [-1.08831438 -0.17832852]\n",
      " [ 0.11370318  0.71325039]\n",
      " [ 0.51266217  1.2418379 ]\n",
      " [-0.42850426  0.11325839]\n",
      " [-0.34208773  0.56449401]\n",
      " [-0.97190443  0.17658863]\n",
      " [ 0.23367567  0.23279705]\n",
      " [-0.93480159 -0.4358746 ]\n",
      " [-0.57649232  0.38595043]\n",
      " [-0.31643413  0.36700546]\n",
      " [-0.87877827  0.55694608]\n",
      " [-0.06545537  0.59098692]\n",
      " [-0.95967008  0.12085642]\n",
      " [-0.3432648   0.07322004]\n",
      " [-1.26314094  0.3778762 ]\n",
      " [-0.97861405  0.2474668 ]\n",
      " [-0.73315219 -0.1209958 ]\n",
      " [-0.90007639 -0.29899148]\n",
      " [-1.35942201 -0.18967547]\n",
      " [-1.48609629 -0.21564207]\n",
      " [-0.74894124  0.1928088 ]\n",
      " [ 0.26287615  0.35453422]\n",
      " [ 0.06003401  0.70297765]\n",
      " [ 0.15079819  0.67808525]\n",
      " [-0.13490577  0.31722067]\n",
      " [-1.30694557  0.4839195 ]\n",
      " [-0.49362266  0.51796034]\n",
      " [-0.71539312 -0.16158205]\n",
      " [-1.20709413 -0.36119742]\n",
      " [-0.82273929  0.39517056]\n",
      " [-0.2134356   0.28638086]\n",
      " [-0.11478472  0.68188426]\n",
      " [-0.47113181  0.71057567]\n",
      " [-0.87443062  0.08081807]\n",
      " [-0.23237957  0.41299124]\n",
      " [ 0.71431941  0.9794186 ]\n",
      " [-0.32432865  0.52390776]\n",
      " [-0.3456346   0.2452683 ]\n",
      " [-0.35234423  0.31614647]\n",
      " [-0.65028254  0.0110141 ]\n",
      " [ 0.95859637  0.69698013]\n",
      " [-0.26828968  0.36213224]\n",
      " [-2.2078699   0.08466717]\n",
      " [-1.22407592  0.61592941]\n",
      " [-2.4687132  -0.25563033]\n",
      " [-1.87165169  0.26861028]\n",
      " [-2.12934007  0.11550699]\n",
      " [-3.31123658 -0.41140833]\n",
      " [-0.31999666  1.20237595]\n",
      " [-2.9213492  -0.21719248]\n",
      " [-2.24575785  0.33788794]\n",
      " [-2.65141864 -0.69711951]\n",
      " [-1.48057157 -0.20049611]\n",
      " [-1.65421323  0.26968448]\n",
      " [-1.98135201 -0.15718505]\n",
      " [-1.10529616  0.7987983 ]\n",
      " [-1.21736629  0.54505124]\n",
      " [-1.6206651  -0.08470637]\n",
      " [-1.85704753  0.04082981]\n",
      " [-3.38975859 -1.01954625]\n",
      " [-3.65180245 -0.11922342]\n",
      " [-1.24972951  0.81341796]\n",
      " [-2.19089594 -0.31516155]\n",
      " [-0.95296828  0.62727635]\n",
      " [-3.45685484 -0.31076455]\n",
      " [-1.24972169  0.23611986]\n",
      " [-2.10131667 -0.25402982]\n",
      " [-2.58749296 -0.43849923]\n",
      " [-1.11081306  0.20635424]\n",
      " [-1.14672316  0.15549525]\n",
      " [-1.91979614  0.27348349]\n",
      " [-2.41938385 -0.34652767]\n",
      " [-2.78796529 -0.26210405]\n",
      " [-3.2003357  -1.22623333]\n",
      " [-1.91979614  0.27348349]\n",
      " [-1.42454042  0.21502648]\n",
      " [-1.80891091  0.61325469]\n",
      " [-2.89885052 -0.60187525]\n",
      " [-1.83810356 -0.08578057]\n",
      " [-1.80890308  0.03595659]\n",
      " [-1.01452415  0.19660781]\n",
      " [-1.92531303 -0.31896056]\n",
      " [-2.02397174 -0.13716587]\n",
      " [-1.6530205  -0.39363775]\n",
      " [-1.22407592  0.61592941]\n",
      " [-2.33098948 -0.19937181]\n",
      " [-2.10131667 -0.25402982]\n",
      " [-1.66762465 -0.16585728]\n",
      " [-1.35390512  0.40276859]\n",
      " [-1.584755   -0.03384737]\n",
      " [-1.61514038 -0.06956041]\n",
      " [-1.24538187  0.33728994]]\n"
     ]
    }
   ],
   "source": [
    "transformed = matrix_w.T.dot(all_samples_shift[:,0:3].T).T\n",
    "print(transformed)"
   ]
  },
  {
   "cell_type": "code",
   "execution_count": 62,
   "metadata": {},
   "outputs": [
    {
     "data": {
      "image/png": "[encoded data removed]",
      "text/plain": [
       "<Figure size 432x288 with 1 Axes>"
      ]
     },
     "metadata": {
      "needs_background": "light"
     },
     "output_type": "display_data"
    }
   ],
   "source": [
    "transformed_0 = transformed[iris.target==0]\n",
    "transformed_1 = transformed[iris.target==1]\n",
    "transformed_2 = transformed[iris.target==2]\n",
    "\n",
    "xmin = transformed[:,0].min()\n",
    "xmax = transformed[:,0].max()\n",
    "ymin = transformed[:,1].min()\n",
    "ymax = transformed[:,1].max()\n",
    "\n",
    "\n",
    "\n",
    "plt.plot(transformed_0[:,0], transformed_0[:,1], 'o', markersize=7, color='blue', alpha=0.5, label='class1')\n",
    "plt.plot(transformed_1[:,0], transformed_1[:,1], '^', markersize=7, color='red', alpha=0.5, label='class2')\n",
    "plt.plot(transformed_2[:,0], transformed_2[:,1], 'x', markersize=7, color='green', alpha=0.5, label='class3')\n",
    "\n",
    "plt.xlim([xmin,xmax])\n",
    "plt.ylim([ymin,ymax])\n",
    "plt.xlabel('x_values')\n",
    "plt.ylabel('y_values')\n",
    "plt.legend()\n",
    "plt.title('Transformed samples with class labels')\n",
    "\n",
    "plt.show()"
   ]
  },
  {
   "cell_type": "markdown",
   "metadata": {},
   "source": [
    "# Shortcut with scikit-learn"
   ]
  },
  {
   "cell_type": "code",
   "execution_count": 63,
   "metadata": {},
   "outputs": [
    {
     "data": {
      "image/png": "[encoded data removed]",
      "text/plain": [
       "<Figure size 432x288 with 1 Axes>"
      ]
     },
     "metadata": {
      "needs_background": "light"
     },
     "output_type": "display_data"
    }
   ],
   "source": [
    "from sklearn.decomposition import PCA as sklearnPCA\n",
    "\n",
    "# n_components specifies how many dimensions should be kept\n",
    "sklearn_pca = sklearnPCA(n_components=2)\n",
    "sklearn_transf = sklearn_pca.fit_transform(all_samples)\n",
    "\n",
    "sklearn_transf_0 = sklearn_transf[iris.target==0]\n",
    "sklearn_transf_1 = sklearn_transf[iris.target==1]\n",
    "sklearn_transf_2 = sklearn_transf[iris.target==2]\n",
    "\n",
    "xmin = sklearn_transf[:,0].min()\n",
    "xmax = sklearn_transf[:,0].max()\n",
    "ymin = sklearn_transf[:,1].min()\n",
    "ymax = sklearn_transf[:,1].max()\n",
    "\n",
    "\n",
    "\n",
    "plt.plot(sklearn_transf_0[:,0],sklearn_transf_0[:,1], 'o', markersize=7, color='blue', alpha=0.5, label='class1')\n",
    "plt.plot(sklearn_transf_1[:,0],sklearn_transf_1[:,1], '^', markersize=7, color='red', alpha=0.5, label='class2')\n",
    "plt.plot(sklearn_transf_2[:,0],sklearn_transf_2[:,1], 'x', markersize=7, color='green', alpha=0.5, label='class3')\n",
    "\n",
    "\n",
    "plt.xlabel('x_values')\n",
    "plt.ylabel('y_values')\n",
    "plt.xlim([xmin,xmax])\n",
    "plt.ylim([ymin,ymax])\n",
    "plt.legend()\n",
    "plt.title('Transformed samples with class labels from sklearn.decomposition.PCA()')\n",
    "\n",
    "plt.show()"
   ]
  },
  {
   "cell_type": "code",
   "execution_count": 21,
   "metadata": {},
   "outputs": [
    {
     "data": {
      "text/plain": [
       "array([[ 2.51143760e+00,  5.81523638e+00],\n",
       "       [-2.75176866e+00, -1.19826721e-01],\n",
       "       [-2.92668295e+00, -1.07021895e-01],\n",
       "       [-2.78727091e+00, -2.75978963e-01],\n",
       "       [-2.75439850e+00,  3.51778111e-01],\n",
       "       [-2.29658372e+00,  7.35992729e-01],\n",
       "       [-2.85788229e+00, -7.99405479e-02],\n",
       "       [-2.65552116e+00,  2.01100619e-01],\n",
       "       [-2.93508632e+00, -5.31619803e-01],\n",
       "       [-2.70825615e+00, -4.74194703e-02],\n",
       "       [-2.52377141e+00,  6.78180201e-01],\n",
       "       [-2.64623022e+00,  4.67732933e-02],\n",
       "       [-2.82482781e+00, -1.67012561e-01],\n",
       "       [-3.27090388e+00, -4.62330249e-01],\n",
       "       [-2.64800536e+00,  1.20462376e+00],\n",
       "       [-2.38705768e+00,  1.31126813e+00],\n",
       "       [-2.63789530e+00,  8.01811366e-01],\n",
       "       [-2.67456463e+00,  3.31852535e-01],\n",
       "       [-2.21079424e+00,  8.97440805e-01],\n",
       "       [-2.60956089e+00,  5.16732124e-01],\n",
       "       [-2.33279146e+00,  4.43936633e-01],\n",
       "       [-2.56774550e+00,  4.27870215e-01],\n",
       "       [-3.24778399e+00,  1.41851414e-01],\n",
       "       [-2.33495016e+00,  1.04764738e-01],\n",
       "       [-2.39024653e+00, -2.59068415e-03],\n",
       "       [-2.54309439e+00, -8.37997057e-02],\n",
       "       [-2.50011192e+00,  1.41144974e-01],\n",
       "       [-2.58625893e+00,  4.06084702e-01],\n",
       "       [-2.66481211e+00,  3.55427944e-01],\n",
       "       [-2.67069926e+00, -1.56385873e-01],\n",
       "       [-2.62590606e+00, -1.54560956e-01],\n",
       "       [-2.43336591e+00,  4.33344966e-01],\n",
       "       [-2.66194792e+00,  8.30503693e-01],\n",
       "       [-2.60495443e+00,  1.09912827e+00],\n",
       "       [-2.67321548e+00, -6.91699634e-02],\n",
       "       [-2.89795541e+00,  1.16241764e-01],\n",
       "       [-2.64285929e+00,  6.45803020e-01],\n",
       "       [-2.82745765e+00,  3.04592271e-01],\n",
       "       [-3.02718894e+00, -4.48053728e-01],\n",
       "       [-2.61750269e+00,  2.70036952e-01],\n",
       "       [-2.79791100e+00,  2.79370860e-01],\n",
       "       [-2.90670675e+00, -8.70647802e-01],\n",
       "       [-3.04073838e+00, -3.13830895e-01],\n",
       "       [-2.43680530e+00,  1.64755404e-01],\n",
       "       [-2.23320863e+00,  4.29162995e-01],\n",
       "       [-2.75474646e+00, -2.10513547e-01],\n",
       "       [-2.55927367e+00,  5.22027958e-01],\n",
       "       [-2.87937353e+00, -1.92412888e-01],\n",
       "       [-2.56178989e+00,  6.09243868e-01],\n",
       "       [-2.73407434e+00,  1.50443862e-01],\n",
       "       [ 1.26937856e+00,  6.58049441e-01],\n",
       "       [ 9.05652580e-01,  2.55590266e-01],\n",
       "       [ 1.44383127e+00,  4.67341880e-01],\n",
       "       [ 1.27737939e-01, -8.43065198e-01],\n",
       "       [ 1.05609783e+00,  3.96262751e-02],\n",
       "       [ 5.96540776e-01, -4.51908745e-01],\n",
       "       [ 1.06655585e+00,  1.99105538e-01],\n",
       "       [-8.09564932e-01, -1.00913769e+00],\n",
       "       [ 1.01726024e+00,  2.19175011e-01],\n",
       "       [-6.37035928e-02, -7.86724366e-01],\n",
       "       [-5.73791784e-01, -1.24155634e+00],\n",
       "       [ 4.73125947e-01, -1.73950255e-01],\n",
       "       [ 2.19483025e-01, -5.00243469e-01],\n",
       "       [ 9.47536428e-01, -1.63711807e-01],\n",
       "       [-2.16203486e-01, -3.05641730e-01],\n",
       "       [ 9.06114161e-01,  4.33493002e-01],\n",
       "       [ 6.15054205e-01, -4.30123232e-01],\n",
       "       [ 1.94900370e-01, -3.19013713e-01],\n",
       "       [ 8.97362822e-01, -5.53396564e-01],\n",
       "       [-3.20226437e-03, -5.79950386e-01],\n",
       "       [ 1.07666590e+00, -2.03706856e-01],\n",
       "       [ 3.21975202e-01, -9.38901167e-02],\n",
       "       [ 1.25636872e+00, -3.48944618e-01],\n",
       "       [ 8.84229803e-01, -1.87322238e-01],\n",
       "       [ 6.85239601e-01,  1.30666322e-01],\n",
       "       [ 8.74870403e-01,  2.97445252e-01],\n",
       "       [ 1.30576838e+00,  2.35276450e-01],\n",
       "       [ 1.52997828e+00,  2.02402151e-01],\n",
       "       [ 7.73902832e-01, -2.21489315e-01],\n",
       "       [-3.48310765e-01, -3.56333507e-01],\n",
       "       [-1.19773918e-01, -6.99543477e-01],\n",
       "       [-2.40142486e-01, -6.61338325e-01],\n",
       "       [ 9.43259224e-02, -3.29605380e-01],\n",
       "       [ 1.33446032e+00, -4.76190596e-01],\n",
       "       [ 5.39017252e-01, -5.67995898e-01],\n",
       "       [ 7.75069906e-01,  9.23172732e-02],\n",
       "       [ 1.19713852e+00,  3.62378531e-01],\n",
       "       [ 7.73197338e-01, -3.57393169e-01],\n",
       "       [ 2.03661275e-01, -3.20803609e-01],\n",
       "       [ 1.14188500e-01, -7.08842365e-01],\n",
       "       [ 4.13684693e-01, -6.85799092e-01],\n",
       "       [ 8.55433813e-01, -8.01457320e-02],\n",
       "       [ 1.86428538e-01, -4.13171456e-01],\n",
       "       [-7.64771735e-01, -1.00731277e+00],\n",
       "       [ 3.09313330e-01, -5.38592517e-01],\n",
       "       [ 2.91966976e-01, -2.46571442e-01],\n",
       "       [ 3.33782368e-01, -3.35433351e-01],\n",
       "       [ 6.09202648e-01, -7.20634457e-03],\n",
       "       [-9.61245714e-01, -7.76540120e-01],\n",
       "       [ 2.55229191e-01, -3.86090109e-01],\n",
       "       [ 2.49118455e+00, -2.10559469e-01],\n",
       "       [ 1.36354538e+00, -6.79314742e-01],\n",
       "       [ 2.59016594e+00,  2.43053580e-01],\n",
       "       [ 1.93168714e+00, -2.60933046e-01],\n",
       "       [ 2.31176785e+00, -1.75860254e-01],\n",
       "       [ 3.37755360e+00,  4.72552632e-01],\n",
       "       [ 4.52879811e-01, -1.29173563e+00],\n",
       "       [ 2.90916718e+00,  3.13247672e-01],\n",
       "       [ 2.28151572e+00, -2.86542697e-01],\n",
       "       [ 2.89835458e+00,  5.94747120e-01],\n",
       "       [ 1.63084180e+00,  1.17046179e-01],\n",
       "       [ 1.76231204e+00, -2.98606061e-01],\n",
       "       [ 2.13479892e+00,  1.02063217e-01],\n",
       "       [ 1.28878912e+00, -8.87769742e-01],\n",
       "       [ 1.53197403e+00, -7.20955791e-01],\n",
       "       [ 1.86860113e+00, -5.00509515e-02],\n",
       "       [ 1.91562148e+00, -3.94943038e-02],\n",
       "       [ 3.48174288e+00,  1.04017514e+00],\n",
       "       [ 3.76873598e+00,  1.80178336e-01],\n",
       "       [ 1.24796535e+00, -7.73542526e-01],\n",
       "       [ 2.40000510e+00,  2.28812078e-01],\n",
       "       [ 1.14511859e+00, -7.38917167e-01],\n",
       "       [ 3.47940873e+00,  4.12561966e-01],\n",
       "       [ 1.34794130e+00, -2.79973264e-01],\n",
       "       [ 2.24711208e+00,  2.01551814e-01],\n",
       "       [ 2.59484085e+00,  4.95009566e-01],\n",
       "       [ 1.21782021e+00, -2.65343522e-01],\n",
       "       [ 1.25158019e+00, -2.16511682e-01],\n",
       "       [ 2.08160235e+00, -3.24359608e-01],\n",
       "       [ 2.36765316e+00,  4.37197037e-01],\n",
       "       [ 2.81834525e+00,  3.26231414e-01],\n",
       "       [ 3.23171480e+00,  1.27091277e+00],\n",
       "       [ 2.11664302e+00, -3.46110101e-01],\n",
       "       [ 1.40670036e+00, -1.80519687e-01],\n",
       "       [ 1.73581165e+00, -5.13137989e-01],\n",
       "       [ 3.05901394e+00,  5.80261274e-01],\n",
       "       [ 2.10805757e+00, -5.58789226e-02],\n",
       "       [ 1.87082828e+00, -4.13192207e-02],\n",
       "       [ 1.12823382e+00, -2.68993356e-01],\n",
       "       [ 2.08071478e+00,  2.54565625e-01],\n",
       "       [ 2.28045564e+00,  1.85321612e-02],\n",
       "       [ 1.89481244e+00,  2.60428616e-01],\n",
       "       [ 1.36354538e+00, -6.79314742e-01],\n",
       "       [ 2.53264241e+00,  1.26966426e-01],\n",
       "       [ 2.38727477e+00,  1.14549842e-01],\n",
       "       [ 1.91087810e+00,  3.89898746e-02],\n",
       "       [ 1.48185931e+00, -4.52401249e-01],\n",
       "       [ 1.72971913e+00, -3.36313126e-02],\n",
       "       [ 1.86434263e+00, -7.01554444e-02],\n",
       "       [ 1.34619903e+00, -3.87293667e-01]])"
      ]
     },
     "execution_count": 21,
     "metadata": {},
     "output_type": "execute_result"
    }
   ],
   "source": [
    "sklearn_transf"
   ]
  },
  {
   "cell_type": "markdown",
   "metadata": {},
   "source": [
    "# Further Information\n",
    "\n",
    "* [Sebastian Raschka - Implementing a PCA](http://sebastianraschka.com/Articles/2014_pca_step_by_step.html)\n",
    "* [Sebastian Raschka - Principal Component Analysis in 3 simple steps](http://sebastianraschka.com/Articles/2015_pca_in_3_steps.html)\n",
    "* [sklearn - PCA documentation](http://scikit-learn.org/stable/modules/generated/sklearn.decomposition.PCA.html)\n",
    "* [sklearn - PCA user guide](http://scikit-learn.org/stable/modules/decomposition.html#pca)"
   ]
  },
  {
   "cell_type": "code",
   "execution_count": 22,
   "metadata": {},
   "outputs": [],
   "source": [
    "X=[12, 23, 34 ,44 ,59, 70 ,98]\n",
    "Y=[12 ,15 ,25 ,27 ,32, 88 ,99]\n",
    "Z=[15, 35 ,78, 82 ,90, 95 ,97]\n"
   ]
  },
  {
   "cell_type": "code",
   "execution_count": 26,
   "metadata": {},
   "outputs": [
    {
     "name": "stdout",
     "output_type": "stream",
     "text": [
      "Mean of X is 48.57142857142857\n",
      "Mean of Y is 42.57142857142857\n",
      "Mean of Z is 70.28571428571429\n"
     ]
    }
   ],
   "source": [
    "print('Mean of X is',np.mean(X))\n",
    "print('Mean of Y is',np.mean(Y))\n",
    "print('Mean of Z is',np.mean(Z))"
   ]
  },
  {
   "cell_type": "code",
   "execution_count": 27,
   "metadata": {},
   "outputs": [
    {
     "name": "stdout",
     "output_type": "stream",
     "text": [
      "Standard deviation of X is 27.348842455823785\n",
      "Standard deviation of Y is 32.96256379963334\n",
      "Standard deviation of Z is 29.788369186236267\n"
     ]
    }
   ],
   "source": [
    "print('Standard deviation of X is',np.std(X))\n",
    "print('Standard deviation of Y is',np.std(Y))\n",
    "print('Standard deviation of Z is',np.std(Z))"
   ]
  },
  {
   "cell_type": "code",
   "execution_count": 28,
   "metadata": {},
   "outputs": [
    {
     "name": "stdout",
     "output_type": "stream",
     "text": [
      "Variance of X is 747.9591836734695\n",
      "Variance of Y is 1086.530612244898\n",
      "Variance of Z is 887.3469387755102\n"
     ]
    }
   ],
   "source": [
    "print('Variance of X is',np.var(X))\n",
    "print('Variance of Y is',np.var(Y))\n",
    "print('Variance of Z is',np.var(Z))"
   ]
  },
  {
   "cell_type": "code",
   "execution_count": 29,
   "metadata": {},
   "outputs": [
    {
     "name": "stdout",
     "output_type": "stream",
     "text": [
      "Covariance of X and Y is [[ 872.61904762  967.11904762]\n",
      " [ 967.11904762 1267.61904762]]\n"
     ]
    }
   ],
   "source": [
    "print('Covariance of X and Y is', np.cov(X,Y))"
   ]
  },
  {
   "cell_type": "code",
   "execution_count": 30,
   "metadata": {},
   "outputs": [
    {
     "name": "stdout",
     "output_type": "stream",
     "text": [
      "Covariance of X and X is [[872.61904762 872.61904762]\n",
      " [872.61904762 872.61904762]]\n"
     ]
    }
   ],
   "source": [
    "print('Covariance of X and X is', np.cov(X,X))"
   ]
  },
  {
   "cell_type": "code",
   "execution_count": 38,
   "metadata": {},
   "outputs": [
    {
     "data": {
      "text/plain": [
       "array([[12, 23, 34, 44, 59, 70, 98],\n",
       "       [12, 15, 25, 27, 32, 88, 99],\n",
       "       [15, 35, 78, 82, 90, 95, 97]])"
      ]
     },
     "execution_count": 38,
     "metadata": {},
     "output_type": "execute_result"
    }
   ],
   "source": [
    "a = np.concatenate((X,Y,Z), axis=0).reshape((3,7))\n",
    "a"
   ]
  },
  {
   "cell_type": "code",
   "execution_count": 39,
   "metadata": {},
   "outputs": [
    {
     "data": {
      "text/plain": [
       "array([[ 872.61904762,  967.11904762,  802.30952381],\n",
       "       [ 967.11904762, 1267.61904762,  794.47619048],\n",
       "       [ 802.30952381,  794.47619048, 1035.23809524]])"
      ]
     },
     "execution_count": 39,
     "metadata": {},
     "output_type": "execute_result"
    }
   ],
   "source": [
    "np.cov(a)"
   ]
  },
  {
   "cell_type": "code",
   "execution_count": 40,
   "metadata": {},
   "outputs": [
    {
     "data": {
      "text/plain": [
       "[[0.4, 0, 0, 0],\n",
       " [0.01, 0.9, 0, 0],\n",
       " [0.2, 0, 0, 0],\n",
       " [0, 0, 0.2, 0.2],\n",
       " [0, 0.02, 0.3, 0.3]]"
      ]
     },
     "execution_count": 40,
     "metadata": {},
     "output_type": "execute_result"
    }
   ],
   "source": [
    "dt = [[0.4, 0, 0, 0], [0.01, 0.9, 0, 0], [0.2, 0,0,0], \n",
    "      [0, 0, 0.2,0.2], [0, 0.02, 0.3, 0.3]]\n",
    "dt"
   ]
  },
  {
   "cell_type": "code",
   "execution_count": 44,
   "metadata": {},
   "outputs": [
    {
     "name": "stdout",
     "output_type": "stream",
     "text": [
      "[0.68414541 0.17721679 0.1386378 ]\n",
      "0.9999999999999994\n",
      "[0.90036849 0.50977401 0.44717675]\n"
     ]
    }
   ],
   "source": [
    "from sklearn.decomposition import TruncatedSVD as sklearnSVD\n",
    "\n",
    "sklearn_svd = sklearnSVD(n_components=3)\n",
    "sklearn_transf = sklearn_svd.fit(dt)\n",
    "\n",
    "print(sklearn_svd.explained_variance_ratio_)\n",
    "print(sklearn_svd.explained_variance_ratio_.sum())\n",
    "print(sklearn_svd.singular_values_)"
   ]
  },
  {
   "cell_type": "code",
   "execution_count": null,
   "metadata": {},
   "outputs": [],
   "source": []
  }
 ],
 "metadata": {
  "kernelspec": {
   "display_name": "Python 3",
   "language": "python",
   "name": "python3"
  },
  "language_info": {
   "codemirror_mode": {
    "name": "ipython",
    "version": 3
   },
   "file_extension": ".py",
   "mimetype": "text/x-python",
   "name": "python",
   "nbconvert_exporter": "python",
   "pygments_lexer": "ipython3",
   "version": "3.7.3"
  }
 },
 "nbformat": 4,
 "nbformat_minor": 1
}
